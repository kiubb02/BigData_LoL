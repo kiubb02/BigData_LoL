{
 "cells": [
  {
   "cell_type": "markdown",
   "source": [
    "# How did the spreading of COVID-19 and the regulations in association with it influence the game market, in particular the game League of Legends, in terms of revenue, monthly player numbers, and popularity in Europe ?"
   ],
   "metadata": {
    "collapsed": false,
    "pycharm": {
     "name": "#%% md\n"
    }
   }
  },
  {
   "cell_type": "markdown",
   "source": [
    "As one knows, the spreading of the Coronavirus has lead most of the world into strong quarantine regulations. These regulations made everyone stay at home. Being made to stay at home, people started to take a bigger interest in finding new hobbies, experimenting new fields of interests and deepen there current hobbies.\n",
    "\n",
    "Since leaving your house was an issue, all of these hobbies had to be indoor, therefore one of the booming industries next to the at-home-sports industry was the gaming market. People started to invest more into video games and sharpen their skills. But how much was the gaming industry really impacted by these changes and during which time-period was the boom the strongest? Is it really true that thanks to COVID-19 the industry started rapidly growing again?"
   ],
   "metadata": {
    "collapsed": false,
    "pycharm": {
     "name": "#%% md\n"
    }
   }
  },
  {
   "cell_type": "markdown",
   "source": [
    "To find an answer to these questions we first had to collect COVID-19 data.\n",
    "The Data we decided to collect was the following:\n",
    "- Data of each month during the first COVID-19 caused quarantine\n",
    "- Number of infections per Month in correlation of population in each European country\n",
    "\n",
    "Therefore we had to find a Data Source , which is able to deliver that data to us. To do so we have researched several APIs, which can be of use. One of these APIs is Coronavirus COVID19 API (https://rapidapi.com/api-sports/api/covid-193).\n",
    "\n",
    "This API provides up-to-date data about Coronavirus outbreak. Including numbers about confirmed cases, deaths and recovered.\n",
    "\n",
    "Of course since COVID is a really recent topics there were other APIs to choose from as well, the problem with these were limited rate limits, country limitations (e.g.: only the US),"
   ],
   "metadata": {
    "collapsed": false,
    "pycharm": {
     "name": "#%% md\n"
    }
   }
  },
  {
   "cell_type": "markdown",
   "source": [
    "# Data Source\n",
    "\n",
    "To answer our question we have to collect data which in our case would be :\n",
    "- covid 19 data (europe centered) from an api\n",
    "- game data (count of players)\n",
    "- league of legends data\n",
    "\n",
    "These three main sources are here to visualize and help us understand if covid 19 had any influence on game popularity.\n",
    "\n",
    "## COVID-19 Data\n",
    "\n",
    "Before actually analyzing, visualizing, describing and working with the data we have to collect all the needed data.\n",
    "As previously mentioned we want the data of the first every quarantine, for which the main timespan went from March 2020 til Mai 2020.\n",
    "\n",
    "To get this Data we have to request it from our Coronavirus Tracker API. The results of these requests are going to be in json format, so we have to work with the json library as well."
   ],
   "metadata": {
    "collapsed": false,
    "pycharm": {
     "name": "#%% md\n"
    }
   }
  },
  {
   "cell_type": "code",
   "execution_count": 1,
   "outputs": [],
   "source": [
    "import pandas as pd\n",
    "import requests\n",
    "import json\n",
    "import datetime"
   ],
   "metadata": {
    "collapsed": false,
    "pycharm": {
     "name": "#%%\n"
    }
   }
  },
  {
   "cell_type": "markdown",
   "source": [
    "Since we want each country we are setting up a List, which contains all countries of europe."
   ],
   "metadata": {
    "collapsed": false,
    "pycharm": {
     "name": "#%% md\n"
    }
   }
  },
  {
   "cell_type": "code",
   "execution_count": 18,
   "outputs": [
    {
     "name": "stdout",
     "output_type": "stream",
     "text": [
      "Number of Countries: 50\n"
     ]
    }
   ],
   "source": [
    "# we need the country list\n",
    "# country list is parted in three seperate lists to keep the rate limit low\n",
    "europe_country_list = [\"Albania\", \"Andorra\", \"Armenia\", \"Austria\", \"Azerbaijan\", \"Belarus\", \"Belgium\", \"Bosnia and Herzegovina\", \"Bulgaria\", \"Croatia\", \"Cyprus\", \"Czech Republic\", \"Denmark\", \"Estonia\", \"Finland\", \"France\", \"Georgia\", \"Germany\", \"Greece\", \"Hungary\", \"Iceland\", \"Ireland\", \"Italy\", \"Kazakhstan\", \"Latvia\", \"Liechtenstein\", \"Lithuania\", \"Luxembourg\", \"Macedonia\", \"Malta\", \"Moldova\", \"Monaco\", \"Montenegro\", \"Netherlands\", \"Norway\", \"Poland\",\"Portugal\",\"Romania\", \"Russia\", \"San Marino\", \"Serbia\", \"Slovakia\", \"Slovenia\", \"Spain\", \"Sweden\", \"Switzerland\", \"Turkey\", \"Ukraine\",\"United Kingdom\", \"Vatican City\"]\n",
    "\n",
    "print(f\"Number of Countries: {len(europe_country_list)}\" )"
   ],
   "metadata": {
    "collapsed": false,
    "pycharm": {
     "name": "#%%\n"
    }
   }
  },
  {
   "cell_type": "markdown",
   "source": [
    "In the next step we use this list ot gather the information per month and for each country."
   ],
   "metadata": {
    "collapsed": false,
    "pycharm": {
     "name": "#%% md\n"
    }
   }
  },
  {
   "cell_type": "code",
   "execution_count": 19,
   "outputs": [],
   "source": [
    "url = \"https://covid-193.p.rapidapi.com/history\"\n",
    "\n",
    "headers = {\n",
    "\t\"X-RapidAPI-Key\": \"ba735a5542msh0672a6a248c9225p1ba64djsnfd32c8982360\",\n",
    "\t\"X-RapidAPI-Host\": \"covid-193.p.rapidapi.com\"\n",
    "}\n"
   ],
   "metadata": {
    "collapsed": false,
    "pycharm": {
     "name": "#%%\n"
    }
   }
  },
  {
   "cell_type": "markdown",
   "source": [
    "### March Data"
   ],
   "metadata": {
    "collapsed": false,
    "pycharm": {
     "name": "#%% md\n"
    }
   }
  },
  {
   "cell_type": "code",
   "execution_count": 20,
   "outputs": [
    {
     "ename": "KeyboardInterrupt",
     "evalue": "",
     "output_type": "error",
     "traceback": [
      "\u001B[1;31m---------------------------------------------------------------------------\u001B[0m",
      "\u001B[1;31mTimeoutError\u001B[0m                              Traceback (most recent call last)",
      "\u001B[1;32mc:\\users\\chiar\\appdata\\local\\programs\\python\\python38-32\\lib\\site-packages\\urllib3\\util\\connection.py\u001B[0m in \u001B[0;36mcreate_connection\u001B[1;34m(address, timeout, source_address, socket_options)\u001B[0m\n\u001B[0;32m     85\u001B[0m                 \u001B[0msock\u001B[0m\u001B[1;33m.\u001B[0m\u001B[0mbind\u001B[0m\u001B[1;33m(\u001B[0m\u001B[0msource_address\u001B[0m\u001B[1;33m)\u001B[0m\u001B[1;33m\u001B[0m\u001B[1;33m\u001B[0m\u001B[0m\n\u001B[1;32m---> 86\u001B[1;33m             \u001B[0msock\u001B[0m\u001B[1;33m.\u001B[0m\u001B[0mconnect\u001B[0m\u001B[1;33m(\u001B[0m\u001B[0msa\u001B[0m\u001B[1;33m)\u001B[0m\u001B[1;33m\u001B[0m\u001B[1;33m\u001B[0m\u001B[0m\n\u001B[0m\u001B[0;32m     87\u001B[0m             \u001B[1;32mreturn\u001B[0m \u001B[0msock\u001B[0m\u001B[1;33m\u001B[0m\u001B[1;33m\u001B[0m\u001B[0m\n",
      "\u001B[1;31mTimeoutError\u001B[0m: [WinError 10060] Ein Verbindungsversuch ist fehlgeschlagen, da die Gegenstelle nach einer bestimmten Zeitspanne nicht richtig reagiert hat, oder die hergestellte Verbindung war fehlerhaft, da der verbundene Host nicht reagiert hat",
      "\nDuring handling of the above exception, another exception occurred:\n",
      "\u001B[1;31mKeyboardInterrupt\u001B[0m                         Traceback (most recent call last)",
      "\u001B[1;32m<ipython-input-20-3974def270a0>\u001B[0m in \u001B[0;36m<module>\u001B[1;34m\u001B[0m\n\u001B[0;32m      9\u001B[0m     \u001B[1;32mwhile\u001B[0m \u001B[0mstart_date\u001B[0m \u001B[1;33m<=\u001B[0m \u001B[0mend_date\u001B[0m\u001B[1;33m:\u001B[0m\u001B[1;33m\u001B[0m\u001B[1;33m\u001B[0m\u001B[0m\n\u001B[0;32m     10\u001B[0m         \u001B[0mquerystring\u001B[0m \u001B[1;33m=\u001B[0m \u001B[1;33m{\u001B[0m\u001B[1;34m\"country\"\u001B[0m\u001B[1;33m:\u001B[0m\u001B[1;34mf\"{country}\"\u001B[0m\u001B[1;33m,\u001B[0m\u001B[1;34m\"day\"\u001B[0m\u001B[1;33m:\u001B[0m\u001B[1;34mf\"{start_date}\"\u001B[0m\u001B[1;33m}\u001B[0m\u001B[1;33m\u001B[0m\u001B[1;33m\u001B[0m\u001B[0m\n\u001B[1;32m---> 11\u001B[1;33m         \u001B[0mresult\u001B[0m \u001B[1;33m=\u001B[0m \u001B[0mrequests\u001B[0m\u001B[1;33m.\u001B[0m\u001B[0mrequest\u001B[0m\u001B[1;33m(\u001B[0m\u001B[1;34m\"GET\"\u001B[0m\u001B[1;33m,\u001B[0m \u001B[0murl\u001B[0m\u001B[1;33m,\u001B[0m \u001B[0mheaders\u001B[0m\u001B[1;33m=\u001B[0m\u001B[0mheaders\u001B[0m\u001B[1;33m,\u001B[0m \u001B[0mparams\u001B[0m\u001B[1;33m=\u001B[0m\u001B[0mquerystring\u001B[0m\u001B[1;33m)\u001B[0m\u001B[1;33m\u001B[0m\u001B[1;33m\u001B[0m\u001B[0m\n\u001B[0m\u001B[0;32m     12\u001B[0m         \u001B[0mcountry_json\u001B[0m \u001B[1;33m=\u001B[0m \u001B[0mresult\u001B[0m\u001B[1;33m.\u001B[0m\u001B[0mjson\u001B[0m\u001B[1;33m(\u001B[0m\u001B[1;33m)\u001B[0m\u001B[1;33m\u001B[0m\u001B[1;33m\u001B[0m\u001B[0m\n\u001B[0;32m     13\u001B[0m         \u001B[1;31m# put it into the countries json\u001B[0m\u001B[1;33m\u001B[0m\u001B[1;33m\u001B[0m\u001B[1;33m\u001B[0m\u001B[0m\n",
      "\u001B[1;32mc:\\users\\chiar\\appdata\\local\\programs\\python\\python38-32\\lib\\site-packages\\requests\\api.py\u001B[0m in \u001B[0;36mrequest\u001B[1;34m(method, url, **kwargs)\u001B[0m\n\u001B[0;32m     59\u001B[0m     \u001B[1;31m# cases, and look like a memory leak in others.\u001B[0m\u001B[1;33m\u001B[0m\u001B[1;33m\u001B[0m\u001B[1;33m\u001B[0m\u001B[0m\n\u001B[0;32m     60\u001B[0m     \u001B[1;32mwith\u001B[0m \u001B[0msessions\u001B[0m\u001B[1;33m.\u001B[0m\u001B[0mSession\u001B[0m\u001B[1;33m(\u001B[0m\u001B[1;33m)\u001B[0m \u001B[1;32mas\u001B[0m \u001B[0msession\u001B[0m\u001B[1;33m:\u001B[0m\u001B[1;33m\u001B[0m\u001B[1;33m\u001B[0m\u001B[0m\n\u001B[1;32m---> 61\u001B[1;33m         \u001B[1;32mreturn\u001B[0m \u001B[0msession\u001B[0m\u001B[1;33m.\u001B[0m\u001B[0mrequest\u001B[0m\u001B[1;33m(\u001B[0m\u001B[0mmethod\u001B[0m\u001B[1;33m=\u001B[0m\u001B[0mmethod\u001B[0m\u001B[1;33m,\u001B[0m \u001B[0murl\u001B[0m\u001B[1;33m=\u001B[0m\u001B[0murl\u001B[0m\u001B[1;33m,\u001B[0m \u001B[1;33m**\u001B[0m\u001B[0mkwargs\u001B[0m\u001B[1;33m)\u001B[0m\u001B[1;33m\u001B[0m\u001B[1;33m\u001B[0m\u001B[0m\n\u001B[0m\u001B[0;32m     62\u001B[0m \u001B[1;33m\u001B[0m\u001B[0m\n\u001B[0;32m     63\u001B[0m \u001B[1;33m\u001B[0m\u001B[0m\n",
      "\u001B[1;32mc:\\users\\chiar\\appdata\\local\\programs\\python\\python38-32\\lib\\site-packages\\requests\\sessions.py\u001B[0m in \u001B[0;36mrequest\u001B[1;34m(self, method, url, params, data, headers, cookies, files, auth, timeout, allow_redirects, proxies, hooks, stream, verify, cert, json)\u001B[0m\n\u001B[0;32m    540\u001B[0m         }\n\u001B[0;32m    541\u001B[0m         \u001B[0msend_kwargs\u001B[0m\u001B[1;33m.\u001B[0m\u001B[0mupdate\u001B[0m\u001B[1;33m(\u001B[0m\u001B[0msettings\u001B[0m\u001B[1;33m)\u001B[0m\u001B[1;33m\u001B[0m\u001B[1;33m\u001B[0m\u001B[0m\n\u001B[1;32m--> 542\u001B[1;33m         \u001B[0mresp\u001B[0m \u001B[1;33m=\u001B[0m \u001B[0mself\u001B[0m\u001B[1;33m.\u001B[0m\u001B[0msend\u001B[0m\u001B[1;33m(\u001B[0m\u001B[0mprep\u001B[0m\u001B[1;33m,\u001B[0m \u001B[1;33m**\u001B[0m\u001B[0msend_kwargs\u001B[0m\u001B[1;33m)\u001B[0m\u001B[1;33m\u001B[0m\u001B[1;33m\u001B[0m\u001B[0m\n\u001B[0m\u001B[0;32m    543\u001B[0m \u001B[1;33m\u001B[0m\u001B[0m\n\u001B[0;32m    544\u001B[0m         \u001B[1;32mreturn\u001B[0m \u001B[0mresp\u001B[0m\u001B[1;33m\u001B[0m\u001B[1;33m\u001B[0m\u001B[0m\n",
      "\u001B[1;32mc:\\users\\chiar\\appdata\\local\\programs\\python\\python38-32\\lib\\site-packages\\requests\\sessions.py\u001B[0m in \u001B[0;36msend\u001B[1;34m(self, request, **kwargs)\u001B[0m\n\u001B[0;32m    653\u001B[0m \u001B[1;33m\u001B[0m\u001B[0m\n\u001B[0;32m    654\u001B[0m         \u001B[1;31m# Send the request\u001B[0m\u001B[1;33m\u001B[0m\u001B[1;33m\u001B[0m\u001B[1;33m\u001B[0m\u001B[0m\n\u001B[1;32m--> 655\u001B[1;33m         \u001B[0mr\u001B[0m \u001B[1;33m=\u001B[0m \u001B[0madapter\u001B[0m\u001B[1;33m.\u001B[0m\u001B[0msend\u001B[0m\u001B[1;33m(\u001B[0m\u001B[0mrequest\u001B[0m\u001B[1;33m,\u001B[0m \u001B[1;33m**\u001B[0m\u001B[0mkwargs\u001B[0m\u001B[1;33m)\u001B[0m\u001B[1;33m\u001B[0m\u001B[1;33m\u001B[0m\u001B[0m\n\u001B[0m\u001B[0;32m    656\u001B[0m \u001B[1;33m\u001B[0m\u001B[0m\n\u001B[0;32m    657\u001B[0m         \u001B[1;31m# Total elapsed time of the request (approximately)\u001B[0m\u001B[1;33m\u001B[0m\u001B[1;33m\u001B[0m\u001B[1;33m\u001B[0m\u001B[0m\n",
      "\u001B[1;32mc:\\users\\chiar\\appdata\\local\\programs\\python\\python38-32\\lib\\site-packages\\requests\\adapters.py\u001B[0m in \u001B[0;36msend\u001B[1;34m(self, request, stream, timeout, verify, cert, proxies)\u001B[0m\n\u001B[0;32m    437\u001B[0m         \u001B[1;32mtry\u001B[0m\u001B[1;33m:\u001B[0m\u001B[1;33m\u001B[0m\u001B[1;33m\u001B[0m\u001B[0m\n\u001B[0;32m    438\u001B[0m             \u001B[1;32mif\u001B[0m \u001B[1;32mnot\u001B[0m \u001B[0mchunked\u001B[0m\u001B[1;33m:\u001B[0m\u001B[1;33m\u001B[0m\u001B[1;33m\u001B[0m\u001B[0m\n\u001B[1;32m--> 439\u001B[1;33m                 resp = conn.urlopen(\n\u001B[0m\u001B[0;32m    440\u001B[0m                     \u001B[0mmethod\u001B[0m\u001B[1;33m=\u001B[0m\u001B[0mrequest\u001B[0m\u001B[1;33m.\u001B[0m\u001B[0mmethod\u001B[0m\u001B[1;33m,\u001B[0m\u001B[1;33m\u001B[0m\u001B[1;33m\u001B[0m\u001B[0m\n\u001B[0;32m    441\u001B[0m                     \u001B[0murl\u001B[0m\u001B[1;33m=\u001B[0m\u001B[0murl\u001B[0m\u001B[1;33m,\u001B[0m\u001B[1;33m\u001B[0m\u001B[1;33m\u001B[0m\u001B[0m\n",
      "\u001B[1;32mc:\\users\\chiar\\appdata\\local\\programs\\python\\python38-32\\lib\\site-packages\\urllib3\\connectionpool.py\u001B[0m in \u001B[0;36murlopen\u001B[1;34m(self, method, url, body, headers, retries, redirect, assert_same_host, timeout, pool_timeout, release_conn, chunked, body_pos, **response_kw)\u001B[0m\n\u001B[0;32m    697\u001B[0m \u001B[1;33m\u001B[0m\u001B[0m\n\u001B[0;32m    698\u001B[0m             \u001B[1;31m# Make the request on the httplib connection object.\u001B[0m\u001B[1;33m\u001B[0m\u001B[1;33m\u001B[0m\u001B[1;33m\u001B[0m\u001B[0m\n\u001B[1;32m--> 699\u001B[1;33m             httplib_response = self._make_request(\n\u001B[0m\u001B[0;32m    700\u001B[0m                 \u001B[0mconn\u001B[0m\u001B[1;33m,\u001B[0m\u001B[1;33m\u001B[0m\u001B[1;33m\u001B[0m\u001B[0m\n\u001B[0;32m    701\u001B[0m                 \u001B[0mmethod\u001B[0m\u001B[1;33m,\u001B[0m\u001B[1;33m\u001B[0m\u001B[1;33m\u001B[0m\u001B[0m\n",
      "\u001B[1;32mc:\\users\\chiar\\appdata\\local\\programs\\python\\python38-32\\lib\\site-packages\\urllib3\\connectionpool.py\u001B[0m in \u001B[0;36m_make_request\u001B[1;34m(self, conn, method, url, timeout, chunked, **httplib_request_kw)\u001B[0m\n\u001B[0;32m    380\u001B[0m         \u001B[1;31m# Trigger any extra validation we need to do.\u001B[0m\u001B[1;33m\u001B[0m\u001B[1;33m\u001B[0m\u001B[1;33m\u001B[0m\u001B[0m\n\u001B[0;32m    381\u001B[0m         \u001B[1;32mtry\u001B[0m\u001B[1;33m:\u001B[0m\u001B[1;33m\u001B[0m\u001B[1;33m\u001B[0m\u001B[0m\n\u001B[1;32m--> 382\u001B[1;33m             \u001B[0mself\u001B[0m\u001B[1;33m.\u001B[0m\u001B[0m_validate_conn\u001B[0m\u001B[1;33m(\u001B[0m\u001B[0mconn\u001B[0m\u001B[1;33m)\u001B[0m\u001B[1;33m\u001B[0m\u001B[1;33m\u001B[0m\u001B[0m\n\u001B[0m\u001B[0;32m    383\u001B[0m         \u001B[1;32mexcept\u001B[0m \u001B[1;33m(\u001B[0m\u001B[0mSocketTimeout\u001B[0m\u001B[1;33m,\u001B[0m \u001B[0mBaseSSLError\u001B[0m\u001B[1;33m)\u001B[0m \u001B[1;32mas\u001B[0m \u001B[0me\u001B[0m\u001B[1;33m:\u001B[0m\u001B[1;33m\u001B[0m\u001B[1;33m\u001B[0m\u001B[0m\n\u001B[0;32m    384\u001B[0m             \u001B[1;31m# Py2 raises this as a BaseSSLError, Py3 raises it as socket timeout.\u001B[0m\u001B[1;33m\u001B[0m\u001B[1;33m\u001B[0m\u001B[1;33m\u001B[0m\u001B[0m\n",
      "\u001B[1;32mc:\\users\\chiar\\appdata\\local\\programs\\python\\python38-32\\lib\\site-packages\\urllib3\\connectionpool.py\u001B[0m in \u001B[0;36m_validate_conn\u001B[1;34m(self, conn)\u001B[0m\n\u001B[0;32m   1008\u001B[0m         \u001B[1;31m# Force connect early to allow us to validate the connection.\u001B[0m\u001B[1;33m\u001B[0m\u001B[1;33m\u001B[0m\u001B[1;33m\u001B[0m\u001B[0m\n\u001B[0;32m   1009\u001B[0m         \u001B[1;32mif\u001B[0m \u001B[1;32mnot\u001B[0m \u001B[0mgetattr\u001B[0m\u001B[1;33m(\u001B[0m\u001B[0mconn\u001B[0m\u001B[1;33m,\u001B[0m \u001B[1;34m\"sock\"\u001B[0m\u001B[1;33m,\u001B[0m \u001B[1;32mNone\u001B[0m\u001B[1;33m)\u001B[0m\u001B[1;33m:\u001B[0m  \u001B[1;31m# AppEngine might not have  `.sock`\u001B[0m\u001B[1;33m\u001B[0m\u001B[1;33m\u001B[0m\u001B[0m\n\u001B[1;32m-> 1010\u001B[1;33m             \u001B[0mconn\u001B[0m\u001B[1;33m.\u001B[0m\u001B[0mconnect\u001B[0m\u001B[1;33m(\u001B[0m\u001B[1;33m)\u001B[0m\u001B[1;33m\u001B[0m\u001B[1;33m\u001B[0m\u001B[0m\n\u001B[0m\u001B[0;32m   1011\u001B[0m \u001B[1;33m\u001B[0m\u001B[0m\n\u001B[0;32m   1012\u001B[0m         \u001B[1;32mif\u001B[0m \u001B[1;32mnot\u001B[0m \u001B[0mconn\u001B[0m\u001B[1;33m.\u001B[0m\u001B[0mis_verified\u001B[0m\u001B[1;33m:\u001B[0m\u001B[1;33m\u001B[0m\u001B[1;33m\u001B[0m\u001B[0m\n",
      "\u001B[1;32mc:\\users\\chiar\\appdata\\local\\programs\\python\\python38-32\\lib\\site-packages\\urllib3\\connection.py\u001B[0m in \u001B[0;36mconnect\u001B[1;34m(self)\u001B[0m\n\u001B[0;32m    351\u001B[0m     \u001B[1;32mdef\u001B[0m \u001B[0mconnect\u001B[0m\u001B[1;33m(\u001B[0m\u001B[0mself\u001B[0m\u001B[1;33m)\u001B[0m\u001B[1;33m:\u001B[0m\u001B[1;33m\u001B[0m\u001B[1;33m\u001B[0m\u001B[0m\n\u001B[0;32m    352\u001B[0m         \u001B[1;31m# Add certificate verification\u001B[0m\u001B[1;33m\u001B[0m\u001B[1;33m\u001B[0m\u001B[1;33m\u001B[0m\u001B[0m\n\u001B[1;32m--> 353\u001B[1;33m         \u001B[0mconn\u001B[0m \u001B[1;33m=\u001B[0m \u001B[0mself\u001B[0m\u001B[1;33m.\u001B[0m\u001B[0m_new_conn\u001B[0m\u001B[1;33m(\u001B[0m\u001B[1;33m)\u001B[0m\u001B[1;33m\u001B[0m\u001B[1;33m\u001B[0m\u001B[0m\n\u001B[0m\u001B[0;32m    354\u001B[0m         \u001B[0mhostname\u001B[0m \u001B[1;33m=\u001B[0m \u001B[0mself\u001B[0m\u001B[1;33m.\u001B[0m\u001B[0mhost\u001B[0m\u001B[1;33m\u001B[0m\u001B[1;33m\u001B[0m\u001B[0m\n\u001B[0;32m    355\u001B[0m         \u001B[0mtls_in_tls\u001B[0m \u001B[1;33m=\u001B[0m \u001B[1;32mFalse\u001B[0m\u001B[1;33m\u001B[0m\u001B[1;33m\u001B[0m\u001B[0m\n",
      "\u001B[1;32mc:\\users\\chiar\\appdata\\local\\programs\\python\\python38-32\\lib\\site-packages\\urllib3\\connection.py\u001B[0m in \u001B[0;36m_new_conn\u001B[1;34m(self)\u001B[0m\n\u001B[0;32m    167\u001B[0m \u001B[1;33m\u001B[0m\u001B[0m\n\u001B[0;32m    168\u001B[0m         \u001B[1;32mtry\u001B[0m\u001B[1;33m:\u001B[0m\u001B[1;33m\u001B[0m\u001B[1;33m\u001B[0m\u001B[0m\n\u001B[1;32m--> 169\u001B[1;33m             conn = connection.create_connection(\n\u001B[0m\u001B[0;32m    170\u001B[0m                 \u001B[1;33m(\u001B[0m\u001B[0mself\u001B[0m\u001B[1;33m.\u001B[0m\u001B[0m_dns_host\u001B[0m\u001B[1;33m,\u001B[0m \u001B[0mself\u001B[0m\u001B[1;33m.\u001B[0m\u001B[0mport\u001B[0m\u001B[1;33m)\u001B[0m\u001B[1;33m,\u001B[0m \u001B[0mself\u001B[0m\u001B[1;33m.\u001B[0m\u001B[0mtimeout\u001B[0m\u001B[1;33m,\u001B[0m \u001B[1;33m**\u001B[0m\u001B[0mextra_kw\u001B[0m\u001B[1;33m\u001B[0m\u001B[1;33m\u001B[0m\u001B[0m\n\u001B[0;32m    171\u001B[0m             )\n",
      "\u001B[1;32mc:\\users\\chiar\\appdata\\local\\programs\\python\\python38-32\\lib\\site-packages\\urllib3\\util\\connection.py\u001B[0m in \u001B[0;36mcreate_connection\u001B[1;34m(address, timeout, source_address, socket_options)\u001B[0m\n\u001B[0;32m     84\u001B[0m             \u001B[1;32mif\u001B[0m \u001B[0msource_address\u001B[0m\u001B[1;33m:\u001B[0m\u001B[1;33m\u001B[0m\u001B[1;33m\u001B[0m\u001B[0m\n\u001B[0;32m     85\u001B[0m                 \u001B[0msock\u001B[0m\u001B[1;33m.\u001B[0m\u001B[0mbind\u001B[0m\u001B[1;33m(\u001B[0m\u001B[0msource_address\u001B[0m\u001B[1;33m)\u001B[0m\u001B[1;33m\u001B[0m\u001B[1;33m\u001B[0m\u001B[0m\n\u001B[1;32m---> 86\u001B[1;33m             \u001B[0msock\u001B[0m\u001B[1;33m.\u001B[0m\u001B[0mconnect\u001B[0m\u001B[1;33m(\u001B[0m\u001B[0msa\u001B[0m\u001B[1;33m)\u001B[0m\u001B[1;33m\u001B[0m\u001B[1;33m\u001B[0m\u001B[0m\n\u001B[0m\u001B[0;32m     87\u001B[0m             \u001B[1;32mreturn\u001B[0m \u001B[0msock\u001B[0m\u001B[1;33m\u001B[0m\u001B[1;33m\u001B[0m\u001B[0m\n\u001B[0;32m     88\u001B[0m \u001B[1;33m\u001B[0m\u001B[0m\n",
      "\u001B[1;31mKeyboardInterrupt\u001B[0m: "
     ]
    }
   ],
   "source": [
    "# collect the results for each country in that specific timeframe\n",
    "# march\n",
    "start_date = datetime.date(2020, 3, 1)\n",
    "end_date = datetime.date(2020, 4, 1)\n",
    "delta = datetime.timedelta(days=1)\n",
    "\n",
    "for country in europe_country_list:\n",
    "    j = []\n",
    "    while start_date <= end_date:\n",
    "        querystring = {\"country\":f\"{country}\",\"day\":f\"{start_date}\"}\n",
    "        result = requests.request(\"GET\", url, headers=headers, params=querystring)\n",
    "        country_json = result.json()\n",
    "        # put it into the countries json\n",
    "        j.append(country_json)\n",
    "        start_date += delta\n",
    "    # save the json\n",
    "    with open(f\"covid_data/api_data/march/{country}_march.json\", \"w\") as jsonfile:\n",
    "        json.dump(j, jsonfile)\n",
    "    # set start date again\n",
    "    start_date = datetime.date(2020, 3, 1)"
   ],
   "metadata": {
    "collapsed": false,
    "pycharm": {
     "name": "#%%\n"
    }
   }
  },
  {
   "cell_type": "markdown",
   "source": [
    "### April Data"
   ],
   "metadata": {
    "collapsed": false,
    "pycharm": {
     "name": "#%% md\n"
    }
   }
  },
  {
   "cell_type": "code",
   "execution_count": null,
   "outputs": [],
   "source": [
    "# april\n",
    "start_date = datetime.date(2020, 4, 1)\n",
    "end_date = datetime.date(2020, 5, 1)\n",
    "delta = datetime.timedelta(days=1)\n",
    "\n",
    "for country in europe_country_list:\n",
    "    j = []\n",
    "    while start_date <= end_date:\n",
    "        querystring = {\"country\":f\"{country}\",\"day\":f\"{start_date}\"}\n",
    "        result = requests.request(\"GET\", url, headers=headers, params=querystring)\n",
    "        country_json = result.json()\n",
    "        # put it into the countries json\n",
    "        j.append(country_json)\n",
    "        start_date += delta\n",
    "    # save the json\n",
    "    with open(f\"covid_data/api_data/april/{country}_april.json\", \"w\") as jsonfile:\n",
    "        json.dump(j, jsonfile)\n",
    "    start_date = datetime.date(2020, 4, 1)"
   ],
   "metadata": {
    "collapsed": false,
    "pycharm": {
     "name": "#%%\n"
    }
   }
  },
  {
   "cell_type": "markdown",
   "source": [
    "### Mai Data"
   ],
   "metadata": {
    "collapsed": false,
    "pycharm": {
     "name": "#%% md\n"
    }
   }
  },
  {
   "cell_type": "code",
   "execution_count": null,
   "outputs": [],
   "source": [
    "# mai\n",
    "start_date = datetime.date(2020, 5, 1)\n",
    "end_date = datetime.date(2020, 6, 1)\n",
    "delta = datetime.timedelta(days=1)\n",
    "\n",
    "for country in europe_country_list:\n",
    "    j = []\n",
    "    while start_date <= end_date:\n",
    "        querystring = {\"country\":f\"{country}\",\"day\":f\"{start_date}\"}\n",
    "        result = requests.request(\"GET\", url, headers=headers, params=querystring)\n",
    "        country_json = result.json()\n",
    "        # put it into the countries json\n",
    "        j.append(country_json)\n",
    "        start_date += delta\n",
    "    # save the json\n",
    "    with open(f\"covid_data/api_data/mai/{country}_mai.json\", \"w\") as jsonfile:\n",
    "        json.dump(j, jsonfile)\n",
    "    start_date = datetime.date(2020, 5, 1)"
   ],
   "metadata": {
    "collapsed": false,
    "pycharm": {
     "name": "#%%\n"
    }
   }
  },
  {
   "cell_type": "markdown",
   "source": [
    "Now that all the data has been collected we should also take a look upon what exactly has been collected and what the data consists of. For each country in our Europe List we collected the *History* of each country. When collecting the history one gets the following data for each date passed:\n",
    "- day\n",
    "- number of results\n",
    "- response : continent, country, population, cases, deaths, tests\n",
    "\n",
    "We are most interested in the cases parameter alongside with which regulations where present during that time.\n",
    "When looking at the cases for each date per country we get the following:\n",
    "- new cases\n",
    "- active cases\n",
    "- critical cases\n",
    "- recovered cases\n",
    "- total cases\n",
    "\n",
    "Let's take a look at one example:"
   ],
   "metadata": {
    "collapsed": false,
    "pycharm": {
     "name": "#%% md\n"
    }
   }
  },
  {
   "cell_type": "code",
   "execution_count": 4,
   "outputs": [
    {
     "name": "stdout",
     "output_type": "stream",
     "text": [
      "[\n",
      "    {\n",
      "        \"get\": \"history\",\n",
      "        \"parameters\": {\n",
      "            \"country\": \"Albania\",\n",
      "            \"day\": \"2020-04-01\"\n",
      "        },\n",
      "        \"errors\": [],\n",
      "        \"results\": 2,\n",
      "        \"response\": [\n",
      "            {\n",
      "                \"continent\": \"Europe\",\n",
      "                \"country\": \"Albania\",\n",
      "                \"population\": null,\n",
      "                \"cases\": {\n",
      "                    \"new\": \"+16\",\n",
      "                    \"active\": 192,\n",
      "                    \"critical\": 8,\n",
      "                    \"recovered\": 52,\n",
      "                    \"1M_pop\": \"90\",\n",
      "                    \"total\": 259\n",
      "                },\n",
      "                \"deaths\": {\n",
      "                    \"new\": null,\n",
      "                    \"1M_pop\": null,\n",
      "                    \"total\": 15\n",
      "                },\n",
      "                \"tests\": {\n",
      "                    \"1M_pop\": null,\n",
      "                    \"total\": null\n",
      "                },\n",
      "                \"day\": \"2020-04-01\",\n",
      "                \"time\": \"2020-04-01T11:30:04+00:00\"\n",
      "            },\n",
      "            {\n",
      "                \"continent\": \"Europe\",\n",
      "                \"country\": \"Albania\",\n",
      "                \"population\": null,\n",
      "                \"cases\": {\n",
      "                    \"new\": \"+20\",\n",
      "                    \"active\": 176,\n",
      "                    \"critical\": 8,\n",
      "                    \"recovered\": 52,\n",
      "                    \"1M_pop\": \"84\",\n",
      "                    \"total\": 243\n",
      "                },\n",
      "                \"deaths\": {\n",
      "                    \"new\": \"+4\",\n",
      "                    \"1M_pop\": null,\n",
      "                    \"total\": 15\n",
      "                },\n",
      "                \"tests\": {\n",
      "                    \"1M_pop\": null,\n",
      "                    \"total\": null\n",
      "                },\n",
      "                \"day\": \"2020-04-01\",\n",
      "                \"time\": \"2020-04-01T10:00:10+00:00\"\n",
      "            }\n",
      "        ]\n",
      "    },\n",
      "    {\n",
      "        \"get\": \"history\",\n",
      "        \"parameters\": {\n",
      "            \"country\": \"Albania\",\n",
      "            \"day\": \"2020-04-02\"\n",
      "        },\n",
      "        \"errors\": [],\n",
      "        \"results\": 2,\n",
      "        \"response\": [\n",
      "            {\n",
      "                \"continent\": \"Europe\",\n",
      "                \"country\": \"Albania\",\n",
      "                \"population\": null,\n",
      "                \"cases\": {\n",
      "                    \"new\": \"+18\",\n",
      "                    \"active\": 194,\n",
      "                    \"critical\": 7,\n",
      "                    \"recovered\": 67,\n",
      "                    \"1M_pop\": \"96\",\n",
      "                    \"total\": 277\n",
      "                },\n",
      "                \"deaths\": {\n",
      "                    \"new\": \"+1\",\n",
      "                    \"1M_pop\": null,\n",
      "                    \"total\": 16\n",
      "                },\n",
      "                \"tests\": {\n",
      "                    \"1M_pop\": null,\n",
      "                    \"total\": null\n",
      "                },\n",
      "                \"day\": \"2020-04-02\",\n",
      "                \"time\": \"2020-04-02T21:30:05+00:00\"\n",
      "            },\n",
      "            {\n",
      "                \"continent\": \"Europe\",\n",
      "                \"country\": \"Albania\",\n",
      "                \"population\": null,\n",
      "                \"cases\": {\n",
      "                    \"new\": \"+16\",\n",
      "                    \"active\": 177,\n",
      "                    \"critical\": 7,\n",
      "                    \"recovered\": 67,\n",
      "                    \"1M_pop\": \"90\",\n",
      "                    \"total\": 259\n",
      "                },\n",
      "                \"deaths\": {\n",
      "                    \"new\": null,\n",
      "                    \"1M_pop\": null,\n",
      "                    \"total\": 15\n",
      "                },\n",
      "                \"tests\": {\n",
      "                    \"1M_pop\": null,\n",
      "                    \"total\": null\n",
      "                },\n",
      "                \"day\": \"2020-04-02\",\n",
      "                \"time\": \"2020-04-02T09:32:35+00:00\"\n",
      "            }\n",
      "        ]\n",
      "    },\n",
      "    {\n",
      "        \"get\": \"history\",\n",
      "        \"parameters\": {\n",
      "            \"country\": \"Albania\",\n",
      "            \"day\": \"2020-04-03\"\n",
      "        },\n",
      "        \"errors\": [],\n",
      "        \"results\": 2,\n",
      "        \"response\": [\n",
      "            {\n",
      "                \"continent\": \"Europe\",\n",
      "                \"country\": \"Albania\",\n",
      "                \"population\": null,\n",
      "                \"cases\": {\n",
      "                    \"new\": \"+27\",\n",
      "                    \"active\": 199,\n",
      "                    \"critical\": 7,\n",
      "                    \"recovered\": 89,\n",
      "                    \"1M_pop\": \"106\",\n",
      "                    \"total\": 304\n",
      "                },\n",
      "                \"deaths\": {\n",
      "                    \"new\": null,\n",
      "                    \"1M_pop\": null,\n",
      "                    \"total\": 16\n",
      "                },\n",
      "                \"tests\": {\n",
      "                    \"1M_pop\": null,\n",
      "                    \"total\": null\n",
      "                },\n",
      "                \"day\": \"2020-04-03\",\n",
      "                \"time\": \"2020-04-03T15:30:04+00:00\"\n",
      "            },\n",
      "            {\n",
      "                \"continent\": \"Europe\",\n",
      "                \"country\": \"Albania\",\n",
      "                \"population\": null,\n",
      "                \"cases\": {\n",
      "                    \"new\": \"+18\",\n",
      "                    \"active\": 185,\n",
      "                    \"critical\": 7,\n",
      "                    \"recovered\": 76,\n",
      "                    \"1M_pop\": \"96\",\n",
      "                    \"total\": 277\n",
      "                },\n",
      "                \"deaths\": {\n",
      "                    \"new\": \"+1\",\n",
      "                    \"1M_pop\": null,\n",
      "                    \"total\": 16\n",
      "                },\n",
      "                \"tests\": {\n",
      "                    \"1M_pop\": null,\n",
      "                    \"total\": null\n",
      "                },\n",
      "                \"day\": \"2020-04-03\",\n",
      "                \"time\": \"2020-04-03T09:45:05+00:00\"\n",
      "            }\n",
      "        ]\n",
      "    },\n",
      "    {\n",
      "        \"get\": \"history\",\n",
      "        \"parameters\": {\n",
      "            \"country\": \"Albania\",\n",
      "            \"day\": \"2020-04-04\"\n",
      "        },\n",
      "        \"errors\": [],\n",
      "        \"results\": 4,\n",
      "        \"response\": [\n",
      "            {\n",
      "                \"continent\": \"Europe\",\n",
      "                \"country\": \"Albania\",\n",
      "                \"population\": null,\n",
      "                \"cases\": {\n",
      "                    \"new\": \"+29\",\n",
      "                    \"active\": 215,\n",
      "                    \"critical\": 7,\n",
      "                    \"recovered\": 99,\n",
      "                    \"1M_pop\": \"116\",\n",
      "                    \"total\": 333\n",
      "                },\n",
      "                \"deaths\": {\n",
      "                    \"new\": \"+2\",\n",
      "                    \"1M_pop\": null,\n",
      "                    \"total\": 19\n",
      "                },\n",
      "                \"tests\": {\n",
      "                    \"1M_pop\": null,\n",
      "                    \"total\": null\n",
      "                },\n",
      "                \"day\": \"2020-04-04\",\n",
      "                \"time\": \"2020-04-04T21:45:05+00:00\"\n",
      "            },\n",
      "            {\n",
      "                \"continent\": \"Europe\",\n",
      "                \"country\": \"Albania\",\n",
      "                \"population\": null,\n",
      "                \"cases\": {\n",
      "                    \"new\": \"+29\",\n",
      "                    \"active\": 216,\n",
      "                    \"critical\": 7,\n",
      "                    \"recovered\": 99,\n",
      "                    \"1M_pop\": \"116\",\n",
      "                    \"total\": 333\n",
      "                },\n",
      "                \"deaths\": {\n",
      "                    \"new\": \"+1\",\n",
      "                    \"1M_pop\": null,\n",
      "                    \"total\": 18\n",
      "                },\n",
      "                \"tests\": {\n",
      "                    \"1M_pop\": null,\n",
      "                    \"total\": null\n",
      "                },\n",
      "                \"day\": \"2020-04-04\",\n",
      "                \"time\": \"2020-04-04T21:00:05+00:00\"\n",
      "            },\n",
      "            {\n",
      "                \"continent\": \"Europe\",\n",
      "                \"country\": \"Albania\",\n",
      "                \"population\": null,\n",
      "                \"cases\": {\n",
      "                    \"new\": \"+28\",\n",
      "                    \"active\": 215,\n",
      "                    \"critical\": 7,\n",
      "                    \"recovered\": 99,\n",
      "                    \"1M_pop\": \"115\",\n",
      "                    \"total\": 332\n",
      "                },\n",
      "                \"deaths\": {\n",
      "                    \"new\": \"+1\",\n",
      "                    \"1M_pop\": null,\n",
      "                    \"total\": 18\n",
      "                },\n",
      "                \"tests\": {\n",
      "                    \"1M_pop\": null,\n",
      "                    \"total\": null\n",
      "                },\n",
      "                \"day\": \"2020-04-04\",\n",
      "                \"time\": \"2020-04-04T12:00:05+00:00\"\n",
      "            },\n",
      "            {\n",
      "                \"continent\": \"Europe\",\n",
      "                \"country\": \"Albania\",\n",
      "                \"population\": null,\n",
      "                \"cases\": {\n",
      "                    \"new\": \"+27\",\n",
      "                    \"active\": 198,\n",
      "                    \"critical\": 7,\n",
      "                    \"recovered\": 89,\n",
      "                    \"1M_pop\": \"106\",\n",
      "                    \"total\": 304\n",
      "                },\n",
      "                \"deaths\": {\n",
      "                    \"new\": \"+1\",\n",
      "                    \"1M_pop\": null,\n",
      "                    \"total\": 17\n",
      "                },\n",
      "                \"tests\": {\n",
      "                    \"1M_pop\": null,\n",
      "                    \"total\": null\n",
      "                },\n",
      "                \"day\": \"2020-04-04\",\n",
      "                \"time\": \"2020-04-04T10:15:05+00:00\"\n",
      "            }\n",
      "        ]\n",
      "    },\n",
      "    {\n",
      "        \"get\": \"history\",\n",
      "        \"parameters\": {\n",
      "            \"country\": \"Albania\",\n",
      "            \"day\": \"2020-04-05\"\n",
      "        },\n",
      "        \"errors\": [],\n",
      "        \"results\": 2,\n",
      "        \"response\": [\n",
      "            {\n",
      "                \"continent\": \"Europe\",\n",
      "                \"country\": \"Albania\",\n",
      "                \"population\": null,\n",
      "                \"cases\": {\n",
      "                    \"new\": null,\n",
      "                    \"active\": 214,\n",
      "                    \"critical\": 7,\n",
      "                    \"recovered\": 99,\n",
      "                    \"1M_pop\": \"116\",\n",
      "                    \"total\": 333\n",
      "                },\n",
      "                \"deaths\": {\n",
      "                    \"new\": null,\n",
      "                    \"1M_pop\": null,\n",
      "                    \"total\": 20\n",
      "                },\n",
      "                \"tests\": {\n",
      "                    \"1M_pop\": null,\n",
      "                    \"total\": 2247\n",
      "                },\n",
      "                \"day\": \"2020-04-05\",\n",
      "                \"time\": \"2020-04-05T10:30:06+00:00\"\n",
      "            },\n",
      "            {\n",
      "                \"continent\": \"Europe\",\n",
      "                \"country\": \"Albania\",\n",
      "                \"population\": null,\n",
      "                \"cases\": {\n",
      "                    \"new\": \"+29\",\n",
      "                    \"active\": 214,\n",
      "                    \"critical\": 7,\n",
      "                    \"recovered\": 99,\n",
      "                    \"1M_pop\": \"116\",\n",
      "                    \"total\": 333\n",
      "                },\n",
      "                \"deaths\": {\n",
      "                    \"new\": \"+3\",\n",
      "                    \"1M_pop\": null,\n",
      "                    \"total\": 20\n",
      "                },\n",
      "                \"tests\": {\n",
      "                    \"1M_pop\": null,\n",
      "                    \"total\": null\n",
      "                },\n",
      "                \"day\": \"2020-04-05\",\n",
      "                \"time\": \"2020-04-05T08:15:05+00:00\"\n",
      "            }\n",
      "        ]\n",
      "    },\n",
      "    {\n",
      "        \"get\": \"history\",\n",
      "        \"parameters\": {\n",
      "            \"country\": \"Albania\",\n",
      "            \"day\": \"2020-04-06\"\n",
      "        },\n",
      "        \"errors\": [],\n",
      "        \"results\": 1,\n",
      "        \"response\": [\n",
      "            {\n",
      "                \"continent\": \"Europe\",\n",
      "                \"country\": \"Albania\",\n",
      "                \"population\": null,\n",
      "                \"cases\": {\n",
      "                    \"new\": \"+28\",\n",
      "                    \"active\": 237,\n",
      "                    \"critical\": 7,\n",
      "                    \"recovered\": 104,\n",
      "                    \"1M_pop\": \"125\",\n",
      "                    \"total\": 361\n",
      "                },\n",
      "                \"deaths\": {\n",
      "                    \"new\": null,\n",
      "                    \"1M_pop\": null,\n",
      "                    \"total\": 20\n",
      "                },\n",
      "                \"tests\": {\n",
      "                    \"1M_pop\": null,\n",
      "                    \"total\": 2396\n",
      "                },\n",
      "                \"day\": \"2020-04-06\",\n",
      "                \"time\": \"2020-04-06T09:15:05+00:00\"\n",
      "            }\n",
      "        ]\n",
      "    },\n",
      "    {\n",
      "        \"get\": \"history\",\n",
      "        \"parameters\": {\n",
      "            \"country\": \"Albania\",\n",
      "            \"day\": \"2020-04-07\"\n",
      "        },\n",
      "        \"errors\": [],\n",
      "        \"results\": 2,\n",
      "        \"response\": [\n",
      "            {\n",
      "                \"continent\": \"Europe\",\n",
      "                \"country\": \"Albania\",\n",
      "                \"population\": null,\n",
      "                \"cases\": {\n",
      "                    \"new\": \"+6\",\n",
      "                    \"active\": 231,\n",
      "                    \"critical\": 7,\n",
      "                    \"recovered\": 131,\n",
      "                    \"1M_pop\": \"133\",\n",
      "                    \"total\": 383\n",
      "                },\n",
      "                \"deaths\": {\n",
      "                    \"new\": null,\n",
      "                    \"1M_pop\": null,\n",
      "                    \"total\": 21\n",
      "                },\n",
      "                \"tests\": {\n",
      "                    \"1M_pop\": null,\n",
      "                    \"total\": 2571\n",
      "                },\n",
      "                \"day\": \"2020-04-07\",\n",
      "                \"time\": \"2020-04-07T10:00:06+00:00\"\n",
      "            },\n",
      "            {\n",
      "                \"continent\": \"Europe\",\n",
      "                \"country\": \"Albania\",\n",
      "                \"population\": null,\n",
      "                \"cases\": {\n",
      "                    \"new\": \"+16\",\n",
      "                    \"active\": 240,\n",
      "                    \"critical\": 7,\n",
      "                    \"recovered\": 116,\n",
      "                    \"1M_pop\": \"131\",\n",
      "                    \"total\": 377\n",
      "                },\n",
      "                \"deaths\": {\n",
      "                    \"new\": \"+1\",\n",
      "                    \"1M_pop\": null,\n",
      "                    \"total\": 21\n",
      "                },\n",
      "                \"tests\": {\n",
      "                    \"1M_pop\": null,\n",
      "                    \"total\": 2571\n",
      "                },\n",
      "                \"day\": \"2020-04-07\",\n",
      "                \"time\": \"2020-04-07T09:00:04+00:00\"\n",
      "            }\n",
      "        ]\n",
      "    },\n",
      "    {\n",
      "        \"get\": \"history\",\n",
      "        \"parameters\": {\n",
      "            \"country\": \"Albania\",\n",
      "            \"day\": \"2020-04-08\"\n",
      "        },\n",
      "        \"errors\": [],\n",
      "        \"results\": 1,\n",
      "        \"response\": [\n",
      "            {\n",
      "                \"continent\": \"Europe\",\n",
      "                \"country\": \"Albania\",\n",
      "                \"population\": null,\n",
      "                \"cases\": {\n",
      "                    \"new\": \"+6\",\n",
      "                    \"active\": 230,\n",
      "                    \"critical\": 7,\n",
      "                    \"recovered\": 131,\n",
      "                    \"1M_pop\": \"133\",\n",
      "                    \"total\": 383\n",
      "                },\n",
      "                \"deaths\": {\n",
      "                    \"new\": \"+1\",\n",
      "                    \"1M_pop\": null,\n",
      "                    \"total\": 22\n",
      "                },\n",
      "                \"tests\": {\n",
      "                    \"1M_pop\": null,\n",
      "                    \"total\": 2753\n",
      "                },\n",
      "                \"day\": \"2020-04-08\",\n",
      "                \"time\": \"2020-04-08T10:00:06+00:00\"\n",
      "            }\n",
      "        ]\n",
      "    },\n",
      "    {\n",
      "        \"get\": \"history\",\n",
      "        \"parameters\": {\n",
      "            \"country\": \"Albania\",\n",
      "            \"day\": \"2020-04-09\"\n",
      "        },\n",
      "        \"errors\": [],\n",
      "        \"results\": 2,\n",
      "        \"response\": [\n",
      "            {\n",
      "                \"continent\": \"Europe\",\n",
      "                \"country\": \"Albania\",\n",
      "                \"population\": null,\n",
      "                \"cases\": {\n",
      "                    \"new\": \"+9\",\n",
      "                    \"active\": 222,\n",
      "                    \"critical\": 7,\n",
      "                    \"recovered\": 165,\n",
      "                    \"1M_pop\": \"142\",\n",
      "                    \"total\": 409\n",
      "                },\n",
      "                \"deaths\": {\n",
      "                    \"new\": null,\n",
      "                    \"1M_pop\": null,\n",
      "                    \"total\": 22\n",
      "                },\n",
      "                \"tests\": {\n",
      "                    \"1M_pop\": null,\n",
      "                    \"total\": 3223\n",
      "                },\n",
      "                \"day\": \"2020-04-09\",\n",
      "                \"time\": \"2020-04-09T17:00:17+00:00\"\n",
      "            },\n",
      "            {\n",
      "                \"continent\": \"Europe\",\n",
      "                \"country\": \"Albania\",\n",
      "                \"population\": null,\n",
      "                \"cases\": {\n",
      "                    \"new\": \"+17\",\n",
      "                    \"active\": 224,\n",
      "                    \"critical\": 7,\n",
      "                    \"recovered\": 154,\n",
      "                    \"1M_pop\": \"139\",\n",
      "                    \"total\": 400\n",
      "                },\n",
      "                \"deaths\": {\n",
      "                    \"new\": null,\n",
      "                    \"1M_pop\": null,\n",
      "                    \"total\": 22\n",
      "                },\n",
      "                \"tests\": {\n",
      "                    \"1M_pop\": null,\n",
      "                    \"total\": 2989\n",
      "                },\n",
      "                \"day\": \"2020-04-09\",\n",
      "                \"time\": \"2020-04-09T09:00:06+00:00\"\n",
      "            }\n",
      "        ]\n",
      "    },\n",
      "    {\n",
      "        \"get\": \"history\",\n",
      "        \"parameters\": {\n",
      "            \"country\": \"Albania\",\n",
      "            \"day\": \"2020-04-10\"\n",
      "        },\n",
      "        \"errors\": [],\n",
      "        \"results\": 2,\n",
      "        \"response\": [\n",
      "            {\n",
      "                \"continent\": \"Europe\",\n",
      "                \"country\": \"Albania\",\n",
      "                \"population\": null,\n",
      "                \"cases\": {\n",
      "                    \"new\": \"+7\",\n",
      "                    \"active\": 211,\n",
      "                    \"critical\": 6,\n",
      "                    \"recovered\": 182,\n",
      "                    \"1M_pop\": \"145\",\n",
      "                    \"total\": 416\n",
      "                },\n",
      "                \"deaths\": {\n",
      "                    \"new\": null,\n",
      "                    \"1M_pop\": null,\n",
      "                    \"total\": 23\n",
      "                },\n",
      "                \"tests\": {\n",
      "                    \"1M_pop\": null,\n",
      "                    \"total\": 3385\n",
      "                },\n",
      "                \"day\": \"2020-04-10\",\n",
      "                \"time\": \"2020-04-10T10:30:03+00:00\"\n",
      "            },\n",
      "            {\n",
      "                \"continent\": \"Europe\",\n",
      "                \"country\": \"Albania\",\n",
      "                \"population\": null,\n",
      "                \"cases\": {\n",
      "                    \"new\": \"+9\",\n",
      "                    \"active\": 221,\n",
      "                    \"critical\": 7,\n",
      "                    \"recovered\": 165,\n",
      "                    \"1M_pop\": \"142\",\n",
      "                    \"total\": 409\n",
      "                },\n",
      "                \"deaths\": {\n",
      "                    \"new\": \"+1\",\n",
      "                    \"1M_pop\": null,\n",
      "                    \"total\": 23\n",
      "                },\n",
      "                \"tests\": {\n",
      "                    \"1M_pop\": null,\n",
      "                    \"total\": 3223\n",
      "                },\n",
      "                \"day\": \"2020-04-10\",\n",
      "                \"time\": \"2020-04-10T09:15:05+00:00\"\n",
      "            }\n",
      "        ]\n",
      "    },\n",
      "    {\n",
      "        \"get\": \"history\",\n",
      "        \"parameters\": {\n",
      "            \"country\": \"Albania\",\n",
      "            \"day\": \"2020-04-11\"\n",
      "        },\n",
      "        \"errors\": [],\n",
      "        \"results\": 1,\n",
      "        \"response\": [\n",
      "            {\n",
      "                \"continent\": \"Europe\",\n",
      "                \"country\": \"Albania\",\n",
      "                \"population\": null,\n",
      "                \"cases\": {\n",
      "                    \"new\": \"+7\",\n",
      "                    \"active\": 211,\n",
      "                    \"critical\": 7,\n",
      "                    \"recovered\": 182,\n",
      "                    \"1M_pop\": \"145\",\n",
      "                    \"total\": 416\n",
      "                },\n",
      "                \"deaths\": {\n",
      "                    \"new\": null,\n",
      "                    \"1M_pop\": null,\n",
      "                    \"total\": 23\n",
      "                },\n",
      "                \"tests\": {\n",
      "                    \"1M_pop\": null,\n",
      "                    \"total\": 3385\n",
      "                },\n",
      "                \"day\": \"2020-04-11\",\n",
      "                \"time\": \"2020-04-11T09:30:04+00:00\"\n",
      "            }\n",
      "        ]\n",
      "    },\n",
      "    {\n",
      "        \"get\": \"history\",\n",
      "        \"parameters\": {\n",
      "            \"country\": \"Albania\",\n",
      "            \"day\": \"2020-04-12\"\n",
      "        },\n",
      "        \"errors\": [],\n",
      "        \"results\": 1,\n",
      "        \"response\": [\n",
      "            {\n",
      "                \"continent\": \"Europe\",\n",
      "                \"country\": \"Albania\",\n",
      "                \"population\": null,\n",
      "                \"cases\": {\n",
      "                    \"new\": \"+17\",\n",
      "                    \"active\": 213,\n",
      "                    \"critical\": 7,\n",
      "                    \"recovered\": 197,\n",
      "                    \"1M_pop\": \"150\",\n",
      "                    \"total\": 433\n",
      "                },\n",
      "                \"deaths\": {\n",
      "                    \"new\": null,\n",
      "                    \"1M_pop\": null,\n",
      "                    \"total\": 23\n",
      "                },\n",
      "                \"tests\": {\n",
      "                    \"1M_pop\": null,\n",
      "                    \"total\": 3644\n",
      "                },\n",
      "                \"day\": \"2020-04-12\",\n",
      "                \"time\": \"2020-04-12T09:45:04+00:00\"\n",
      "            }\n",
      "        ]\n",
      "    },\n",
      "    {\n",
      "        \"get\": \"history\",\n",
      "        \"parameters\": {\n",
      "            \"country\": \"Albania\",\n",
      "            \"day\": \"2020-04-13\"\n",
      "        },\n",
      "        \"errors\": [],\n",
      "        \"results\": 1,\n",
      "        \"response\": [\n",
      "            {\n",
      "                \"continent\": \"Europe\",\n",
      "                \"country\": \"Albania\",\n",
      "                \"population\": null,\n",
      "                \"cases\": {\n",
      "                    \"new\": \"+13\",\n",
      "                    \"active\": 206,\n",
      "                    \"critical\": 7,\n",
      "                    \"recovered\": 217,\n",
      "                    \"1M_pop\": \"155\",\n",
      "                    \"total\": 446\n",
      "                },\n",
      "                \"deaths\": {\n",
      "                    \"new\": null,\n",
      "                    \"1M_pop\": null,\n",
      "                    \"total\": 23\n",
      "                },\n",
      "                \"tests\": {\n",
      "                    \"1M_pop\": null,\n",
      "                    \"total\": 3877\n",
      "                },\n",
      "                \"day\": \"2020-04-13\",\n",
      "                \"time\": \"2020-04-13T10:00:05+00:00\"\n",
      "            }\n",
      "        ]\n",
      "    },\n",
      "    {\n",
      "        \"get\": \"history\",\n",
      "        \"parameters\": {\n",
      "            \"country\": \"Albania\",\n",
      "            \"day\": \"2020-04-14\"\n",
      "        },\n",
      "        \"errors\": [],\n",
      "        \"results\": 1,\n",
      "        \"response\": [\n",
      "            {\n",
      "                \"continent\": \"Europe\",\n",
      "                \"country\": \"Albania\",\n",
      "                \"population\": null,\n",
      "                \"cases\": {\n",
      "                    \"new\": \"+21\",\n",
      "                    \"active\": 212,\n",
      "                    \"critical\": 7,\n",
      "                    \"recovered\": 232,\n",
      "                    \"1M_pop\": \"162\",\n",
      "                    \"total\": 467\n",
      "                },\n",
      "                \"deaths\": {\n",
      "                    \"new\": null,\n",
      "                    \"1M_pop\": null,\n",
      "                    \"total\": 23\n",
      "                },\n",
      "                \"tests\": {\n",
      "                    \"1M_pop\": null,\n",
      "                    \"total\": 4070\n",
      "                },\n",
      "                \"day\": \"2020-04-14\",\n",
      "                \"time\": \"2020-04-14T09:30:05+00:00\"\n",
      "            }\n",
      "        ]\n",
      "    },\n",
      "    {\n",
      "        \"get\": \"history\",\n",
      "        \"parameters\": {\n",
      "            \"country\": \"Albania\",\n",
      "            \"day\": \"2020-04-15\"\n",
      "        },\n",
      "        \"errors\": [],\n",
      "        \"results\": 1,\n",
      "        \"response\": [\n",
      "            {\n",
      "                \"continent\": \"Europe\",\n",
      "                \"country\": \"Albania\",\n",
      "                \"population\": null,\n",
      "                \"cases\": {\n",
      "                    \"new\": \"+8\",\n",
      "                    \"active\": 203,\n",
      "                    \"critical\": 5,\n",
      "                    \"recovered\": 248,\n",
      "                    \"1M_pop\": \"165\",\n",
      "                    \"total\": 475\n",
      "                },\n",
      "                \"deaths\": {\n",
      "                    \"new\": \"+1\",\n",
      "                    \"1M_pop\": null,\n",
      "                    \"total\": 24\n",
      "                },\n",
      "                \"tests\": {\n",
      "                    \"1M_pop\": null,\n",
      "                    \"total\": 4306\n",
      "                },\n",
      "                \"day\": \"2020-04-15\",\n",
      "                \"time\": \"2020-04-15T09:17:34+00:00\"\n",
      "            }\n",
      "        ]\n",
      "    },\n",
      "    {\n",
      "        \"get\": \"history\",\n",
      "        \"parameters\": {\n",
      "            \"country\": \"Albania\",\n",
      "            \"day\": \"2020-04-16\"\n",
      "        },\n",
      "        \"errors\": [],\n",
      "        \"results\": 1,\n",
      "        \"response\": [\n",
      "            {\n",
      "                \"continent\": \"Europe\",\n",
      "                \"country\": \"Albania\",\n",
      "                \"population\": null,\n",
      "                \"cases\": {\n",
      "                    \"new\": \"+19\",\n",
      "                    \"active\": 218,\n",
      "                    \"critical\": 5,\n",
      "                    \"recovered\": 251,\n",
      "                    \"1M_pop\": \"172\",\n",
      "                    \"total\": 494\n",
      "                },\n",
      "                \"deaths\": {\n",
      "                    \"new\": \"+1\",\n",
      "                    \"1M_pop\": null,\n",
      "                    \"total\": 25\n",
      "                },\n",
      "                \"tests\": {\n",
      "                    \"1M_pop\": null,\n",
      "                    \"total\": 4558\n",
      "                },\n",
      "                \"day\": \"2020-04-16\",\n",
      "                \"time\": \"2020-04-16T11:00:05+00:00\"\n",
      "            }\n",
      "        ]\n",
      "    },\n",
      "    {\n",
      "        \"get\": \"history\",\n",
      "        \"parameters\": {\n",
      "            \"country\": \"Albania\",\n",
      "            \"day\": \"2020-04-17\"\n",
      "        },\n",
      "        \"errors\": [],\n",
      "        \"results\": 1,\n",
      "        \"response\": [\n",
      "            {\n",
      "                \"continent\": \"Europe\",\n",
      "                \"country\": \"Albania\",\n",
      "                \"population\": null,\n",
      "                \"cases\": {\n",
      "                    \"new\": \"+24\",\n",
      "                    \"active\": 215,\n",
      "                    \"critical\": 5,\n",
      "                    \"recovered\": 277,\n",
      "                    \"1M_pop\": \"180\",\n",
      "                    \"total\": 518\n",
      "                },\n",
      "                \"deaths\": {\n",
      "                    \"new\": \"+1\",\n",
      "                    \"1M_pop\": null,\n",
      "                    \"total\": 26\n",
      "                },\n",
      "                \"tests\": {\n",
      "                    \"1M_pop\": null,\n",
      "                    \"total\": 4827\n",
      "                },\n",
      "                \"day\": \"2020-04-17\",\n",
      "                \"time\": \"2020-04-17T09:15:04+00:00\"\n",
      "            }\n",
      "        ]\n",
      "    },\n",
      "    {\n",
      "        \"get\": \"history\",\n",
      "        \"parameters\": {\n",
      "            \"country\": \"Albania\",\n",
      "            \"day\": \"2020-04-18\"\n",
      "        },\n",
      "        \"errors\": [],\n",
      "        \"results\": 1,\n",
      "        \"response\": [\n",
      "            {\n",
      "                \"continent\": \"Europe\",\n",
      "                \"country\": \"Albania\",\n",
      "                \"population\": null,\n",
      "                \"cases\": {\n",
      "                    \"new\": \"+21\",\n",
      "                    \"active\": 230,\n",
      "                    \"critical\": 5,\n",
      "                    \"recovered\": 283,\n",
      "                    \"1M_pop\": \"187\",\n",
      "                    \"total\": 539\n",
      "                },\n",
      "                \"deaths\": {\n",
      "                    \"new\": null,\n",
      "                    \"1M_pop\": null,\n",
      "                    \"total\": 26\n",
      "                },\n",
      "                \"tests\": {\n",
      "                    \"1M_pop\": null,\n",
      "                    \"total\": 5080\n",
      "                },\n",
      "                \"day\": \"2020-04-18\",\n",
      "                \"time\": \"2020-04-18T10:45:05+00:00\"\n",
      "            }\n",
      "        ]\n",
      "    },\n",
      "    {\n",
      "        \"get\": \"history\",\n",
      "        \"parameters\": {\n",
      "            \"country\": \"Albania\",\n",
      "            \"day\": \"2020-04-19\"\n",
      "        },\n",
      "        \"errors\": [],\n",
      "        \"results\": 1,\n",
      "        \"response\": [\n",
      "            {\n",
      "                \"continent\": \"Europe\",\n",
      "                \"country\": \"Albania\",\n",
      "                \"population\": null,\n",
      "                \"cases\": {\n",
      "                    \"new\": \"+9\",\n",
      "                    \"active\": 220,\n",
      "                    \"critical\": 5,\n",
      "                    \"recovered\": 302,\n",
      "                    \"1M_pop\": \"190\",\n",
      "                    \"total\": 548\n",
      "                },\n",
      "                \"deaths\": {\n",
      "                    \"new\": null,\n",
      "                    \"1M_pop\": null,\n",
      "                    \"total\": 26\n",
      "                },\n",
      "                \"tests\": {\n",
      "                    \"1M_pop\": null,\n",
      "                    \"total\": 5311\n",
      "                },\n",
      "                \"day\": \"2020-04-19\",\n",
      "                \"time\": \"2020-04-19T09:45:05+00:00\"\n",
      "            }\n",
      "        ]\n",
      "    },\n",
      "    {\n",
      "        \"get\": \"history\",\n",
      "        \"parameters\": {\n",
      "            \"country\": \"Albania\",\n",
      "            \"day\": \"2020-04-20\"\n",
      "        },\n",
      "        \"errors\": [],\n",
      "        \"results\": 1,\n",
      "        \"response\": [\n",
      "            {\n",
      "                \"continent\": \"Europe\",\n",
      "                \"country\": \"Albania\",\n",
      "                \"population\": null,\n",
      "                \"cases\": {\n",
      "                    \"new\": \"+14\",\n",
      "                    \"active\": 222,\n",
      "                    \"critical\": 5,\n",
      "                    \"recovered\": 314,\n",
      "                    \"1M_pop\": \"195\",\n",
      "                    \"total\": 562\n",
      "                },\n",
      "                \"deaths\": {\n",
      "                    \"new\": null,\n",
      "                    \"1M_pop\": null,\n",
      "                    \"total\": 26\n",
      "                },\n",
      "                \"tests\": {\n",
      "                    \"1M_pop\": null,\n",
      "                    \"total\": 5542\n",
      "                },\n",
      "                \"day\": \"2020-04-20\",\n",
      "                \"time\": \"2020-04-20T09:17:31+00:00\"\n",
      "            }\n",
      "        ]\n",
      "    },\n",
      "    {\n",
      "        \"get\": \"history\",\n",
      "        \"parameters\": {\n",
      "            \"country\": \"Albania\",\n",
      "            \"day\": \"2020-04-21\"\n",
      "        },\n",
      "        \"errors\": [],\n",
      "        \"results\": 1,\n",
      "        \"response\": [\n",
      "            {\n",
      "                \"continent\": \"Europe\",\n",
      "                \"country\": \"Albania\",\n",
      "                \"population\": null,\n",
      "                \"cases\": {\n",
      "                    \"new\": \"+22\",\n",
      "                    \"active\": 231,\n",
      "                    \"critical\": 5,\n",
      "                    \"recovered\": 327,\n",
      "                    \"1M_pop\": \"203\",\n",
      "                    \"total\": 584\n",
      "                },\n",
      "                \"deaths\": {\n",
      "                    \"new\": null,\n",
      "                    \"1M_pop\": null,\n",
      "                    \"total\": 26\n",
      "                },\n",
      "                \"tests\": {\n",
      "                    \"1M_pop\": null,\n",
      "                    \"total\": 5775\n",
      "                },\n",
      "                \"day\": \"2020-04-21\",\n",
      "                \"time\": \"2020-04-21T09:15:04+00:00\"\n",
      "            }\n",
      "        ]\n",
      "    },\n",
      "    {\n",
      "        \"get\": \"history\",\n",
      "        \"parameters\": {\n",
      "            \"country\": \"Albania\",\n",
      "            \"day\": \"2020-04-22\"\n",
      "        },\n",
      "        \"errors\": [],\n",
      "        \"results\": 1,\n",
      "        \"response\": [\n",
      "            {\n",
      "                \"continent\": \"Europe\",\n",
      "                \"country\": \"Albania\",\n",
      "                \"population\": null,\n",
      "                \"cases\": {\n",
      "                    \"new\": \"+25\",\n",
      "                    \"active\": 238,\n",
      "                    \"critical\": 10,\n",
      "                    \"recovered\": 345,\n",
      "                    \"1M_pop\": \"212\",\n",
      "                    \"total\": 609\n",
      "                },\n",
      "                \"deaths\": {\n",
      "                    \"new\": null,\n",
      "                    \"1M_pop\": null,\n",
      "                    \"total\": 26\n",
      "                },\n",
      "                \"tests\": {\n",
      "                    \"1M_pop\": null,\n",
      "                    \"total\": 6017\n",
      "                },\n",
      "                \"day\": \"2020-04-22\",\n",
      "                \"time\": \"2020-04-22T09:45:25+00:00\"\n",
      "            }\n",
      "        ]\n",
      "    },\n",
      "    {\n",
      "        \"get\": \"history\",\n",
      "        \"parameters\": {\n",
      "            \"country\": \"Albania\",\n",
      "            \"day\": \"2020-04-23\"\n",
      "        },\n",
      "        \"errors\": [],\n",
      "        \"results\": 1,\n",
      "        \"response\": [\n",
      "            {\n",
      "                \"continent\": \"Europe\",\n",
      "                \"country\": \"Albania\",\n",
      "                \"population\": null,\n",
      "                \"cases\": {\n",
      "                    \"new\": \"+25\",\n",
      "                    \"active\": 251,\n",
      "                    \"critical\": 4,\n",
      "                    \"recovered\": 356,\n",
      "                    \"1M_pop\": \"220\",\n",
      "                    \"total\": 634\n",
      "                },\n",
      "                \"deaths\": {\n",
      "                    \"new\": \"+1\",\n",
      "                    \"1M_pop\": null,\n",
      "                    \"total\": 27\n",
      "                },\n",
      "                \"tests\": {\n",
      "                    \"1M_pop\": null,\n",
      "                    \"total\": 6269\n",
      "                },\n",
      "                \"day\": \"2020-04-23\",\n",
      "                \"time\": \"2020-04-23T09:15:06+00:00\"\n",
      "            }\n",
      "        ]\n",
      "    },\n",
      "    {\n",
      "        \"get\": \"history\",\n",
      "        \"parameters\": {\n",
      "            \"country\": \"Albania\",\n",
      "            \"day\": \"2020-04-24\"\n",
      "        },\n",
      "        \"errors\": [],\n",
      "        \"results\": 1,\n",
      "        \"response\": [\n",
      "            {\n",
      "                \"continent\": \"Europe\",\n",
      "                \"country\": \"Albania\",\n",
      "                \"population\": null,\n",
      "                \"cases\": {\n",
      "                    \"new\": \"+29\",\n",
      "                    \"active\": 251,\n",
      "                    \"critical\": 4,\n",
      "                    \"recovered\": 385,\n",
      "                    \"1M_pop\": \"230\",\n",
      "                    \"total\": 663\n",
      "                },\n",
      "                \"deaths\": {\n",
      "                    \"new\": null,\n",
      "                    \"1M_pop\": null,\n",
      "                    \"total\": 27\n",
      "                },\n",
      "                \"tests\": {\n",
      "                    \"1M_pop\": null,\n",
      "                    \"total\": 6509\n",
      "                },\n",
      "                \"day\": \"2020-04-24\",\n",
      "                \"time\": \"2020-04-24T09:32:33+00:00\"\n",
      "            }\n",
      "        ]\n",
      "    },\n",
      "    {\n",
      "        \"get\": \"history\",\n",
      "        \"parameters\": {\n",
      "            \"country\": \"Albania\",\n",
      "            \"day\": \"2020-04-25\"\n",
      "        },\n",
      "        \"errors\": [],\n",
      "        \"results\": 2,\n",
      "        \"response\": [\n",
      "            {\n",
      "                \"continent\": \"Europe\",\n",
      "                \"country\": \"Albania\",\n",
      "                \"population\": null,\n",
      "                \"cases\": {\n",
      "                    \"new\": \"+15\",\n",
      "                    \"active\": 257,\n",
      "                    \"critical\": 4,\n",
      "                    \"recovered\": 394,\n",
      "                    \"1M_pop\": \"236\",\n",
      "                    \"total\": 678\n",
      "                },\n",
      "                \"deaths\": {\n",
      "                    \"new\": null,\n",
      "                    \"1M_pop\": null,\n",
      "                    \"total\": 27\n",
      "                },\n",
      "                \"tests\": {\n",
      "                    \"1M_pop\": null,\n",
      "                    \"total\": 6768\n",
      "                },\n",
      "                \"day\": \"2020-04-25\",\n",
      "                \"time\": \"2020-04-25T10:15:05+00:00\"\n",
      "            },\n",
      "            {\n",
      "                \"continent\": \"Europe\",\n",
      "                \"country\": \"Albania\",\n",
      "                \"population\": null,\n",
      "                \"cases\": {\n",
      "                    \"new\": \"+15\",\n",
      "                    \"active\": 257,\n",
      "                    \"critical\": 4,\n",
      "                    \"recovered\": 394,\n",
      "                    \"1M_pop\": \"236\",\n",
      "                    \"total\": 678\n",
      "                },\n",
      "                \"deaths\": {\n",
      "                    \"new\": null,\n",
      "                    \"1M_pop\": null,\n",
      "                    \"total\": 27\n",
      "                },\n",
      "                \"tests\": {\n",
      "                    \"1M_pop\": null,\n",
      "                    \"total\": 6509\n",
      "                },\n",
      "                \"day\": \"2020-04-25\",\n",
      "                \"time\": \"2020-04-25T00:30:05+00:00\"\n",
      "            }\n",
      "        ]\n",
      "    },\n",
      "    {\n",
      "        \"get\": \"history\",\n",
      "        \"parameters\": {\n",
      "            \"country\": \"Albania\",\n",
      "            \"day\": \"2020-04-26\"\n",
      "        },\n",
      "        \"errors\": [],\n",
      "        \"results\": 1,\n",
      "        \"response\": [\n",
      "            {\n",
      "                \"continent\": \"Europe\",\n",
      "                \"country\": \"Albania\",\n",
      "                \"population\": null,\n",
      "                \"cases\": {\n",
      "                    \"new\": \"+34\",\n",
      "                    \"active\": 282,\n",
      "                    \"critical\": 4,\n",
      "                    \"recovered\": 403,\n",
      "                    \"1M_pop\": \"247\",\n",
      "                    \"total\": 712\n",
      "                },\n",
      "                \"deaths\": {\n",
      "                    \"new\": null,\n",
      "                    \"1M_pop\": null,\n",
      "                    \"total\": 27\n",
      "                },\n",
      "                \"tests\": {\n",
      "                    \"1M_pop\": null,\n",
      "                    \"total\": 7015\n",
      "                },\n",
      "                \"day\": \"2020-04-26\",\n",
      "                \"time\": \"2020-04-26T11:15:05+00:00\"\n",
      "            }\n",
      "        ]\n",
      "    },\n",
      "    {\n",
      "        \"get\": \"history\",\n",
      "        \"parameters\": {\n",
      "            \"country\": \"Albania\",\n",
      "            \"day\": \"2020-04-27\"\n",
      "        },\n",
      "        \"errors\": [],\n",
      "        \"results\": 1,\n",
      "        \"response\": [\n",
      "            {\n",
      "                \"continent\": \"Europe\",\n",
      "                \"country\": \"Albania\",\n",
      "                \"population\": null,\n",
      "                \"cases\": {\n",
      "                    \"new\": \"+14\",\n",
      "                    \"active\": 288,\n",
      "                    \"critical\": 4,\n",
      "                    \"recovered\": 410,\n",
      "                    \"1M_pop\": \"252\",\n",
      "                    \"total\": 726\n",
      "                },\n",
      "                \"deaths\": {\n",
      "                    \"new\": \"+1\",\n",
      "                    \"1M_pop\": null,\n",
      "                    \"total\": 28\n",
      "                },\n",
      "                \"tests\": {\n",
      "                    \"1M_pop\": null,\n",
      "                    \"total\": 7279\n",
      "                },\n",
      "                \"day\": \"2020-04-27\",\n",
      "                \"time\": \"2020-04-27T15:45:04+00:00\"\n",
      "            }\n",
      "        ]\n",
      "    },\n",
      "    {\n",
      "        \"get\": \"history\",\n",
      "        \"parameters\": {\n",
      "            \"country\": \"Albania\",\n",
      "            \"day\": \"2020-04-28\"\n",
      "        },\n",
      "        \"errors\": [],\n",
      "        \"results\": 1,\n",
      "        \"response\": [\n",
      "            {\n",
      "                \"continent\": \"Europe\",\n",
      "                \"country\": \"Albania\",\n",
      "                \"population\": null,\n",
      "                \"cases\": {\n",
      "                    \"new\": \"+10\",\n",
      "                    \"active\": 286,\n",
      "                    \"critical\": 4,\n",
      "                    \"recovered\": 422,\n",
      "                    \"1M_pop\": \"256\",\n",
      "                    \"total\": 736\n",
      "                },\n",
      "                \"deaths\": {\n",
      "                    \"new\": null,\n",
      "                    \"1M_pop\": null,\n",
      "                    \"total\": 28\n",
      "                },\n",
      "                \"tests\": {\n",
      "                    \"1M_pop\": null,\n",
      "                    \"total\": 7491\n",
      "                },\n",
      "                \"day\": \"2020-04-28\",\n",
      "                \"time\": \"2020-04-28T09:47:34+00:00\"\n",
      "            }\n",
      "        ]\n",
      "    },\n",
      "    {\n",
      "        \"get\": \"history\",\n",
      "        \"parameters\": {\n",
      "            \"country\": \"Albania\",\n",
      "            \"day\": \"2020-04-29\"\n",
      "        },\n",
      "        \"errors\": [],\n",
      "        \"results\": 1,\n",
      "        \"response\": [\n",
      "            {\n",
      "                \"continent\": \"Europe\",\n",
      "                \"country\": \"Albania\",\n",
      "                \"population\": null,\n",
      "                \"cases\": {\n",
      "                    \"new\": \"+14\",\n",
      "                    \"active\": 289,\n",
      "                    \"critical\": 4,\n",
      "                    \"recovered\": 431,\n",
      "                    \"1M_pop\": \"261\",\n",
      "                    \"total\": 750\n",
      "                },\n",
      "                \"deaths\": {\n",
      "                    \"new\": \"+2\",\n",
      "                    \"1M_pop\": null,\n",
      "                    \"total\": 30\n",
      "                },\n",
      "                \"tests\": {\n",
      "                    \"1M_pop\": null,\n",
      "                    \"total\": 7758\n",
      "                },\n",
      "                \"day\": \"2020-04-29\",\n",
      "                \"time\": \"2020-04-29T11:45:07+00:00\"\n",
      "            }\n",
      "        ]\n",
      "    },\n",
      "    {\n",
      "        \"get\": \"history\",\n",
      "        \"parameters\": {\n",
      "            \"country\": \"Albania\",\n",
      "            \"day\": \"2020-04-30\"\n",
      "        },\n",
      "        \"errors\": [],\n",
      "        \"results\": 1,\n",
      "        \"response\": [\n",
      "            {\n",
      "                \"continent\": \"Europe\",\n",
      "                \"country\": \"Albania\",\n",
      "                \"population\": null,\n",
      "                \"cases\": {\n",
      "                    \"new\": \"+16\",\n",
      "                    \"active\": 281,\n",
      "                    \"critical\": 4,\n",
      "                    \"recovered\": 455,\n",
      "                    \"1M_pop\": \"266\",\n",
      "                    \"total\": 766\n",
      "                },\n",
      "                \"deaths\": {\n",
      "                    \"new\": null,\n",
      "                    \"1M_pop\": null,\n",
      "                    \"total\": 30\n",
      "                },\n",
      "                \"tests\": {\n",
      "                    \"1M_pop\": null,\n",
      "                    \"total\": 8028\n",
      "                },\n",
      "                \"day\": \"2020-04-30\",\n",
      "                \"time\": \"2020-04-30T10:30:05+00:00\"\n",
      "            }\n",
      "        ]\n",
      "    },\n",
      "    {\n",
      "        \"get\": \"history\",\n",
      "        \"parameters\": {\n",
      "            \"country\": \"Albania\",\n",
      "            \"day\": \"2020-05-01\"\n",
      "        },\n",
      "        \"errors\": [],\n",
      "        \"results\": 1,\n",
      "        \"response\": [\n",
      "            {\n",
      "                \"continent\": \"Europe\",\n",
      "                \"country\": \"Albania\",\n",
      "                \"population\": null,\n",
      "                \"cases\": {\n",
      "                    \"new\": \"+7\",\n",
      "                    \"active\": 272,\n",
      "                    \"critical\": 4,\n",
      "                    \"recovered\": 470,\n",
      "                    \"1M_pop\": \"269\",\n",
      "                    \"total\": 773\n",
      "                },\n",
      "                \"deaths\": {\n",
      "                    \"new\": \"+1\",\n",
      "                    \"1M_pop\": null,\n",
      "                    \"total\": 31\n",
      "                },\n",
      "                \"tests\": {\n",
      "                    \"1M_pop\": null,\n",
      "                    \"total\": 8253\n",
      "                },\n",
      "                \"day\": \"2020-05-01\",\n",
      "                \"time\": \"2020-05-01T12:45:05+00:00\"\n",
      "            }\n",
      "        ]\n",
      "    }\n",
      "]\n"
     ]
    }
   ],
   "source": [
    "import json\n",
    "\n",
    "with open('covid_data/api_data/april/Albania_april.json', 'r') as handle:\n",
    "    parsed = json.load(handle)\n",
    "\n",
    "print(json.dumps(parsed, indent=4))"
   ],
   "metadata": {
    "collapsed": false,
    "pycharm": {
     "name": "#%%\n"
    }
   }
  },
  {
   "cell_type": "markdown",
   "source": [
    "As one can also see: for each date given we get multiple statistical responses since the covid data was obviously updated regularly over the day. We will use the latest given values of the day for our inspections. Furthermore we will only use the number of total cases, since the number of new cases has been stated differently per country ( either they say how much in comparison to before or the total number + the new number ).\n",
    "\n",
    "So to make it easier for us we will create 3 Dataframes, in which each dataframe represents one month with countries, dates and the total cases of that date."
   ],
   "metadata": {
    "collapsed": false,
    "pycharm": {
     "name": "#%% md\n"
    }
   }
  },
  {
   "cell_type": "code",
   "execution_count": 6,
   "outputs": [
    {
     "name": "stdout",
     "output_type": "stream",
     "text": [
      "Albania\n",
      "259\n",
      "2020-04-01T11:30:04+00:00\n",
      "Albania\n",
      "277\n",
      "2020-04-02T21:30:05+00:00\n",
      "Albania\n",
      "304\n",
      "2020-04-03T15:30:04+00:00\n",
      "Albania\n",
      "333\n",
      "2020-04-04T21:45:05+00:00\n",
      "Albania\n",
      "333\n",
      "2020-04-05T10:30:06+00:00\n",
      "Albania\n",
      "361\n",
      "2020-04-06T09:15:05+00:00\n",
      "Albania\n",
      "383\n",
      "2020-04-07T10:00:06+00:00\n",
      "Albania\n",
      "383\n",
      "2020-04-08T10:00:06+00:00\n",
      "Albania\n",
      "409\n",
      "2020-04-09T17:00:17+00:00\n",
      "Albania\n",
      "416\n",
      "2020-04-10T10:30:03+00:00\n",
      "Albania\n",
      "416\n",
      "2020-04-11T09:30:04+00:00\n",
      "Albania\n",
      "433\n",
      "2020-04-12T09:45:04+00:00\n",
      "Albania\n",
      "446\n",
      "2020-04-13T10:00:05+00:00\n",
      "Albania\n",
      "467\n",
      "2020-04-14T09:30:05+00:00\n",
      "Albania\n",
      "475\n",
      "2020-04-15T09:17:34+00:00\n",
      "Albania\n",
      "494\n",
      "2020-04-16T11:00:05+00:00\n",
      "Albania\n",
      "518\n",
      "2020-04-17T09:15:04+00:00\n",
      "Albania\n",
      "539\n",
      "2020-04-18T10:45:05+00:00\n",
      "Albania\n",
      "548\n",
      "2020-04-19T09:45:05+00:00\n",
      "Albania\n",
      "562\n",
      "2020-04-20T09:17:31+00:00\n",
      "Albania\n",
      "584\n",
      "2020-04-21T09:15:04+00:00\n",
      "Albania\n",
      "609\n",
      "2020-04-22T09:45:25+00:00\n",
      "Albania\n",
      "634\n",
      "2020-04-23T09:15:06+00:00\n",
      "Albania\n",
      "663\n",
      "2020-04-24T09:32:33+00:00\n",
      "Albania\n",
      "678\n",
      "2020-04-25T10:15:05+00:00\n",
      "Albania\n",
      "712\n",
      "2020-04-26T11:15:05+00:00\n",
      "Albania\n",
      "726\n",
      "2020-04-27T15:45:04+00:00\n",
      "Albania\n",
      "736\n",
      "2020-04-28T09:47:34+00:00\n",
      "Albania\n",
      "750\n",
      "2020-04-29T11:45:07+00:00\n",
      "Albania\n",
      "766\n",
      "2020-04-30T10:30:05+00:00\n",
      "Albania\n",
      "773\n",
      "2020-05-01T12:45:05+00:00\n"
     ]
    }
   ],
   "source": [
    "for song in parsed:\n",
    "    # country\n",
    "    print(song['parameters'][\"country\"])\n",
    "    # total numbers\n",
    "    print(song['response'][0][\"cases\"][\"total\"])\n",
    "    # date and time\n",
    "    print(song['response'][0][\"time\"])"
   ],
   "metadata": {
    "collapsed": false,
    "pycharm": {
     "name": "#%%\n"
    }
   }
  },
  {
   "cell_type": "markdown",
   "source": [
    "Now we will do exactly what we did there for each month and all the files available. If there is nothing to catch from that country in terms of total number of cases or an error has occurecd then nothing will be added to the dataframe"
   ],
   "metadata": {
    "collapsed": false,
    "pycharm": {
     "name": "#%% md\n"
    }
   }
  },
  {
   "cell_type": "markdown",
   "source": [
    "### April"
   ],
   "metadata": {
    "collapsed": false,
    "pycharm": {
     "name": "#%% md\n"
    }
   }
  },
  {
   "cell_type": "code",
   "execution_count": 7,
   "outputs": [],
   "source": [
    "# empty dataframe\n",
    "april_df = pd.DataFrame(columns = [\"Country\", \"DateTime\", \"Total Cases\"])"
   ],
   "metadata": {
    "collapsed": false,
    "pycharm": {
     "name": "#%%\n"
    }
   }
  },
  {
   "cell_type": "code",
   "execution_count": 21,
   "outputs": [
    {
     "name": "stdout",
     "output_type": "stream",
     "text": [
      "Albania\n",
      "Albania\n",
      "Albania\n",
      "Albania\n",
      "Albania\n",
      "Albania\n",
      "Albania\n",
      "Albania\n",
      "Albania\n",
      "Albania\n",
      "Albania\n",
      "Albania\n",
      "Albania\n",
      "Albania\n",
      "Albania\n",
      "Albania\n",
      "Albania\n",
      "Albania\n",
      "Albania\n",
      "Albania\n",
      "Albania\n",
      "Albania\n",
      "Albania\n",
      "Albania\n",
      "Albania\n",
      "Albania\n",
      "Albania\n",
      "Albania\n",
      "Albania\n",
      "Albania\n",
      "Albania\n",
      "Albania\n",
      "Albania\n",
      "Albania\n",
      "Albania\n",
      "Albania\n",
      "Albania\n",
      "Albania\n",
      "Albania\n",
      "Albania\n",
      "Albania\n",
      "Albania\n",
      "Albania\n",
      "Albania\n",
      "Albania\n",
      "Albania\n",
      "Albania\n",
      "Albania\n",
      "Albania\n",
      "Albania\n"
     ]
    }
   ],
   "source": [
    "# iterate through the folder, parse each file and add the information into the dataframe\n",
    "import os\n",
    "# assign directory\n",
    "directory = 'covid_data/api_data/april'\n",
    "\n",
    "# iterate over files in\n",
    "# that directory\n",
    "for filename in os.listdir(directory):\n",
    "    f = os.path.join(directory, filename)\n",
    "    with open(f, 'r') as handle:\n",
    "        parsed = json.load(handle)\n",
    "        for info in parsed:\n",
    "            # country\n",
    "            country = info['parameters'][\"country\"]\n",
    "            # total numbers\n",
    "            total_cases = info['response'][0][\"cases\"][\"total\"]\n",
    "            # date and time\n",
    "            date_time = info['response'][0][\"time\"]\n",
    "            # add this into the dataframe\n",
    "            april_df = april_df.append({'Country' : country, 'DateTime' : date_time, 'Total Cases' : total_cases}, ignore_index = True)\n",
    "    print(country)"
   ],
   "metadata": {
    "collapsed": false,
    "pycharm": {
     "name": "#%%\n"
    }
   }
  },
  {
   "cell_type": "markdown",
   "source": [
    "### March"
   ],
   "metadata": {
    "collapsed": false,
    "pycharm": {
     "name": "#%% md\n"
    }
   }
  },
  {
   "cell_type": "code",
   "execution_count": null,
   "outputs": [],
   "source": [
    "# iterate through the folder, parse each file and add the information into the dataframe\n",
    "import os\n",
    "# assign directory\n",
    "directory = 'covid_data/api_data/march'\n",
    "\n",
    "march_df = pd.DataFrame(columns = [\"Country\", \"DateTime\", \"Total Cases\"])\n",
    "\n",
    "# iterate over files in\n",
    "# that directory\n",
    "for filename in os.listdir(directory):\n",
    "    f = os.path.join(directory, filename)\n",
    "    with open(f, 'r') as handle:\n",
    "        parsed = json.load(handle)\n",
    "        for info in parsed:\n",
    "            # country\n",
    "            country = info['parameters'][\"country\"]\n",
    "            # total numbers\n",
    "            total_cases = info['response'][0][\"cases\"][\"total\"]\n",
    "            # date and time\n",
    "            date_time = info['response'][0][\"time\"]\n",
    "            # add this into the dataframe\n",
    "            march_df = march_df.append({'Country' : country, 'DateTime' : date_time, 'Total Cases' : total_cases}, ignore_index = True)\n",
    "    print(country)"
   ],
   "metadata": {
    "collapsed": false,
    "pycharm": {
     "name": "#%%\n"
    }
   }
  },
  {
   "cell_type": "markdown",
   "source": [
    "### Mai"
   ],
   "metadata": {
    "collapsed": false,
    "pycharm": {
     "name": "#%% md\n"
    }
   }
  },
  {
   "cell_type": "code",
   "execution_count": null,
   "outputs": [],
   "source": [
    "# iterate through the folder, parse each file and add the information into the dataframe\n",
    "import os\n",
    "# assign directory\n",
    "directory = 'covid_data/api_data/mai'\n",
    "\n",
    "mai_df = pd.DataFrame(columns = [\"Country\", \"DateTime\", \"Total Cases\"])\n",
    "\n",
    "# iterate over files in\n",
    "# that directory\n",
    "for filename in os.listdir(directory):\n",
    "    f = os.path.join(directory, filename)\n",
    "    with open(f, 'r') as handle:\n",
    "        parsed = json.load(handle)\n",
    "        for info in parsed:\n",
    "            # country\n",
    "            country = info['parameters'][\"country\"]\n",
    "            # total numbers\n",
    "            total_cases = info['response'][0][\"cases\"][\"total\"]\n",
    "            # date and time\n",
    "            date_time = info['response'][0][\"time\"]\n",
    "            # add this into the dataframe\n",
    "            mai_df = mai_df.append({'Country' : country, 'DateTime' : date_time, 'Total Cases' : total_cases}, ignore_index = True)\n",
    "    print(country)"
   ],
   "metadata": {
    "collapsed": false,
    "pycharm": {
     "name": "#%%\n"
    }
   }
  },
  {
   "cell_type": "markdown",
   "source": [
    "## Enrichment - Regulations\n",
    "In Big Data it is important that the Data is not only collected, but that is also has some Value. To make Data valuable we have to enrich the data, meaning we bring some context to it. This can be achieved by forming a context as said. In our case this is going to mean that just the total number of cases is not enough. Next to the cases we need the regulations the countries have set during those specific months - Were bars closed? Were the clubs closed? Were people able to meet outside ? and so on.\n",
    "\n",
    "Since these factors are also of great importance.\n",
    "\n",
    "To do so we have found a .csv file which provides us with all the information concerning the countries regulations and how long these regulations were up and therefore had to be followed.\n",
    "This data was found on the following website: https://www.ecdc.europa.eu/en/publications-data/download-data-response-measures-covid-19"
   ],
   "metadata": {
    "collapsed": false,
    "pycharm": {
     "name": "#%% md\n"
    }
   }
  },
  {
   "cell_type": "code",
   "source": [
    "regulations_df = pd.read_csv(\"covid_data/country_regulations.csv\")\n",
    "regulations_df.head()"
   ],
   "metadata": {
    "collapsed": false,
    "pycharm": {
     "name": "#%%\n"
    }
   },
   "execution_count": 40,
   "outputs": [
    {
     "data": {
      "text/plain": "   Country       Response_measure  date_start    date_end\n0  Austria  AdaptationOfWorkplace  2020-03-16  2020-04-13\n1  Austria  AdaptationOfWorkplace  2021-04-01  2022-03-05\n2  Austria         BanOnAllEvents  2020-11-03  2021-05-18\n3  Austria            ClosDaycare  2020-03-16  2020-05-04\n4  Austria               ClosHigh  2020-03-16  2020-09-30",
      "text/html": "<div>\n<style scoped>\n    .dataframe tbody tr th:only-of-type {\n        vertical-align: middle;\n    }\n\n    .dataframe tbody tr th {\n        vertical-align: top;\n    }\n\n    .dataframe thead th {\n        text-align: right;\n    }\n</style>\n<table border=\"1\" class=\"dataframe\">\n  <thead>\n    <tr style=\"text-align: right;\">\n      <th></th>\n      <th>Country</th>\n      <th>Response_measure</th>\n      <th>date_start</th>\n      <th>date_end</th>\n    </tr>\n  </thead>\n  <tbody>\n    <tr>\n      <th>0</th>\n      <td>Austria</td>\n      <td>AdaptationOfWorkplace</td>\n      <td>2020-03-16</td>\n      <td>2020-04-13</td>\n    </tr>\n    <tr>\n      <th>1</th>\n      <td>Austria</td>\n      <td>AdaptationOfWorkplace</td>\n      <td>2021-04-01</td>\n      <td>2022-03-05</td>\n    </tr>\n    <tr>\n      <th>2</th>\n      <td>Austria</td>\n      <td>BanOnAllEvents</td>\n      <td>2020-11-03</td>\n      <td>2021-05-18</td>\n    </tr>\n    <tr>\n      <th>3</th>\n      <td>Austria</td>\n      <td>ClosDaycare</td>\n      <td>2020-03-16</td>\n      <td>2020-05-04</td>\n    </tr>\n    <tr>\n      <th>4</th>\n      <td>Austria</td>\n      <td>ClosHigh</td>\n      <td>2020-03-16</td>\n      <td>2020-09-30</td>\n    </tr>\n  </tbody>\n</table>\n</div>"
     },
     "execution_count": 40,
     "metadata": {},
     "output_type": "execute_result"
    }
   ]
  },
  {
   "cell_type": "markdown",
   "source": [
    "As one can see we get the Country the Response measure and the date when the measure started and until when it was present.\n",
    "The Response Measures in this dataframe are:"
   ],
   "metadata": {
    "collapsed": false,
    "pycharm": {
     "name": "#%% md\n"
    }
   }
  },
  {
   "cell_type": "code",
   "execution_count": 37,
   "outputs": [
    {
     "data": {
      "text/plain": "array(['AdaptationOfWorkplace', 'ClosDaycare', 'ClosHigh',\n       'ClosPrimPartial', 'ClosPubAny', 'ClosPubAnyPartial',\n       'ClosSecPartial', 'EntertainmentVenues',\n       'HotelsOtherAccommodation', 'IndoorOver100',\n       'MasksVoluntaryClosedSpacesPartial', 'MassGatherAll',\n       'NonEssentialShops', 'NonEssentialShopsPartial', 'OutdoorOver500',\n       'PlaceOfWorship', 'PlaceOfWorshipPartial',\n       'PrivateGatheringRestrictions',\n       'QuarantineForInternationalTravellers', 'RestaurantsCafes',\n       'StayHomeGen', 'StayHomeOrder', 'Teleworking', 'ClosPrim',\n       'ClosSec', 'GymsSportsCentres', 'GymsSportsCentresPartial',\n       'IndoorOver1000', 'MasksMandatoryAllSpacesPartial', 'SocialCircle',\n       'BanOnAllEvents', 'BanOnAllEventsPartial', 'ClosDaycarePartial',\n       'MasksMandatoryAllSpaces', 'MasksVoluntaryAllSpaces',\n       'MassGather50', 'MassGather50Partial', 'MassGatherAllPartial',\n       'ClosureOfPublicTransport', 'EntertainmentVenuesPartial',\n       'IndoorOver50', 'MasksMandatoryClosedSpaces', 'OutdoorOver50',\n       'QuarantineForInternationalTravellersPartial',\n       'RestaurantsCafesPartial', 'StayHomeRiskG',\n       'HotelsOtherAccommodationPartial', 'StayHomeOrderPartial',\n       'TeleworkingPartial', 'WorkplaceClosures',\n       'WorkplaceClosuresPartial', 'ClosHighPartial', 'IndoorOver500',\n       'OutdoorOver100', 'AdaptationOfWorkplacePartial',\n       'MasksVoluntaryClosedSpaces', 'MasksMandatoryClosedSpacesPartial',\n       'OutdoorOver1000', 'PrivateGatheringRestrictionsPartial',\n       'StayHomeGenPartial', 'ClosureOfPublicTransportPartial',\n       'MasksVoluntaryAllSpacesPartial', 'RegionalStayHomeOrder'],\n      dtype=object)"
     },
     "execution_count": 37,
     "metadata": {},
     "output_type": "execute_result"
    }
   ],
   "source": [
    "regulations_df.Response_measure.unique()"
   ],
   "metadata": {
    "collapsed": false,
    "pycharm": {
     "name": "#%%\n"
    }
   }
  },
  {
   "cell_type": "markdown",
   "source": [
    "Those regulations mean the following:\n",
    "\n",
    "- StayHomeOrder = Stay-at-home orders for the general population (these are enforced and also referred to as ‘lockdown’)\n",
    "- RegionalStayHomeOrder = Regional stay-at-home orders for the general population at least in one region (these are enforced and also referred to as ‘lockdown’)\n",
    "- StayHomeGen = Stay-at-home recommendations for the general population (which are voluntary or not enforced)\n",
    "- StayHomeRiskG = Stay-at-home recommendations for risk groups or vulnerable populations (such as the elderly, people with underlying health conditions, physically disabled people, etc.)\n",
    "- SocialCircle = Social circle/bubble to limit social contacts e.g. to limited number of households\n",
    "- PrivateGatheringRestrictions = Restrictions on private gatherings\n",
    "- ClosDaycare = Closure of educational institutions: daycare or nursery.\n",
    "- ClosPrim = Closure of educational institutions: primary schools.\n",
    "- ClosSec = Closure of educational institutions: secondary schools.\n",
    "- ClosHigh = Closure of educational institutions: higher education\n",
    "- MassGatherAll = Interventions are in place to limit mass/public gatherings (any interventions on mass gatherings up to 1000 participants included)\n",
    "- BanOnAllEvents = Interventions are in place to limit all indoor/outdoor mass/public gatherings\n",
    "- IndoorOver50 = Interventions are in place to limit indoor mass/public gatherings of over 50 participants\n",
    "- IndoorOver100 = Interventions are in place to limit indoor mass/public gatherings of over 100 participants\n",
    "- IndoorOver500 = Interventions are in place to limit indoor mass/public gatherings of over 500 participants\n",
    "- IndoorOver1000 = Interventions are in place to limit indoor mass/public gatherings of over 1000 participants\n",
    "- OutdoorOver50 = Interventions are in place to limit outdoor mass/public gatherings of over 50 participants\n",
    "- OutdoorOver100 = Interventions are in place to limit outdoor mass/public gatherings of over 100 participants\n",
    "- OutdoorOver500 = Interventions are in place to limit outdoor mass/public gatherings of over 500 participants\n",
    "- OutdoorOver1000 = Interventions are in place to limit outdoor mass/public gatherings of over 1000 participants\n",
    "- ClosPubAny = Closure of public spaces of any kind (including restaurants, entertainment venues, non-essential shops, partial or full closure of public transport, gyms and sport centers, etc).\n",
    "- EntertainmentVenues = Closure of entertainment venues\n",
    "- ClosureOfPublicTransport = Closure of public transport\n",
    "- GymsSportsCentres = Closure of gyms/sports centres\n",
    "- HotelsAccommodation = Closure of hotels/accommodation services\n",
    "- NonEssentialShops = Closures of non-essential shops\n",
    "- PlaceOfWorship = Closure of places of worship\n",
    "- RestaurantsCafes = Closure of restaurants and cafes/bars\n",
    "- MasksVoluntaryAllSpaces = Protective mask use in all public spaces on voluntary basis (general recommendation not enforced)\n",
    "- MasksVoluntaryClosedSpaces = Protective mask use in closed public spaces/transport on voluntary basis (general recommendation not enforced)\n",
    "- MasksMandatoryAllSpaces = Protective mask use in all public spaces on mandatory basis (enforced by law)\n",
    "- MasksMandatoryClosedSpaces = Protective mask use in closed public spaces/transport on mandatory basis (enforced by law)\n",
    "- Teleworking = Teleworking recommendation\n",
    "- AdaptationOfWorkplace = Adaptation of workplaces (e.g. to reduce risk of transmission)\n",
    "- WorkplaceClosures = Closures of workplaces\n",
    "- StayHomeOrderPartial = Stay-at-home orders for the general population (these are enforced and also referred to as ‘lockdown’) – partially relaxed measure\n",
    "- RegionalStayHomeOrderPartial = Regional stay-at-home orders for the general population at least in one region (these are enforced and also referred to as ‘lockdown’) – partially relaxed measure\n",
    "- StayHomeGenPartial = Stay-at-home recommendations for the general population (which are voluntary or not enforced) – partially relaxed measure\n",
    "- StayHomeRiskGPartial = Stay-at-home recommendations for risk groups or vulnerable populations (such as the elderly, people with underlying health conditions, physically disabled people, etc.) – partially relaxed measure\n",
    "- SocialCirclePartial = Social circle/bubble to limit social contacts e.g. to limited number of households – partially relaxed measure\n",
    "- PrivateGatheringRestrictionsPartial = Restrictions on private gatherings – partially relaxed measure\n",
    "- ClosDaycarePartial = Closure of educational institutions: daycare or nursery –partially relaxed measure\n",
    "- ClosPrimPartial = Closure of educational institutions: primary schools – partially relaxed measure\n",
    "- ClosSecPartial = Closure of educational institutions: secondary schools –partially relaxed measure\n",
    "- ClosHighPartial = Closure of educational institutions: higher education – partially relaxed measure\n",
    "- MassGatherAllPartial = Interventions are in place to limit mass/public gatherings (any interventions on mass gatherings up to 1000 participants included) – partially relaxed measure\n",
    "- BanOnAllEventsPartial = Interventions are in place to limit all indoor/outdoor mass/public gatherings – partially relaxed measure\n",
    "- IndoorOver50Partial = Interventions are in place to limit indoor mass/public gatherings of over 50 participants – partially relaxed measure\n",
    "- IndoorOver100Partial = Interventions are in place to limit indoor mass/public gatherings of over 100 participants – partially relaxed measure\n",
    "- IndoorOver500Partial = Interventions are in place to limit indoor mass/public gatherings of over 500 participants – partially relaxed measure\n",
    "- IndoorOver1000Partial = Interventions are in place to limit indoor mass/public gatherings of over 1000 participants – partially relaxed measure\n",
    "- OutdoorOver50Partial = Interventions are in place to limit outdoor mass/public gatherings of over 50 participants – partially relaxed measure\n",
    "- OutdoorOver100Partial = Interventions are in place to limit outdoor mass/public gatherings of over 100 participants – partially relaxed measure\n",
    "- OutdoorOver500Partial = Interventions are in place to limit outdoor mass/public gatherings of over 500 participants – partially relaxed measure\n",
    "- OutdoorOver1000Partial = Interventions are in place to limit outdoor mass/public gatherings of over 1000 participants – partially relaxed measure\n",
    "- ClosPubAnyPartial = Closure of public spaces of any kind (including restaurants, entertainment venues, non-essential shops, partial or full closure of public transport, gyms and sport centers etc) – partially relaxed measure\n",
    "- EntertainmentVenuesPartial = Closure of entertainment venues – partially relaxed measure\n",
    "- ClosureOfPublicTransportPartial = Closure of public transport – partially relaxed measure\n",
    "- GymsSportsCentresPartial = Closure of gyms/sports centres – partially relaxed measure\n",
    "- HotelsAccommodationPartial = Closure of hotels/accommodation services – partially relaxed measure\n",
    "- NonEssentialShopsPartial = Closures of non-essential shops – partially relaxed measure\n",
    "- PlaceOfWorshipPartial = Closure of places of worship – partially relaxed measure\n",
    "- RestaurantsCafesPartial = Closure of restaurants and cafes/bars – partially relaxed measure\n",
    "- MasksVoluntaryAllSpacesPartial = Protective mask use in all public spaces on voluntary basis (general recommendation not enforced) – partially relaxed measure\n",
    "- MasksVoluntaryClosedSpacesPartial = Protective mask use in closed public spaces/transport on voluntary basis (general recommendation not enforced) – partially relaxed measure\n",
    "- MasksMandatoryAllSpacesPartial = Protective mask use in all public spaces on mandatory basis (enforced by law) – partially relaxed measure\n",
    "- MasksMandatoryClosedSpacesPartial = Protective mask use in closed public spaces/transport on mandatory basis (enforced by law) – partially relaxed measure\n",
    "- TeleworkingPartial = Teleworking recommendation or workplace closures – partially relaxed measure\n",
    "- AdaptationOfWorkplacePartial = Adaptation of workplaces (e.g. to reduce risk of transmission) – partially relaxed measure\n",
    "- WorkplaceClosuresPartial = Closures of workplaces – partially relaxed measure"
   ],
   "metadata": {
    "collapsed": false,
    "pycharm": {
     "name": "#%% md\n"
    }
   }
  },
  {
   "cell_type": "markdown",
   "source": [
    "When looking at the country we have 29 countries present in the dataset , and these are the countries we have:"
   ],
   "metadata": {
    "collapsed": false,
    "pycharm": {
     "name": "#%% md\n"
    }
   }
  },
  {
   "cell_type": "code",
   "execution_count": 38,
   "outputs": [
    {
     "data": {
      "text/plain": "array(['Austria', 'Belgium', 'Bulgaria', 'Croatia', 'Cyprus', 'Czechia',\n       'Denmark', 'Estonia', 'Finland', 'France', 'Germany', 'Greece',\n       'Hungary', 'Iceland', 'Ireland', 'Italy', 'Latvia',\n       'Liechtenstein', 'Lithuania', 'Luxembourg', 'Malta', 'Netherlands',\n       'Norway', 'Poland', 'Portugal', 'Romania', 'Slovakia', 'Slovenia',\n       'Spain', 'Sweden'], dtype=object)"
     },
     "execution_count": 38,
     "metadata": {},
     "output_type": "execute_result"
    }
   ],
   "source": [
    "regulations_df.Country.unique()"
   ],
   "metadata": {
    "collapsed": false,
    "pycharm": {
     "name": "#%%\n"
    }
   }
  },
  {
   "cell_type": "markdown",
   "source": [
    "We are short of 20 countries in this dataset, which will lead to a slight miss-interpretation."
   ],
   "metadata": {
    "collapsed": false,
    "pycharm": {
     "name": "#%% md\n"
    }
   }
  },
  {
   "cell_type": "markdown",
   "source": [
    "Since we have the covid 19 numbers , as well as the incoming player counts per game seperated through months that are interesting to us we will do the exact same thing here. We will sort out every measure that has started before or after March, April or Mai."
   ],
   "metadata": {
    "collapsed": false,
    "pycharm": {
     "name": "#%% md\n"
    }
   }
  },
  {
   "cell_type": "code",
   "execution_count": 41,
   "outputs": [
    {
     "name": "stdout",
     "output_type": "stream",
     "text": [
      "Data types of columns: \n",
      "Country                     object\n",
      "Response_measure            object\n",
      "date_start          datetime64[ns]\n",
      "date_end            datetime64[ns]\n",
      "dtype: object\n"
     ]
    },
    {
     "data": {
      "text/plain": "      Country       Response_measure date_start   date_end\n0     Austria  AdaptationOfWorkplace 2020-03-16 2020-04-13\n3     Austria            ClosDaycare 2020-03-16 2020-05-04\n4     Austria               ClosHigh 2020-03-16 2020-09-30\n8     Austria        ClosPrimPartial 2020-03-16 2020-05-18\n9     Austria             ClosPubAny 2020-03-16 2020-04-13\n...       ...                    ...        ...        ...\n2007   Sweden           MassGather50 2020-03-29 2021-05-31\n2009   Sweden          MassGatherAll 2020-03-12 2021-09-29\n2012   Sweden          OutdoorOver50 2020-03-29 2021-05-31\n2019   Sweden          StayHomeRiskG 2020-04-01 2020-10-22\n2020   Sweden            Teleworking 2020-03-16 2022-03-31\n\n[682 rows x 4 columns]",
      "text/html": "<div>\n<style scoped>\n    .dataframe tbody tr th:only-of-type {\n        vertical-align: middle;\n    }\n\n    .dataframe tbody tr th {\n        vertical-align: top;\n    }\n\n    .dataframe thead th {\n        text-align: right;\n    }\n</style>\n<table border=\"1\" class=\"dataframe\">\n  <thead>\n    <tr style=\"text-align: right;\">\n      <th></th>\n      <th>Country</th>\n      <th>Response_measure</th>\n      <th>date_start</th>\n      <th>date_end</th>\n    </tr>\n  </thead>\n  <tbody>\n    <tr>\n      <th>0</th>\n      <td>Austria</td>\n      <td>AdaptationOfWorkplace</td>\n      <td>2020-03-16</td>\n      <td>2020-04-13</td>\n    </tr>\n    <tr>\n      <th>3</th>\n      <td>Austria</td>\n      <td>ClosDaycare</td>\n      <td>2020-03-16</td>\n      <td>2020-05-04</td>\n    </tr>\n    <tr>\n      <th>4</th>\n      <td>Austria</td>\n      <td>ClosHigh</td>\n      <td>2020-03-16</td>\n      <td>2020-09-30</td>\n    </tr>\n    <tr>\n      <th>8</th>\n      <td>Austria</td>\n      <td>ClosPrimPartial</td>\n      <td>2020-03-16</td>\n      <td>2020-05-18</td>\n    </tr>\n    <tr>\n      <th>9</th>\n      <td>Austria</td>\n      <td>ClosPubAny</td>\n      <td>2020-03-16</td>\n      <td>2020-04-13</td>\n    </tr>\n    <tr>\n      <th>...</th>\n      <td>...</td>\n      <td>...</td>\n      <td>...</td>\n      <td>...</td>\n    </tr>\n    <tr>\n      <th>2007</th>\n      <td>Sweden</td>\n      <td>MassGather50</td>\n      <td>2020-03-29</td>\n      <td>2021-05-31</td>\n    </tr>\n    <tr>\n      <th>2009</th>\n      <td>Sweden</td>\n      <td>MassGatherAll</td>\n      <td>2020-03-12</td>\n      <td>2021-09-29</td>\n    </tr>\n    <tr>\n      <th>2012</th>\n      <td>Sweden</td>\n      <td>OutdoorOver50</td>\n      <td>2020-03-29</td>\n      <td>2021-05-31</td>\n    </tr>\n    <tr>\n      <th>2019</th>\n      <td>Sweden</td>\n      <td>StayHomeRiskG</td>\n      <td>2020-04-01</td>\n      <td>2020-10-22</td>\n    </tr>\n    <tr>\n      <th>2020</th>\n      <td>Sweden</td>\n      <td>Teleworking</td>\n      <td>2020-03-16</td>\n      <td>2022-03-31</td>\n    </tr>\n  </tbody>\n</table>\n<p>682 rows × 4 columns</p>\n</div>"
     },
     "execution_count": 41,
     "metadata": {},
     "output_type": "execute_result"
    }
   ],
   "source": [
    "# create the dataframes out of the csv based on the months in the date , since we only use 2020 data everything that was started in 2021 or any other year will be deleted\n",
    "regulations_df['date_start']= pd.to_datetime(regulations_df['date_start'])\n",
    "regulations_df['date_end']= pd.to_datetime(regulations_df['date_end'])\n",
    "\n",
    "# check for correct types\n",
    "print(\"Data types of columns: \")\n",
    "print(regulations_df.dtypes)\n",
    "\n",
    "# now let's delete all that did not start in 2020 between march and mai\n",
    "# regulations_df = regulations_df[~(regulations_df['date_end'] < '2020-02-29')]\n",
    "regulations_df = regulations_df[~(regulations_df['date_start'] > '2020-05-31')]\n",
    "regulations_df"
   ],
   "metadata": {
    "collapsed": false,
    "pycharm": {
     "name": "#%%\n"
    }
   }
  },
  {
   "cell_type": "markdown",
   "source": [
    "Now we want to take a look at only those regulations, that made people stay at home, spend more time on the pc. Those would include closing Pubs, prohibiting events and so on."
   ],
   "metadata": {
    "collapsed": false,
    "pycharm": {
     "name": "#%% md\n"
    }
   }
  },
  {
   "cell_type": "code",
   "execution_count": 39,
   "outputs": [
    {
     "data": {
      "text/plain": "      Country       Response_measure date_start   date_end\n0     Austria  AdaptationOfWorkplace 2020-03-16 2020-04-13\n3     Austria            ClosDaycare 2020-03-16 2020-05-04\n4     Austria               ClosHigh 2020-03-16 2020-09-30\n8     Austria        ClosPrimPartial 2020-03-16 2020-05-18\n9     Austria             ClosPubAny 2020-03-16 2020-04-13\n...       ...                    ...        ...        ...\n2007   Sweden           MassGather50 2020-03-29 2021-05-31\n2009   Sweden          MassGatherAll 2020-03-12 2021-09-29\n2012   Sweden          OutdoorOver50 2020-03-29 2021-05-31\n2019   Sweden          StayHomeRiskG 2020-04-01 2020-10-22\n2020   Sweden            Teleworking 2020-03-16 2022-03-31\n\n[662 rows x 4 columns]",
      "text/html": "<div>\n<style scoped>\n    .dataframe tbody tr th:only-of-type {\n        vertical-align: middle;\n    }\n\n    .dataframe tbody tr th {\n        vertical-align: top;\n    }\n\n    .dataframe thead th {\n        text-align: right;\n    }\n</style>\n<table border=\"1\" class=\"dataframe\">\n  <thead>\n    <tr style=\"text-align: right;\">\n      <th></th>\n      <th>Country</th>\n      <th>Response_measure</th>\n      <th>date_start</th>\n      <th>date_end</th>\n    </tr>\n  </thead>\n  <tbody>\n    <tr>\n      <th>0</th>\n      <td>Austria</td>\n      <td>AdaptationOfWorkplace</td>\n      <td>2020-03-16</td>\n      <td>2020-04-13</td>\n    </tr>\n    <tr>\n      <th>3</th>\n      <td>Austria</td>\n      <td>ClosDaycare</td>\n      <td>2020-03-16</td>\n      <td>2020-05-04</td>\n    </tr>\n    <tr>\n      <th>4</th>\n      <td>Austria</td>\n      <td>ClosHigh</td>\n      <td>2020-03-16</td>\n      <td>2020-09-30</td>\n    </tr>\n    <tr>\n      <th>8</th>\n      <td>Austria</td>\n      <td>ClosPrimPartial</td>\n      <td>2020-03-16</td>\n      <td>2020-05-18</td>\n    </tr>\n    <tr>\n      <th>9</th>\n      <td>Austria</td>\n      <td>ClosPubAny</td>\n      <td>2020-03-16</td>\n      <td>2020-04-13</td>\n    </tr>\n    <tr>\n      <th>...</th>\n      <td>...</td>\n      <td>...</td>\n      <td>...</td>\n      <td>...</td>\n    </tr>\n    <tr>\n      <th>2007</th>\n      <td>Sweden</td>\n      <td>MassGather50</td>\n      <td>2020-03-29</td>\n      <td>2021-05-31</td>\n    </tr>\n    <tr>\n      <th>2009</th>\n      <td>Sweden</td>\n      <td>MassGatherAll</td>\n      <td>2020-03-12</td>\n      <td>2021-09-29</td>\n    </tr>\n    <tr>\n      <th>2012</th>\n      <td>Sweden</td>\n      <td>OutdoorOver50</td>\n      <td>2020-03-29</td>\n      <td>2021-05-31</td>\n    </tr>\n    <tr>\n      <th>2019</th>\n      <td>Sweden</td>\n      <td>StayHomeRiskG</td>\n      <td>2020-04-01</td>\n      <td>2020-10-22</td>\n    </tr>\n    <tr>\n      <th>2020</th>\n      <td>Sweden</td>\n      <td>Teleworking</td>\n      <td>2020-03-16</td>\n      <td>2022-03-31</td>\n    </tr>\n  </tbody>\n</table>\n<p>662 rows × 4 columns</p>\n</div>"
     },
     "execution_count": 39,
     "metadata": {},
     "output_type": "execute_result"
    }
   ],
   "source": [
    "# removal of all rows that include any kind of mask regulations:\n",
    "# MasksVoluntaryAllSpaces = Protective mask use in all public spaces on voluntary basis (general recommendation not enforced)\n",
    "# MasksVoluntaryClosedSpaces = Protective mask use in closed public spaces/transport on voluntary basis (general recommendation not enforced)\n",
    "# MasksMandatoryAllSpaces = Protective mask use in all public spaces on mandatory basis (enforced by law)\n",
    "# MasksMandatoryClosedSpaces = Protective mask use in closed public spaces/transport on mandatory basis (enforced by law)\n",
    "regulations_df = regulations_df[regulations_df.Response_measure != \"MasksVoluntaryAllSpaces\"]\n",
    "regulations_df = regulations_df[regulations_df.Response_measure != \"MasksVoluntaryClosedSpaces\"]\n",
    "regulations_df = regulations_df[regulations_df.Response_measure != \"MasksMandatoryAllSpaces\"]\n",
    "regulations_df = regulations_df[regulations_df.Response_measure != \"MasksMandatoryClosedSpaces\"]\n",
    "regulations_df"
   ],
   "metadata": {
    "collapsed": false,
    "pycharm": {
     "name": "#%%\n"
    }
   }
  },
  {
   "cell_type": "markdown",
   "source": [
    "We will now take a look at the bans/restrictions and regulations in forms of graphs:"
   ],
   "metadata": {
    "collapsed": false,
    "pycharm": {
     "name": "#%% md\n"
    }
   }
  },
  {
   "cell_type": "code",
   "execution_count": 65,
   "outputs": [
    {
     "name": "stderr",
     "output_type": "stream",
     "text": [
      "<ipython-input-65-5bf19aa1a654>:13: FutureWarning: Comparison of NaT with datetime.date is deprecated in order to match the standard library behavior.  In a future version these will be considered non-comparable.\n",
      "  if start_date >= row[\"date_start\"] and start_date <= row[\"date_end\"]:\n"
     ]
    },
    {
     "name": "stdout",
     "output_type": "stream",
     "text": [
      "                 Regulation        Date\n",
      "0     AdaptationOfWorkplace  2020-03-16\n",
      "1     AdaptationOfWorkplace  2020-03-17\n",
      "2     AdaptationOfWorkplace  2020-03-18\n",
      "3     AdaptationOfWorkplace  2020-03-19\n",
      "4     AdaptationOfWorkplace  2020-03-20\n",
      "...                     ...         ...\n",
      "8429            Teleworking  2020-03-28\n",
      "8430            Teleworking  2020-03-29\n",
      "8431            Teleworking  2020-03-30\n",
      "8432            Teleworking  2020-03-31\n",
      "8433            Teleworking  2020-04-01\n",
      "\n",
      "[8434 rows x 2 columns]\n"
     ]
    }
   ],
   "source": [
    "# we want to count the occurence per day of a certain regulation\n",
    "# now lets iterate through march\n",
    "march_reg_df = pd.DataFrame(columns = [\"Regulation\", \"Date\"])\n",
    "start_date = datetime.date(2020, 3, 1)\n",
    "end_date = datetime.date(2020, 4, 1)\n",
    "delta = datetime.timedelta(days=1)\n",
    "\n",
    "# for all unique regulations so lets itearte through the rows of the dataframe\n",
    "for index, row in regulations_df.iterrows():\n",
    "    start_date = datetime.date(2020, 3, 1)\n",
    "    while start_date <= end_date:\n",
    "        # get timedelta\n",
    "        if start_date >= row[\"date_start\"] and start_date <= row[\"date_end\"]:\n",
    "            regulation = row[\"Response_measure\"]\n",
    "            # add into dataframe\n",
    "            march_reg_df = march_reg_df.append({'Regulation' : regulation, 'Date' : start_date}, ignore_index = True)\n",
    "        start_date+=delta\n",
    "\n",
    "print(march_reg_df)\n",
    "# now lets create a count column and add the occurence of how many countries had that regulation on that day\n",
    "march_reg_df = march_reg_df.pivot_table(columns=['Regulation','Date'], aggfunc='size')"
   ],
   "metadata": {
    "collapsed": false,
    "pycharm": {
     "name": "#%%\n"
    }
   }
  },
  {
   "cell_type": "markdown",
   "source": [
    "### March Regulations\n",
    "\n",
    "Now we have a dataframe that shows us how many countries had certain regulations on each day. We can now plot all of these."
   ],
   "metadata": {
    "collapsed": false,
    "pycharm": {
     "name": "#%% md\n"
    }
   }
  },
  {
   "cell_type": "code",
   "execution_count": 66,
   "outputs": [
    {
     "data": {
      "text/plain": "Regulation             Date      \nAdaptationOfWorkplace  2020-03-10    1\n                       2020-03-11    1\n                       2020-03-12    1\n                       2020-03-13    1\n                       2020-03-14    1\n                                    ..\nWorkplaceClosures      2020-03-28    5\n                       2020-03-29    5\n                       2020-03-30    5\n                       2020-03-31    5\n                       2020-04-01    5\nLength: 1261, dtype: int64"
     },
     "execution_count": 66,
     "metadata": {},
     "output_type": "execute_result"
    }
   ],
   "source": [
    "march_reg_df"
   ],
   "metadata": {
    "collapsed": false,
    "pycharm": {
     "name": "#%%\n"
    }
   }
  },
  {
   "cell_type": "code",
   "execution_count": 67,
   "outputs": [],
   "source": [
    "march_reg_df = march_reg_df.reset_index()"
   ],
   "metadata": {
    "collapsed": false,
    "pycharm": {
     "name": "#%%\n"
    }
   }
  },
  {
   "cell_type": "code",
   "execution_count": 69,
   "outputs": [],
   "source": [
    "march_reg_df.columns = ['Regulation', 'Date', 'num_countries']"
   ],
   "metadata": {
    "collapsed": false,
    "pycharm": {
     "name": "#%%\n"
    }
   }
  },
  {
   "cell_type": "code",
   "execution_count": 70,
   "outputs": [
    {
     "data": {
      "text/plain": "                 Regulation        Date  num_countries\n0     AdaptationOfWorkplace  2020-03-10              1\n1     AdaptationOfWorkplace  2020-03-11              1\n2     AdaptationOfWorkplace  2020-03-12              1\n3     AdaptationOfWorkplace  2020-03-13              1\n4     AdaptationOfWorkplace  2020-03-14              1\n...                     ...         ...            ...\n1256      WorkplaceClosures  2020-03-28              5\n1257      WorkplaceClosures  2020-03-29              5\n1258      WorkplaceClosures  2020-03-30              5\n1259      WorkplaceClosures  2020-03-31              5\n1260      WorkplaceClosures  2020-04-01              5\n\n[1261 rows x 3 columns]",
      "text/html": "<div>\n<style scoped>\n    .dataframe tbody tr th:only-of-type {\n        vertical-align: middle;\n    }\n\n    .dataframe tbody tr th {\n        vertical-align: top;\n    }\n\n    .dataframe thead th {\n        text-align: right;\n    }\n</style>\n<table border=\"1\" class=\"dataframe\">\n  <thead>\n    <tr style=\"text-align: right;\">\n      <th></th>\n      <th>Regulation</th>\n      <th>Date</th>\n      <th>num_countries</th>\n    </tr>\n  </thead>\n  <tbody>\n    <tr>\n      <th>0</th>\n      <td>AdaptationOfWorkplace</td>\n      <td>2020-03-10</td>\n      <td>1</td>\n    </tr>\n    <tr>\n      <th>1</th>\n      <td>AdaptationOfWorkplace</td>\n      <td>2020-03-11</td>\n      <td>1</td>\n    </tr>\n    <tr>\n      <th>2</th>\n      <td>AdaptationOfWorkplace</td>\n      <td>2020-03-12</td>\n      <td>1</td>\n    </tr>\n    <tr>\n      <th>3</th>\n      <td>AdaptationOfWorkplace</td>\n      <td>2020-03-13</td>\n      <td>1</td>\n    </tr>\n    <tr>\n      <th>4</th>\n      <td>AdaptationOfWorkplace</td>\n      <td>2020-03-14</td>\n      <td>1</td>\n    </tr>\n    <tr>\n      <th>...</th>\n      <td>...</td>\n      <td>...</td>\n      <td>...</td>\n    </tr>\n    <tr>\n      <th>1256</th>\n      <td>WorkplaceClosures</td>\n      <td>2020-03-28</td>\n      <td>5</td>\n    </tr>\n    <tr>\n      <th>1257</th>\n      <td>WorkplaceClosures</td>\n      <td>2020-03-29</td>\n      <td>5</td>\n    </tr>\n    <tr>\n      <th>1258</th>\n      <td>WorkplaceClosures</td>\n      <td>2020-03-30</td>\n      <td>5</td>\n    </tr>\n    <tr>\n      <th>1259</th>\n      <td>WorkplaceClosures</td>\n      <td>2020-03-31</td>\n      <td>5</td>\n    </tr>\n    <tr>\n      <th>1260</th>\n      <td>WorkplaceClosures</td>\n      <td>2020-04-01</td>\n      <td>5</td>\n    </tr>\n  </tbody>\n</table>\n<p>1261 rows × 3 columns</p>\n</div>"
     },
     "execution_count": 70,
     "metadata": {},
     "output_type": "execute_result"
    }
   ],
   "source": [
    "march_reg_df"
   ],
   "metadata": {
    "collapsed": false,
    "pycharm": {
     "name": "#%%\n"
    }
   }
  },
  {
   "cell_type": "code",
   "execution_count": 105,
   "outputs": [],
   "source": [
    "import matplotlib.pyplot as plt\n",
    "\n",
    "# lets clean the df a bit more\n",
    "# MasksVoluntaryAllSpacesPartial = Protective mask use in all public spaces on voluntary basis (general recommendation not enforced) – partially relaxed measure\n",
    "# MasksVoluntaryClosedSpacesPartial = Protective mask use in closed public spaces/transport on voluntary basis (general recommendation not enforced) – partially relaxed measure\n",
    "# MasksMandatoryAllSpacesPartial = Protective mask use in all public spaces on mandatory basis (enforced by law) – partially relaxed measure\n",
    "# MasksMandatoryClosedSpacesPartial = Protective mask use in closed public spaces/transport on mandatory basis (enforced by law) – partially relaxed measure\n",
    "march_reg_df = march_reg_df[march_reg_df.Regulation != \"MasksVoluntaryAllSpacesPartial\"]\n",
    "march_reg_df = march_reg_df[march_reg_df.Regulation != \"MasksVoluntaryClosedSpacesPartial\"]\n",
    "march_reg_df = march_reg_df[march_reg_df.Regulation != \"MasksMandatoryAllSpacesPartial\"]\n",
    "march_reg_df = march_reg_df[march_reg_df.Regulation != \"MasksMandatoryClosedSpacesPartial\"]\n",
    "march_reg_df = march_reg_df[march_reg_df.Regulation != \"MasksVoluntaryAllSpaces\"]\n",
    "march_reg_df = march_reg_df[march_reg_df.Regulation != \"MasksVoluntaryClosedSpaces\"]\n",
    "march_reg_df = march_reg_df[march_reg_df.Regulation != \"MasksMandatoryAllSpaces\"]\n",
    "march_reg_df = march_reg_df[march_reg_df.Regulation != \"MasksMandatoryClosedSpaces\"]"
   ],
   "metadata": {
    "collapsed": false,
    "pycharm": {
     "name": "#%%\n"
    }
   }
  },
  {
   "cell_type": "code",
   "execution_count": 106,
   "outputs": [
    {
     "data": {
      "application/vnd.plotly.v1+json": {
       "data": [
        {
         "hovertemplate": "Regulation=AdaptationOfWorkplace<br>Date=%{x}<br>num_countries=%{y}<extra></extra>",
         "legendgroup": "AdaptationOfWorkplace",
         "line": {
          "color": "#636efa",
          "dash": "solid"
         },
         "marker": {
          "symbol": "circle"
         },
         "mode": "lines",
         "name": "AdaptationOfWorkplace",
         "showlegend": true,
         "x": [
          "2020-03-10",
          "2020-03-11",
          "2020-03-12",
          "2020-03-13",
          "2020-03-14",
          "2020-03-15",
          "2020-03-16",
          "2020-03-17",
          "2020-03-18",
          "2020-03-19",
          "2020-03-20",
          "2020-03-21",
          "2020-03-22",
          "2020-03-23",
          "2020-03-24",
          "2020-03-25",
          "2020-03-26",
          "2020-03-27",
          "2020-03-28",
          "2020-03-29",
          "2020-03-30",
          "2020-03-31",
          "2020-04-01"
         ],
         "xaxis": "x",
         "y": [
          1,
          1,
          1,
          1,
          1,
          1,
          4,
          4,
          3,
          3,
          3,
          3,
          3,
          3,
          4,
          5,
          5,
          5,
          5,
          5,
          5,
          5,
          5
         ],
         "yaxis": "y",
         "type": "scattergl"
        },
        {
         "hovertemplate": "Regulation=AdaptationOfWorkplacePartial<br>Date=%{x}<br>num_countries=%{y}<extra></extra>",
         "legendgroup": "AdaptationOfWorkplacePartial",
         "line": {
          "color": "#EF553B",
          "dash": "solid"
         },
         "marker": {
          "symbol": "circle"
         },
         "mode": "lines",
         "name": "AdaptationOfWorkplacePartial",
         "showlegend": true,
         "x": [
          "2020-03-09",
          "2020-03-10",
          "2020-03-11",
          "2020-03-12",
          "2020-03-13",
          "2020-03-14",
          "2020-03-15",
          "2020-03-16",
          "2020-03-17",
          "2020-03-18",
          "2020-03-19",
          "2020-03-20",
          "2020-03-21",
          "2020-03-22",
          "2020-03-23",
          "2020-03-24",
          "2020-03-25",
          "2020-03-26",
          "2020-03-27",
          "2020-03-28",
          "2020-03-29",
          "2020-03-30",
          "2020-03-31",
          "2020-04-01"
         ],
         "xaxis": "x",
         "y": [
          1,
          1,
          1,
          1,
          1,
          1,
          1,
          1,
          1,
          1,
          1,
          1,
          1,
          1,
          1,
          1,
          2,
          2,
          2,
          2,
          2,
          2,
          2,
          2
         ],
         "yaxis": "y",
         "type": "scattergl"
        },
        {
         "hovertemplate": "Regulation=BanOnAllEvents<br>Date=%{x}<br>num_countries=%{y}<extra></extra>",
         "legendgroup": "BanOnAllEvents",
         "line": {
          "color": "#00cc96",
          "dash": "solid"
         },
         "marker": {
          "symbol": "circle"
         },
         "mode": "lines",
         "name": "BanOnAllEvents",
         "showlegend": true,
         "x": [
          "2020-03-08",
          "2020-03-09",
          "2020-03-10",
          "2020-03-11",
          "2020-03-12",
          "2020-03-13",
          "2020-03-14",
          "2020-03-15",
          "2020-03-16",
          "2020-03-17",
          "2020-03-18",
          "2020-03-19",
          "2020-03-20",
          "2020-03-21",
          "2020-03-22",
          "2020-03-23",
          "2020-03-24",
          "2020-03-25",
          "2020-03-26",
          "2020-03-27",
          "2020-03-28",
          "2020-03-29",
          "2020-03-30",
          "2020-03-31",
          "2020-04-01"
         ],
         "xaxis": "x",
         "y": [
          1,
          2,
          4,
          4,
          6,
          7,
          10,
          11,
          11,
          12,
          12,
          14,
          15,
          15,
          15,
          16,
          17,
          17,
          17,
          17,
          17,
          17,
          17,
          17,
          17
         ],
         "yaxis": "y",
         "type": "scattergl"
        },
        {
         "hovertemplate": "Regulation=BanOnAllEventsPartial<br>Date=%{x}<br>num_countries=%{y}<extra></extra>",
         "legendgroup": "BanOnAllEventsPartial",
         "line": {
          "color": "#ab63fa",
          "dash": "solid"
         },
         "marker": {
          "symbol": "circle"
         },
         "mode": "lines",
         "name": "BanOnAllEventsPartial",
         "showlegend": true,
         "x": [
          "2020-03-04",
          "2020-03-05",
          "2020-03-06",
          "2020-03-07",
          "2020-03-08",
          "2020-03-16",
          "2020-03-17",
          "2020-03-18",
          "2020-03-19",
          "2020-03-20",
          "2020-03-21",
          "2020-03-22",
          "2020-03-23",
          "2020-03-24",
          "2020-03-25",
          "2020-03-26",
          "2020-03-27",
          "2020-03-28",
          "2020-03-29",
          "2020-03-30",
          "2020-03-31",
          "2020-04-01"
         ],
         "xaxis": "x",
         "y": [
          1,
          1,
          1,
          1,
          1,
          1,
          1,
          1,
          1,
          1,
          1,
          1,
          1,
          1,
          1,
          1,
          1,
          1,
          1,
          1,
          1,
          1
         ],
         "yaxis": "y",
         "type": "scattergl"
        },
        {
         "hovertemplate": "Regulation=ClosDaycare<br>Date=%{x}<br>num_countries=%{y}<extra></extra>",
         "legendgroup": "ClosDaycare",
         "line": {
          "color": "#FFA15A",
          "dash": "solid"
         },
         "marker": {
          "symbol": "circle"
         },
         "mode": "lines",
         "name": "ClosDaycare",
         "showlegend": true,
         "x": [
          "2020-03-10",
          "2020-03-11",
          "2020-03-12",
          "2020-03-13",
          "2020-03-14",
          "2020-03-15",
          "2020-03-16",
          "2020-03-17",
          "2020-03-18",
          "2020-03-19",
          "2020-03-20",
          "2020-03-21",
          "2020-03-22",
          "2020-03-23",
          "2020-03-24",
          "2020-03-25",
          "2020-03-26",
          "2020-03-27",
          "2020-03-28",
          "2020-03-29",
          "2020-03-30",
          "2020-03-31",
          "2020-04-01"
         ],
         "xaxis": "x",
         "y": [
          2,
          4,
          9,
          12,
          12,
          12,
          23,
          23,
          23,
          23,
          23,
          23,
          23,
          23,
          23,
          24,
          24,
          24,
          24,
          24,
          24,
          24,
          24
         ],
         "yaxis": "y",
         "type": "scattergl"
        },
        {
         "hovertemplate": "Regulation=ClosDaycarePartial<br>Date=%{x}<br>num_countries=%{y}<extra></extra>",
         "legendgroup": "ClosDaycarePartial",
         "line": {
          "color": "#19d3f3",
          "dash": "solid"
         },
         "marker": {
          "symbol": "circle"
         },
         "mode": "lines",
         "name": "ClosDaycarePartial",
         "showlegend": true,
         "x": [
          "2020-03-04",
          "2020-03-05",
          "2020-03-06",
          "2020-03-07",
          "2020-03-08",
          "2020-03-09"
         ],
         "xaxis": "x",
         "y": [
          1,
          1,
          1,
          1,
          1,
          1
         ],
         "yaxis": "y",
         "type": "scattergl"
        },
        {
         "hovertemplate": "Regulation=ClosHigh<br>Date=%{x}<br>num_countries=%{y}<extra></extra>",
         "legendgroup": "ClosHigh",
         "line": {
          "color": "#FF6692",
          "dash": "solid"
         },
         "marker": {
          "symbol": "circle"
         },
         "mode": "lines",
         "name": "ClosHigh",
         "showlegend": true,
         "x": [
          "2020-03-10",
          "2020-03-11",
          "2020-03-12",
          "2020-03-13",
          "2020-03-14",
          "2020-03-15",
          "2020-03-16",
          "2020-03-17",
          "2020-03-18",
          "2020-03-19",
          "2020-03-20",
          "2020-03-21",
          "2020-03-22",
          "2020-03-23",
          "2020-03-24",
          "2020-03-25",
          "2020-03-26",
          "2020-03-27",
          "2020-03-28",
          "2020-03-29",
          "2020-03-30",
          "2020-03-31",
          "2020-04-01"
         ],
         "xaxis": "x",
         "y": [
          2,
          3,
          8,
          11,
          12,
          12,
          24,
          26,
          27,
          27,
          27,
          27,
          27,
          27,
          27,
          28,
          28,
          28,
          28,
          28,
          28,
          28,
          28
         ],
         "yaxis": "y",
         "type": "scattergl"
        },
        {
         "hovertemplate": "Regulation=ClosHighPartial<br>Date=%{x}<br>num_countries=%{y}<extra></extra>",
         "legendgroup": "ClosHighPartial",
         "line": {
          "color": "#B6E880",
          "dash": "solid"
         },
         "marker": {
          "symbol": "circle"
         },
         "mode": "lines",
         "name": "ClosHighPartial",
         "showlegend": true,
         "x": [
          "2020-03-04",
          "2020-03-05",
          "2020-03-06",
          "2020-03-07",
          "2020-03-08",
          "2020-03-09",
          "2020-03-16",
          "2020-03-17",
          "2020-03-18",
          "2020-03-19",
          "2020-03-20",
          "2020-03-21",
          "2020-03-22",
          "2020-03-23",
          "2020-03-24",
          "2020-03-25",
          "2020-03-26",
          "2020-03-27",
          "2020-03-28",
          "2020-03-29",
          "2020-03-30",
          "2020-03-31",
          "2020-04-01"
         ],
         "xaxis": "x",
         "y": [
          1,
          1,
          1,
          1,
          1,
          1,
          1,
          1,
          1,
          1,
          1,
          1,
          1,
          1,
          1,
          1,
          1,
          1,
          1,
          1,
          1,
          1,
          1
         ],
         "yaxis": "y",
         "type": "scattergl"
        },
        {
         "hovertemplate": "Regulation=ClosPrim<br>Date=%{x}<br>num_countries=%{y}<extra></extra>",
         "legendgroup": "ClosPrim",
         "line": {
          "color": "#FF97FF",
          "dash": "solid"
         },
         "marker": {
          "symbol": "circle"
         },
         "mode": "lines",
         "name": "ClosPrim",
         "showlegend": true,
         "x": [
          "2020-03-05",
          "2020-03-06",
          "2020-03-07",
          "2020-03-08",
          "2020-03-09",
          "2020-03-10",
          "2020-03-11",
          "2020-03-12",
          "2020-03-13",
          "2020-03-14",
          "2020-03-15",
          "2020-03-16",
          "2020-03-17",
          "2020-03-18",
          "2020-03-19",
          "2020-03-20",
          "2020-03-21",
          "2020-03-22",
          "2020-03-23",
          "2020-03-24",
          "2020-03-25",
          "2020-03-26",
          "2020-03-27",
          "2020-03-28",
          "2020-03-29",
          "2020-03-30",
          "2020-03-31",
          "2020-04-01"
         ],
         "xaxis": "x",
         "y": [
          1,
          1,
          1,
          1,
          1,
          2,
          4,
          9,
          12,
          12,
          12,
          23,
          24,
          25,
          25,
          25,
          25,
          25,
          25,
          25,
          25,
          25,
          25,
          25,
          25,
          25,
          25,
          25
         ],
         "yaxis": "y",
         "type": "scattergl"
        },
        {
         "hovertemplate": "Regulation=ClosPrimPartial<br>Date=%{x}<br>num_countries=%{y}<extra></extra>",
         "legendgroup": "ClosPrimPartial",
         "line": {
          "color": "#FECB52",
          "dash": "solid"
         },
         "marker": {
          "symbol": "circle"
         },
         "mode": "lines",
         "name": "ClosPrimPartial",
         "showlegend": true,
         "x": [
          "2020-03-13",
          "2020-03-14",
          "2020-03-15",
          "2020-03-16",
          "2020-03-17",
          "2020-03-18",
          "2020-03-19",
          "2020-03-20",
          "2020-03-21",
          "2020-03-22",
          "2020-03-23",
          "2020-03-24",
          "2020-03-25",
          "2020-03-26",
          "2020-03-27",
          "2020-03-28",
          "2020-03-29",
          "2020-03-30",
          "2020-03-31",
          "2020-04-01"
         ],
         "xaxis": "x",
         "y": [
          1,
          1,
          1,
          2,
          2,
          2,
          2,
          2,
          2,
          2,
          2,
          2,
          2,
          2,
          2,
          2,
          2,
          2,
          2,
          2
         ],
         "yaxis": "y",
         "type": "scattergl"
        },
        {
         "hovertemplate": "Regulation=ClosPubAny<br>Date=%{x}<br>num_countries=%{y}<extra></extra>",
         "legendgroup": "ClosPubAny",
         "line": {
          "color": "#636efa",
          "dash": "solid"
         },
         "marker": {
          "symbol": "circle"
         },
         "mode": "lines",
         "name": "ClosPubAny",
         "showlegend": true,
         "x": [
          "2020-03-11",
          "2020-03-12",
          "2020-03-13",
          "2020-03-14",
          "2020-03-15",
          "2020-03-16",
          "2020-03-17",
          "2020-03-18",
          "2020-03-19",
          "2020-03-20",
          "2020-03-21",
          "2020-03-22",
          "2020-03-23",
          "2020-03-24",
          "2020-03-25",
          "2020-03-26",
          "2020-03-27",
          "2020-03-28",
          "2020-03-29",
          "2020-03-30",
          "2020-03-31",
          "2020-04-01"
         ],
         "xaxis": "x",
         "y": [
          2,
          5,
          8,
          9,
          10,
          14,
          15,
          18,
          18,
          18,
          18,
          18,
          17,
          17,
          17,
          17,
          16,
          15,
          15,
          15,
          15,
          15
         ],
         "yaxis": "y",
         "type": "scattergl"
        },
        {
         "hovertemplate": "Regulation=ClosPubAnyPartial<br>Date=%{x}<br>num_countries=%{y}<extra></extra>",
         "legendgroup": "ClosPubAnyPartial",
         "line": {
          "color": "#EF553B",
          "dash": "solid"
         },
         "marker": {
          "symbol": "circle"
         },
         "mode": "lines",
         "name": "ClosPubAnyPartial",
         "showlegend": true,
         "x": [
          "2020-03-10",
          "2020-03-11",
          "2020-03-12",
          "2020-03-13",
          "2020-03-14",
          "2020-03-15",
          "2020-03-16",
          "2020-03-17",
          "2020-03-18",
          "2020-03-19",
          "2020-03-20",
          "2020-03-21",
          "2020-03-22",
          "2020-03-23",
          "2020-03-24",
          "2020-03-25",
          "2020-03-26",
          "2020-03-27",
          "2020-03-28",
          "2020-03-29",
          "2020-03-30",
          "2020-03-31",
          "2020-04-01"
         ],
         "xaxis": "x",
         "y": [
          2,
          2,
          5,
          5,
          8,
          8,
          10,
          10,
          10,
          11,
          11,
          11,
          11,
          12,
          12,
          12,
          12,
          13,
          14,
          14,
          14,
          14,
          14
         ],
         "yaxis": "y",
         "type": "scattergl"
        },
        {
         "hovertemplate": "Regulation=ClosSec<br>Date=%{x}<br>num_countries=%{y}<extra></extra>",
         "legendgroup": "ClosSec",
         "line": {
          "color": "#00cc96",
          "dash": "solid"
         },
         "marker": {
          "symbol": "circle"
         },
         "mode": "lines",
         "name": "ClosSec",
         "showlegend": true,
         "x": [
          "2020-03-04",
          "2020-03-05",
          "2020-03-06",
          "2020-03-07",
          "2020-03-08",
          "2020-03-09",
          "2020-03-10",
          "2020-03-11",
          "2020-03-12",
          "2020-03-13",
          "2020-03-14",
          "2020-03-15",
          "2020-03-16",
          "2020-03-17",
          "2020-03-18",
          "2020-03-19",
          "2020-03-20",
          "2020-03-21",
          "2020-03-22",
          "2020-03-23",
          "2020-03-24",
          "2020-03-25",
          "2020-03-26",
          "2020-03-27",
          "2020-03-28",
          "2020-03-29",
          "2020-03-30",
          "2020-03-31",
          "2020-04-01"
         ],
         "xaxis": "x",
         "y": [
          1,
          1,
          1,
          1,
          1,
          1,
          2,
          4,
          9,
          12,
          12,
          12,
          24,
          24,
          26,
          26,
          26,
          26,
          26,
          26,
          26,
          26,
          26,
          26,
          26,
          26,
          26,
          26,
          26
         ],
         "yaxis": "y",
         "type": "scattergl"
        },
        {
         "hovertemplate": "Regulation=ClosSecPartial<br>Date=%{x}<br>num_countries=%{y}<extra></extra>",
         "legendgroup": "ClosSecPartial",
         "line": {
          "color": "#ab63fa",
          "dash": "solid"
         },
         "marker": {
          "symbol": "circle"
         },
         "mode": "lines",
         "name": "ClosSecPartial",
         "showlegend": true,
         "x": [
          "2020-03-13",
          "2020-03-14",
          "2020-03-15",
          "2020-03-16",
          "2020-03-17",
          "2020-03-18",
          "2020-03-19",
          "2020-03-20",
          "2020-03-21",
          "2020-03-22",
          "2020-03-23",
          "2020-03-24",
          "2020-03-25",
          "2020-03-26",
          "2020-03-27",
          "2020-03-28",
          "2020-03-29",
          "2020-03-30",
          "2020-03-31",
          "2020-04-01"
         ],
         "xaxis": "x",
         "y": [
          1,
          1,
          1,
          2,
          3,
          3,
          3,
          3,
          3,
          3,
          3,
          3,
          3,
          3,
          3,
          3,
          3,
          3,
          3,
          3
         ],
         "yaxis": "y",
         "type": "scattergl"
        },
        {
         "hovertemplate": "Regulation=ClosureOfPublicTransport<br>Date=%{x}<br>num_countries=%{y}<extra></extra>",
         "legendgroup": "ClosureOfPublicTransport",
         "line": {
          "color": "#FFA15A",
          "dash": "solid"
         },
         "marker": {
          "symbol": "circle"
         },
         "mode": "lines",
         "name": "ClosureOfPublicTransport",
         "showlegend": true,
         "x": [
          "2020-03-14",
          "2020-03-15",
          "2020-03-16",
          "2020-03-17",
          "2020-03-18",
          "2020-03-19",
          "2020-03-20",
          "2020-03-21",
          "2020-03-22",
          "2020-03-23",
          "2020-03-24",
          "2020-03-25",
          "2020-03-26",
          "2020-03-27",
          "2020-03-28",
          "2020-03-29",
          "2020-03-30",
          "2020-03-31",
          "2020-04-01"
         ],
         "xaxis": "x",
         "y": [
          1,
          1,
          1,
          1,
          1,
          1,
          1,
          1,
          2,
          2,
          2,
          2,
          2,
          2,
          2,
          2,
          2,
          2,
          2
         ],
         "yaxis": "y",
         "type": "scattergl"
        },
        {
         "hovertemplate": "Regulation=ClosureOfPublicTransportPartial<br>Date=%{x}<br>num_countries=%{y}<extra></extra>",
         "legendgroup": "ClosureOfPublicTransportPartial",
         "line": {
          "color": "#19d3f3",
          "dash": "solid"
         },
         "marker": {
          "symbol": "circle"
         },
         "mode": "lines",
         "name": "ClosureOfPublicTransportPartial",
         "showlegend": true,
         "x": [
          "2020-03-12",
          "2020-03-13",
          "2020-03-14",
          "2020-03-15",
          "2020-03-16",
          "2020-03-17",
          "2020-03-18",
          "2020-03-19",
          "2020-03-20",
          "2020-03-21",
          "2020-03-22",
          "2020-03-23",
          "2020-03-24",
          "2020-03-25",
          "2020-03-26",
          "2020-03-27",
          "2020-03-28",
          "2020-03-29",
          "2020-03-30",
          "2020-03-31",
          "2020-04-01"
         ],
         "xaxis": "x",
         "y": [
          1,
          1,
          2,
          3,
          4,
          4,
          5,
          5,
          5,
          5,
          5,
          5,
          5,
          5,
          5,
          6,
          6,
          6,
          6,
          6,
          6
         ],
         "yaxis": "y",
         "type": "scattergl"
        },
        {
         "hovertemplate": "Regulation=EntertainmentVenues<br>Date=%{x}<br>num_countries=%{y}<extra></extra>",
         "legendgroup": "EntertainmentVenues",
         "line": {
          "color": "#FF6692",
          "dash": "solid"
         },
         "marker": {
          "symbol": "circle"
         },
         "mode": "lines",
         "name": "EntertainmentVenues",
         "showlegend": true,
         "x": [
          "2020-03-10",
          "2020-03-11",
          "2020-03-12",
          "2020-03-13",
          "2020-03-14",
          "2020-03-15",
          "2020-03-16",
          "2020-03-17",
          "2020-03-18",
          "2020-03-19",
          "2020-03-20",
          "2020-03-21",
          "2020-03-22",
          "2020-03-23",
          "2020-03-24",
          "2020-03-25",
          "2020-03-26",
          "2020-03-27",
          "2020-03-28",
          "2020-03-29",
          "2020-03-30",
          "2020-03-31",
          "2020-04-01"
         ],
         "xaxis": "x",
         "y": [
          1,
          2,
          6,
          9,
          12,
          12,
          22,
          24,
          28,
          28,
          28,
          28,
          28,
          28,
          28,
          28,
          28,
          28,
          28,
          28,
          28,
          28,
          28
         ],
         "yaxis": "y",
         "type": "scattergl"
        },
        {
         "hovertemplate": "Regulation=EntertainmentVenuesPartial<br>Date=%{x}<br>num_countries=%{y}<extra></extra>",
         "legendgroup": "EntertainmentVenuesPartial",
         "line": {
          "color": "#B6E880",
          "dash": "solid"
         },
         "marker": {
          "symbol": "circle"
         },
         "mode": "lines",
         "name": "EntertainmentVenuesPartial",
         "showlegend": true,
         "x": [
          "2020-03-13",
          "2020-03-14",
          "2020-03-15",
          "2020-03-19",
          "2020-03-20",
          "2020-03-21",
          "2020-03-22",
          "2020-03-23",
          "2020-03-24",
          "2020-03-25",
          "2020-03-26",
          "2020-03-27",
          "2020-03-28",
          "2020-03-29",
          "2020-03-30",
          "2020-03-31",
          "2020-04-01"
         ],
         "xaxis": "x",
         "y": [
          1,
          1,
          1,
          1,
          1,
          1,
          1,
          1,
          1,
          1,
          1,
          1,
          1,
          1,
          1,
          1,
          1
         ],
         "yaxis": "y",
         "type": "scattergl"
        },
        {
         "hovertemplate": "Regulation=GymsSportsCentres<br>Date=%{x}<br>num_countries=%{y}<extra></extra>",
         "legendgroup": "GymsSportsCentres",
         "line": {
          "color": "#FF97FF",
          "dash": "solid"
         },
         "marker": {
          "symbol": "circle"
         },
         "mode": "lines",
         "name": "GymsSportsCentres",
         "showlegend": true,
         "x": [
          "2020-03-10",
          "2020-03-11",
          "2020-03-12",
          "2020-03-13",
          "2020-03-14",
          "2020-03-15",
          "2020-03-16",
          "2020-03-17",
          "2020-03-18",
          "2020-03-19",
          "2020-03-20",
          "2020-03-21",
          "2020-03-22",
          "2020-03-23",
          "2020-03-24",
          "2020-03-25",
          "2020-03-26",
          "2020-03-27",
          "2020-03-28",
          "2020-03-29",
          "2020-03-30",
          "2020-03-31",
          "2020-04-01"
         ],
         "xaxis": "x",
         "y": [
          1,
          1,
          2,
          6,
          8,
          10,
          16,
          17,
          21,
          22,
          22,
          22,
          22,
          22,
          23,
          23,
          23,
          23,
          23,
          23,
          23,
          23,
          23
         ],
         "yaxis": "y",
         "type": "scattergl"
        },
        {
         "hovertemplate": "Regulation=GymsSportsCentresPartial<br>Date=%{x}<br>num_countries=%{y}<extra></extra>",
         "legendgroup": "GymsSportsCentresPartial",
         "line": {
          "color": "#FECB52",
          "dash": "solid"
         },
         "marker": {
          "symbol": "circle"
         },
         "mode": "lines",
         "name": "GymsSportsCentresPartial",
         "showlegend": true,
         "x": [
          "2020-03-12",
          "2020-03-13",
          "2020-03-14",
          "2020-03-15",
          "2020-03-16",
          "2020-03-17",
          "2020-03-18",
          "2020-03-19",
          "2020-03-20",
          "2020-03-21",
          "2020-03-22",
          "2020-03-23",
          "2020-03-24",
          "2020-03-25",
          "2020-03-26",
          "2020-03-27",
          "2020-03-28",
          "2020-03-29",
          "2020-03-30",
          "2020-03-31",
          "2020-04-01"
         ],
         "xaxis": "x",
         "y": [
          1,
          1,
          2,
          2,
          3,
          3,
          3,
          3,
          3,
          3,
          3,
          3,
          3,
          3,
          3,
          3,
          3,
          3,
          3,
          3,
          3
         ],
         "yaxis": "y",
         "type": "scattergl"
        },
        {
         "hovertemplate": "Regulation=HotelsOtherAccommodation<br>Date=%{x}<br>num_countries=%{y}<extra></extra>",
         "legendgroup": "HotelsOtherAccommodation",
         "line": {
          "color": "#636efa",
          "dash": "solid"
         },
         "marker": {
          "symbol": "circle"
         },
         "mode": "lines",
         "name": "HotelsOtherAccommodation",
         "showlegend": true,
         "x": [
          "2020-03-14",
          "2020-03-15",
          "2020-03-16",
          "2020-03-17",
          "2020-03-18",
          "2020-03-19",
          "2020-03-20",
          "2020-03-21",
          "2020-03-22",
          "2020-03-23",
          "2020-03-24",
          "2020-03-25",
          "2020-03-26",
          "2020-03-27",
          "2020-03-28",
          "2020-03-29",
          "2020-03-30",
          "2020-03-31",
          "2020-04-01"
         ],
         "xaxis": "x",
         "y": [
          2,
          3,
          5,
          5,
          6,
          6,
          6,
          6,
          6,
          6,
          7,
          7,
          7,
          7,
          7,
          7,
          7,
          8,
          8
         ],
         "yaxis": "y",
         "type": "scattergl"
        },
        {
         "hovertemplate": "Regulation=HotelsOtherAccommodationPartial<br>Date=%{x}<br>num_countries=%{y}<extra></extra>",
         "legendgroup": "HotelsOtherAccommodationPartial",
         "line": {
          "color": "#EF553B",
          "dash": "solid"
         },
         "marker": {
          "symbol": "circle"
         },
         "mode": "lines",
         "name": "HotelsOtherAccommodationPartial",
         "showlegend": true,
         "x": [
          "2020-03-12",
          "2020-03-13",
          "2020-03-14",
          "2020-03-15",
          "2020-03-16",
          "2020-03-17",
          "2020-03-18",
          "2020-03-19",
          "2020-03-20",
          "2020-03-21",
          "2020-03-22",
          "2020-03-23",
          "2020-03-24",
          "2020-03-25",
          "2020-03-26",
          "2020-03-27",
          "2020-03-28",
          "2020-03-29",
          "2020-03-30",
          "2020-03-31",
          "2020-04-01"
         ],
         "xaxis": "x",
         "y": [
          1,
          1,
          1,
          1,
          1,
          1,
          1,
          1,
          1,
          1,
          1,
          1,
          1,
          1,
          1,
          1,
          1,
          1,
          1,
          1,
          1
         ],
         "yaxis": "y",
         "type": "scattergl"
        },
        {
         "hovertemplate": "Regulation=IndoorOver100<br>Date=%{x}<br>num_countries=%{y}<extra></extra>",
         "legendgroup": "IndoorOver100",
         "line": {
          "color": "#00cc96",
          "dash": "solid"
         },
         "marker": {
          "symbol": "circle"
         },
         "mode": "lines",
         "name": "IndoorOver100",
         "showlegend": true,
         "x": [
          "2020-03-10",
          "2020-03-11",
          "2020-03-12",
          "2020-03-13",
          "2020-03-14",
          "2020-03-15",
          "2020-03-16",
          "2020-03-17",
          "2020-03-18",
          "2020-03-19",
          "2020-03-20",
          "2020-03-21",
          "2020-03-22",
          "2020-03-23",
          "2020-03-24",
          "2020-03-25",
          "2020-03-26",
          "2020-03-27",
          "2020-03-28",
          "2020-03-29",
          "2020-03-30",
          "2020-03-31",
          "2020-04-01"
         ],
         "xaxis": "x",
         "y": [
          2,
          4,
          6,
          6,
          6,
          7,
          7,
          7,
          7,
          6,
          5,
          5,
          5,
          5,
          2,
          2,
          2,
          2,
          2,
          2,
          2,
          2,
          2
         ],
         "yaxis": "y",
         "type": "scattergl"
        },
        {
         "hovertemplate": "Regulation=IndoorOver1000<br>Date=%{x}<br>num_countries=%{y}<extra></extra>",
         "legendgroup": "IndoorOver1000",
         "line": {
          "color": "#ab63fa",
          "dash": "solid"
         },
         "marker": {
          "symbol": "circle"
         },
         "mode": "lines",
         "name": "IndoorOver1000",
         "showlegend": true,
         "x": [
          "2020-03-01",
          "2020-03-02",
          "2020-03-03",
          "2020-03-04",
          "2020-03-05",
          "2020-03-06",
          "2020-03-07",
          "2020-03-08",
          "2020-03-09",
          "2020-03-10",
          "2020-03-11",
          "2020-03-12",
          "2020-03-13",
          "2020-03-14",
          "2020-03-15",
          "2020-03-16",
          "2020-03-17",
          "2020-03-18",
          "2020-03-19",
          "2020-03-20",
          "2020-03-21",
          "2020-03-22",
          "2020-03-23",
          "2020-03-24",
          "2020-03-25",
          "2020-03-26",
          "2020-03-27",
          "2020-03-28",
          "2020-03-29",
          "2020-03-30",
          "2020-03-31",
          "2020-04-01"
         ],
         "xaxis": "x",
         "y": [
          2,
          2,
          2,
          2,
          2,
          2,
          2,
          2,
          3,
          5,
          5,
          5,
          5,
          4,
          3,
          3,
          3,
          2,
          2,
          2,
          2,
          2,
          1,
          1,
          1,
          1,
          1,
          1,
          1,
          1,
          1,
          1
         ],
         "yaxis": "y",
         "type": "scattergl"
        },
        {
         "hovertemplate": "Regulation=IndoorOver50<br>Date=%{x}<br>num_countries=%{y}<extra></extra>",
         "legendgroup": "IndoorOver50",
         "line": {
          "color": "#FFA15A",
          "dash": "solid"
         },
         "marker": {
          "symbol": "circle"
         },
         "mode": "lines",
         "name": "IndoorOver50",
         "showlegend": true,
         "x": [
          "2020-03-18",
          "2020-03-19",
          "2020-03-20",
          "2020-03-21",
          "2020-03-22",
          "2020-03-23",
          "2020-03-24",
          "2020-03-25",
          "2020-03-26",
          "2020-03-27",
          "2020-03-28",
          "2020-03-29",
          "2020-03-30",
          "2020-03-31",
          "2020-04-01"
         ],
         "xaxis": "x",
         "y": [
          1,
          1,
          1,
          1,
          1,
          1,
          2,
          2,
          2,
          2,
          2,
          2,
          2,
          2,
          2
         ],
         "yaxis": "y",
         "type": "scattergl"
        },
        {
         "hovertemplate": "Regulation=IndoorOver500<br>Date=%{x}<br>num_countries=%{y}<extra></extra>",
         "legendgroup": "IndoorOver500",
         "line": {
          "color": "#19d3f3",
          "dash": "solid"
         },
         "marker": {
          "symbol": "circle"
         },
         "mode": "lines",
         "name": "IndoorOver500",
         "showlegend": true,
         "x": [
          "2020-03-07",
          "2020-03-08",
          "2020-03-09",
          "2020-03-10",
          "2020-03-11",
          "2020-03-12",
          "2020-03-13",
          "2020-03-14",
          "2020-03-15",
          "2020-03-16",
          "2020-03-17",
          "2020-03-18",
          "2020-03-19",
          "2020-03-20",
          "2020-03-21",
          "2020-03-22",
          "2020-03-23",
          "2020-03-24",
          "2020-03-25",
          "2020-03-26",
          "2020-03-27",
          "2020-03-28",
          "2020-03-29",
          "2020-03-30",
          "2020-03-31",
          "2020-04-01"
         ],
         "xaxis": "x",
         "y": [
          1,
          1,
          1,
          1,
          1,
          3,
          3,
          2,
          2,
          2,
          1,
          1,
          1,
          1,
          1,
          1,
          1,
          1,
          1,
          1,
          1,
          1,
          1,
          1,
          1,
          1
         ],
         "yaxis": "y",
         "type": "scattergl"
        },
        {
         "hovertemplate": "Regulation=MassGather50<br>Date=%{x}<br>num_countries=%{y}<extra></extra>",
         "legendgroup": "MassGather50",
         "line": {
          "color": "#FF6692",
          "dash": "solid"
         },
         "marker": {
          "symbol": "circle"
         },
         "mode": "lines",
         "name": "MassGather50",
         "showlegend": true,
         "x": [
          "2020-03-08",
          "2020-03-09",
          "2020-03-10",
          "2020-03-11",
          "2020-03-12",
          "2020-03-13",
          "2020-03-14",
          "2020-03-15",
          "2020-03-16",
          "2020-03-17",
          "2020-03-18",
          "2020-03-19",
          "2020-03-20",
          "2020-03-21",
          "2020-03-22",
          "2020-03-23",
          "2020-03-24",
          "2020-03-25",
          "2020-03-26",
          "2020-03-27",
          "2020-03-28",
          "2020-03-29",
          "2020-03-30",
          "2020-03-31",
          "2020-04-01"
         ],
         "xaxis": "x",
         "y": [
          1,
          2,
          4,
          4,
          6,
          7,
          10,
          11,
          11,
          12,
          13,
          15,
          16,
          16,
          16,
          17,
          19,
          19,
          19,
          19,
          19,
          20,
          20,
          20,
          20
         ],
         "yaxis": "y",
         "type": "scattergl"
        },
        {
         "hovertemplate": "Regulation=MassGather50Partial<br>Date=%{x}<br>num_countries=%{y}<extra></extra>",
         "legendgroup": "MassGather50Partial",
         "line": {
          "color": "#B6E880",
          "dash": "solid"
         },
         "marker": {
          "symbol": "circle"
         },
         "mode": "lines",
         "name": "MassGather50Partial",
         "showlegend": true,
         "x": [
          "2020-03-04",
          "2020-03-05",
          "2020-03-06",
          "2020-03-07",
          "2020-03-08",
          "2020-03-16",
          "2020-03-17",
          "2020-03-18",
          "2020-03-19",
          "2020-03-20",
          "2020-03-21",
          "2020-03-22",
          "2020-03-23",
          "2020-03-24",
          "2020-03-25",
          "2020-03-26",
          "2020-03-27",
          "2020-03-28",
          "2020-03-29",
          "2020-03-30",
          "2020-03-31",
          "2020-04-01"
         ],
         "xaxis": "x",
         "y": [
          1,
          1,
          1,
          1,
          1,
          1,
          1,
          1,
          1,
          1,
          1,
          1,
          1,
          1,
          1,
          1,
          1,
          1,
          1,
          1,
          1,
          1
         ],
         "yaxis": "y",
         "type": "scattergl"
        },
        {
         "hovertemplate": "Regulation=MassGatherAll<br>Date=%{x}<br>num_countries=%{y}<extra></extra>",
         "legendgroup": "MassGatherAll",
         "line": {
          "color": "#FF97FF",
          "dash": "solid"
         },
         "marker": {
          "symbol": "circle"
         },
         "mode": "lines",
         "name": "MassGatherAll",
         "showlegend": true,
         "x": [
          "2020-03-01",
          "2020-03-02",
          "2020-03-03",
          "2020-03-04",
          "2020-03-05",
          "2020-03-06",
          "2020-03-07",
          "2020-03-08",
          "2020-03-09",
          "2020-03-10",
          "2020-03-11",
          "2020-03-12",
          "2020-03-13",
          "2020-03-14",
          "2020-03-15",
          "2020-03-16",
          "2020-03-17",
          "2020-03-18",
          "2020-03-19",
          "2020-03-20",
          "2020-03-21",
          "2020-03-22",
          "2020-03-23",
          "2020-03-24",
          "2020-03-25",
          "2020-03-26",
          "2020-03-27",
          "2020-03-28",
          "2020-03-29",
          "2020-03-30",
          "2020-03-31",
          "2020-04-01"
         ],
         "xaxis": "x",
         "y": [
          2,
          2,
          2,
          2,
          2,
          2,
          3,
          4,
          6,
          12,
          14,
          20,
          20,
          21,
          22,
          22,
          21,
          22,
          23,
          23,
          23,
          23,
          23,
          22,
          22,
          22,
          22,
          22,
          22,
          22,
          22,
          22
         ],
         "yaxis": "y",
         "type": "scattergl"
        },
        {
         "hovertemplate": "Regulation=MassGatherAllPartial<br>Date=%{x}<br>num_countries=%{y}<extra></extra>",
         "legendgroup": "MassGatherAllPartial",
         "line": {
          "color": "#FECB52",
          "dash": "solid"
         },
         "marker": {
          "symbol": "circle"
         },
         "mode": "lines",
         "name": "MassGatherAllPartial",
         "showlegend": true,
         "x": [
          "2020-03-04",
          "2020-03-05",
          "2020-03-06",
          "2020-03-07",
          "2020-03-08",
          "2020-03-13",
          "2020-03-14",
          "2020-03-15",
          "2020-03-16",
          "2020-03-17",
          "2020-03-18",
          "2020-03-19",
          "2020-03-20",
          "2020-03-21",
          "2020-03-22",
          "2020-03-23",
          "2020-03-24",
          "2020-03-25",
          "2020-03-26",
          "2020-03-27",
          "2020-03-28",
          "2020-03-29",
          "2020-03-30",
          "2020-03-31",
          "2020-04-01"
         ],
         "xaxis": "x",
         "y": [
          1,
          1,
          1,
          1,
          1,
          1,
          1,
          1,
          2,
          3,
          3,
          3,
          3,
          3,
          3,
          3,
          3,
          3,
          3,
          3,
          3,
          3,
          3,
          3,
          3
         ],
         "yaxis": "y",
         "type": "scattergl"
        },
        {
         "hovertemplate": "Regulation=NonEssentialShops<br>Date=%{x}<br>num_countries=%{y}<extra></extra>",
         "legendgroup": "NonEssentialShops",
         "line": {
          "color": "#636efa",
          "dash": "solid"
         },
         "marker": {
          "symbol": "circle"
         },
         "mode": "lines",
         "name": "NonEssentialShops",
         "showlegend": true,
         "x": [
          "2020-03-10",
          "2020-03-11",
          "2020-03-12",
          "2020-03-13",
          "2020-03-14",
          "2020-03-15",
          "2020-03-16",
          "2020-03-17",
          "2020-03-18",
          "2020-03-19",
          "2020-03-20",
          "2020-03-21",
          "2020-03-22",
          "2020-03-23",
          "2020-03-24",
          "2020-03-25",
          "2020-03-26",
          "2020-03-27",
          "2020-03-28",
          "2020-03-29",
          "2020-03-30",
          "2020-03-31",
          "2020-04-01"
         ],
         "xaxis": "x",
         "y": [
          1,
          2,
          2,
          3,
          6,
          7,
          13,
          14,
          14,
          14,
          14,
          14,
          15,
          15,
          16,
          16,
          16,
          17,
          17,
          17,
          17,
          17,
          17
         ],
         "yaxis": "y",
         "type": "scattergl"
        },
        {
         "hovertemplate": "Regulation=NonEssentialShopsPartial<br>Date=%{x}<br>num_countries=%{y}<extra></extra>",
         "legendgroup": "NonEssentialShopsPartial",
         "line": {
          "color": "#EF553B",
          "dash": "solid"
         },
         "marker": {
          "symbol": "circle"
         },
         "mode": "lines",
         "name": "NonEssentialShopsPartial",
         "showlegend": true,
         "x": [
          "2020-03-14",
          "2020-03-15",
          "2020-03-16",
          "2020-03-17",
          "2020-03-18",
          "2020-03-19",
          "2020-03-20",
          "2020-03-21",
          "2020-03-22",
          "2020-03-23",
          "2020-03-24",
          "2020-03-25",
          "2020-03-26",
          "2020-03-27",
          "2020-03-28",
          "2020-03-29",
          "2020-03-30",
          "2020-03-31",
          "2020-04-01"
         ],
         "xaxis": "x",
         "y": [
          1,
          1,
          2,
          2,
          2,
          2,
          2,
          2,
          2,
          3,
          3,
          3,
          3,
          3,
          4,
          4,
          4,
          4,
          4
         ],
         "yaxis": "y",
         "type": "scattergl"
        },
        {
         "hovertemplate": "Regulation=OutdoorOver100<br>Date=%{x}<br>num_countries=%{y}<extra></extra>",
         "legendgroup": "OutdoorOver100",
         "line": {
          "color": "#00cc96",
          "dash": "solid"
         },
         "marker": {
          "symbol": "circle"
         },
         "mode": "lines",
         "name": "OutdoorOver100",
         "showlegend": true,
         "x": [
          "2020-03-10",
          "2020-03-11",
          "2020-03-12",
          "2020-03-13",
          "2020-03-14",
          "2020-03-15",
          "2020-03-16",
          "2020-03-17",
          "2020-03-18",
          "2020-03-19",
          "2020-03-20",
          "2020-03-21",
          "2020-03-22",
          "2020-03-23",
          "2020-03-24",
          "2020-03-25",
          "2020-03-26",
          "2020-03-27",
          "2020-03-28",
          "2020-03-29",
          "2020-03-30",
          "2020-03-31",
          "2020-04-01"
         ],
         "xaxis": "x",
         "y": [
          1,
          1,
          2,
          2,
          2,
          3,
          4,
          4,
          4,
          3,
          3,
          3,
          3,
          3,
          1,
          1,
          1,
          1,
          1,
          1,
          1,
          1,
          1
         ],
         "yaxis": "y",
         "type": "scattergl"
        },
        {
         "hovertemplate": "Regulation=OutdoorOver1000<br>Date=%{x}<br>num_countries=%{y}<extra></extra>",
         "legendgroup": "OutdoorOver1000",
         "line": {
          "color": "#ab63fa",
          "dash": "solid"
         },
         "marker": {
          "symbol": "circle"
         },
         "mode": "lines",
         "name": "OutdoorOver1000",
         "showlegend": true,
         "x": [
          "2020-03-01",
          "2020-03-02",
          "2020-03-03",
          "2020-03-04",
          "2020-03-05",
          "2020-03-06",
          "2020-03-07",
          "2020-03-08",
          "2020-03-09",
          "2020-03-10",
          "2020-03-11",
          "2020-03-12",
          "2020-03-13",
          "2020-03-14",
          "2020-03-15",
          "2020-03-16",
          "2020-03-17",
          "2020-03-18",
          "2020-03-19",
          "2020-03-20",
          "2020-03-21",
          "2020-03-22",
          "2020-03-23",
          "2020-03-24",
          "2020-03-25",
          "2020-03-26",
          "2020-03-27",
          "2020-03-28",
          "2020-03-29",
          "2020-03-30",
          "2020-03-31",
          "2020-04-01"
         ],
         "xaxis": "x",
         "y": [
          1,
          1,
          1,
          1,
          1,
          1,
          1,
          1,
          1,
          1,
          1,
          1,
          2,
          1,
          1,
          1,
          1,
          1,
          1,
          1,
          1,
          1,
          1,
          1,
          1,
          1,
          1,
          1,
          1,
          1,
          1,
          1
         ],
         "yaxis": "y",
         "type": "scattergl"
        },
        {
         "hovertemplate": "Regulation=OutdoorOver50<br>Date=%{x}<br>num_countries=%{y}<extra></extra>",
         "legendgroup": "OutdoorOver50",
         "line": {
          "color": "#FFA15A",
          "dash": "solid"
         },
         "marker": {
          "symbol": "circle"
         },
         "mode": "lines",
         "name": "OutdoorOver50",
         "showlegend": true,
         "x": [
          "2020-03-18",
          "2020-03-19",
          "2020-03-20",
          "2020-03-21",
          "2020-03-22",
          "2020-03-23",
          "2020-03-24",
          "2020-03-25",
          "2020-03-26",
          "2020-03-27",
          "2020-03-28",
          "2020-03-29",
          "2020-03-30",
          "2020-03-31",
          "2020-04-01"
         ],
         "xaxis": "x",
         "y": [
          1,
          1,
          1,
          1,
          1,
          1,
          2,
          2,
          2,
          2,
          2,
          3,
          3,
          3,
          3
         ],
         "yaxis": "y",
         "type": "scattergl"
        },
        {
         "hovertemplate": "Regulation=OutdoorOver500<br>Date=%{x}<br>num_countries=%{y}<extra></extra>",
         "legendgroup": "OutdoorOver500",
         "line": {
          "color": "#19d3f3",
          "dash": "solid"
         },
         "marker": {
          "symbol": "circle"
         },
         "mode": "lines",
         "name": "OutdoorOver500",
         "showlegend": true,
         "x": [
          "2020-03-10",
          "2020-03-11",
          "2020-03-12",
          "2020-03-13",
          "2020-03-14",
          "2020-03-15",
          "2020-03-16",
          "2020-03-17",
          "2020-03-18",
          "2020-03-19",
          "2020-03-20",
          "2020-03-21",
          "2020-03-22",
          "2020-03-23",
          "2020-03-24",
          "2020-03-25",
          "2020-03-26",
          "2020-03-27",
          "2020-03-28",
          "2020-03-29",
          "2020-03-30",
          "2020-03-31",
          "2020-04-01"
         ],
         "xaxis": "x",
         "y": [
          1,
          3,
          5,
          5,
          5,
          5,
          4,
          3,
          3,
          3,
          3,
          3,
          3,
          3,
          2,
          2,
          2,
          2,
          2,
          2,
          2,
          2,
          2
         ],
         "yaxis": "y",
         "type": "scattergl"
        },
        {
         "hovertemplate": "Regulation=PlaceOfWorship<br>Date=%{x}<br>num_countries=%{y}<extra></extra>",
         "legendgroup": "PlaceOfWorship",
         "line": {
          "color": "#FF6692",
          "dash": "solid"
         },
         "marker": {
          "symbol": "circle"
         },
         "mode": "lines",
         "name": "PlaceOfWorship",
         "showlegend": true,
         "x": [
          "2020-03-10",
          "2020-03-11",
          "2020-03-12",
          "2020-03-13",
          "2020-03-14",
          "2020-03-15",
          "2020-03-16",
          "2020-03-17",
          "2020-03-18",
          "2020-03-19",
          "2020-03-20",
          "2020-03-21",
          "2020-03-22",
          "2020-03-23",
          "2020-03-24",
          "2020-03-25",
          "2020-03-26",
          "2020-03-27",
          "2020-03-28",
          "2020-03-29",
          "2020-03-30",
          "2020-03-31",
          "2020-04-01"
         ],
         "xaxis": "x",
         "y": [
          1,
          1,
          2,
          4,
          4,
          4,
          9,
          10,
          12,
          12,
          12,
          12,
          12,
          12,
          12,
          12,
          12,
          12,
          12,
          12,
          12,
          12,
          12
         ],
         "yaxis": "y",
         "type": "scattergl"
        },
        {
         "hovertemplate": "Regulation=PlaceOfWorshipPartial<br>Date=%{x}<br>num_countries=%{y}<extra></extra>",
         "legendgroup": "PlaceOfWorshipPartial",
         "line": {
          "color": "#B6E880",
          "dash": "solid"
         },
         "marker": {
          "symbol": "circle"
         },
         "mode": "lines",
         "name": "PlaceOfWorshipPartial",
         "showlegend": true,
         "x": [
          "2020-03-10",
          "2020-03-11",
          "2020-03-12",
          "2020-03-13",
          "2020-03-14",
          "2020-03-15",
          "2020-03-16",
          "2020-03-17",
          "2020-03-18",
          "2020-03-19",
          "2020-03-20",
          "2020-03-21",
          "2020-03-22",
          "2020-03-23",
          "2020-03-24",
          "2020-03-25",
          "2020-03-26",
          "2020-03-27",
          "2020-03-28",
          "2020-03-29",
          "2020-03-30",
          "2020-03-31",
          "2020-04-01"
         ],
         "xaxis": "x",
         "y": [
          1,
          1,
          1,
          1,
          3,
          3,
          2,
          2,
          2,
          2,
          2,
          2,
          2,
          2,
          2,
          2,
          2,
          2,
          2,
          2,
          2,
          2,
          2
         ],
         "yaxis": "y",
         "type": "scattergl"
        },
        {
         "hovertemplate": "Regulation=PrivateGatheringRestrictions<br>Date=%{x}<br>num_countries=%{y}<extra></extra>",
         "legendgroup": "PrivateGatheringRestrictions",
         "line": {
          "color": "#FF97FF",
          "dash": "solid"
         },
         "marker": {
          "symbol": "circle"
         },
         "mode": "lines",
         "name": "PrivateGatheringRestrictions",
         "showlegend": true,
         "x": [
          "2020-03-08",
          "2020-03-09",
          "2020-03-10",
          "2020-03-11",
          "2020-03-12",
          "2020-03-13",
          "2020-03-14",
          "2020-03-15",
          "2020-03-16",
          "2020-03-17",
          "2020-03-18",
          "2020-03-19",
          "2020-03-20",
          "2020-03-21",
          "2020-03-22",
          "2020-03-23",
          "2020-03-24",
          "2020-03-25",
          "2020-03-26",
          "2020-03-27",
          "2020-03-28",
          "2020-03-29",
          "2020-03-30",
          "2020-03-31",
          "2020-04-01"
         ],
         "xaxis": "x",
         "y": [
          1,
          1,
          1,
          1,
          3,
          3,
          3,
          3,
          6,
          8,
          9,
          11,
          12,
          12,
          13,
          14,
          15,
          15,
          15,
          15,
          15,
          15,
          15,
          16,
          16
         ],
         "yaxis": "y",
         "type": "scattergl"
        },
        {
         "hovertemplate": "Regulation=PrivateGatheringRestrictionsPartial<br>Date=%{x}<br>num_countries=%{y}<extra></extra>",
         "legendgroup": "PrivateGatheringRestrictionsPartial",
         "line": {
          "color": "#FECB52",
          "dash": "solid"
         },
         "marker": {
          "symbol": "circle"
         },
         "mode": "lines",
         "name": "PrivateGatheringRestrictionsPartial",
         "showlegend": true,
         "x": [
          "2020-03-19",
          "2020-03-20",
          "2020-03-21",
          "2020-03-22",
          "2020-03-23",
          "2020-03-24",
          "2020-03-25",
          "2020-03-26",
          "2020-03-27",
          "2020-03-28",
          "2020-03-29",
          "2020-03-30",
          "2020-03-31",
          "2020-04-01"
         ],
         "xaxis": "x",
         "y": [
          1,
          1,
          1,
          1,
          1,
          1,
          1,
          1,
          1,
          1,
          1,
          1,
          1,
          1
         ],
         "yaxis": "y",
         "type": "scattergl"
        },
        {
         "hovertemplate": "Regulation=QuarantineForInternationalTravellers<br>Date=%{x}<br>num_countries=%{y}<extra></extra>",
         "legendgroup": "QuarantineForInternationalTravellers",
         "line": {
          "color": "#636efa",
          "dash": "solid"
         },
         "marker": {
          "symbol": "circle"
         },
         "mode": "lines",
         "name": "QuarantineForInternationalTravellers",
         "showlegend": true,
         "x": [
          "2020-03-01",
          "2020-03-02",
          "2020-03-03",
          "2020-03-04",
          "2020-03-05",
          "2020-03-06",
          "2020-03-07",
          "2020-03-08",
          "2020-03-09",
          "2020-03-10",
          "2020-03-11",
          "2020-03-12",
          "2020-03-13",
          "2020-03-14",
          "2020-03-15",
          "2020-03-16",
          "2020-03-17",
          "2020-03-18",
          "2020-03-19",
          "2020-03-20",
          "2020-03-21",
          "2020-03-22",
          "2020-03-23",
          "2020-03-24",
          "2020-03-25",
          "2020-03-26",
          "2020-03-27",
          "2020-03-28",
          "2020-03-29",
          "2020-03-30",
          "2020-03-31",
          "2020-04-01"
         ],
         "xaxis": "x",
         "y": [
          5,
          5,
          5,
          6,
          6,
          6,
          6,
          6,
          6,
          7,
          6,
          7,
          9,
          9,
          10,
          10,
          12,
          13,
          14,
          14,
          14,
          14,
          14,
          14,
          15,
          15,
          15,
          15,
          15,
          15,
          14,
          14
         ],
         "yaxis": "y",
         "type": "scattergl"
        },
        {
         "hovertemplate": "Regulation=QuarantineForInternationalTravellersPartial<br>Date=%{x}<br>num_countries=%{y}<extra></extra>",
         "legendgroup": "QuarantineForInternationalTravellersPartial",
         "line": {
          "color": "#EF553B",
          "dash": "solid"
         },
         "marker": {
          "symbol": "circle"
         },
         "mode": "lines",
         "name": "QuarantineForInternationalTravellersPartial",
         "showlegend": true,
         "x": [
          "2020-03-01",
          "2020-03-02",
          "2020-03-03",
          "2020-03-04",
          "2020-03-05",
          "2020-03-06",
          "2020-03-07",
          "2020-03-08",
          "2020-03-09",
          "2020-03-10",
          "2020-03-11",
          "2020-03-12",
          "2020-03-13",
          "2020-03-14",
          "2020-03-15",
          "2020-03-16",
          "2020-03-17",
          "2020-03-18",
          "2020-03-19",
          "2020-03-20",
          "2020-03-21",
          "2020-03-22",
          "2020-03-23",
          "2020-03-24",
          "2020-03-25",
          "2020-03-26",
          "2020-03-27",
          "2020-03-28",
          "2020-03-29",
          "2020-03-30",
          "2020-03-31",
          "2020-04-01"
         ],
         "xaxis": "x",
         "y": [
          1,
          1,
          1,
          1,
          1,
          1,
          1,
          1,
          1,
          1,
          1,
          2,
          2,
          3,
          3,
          3,
          2,
          2,
          2,
          2,
          2,
          2,
          2,
          2,
          2,
          2,
          2,
          2,
          2,
          2,
          2,
          2
         ],
         "yaxis": "y",
         "type": "scattergl"
        },
        {
         "hovertemplate": "Regulation=RestaurantsCafes<br>Date=%{x}<br>num_countries=%{y}<extra></extra>",
         "legendgroup": "RestaurantsCafes",
         "line": {
          "color": "#00cc96",
          "dash": "solid"
         },
         "marker": {
          "symbol": "circle"
         },
         "mode": "lines",
         "name": "RestaurantsCafes",
         "showlegend": true,
         "x": [
          "2020-03-12",
          "2020-03-13",
          "2020-03-14",
          "2020-03-15",
          "2020-03-16",
          "2020-03-17",
          "2020-03-18",
          "2020-03-19",
          "2020-03-20",
          "2020-03-21",
          "2020-03-22",
          "2020-03-23",
          "2020-03-24",
          "2020-03-25",
          "2020-03-26",
          "2020-03-27",
          "2020-03-28",
          "2020-03-29",
          "2020-03-30",
          "2020-03-31",
          "2020-04-01"
         ],
         "xaxis": "x",
         "y": [
          1,
          2,
          5,
          8,
          13,
          13,
          17,
          18,
          18,
          18,
          18,
          19,
          21,
          21,
          21,
          22,
          23,
          23,
          23,
          23,
          23
         ],
         "yaxis": "y",
         "type": "scattergl"
        },
        {
         "hovertemplate": "Regulation=RestaurantsCafesPartial<br>Date=%{x}<br>num_countries=%{y}<extra></extra>",
         "legendgroup": "RestaurantsCafesPartial",
         "line": {
          "color": "#ab63fa",
          "dash": "solid"
         },
         "marker": {
          "symbol": "circle"
         },
         "mode": "lines",
         "name": "RestaurantsCafesPartial",
         "showlegend": true,
         "x": [
          "2020-03-10",
          "2020-03-11",
          "2020-03-12",
          "2020-03-13",
          "2020-03-14",
          "2020-03-15",
          "2020-03-16",
          "2020-03-17",
          "2020-03-18",
          "2020-03-19",
          "2020-03-20",
          "2020-03-21",
          "2020-03-22",
          "2020-03-23",
          "2020-03-24",
          "2020-03-25",
          "2020-03-26",
          "2020-03-27",
          "2020-03-28",
          "2020-03-29",
          "2020-03-30",
          "2020-03-31",
          "2020-04-01"
         ],
         "xaxis": "x",
         "y": [
          1,
          1,
          2,
          2,
          3,
          3,
          3,
          3,
          3,
          3,
          3,
          3,
          3,
          3,
          2,
          2,
          2,
          2,
          2,
          2,
          2,
          2,
          2
         ],
         "yaxis": "y",
         "type": "scattergl"
        },
        {
         "hovertemplate": "Regulation=SocialCircle<br>Date=%{x}<br>num_countries=%{y}<extra></extra>",
         "legendgroup": "SocialCircle",
         "line": {
          "color": "#FFA15A",
          "dash": "solid"
         },
         "marker": {
          "symbol": "circle"
         },
         "mode": "lines",
         "name": "SocialCircle",
         "showlegend": true,
         "x": [
          "2020-03-18",
          "2020-03-19",
          "2020-03-20",
          "2020-03-21",
          "2020-03-22",
          "2020-03-23",
          "2020-03-24",
          "2020-03-25",
          "2020-03-26",
          "2020-03-27",
          "2020-03-28",
          "2020-03-29",
          "2020-03-30",
          "2020-03-31",
          "2020-04-01"
         ],
         "xaxis": "x",
         "y": [
          1,
          1,
          1,
          1,
          1,
          1,
          1,
          1,
          1,
          1,
          1,
          1,
          1,
          1,
          1
         ],
         "yaxis": "y",
         "type": "scattergl"
        },
        {
         "hovertemplate": "Regulation=StayHomeGen<br>Date=%{x}<br>num_countries=%{y}<extra></extra>",
         "legendgroup": "StayHomeGen",
         "line": {
          "color": "#19d3f3",
          "dash": "solid"
         },
         "marker": {
          "symbol": "circle"
         },
         "mode": "lines",
         "name": "StayHomeGen",
         "showlegend": true,
         "x": [
          "2020-03-01",
          "2020-03-02",
          "2020-03-03",
          "2020-03-04",
          "2020-03-05",
          "2020-03-06",
          "2020-03-07",
          "2020-03-08",
          "2020-03-09",
          "2020-03-10",
          "2020-03-11",
          "2020-03-12",
          "2020-03-13",
          "2020-03-14",
          "2020-03-15",
          "2020-03-16",
          "2020-03-17",
          "2020-03-18",
          "2020-03-19",
          "2020-03-20",
          "2020-03-21",
          "2020-03-22",
          "2020-03-23",
          "2020-03-24",
          "2020-03-25",
          "2020-03-26",
          "2020-03-27",
          "2020-03-28",
          "2020-03-29",
          "2020-03-30",
          "2020-03-31",
          "2020-04-01"
         ],
         "xaxis": "x",
         "y": [
          2,
          2,
          2,
          2,
          2,
          2,
          2,
          2,
          3,
          4,
          4,
          6,
          7,
          6,
          6,
          6,
          6,
          7,
          7,
          7,
          8,
          8,
          7,
          7,
          7,
          7,
          5,
          5,
          5,
          5,
          5,
          5
         ],
         "yaxis": "y",
         "type": "scattergl"
        },
        {
         "hovertemplate": "Regulation=StayHomeOrder<br>Date=%{x}<br>num_countries=%{y}<extra></extra>",
         "legendgroup": "StayHomeOrder",
         "line": {
          "color": "#FF6692",
          "dash": "solid"
         },
         "marker": {
          "symbol": "circle"
         },
         "mode": "lines",
         "name": "StayHomeOrder",
         "showlegend": true,
         "x": [
          "2020-03-10",
          "2020-03-11",
          "2020-03-12",
          "2020-03-13",
          "2020-03-14",
          "2020-03-15",
          "2020-03-16",
          "2020-03-17",
          "2020-03-18",
          "2020-03-19",
          "2020-03-20",
          "2020-03-21",
          "2020-03-22",
          "2020-03-23",
          "2020-03-24",
          "2020-03-25",
          "2020-03-26",
          "2020-03-27",
          "2020-03-28",
          "2020-03-29",
          "2020-03-30",
          "2020-03-31",
          "2020-04-01"
         ],
         "xaxis": "x",
         "y": [
          1,
          1,
          1,
          1,
          2,
          2,
          4,
          5,
          7,
          8,
          8,
          8,
          8,
          10,
          12,
          12,
          12,
          14,
          14,
          14,
          14,
          14,
          14
         ],
         "yaxis": "y",
         "type": "scattergl"
        },
        {
         "hovertemplate": "Regulation=StayHomeOrderPartial<br>Date=%{x}<br>num_countries=%{y}<extra></extra>",
         "legendgroup": "StayHomeOrderPartial",
         "line": {
          "color": "#B6E880",
          "dash": "solid"
         },
         "marker": {
          "symbol": "circle"
         },
         "mode": "lines",
         "name": "StayHomeOrderPartial",
         "showlegend": true,
         "x": [
          "2020-03-22",
          "2020-03-23",
          "2020-03-24",
          "2020-03-25",
          "2020-03-26",
          "2020-03-27",
          "2020-03-28",
          "2020-03-29",
          "2020-03-30",
          "2020-03-31",
          "2020-04-01"
         ],
         "xaxis": "x",
         "y": [
          1,
          1,
          1,
          1,
          1,
          1,
          1,
          1,
          1,
          1,
          1
         ],
         "yaxis": "y",
         "type": "scattergl"
        },
        {
         "hovertemplate": "Regulation=StayHomeRiskG<br>Date=%{x}<br>num_countries=%{y}<extra></extra>",
         "legendgroup": "StayHomeRiskG",
         "line": {
          "color": "#FF97FF",
          "dash": "solid"
         },
         "marker": {
          "symbol": "circle"
         },
         "mode": "lines",
         "name": "StayHomeRiskG",
         "showlegend": true,
         "x": [
          "2020-03-03",
          "2020-03-04",
          "2020-03-05",
          "2020-03-06",
          "2020-03-07",
          "2020-03-08",
          "2020-03-09",
          "2020-03-10",
          "2020-03-11",
          "2020-03-12",
          "2020-03-13",
          "2020-03-14",
          "2020-03-15",
          "2020-03-16",
          "2020-03-17",
          "2020-03-18",
          "2020-03-19",
          "2020-03-20",
          "2020-03-21",
          "2020-03-22",
          "2020-03-23",
          "2020-03-24",
          "2020-03-25",
          "2020-03-26",
          "2020-03-27",
          "2020-03-28",
          "2020-03-29",
          "2020-03-30",
          "2020-03-31",
          "2020-04-01"
         ],
         "xaxis": "x",
         "y": [
          1,
          2,
          2,
          2,
          2,
          3,
          3,
          3,
          3,
          7,
          8,
          8,
          8,
          11,
          11,
          11,
          11,
          11,
          11,
          11,
          11,
          11,
          12,
          12,
          12,
          13,
          13,
          13,
          13,
          14
         ],
         "yaxis": "y",
         "type": "scattergl"
        },
        {
         "hovertemplate": "Regulation=Teleworking<br>Date=%{x}<br>num_countries=%{y}<extra></extra>",
         "legendgroup": "Teleworking",
         "line": {
          "color": "#FECB52",
          "dash": "solid"
         },
         "marker": {
          "symbol": "circle"
         },
         "mode": "lines",
         "name": "Teleworking",
         "showlegend": true,
         "x": [
          "2020-03-04",
          "2020-03-05",
          "2020-03-06",
          "2020-03-07",
          "2020-03-08",
          "2020-03-09",
          "2020-03-10",
          "2020-03-11",
          "2020-03-12",
          "2020-03-13",
          "2020-03-14",
          "2020-03-15",
          "2020-03-16",
          "2020-03-17",
          "2020-03-18",
          "2020-03-19",
          "2020-03-20",
          "2020-03-21",
          "2020-03-22",
          "2020-03-23",
          "2020-03-24",
          "2020-03-25",
          "2020-03-26",
          "2020-03-27",
          "2020-03-28",
          "2020-03-29",
          "2020-03-30",
          "2020-03-31",
          "2020-04-01"
         ],
         "xaxis": "x",
         "y": [
          1,
          1,
          1,
          1,
          2,
          2,
          5,
          5,
          8,
          10,
          11,
          11,
          13,
          14,
          15,
          18,
          18,
          18,
          18,
          18,
          18,
          18,
          18,
          18,
          18,
          18,
          17,
          17,
          17
         ],
         "yaxis": "y",
         "type": "scattergl"
        },
        {
         "hovertemplate": "Regulation=TeleworkingPartial<br>Date=%{x}<br>num_countries=%{y}<extra></extra>",
         "legendgroup": "TeleworkingPartial",
         "line": {
          "color": "#636efa",
          "dash": "solid"
         },
         "marker": {
          "symbol": "circle"
         },
         "mode": "lines",
         "name": "TeleworkingPartial",
         "showlegend": true,
         "x": [
          "2020-03-16",
          "2020-03-17",
          "2020-03-18",
          "2020-03-19",
          "2020-03-20",
          "2020-03-21",
          "2020-03-22",
          "2020-03-23",
          "2020-03-24",
          "2020-03-25",
          "2020-03-26",
          "2020-03-27",
          "2020-03-28",
          "2020-03-29",
          "2020-03-30",
          "2020-03-31",
          "2020-04-01"
         ],
         "xaxis": "x",
         "y": [
          1,
          1,
          1,
          1,
          1,
          1,
          1,
          1,
          1,
          1,
          1,
          1,
          1,
          1,
          1,
          1,
          1
         ],
         "yaxis": "y",
         "type": "scattergl"
        },
        {
         "hovertemplate": "Regulation=WorkplaceClosures<br>Date=%{x}<br>num_countries=%{y}<extra></extra>",
         "legendgroup": "WorkplaceClosures",
         "line": {
          "color": "#EF553B",
          "dash": "solid"
         },
         "marker": {
          "symbol": "circle"
         },
         "mode": "lines",
         "name": "WorkplaceClosures",
         "showlegend": true,
         "x": [
          "2020-03-13",
          "2020-03-14",
          "2020-03-15",
          "2020-03-16",
          "2020-03-17",
          "2020-03-18",
          "2020-03-19",
          "2020-03-20",
          "2020-03-21",
          "2020-03-22",
          "2020-03-23",
          "2020-03-24",
          "2020-03-25",
          "2020-03-26",
          "2020-03-27",
          "2020-03-28",
          "2020-03-29",
          "2020-03-30",
          "2020-03-31",
          "2020-04-01"
         ],
         "xaxis": "x",
         "y": [
          1,
          1,
          2,
          3,
          4,
          4,
          4,
          4,
          4,
          4,
          5,
          5,
          5,
          5,
          5,
          5,
          5,
          5,
          5,
          5
         ],
         "yaxis": "y",
         "type": "scattergl"
        }
       ],
       "layout": {
        "template": {
         "data": {
          "histogram2dcontour": [
           {
            "type": "histogram2dcontour",
            "colorbar": {
             "outlinewidth": 0,
             "ticks": ""
            },
            "colorscale": [
             [
              0.0,
              "#0d0887"
             ],
             [
              0.1111111111111111,
              "#46039f"
             ],
             [
              0.2222222222222222,
              "#7201a8"
             ],
             [
              0.3333333333333333,
              "#9c179e"
             ],
             [
              0.4444444444444444,
              "#bd3786"
             ],
             [
              0.5555555555555556,
              "#d8576b"
             ],
             [
              0.6666666666666666,
              "#ed7953"
             ],
             [
              0.7777777777777778,
              "#fb9f3a"
             ],
             [
              0.8888888888888888,
              "#fdca26"
             ],
             [
              1.0,
              "#f0f921"
             ]
            ]
           }
          ],
          "choropleth": [
           {
            "type": "choropleth",
            "colorbar": {
             "outlinewidth": 0,
             "ticks": ""
            }
           }
          ],
          "histogram2d": [
           {
            "type": "histogram2d",
            "colorbar": {
             "outlinewidth": 0,
             "ticks": ""
            },
            "colorscale": [
             [
              0.0,
              "#0d0887"
             ],
             [
              0.1111111111111111,
              "#46039f"
             ],
             [
              0.2222222222222222,
              "#7201a8"
             ],
             [
              0.3333333333333333,
              "#9c179e"
             ],
             [
              0.4444444444444444,
              "#bd3786"
             ],
             [
              0.5555555555555556,
              "#d8576b"
             ],
             [
              0.6666666666666666,
              "#ed7953"
             ],
             [
              0.7777777777777778,
              "#fb9f3a"
             ],
             [
              0.8888888888888888,
              "#fdca26"
             ],
             [
              1.0,
              "#f0f921"
             ]
            ]
           }
          ],
          "heatmap": [
           {
            "type": "heatmap",
            "colorbar": {
             "outlinewidth": 0,
             "ticks": ""
            },
            "colorscale": [
             [
              0.0,
              "#0d0887"
             ],
             [
              0.1111111111111111,
              "#46039f"
             ],
             [
              0.2222222222222222,
              "#7201a8"
             ],
             [
              0.3333333333333333,
              "#9c179e"
             ],
             [
              0.4444444444444444,
              "#bd3786"
             ],
             [
              0.5555555555555556,
              "#d8576b"
             ],
             [
              0.6666666666666666,
              "#ed7953"
             ],
             [
              0.7777777777777778,
              "#fb9f3a"
             ],
             [
              0.8888888888888888,
              "#fdca26"
             ],
             [
              1.0,
              "#f0f921"
             ]
            ]
           }
          ],
          "heatmapgl": [
           {
            "type": "heatmapgl",
            "colorbar": {
             "outlinewidth": 0,
             "ticks": ""
            },
            "colorscale": [
             [
              0.0,
              "#0d0887"
             ],
             [
              0.1111111111111111,
              "#46039f"
             ],
             [
              0.2222222222222222,
              "#7201a8"
             ],
             [
              0.3333333333333333,
              "#9c179e"
             ],
             [
              0.4444444444444444,
              "#bd3786"
             ],
             [
              0.5555555555555556,
              "#d8576b"
             ],
             [
              0.6666666666666666,
              "#ed7953"
             ],
             [
              0.7777777777777778,
              "#fb9f3a"
             ],
             [
              0.8888888888888888,
              "#fdca26"
             ],
             [
              1.0,
              "#f0f921"
             ]
            ]
           }
          ],
          "contourcarpet": [
           {
            "type": "contourcarpet",
            "colorbar": {
             "outlinewidth": 0,
             "ticks": ""
            }
           }
          ],
          "contour": [
           {
            "type": "contour",
            "colorbar": {
             "outlinewidth": 0,
             "ticks": ""
            },
            "colorscale": [
             [
              0.0,
              "#0d0887"
             ],
             [
              0.1111111111111111,
              "#46039f"
             ],
             [
              0.2222222222222222,
              "#7201a8"
             ],
             [
              0.3333333333333333,
              "#9c179e"
             ],
             [
              0.4444444444444444,
              "#bd3786"
             ],
             [
              0.5555555555555556,
              "#d8576b"
             ],
             [
              0.6666666666666666,
              "#ed7953"
             ],
             [
              0.7777777777777778,
              "#fb9f3a"
             ],
             [
              0.8888888888888888,
              "#fdca26"
             ],
             [
              1.0,
              "#f0f921"
             ]
            ]
           }
          ],
          "surface": [
           {
            "type": "surface",
            "colorbar": {
             "outlinewidth": 0,
             "ticks": ""
            },
            "colorscale": [
             [
              0.0,
              "#0d0887"
             ],
             [
              0.1111111111111111,
              "#46039f"
             ],
             [
              0.2222222222222222,
              "#7201a8"
             ],
             [
              0.3333333333333333,
              "#9c179e"
             ],
             [
              0.4444444444444444,
              "#bd3786"
             ],
             [
              0.5555555555555556,
              "#d8576b"
             ],
             [
              0.6666666666666666,
              "#ed7953"
             ],
             [
              0.7777777777777778,
              "#fb9f3a"
             ],
             [
              0.8888888888888888,
              "#fdca26"
             ],
             [
              1.0,
              "#f0f921"
             ]
            ]
           }
          ],
          "mesh3d": [
           {
            "type": "mesh3d",
            "colorbar": {
             "outlinewidth": 0,
             "ticks": ""
            }
           }
          ],
          "scatter": [
           {
            "fillpattern": {
             "fillmode": "overlay",
             "size": 10,
             "solidity": 0.2
            },
            "type": "scatter"
           }
          ],
          "parcoords": [
           {
            "type": "parcoords",
            "line": {
             "colorbar": {
              "outlinewidth": 0,
              "ticks": ""
             }
            }
           }
          ],
          "scatterpolargl": [
           {
            "type": "scatterpolargl",
            "marker": {
             "colorbar": {
              "outlinewidth": 0,
              "ticks": ""
             }
            }
           }
          ],
          "bar": [
           {
            "error_x": {
             "color": "#2a3f5f"
            },
            "error_y": {
             "color": "#2a3f5f"
            },
            "marker": {
             "line": {
              "color": "#E5ECF6",
              "width": 0.5
             },
             "pattern": {
              "fillmode": "overlay",
              "size": 10,
              "solidity": 0.2
             }
            },
            "type": "bar"
           }
          ],
          "scattergeo": [
           {
            "type": "scattergeo",
            "marker": {
             "colorbar": {
              "outlinewidth": 0,
              "ticks": ""
             }
            }
           }
          ],
          "scatterpolar": [
           {
            "type": "scatterpolar",
            "marker": {
             "colorbar": {
              "outlinewidth": 0,
              "ticks": ""
             }
            }
           }
          ],
          "histogram": [
           {
            "marker": {
             "pattern": {
              "fillmode": "overlay",
              "size": 10,
              "solidity": 0.2
             }
            },
            "type": "histogram"
           }
          ],
          "scattergl": [
           {
            "type": "scattergl",
            "marker": {
             "colorbar": {
              "outlinewidth": 0,
              "ticks": ""
             }
            }
           }
          ],
          "scatter3d": [
           {
            "type": "scatter3d",
            "line": {
             "colorbar": {
              "outlinewidth": 0,
              "ticks": ""
             }
            },
            "marker": {
             "colorbar": {
              "outlinewidth": 0,
              "ticks": ""
             }
            }
           }
          ],
          "scattermapbox": [
           {
            "type": "scattermapbox",
            "marker": {
             "colorbar": {
              "outlinewidth": 0,
              "ticks": ""
             }
            }
           }
          ],
          "scatterternary": [
           {
            "type": "scatterternary",
            "marker": {
             "colorbar": {
              "outlinewidth": 0,
              "ticks": ""
             }
            }
           }
          ],
          "scattercarpet": [
           {
            "type": "scattercarpet",
            "marker": {
             "colorbar": {
              "outlinewidth": 0,
              "ticks": ""
             }
            }
           }
          ],
          "carpet": [
           {
            "aaxis": {
             "endlinecolor": "#2a3f5f",
             "gridcolor": "white",
             "linecolor": "white",
             "minorgridcolor": "white",
             "startlinecolor": "#2a3f5f"
            },
            "baxis": {
             "endlinecolor": "#2a3f5f",
             "gridcolor": "white",
             "linecolor": "white",
             "minorgridcolor": "white",
             "startlinecolor": "#2a3f5f"
            },
            "type": "carpet"
           }
          ],
          "table": [
           {
            "cells": {
             "fill": {
              "color": "#EBF0F8"
             },
             "line": {
              "color": "white"
             }
            },
            "header": {
             "fill": {
              "color": "#C8D4E3"
             },
             "line": {
              "color": "white"
             }
            },
            "type": "table"
           }
          ],
          "barpolar": [
           {
            "marker": {
             "line": {
              "color": "#E5ECF6",
              "width": 0.5
             },
             "pattern": {
              "fillmode": "overlay",
              "size": 10,
              "solidity": 0.2
             }
            },
            "type": "barpolar"
           }
          ],
          "pie": [
           {
            "automargin": true,
            "type": "pie"
           }
          ]
         },
         "layout": {
          "autotypenumbers": "strict",
          "colorway": [
           "#636efa",
           "#EF553B",
           "#00cc96",
           "#ab63fa",
           "#FFA15A",
           "#19d3f3",
           "#FF6692",
           "#B6E880",
           "#FF97FF",
           "#FECB52"
          ],
          "font": {
           "color": "#2a3f5f"
          },
          "hovermode": "closest",
          "hoverlabel": {
           "align": "left"
          },
          "paper_bgcolor": "white",
          "plot_bgcolor": "#E5ECF6",
          "polar": {
           "bgcolor": "#E5ECF6",
           "angularaxis": {
            "gridcolor": "white",
            "linecolor": "white",
            "ticks": ""
           },
           "radialaxis": {
            "gridcolor": "white",
            "linecolor": "white",
            "ticks": ""
           }
          },
          "ternary": {
           "bgcolor": "#E5ECF6",
           "aaxis": {
            "gridcolor": "white",
            "linecolor": "white",
            "ticks": ""
           },
           "baxis": {
            "gridcolor": "white",
            "linecolor": "white",
            "ticks": ""
           },
           "caxis": {
            "gridcolor": "white",
            "linecolor": "white",
            "ticks": ""
           }
          },
          "coloraxis": {
           "colorbar": {
            "outlinewidth": 0,
            "ticks": ""
           }
          },
          "colorscale": {
           "sequential": [
            [
             0.0,
             "#0d0887"
            ],
            [
             0.1111111111111111,
             "#46039f"
            ],
            [
             0.2222222222222222,
             "#7201a8"
            ],
            [
             0.3333333333333333,
             "#9c179e"
            ],
            [
             0.4444444444444444,
             "#bd3786"
            ],
            [
             0.5555555555555556,
             "#d8576b"
            ],
            [
             0.6666666666666666,
             "#ed7953"
            ],
            [
             0.7777777777777778,
             "#fb9f3a"
            ],
            [
             0.8888888888888888,
             "#fdca26"
            ],
            [
             1.0,
             "#f0f921"
            ]
           ],
           "sequentialminus": [
            [
             0.0,
             "#0d0887"
            ],
            [
             0.1111111111111111,
             "#46039f"
            ],
            [
             0.2222222222222222,
             "#7201a8"
            ],
            [
             0.3333333333333333,
             "#9c179e"
            ],
            [
             0.4444444444444444,
             "#bd3786"
            ],
            [
             0.5555555555555556,
             "#d8576b"
            ],
            [
             0.6666666666666666,
             "#ed7953"
            ],
            [
             0.7777777777777778,
             "#fb9f3a"
            ],
            [
             0.8888888888888888,
             "#fdca26"
            ],
            [
             1.0,
             "#f0f921"
            ]
           ],
           "diverging": [
            [
             0,
             "#8e0152"
            ],
            [
             0.1,
             "#c51b7d"
            ],
            [
             0.2,
             "#de77ae"
            ],
            [
             0.3,
             "#f1b6da"
            ],
            [
             0.4,
             "#fde0ef"
            ],
            [
             0.5,
             "#f7f7f7"
            ],
            [
             0.6,
             "#e6f5d0"
            ],
            [
             0.7,
             "#b8e186"
            ],
            [
             0.8,
             "#7fbc41"
            ],
            [
             0.9,
             "#4d9221"
            ],
            [
             1,
             "#276419"
            ]
           ]
          },
          "xaxis": {
           "gridcolor": "white",
           "linecolor": "white",
           "ticks": "",
           "title": {
            "standoff": 15
           },
           "zerolinecolor": "white",
           "automargin": true,
           "zerolinewidth": 2
          },
          "yaxis": {
           "gridcolor": "white",
           "linecolor": "white",
           "ticks": "",
           "title": {
            "standoff": 15
           },
           "zerolinecolor": "white",
           "automargin": true,
           "zerolinewidth": 2
          },
          "scene": {
           "xaxis": {
            "backgroundcolor": "#E5ECF6",
            "gridcolor": "white",
            "linecolor": "white",
            "showbackground": true,
            "ticks": "",
            "zerolinecolor": "white",
            "gridwidth": 2
           },
           "yaxis": {
            "backgroundcolor": "#E5ECF6",
            "gridcolor": "white",
            "linecolor": "white",
            "showbackground": true,
            "ticks": "",
            "zerolinecolor": "white",
            "gridwidth": 2
           },
           "zaxis": {
            "backgroundcolor": "#E5ECF6",
            "gridcolor": "white",
            "linecolor": "white",
            "showbackground": true,
            "ticks": "",
            "zerolinecolor": "white",
            "gridwidth": 2
           }
          },
          "shapedefaults": {
           "line": {
            "color": "#2a3f5f"
           }
          },
          "annotationdefaults": {
           "arrowcolor": "#2a3f5f",
           "arrowhead": 0,
           "arrowwidth": 1
          },
          "geo": {
           "bgcolor": "white",
           "landcolor": "#E5ECF6",
           "subunitcolor": "white",
           "showland": true,
           "showlakes": true,
           "lakecolor": "white"
          },
          "title": {
           "x": 0.05
          },
          "mapbox": {
           "style": "light"
          }
         }
        },
        "xaxis": {
         "anchor": "y",
         "domain": [
          0.0,
          1.0
         ],
         "title": {
          "text": "Date"
         }
        },
        "yaxis": {
         "anchor": "x",
         "domain": [
          0.0,
          1.0
         ],
         "title": {
          "text": "num_countries"
         }
        },
        "legend": {
         "title": {
          "text": "Regulation"
         },
         "tracegroupgap": 0
        },
        "margin": {
         "t": 60
        }
       },
       "config": {
        "plotlyServerURL": "https://plot.ly"
       }
      },
      "text/html": "<div>                            <div id=\"8ebcb63a-5931-4b9a-a426-9889055b644f\" class=\"plotly-graph-div\" style=\"height:525px; width:100%;\"></div>            <script type=\"text/javascript\">                require([\"plotly\"], function(Plotly) {                    window.PLOTLYENV=window.PLOTLYENV || {};                                    if (document.getElementById(\"8ebcb63a-5931-4b9a-a426-9889055b644f\")) {                    Plotly.newPlot(                        \"8ebcb63a-5931-4b9a-a426-9889055b644f\",                        [{\"hovertemplate\":\"Regulation=AdaptationOfWorkplace<br>Date=%{x}<br>num_countries=%{y}<extra></extra>\",\"legendgroup\":\"AdaptationOfWorkplace\",\"line\":{\"color\":\"#636efa\",\"dash\":\"solid\"},\"marker\":{\"symbol\":\"circle\"},\"mode\":\"lines\",\"name\":\"AdaptationOfWorkplace\",\"showlegend\":true,\"x\":[\"2020-03-10\",\"2020-03-11\",\"2020-03-12\",\"2020-03-13\",\"2020-03-14\",\"2020-03-15\",\"2020-03-16\",\"2020-03-17\",\"2020-03-18\",\"2020-03-19\",\"2020-03-20\",\"2020-03-21\",\"2020-03-22\",\"2020-03-23\",\"2020-03-24\",\"2020-03-25\",\"2020-03-26\",\"2020-03-27\",\"2020-03-28\",\"2020-03-29\",\"2020-03-30\",\"2020-03-31\",\"2020-04-01\"],\"xaxis\":\"x\",\"y\":[1,1,1,1,1,1,4,4,3,3,3,3,3,3,4,5,5,5,5,5,5,5,5],\"yaxis\":\"y\",\"type\":\"scattergl\"},{\"hovertemplate\":\"Regulation=AdaptationOfWorkplacePartial<br>Date=%{x}<br>num_countries=%{y}<extra></extra>\",\"legendgroup\":\"AdaptationOfWorkplacePartial\",\"line\":{\"color\":\"#EF553B\",\"dash\":\"solid\"},\"marker\":{\"symbol\":\"circle\"},\"mode\":\"lines\",\"name\":\"AdaptationOfWorkplacePartial\",\"showlegend\":true,\"x\":[\"2020-03-09\",\"2020-03-10\",\"2020-03-11\",\"2020-03-12\",\"2020-03-13\",\"2020-03-14\",\"2020-03-15\",\"2020-03-16\",\"2020-03-17\",\"2020-03-18\",\"2020-03-19\",\"2020-03-20\",\"2020-03-21\",\"2020-03-22\",\"2020-03-23\",\"2020-03-24\",\"2020-03-25\",\"2020-03-26\",\"2020-03-27\",\"2020-03-28\",\"2020-03-29\",\"2020-03-30\",\"2020-03-31\",\"2020-04-01\"],\"xaxis\":\"x\",\"y\":[1,1,1,1,1,1,1,1,1,1,1,1,1,1,1,1,2,2,2,2,2,2,2,2],\"yaxis\":\"y\",\"type\":\"scattergl\"},{\"hovertemplate\":\"Regulation=BanOnAllEvents<br>Date=%{x}<br>num_countries=%{y}<extra></extra>\",\"legendgroup\":\"BanOnAllEvents\",\"line\":{\"color\":\"#00cc96\",\"dash\":\"solid\"},\"marker\":{\"symbol\":\"circle\"},\"mode\":\"lines\",\"name\":\"BanOnAllEvents\",\"showlegend\":true,\"x\":[\"2020-03-08\",\"2020-03-09\",\"2020-03-10\",\"2020-03-11\",\"2020-03-12\",\"2020-03-13\",\"2020-03-14\",\"2020-03-15\",\"2020-03-16\",\"2020-03-17\",\"2020-03-18\",\"2020-03-19\",\"2020-03-20\",\"2020-03-21\",\"2020-03-22\",\"2020-03-23\",\"2020-03-24\",\"2020-03-25\",\"2020-03-26\",\"2020-03-27\",\"2020-03-28\",\"2020-03-29\",\"2020-03-30\",\"2020-03-31\",\"2020-04-01\"],\"xaxis\":\"x\",\"y\":[1,2,4,4,6,7,10,11,11,12,12,14,15,15,15,16,17,17,17,17,17,17,17,17,17],\"yaxis\":\"y\",\"type\":\"scattergl\"},{\"hovertemplate\":\"Regulation=BanOnAllEventsPartial<br>Date=%{x}<br>num_countries=%{y}<extra></extra>\",\"legendgroup\":\"BanOnAllEventsPartial\",\"line\":{\"color\":\"#ab63fa\",\"dash\":\"solid\"},\"marker\":{\"symbol\":\"circle\"},\"mode\":\"lines\",\"name\":\"BanOnAllEventsPartial\",\"showlegend\":true,\"x\":[\"2020-03-04\",\"2020-03-05\",\"2020-03-06\",\"2020-03-07\",\"2020-03-08\",\"2020-03-16\",\"2020-03-17\",\"2020-03-18\",\"2020-03-19\",\"2020-03-20\",\"2020-03-21\",\"2020-03-22\",\"2020-03-23\",\"2020-03-24\",\"2020-03-25\",\"2020-03-26\",\"2020-03-27\",\"2020-03-28\",\"2020-03-29\",\"2020-03-30\",\"2020-03-31\",\"2020-04-01\"],\"xaxis\":\"x\",\"y\":[1,1,1,1,1,1,1,1,1,1,1,1,1,1,1,1,1,1,1,1,1,1],\"yaxis\":\"y\",\"type\":\"scattergl\"},{\"hovertemplate\":\"Regulation=ClosDaycare<br>Date=%{x}<br>num_countries=%{y}<extra></extra>\",\"legendgroup\":\"ClosDaycare\",\"line\":{\"color\":\"#FFA15A\",\"dash\":\"solid\"},\"marker\":{\"symbol\":\"circle\"},\"mode\":\"lines\",\"name\":\"ClosDaycare\",\"showlegend\":true,\"x\":[\"2020-03-10\",\"2020-03-11\",\"2020-03-12\",\"2020-03-13\",\"2020-03-14\",\"2020-03-15\",\"2020-03-16\",\"2020-03-17\",\"2020-03-18\",\"2020-03-19\",\"2020-03-20\",\"2020-03-21\",\"2020-03-22\",\"2020-03-23\",\"2020-03-24\",\"2020-03-25\",\"2020-03-26\",\"2020-03-27\",\"2020-03-28\",\"2020-03-29\",\"2020-03-30\",\"2020-03-31\",\"2020-04-01\"],\"xaxis\":\"x\",\"y\":[2,4,9,12,12,12,23,23,23,23,23,23,23,23,23,24,24,24,24,24,24,24,24],\"yaxis\":\"y\",\"type\":\"scattergl\"},{\"hovertemplate\":\"Regulation=ClosDaycarePartial<br>Date=%{x}<br>num_countries=%{y}<extra></extra>\",\"legendgroup\":\"ClosDaycarePartial\",\"line\":{\"color\":\"#19d3f3\",\"dash\":\"solid\"},\"marker\":{\"symbol\":\"circle\"},\"mode\":\"lines\",\"name\":\"ClosDaycarePartial\",\"showlegend\":true,\"x\":[\"2020-03-04\",\"2020-03-05\",\"2020-03-06\",\"2020-03-07\",\"2020-03-08\",\"2020-03-09\"],\"xaxis\":\"x\",\"y\":[1,1,1,1,1,1],\"yaxis\":\"y\",\"type\":\"scattergl\"},{\"hovertemplate\":\"Regulation=ClosHigh<br>Date=%{x}<br>num_countries=%{y}<extra></extra>\",\"legendgroup\":\"ClosHigh\",\"line\":{\"color\":\"#FF6692\",\"dash\":\"solid\"},\"marker\":{\"symbol\":\"circle\"},\"mode\":\"lines\",\"name\":\"ClosHigh\",\"showlegend\":true,\"x\":[\"2020-03-10\",\"2020-03-11\",\"2020-03-12\",\"2020-03-13\",\"2020-03-14\",\"2020-03-15\",\"2020-03-16\",\"2020-03-17\",\"2020-03-18\",\"2020-03-19\",\"2020-03-20\",\"2020-03-21\",\"2020-03-22\",\"2020-03-23\",\"2020-03-24\",\"2020-03-25\",\"2020-03-26\",\"2020-03-27\",\"2020-03-28\",\"2020-03-29\",\"2020-03-30\",\"2020-03-31\",\"2020-04-01\"],\"xaxis\":\"x\",\"y\":[2,3,8,11,12,12,24,26,27,27,27,27,27,27,27,28,28,28,28,28,28,28,28],\"yaxis\":\"y\",\"type\":\"scattergl\"},{\"hovertemplate\":\"Regulation=ClosHighPartial<br>Date=%{x}<br>num_countries=%{y}<extra></extra>\",\"legendgroup\":\"ClosHighPartial\",\"line\":{\"color\":\"#B6E880\",\"dash\":\"solid\"},\"marker\":{\"symbol\":\"circle\"},\"mode\":\"lines\",\"name\":\"ClosHighPartial\",\"showlegend\":true,\"x\":[\"2020-03-04\",\"2020-03-05\",\"2020-03-06\",\"2020-03-07\",\"2020-03-08\",\"2020-03-09\",\"2020-03-16\",\"2020-03-17\",\"2020-03-18\",\"2020-03-19\",\"2020-03-20\",\"2020-03-21\",\"2020-03-22\",\"2020-03-23\",\"2020-03-24\",\"2020-03-25\",\"2020-03-26\",\"2020-03-27\",\"2020-03-28\",\"2020-03-29\",\"2020-03-30\",\"2020-03-31\",\"2020-04-01\"],\"xaxis\":\"x\",\"y\":[1,1,1,1,1,1,1,1,1,1,1,1,1,1,1,1,1,1,1,1,1,1,1],\"yaxis\":\"y\",\"type\":\"scattergl\"},{\"hovertemplate\":\"Regulation=ClosPrim<br>Date=%{x}<br>num_countries=%{y}<extra></extra>\",\"legendgroup\":\"ClosPrim\",\"line\":{\"color\":\"#FF97FF\",\"dash\":\"solid\"},\"marker\":{\"symbol\":\"circle\"},\"mode\":\"lines\",\"name\":\"ClosPrim\",\"showlegend\":true,\"x\":[\"2020-03-05\",\"2020-03-06\",\"2020-03-07\",\"2020-03-08\",\"2020-03-09\",\"2020-03-10\",\"2020-03-11\",\"2020-03-12\",\"2020-03-13\",\"2020-03-14\",\"2020-03-15\",\"2020-03-16\",\"2020-03-17\",\"2020-03-18\",\"2020-03-19\",\"2020-03-20\",\"2020-03-21\",\"2020-03-22\",\"2020-03-23\",\"2020-03-24\",\"2020-03-25\",\"2020-03-26\",\"2020-03-27\",\"2020-03-28\",\"2020-03-29\",\"2020-03-30\",\"2020-03-31\",\"2020-04-01\"],\"xaxis\":\"x\",\"y\":[1,1,1,1,1,2,4,9,12,12,12,23,24,25,25,25,25,25,25,25,25,25,25,25,25,25,25,25],\"yaxis\":\"y\",\"type\":\"scattergl\"},{\"hovertemplate\":\"Regulation=ClosPrimPartial<br>Date=%{x}<br>num_countries=%{y}<extra></extra>\",\"legendgroup\":\"ClosPrimPartial\",\"line\":{\"color\":\"#FECB52\",\"dash\":\"solid\"},\"marker\":{\"symbol\":\"circle\"},\"mode\":\"lines\",\"name\":\"ClosPrimPartial\",\"showlegend\":true,\"x\":[\"2020-03-13\",\"2020-03-14\",\"2020-03-15\",\"2020-03-16\",\"2020-03-17\",\"2020-03-18\",\"2020-03-19\",\"2020-03-20\",\"2020-03-21\",\"2020-03-22\",\"2020-03-23\",\"2020-03-24\",\"2020-03-25\",\"2020-03-26\",\"2020-03-27\",\"2020-03-28\",\"2020-03-29\",\"2020-03-30\",\"2020-03-31\",\"2020-04-01\"],\"xaxis\":\"x\",\"y\":[1,1,1,2,2,2,2,2,2,2,2,2,2,2,2,2,2,2,2,2],\"yaxis\":\"y\",\"type\":\"scattergl\"},{\"hovertemplate\":\"Regulation=ClosPubAny<br>Date=%{x}<br>num_countries=%{y}<extra></extra>\",\"legendgroup\":\"ClosPubAny\",\"line\":{\"color\":\"#636efa\",\"dash\":\"solid\"},\"marker\":{\"symbol\":\"circle\"},\"mode\":\"lines\",\"name\":\"ClosPubAny\",\"showlegend\":true,\"x\":[\"2020-03-11\",\"2020-03-12\",\"2020-03-13\",\"2020-03-14\",\"2020-03-15\",\"2020-03-16\",\"2020-03-17\",\"2020-03-18\",\"2020-03-19\",\"2020-03-20\",\"2020-03-21\",\"2020-03-22\",\"2020-03-23\",\"2020-03-24\",\"2020-03-25\",\"2020-03-26\",\"2020-03-27\",\"2020-03-28\",\"2020-03-29\",\"2020-03-30\",\"2020-03-31\",\"2020-04-01\"],\"xaxis\":\"x\",\"y\":[2,5,8,9,10,14,15,18,18,18,18,18,17,17,17,17,16,15,15,15,15,15],\"yaxis\":\"y\",\"type\":\"scattergl\"},{\"hovertemplate\":\"Regulation=ClosPubAnyPartial<br>Date=%{x}<br>num_countries=%{y}<extra></extra>\",\"legendgroup\":\"ClosPubAnyPartial\",\"line\":{\"color\":\"#EF553B\",\"dash\":\"solid\"},\"marker\":{\"symbol\":\"circle\"},\"mode\":\"lines\",\"name\":\"ClosPubAnyPartial\",\"showlegend\":true,\"x\":[\"2020-03-10\",\"2020-03-11\",\"2020-03-12\",\"2020-03-13\",\"2020-03-14\",\"2020-03-15\",\"2020-03-16\",\"2020-03-17\",\"2020-03-18\",\"2020-03-19\",\"2020-03-20\",\"2020-03-21\",\"2020-03-22\",\"2020-03-23\",\"2020-03-24\",\"2020-03-25\",\"2020-03-26\",\"2020-03-27\",\"2020-03-28\",\"2020-03-29\",\"2020-03-30\",\"2020-03-31\",\"2020-04-01\"],\"xaxis\":\"x\",\"y\":[2,2,5,5,8,8,10,10,10,11,11,11,11,12,12,12,12,13,14,14,14,14,14],\"yaxis\":\"y\",\"type\":\"scattergl\"},{\"hovertemplate\":\"Regulation=ClosSec<br>Date=%{x}<br>num_countries=%{y}<extra></extra>\",\"legendgroup\":\"ClosSec\",\"line\":{\"color\":\"#00cc96\",\"dash\":\"solid\"},\"marker\":{\"symbol\":\"circle\"},\"mode\":\"lines\",\"name\":\"ClosSec\",\"showlegend\":true,\"x\":[\"2020-03-04\",\"2020-03-05\",\"2020-03-06\",\"2020-03-07\",\"2020-03-08\",\"2020-03-09\",\"2020-03-10\",\"2020-03-11\",\"2020-03-12\",\"2020-03-13\",\"2020-03-14\",\"2020-03-15\",\"2020-03-16\",\"2020-03-17\",\"2020-03-18\",\"2020-03-19\",\"2020-03-20\",\"2020-03-21\",\"2020-03-22\",\"2020-03-23\",\"2020-03-24\",\"2020-03-25\",\"2020-03-26\",\"2020-03-27\",\"2020-03-28\",\"2020-03-29\",\"2020-03-30\",\"2020-03-31\",\"2020-04-01\"],\"xaxis\":\"x\",\"y\":[1,1,1,1,1,1,2,4,9,12,12,12,24,24,26,26,26,26,26,26,26,26,26,26,26,26,26,26,26],\"yaxis\":\"y\",\"type\":\"scattergl\"},{\"hovertemplate\":\"Regulation=ClosSecPartial<br>Date=%{x}<br>num_countries=%{y}<extra></extra>\",\"legendgroup\":\"ClosSecPartial\",\"line\":{\"color\":\"#ab63fa\",\"dash\":\"solid\"},\"marker\":{\"symbol\":\"circle\"},\"mode\":\"lines\",\"name\":\"ClosSecPartial\",\"showlegend\":true,\"x\":[\"2020-03-13\",\"2020-03-14\",\"2020-03-15\",\"2020-03-16\",\"2020-03-17\",\"2020-03-18\",\"2020-03-19\",\"2020-03-20\",\"2020-03-21\",\"2020-03-22\",\"2020-03-23\",\"2020-03-24\",\"2020-03-25\",\"2020-03-26\",\"2020-03-27\",\"2020-03-28\",\"2020-03-29\",\"2020-03-30\",\"2020-03-31\",\"2020-04-01\"],\"xaxis\":\"x\",\"y\":[1,1,1,2,3,3,3,3,3,3,3,3,3,3,3,3,3,3,3,3],\"yaxis\":\"y\",\"type\":\"scattergl\"},{\"hovertemplate\":\"Regulation=ClosureOfPublicTransport<br>Date=%{x}<br>num_countries=%{y}<extra></extra>\",\"legendgroup\":\"ClosureOfPublicTransport\",\"line\":{\"color\":\"#FFA15A\",\"dash\":\"solid\"},\"marker\":{\"symbol\":\"circle\"},\"mode\":\"lines\",\"name\":\"ClosureOfPublicTransport\",\"showlegend\":true,\"x\":[\"2020-03-14\",\"2020-03-15\",\"2020-03-16\",\"2020-03-17\",\"2020-03-18\",\"2020-03-19\",\"2020-03-20\",\"2020-03-21\",\"2020-03-22\",\"2020-03-23\",\"2020-03-24\",\"2020-03-25\",\"2020-03-26\",\"2020-03-27\",\"2020-03-28\",\"2020-03-29\",\"2020-03-30\",\"2020-03-31\",\"2020-04-01\"],\"xaxis\":\"x\",\"y\":[1,1,1,1,1,1,1,1,2,2,2,2,2,2,2,2,2,2,2],\"yaxis\":\"y\",\"type\":\"scattergl\"},{\"hovertemplate\":\"Regulation=ClosureOfPublicTransportPartial<br>Date=%{x}<br>num_countries=%{y}<extra></extra>\",\"legendgroup\":\"ClosureOfPublicTransportPartial\",\"line\":{\"color\":\"#19d3f3\",\"dash\":\"solid\"},\"marker\":{\"symbol\":\"circle\"},\"mode\":\"lines\",\"name\":\"ClosureOfPublicTransportPartial\",\"showlegend\":true,\"x\":[\"2020-03-12\",\"2020-03-13\",\"2020-03-14\",\"2020-03-15\",\"2020-03-16\",\"2020-03-17\",\"2020-03-18\",\"2020-03-19\",\"2020-03-20\",\"2020-03-21\",\"2020-03-22\",\"2020-03-23\",\"2020-03-24\",\"2020-03-25\",\"2020-03-26\",\"2020-03-27\",\"2020-03-28\",\"2020-03-29\",\"2020-03-30\",\"2020-03-31\",\"2020-04-01\"],\"xaxis\":\"x\",\"y\":[1,1,2,3,4,4,5,5,5,5,5,5,5,5,5,6,6,6,6,6,6],\"yaxis\":\"y\",\"type\":\"scattergl\"},{\"hovertemplate\":\"Regulation=EntertainmentVenues<br>Date=%{x}<br>num_countries=%{y}<extra></extra>\",\"legendgroup\":\"EntertainmentVenues\",\"line\":{\"color\":\"#FF6692\",\"dash\":\"solid\"},\"marker\":{\"symbol\":\"circle\"},\"mode\":\"lines\",\"name\":\"EntertainmentVenues\",\"showlegend\":true,\"x\":[\"2020-03-10\",\"2020-03-11\",\"2020-03-12\",\"2020-03-13\",\"2020-03-14\",\"2020-03-15\",\"2020-03-16\",\"2020-03-17\",\"2020-03-18\",\"2020-03-19\",\"2020-03-20\",\"2020-03-21\",\"2020-03-22\",\"2020-03-23\",\"2020-03-24\",\"2020-03-25\",\"2020-03-26\",\"2020-03-27\",\"2020-03-28\",\"2020-03-29\",\"2020-03-30\",\"2020-03-31\",\"2020-04-01\"],\"xaxis\":\"x\",\"y\":[1,2,6,9,12,12,22,24,28,28,28,28,28,28,28,28,28,28,28,28,28,28,28],\"yaxis\":\"y\",\"type\":\"scattergl\"},{\"hovertemplate\":\"Regulation=EntertainmentVenuesPartial<br>Date=%{x}<br>num_countries=%{y}<extra></extra>\",\"legendgroup\":\"EntertainmentVenuesPartial\",\"line\":{\"color\":\"#B6E880\",\"dash\":\"solid\"},\"marker\":{\"symbol\":\"circle\"},\"mode\":\"lines\",\"name\":\"EntertainmentVenuesPartial\",\"showlegend\":true,\"x\":[\"2020-03-13\",\"2020-03-14\",\"2020-03-15\",\"2020-03-19\",\"2020-03-20\",\"2020-03-21\",\"2020-03-22\",\"2020-03-23\",\"2020-03-24\",\"2020-03-25\",\"2020-03-26\",\"2020-03-27\",\"2020-03-28\",\"2020-03-29\",\"2020-03-30\",\"2020-03-31\",\"2020-04-01\"],\"xaxis\":\"x\",\"y\":[1,1,1,1,1,1,1,1,1,1,1,1,1,1,1,1,1],\"yaxis\":\"y\",\"type\":\"scattergl\"},{\"hovertemplate\":\"Regulation=GymsSportsCentres<br>Date=%{x}<br>num_countries=%{y}<extra></extra>\",\"legendgroup\":\"GymsSportsCentres\",\"line\":{\"color\":\"#FF97FF\",\"dash\":\"solid\"},\"marker\":{\"symbol\":\"circle\"},\"mode\":\"lines\",\"name\":\"GymsSportsCentres\",\"showlegend\":true,\"x\":[\"2020-03-10\",\"2020-03-11\",\"2020-03-12\",\"2020-03-13\",\"2020-03-14\",\"2020-03-15\",\"2020-03-16\",\"2020-03-17\",\"2020-03-18\",\"2020-03-19\",\"2020-03-20\",\"2020-03-21\",\"2020-03-22\",\"2020-03-23\",\"2020-03-24\",\"2020-03-25\",\"2020-03-26\",\"2020-03-27\",\"2020-03-28\",\"2020-03-29\",\"2020-03-30\",\"2020-03-31\",\"2020-04-01\"],\"xaxis\":\"x\",\"y\":[1,1,2,6,8,10,16,17,21,22,22,22,22,22,23,23,23,23,23,23,23,23,23],\"yaxis\":\"y\",\"type\":\"scattergl\"},{\"hovertemplate\":\"Regulation=GymsSportsCentresPartial<br>Date=%{x}<br>num_countries=%{y}<extra></extra>\",\"legendgroup\":\"GymsSportsCentresPartial\",\"line\":{\"color\":\"#FECB52\",\"dash\":\"solid\"},\"marker\":{\"symbol\":\"circle\"},\"mode\":\"lines\",\"name\":\"GymsSportsCentresPartial\",\"showlegend\":true,\"x\":[\"2020-03-12\",\"2020-03-13\",\"2020-03-14\",\"2020-03-15\",\"2020-03-16\",\"2020-03-17\",\"2020-03-18\",\"2020-03-19\",\"2020-03-20\",\"2020-03-21\",\"2020-03-22\",\"2020-03-23\",\"2020-03-24\",\"2020-03-25\",\"2020-03-26\",\"2020-03-27\",\"2020-03-28\",\"2020-03-29\",\"2020-03-30\",\"2020-03-31\",\"2020-04-01\"],\"xaxis\":\"x\",\"y\":[1,1,2,2,3,3,3,3,3,3,3,3,3,3,3,3,3,3,3,3,3],\"yaxis\":\"y\",\"type\":\"scattergl\"},{\"hovertemplate\":\"Regulation=HotelsOtherAccommodation<br>Date=%{x}<br>num_countries=%{y}<extra></extra>\",\"legendgroup\":\"HotelsOtherAccommodation\",\"line\":{\"color\":\"#636efa\",\"dash\":\"solid\"},\"marker\":{\"symbol\":\"circle\"},\"mode\":\"lines\",\"name\":\"HotelsOtherAccommodation\",\"showlegend\":true,\"x\":[\"2020-03-14\",\"2020-03-15\",\"2020-03-16\",\"2020-03-17\",\"2020-03-18\",\"2020-03-19\",\"2020-03-20\",\"2020-03-21\",\"2020-03-22\",\"2020-03-23\",\"2020-03-24\",\"2020-03-25\",\"2020-03-26\",\"2020-03-27\",\"2020-03-28\",\"2020-03-29\",\"2020-03-30\",\"2020-03-31\",\"2020-04-01\"],\"xaxis\":\"x\",\"y\":[2,3,5,5,6,6,6,6,6,6,7,7,7,7,7,7,7,8,8],\"yaxis\":\"y\",\"type\":\"scattergl\"},{\"hovertemplate\":\"Regulation=HotelsOtherAccommodationPartial<br>Date=%{x}<br>num_countries=%{y}<extra></extra>\",\"legendgroup\":\"HotelsOtherAccommodationPartial\",\"line\":{\"color\":\"#EF553B\",\"dash\":\"solid\"},\"marker\":{\"symbol\":\"circle\"},\"mode\":\"lines\",\"name\":\"HotelsOtherAccommodationPartial\",\"showlegend\":true,\"x\":[\"2020-03-12\",\"2020-03-13\",\"2020-03-14\",\"2020-03-15\",\"2020-03-16\",\"2020-03-17\",\"2020-03-18\",\"2020-03-19\",\"2020-03-20\",\"2020-03-21\",\"2020-03-22\",\"2020-03-23\",\"2020-03-24\",\"2020-03-25\",\"2020-03-26\",\"2020-03-27\",\"2020-03-28\",\"2020-03-29\",\"2020-03-30\",\"2020-03-31\",\"2020-04-01\"],\"xaxis\":\"x\",\"y\":[1,1,1,1,1,1,1,1,1,1,1,1,1,1,1,1,1,1,1,1,1],\"yaxis\":\"y\",\"type\":\"scattergl\"},{\"hovertemplate\":\"Regulation=IndoorOver100<br>Date=%{x}<br>num_countries=%{y}<extra></extra>\",\"legendgroup\":\"IndoorOver100\",\"line\":{\"color\":\"#00cc96\",\"dash\":\"solid\"},\"marker\":{\"symbol\":\"circle\"},\"mode\":\"lines\",\"name\":\"IndoorOver100\",\"showlegend\":true,\"x\":[\"2020-03-10\",\"2020-03-11\",\"2020-03-12\",\"2020-03-13\",\"2020-03-14\",\"2020-03-15\",\"2020-03-16\",\"2020-03-17\",\"2020-03-18\",\"2020-03-19\",\"2020-03-20\",\"2020-03-21\",\"2020-03-22\",\"2020-03-23\",\"2020-03-24\",\"2020-03-25\",\"2020-03-26\",\"2020-03-27\",\"2020-03-28\",\"2020-03-29\",\"2020-03-30\",\"2020-03-31\",\"2020-04-01\"],\"xaxis\":\"x\",\"y\":[2,4,6,6,6,7,7,7,7,6,5,5,5,5,2,2,2,2,2,2,2,2,2],\"yaxis\":\"y\",\"type\":\"scattergl\"},{\"hovertemplate\":\"Regulation=IndoorOver1000<br>Date=%{x}<br>num_countries=%{y}<extra></extra>\",\"legendgroup\":\"IndoorOver1000\",\"line\":{\"color\":\"#ab63fa\",\"dash\":\"solid\"},\"marker\":{\"symbol\":\"circle\"},\"mode\":\"lines\",\"name\":\"IndoorOver1000\",\"showlegend\":true,\"x\":[\"2020-03-01\",\"2020-03-02\",\"2020-03-03\",\"2020-03-04\",\"2020-03-05\",\"2020-03-06\",\"2020-03-07\",\"2020-03-08\",\"2020-03-09\",\"2020-03-10\",\"2020-03-11\",\"2020-03-12\",\"2020-03-13\",\"2020-03-14\",\"2020-03-15\",\"2020-03-16\",\"2020-03-17\",\"2020-03-18\",\"2020-03-19\",\"2020-03-20\",\"2020-03-21\",\"2020-03-22\",\"2020-03-23\",\"2020-03-24\",\"2020-03-25\",\"2020-03-26\",\"2020-03-27\",\"2020-03-28\",\"2020-03-29\",\"2020-03-30\",\"2020-03-31\",\"2020-04-01\"],\"xaxis\":\"x\",\"y\":[2,2,2,2,2,2,2,2,3,5,5,5,5,4,3,3,3,2,2,2,2,2,1,1,1,1,1,1,1,1,1,1],\"yaxis\":\"y\",\"type\":\"scattergl\"},{\"hovertemplate\":\"Regulation=IndoorOver50<br>Date=%{x}<br>num_countries=%{y}<extra></extra>\",\"legendgroup\":\"IndoorOver50\",\"line\":{\"color\":\"#FFA15A\",\"dash\":\"solid\"},\"marker\":{\"symbol\":\"circle\"},\"mode\":\"lines\",\"name\":\"IndoorOver50\",\"showlegend\":true,\"x\":[\"2020-03-18\",\"2020-03-19\",\"2020-03-20\",\"2020-03-21\",\"2020-03-22\",\"2020-03-23\",\"2020-03-24\",\"2020-03-25\",\"2020-03-26\",\"2020-03-27\",\"2020-03-28\",\"2020-03-29\",\"2020-03-30\",\"2020-03-31\",\"2020-04-01\"],\"xaxis\":\"x\",\"y\":[1,1,1,1,1,1,2,2,2,2,2,2,2,2,2],\"yaxis\":\"y\",\"type\":\"scattergl\"},{\"hovertemplate\":\"Regulation=IndoorOver500<br>Date=%{x}<br>num_countries=%{y}<extra></extra>\",\"legendgroup\":\"IndoorOver500\",\"line\":{\"color\":\"#19d3f3\",\"dash\":\"solid\"},\"marker\":{\"symbol\":\"circle\"},\"mode\":\"lines\",\"name\":\"IndoorOver500\",\"showlegend\":true,\"x\":[\"2020-03-07\",\"2020-03-08\",\"2020-03-09\",\"2020-03-10\",\"2020-03-11\",\"2020-03-12\",\"2020-03-13\",\"2020-03-14\",\"2020-03-15\",\"2020-03-16\",\"2020-03-17\",\"2020-03-18\",\"2020-03-19\",\"2020-03-20\",\"2020-03-21\",\"2020-03-22\",\"2020-03-23\",\"2020-03-24\",\"2020-03-25\",\"2020-03-26\",\"2020-03-27\",\"2020-03-28\",\"2020-03-29\",\"2020-03-30\",\"2020-03-31\",\"2020-04-01\"],\"xaxis\":\"x\",\"y\":[1,1,1,1,1,3,3,2,2,2,1,1,1,1,1,1,1,1,1,1,1,1,1,1,1,1],\"yaxis\":\"y\",\"type\":\"scattergl\"},{\"hovertemplate\":\"Regulation=MassGather50<br>Date=%{x}<br>num_countries=%{y}<extra></extra>\",\"legendgroup\":\"MassGather50\",\"line\":{\"color\":\"#FF6692\",\"dash\":\"solid\"},\"marker\":{\"symbol\":\"circle\"},\"mode\":\"lines\",\"name\":\"MassGather50\",\"showlegend\":true,\"x\":[\"2020-03-08\",\"2020-03-09\",\"2020-03-10\",\"2020-03-11\",\"2020-03-12\",\"2020-03-13\",\"2020-03-14\",\"2020-03-15\",\"2020-03-16\",\"2020-03-17\",\"2020-03-18\",\"2020-03-19\",\"2020-03-20\",\"2020-03-21\",\"2020-03-22\",\"2020-03-23\",\"2020-03-24\",\"2020-03-25\",\"2020-03-26\",\"2020-03-27\",\"2020-03-28\",\"2020-03-29\",\"2020-03-30\",\"2020-03-31\",\"2020-04-01\"],\"xaxis\":\"x\",\"y\":[1,2,4,4,6,7,10,11,11,12,13,15,16,16,16,17,19,19,19,19,19,20,20,20,20],\"yaxis\":\"y\",\"type\":\"scattergl\"},{\"hovertemplate\":\"Regulation=MassGather50Partial<br>Date=%{x}<br>num_countries=%{y}<extra></extra>\",\"legendgroup\":\"MassGather50Partial\",\"line\":{\"color\":\"#B6E880\",\"dash\":\"solid\"},\"marker\":{\"symbol\":\"circle\"},\"mode\":\"lines\",\"name\":\"MassGather50Partial\",\"showlegend\":true,\"x\":[\"2020-03-04\",\"2020-03-05\",\"2020-03-06\",\"2020-03-07\",\"2020-03-08\",\"2020-03-16\",\"2020-03-17\",\"2020-03-18\",\"2020-03-19\",\"2020-03-20\",\"2020-03-21\",\"2020-03-22\",\"2020-03-23\",\"2020-03-24\",\"2020-03-25\",\"2020-03-26\",\"2020-03-27\",\"2020-03-28\",\"2020-03-29\",\"2020-03-30\",\"2020-03-31\",\"2020-04-01\"],\"xaxis\":\"x\",\"y\":[1,1,1,1,1,1,1,1,1,1,1,1,1,1,1,1,1,1,1,1,1,1],\"yaxis\":\"y\",\"type\":\"scattergl\"},{\"hovertemplate\":\"Regulation=MassGatherAll<br>Date=%{x}<br>num_countries=%{y}<extra></extra>\",\"legendgroup\":\"MassGatherAll\",\"line\":{\"color\":\"#FF97FF\",\"dash\":\"solid\"},\"marker\":{\"symbol\":\"circle\"},\"mode\":\"lines\",\"name\":\"MassGatherAll\",\"showlegend\":true,\"x\":[\"2020-03-01\",\"2020-03-02\",\"2020-03-03\",\"2020-03-04\",\"2020-03-05\",\"2020-03-06\",\"2020-03-07\",\"2020-03-08\",\"2020-03-09\",\"2020-03-10\",\"2020-03-11\",\"2020-03-12\",\"2020-03-13\",\"2020-03-14\",\"2020-03-15\",\"2020-03-16\",\"2020-03-17\",\"2020-03-18\",\"2020-03-19\",\"2020-03-20\",\"2020-03-21\",\"2020-03-22\",\"2020-03-23\",\"2020-03-24\",\"2020-03-25\",\"2020-03-26\",\"2020-03-27\",\"2020-03-28\",\"2020-03-29\",\"2020-03-30\",\"2020-03-31\",\"2020-04-01\"],\"xaxis\":\"x\",\"y\":[2,2,2,2,2,2,3,4,6,12,14,20,20,21,22,22,21,22,23,23,23,23,23,22,22,22,22,22,22,22,22,22],\"yaxis\":\"y\",\"type\":\"scattergl\"},{\"hovertemplate\":\"Regulation=MassGatherAllPartial<br>Date=%{x}<br>num_countries=%{y}<extra></extra>\",\"legendgroup\":\"MassGatherAllPartial\",\"line\":{\"color\":\"#FECB52\",\"dash\":\"solid\"},\"marker\":{\"symbol\":\"circle\"},\"mode\":\"lines\",\"name\":\"MassGatherAllPartial\",\"showlegend\":true,\"x\":[\"2020-03-04\",\"2020-03-05\",\"2020-03-06\",\"2020-03-07\",\"2020-03-08\",\"2020-03-13\",\"2020-03-14\",\"2020-03-15\",\"2020-03-16\",\"2020-03-17\",\"2020-03-18\",\"2020-03-19\",\"2020-03-20\",\"2020-03-21\",\"2020-03-22\",\"2020-03-23\",\"2020-03-24\",\"2020-03-25\",\"2020-03-26\",\"2020-03-27\",\"2020-03-28\",\"2020-03-29\",\"2020-03-30\",\"2020-03-31\",\"2020-04-01\"],\"xaxis\":\"x\",\"y\":[1,1,1,1,1,1,1,1,2,3,3,3,3,3,3,3,3,3,3,3,3,3,3,3,3],\"yaxis\":\"y\",\"type\":\"scattergl\"},{\"hovertemplate\":\"Regulation=NonEssentialShops<br>Date=%{x}<br>num_countries=%{y}<extra></extra>\",\"legendgroup\":\"NonEssentialShops\",\"line\":{\"color\":\"#636efa\",\"dash\":\"solid\"},\"marker\":{\"symbol\":\"circle\"},\"mode\":\"lines\",\"name\":\"NonEssentialShops\",\"showlegend\":true,\"x\":[\"2020-03-10\",\"2020-03-11\",\"2020-03-12\",\"2020-03-13\",\"2020-03-14\",\"2020-03-15\",\"2020-03-16\",\"2020-03-17\",\"2020-03-18\",\"2020-03-19\",\"2020-03-20\",\"2020-03-21\",\"2020-03-22\",\"2020-03-23\",\"2020-03-24\",\"2020-03-25\",\"2020-03-26\",\"2020-03-27\",\"2020-03-28\",\"2020-03-29\",\"2020-03-30\",\"2020-03-31\",\"2020-04-01\"],\"xaxis\":\"x\",\"y\":[1,2,2,3,6,7,13,14,14,14,14,14,15,15,16,16,16,17,17,17,17,17,17],\"yaxis\":\"y\",\"type\":\"scattergl\"},{\"hovertemplate\":\"Regulation=NonEssentialShopsPartial<br>Date=%{x}<br>num_countries=%{y}<extra></extra>\",\"legendgroup\":\"NonEssentialShopsPartial\",\"line\":{\"color\":\"#EF553B\",\"dash\":\"solid\"},\"marker\":{\"symbol\":\"circle\"},\"mode\":\"lines\",\"name\":\"NonEssentialShopsPartial\",\"showlegend\":true,\"x\":[\"2020-03-14\",\"2020-03-15\",\"2020-03-16\",\"2020-03-17\",\"2020-03-18\",\"2020-03-19\",\"2020-03-20\",\"2020-03-21\",\"2020-03-22\",\"2020-03-23\",\"2020-03-24\",\"2020-03-25\",\"2020-03-26\",\"2020-03-27\",\"2020-03-28\",\"2020-03-29\",\"2020-03-30\",\"2020-03-31\",\"2020-04-01\"],\"xaxis\":\"x\",\"y\":[1,1,2,2,2,2,2,2,2,3,3,3,3,3,4,4,4,4,4],\"yaxis\":\"y\",\"type\":\"scattergl\"},{\"hovertemplate\":\"Regulation=OutdoorOver100<br>Date=%{x}<br>num_countries=%{y}<extra></extra>\",\"legendgroup\":\"OutdoorOver100\",\"line\":{\"color\":\"#00cc96\",\"dash\":\"solid\"},\"marker\":{\"symbol\":\"circle\"},\"mode\":\"lines\",\"name\":\"OutdoorOver100\",\"showlegend\":true,\"x\":[\"2020-03-10\",\"2020-03-11\",\"2020-03-12\",\"2020-03-13\",\"2020-03-14\",\"2020-03-15\",\"2020-03-16\",\"2020-03-17\",\"2020-03-18\",\"2020-03-19\",\"2020-03-20\",\"2020-03-21\",\"2020-03-22\",\"2020-03-23\",\"2020-03-24\",\"2020-03-25\",\"2020-03-26\",\"2020-03-27\",\"2020-03-28\",\"2020-03-29\",\"2020-03-30\",\"2020-03-31\",\"2020-04-01\"],\"xaxis\":\"x\",\"y\":[1,1,2,2,2,3,4,4,4,3,3,3,3,3,1,1,1,1,1,1,1,1,1],\"yaxis\":\"y\",\"type\":\"scattergl\"},{\"hovertemplate\":\"Regulation=OutdoorOver1000<br>Date=%{x}<br>num_countries=%{y}<extra></extra>\",\"legendgroup\":\"OutdoorOver1000\",\"line\":{\"color\":\"#ab63fa\",\"dash\":\"solid\"},\"marker\":{\"symbol\":\"circle\"},\"mode\":\"lines\",\"name\":\"OutdoorOver1000\",\"showlegend\":true,\"x\":[\"2020-03-01\",\"2020-03-02\",\"2020-03-03\",\"2020-03-04\",\"2020-03-05\",\"2020-03-06\",\"2020-03-07\",\"2020-03-08\",\"2020-03-09\",\"2020-03-10\",\"2020-03-11\",\"2020-03-12\",\"2020-03-13\",\"2020-03-14\",\"2020-03-15\",\"2020-03-16\",\"2020-03-17\",\"2020-03-18\",\"2020-03-19\",\"2020-03-20\",\"2020-03-21\",\"2020-03-22\",\"2020-03-23\",\"2020-03-24\",\"2020-03-25\",\"2020-03-26\",\"2020-03-27\",\"2020-03-28\",\"2020-03-29\",\"2020-03-30\",\"2020-03-31\",\"2020-04-01\"],\"xaxis\":\"x\",\"y\":[1,1,1,1,1,1,1,1,1,1,1,1,2,1,1,1,1,1,1,1,1,1,1,1,1,1,1,1,1,1,1,1],\"yaxis\":\"y\",\"type\":\"scattergl\"},{\"hovertemplate\":\"Regulation=OutdoorOver50<br>Date=%{x}<br>num_countries=%{y}<extra></extra>\",\"legendgroup\":\"OutdoorOver50\",\"line\":{\"color\":\"#FFA15A\",\"dash\":\"solid\"},\"marker\":{\"symbol\":\"circle\"},\"mode\":\"lines\",\"name\":\"OutdoorOver50\",\"showlegend\":true,\"x\":[\"2020-03-18\",\"2020-03-19\",\"2020-03-20\",\"2020-03-21\",\"2020-03-22\",\"2020-03-23\",\"2020-03-24\",\"2020-03-25\",\"2020-03-26\",\"2020-03-27\",\"2020-03-28\",\"2020-03-29\",\"2020-03-30\",\"2020-03-31\",\"2020-04-01\"],\"xaxis\":\"x\",\"y\":[1,1,1,1,1,1,2,2,2,2,2,3,3,3,3],\"yaxis\":\"y\",\"type\":\"scattergl\"},{\"hovertemplate\":\"Regulation=OutdoorOver500<br>Date=%{x}<br>num_countries=%{y}<extra></extra>\",\"legendgroup\":\"OutdoorOver500\",\"line\":{\"color\":\"#19d3f3\",\"dash\":\"solid\"},\"marker\":{\"symbol\":\"circle\"},\"mode\":\"lines\",\"name\":\"OutdoorOver500\",\"showlegend\":true,\"x\":[\"2020-03-10\",\"2020-03-11\",\"2020-03-12\",\"2020-03-13\",\"2020-03-14\",\"2020-03-15\",\"2020-03-16\",\"2020-03-17\",\"2020-03-18\",\"2020-03-19\",\"2020-03-20\",\"2020-03-21\",\"2020-03-22\",\"2020-03-23\",\"2020-03-24\",\"2020-03-25\",\"2020-03-26\",\"2020-03-27\",\"2020-03-28\",\"2020-03-29\",\"2020-03-30\",\"2020-03-31\",\"2020-04-01\"],\"xaxis\":\"x\",\"y\":[1,3,5,5,5,5,4,3,3,3,3,3,3,3,2,2,2,2,2,2,2,2,2],\"yaxis\":\"y\",\"type\":\"scattergl\"},{\"hovertemplate\":\"Regulation=PlaceOfWorship<br>Date=%{x}<br>num_countries=%{y}<extra></extra>\",\"legendgroup\":\"PlaceOfWorship\",\"line\":{\"color\":\"#FF6692\",\"dash\":\"solid\"},\"marker\":{\"symbol\":\"circle\"},\"mode\":\"lines\",\"name\":\"PlaceOfWorship\",\"showlegend\":true,\"x\":[\"2020-03-10\",\"2020-03-11\",\"2020-03-12\",\"2020-03-13\",\"2020-03-14\",\"2020-03-15\",\"2020-03-16\",\"2020-03-17\",\"2020-03-18\",\"2020-03-19\",\"2020-03-20\",\"2020-03-21\",\"2020-03-22\",\"2020-03-23\",\"2020-03-24\",\"2020-03-25\",\"2020-03-26\",\"2020-03-27\",\"2020-03-28\",\"2020-03-29\",\"2020-03-30\",\"2020-03-31\",\"2020-04-01\"],\"xaxis\":\"x\",\"y\":[1,1,2,4,4,4,9,10,12,12,12,12,12,12,12,12,12,12,12,12,12,12,12],\"yaxis\":\"y\",\"type\":\"scattergl\"},{\"hovertemplate\":\"Regulation=PlaceOfWorshipPartial<br>Date=%{x}<br>num_countries=%{y}<extra></extra>\",\"legendgroup\":\"PlaceOfWorshipPartial\",\"line\":{\"color\":\"#B6E880\",\"dash\":\"solid\"},\"marker\":{\"symbol\":\"circle\"},\"mode\":\"lines\",\"name\":\"PlaceOfWorshipPartial\",\"showlegend\":true,\"x\":[\"2020-03-10\",\"2020-03-11\",\"2020-03-12\",\"2020-03-13\",\"2020-03-14\",\"2020-03-15\",\"2020-03-16\",\"2020-03-17\",\"2020-03-18\",\"2020-03-19\",\"2020-03-20\",\"2020-03-21\",\"2020-03-22\",\"2020-03-23\",\"2020-03-24\",\"2020-03-25\",\"2020-03-26\",\"2020-03-27\",\"2020-03-28\",\"2020-03-29\",\"2020-03-30\",\"2020-03-31\",\"2020-04-01\"],\"xaxis\":\"x\",\"y\":[1,1,1,1,3,3,2,2,2,2,2,2,2,2,2,2,2,2,2,2,2,2,2],\"yaxis\":\"y\",\"type\":\"scattergl\"},{\"hovertemplate\":\"Regulation=PrivateGatheringRestrictions<br>Date=%{x}<br>num_countries=%{y}<extra></extra>\",\"legendgroup\":\"PrivateGatheringRestrictions\",\"line\":{\"color\":\"#FF97FF\",\"dash\":\"solid\"},\"marker\":{\"symbol\":\"circle\"},\"mode\":\"lines\",\"name\":\"PrivateGatheringRestrictions\",\"showlegend\":true,\"x\":[\"2020-03-08\",\"2020-03-09\",\"2020-03-10\",\"2020-03-11\",\"2020-03-12\",\"2020-03-13\",\"2020-03-14\",\"2020-03-15\",\"2020-03-16\",\"2020-03-17\",\"2020-03-18\",\"2020-03-19\",\"2020-03-20\",\"2020-03-21\",\"2020-03-22\",\"2020-03-23\",\"2020-03-24\",\"2020-03-25\",\"2020-03-26\",\"2020-03-27\",\"2020-03-28\",\"2020-03-29\",\"2020-03-30\",\"2020-03-31\",\"2020-04-01\"],\"xaxis\":\"x\",\"y\":[1,1,1,1,3,3,3,3,6,8,9,11,12,12,13,14,15,15,15,15,15,15,15,16,16],\"yaxis\":\"y\",\"type\":\"scattergl\"},{\"hovertemplate\":\"Regulation=PrivateGatheringRestrictionsPartial<br>Date=%{x}<br>num_countries=%{y}<extra></extra>\",\"legendgroup\":\"PrivateGatheringRestrictionsPartial\",\"line\":{\"color\":\"#FECB52\",\"dash\":\"solid\"},\"marker\":{\"symbol\":\"circle\"},\"mode\":\"lines\",\"name\":\"PrivateGatheringRestrictionsPartial\",\"showlegend\":true,\"x\":[\"2020-03-19\",\"2020-03-20\",\"2020-03-21\",\"2020-03-22\",\"2020-03-23\",\"2020-03-24\",\"2020-03-25\",\"2020-03-26\",\"2020-03-27\",\"2020-03-28\",\"2020-03-29\",\"2020-03-30\",\"2020-03-31\",\"2020-04-01\"],\"xaxis\":\"x\",\"y\":[1,1,1,1,1,1,1,1,1,1,1,1,1,1],\"yaxis\":\"y\",\"type\":\"scattergl\"},{\"hovertemplate\":\"Regulation=QuarantineForInternationalTravellers<br>Date=%{x}<br>num_countries=%{y}<extra></extra>\",\"legendgroup\":\"QuarantineForInternationalTravellers\",\"line\":{\"color\":\"#636efa\",\"dash\":\"solid\"},\"marker\":{\"symbol\":\"circle\"},\"mode\":\"lines\",\"name\":\"QuarantineForInternationalTravellers\",\"showlegend\":true,\"x\":[\"2020-03-01\",\"2020-03-02\",\"2020-03-03\",\"2020-03-04\",\"2020-03-05\",\"2020-03-06\",\"2020-03-07\",\"2020-03-08\",\"2020-03-09\",\"2020-03-10\",\"2020-03-11\",\"2020-03-12\",\"2020-03-13\",\"2020-03-14\",\"2020-03-15\",\"2020-03-16\",\"2020-03-17\",\"2020-03-18\",\"2020-03-19\",\"2020-03-20\",\"2020-03-21\",\"2020-03-22\",\"2020-03-23\",\"2020-03-24\",\"2020-03-25\",\"2020-03-26\",\"2020-03-27\",\"2020-03-28\",\"2020-03-29\",\"2020-03-30\",\"2020-03-31\",\"2020-04-01\"],\"xaxis\":\"x\",\"y\":[5,5,5,6,6,6,6,6,6,7,6,7,9,9,10,10,12,13,14,14,14,14,14,14,15,15,15,15,15,15,14,14],\"yaxis\":\"y\",\"type\":\"scattergl\"},{\"hovertemplate\":\"Regulation=QuarantineForInternationalTravellersPartial<br>Date=%{x}<br>num_countries=%{y}<extra></extra>\",\"legendgroup\":\"QuarantineForInternationalTravellersPartial\",\"line\":{\"color\":\"#EF553B\",\"dash\":\"solid\"},\"marker\":{\"symbol\":\"circle\"},\"mode\":\"lines\",\"name\":\"QuarantineForInternationalTravellersPartial\",\"showlegend\":true,\"x\":[\"2020-03-01\",\"2020-03-02\",\"2020-03-03\",\"2020-03-04\",\"2020-03-05\",\"2020-03-06\",\"2020-03-07\",\"2020-03-08\",\"2020-03-09\",\"2020-03-10\",\"2020-03-11\",\"2020-03-12\",\"2020-03-13\",\"2020-03-14\",\"2020-03-15\",\"2020-03-16\",\"2020-03-17\",\"2020-03-18\",\"2020-03-19\",\"2020-03-20\",\"2020-03-21\",\"2020-03-22\",\"2020-03-23\",\"2020-03-24\",\"2020-03-25\",\"2020-03-26\",\"2020-03-27\",\"2020-03-28\",\"2020-03-29\",\"2020-03-30\",\"2020-03-31\",\"2020-04-01\"],\"xaxis\":\"x\",\"y\":[1,1,1,1,1,1,1,1,1,1,1,2,2,3,3,3,2,2,2,2,2,2,2,2,2,2,2,2,2,2,2,2],\"yaxis\":\"y\",\"type\":\"scattergl\"},{\"hovertemplate\":\"Regulation=RestaurantsCafes<br>Date=%{x}<br>num_countries=%{y}<extra></extra>\",\"legendgroup\":\"RestaurantsCafes\",\"line\":{\"color\":\"#00cc96\",\"dash\":\"solid\"},\"marker\":{\"symbol\":\"circle\"},\"mode\":\"lines\",\"name\":\"RestaurantsCafes\",\"showlegend\":true,\"x\":[\"2020-03-12\",\"2020-03-13\",\"2020-03-14\",\"2020-03-15\",\"2020-03-16\",\"2020-03-17\",\"2020-03-18\",\"2020-03-19\",\"2020-03-20\",\"2020-03-21\",\"2020-03-22\",\"2020-03-23\",\"2020-03-24\",\"2020-03-25\",\"2020-03-26\",\"2020-03-27\",\"2020-03-28\",\"2020-03-29\",\"2020-03-30\",\"2020-03-31\",\"2020-04-01\"],\"xaxis\":\"x\",\"y\":[1,2,5,8,13,13,17,18,18,18,18,19,21,21,21,22,23,23,23,23,23],\"yaxis\":\"y\",\"type\":\"scattergl\"},{\"hovertemplate\":\"Regulation=RestaurantsCafesPartial<br>Date=%{x}<br>num_countries=%{y}<extra></extra>\",\"legendgroup\":\"RestaurantsCafesPartial\",\"line\":{\"color\":\"#ab63fa\",\"dash\":\"solid\"},\"marker\":{\"symbol\":\"circle\"},\"mode\":\"lines\",\"name\":\"RestaurantsCafesPartial\",\"showlegend\":true,\"x\":[\"2020-03-10\",\"2020-03-11\",\"2020-03-12\",\"2020-03-13\",\"2020-03-14\",\"2020-03-15\",\"2020-03-16\",\"2020-03-17\",\"2020-03-18\",\"2020-03-19\",\"2020-03-20\",\"2020-03-21\",\"2020-03-22\",\"2020-03-23\",\"2020-03-24\",\"2020-03-25\",\"2020-03-26\",\"2020-03-27\",\"2020-03-28\",\"2020-03-29\",\"2020-03-30\",\"2020-03-31\",\"2020-04-01\"],\"xaxis\":\"x\",\"y\":[1,1,2,2,3,3,3,3,3,3,3,3,3,3,2,2,2,2,2,2,2,2,2],\"yaxis\":\"y\",\"type\":\"scattergl\"},{\"hovertemplate\":\"Regulation=SocialCircle<br>Date=%{x}<br>num_countries=%{y}<extra></extra>\",\"legendgroup\":\"SocialCircle\",\"line\":{\"color\":\"#FFA15A\",\"dash\":\"solid\"},\"marker\":{\"symbol\":\"circle\"},\"mode\":\"lines\",\"name\":\"SocialCircle\",\"showlegend\":true,\"x\":[\"2020-03-18\",\"2020-03-19\",\"2020-03-20\",\"2020-03-21\",\"2020-03-22\",\"2020-03-23\",\"2020-03-24\",\"2020-03-25\",\"2020-03-26\",\"2020-03-27\",\"2020-03-28\",\"2020-03-29\",\"2020-03-30\",\"2020-03-31\",\"2020-04-01\"],\"xaxis\":\"x\",\"y\":[1,1,1,1,1,1,1,1,1,1,1,1,1,1,1],\"yaxis\":\"y\",\"type\":\"scattergl\"},{\"hovertemplate\":\"Regulation=StayHomeGen<br>Date=%{x}<br>num_countries=%{y}<extra></extra>\",\"legendgroup\":\"StayHomeGen\",\"line\":{\"color\":\"#19d3f3\",\"dash\":\"solid\"},\"marker\":{\"symbol\":\"circle\"},\"mode\":\"lines\",\"name\":\"StayHomeGen\",\"showlegend\":true,\"x\":[\"2020-03-01\",\"2020-03-02\",\"2020-03-03\",\"2020-03-04\",\"2020-03-05\",\"2020-03-06\",\"2020-03-07\",\"2020-03-08\",\"2020-03-09\",\"2020-03-10\",\"2020-03-11\",\"2020-03-12\",\"2020-03-13\",\"2020-03-14\",\"2020-03-15\",\"2020-03-16\",\"2020-03-17\",\"2020-03-18\",\"2020-03-19\",\"2020-03-20\",\"2020-03-21\",\"2020-03-22\",\"2020-03-23\",\"2020-03-24\",\"2020-03-25\",\"2020-03-26\",\"2020-03-27\",\"2020-03-28\",\"2020-03-29\",\"2020-03-30\",\"2020-03-31\",\"2020-04-01\"],\"xaxis\":\"x\",\"y\":[2,2,2,2,2,2,2,2,3,4,4,6,7,6,6,6,6,7,7,7,8,8,7,7,7,7,5,5,5,5,5,5],\"yaxis\":\"y\",\"type\":\"scattergl\"},{\"hovertemplate\":\"Regulation=StayHomeOrder<br>Date=%{x}<br>num_countries=%{y}<extra></extra>\",\"legendgroup\":\"StayHomeOrder\",\"line\":{\"color\":\"#FF6692\",\"dash\":\"solid\"},\"marker\":{\"symbol\":\"circle\"},\"mode\":\"lines\",\"name\":\"StayHomeOrder\",\"showlegend\":true,\"x\":[\"2020-03-10\",\"2020-03-11\",\"2020-03-12\",\"2020-03-13\",\"2020-03-14\",\"2020-03-15\",\"2020-03-16\",\"2020-03-17\",\"2020-03-18\",\"2020-03-19\",\"2020-03-20\",\"2020-03-21\",\"2020-03-22\",\"2020-03-23\",\"2020-03-24\",\"2020-03-25\",\"2020-03-26\",\"2020-03-27\",\"2020-03-28\",\"2020-03-29\",\"2020-03-30\",\"2020-03-31\",\"2020-04-01\"],\"xaxis\":\"x\",\"y\":[1,1,1,1,2,2,4,5,7,8,8,8,8,10,12,12,12,14,14,14,14,14,14],\"yaxis\":\"y\",\"type\":\"scattergl\"},{\"hovertemplate\":\"Regulation=StayHomeOrderPartial<br>Date=%{x}<br>num_countries=%{y}<extra></extra>\",\"legendgroup\":\"StayHomeOrderPartial\",\"line\":{\"color\":\"#B6E880\",\"dash\":\"solid\"},\"marker\":{\"symbol\":\"circle\"},\"mode\":\"lines\",\"name\":\"StayHomeOrderPartial\",\"showlegend\":true,\"x\":[\"2020-03-22\",\"2020-03-23\",\"2020-03-24\",\"2020-03-25\",\"2020-03-26\",\"2020-03-27\",\"2020-03-28\",\"2020-03-29\",\"2020-03-30\",\"2020-03-31\",\"2020-04-01\"],\"xaxis\":\"x\",\"y\":[1,1,1,1,1,1,1,1,1,1,1],\"yaxis\":\"y\",\"type\":\"scattergl\"},{\"hovertemplate\":\"Regulation=StayHomeRiskG<br>Date=%{x}<br>num_countries=%{y}<extra></extra>\",\"legendgroup\":\"StayHomeRiskG\",\"line\":{\"color\":\"#FF97FF\",\"dash\":\"solid\"},\"marker\":{\"symbol\":\"circle\"},\"mode\":\"lines\",\"name\":\"StayHomeRiskG\",\"showlegend\":true,\"x\":[\"2020-03-03\",\"2020-03-04\",\"2020-03-05\",\"2020-03-06\",\"2020-03-07\",\"2020-03-08\",\"2020-03-09\",\"2020-03-10\",\"2020-03-11\",\"2020-03-12\",\"2020-03-13\",\"2020-03-14\",\"2020-03-15\",\"2020-03-16\",\"2020-03-17\",\"2020-03-18\",\"2020-03-19\",\"2020-03-20\",\"2020-03-21\",\"2020-03-22\",\"2020-03-23\",\"2020-03-24\",\"2020-03-25\",\"2020-03-26\",\"2020-03-27\",\"2020-03-28\",\"2020-03-29\",\"2020-03-30\",\"2020-03-31\",\"2020-04-01\"],\"xaxis\":\"x\",\"y\":[1,2,2,2,2,3,3,3,3,7,8,8,8,11,11,11,11,11,11,11,11,11,12,12,12,13,13,13,13,14],\"yaxis\":\"y\",\"type\":\"scattergl\"},{\"hovertemplate\":\"Regulation=Teleworking<br>Date=%{x}<br>num_countries=%{y}<extra></extra>\",\"legendgroup\":\"Teleworking\",\"line\":{\"color\":\"#FECB52\",\"dash\":\"solid\"},\"marker\":{\"symbol\":\"circle\"},\"mode\":\"lines\",\"name\":\"Teleworking\",\"showlegend\":true,\"x\":[\"2020-03-04\",\"2020-03-05\",\"2020-03-06\",\"2020-03-07\",\"2020-03-08\",\"2020-03-09\",\"2020-03-10\",\"2020-03-11\",\"2020-03-12\",\"2020-03-13\",\"2020-03-14\",\"2020-03-15\",\"2020-03-16\",\"2020-03-17\",\"2020-03-18\",\"2020-03-19\",\"2020-03-20\",\"2020-03-21\",\"2020-03-22\",\"2020-03-23\",\"2020-03-24\",\"2020-03-25\",\"2020-03-26\",\"2020-03-27\",\"2020-03-28\",\"2020-03-29\",\"2020-03-30\",\"2020-03-31\",\"2020-04-01\"],\"xaxis\":\"x\",\"y\":[1,1,1,1,2,2,5,5,8,10,11,11,13,14,15,18,18,18,18,18,18,18,18,18,18,18,17,17,17],\"yaxis\":\"y\",\"type\":\"scattergl\"},{\"hovertemplate\":\"Regulation=TeleworkingPartial<br>Date=%{x}<br>num_countries=%{y}<extra></extra>\",\"legendgroup\":\"TeleworkingPartial\",\"line\":{\"color\":\"#636efa\",\"dash\":\"solid\"},\"marker\":{\"symbol\":\"circle\"},\"mode\":\"lines\",\"name\":\"TeleworkingPartial\",\"showlegend\":true,\"x\":[\"2020-03-16\",\"2020-03-17\",\"2020-03-18\",\"2020-03-19\",\"2020-03-20\",\"2020-03-21\",\"2020-03-22\",\"2020-03-23\",\"2020-03-24\",\"2020-03-25\",\"2020-03-26\",\"2020-03-27\",\"2020-03-28\",\"2020-03-29\",\"2020-03-30\",\"2020-03-31\",\"2020-04-01\"],\"xaxis\":\"x\",\"y\":[1,1,1,1,1,1,1,1,1,1,1,1,1,1,1,1,1],\"yaxis\":\"y\",\"type\":\"scattergl\"},{\"hovertemplate\":\"Regulation=WorkplaceClosures<br>Date=%{x}<br>num_countries=%{y}<extra></extra>\",\"legendgroup\":\"WorkplaceClosures\",\"line\":{\"color\":\"#EF553B\",\"dash\":\"solid\"},\"marker\":{\"symbol\":\"circle\"},\"mode\":\"lines\",\"name\":\"WorkplaceClosures\",\"showlegend\":true,\"x\":[\"2020-03-13\",\"2020-03-14\",\"2020-03-15\",\"2020-03-16\",\"2020-03-17\",\"2020-03-18\",\"2020-03-19\",\"2020-03-20\",\"2020-03-21\",\"2020-03-22\",\"2020-03-23\",\"2020-03-24\",\"2020-03-25\",\"2020-03-26\",\"2020-03-27\",\"2020-03-28\",\"2020-03-29\",\"2020-03-30\",\"2020-03-31\",\"2020-04-01\"],\"xaxis\":\"x\",\"y\":[1,1,2,3,4,4,4,4,4,4,5,5,5,5,5,5,5,5,5,5],\"yaxis\":\"y\",\"type\":\"scattergl\"}],                        {\"template\":{\"data\":{\"histogram2dcontour\":[{\"type\":\"histogram2dcontour\",\"colorbar\":{\"outlinewidth\":0,\"ticks\":\"\"},\"colorscale\":[[0.0,\"#0d0887\"],[0.1111111111111111,\"#46039f\"],[0.2222222222222222,\"#7201a8\"],[0.3333333333333333,\"#9c179e\"],[0.4444444444444444,\"#bd3786\"],[0.5555555555555556,\"#d8576b\"],[0.6666666666666666,\"#ed7953\"],[0.7777777777777778,\"#fb9f3a\"],[0.8888888888888888,\"#fdca26\"],[1.0,\"#f0f921\"]]}],\"choropleth\":[{\"type\":\"choropleth\",\"colorbar\":{\"outlinewidth\":0,\"ticks\":\"\"}}],\"histogram2d\":[{\"type\":\"histogram2d\",\"colorbar\":{\"outlinewidth\":0,\"ticks\":\"\"},\"colorscale\":[[0.0,\"#0d0887\"],[0.1111111111111111,\"#46039f\"],[0.2222222222222222,\"#7201a8\"],[0.3333333333333333,\"#9c179e\"],[0.4444444444444444,\"#bd3786\"],[0.5555555555555556,\"#d8576b\"],[0.6666666666666666,\"#ed7953\"],[0.7777777777777778,\"#fb9f3a\"],[0.8888888888888888,\"#fdca26\"],[1.0,\"#f0f921\"]]}],\"heatmap\":[{\"type\":\"heatmap\",\"colorbar\":{\"outlinewidth\":0,\"ticks\":\"\"},\"colorscale\":[[0.0,\"#0d0887\"],[0.1111111111111111,\"#46039f\"],[0.2222222222222222,\"#7201a8\"],[0.3333333333333333,\"#9c179e\"],[0.4444444444444444,\"#bd3786\"],[0.5555555555555556,\"#d8576b\"],[0.6666666666666666,\"#ed7953\"],[0.7777777777777778,\"#fb9f3a\"],[0.8888888888888888,\"#fdca26\"],[1.0,\"#f0f921\"]]}],\"heatmapgl\":[{\"type\":\"heatmapgl\",\"colorbar\":{\"outlinewidth\":0,\"ticks\":\"\"},\"colorscale\":[[0.0,\"#0d0887\"],[0.1111111111111111,\"#46039f\"],[0.2222222222222222,\"#7201a8\"],[0.3333333333333333,\"#9c179e\"],[0.4444444444444444,\"#bd3786\"],[0.5555555555555556,\"#d8576b\"],[0.6666666666666666,\"#ed7953\"],[0.7777777777777778,\"#fb9f3a\"],[0.8888888888888888,\"#fdca26\"],[1.0,\"#f0f921\"]]}],\"contourcarpet\":[{\"type\":\"contourcarpet\",\"colorbar\":{\"outlinewidth\":0,\"ticks\":\"\"}}],\"contour\":[{\"type\":\"contour\",\"colorbar\":{\"outlinewidth\":0,\"ticks\":\"\"},\"colorscale\":[[0.0,\"#0d0887\"],[0.1111111111111111,\"#46039f\"],[0.2222222222222222,\"#7201a8\"],[0.3333333333333333,\"#9c179e\"],[0.4444444444444444,\"#bd3786\"],[0.5555555555555556,\"#d8576b\"],[0.6666666666666666,\"#ed7953\"],[0.7777777777777778,\"#fb9f3a\"],[0.8888888888888888,\"#fdca26\"],[1.0,\"#f0f921\"]]}],\"surface\":[{\"type\":\"surface\",\"colorbar\":{\"outlinewidth\":0,\"ticks\":\"\"},\"colorscale\":[[0.0,\"#0d0887\"],[0.1111111111111111,\"#46039f\"],[0.2222222222222222,\"#7201a8\"],[0.3333333333333333,\"#9c179e\"],[0.4444444444444444,\"#bd3786\"],[0.5555555555555556,\"#d8576b\"],[0.6666666666666666,\"#ed7953\"],[0.7777777777777778,\"#fb9f3a\"],[0.8888888888888888,\"#fdca26\"],[1.0,\"#f0f921\"]]}],\"mesh3d\":[{\"type\":\"mesh3d\",\"colorbar\":{\"outlinewidth\":0,\"ticks\":\"\"}}],\"scatter\":[{\"fillpattern\":{\"fillmode\":\"overlay\",\"size\":10,\"solidity\":0.2},\"type\":\"scatter\"}],\"parcoords\":[{\"type\":\"parcoords\",\"line\":{\"colorbar\":{\"outlinewidth\":0,\"ticks\":\"\"}}}],\"scatterpolargl\":[{\"type\":\"scatterpolargl\",\"marker\":{\"colorbar\":{\"outlinewidth\":0,\"ticks\":\"\"}}}],\"bar\":[{\"error_x\":{\"color\":\"#2a3f5f\"},\"error_y\":{\"color\":\"#2a3f5f\"},\"marker\":{\"line\":{\"color\":\"#E5ECF6\",\"width\":0.5},\"pattern\":{\"fillmode\":\"overlay\",\"size\":10,\"solidity\":0.2}},\"type\":\"bar\"}],\"scattergeo\":[{\"type\":\"scattergeo\",\"marker\":{\"colorbar\":{\"outlinewidth\":0,\"ticks\":\"\"}}}],\"scatterpolar\":[{\"type\":\"scatterpolar\",\"marker\":{\"colorbar\":{\"outlinewidth\":0,\"ticks\":\"\"}}}],\"histogram\":[{\"marker\":{\"pattern\":{\"fillmode\":\"overlay\",\"size\":10,\"solidity\":0.2}},\"type\":\"histogram\"}],\"scattergl\":[{\"type\":\"scattergl\",\"marker\":{\"colorbar\":{\"outlinewidth\":0,\"ticks\":\"\"}}}],\"scatter3d\":[{\"type\":\"scatter3d\",\"line\":{\"colorbar\":{\"outlinewidth\":0,\"ticks\":\"\"}},\"marker\":{\"colorbar\":{\"outlinewidth\":0,\"ticks\":\"\"}}}],\"scattermapbox\":[{\"type\":\"scattermapbox\",\"marker\":{\"colorbar\":{\"outlinewidth\":0,\"ticks\":\"\"}}}],\"scatterternary\":[{\"type\":\"scatterternary\",\"marker\":{\"colorbar\":{\"outlinewidth\":0,\"ticks\":\"\"}}}],\"scattercarpet\":[{\"type\":\"scattercarpet\",\"marker\":{\"colorbar\":{\"outlinewidth\":0,\"ticks\":\"\"}}}],\"carpet\":[{\"aaxis\":{\"endlinecolor\":\"#2a3f5f\",\"gridcolor\":\"white\",\"linecolor\":\"white\",\"minorgridcolor\":\"white\",\"startlinecolor\":\"#2a3f5f\"},\"baxis\":{\"endlinecolor\":\"#2a3f5f\",\"gridcolor\":\"white\",\"linecolor\":\"white\",\"minorgridcolor\":\"white\",\"startlinecolor\":\"#2a3f5f\"},\"type\":\"carpet\"}],\"table\":[{\"cells\":{\"fill\":{\"color\":\"#EBF0F8\"},\"line\":{\"color\":\"white\"}},\"header\":{\"fill\":{\"color\":\"#C8D4E3\"},\"line\":{\"color\":\"white\"}},\"type\":\"table\"}],\"barpolar\":[{\"marker\":{\"line\":{\"color\":\"#E5ECF6\",\"width\":0.5},\"pattern\":{\"fillmode\":\"overlay\",\"size\":10,\"solidity\":0.2}},\"type\":\"barpolar\"}],\"pie\":[{\"automargin\":true,\"type\":\"pie\"}]},\"layout\":{\"autotypenumbers\":\"strict\",\"colorway\":[\"#636efa\",\"#EF553B\",\"#00cc96\",\"#ab63fa\",\"#FFA15A\",\"#19d3f3\",\"#FF6692\",\"#B6E880\",\"#FF97FF\",\"#FECB52\"],\"font\":{\"color\":\"#2a3f5f\"},\"hovermode\":\"closest\",\"hoverlabel\":{\"align\":\"left\"},\"paper_bgcolor\":\"white\",\"plot_bgcolor\":\"#E5ECF6\",\"polar\":{\"bgcolor\":\"#E5ECF6\",\"angularaxis\":{\"gridcolor\":\"white\",\"linecolor\":\"white\",\"ticks\":\"\"},\"radialaxis\":{\"gridcolor\":\"white\",\"linecolor\":\"white\",\"ticks\":\"\"}},\"ternary\":{\"bgcolor\":\"#E5ECF6\",\"aaxis\":{\"gridcolor\":\"white\",\"linecolor\":\"white\",\"ticks\":\"\"},\"baxis\":{\"gridcolor\":\"white\",\"linecolor\":\"white\",\"ticks\":\"\"},\"caxis\":{\"gridcolor\":\"white\",\"linecolor\":\"white\",\"ticks\":\"\"}},\"coloraxis\":{\"colorbar\":{\"outlinewidth\":0,\"ticks\":\"\"}},\"colorscale\":{\"sequential\":[[0.0,\"#0d0887\"],[0.1111111111111111,\"#46039f\"],[0.2222222222222222,\"#7201a8\"],[0.3333333333333333,\"#9c179e\"],[0.4444444444444444,\"#bd3786\"],[0.5555555555555556,\"#d8576b\"],[0.6666666666666666,\"#ed7953\"],[0.7777777777777778,\"#fb9f3a\"],[0.8888888888888888,\"#fdca26\"],[1.0,\"#f0f921\"]],\"sequentialminus\":[[0.0,\"#0d0887\"],[0.1111111111111111,\"#46039f\"],[0.2222222222222222,\"#7201a8\"],[0.3333333333333333,\"#9c179e\"],[0.4444444444444444,\"#bd3786\"],[0.5555555555555556,\"#d8576b\"],[0.6666666666666666,\"#ed7953\"],[0.7777777777777778,\"#fb9f3a\"],[0.8888888888888888,\"#fdca26\"],[1.0,\"#f0f921\"]],\"diverging\":[[0,\"#8e0152\"],[0.1,\"#c51b7d\"],[0.2,\"#de77ae\"],[0.3,\"#f1b6da\"],[0.4,\"#fde0ef\"],[0.5,\"#f7f7f7\"],[0.6,\"#e6f5d0\"],[0.7,\"#b8e186\"],[0.8,\"#7fbc41\"],[0.9,\"#4d9221\"],[1,\"#276419\"]]},\"xaxis\":{\"gridcolor\":\"white\",\"linecolor\":\"white\",\"ticks\":\"\",\"title\":{\"standoff\":15},\"zerolinecolor\":\"white\",\"automargin\":true,\"zerolinewidth\":2},\"yaxis\":{\"gridcolor\":\"white\",\"linecolor\":\"white\",\"ticks\":\"\",\"title\":{\"standoff\":15},\"zerolinecolor\":\"white\",\"automargin\":true,\"zerolinewidth\":2},\"scene\":{\"xaxis\":{\"backgroundcolor\":\"#E5ECF6\",\"gridcolor\":\"white\",\"linecolor\":\"white\",\"showbackground\":true,\"ticks\":\"\",\"zerolinecolor\":\"white\",\"gridwidth\":2},\"yaxis\":{\"backgroundcolor\":\"#E5ECF6\",\"gridcolor\":\"white\",\"linecolor\":\"white\",\"showbackground\":true,\"ticks\":\"\",\"zerolinecolor\":\"white\",\"gridwidth\":2},\"zaxis\":{\"backgroundcolor\":\"#E5ECF6\",\"gridcolor\":\"white\",\"linecolor\":\"white\",\"showbackground\":true,\"ticks\":\"\",\"zerolinecolor\":\"white\",\"gridwidth\":2}},\"shapedefaults\":{\"line\":{\"color\":\"#2a3f5f\"}},\"annotationdefaults\":{\"arrowcolor\":\"#2a3f5f\",\"arrowhead\":0,\"arrowwidth\":1},\"geo\":{\"bgcolor\":\"white\",\"landcolor\":\"#E5ECF6\",\"subunitcolor\":\"white\",\"showland\":true,\"showlakes\":true,\"lakecolor\":\"white\"},\"title\":{\"x\":0.05},\"mapbox\":{\"style\":\"light\"}}},\"xaxis\":{\"anchor\":\"y\",\"domain\":[0.0,1.0],\"title\":{\"text\":\"Date\"}},\"yaxis\":{\"anchor\":\"x\",\"domain\":[0.0,1.0],\"title\":{\"text\":\"num_countries\"}},\"legend\":{\"title\":{\"text\":\"Regulation\"},\"tracegroupgap\":0},\"margin\":{\"t\":60}},                        {\"responsive\": true}                    ).then(function(){\n                            \nvar gd = document.getElementById('8ebcb63a-5931-4b9a-a426-9889055b644f');\nvar x = new MutationObserver(function (mutations, observer) {{\n        var display = window.getComputedStyle(gd).display;\n        if (!display || display === 'none') {{\n            console.log([gd, 'removed!']);\n            Plotly.purge(gd);\n            observer.disconnect();\n        }}\n}});\n\n// Listen for the removal of the full notebook cells\nvar notebookContainer = gd.closest('#notebook-container');\nif (notebookContainer) {{\n    x.observe(notebookContainer, {childList: true});\n}}\n\n// Listen for the clearing of the current output cell\nvar outputEl = gd.closest('.output');\nif (outputEl) {{\n    x.observe(outputEl, {childList: true});\n}}\n\n                        })                };                });            </script>        </div>"
     },
     "metadata": {},
     "output_type": "display_data"
    }
   ],
   "source": [
    "import plotly.express as px\n",
    "\n",
    "fig = px.line(march_reg_df, x=\"Date\", y=\"num_countries\", color='Regulation')\n",
    "fig.show()\n"
   ],
   "metadata": {
    "collapsed": false,
    "pycharm": {
     "name": "#%%\n"
    }
   }
  },
  {
   "cell_type": "markdown",
   "source": [
    "### April Regulations\n",
    "\n",
    "Now lets take a look at the regulations present in april."
   ],
   "metadata": {
    "collapsed": false,
    "pycharm": {
     "name": "#%% md\n"
    }
   }
  },
  {
   "cell_type": "code",
   "execution_count": 111,
   "outputs": [
    {
     "name": "stderr",
     "output_type": "stream",
     "text": [
      "<ipython-input-111-510dabad68ba>:11: FutureWarning:\n",
      "\n",
      "Comparison of NaT with datetime.date is deprecated in order to match the standard library behavior.  In a future version these will be considered non-comparable.\n",
      "\n"
     ]
    },
    {
     "name": "stdout",
     "output_type": "stream",
     "text": [
      "                  Regulation        Date\n",
      "0      AdaptationOfWorkplace  2020-04-01\n",
      "1      AdaptationOfWorkplace  2020-04-02\n",
      "2      AdaptationOfWorkplace  2020-04-03\n",
      "3      AdaptationOfWorkplace  2020-04-04\n",
      "4      AdaptationOfWorkplace  2020-04-05\n",
      "...                      ...         ...\n",
      "14317            Teleworking  2020-04-27\n",
      "14318            Teleworking  2020-04-28\n",
      "14319            Teleworking  2020-04-29\n",
      "14320            Teleworking  2020-04-30\n",
      "14321            Teleworking  2020-05-01\n",
      "\n",
      "[14322 rows x 2 columns]\n"
     ]
    }
   ],
   "source": [
    "april_reg_df = pd.DataFrame(columns = [\"Regulation\", \"Date\"])\n",
    "start_date = datetime.date(2020, 4, 1)\n",
    "end_date = datetime.date(2020, 5, 1)\n",
    "delta = datetime.timedelta(days=1)\n",
    "\n",
    "# for all unique regulations so lets itearte through the rows of the dataframe\n",
    "for index, row in regulations_df.iterrows():\n",
    "    start_date = datetime.date(2020, 4, 1)\n",
    "    while start_date <= end_date:\n",
    "        # get timedelta\n",
    "        if start_date >= row[\"date_start\"] and start_date <= row[\"date_end\"]:\n",
    "            regulation = row[\"Response_measure\"]\n",
    "            # add into dataframe\n",
    "            april_reg_df = april_reg_df.append({'Regulation' : regulation, 'Date' : start_date}, ignore_index = True)\n",
    "        start_date+=delta\n",
    "\n",
    "print(april_reg_df)\n",
    "# now lets create a count column and add the occurence of how many countries had that regulation on that day\n",
    "april_reg_df = april_reg_df.pivot_table(columns=['Regulation','Date'], aggfunc='size')"
   ],
   "metadata": {
    "collapsed": false,
    "pycharm": {
     "name": "#%%\n"
    }
   }
  },
  {
   "cell_type": "code",
   "execution_count": 112,
   "outputs": [],
   "source": [
    "april_reg_df = april_reg_df.reset_index()\n",
    "april_reg_df.columns = ['Regulation', 'Date', 'num_countries']"
   ],
   "metadata": {
    "collapsed": false,
    "pycharm": {
     "name": "#%%\n"
    }
   }
  },
  {
   "cell_type": "code",
   "execution_count": 113,
   "outputs": [
    {
     "data": {
      "text/plain": "                    Regulation        Date  num_countries\n0        AdaptationOfWorkplace  2020-04-01              5\n1        AdaptationOfWorkplace  2020-04-02              6\n2        AdaptationOfWorkplace  2020-04-03              6\n3        AdaptationOfWorkplace  2020-04-04              6\n4        AdaptationOfWorkplace  2020-04-05              6\n...                        ...         ...            ...\n1814  WorkplaceClosuresPartial  2020-04-27              1\n1815  WorkplaceClosuresPartial  2020-04-28              1\n1816  WorkplaceClosuresPartial  2020-04-29              1\n1817  WorkplaceClosuresPartial  2020-04-30              1\n1818  WorkplaceClosuresPartial  2020-05-01              1\n\n[1819 rows x 3 columns]",
      "text/html": "<div>\n<style scoped>\n    .dataframe tbody tr th:only-of-type {\n        vertical-align: middle;\n    }\n\n    .dataframe tbody tr th {\n        vertical-align: top;\n    }\n\n    .dataframe thead th {\n        text-align: right;\n    }\n</style>\n<table border=\"1\" class=\"dataframe\">\n  <thead>\n    <tr style=\"text-align: right;\">\n      <th></th>\n      <th>Regulation</th>\n      <th>Date</th>\n      <th>num_countries</th>\n    </tr>\n  </thead>\n  <tbody>\n    <tr>\n      <th>0</th>\n      <td>AdaptationOfWorkplace</td>\n      <td>2020-04-01</td>\n      <td>5</td>\n    </tr>\n    <tr>\n      <th>1</th>\n      <td>AdaptationOfWorkplace</td>\n      <td>2020-04-02</td>\n      <td>6</td>\n    </tr>\n    <tr>\n      <th>2</th>\n      <td>AdaptationOfWorkplace</td>\n      <td>2020-04-03</td>\n      <td>6</td>\n    </tr>\n    <tr>\n      <th>3</th>\n      <td>AdaptationOfWorkplace</td>\n      <td>2020-04-04</td>\n      <td>6</td>\n    </tr>\n    <tr>\n      <th>4</th>\n      <td>AdaptationOfWorkplace</td>\n      <td>2020-04-05</td>\n      <td>6</td>\n    </tr>\n    <tr>\n      <th>...</th>\n      <td>...</td>\n      <td>...</td>\n      <td>...</td>\n    </tr>\n    <tr>\n      <th>1814</th>\n      <td>WorkplaceClosuresPartial</td>\n      <td>2020-04-27</td>\n      <td>1</td>\n    </tr>\n    <tr>\n      <th>1815</th>\n      <td>WorkplaceClosuresPartial</td>\n      <td>2020-04-28</td>\n      <td>1</td>\n    </tr>\n    <tr>\n      <th>1816</th>\n      <td>WorkplaceClosuresPartial</td>\n      <td>2020-04-29</td>\n      <td>1</td>\n    </tr>\n    <tr>\n      <th>1817</th>\n      <td>WorkplaceClosuresPartial</td>\n      <td>2020-04-30</td>\n      <td>1</td>\n    </tr>\n    <tr>\n      <th>1818</th>\n      <td>WorkplaceClosuresPartial</td>\n      <td>2020-05-01</td>\n      <td>1</td>\n    </tr>\n  </tbody>\n</table>\n<p>1819 rows × 3 columns</p>\n</div>"
     },
     "execution_count": 113,
     "metadata": {},
     "output_type": "execute_result"
    }
   ],
   "source": [
    "april_reg_df"
   ],
   "metadata": {
    "collapsed": false,
    "pycharm": {
     "name": "#%%\n"
    }
   }
  },
  {
   "cell_type": "code",
   "execution_count": 114,
   "outputs": [],
   "source": [
    "april_reg_df = april_reg_df[april_reg_df.Regulation != \"MasksVoluntaryAllSpacesPartial\"]\n",
    "april_reg_df = april_reg_df[april_reg_df.Regulation != \"MasksVoluntaryClosedSpacesPartial\"]\n",
    "april_reg_df = april_reg_df[april_reg_df.Regulation != \"MasksMandatoryAllSpacesPartial\"]\n",
    "april_reg_df = april_reg_df[april_reg_df.Regulation != \"MasksMandatoryClosedSpacesPartial\"]\n",
    "april_reg_df = april_reg_df[april_reg_df.Regulation != \"MasksVoluntaryAllSpaces\"]\n",
    "april_reg_df = april_reg_df[april_reg_df.Regulation != \"MasksVoluntaryClosedSpaces\"]\n",
    "april_reg_df = april_reg_df[april_reg_df.Regulation != \"MasksMandatoryAllSpaces\"]\n",
    "april_reg_df = april_reg_df[april_reg_df.Regulation != \"MasksMandatoryClosedSpaces\"]"
   ],
   "metadata": {
    "collapsed": false,
    "pycharm": {
     "name": "#%%\n"
    }
   }
  },
  {
   "cell_type": "code",
   "execution_count": 115,
   "outputs": [
    {
     "data": {
      "application/vnd.plotly.v1+json": {
       "data": [
        {
         "hovertemplate": "Regulation=AdaptationOfWorkplace<br>Date=%{x}<br>num_countries=%{y}<extra></extra>",
         "legendgroup": "AdaptationOfWorkplace",
         "line": {
          "color": "#636efa",
          "dash": "solid"
         },
         "marker": {
          "symbol": "circle"
         },
         "mode": "lines",
         "name": "AdaptationOfWorkplace",
         "showlegend": true,
         "x": [
          "2020-04-01",
          "2020-04-02",
          "2020-04-03",
          "2020-04-04",
          "2020-04-05",
          "2020-04-06",
          "2020-04-07",
          "2020-04-08",
          "2020-04-09",
          "2020-04-10",
          "2020-04-11",
          "2020-04-12",
          "2020-04-13",
          "2020-04-14",
          "2020-04-15",
          "2020-04-16",
          "2020-04-17",
          "2020-04-18",
          "2020-04-19",
          "2020-04-20",
          "2020-04-21",
          "2020-04-22",
          "2020-04-23",
          "2020-04-24",
          "2020-04-25",
          "2020-04-26",
          "2020-04-27",
          "2020-04-28",
          "2020-04-29",
          "2020-04-30",
          "2020-05-01"
         ],
         "xaxis": "x",
         "y": [
          5,
          6,
          6,
          6,
          6,
          6,
          6,
          6,
          6,
          6,
          6,
          6,
          6,
          5,
          5,
          5,
          5,
          5,
          5,
          5,
          5,
          5,
          5,
          5,
          5,
          5,
          5,
          5,
          5,
          5,
          5
         ],
         "yaxis": "y",
         "type": "scattergl"
        },
        {
         "hovertemplate": "Regulation=AdaptationOfWorkplacePartial<br>Date=%{x}<br>num_countries=%{y}<extra></extra>",
         "legendgroup": "AdaptationOfWorkplacePartial",
         "line": {
          "color": "#EF553B",
          "dash": "solid"
         },
         "marker": {
          "symbol": "circle"
         },
         "mode": "lines",
         "name": "AdaptationOfWorkplacePartial",
         "showlegend": true,
         "x": [
          "2020-04-01",
          "2020-04-02",
          "2020-04-03",
          "2020-04-04",
          "2020-04-05",
          "2020-04-06",
          "2020-04-07",
          "2020-04-08",
          "2020-04-09",
          "2020-04-10",
          "2020-04-11",
          "2020-04-12",
          "2020-04-13",
          "2020-04-14",
          "2020-04-15",
          "2020-04-16",
          "2020-04-17",
          "2020-04-18",
          "2020-04-19",
          "2020-04-20",
          "2020-04-21",
          "2020-04-22",
          "2020-04-23",
          "2020-04-24",
          "2020-04-25",
          "2020-04-26",
          "2020-04-27",
          "2020-04-28",
          "2020-04-29",
          "2020-04-30",
          "2020-05-01"
         ],
         "xaxis": "x",
         "y": [
          2,
          2,
          2,
          2,
          2,
          2,
          2,
          2,
          2,
          2,
          2,
          2,
          2,
          2,
          2,
          2,
          2,
          2,
          2,
          2,
          2,
          2,
          2,
          2,
          2,
          2,
          2,
          2,
          2,
          2,
          2
         ],
         "yaxis": "y",
         "type": "scattergl"
        },
        {
         "hovertemplate": "Regulation=BanOnAllEvents<br>Date=%{x}<br>num_countries=%{y}<extra></extra>",
         "legendgroup": "BanOnAllEvents",
         "line": {
          "color": "#00cc96",
          "dash": "solid"
         },
         "marker": {
          "symbol": "circle"
         },
         "mode": "lines",
         "name": "BanOnAllEvents",
         "showlegend": true,
         "x": [
          "2020-04-01",
          "2020-04-02",
          "2020-04-03",
          "2020-04-04",
          "2020-04-05",
          "2020-04-06",
          "2020-04-07",
          "2020-04-08",
          "2020-04-09",
          "2020-04-10",
          "2020-04-11",
          "2020-04-12",
          "2020-04-13",
          "2020-04-14",
          "2020-04-15",
          "2020-04-16",
          "2020-04-17",
          "2020-04-18",
          "2020-04-19",
          "2020-04-20",
          "2020-04-21",
          "2020-04-22",
          "2020-04-23",
          "2020-04-24",
          "2020-04-25",
          "2020-04-26",
          "2020-04-27",
          "2020-04-28",
          "2020-04-29",
          "2020-04-30",
          "2020-05-01"
         ],
         "xaxis": "x",
         "y": [
          17,
          17,
          17,
          17,
          17,
          17,
          17,
          17,
          17,
          17,
          17,
          17,
          17,
          17,
          17,
          17,
          17,
          17,
          17,
          17,
          17,
          17,
          17,
          17,
          17,
          17,
          17,
          17,
          17,
          17,
          17
         ],
         "yaxis": "y",
         "type": "scattergl"
        },
        {
         "hovertemplate": "Regulation=BanOnAllEventsPartial<br>Date=%{x}<br>num_countries=%{y}<extra></extra>",
         "legendgroup": "BanOnAllEventsPartial",
         "line": {
          "color": "#ab63fa",
          "dash": "solid"
         },
         "marker": {
          "symbol": "circle"
         },
         "mode": "lines",
         "name": "BanOnAllEventsPartial",
         "showlegend": true,
         "x": [
          "2020-04-01",
          "2020-04-02",
          "2020-04-03",
          "2020-04-04",
          "2020-04-05",
          "2020-04-06",
          "2020-04-07",
          "2020-04-08",
          "2020-04-09",
          "2020-04-10",
          "2020-04-11",
          "2020-04-12",
          "2020-04-13",
          "2020-04-14",
          "2020-04-15",
          "2020-04-16",
          "2020-04-17",
          "2020-04-18",
          "2020-04-19",
          "2020-04-20",
          "2020-04-21",
          "2020-04-22",
          "2020-04-23",
          "2020-04-24",
          "2020-04-25",
          "2020-04-26",
          "2020-04-27",
          "2020-04-28",
          "2020-04-29",
          "2020-04-30",
          "2020-05-01"
         ],
         "xaxis": "x",
         "y": [
          1,
          1,
          1,
          1,
          1,
          1,
          1,
          1,
          1,
          1,
          1,
          1,
          1,
          1,
          1,
          1,
          1,
          1,
          1,
          1,
          1,
          1,
          1,
          1,
          1,
          1,
          1,
          1,
          1,
          1,
          1
         ],
         "yaxis": "y",
         "type": "scattergl"
        },
        {
         "hovertemplate": "Regulation=ClosDaycare<br>Date=%{x}<br>num_countries=%{y}<extra></extra>",
         "legendgroup": "ClosDaycare",
         "line": {
          "color": "#FFA15A",
          "dash": "solid"
         },
         "marker": {
          "symbol": "circle"
         },
         "mode": "lines",
         "name": "ClosDaycare",
         "showlegend": true,
         "x": [
          "2020-04-01",
          "2020-04-02",
          "2020-04-03",
          "2020-04-04",
          "2020-04-05",
          "2020-04-06",
          "2020-04-07",
          "2020-04-08",
          "2020-04-09",
          "2020-04-10",
          "2020-04-11",
          "2020-04-12",
          "2020-04-13",
          "2020-04-14",
          "2020-04-15",
          "2020-04-16",
          "2020-04-17",
          "2020-04-18",
          "2020-04-19",
          "2020-04-20",
          "2020-04-21",
          "2020-04-22",
          "2020-04-23",
          "2020-04-24",
          "2020-04-25",
          "2020-04-26",
          "2020-04-27",
          "2020-04-28",
          "2020-04-29",
          "2020-04-30",
          "2020-05-01"
         ],
         "xaxis": "x",
         "y": [
          24,
          24,
          24,
          24,
          24,
          24,
          24,
          24,
          24,
          24,
          24,
          24,
          24,
          24,
          24,
          23,
          23,
          23,
          23,
          23,
          22,
          22,
          22,
          22,
          22,
          22,
          21,
          21,
          21,
          21,
          21
         ],
         "yaxis": "y",
         "type": "scattergl"
        },
        {
         "hovertemplate": "Regulation=ClosDaycarePartial<br>Date=%{x}<br>num_countries=%{y}<extra></extra>",
         "legendgroup": "ClosDaycarePartial",
         "line": {
          "color": "#19d3f3",
          "dash": "solid"
         },
         "marker": {
          "symbol": "circle"
         },
         "mode": "lines",
         "name": "ClosDaycarePartial",
         "showlegend": true,
         "x": [
          "2020-04-27",
          "2020-04-28",
          "2020-04-29",
          "2020-04-30",
          "2020-05-01"
         ],
         "xaxis": "x",
         "y": [
          1,
          1,
          1,
          1,
          1
         ],
         "yaxis": "y",
         "type": "scattergl"
        },
        {
         "hovertemplate": "Regulation=ClosHigh<br>Date=%{x}<br>num_countries=%{y}<extra></extra>",
         "legendgroup": "ClosHigh",
         "line": {
          "color": "#FF6692",
          "dash": "solid"
         },
         "marker": {
          "symbol": "circle"
         },
         "mode": "lines",
         "name": "ClosHigh",
         "showlegend": true,
         "x": [
          "2020-04-01",
          "2020-04-02",
          "2020-04-03",
          "2020-04-04",
          "2020-04-05",
          "2020-04-06",
          "2020-04-07",
          "2020-04-08",
          "2020-04-09",
          "2020-04-10",
          "2020-04-11",
          "2020-04-12",
          "2020-04-13",
          "2020-04-14",
          "2020-04-15",
          "2020-04-16",
          "2020-04-17",
          "2020-04-18",
          "2020-04-19",
          "2020-04-20",
          "2020-04-21",
          "2020-04-22",
          "2020-04-23",
          "2020-04-24",
          "2020-04-25",
          "2020-04-26",
          "2020-04-27",
          "2020-04-28",
          "2020-04-29",
          "2020-04-30",
          "2020-05-01"
         ],
         "xaxis": "x",
         "y": [
          28,
          28,
          28,
          28,
          28,
          28,
          28,
          28,
          28,
          28,
          28,
          28,
          28,
          28,
          28,
          28,
          28,
          28,
          28,
          28,
          28,
          28,
          28,
          28,
          28,
          28,
          28,
          28,
          28,
          28,
          28
         ],
         "yaxis": "y",
         "type": "scattergl"
        },
        {
         "hovertemplate": "Regulation=ClosHighPartial<br>Date=%{x}<br>num_countries=%{y}<extra></extra>",
         "legendgroup": "ClosHighPartial",
         "line": {
          "color": "#B6E880",
          "dash": "solid"
         },
         "marker": {
          "symbol": "circle"
         },
         "mode": "lines",
         "name": "ClosHighPartial",
         "showlegend": true,
         "x": [
          "2020-04-01",
          "2020-04-02",
          "2020-04-03",
          "2020-04-04",
          "2020-04-05",
          "2020-04-06",
          "2020-04-07",
          "2020-04-08",
          "2020-04-09",
          "2020-04-10",
          "2020-04-11",
          "2020-04-12",
          "2020-04-13",
          "2020-04-14",
          "2020-04-15",
          "2020-04-16",
          "2020-04-17",
          "2020-04-18",
          "2020-04-19",
          "2020-04-20",
          "2020-04-21",
          "2020-04-22",
          "2020-04-23",
          "2020-04-24",
          "2020-04-25",
          "2020-04-26",
          "2020-04-27",
          "2020-04-28",
          "2020-04-29",
          "2020-04-30",
          "2020-05-01"
         ],
         "xaxis": "x",
         "y": [
          1,
          1,
          1,
          1,
          1,
          1,
          1,
          1,
          1,
          1,
          1,
          1,
          1,
          1,
          1,
          1,
          1,
          1,
          1,
          1,
          1,
          1,
          1,
          1,
          1,
          1,
          1,
          1,
          1,
          1,
          1
         ],
         "yaxis": "y",
         "type": "scattergl"
        },
        {
         "hovertemplate": "Regulation=ClosPrim<br>Date=%{x}<br>num_countries=%{y}<extra></extra>",
         "legendgroup": "ClosPrim",
         "line": {
          "color": "#FF97FF",
          "dash": "solid"
         },
         "marker": {
          "symbol": "circle"
         },
         "mode": "lines",
         "name": "ClosPrim",
         "showlegend": true,
         "x": [
          "2020-04-01",
          "2020-04-02",
          "2020-04-03",
          "2020-04-04",
          "2020-04-05",
          "2020-04-06",
          "2020-04-07",
          "2020-04-08",
          "2020-04-09",
          "2020-04-10",
          "2020-04-11",
          "2020-04-12",
          "2020-04-13",
          "2020-04-14",
          "2020-04-15",
          "2020-04-16",
          "2020-04-17",
          "2020-04-18",
          "2020-04-19",
          "2020-04-20",
          "2020-04-21",
          "2020-04-22",
          "2020-04-23",
          "2020-04-24",
          "2020-04-25",
          "2020-04-26",
          "2020-04-27",
          "2020-04-28",
          "2020-04-29",
          "2020-04-30",
          "2020-05-01"
         ],
         "xaxis": "x",
         "y": [
          25,
          25,
          25,
          25,
          25,
          25,
          25,
          25,
          25,
          25,
          25,
          25,
          25,
          25,
          25,
          24,
          24,
          24,
          24,
          24,
          24,
          24,
          24,
          24,
          24,
          24,
          23,
          23,
          23,
          23,
          23
         ],
         "yaxis": "y",
         "type": "scattergl"
        },
        {
         "hovertemplate": "Regulation=ClosPrimPartial<br>Date=%{x}<br>num_countries=%{y}<extra></extra>",
         "legendgroup": "ClosPrimPartial",
         "line": {
          "color": "#FECB52",
          "dash": "solid"
         },
         "marker": {
          "symbol": "circle"
         },
         "mode": "lines",
         "name": "ClosPrimPartial",
         "showlegend": true,
         "x": [
          "2020-04-01",
          "2020-04-02",
          "2020-04-03",
          "2020-04-04",
          "2020-04-05",
          "2020-04-06",
          "2020-04-07",
          "2020-04-08",
          "2020-04-09",
          "2020-04-10",
          "2020-04-11",
          "2020-04-12",
          "2020-04-13",
          "2020-04-14",
          "2020-04-15",
          "2020-04-16",
          "2020-04-17",
          "2020-04-18",
          "2020-04-19",
          "2020-04-20",
          "2020-04-21",
          "2020-04-22",
          "2020-04-23",
          "2020-04-24",
          "2020-04-25",
          "2020-04-26",
          "2020-04-27",
          "2020-04-28",
          "2020-04-29",
          "2020-04-30",
          "2020-05-01"
         ],
         "xaxis": "x",
         "y": [
          2,
          2,
          2,
          2,
          2,
          2,
          2,
          2,
          2,
          2,
          2,
          2,
          2,
          2,
          2,
          2,
          2,
          2,
          2,
          2,
          2,
          2,
          2,
          2,
          2,
          2,
          2,
          2,
          2,
          2,
          2
         ],
         "yaxis": "y",
         "type": "scattergl"
        },
        {
         "hovertemplate": "Regulation=ClosPubAny<br>Date=%{x}<br>num_countries=%{y}<extra></extra>",
         "legendgroup": "ClosPubAny",
         "line": {
          "color": "#636efa",
          "dash": "solid"
         },
         "marker": {
          "symbol": "circle"
         },
         "mode": "lines",
         "name": "ClosPubAny",
         "showlegend": true,
         "x": [
          "2020-04-01",
          "2020-04-02",
          "2020-04-03",
          "2020-04-04",
          "2020-04-05",
          "2020-04-06",
          "2020-04-07",
          "2020-04-08",
          "2020-04-09",
          "2020-04-10",
          "2020-04-11",
          "2020-04-12",
          "2020-04-13",
          "2020-04-14",
          "2020-04-15",
          "2020-04-16",
          "2020-04-17",
          "2020-04-18",
          "2020-04-19",
          "2020-04-20",
          "2020-04-21",
          "2020-04-22",
          "2020-04-23",
          "2020-04-24",
          "2020-04-25",
          "2020-04-26",
          "2020-04-27",
          "2020-04-28",
          "2020-04-29",
          "2020-04-30",
          "2020-05-01"
         ],
         "xaxis": "x",
         "y": [
          15,
          15,
          14,
          14,
          14,
          14,
          14,
          14,
          14,
          14,
          14,
          14,
          14,
          13,
          13,
          13,
          13,
          13,
          13,
          13,
          13,
          13,
          13,
          12,
          12,
          12,
          12,
          12,
          11,
          11,
          11
         ],
         "yaxis": "y",
         "type": "scattergl"
        },
        {
         "hovertemplate": "Regulation=ClosPubAnyPartial<br>Date=%{x}<br>num_countries=%{y}<extra></extra>",
         "legendgroup": "ClosPubAnyPartial",
         "line": {
          "color": "#EF553B",
          "dash": "solid"
         },
         "marker": {
          "symbol": "circle"
         },
         "mode": "lines",
         "name": "ClosPubAnyPartial",
         "showlegend": true,
         "x": [
          "2020-04-01",
          "2020-04-02",
          "2020-04-03",
          "2020-04-04",
          "2020-04-05",
          "2020-04-06",
          "2020-04-07",
          "2020-04-08",
          "2020-04-09",
          "2020-04-10",
          "2020-04-11",
          "2020-04-12",
          "2020-04-13",
          "2020-04-14",
          "2020-04-15",
          "2020-04-16",
          "2020-04-17",
          "2020-04-18",
          "2020-04-19",
          "2020-04-20",
          "2020-04-21",
          "2020-04-22",
          "2020-04-23",
          "2020-04-24",
          "2020-04-25",
          "2020-04-26",
          "2020-04-27",
          "2020-04-28",
          "2020-04-29",
          "2020-04-30",
          "2020-05-01"
         ],
         "xaxis": "x",
         "y": [
          14,
          14,
          15,
          15,
          15,
          15,
          15,
          15,
          15,
          15,
          15,
          15,
          15,
          16,
          16,
          16,
          16,
          16,
          16,
          16,
          16,
          16,
          16,
          17,
          17,
          17,
          17,
          17,
          18,
          18,
          18
         ],
         "yaxis": "y",
         "type": "scattergl"
        },
        {
         "hovertemplate": "Regulation=ClosSec<br>Date=%{x}<br>num_countries=%{y}<extra></extra>",
         "legendgroup": "ClosSec",
         "line": {
          "color": "#00cc96",
          "dash": "solid"
         },
         "marker": {
          "symbol": "circle"
         },
         "mode": "lines",
         "name": "ClosSec",
         "showlegend": true,
         "x": [
          "2020-04-01",
          "2020-04-02",
          "2020-04-03",
          "2020-04-04",
          "2020-04-05",
          "2020-04-06",
          "2020-04-07",
          "2020-04-08",
          "2020-04-09",
          "2020-04-10",
          "2020-04-11",
          "2020-04-12",
          "2020-04-13",
          "2020-04-14",
          "2020-04-15",
          "2020-04-16",
          "2020-04-17",
          "2020-04-18",
          "2020-04-19",
          "2020-04-20",
          "2020-04-21",
          "2020-04-22",
          "2020-04-23",
          "2020-04-24",
          "2020-04-25",
          "2020-04-26",
          "2020-04-27",
          "2020-04-28",
          "2020-04-29",
          "2020-04-30",
          "2020-05-01"
         ],
         "xaxis": "x",
         "y": [
          26,
          26,
          26,
          26,
          26,
          26,
          26,
          26,
          26,
          26,
          26,
          26,
          26,
          26,
          26,
          26,
          26,
          26,
          26,
          26,
          26,
          26,
          26,
          26,
          26,
          26,
          26,
          26,
          26,
          26,
          26
         ],
         "yaxis": "y",
         "type": "scattergl"
        },
        {
         "hovertemplate": "Regulation=ClosSecPartial<br>Date=%{x}<br>num_countries=%{y}<extra></extra>",
         "legendgroup": "ClosSecPartial",
         "line": {
          "color": "#ab63fa",
          "dash": "solid"
         },
         "marker": {
          "symbol": "circle"
         },
         "mode": "lines",
         "name": "ClosSecPartial",
         "showlegend": true,
         "x": [
          "2020-04-01",
          "2020-04-02",
          "2020-04-03",
          "2020-04-04",
          "2020-04-05",
          "2020-04-06",
          "2020-04-07",
          "2020-04-08",
          "2020-04-09",
          "2020-04-10",
          "2020-04-11",
          "2020-04-12",
          "2020-04-13",
          "2020-04-14",
          "2020-04-15",
          "2020-04-16",
          "2020-04-17",
          "2020-04-18",
          "2020-04-19",
          "2020-04-20",
          "2020-04-21",
          "2020-04-22",
          "2020-04-23",
          "2020-04-24",
          "2020-04-25",
          "2020-04-26",
          "2020-04-27",
          "2020-04-28",
          "2020-04-29",
          "2020-04-30",
          "2020-05-01"
         ],
         "xaxis": "x",
         "y": [
          3,
          3,
          3,
          3,
          3,
          3,
          3,
          3,
          3,
          3,
          3,
          3,
          3,
          3,
          3,
          3,
          3,
          3,
          3,
          3,
          3,
          3,
          3,
          3,
          3,
          3,
          3,
          3,
          3,
          3,
          3
         ],
         "yaxis": "y",
         "type": "scattergl"
        },
        {
         "hovertemplate": "Regulation=ClosureOfPublicTransport<br>Date=%{x}<br>num_countries=%{y}<extra></extra>",
         "legendgroup": "ClosureOfPublicTransport",
         "line": {
          "color": "#FFA15A",
          "dash": "solid"
         },
         "marker": {
          "symbol": "circle"
         },
         "mode": "lines",
         "name": "ClosureOfPublicTransport",
         "showlegend": true,
         "x": [
          "2020-04-01",
          "2020-04-02",
          "2020-04-03",
          "2020-04-04",
          "2020-04-05",
          "2020-04-06",
          "2020-04-07",
          "2020-04-08",
          "2020-04-09",
          "2020-04-10",
          "2020-04-11",
          "2020-04-12",
          "2020-04-13",
          "2020-04-14",
          "2020-04-15",
          "2020-04-16",
          "2020-04-17",
          "2020-04-18",
          "2020-04-19",
          "2020-04-20",
          "2020-04-21",
          "2020-04-22",
          "2020-04-23",
          "2020-04-24",
          "2020-04-25",
          "2020-04-26",
          "2020-04-27",
          "2020-04-28",
          "2020-04-29",
          "2020-04-30"
         ],
         "xaxis": "x",
         "y": [
          2,
          2,
          2,
          2,
          2,
          2,
          2,
          2,
          2,
          2,
          2,
          2,
          2,
          2,
          2,
          2,
          2,
          2,
          2,
          2,
          2,
          2,
          2,
          2,
          2,
          2,
          2,
          1,
          1,
          1
         ],
         "yaxis": "y",
         "type": "scattergl"
        },
        {
         "hovertemplate": "Regulation=ClosureOfPublicTransportPartial<br>Date=%{x}<br>num_countries=%{y}<extra></extra>",
         "legendgroup": "ClosureOfPublicTransportPartial",
         "line": {
          "color": "#19d3f3",
          "dash": "solid"
         },
         "marker": {
          "symbol": "circle"
         },
         "mode": "lines",
         "name": "ClosureOfPublicTransportPartial",
         "showlegend": true,
         "x": [
          "2020-04-01",
          "2020-04-02",
          "2020-04-03",
          "2020-04-04",
          "2020-04-05",
          "2020-04-06",
          "2020-04-07",
          "2020-04-08",
          "2020-04-09",
          "2020-04-10",
          "2020-04-11",
          "2020-04-12",
          "2020-04-13",
          "2020-04-14",
          "2020-04-15",
          "2020-04-16",
          "2020-04-17",
          "2020-04-18",
          "2020-04-19",
          "2020-04-20",
          "2020-04-21",
          "2020-04-22",
          "2020-04-23",
          "2020-04-24",
          "2020-04-25",
          "2020-04-26",
          "2020-04-27",
          "2020-04-28",
          "2020-04-29",
          "2020-04-30",
          "2020-05-01"
         ],
         "xaxis": "x",
         "y": [
          6,
          6,
          6,
          6,
          6,
          6,
          6,
          6,
          6,
          6,
          6,
          6,
          6,
          6,
          6,
          6,
          6,
          6,
          6,
          6,
          6,
          6,
          6,
          6,
          6,
          6,
          6,
          6,
          6,
          6,
          6
         ],
         "yaxis": "y",
         "type": "scattergl"
        },
        {
         "hovertemplate": "Regulation=EntertainmentVenues<br>Date=%{x}<br>num_countries=%{y}<extra></extra>",
         "legendgroup": "EntertainmentVenues",
         "line": {
          "color": "#FF6692",
          "dash": "solid"
         },
         "marker": {
          "symbol": "circle"
         },
         "mode": "lines",
         "name": "EntertainmentVenues",
         "showlegend": true,
         "x": [
          "2020-04-01",
          "2020-04-02",
          "2020-04-03",
          "2020-04-04",
          "2020-04-05",
          "2020-04-06",
          "2020-04-07",
          "2020-04-08",
          "2020-04-09",
          "2020-04-10",
          "2020-04-11",
          "2020-04-12",
          "2020-04-13",
          "2020-04-14",
          "2020-04-15",
          "2020-04-16",
          "2020-04-17",
          "2020-04-18",
          "2020-04-19",
          "2020-04-20",
          "2020-04-21",
          "2020-04-22",
          "2020-04-23",
          "2020-04-24",
          "2020-04-25",
          "2020-04-26",
          "2020-04-27",
          "2020-04-28",
          "2020-04-29",
          "2020-04-30",
          "2020-05-01"
         ],
         "xaxis": "x",
         "y": [
          28,
          28,
          28,
          28,
          28,
          28,
          28,
          28,
          28,
          28,
          28,
          28,
          28,
          28,
          28,
          28,
          28,
          28,
          28,
          28,
          28,
          28,
          28,
          28,
          28,
          28,
          27,
          27,
          26,
          26,
          25
         ],
         "yaxis": "y",
         "type": "scattergl"
        },
        {
         "hovertemplate": "Regulation=EntertainmentVenuesPartial<br>Date=%{x}<br>num_countries=%{y}<extra></extra>",
         "legendgroup": "EntertainmentVenuesPartial",
         "line": {
          "color": "#B6E880",
          "dash": "solid"
         },
         "marker": {
          "symbol": "circle"
         },
         "mode": "lines",
         "name": "EntertainmentVenuesPartial",
         "showlegend": true,
         "x": [
          "2020-04-01",
          "2020-04-02",
          "2020-04-03",
          "2020-04-04",
          "2020-04-05",
          "2020-04-06",
          "2020-04-07",
          "2020-04-08",
          "2020-04-09",
          "2020-04-10",
          "2020-04-11",
          "2020-04-12",
          "2020-04-13",
          "2020-04-14",
          "2020-04-15",
          "2020-04-16",
          "2020-04-17",
          "2020-04-18",
          "2020-04-19",
          "2020-04-20",
          "2020-04-21",
          "2020-04-22",
          "2020-04-23",
          "2020-04-24",
          "2020-04-25",
          "2020-04-26",
          "2020-04-27",
          "2020-04-28",
          "2020-04-29",
          "2020-04-30",
          "2020-05-01"
         ],
         "xaxis": "x",
         "y": [
          1,
          1,
          1,
          1,
          1,
          1,
          1,
          1,
          1,
          1,
          1,
          1,
          1,
          1,
          1,
          1,
          1,
          1,
          1,
          1,
          1,
          1,
          1,
          1,
          1,
          1,
          2,
          2,
          3,
          3,
          3
         ],
         "yaxis": "y",
         "type": "scattergl"
        },
        {
         "hovertemplate": "Regulation=GymsSportsCentres<br>Date=%{x}<br>num_countries=%{y}<extra></extra>",
         "legendgroup": "GymsSportsCentres",
         "line": {
          "color": "#FF97FF",
          "dash": "solid"
         },
         "marker": {
          "symbol": "circle"
         },
         "mode": "lines",
         "name": "GymsSportsCentres",
         "showlegend": true,
         "x": [
          "2020-04-01",
          "2020-04-02",
          "2020-04-03",
          "2020-04-04",
          "2020-04-05",
          "2020-04-06",
          "2020-04-07",
          "2020-04-08",
          "2020-04-09",
          "2020-04-10",
          "2020-04-11",
          "2020-04-12",
          "2020-04-13",
          "2020-04-14",
          "2020-04-15",
          "2020-04-16",
          "2020-04-17",
          "2020-04-18",
          "2020-04-19",
          "2020-04-20",
          "2020-04-21",
          "2020-04-22",
          "2020-04-23",
          "2020-04-24",
          "2020-04-25",
          "2020-04-26",
          "2020-04-27",
          "2020-04-28",
          "2020-04-29",
          "2020-04-30",
          "2020-05-01"
         ],
         "xaxis": "x",
         "y": [
          23,
          23,
          23,
          23,
          23,
          23,
          23,
          23,
          23,
          23,
          23,
          23,
          23,
          23,
          23,
          23,
          23,
          23,
          23,
          23,
          23,
          23,
          23,
          22,
          22,
          22,
          21,
          21,
          20,
          20,
          20
         ],
         "yaxis": "y",
         "type": "scattergl"
        },
        {
         "hovertemplate": "Regulation=GymsSportsCentresPartial<br>Date=%{x}<br>num_countries=%{y}<extra></extra>",
         "legendgroup": "GymsSportsCentresPartial",
         "line": {
          "color": "#FECB52",
          "dash": "solid"
         },
         "marker": {
          "symbol": "circle"
         },
         "mode": "lines",
         "name": "GymsSportsCentresPartial",
         "showlegend": true,
         "x": [
          "2020-04-01",
          "2020-04-02",
          "2020-04-03",
          "2020-04-04",
          "2020-04-05",
          "2020-04-06",
          "2020-04-07",
          "2020-04-08",
          "2020-04-09",
          "2020-04-10",
          "2020-04-11",
          "2020-04-12",
          "2020-04-13",
          "2020-04-14",
          "2020-04-15",
          "2020-04-16",
          "2020-04-17",
          "2020-04-18",
          "2020-04-19",
          "2020-04-20",
          "2020-04-21",
          "2020-04-22",
          "2020-04-23",
          "2020-04-24",
          "2020-04-25",
          "2020-04-26",
          "2020-04-27",
          "2020-04-28",
          "2020-04-29",
          "2020-04-30",
          "2020-05-01"
         ],
         "xaxis": "x",
         "y": [
          3,
          3,
          3,
          3,
          3,
          3,
          3,
          3,
          3,
          3,
          3,
          3,
          3,
          3,
          3,
          3,
          3,
          3,
          3,
          3,
          3,
          3,
          3,
          4,
          4,
          4,
          5,
          5,
          6,
          6,
          6
         ],
         "yaxis": "y",
         "type": "scattergl"
        },
        {
         "hovertemplate": "Regulation=HotelsOtherAccommodation<br>Date=%{x}<br>num_countries=%{y}<extra></extra>",
         "legendgroup": "HotelsOtherAccommodation",
         "line": {
          "color": "#636efa",
          "dash": "solid"
         },
         "marker": {
          "symbol": "circle"
         },
         "mode": "lines",
         "name": "HotelsOtherAccommodation",
         "showlegend": true,
         "x": [
          "2020-04-01",
          "2020-04-02",
          "2020-04-03",
          "2020-04-04",
          "2020-04-05",
          "2020-04-06",
          "2020-04-07",
          "2020-04-08",
          "2020-04-09",
          "2020-04-10",
          "2020-04-11",
          "2020-04-12",
          "2020-04-13",
          "2020-04-14",
          "2020-04-15",
          "2020-04-16",
          "2020-04-17",
          "2020-04-18",
          "2020-04-19",
          "2020-04-20",
          "2020-04-21",
          "2020-04-22",
          "2020-04-23",
          "2020-04-24",
          "2020-04-25",
          "2020-04-26",
          "2020-04-27",
          "2020-04-28",
          "2020-04-29",
          "2020-04-30",
          "2020-05-01"
         ],
         "xaxis": "x",
         "y": [
          8,
          8,
          8,
          8,
          8,
          8,
          8,
          8,
          8,
          8,
          8,
          8,
          8,
          8,
          8,
          8,
          8,
          8,
          8,
          8,
          8,
          8,
          8,
          8,
          8,
          8,
          8,
          8,
          8,
          8,
          8
         ],
         "yaxis": "y",
         "type": "scattergl"
        },
        {
         "hovertemplate": "Regulation=HotelsOtherAccommodationPartial<br>Date=%{x}<br>num_countries=%{y}<extra></extra>",
         "legendgroup": "HotelsOtherAccommodationPartial",
         "line": {
          "color": "#EF553B",
          "dash": "solid"
         },
         "marker": {
          "symbol": "circle"
         },
         "mode": "lines",
         "name": "HotelsOtherAccommodationPartial",
         "showlegend": true,
         "x": [
          "2020-04-01",
          "2020-04-02",
          "2020-04-03",
          "2020-04-04",
          "2020-04-05",
          "2020-04-06",
          "2020-04-07",
          "2020-04-08",
          "2020-04-09",
          "2020-04-10",
          "2020-04-11",
          "2020-04-12",
          "2020-04-13",
          "2020-04-14",
          "2020-04-15",
          "2020-04-16",
          "2020-04-17",
          "2020-04-18",
          "2020-04-19",
          "2020-04-20",
          "2020-04-21",
          "2020-04-22",
          "2020-04-23",
          "2020-04-24",
          "2020-04-25",
          "2020-04-26",
          "2020-04-27",
          "2020-04-28",
          "2020-04-29",
          "2020-04-30",
          "2020-05-01"
         ],
         "xaxis": "x",
         "y": [
          1,
          1,
          1,
          1,
          1,
          1,
          1,
          1,
          1,
          1,
          1,
          1,
          1,
          1,
          1,
          1,
          1,
          1,
          1,
          1,
          1,
          1,
          1,
          1,
          1,
          1,
          1,
          1,
          1,
          1,
          1
         ],
         "yaxis": "y",
         "type": "scattergl"
        },
        {
         "hovertemplate": "Regulation=IndoorOver100<br>Date=%{x}<br>num_countries=%{y}<extra></extra>",
         "legendgroup": "IndoorOver100",
         "line": {
          "color": "#00cc96",
          "dash": "solid"
         },
         "marker": {
          "symbol": "circle"
         },
         "mode": "lines",
         "name": "IndoorOver100",
         "showlegend": true,
         "x": [
          "2020-04-01",
          "2020-04-02",
          "2020-04-03",
          "2020-04-04",
          "2020-04-05",
          "2020-04-06",
          "2020-04-07",
          "2020-04-08",
          "2020-04-09",
          "2020-04-10",
          "2020-04-11",
          "2020-04-12",
          "2020-04-13",
          "2020-04-14",
          "2020-04-15",
          "2020-04-16",
          "2020-04-17",
          "2020-04-18",
          "2020-04-19",
          "2020-04-20",
          "2020-04-21",
          "2020-04-22",
          "2020-04-23",
          "2020-04-24",
          "2020-04-25",
          "2020-04-26",
          "2020-04-27",
          "2020-04-28",
          "2020-04-29",
          "2020-04-30",
          "2020-05-01"
         ],
         "xaxis": "x",
         "y": [
          2,
          2,
          2,
          2,
          2,
          2,
          2,
          2,
          2,
          2,
          2,
          2,
          2,
          2,
          2,
          2,
          2,
          2,
          2,
          2,
          2,
          2,
          2,
          2,
          2,
          2,
          2,
          2,
          2,
          2,
          2
         ],
         "yaxis": "y",
         "type": "scattergl"
        },
        {
         "hovertemplate": "Regulation=IndoorOver1000<br>Date=%{x}<br>num_countries=%{y}<extra></extra>",
         "legendgroup": "IndoorOver1000",
         "line": {
          "color": "#ab63fa",
          "dash": "solid"
         },
         "marker": {
          "symbol": "circle"
         },
         "mode": "lines",
         "name": "IndoorOver1000",
         "showlegend": true,
         "x": [
          "2020-04-01",
          "2020-04-02",
          "2020-04-03",
          "2020-04-04",
          "2020-04-05",
          "2020-04-06",
          "2020-04-07",
          "2020-04-08",
          "2020-04-09",
          "2020-04-10",
          "2020-04-11",
          "2020-04-12",
          "2020-04-13",
          "2020-04-14",
          "2020-04-15",
          "2020-04-16",
          "2020-04-17",
          "2020-04-18",
          "2020-04-19",
          "2020-04-20",
          "2020-04-21",
          "2020-04-22",
          "2020-04-23",
          "2020-04-24",
          "2020-04-25",
          "2020-04-26",
          "2020-04-27",
          "2020-04-28",
          "2020-04-29",
          "2020-04-30",
          "2020-05-01"
         ],
         "xaxis": "x",
         "y": [
          1,
          1,
          1,
          1,
          1,
          1,
          1,
          1,
          1,
          1,
          1,
          1,
          1,
          1,
          1,
          1,
          1,
          1,
          1,
          1,
          1,
          1,
          1,
          1,
          1,
          1,
          1,
          1,
          1,
          1,
          1
         ],
         "yaxis": "y",
         "type": "scattergl"
        },
        {
         "hovertemplate": "Regulation=IndoorOver50<br>Date=%{x}<br>num_countries=%{y}<extra></extra>",
         "legendgroup": "IndoorOver50",
         "line": {
          "color": "#FFA15A",
          "dash": "solid"
         },
         "marker": {
          "symbol": "circle"
         },
         "mode": "lines",
         "name": "IndoorOver50",
         "showlegend": true,
         "x": [
          "2020-04-01",
          "2020-04-02",
          "2020-04-03",
          "2020-04-04",
          "2020-04-05",
          "2020-04-06",
          "2020-04-07",
          "2020-04-08",
          "2020-04-09",
          "2020-04-10",
          "2020-04-11",
          "2020-04-12",
          "2020-04-13",
          "2020-04-14",
          "2020-04-15",
          "2020-04-16",
          "2020-04-17",
          "2020-04-18",
          "2020-04-19",
          "2020-04-20",
          "2020-04-21",
          "2020-04-22",
          "2020-04-23",
          "2020-04-24",
          "2020-04-25",
          "2020-04-26",
          "2020-04-27",
          "2020-04-28",
          "2020-04-29",
          "2020-04-30",
          "2020-05-01"
         ],
         "xaxis": "x",
         "y": [
          2,
          2,
          2,
          2,
          2,
          2,
          2,
          2,
          2,
          2,
          2,
          2,
          2,
          2,
          2,
          2,
          2,
          2,
          2,
          2,
          2,
          2,
          2,
          2,
          2,
          2,
          2,
          2,
          2,
          2,
          2
         ],
         "yaxis": "y",
         "type": "scattergl"
        },
        {
         "hovertemplate": "Regulation=IndoorOver500<br>Date=%{x}<br>num_countries=%{y}<extra></extra>",
         "legendgroup": "IndoorOver500",
         "line": {
          "color": "#19d3f3",
          "dash": "solid"
         },
         "marker": {
          "symbol": "circle"
         },
         "mode": "lines",
         "name": "IndoorOver500",
         "showlegend": true,
         "x": [
          "2020-04-01",
          "2020-04-02",
          "2020-04-03",
          "2020-04-04",
          "2020-04-05",
          "2020-04-06",
          "2020-04-07",
          "2020-04-08",
          "2020-04-09",
          "2020-04-10",
          "2020-04-11",
          "2020-04-12",
          "2020-04-13",
          "2020-04-14",
          "2020-04-15",
          "2020-04-16",
          "2020-04-17",
          "2020-04-18",
          "2020-04-19",
          "2020-04-20",
          "2020-04-21",
          "2020-04-22",
          "2020-04-23",
          "2020-04-24",
          "2020-04-25",
          "2020-04-26",
          "2020-04-27",
          "2020-04-28",
          "2020-04-29",
          "2020-04-30",
          "2020-05-01"
         ],
         "xaxis": "x",
         "y": [
          1,
          1,
          1,
          1,
          1,
          1,
          1,
          1,
          1,
          1,
          1,
          1,
          1,
          1,
          1,
          1,
          1,
          1,
          1,
          1,
          1,
          1,
          1,
          1,
          1,
          1,
          1,
          1,
          1,
          1,
          1
         ],
         "yaxis": "y",
         "type": "scattergl"
        },
        {
         "hovertemplate": "Regulation=MassGather50<br>Date=%{x}<br>num_countries=%{y}<extra></extra>",
         "legendgroup": "MassGather50",
         "line": {
          "color": "#FF6692",
          "dash": "solid"
         },
         "marker": {
          "symbol": "circle"
         },
         "mode": "lines",
         "name": "MassGather50",
         "showlegend": true,
         "x": [
          "2020-04-01",
          "2020-04-02",
          "2020-04-03",
          "2020-04-04",
          "2020-04-05",
          "2020-04-06",
          "2020-04-07",
          "2020-04-08",
          "2020-04-09",
          "2020-04-10",
          "2020-04-11",
          "2020-04-12",
          "2020-04-13",
          "2020-04-14",
          "2020-04-15",
          "2020-04-16",
          "2020-04-17",
          "2020-04-18",
          "2020-04-19",
          "2020-04-20",
          "2020-04-21",
          "2020-04-22",
          "2020-04-23",
          "2020-04-24",
          "2020-04-25",
          "2020-04-26",
          "2020-04-27",
          "2020-04-28",
          "2020-04-29",
          "2020-04-30",
          "2020-05-01"
         ],
         "xaxis": "x",
         "y": [
          20,
          20,
          20,
          20,
          20,
          20,
          20,
          20,
          20,
          20,
          20,
          20,
          20,
          20,
          20,
          20,
          20,
          20,
          20,
          20,
          20,
          20,
          20,
          20,
          20,
          20,
          20,
          20,
          20,
          20,
          20
         ],
         "yaxis": "y",
         "type": "scattergl"
        },
        {
         "hovertemplate": "Regulation=MassGather50Partial<br>Date=%{x}<br>num_countries=%{y}<extra></extra>",
         "legendgroup": "MassGather50Partial",
         "line": {
          "color": "#B6E880",
          "dash": "solid"
         },
         "marker": {
          "symbol": "circle"
         },
         "mode": "lines",
         "name": "MassGather50Partial",
         "showlegend": true,
         "x": [
          "2020-04-01",
          "2020-04-02",
          "2020-04-03",
          "2020-04-04",
          "2020-04-05",
          "2020-04-06",
          "2020-04-07",
          "2020-04-08",
          "2020-04-09",
          "2020-04-10",
          "2020-04-11",
          "2020-04-12",
          "2020-04-13",
          "2020-04-14",
          "2020-04-15",
          "2020-04-16",
          "2020-04-17",
          "2020-04-18",
          "2020-04-19",
          "2020-04-20",
          "2020-04-21",
          "2020-04-22",
          "2020-04-23",
          "2020-04-24",
          "2020-04-25",
          "2020-04-26",
          "2020-04-27",
          "2020-04-28",
          "2020-04-29",
          "2020-04-30",
          "2020-05-01"
         ],
         "xaxis": "x",
         "y": [
          1,
          1,
          1,
          1,
          1,
          1,
          1,
          1,
          1,
          1,
          1,
          1,
          1,
          1,
          1,
          1,
          1,
          1,
          1,
          1,
          1,
          1,
          1,
          1,
          1,
          1,
          1,
          1,
          1,
          1,
          1
         ],
         "yaxis": "y",
         "type": "scattergl"
        },
        {
         "hovertemplate": "Regulation=MassGatherAll<br>Date=%{x}<br>num_countries=%{y}<extra></extra>",
         "legendgroup": "MassGatherAll",
         "line": {
          "color": "#FF97FF",
          "dash": "solid"
         },
         "marker": {
          "symbol": "circle"
         },
         "mode": "lines",
         "name": "MassGatherAll",
         "showlegend": true,
         "x": [
          "2020-04-01",
          "2020-04-02",
          "2020-04-03",
          "2020-04-04",
          "2020-04-05",
          "2020-04-06",
          "2020-04-07",
          "2020-04-08",
          "2020-04-09",
          "2020-04-10",
          "2020-04-11",
          "2020-04-12",
          "2020-04-13",
          "2020-04-14",
          "2020-04-15",
          "2020-04-16",
          "2020-04-17",
          "2020-04-18",
          "2020-04-19",
          "2020-04-20",
          "2020-04-21",
          "2020-04-22",
          "2020-04-23",
          "2020-04-24",
          "2020-04-25",
          "2020-04-26",
          "2020-04-27",
          "2020-04-28",
          "2020-04-29",
          "2020-04-30",
          "2020-05-01"
         ],
         "xaxis": "x",
         "y": [
          22,
          22,
          22,
          22,
          22,
          22,
          22,
          22,
          22,
          22,
          22,
          22,
          22,
          22,
          22,
          22,
          22,
          22,
          22,
          22,
          22,
          22,
          22,
          22,
          22,
          22,
          22,
          22,
          22,
          22,
          22
         ],
         "yaxis": "y",
         "type": "scattergl"
        },
        {
         "hovertemplate": "Regulation=MassGatherAllPartial<br>Date=%{x}<br>num_countries=%{y}<extra></extra>",
         "legendgroup": "MassGatherAllPartial",
         "line": {
          "color": "#FECB52",
          "dash": "solid"
         },
         "marker": {
          "symbol": "circle"
         },
         "mode": "lines",
         "name": "MassGatherAllPartial",
         "showlegend": true,
         "x": [
          "2020-04-01",
          "2020-04-02",
          "2020-04-03",
          "2020-04-04",
          "2020-04-05",
          "2020-04-06",
          "2020-04-07",
          "2020-04-08",
          "2020-04-09",
          "2020-04-10",
          "2020-04-11",
          "2020-04-12",
          "2020-04-13",
          "2020-04-14",
          "2020-04-15",
          "2020-04-16",
          "2020-04-17",
          "2020-04-18",
          "2020-04-19",
          "2020-04-20",
          "2020-04-21",
          "2020-04-22",
          "2020-04-23",
          "2020-04-24",
          "2020-04-25",
          "2020-04-26",
          "2020-04-27",
          "2020-04-28",
          "2020-04-29",
          "2020-04-30",
          "2020-05-01"
         ],
         "xaxis": "x",
         "y": [
          3,
          3,
          3,
          3,
          3,
          3,
          3,
          3,
          3,
          3,
          3,
          3,
          3,
          3,
          3,
          3,
          3,
          3,
          3,
          3,
          3,
          3,
          3,
          3,
          3,
          3,
          3,
          3,
          3,
          3,
          3
         ],
         "yaxis": "y",
         "type": "scattergl"
        },
        {
         "hovertemplate": "Regulation=NonEssentialShops<br>Date=%{x}<br>num_countries=%{y}<extra></extra>",
         "legendgroup": "NonEssentialShops",
         "line": {
          "color": "#636efa",
          "dash": "solid"
         },
         "marker": {
          "symbol": "circle"
         },
         "mode": "lines",
         "name": "NonEssentialShops",
         "showlegend": true,
         "x": [
          "2020-04-01",
          "2020-04-02",
          "2020-04-03",
          "2020-04-04",
          "2020-04-05",
          "2020-04-06",
          "2020-04-07",
          "2020-04-08",
          "2020-04-09",
          "2020-04-10",
          "2020-04-11",
          "2020-04-12",
          "2020-04-13",
          "2020-04-14",
          "2020-04-15",
          "2020-04-16",
          "2020-04-17",
          "2020-04-18",
          "2020-04-19",
          "2020-04-20",
          "2020-04-21",
          "2020-04-22",
          "2020-04-23",
          "2020-04-24",
          "2020-04-25",
          "2020-04-26",
          "2020-04-27",
          "2020-04-28",
          "2020-04-29",
          "2020-04-30",
          "2020-05-01"
         ],
         "xaxis": "x",
         "y": [
          17,
          17,
          17,
          17,
          17,
          17,
          17,
          17,
          17,
          17,
          17,
          17,
          17,
          15,
          15,
          15,
          15,
          15,
          15,
          14,
          14,
          13,
          12,
          12,
          12,
          12,
          12,
          10,
          10,
          10,
          10
         ],
         "yaxis": "y",
         "type": "scattergl"
        },
        {
         "hovertemplate": "Regulation=NonEssentialShopsPartial<br>Date=%{x}<br>num_countries=%{y}<extra></extra>",
         "legendgroup": "NonEssentialShopsPartial",
         "line": {
          "color": "#EF553B",
          "dash": "solid"
         },
         "marker": {
          "symbol": "circle"
         },
         "mode": "lines",
         "name": "NonEssentialShopsPartial",
         "showlegend": true,
         "x": [
          "2020-04-01",
          "2020-04-02",
          "2020-04-03",
          "2020-04-04",
          "2020-04-05",
          "2020-04-06",
          "2020-04-07",
          "2020-04-08",
          "2020-04-09",
          "2020-04-10",
          "2020-04-11",
          "2020-04-12",
          "2020-04-13",
          "2020-04-14",
          "2020-04-15",
          "2020-04-16",
          "2020-04-17",
          "2020-04-18",
          "2020-04-19",
          "2020-04-20",
          "2020-04-21",
          "2020-04-22",
          "2020-04-23",
          "2020-04-24",
          "2020-04-25",
          "2020-04-26",
          "2020-04-27",
          "2020-04-28",
          "2020-04-29",
          "2020-04-30",
          "2020-05-01"
         ],
         "xaxis": "x",
         "y": [
          4,
          4,
          5,
          5,
          5,
          5,
          5,
          5,
          5,
          5,
          5,
          5,
          5,
          7,
          7,
          7,
          7,
          7,
          7,
          8,
          8,
          9,
          10,
          10,
          10,
          10,
          10,
          10,
          10,
          10,
          10
         ],
         "yaxis": "y",
         "type": "scattergl"
        },
        {
         "hovertemplate": "Regulation=OutdoorOver100<br>Date=%{x}<br>num_countries=%{y}<extra></extra>",
         "legendgroup": "OutdoorOver100",
         "line": {
          "color": "#00cc96",
          "dash": "solid"
         },
         "marker": {
          "symbol": "circle"
         },
         "mode": "lines",
         "name": "OutdoorOver100",
         "showlegend": true,
         "x": [
          "2020-04-01",
          "2020-04-02",
          "2020-04-03",
          "2020-04-04",
          "2020-04-05",
          "2020-04-06",
          "2020-04-07",
          "2020-04-08",
          "2020-04-09",
          "2020-04-10",
          "2020-04-11",
          "2020-04-12",
          "2020-04-13",
          "2020-04-14",
          "2020-04-15",
          "2020-04-16",
          "2020-04-17",
          "2020-04-18",
          "2020-04-19",
          "2020-04-20",
          "2020-04-21",
          "2020-04-22",
          "2020-04-23",
          "2020-04-24",
          "2020-04-25",
          "2020-04-26",
          "2020-04-27",
          "2020-04-28",
          "2020-04-29",
          "2020-04-30",
          "2020-05-01"
         ],
         "xaxis": "x",
         "y": [
          1,
          1,
          1,
          1,
          1,
          1,
          1,
          1,
          1,
          1,
          1,
          1,
          1,
          1,
          1,
          1,
          1,
          1,
          1,
          1,
          1,
          1,
          1,
          1,
          1,
          1,
          1,
          1,
          1,
          1,
          1
         ],
         "yaxis": "y",
         "type": "scattergl"
        },
        {
         "hovertemplate": "Regulation=OutdoorOver1000<br>Date=%{x}<br>num_countries=%{y}<extra></extra>",
         "legendgroup": "OutdoorOver1000",
         "line": {
          "color": "#ab63fa",
          "dash": "solid"
         },
         "marker": {
          "symbol": "circle"
         },
         "mode": "lines",
         "name": "OutdoorOver1000",
         "showlegend": true,
         "x": [
          "2020-04-01",
          "2020-04-02",
          "2020-04-03",
          "2020-04-04",
          "2020-04-05",
          "2020-04-06",
          "2020-04-07",
          "2020-04-08",
          "2020-04-09",
          "2020-04-10",
          "2020-04-11",
          "2020-04-12",
          "2020-04-13",
          "2020-04-14",
          "2020-04-15",
          "2020-04-16",
          "2020-04-17",
          "2020-04-18",
          "2020-04-19",
          "2020-04-20",
          "2020-04-21",
          "2020-04-22",
          "2020-04-23",
          "2020-04-24",
          "2020-04-25",
          "2020-04-26",
          "2020-04-27",
          "2020-04-28",
          "2020-04-29",
          "2020-04-30",
          "2020-05-01"
         ],
         "xaxis": "x",
         "y": [
          1,
          1,
          1,
          1,
          1,
          1,
          1,
          1,
          1,
          1,
          1,
          1,
          1,
          1,
          1,
          1,
          1,
          1,
          1,
          1,
          1,
          1,
          1,
          1,
          1,
          1,
          1,
          1,
          1,
          1,
          1
         ],
         "yaxis": "y",
         "type": "scattergl"
        },
        {
         "hovertemplate": "Regulation=OutdoorOver50<br>Date=%{x}<br>num_countries=%{y}<extra></extra>",
         "legendgroup": "OutdoorOver50",
         "line": {
          "color": "#FFA15A",
          "dash": "solid"
         },
         "marker": {
          "symbol": "circle"
         },
         "mode": "lines",
         "name": "OutdoorOver50",
         "showlegend": true,
         "x": [
          "2020-04-01",
          "2020-04-02",
          "2020-04-03",
          "2020-04-04",
          "2020-04-05",
          "2020-04-06",
          "2020-04-07",
          "2020-04-08",
          "2020-04-09",
          "2020-04-10",
          "2020-04-11",
          "2020-04-12",
          "2020-04-13",
          "2020-04-14",
          "2020-04-15",
          "2020-04-16",
          "2020-04-17",
          "2020-04-18",
          "2020-04-19",
          "2020-04-20",
          "2020-04-21",
          "2020-04-22",
          "2020-04-23",
          "2020-04-24",
          "2020-04-25",
          "2020-04-26",
          "2020-04-27",
          "2020-04-28",
          "2020-04-29",
          "2020-04-30",
          "2020-05-01"
         ],
         "xaxis": "x",
         "y": [
          3,
          3,
          3,
          3,
          3,
          3,
          3,
          3,
          3,
          3,
          3,
          3,
          3,
          3,
          3,
          3,
          3,
          3,
          3,
          3,
          2,
          2,
          2,
          2,
          2,
          2,
          2,
          2,
          2,
          2,
          2
         ],
         "yaxis": "y",
         "type": "scattergl"
        },
        {
         "hovertemplate": "Regulation=OutdoorOver500<br>Date=%{x}<br>num_countries=%{y}<extra></extra>",
         "legendgroup": "OutdoorOver500",
         "line": {
          "color": "#19d3f3",
          "dash": "solid"
         },
         "marker": {
          "symbol": "circle"
         },
         "mode": "lines",
         "name": "OutdoorOver500",
         "showlegend": true,
         "x": [
          "2020-04-01",
          "2020-04-02",
          "2020-04-03",
          "2020-04-04",
          "2020-04-05",
          "2020-04-06",
          "2020-04-07",
          "2020-04-08",
          "2020-04-09",
          "2020-04-10",
          "2020-04-11",
          "2020-04-12",
          "2020-04-13",
          "2020-04-14",
          "2020-04-15",
          "2020-04-16",
          "2020-04-17",
          "2020-04-18",
          "2020-04-19",
          "2020-04-20",
          "2020-04-21",
          "2020-04-22",
          "2020-04-23",
          "2020-04-24",
          "2020-04-25",
          "2020-04-26",
          "2020-04-27",
          "2020-04-28",
          "2020-04-29",
          "2020-04-30",
          "2020-05-01"
         ],
         "xaxis": "x",
         "y": [
          2,
          2,
          2,
          2,
          2,
          2,
          2,
          2,
          2,
          2,
          2,
          2,
          2,
          2,
          2,
          2,
          2,
          2,
          2,
          2,
          3,
          3,
          3,
          3,
          3,
          3,
          3,
          3,
          3,
          3,
          3
         ],
         "yaxis": "y",
         "type": "scattergl"
        },
        {
         "hovertemplate": "Regulation=PlaceOfWorship<br>Date=%{x}<br>num_countries=%{y}<extra></extra>",
         "legendgroup": "PlaceOfWorship",
         "line": {
          "color": "#FF6692",
          "dash": "solid"
         },
         "marker": {
          "symbol": "circle"
         },
         "mode": "lines",
         "name": "PlaceOfWorship",
         "showlegend": true,
         "x": [
          "2020-04-01",
          "2020-04-02",
          "2020-04-03",
          "2020-04-04",
          "2020-04-05",
          "2020-04-06",
          "2020-04-07",
          "2020-04-08",
          "2020-04-09",
          "2020-04-10",
          "2020-04-11",
          "2020-04-12",
          "2020-04-13",
          "2020-04-14",
          "2020-04-15",
          "2020-04-16",
          "2020-04-17",
          "2020-04-18",
          "2020-04-19",
          "2020-04-20",
          "2020-04-21",
          "2020-04-22",
          "2020-04-23",
          "2020-04-24",
          "2020-04-25",
          "2020-04-26",
          "2020-04-27",
          "2020-04-28",
          "2020-04-29",
          "2020-04-30",
          "2020-05-01"
         ],
         "xaxis": "x",
         "y": [
          12,
          12,
          12,
          12,
          12,
          12,
          12,
          12,
          12,
          12,
          12,
          12,
          12,
          12,
          12,
          12,
          12,
          12,
          12,
          12,
          12,
          12,
          12,
          11,
          11,
          11,
          10,
          10,
          10,
          10,
          10
         ],
         "yaxis": "y",
         "type": "scattergl"
        },
        {
         "hovertemplate": "Regulation=PlaceOfWorshipPartial<br>Date=%{x}<br>num_countries=%{y}<extra></extra>",
         "legendgroup": "PlaceOfWorshipPartial",
         "line": {
          "color": "#B6E880",
          "dash": "solid"
         },
         "marker": {
          "symbol": "circle"
         },
         "mode": "lines",
         "name": "PlaceOfWorshipPartial",
         "showlegend": true,
         "x": [
          "2020-04-01",
          "2020-04-02",
          "2020-04-03",
          "2020-04-04",
          "2020-04-05",
          "2020-04-06",
          "2020-04-07",
          "2020-04-08",
          "2020-04-09",
          "2020-04-10",
          "2020-04-11",
          "2020-04-12",
          "2020-04-13",
          "2020-04-14",
          "2020-04-15",
          "2020-04-16",
          "2020-04-17",
          "2020-04-18",
          "2020-04-19",
          "2020-04-20",
          "2020-04-21",
          "2020-04-22",
          "2020-04-23",
          "2020-04-24",
          "2020-04-25",
          "2020-04-26",
          "2020-04-27",
          "2020-04-28",
          "2020-04-29",
          "2020-04-30",
          "2020-05-01"
         ],
         "xaxis": "x",
         "y": [
          2,
          2,
          2,
          2,
          2,
          2,
          2,
          2,
          2,
          2,
          2,
          2,
          2,
          2,
          2,
          2,
          2,
          2,
          3,
          3,
          3,
          3,
          3,
          4,
          4,
          4,
          5,
          5,
          5,
          5,
          5
         ],
         "yaxis": "y",
         "type": "scattergl"
        },
        {
         "hovertemplate": "Regulation=PrivateGatheringRestrictions<br>Date=%{x}<br>num_countries=%{y}<extra></extra>",
         "legendgroup": "PrivateGatheringRestrictions",
         "line": {
          "color": "#FF97FF",
          "dash": "solid"
         },
         "marker": {
          "symbol": "circle"
         },
         "mode": "lines",
         "name": "PrivateGatheringRestrictions",
         "showlegend": true,
         "x": [
          "2020-04-01",
          "2020-04-02",
          "2020-04-03",
          "2020-04-04",
          "2020-04-05",
          "2020-04-06",
          "2020-04-07",
          "2020-04-08",
          "2020-04-09",
          "2020-04-10",
          "2020-04-11",
          "2020-04-12",
          "2020-04-13",
          "2020-04-14",
          "2020-04-15",
          "2020-04-16",
          "2020-04-17",
          "2020-04-18",
          "2020-04-19",
          "2020-04-20",
          "2020-04-21",
          "2020-04-22",
          "2020-04-23",
          "2020-04-24",
          "2020-04-25",
          "2020-04-26",
          "2020-04-27",
          "2020-04-28",
          "2020-04-29",
          "2020-04-30",
          "2020-05-01"
         ],
         "xaxis": "x",
         "y": [
          16,
          17,
          17,
          17,
          17,
          17,
          17,
          17,
          17,
          17,
          17,
          17,
          17,
          17,
          17,
          17,
          17,
          17,
          17,
          17,
          17,
          17,
          17,
          17,
          17,
          17,
          17,
          17,
          17,
          17,
          16
         ],
         "yaxis": "y",
         "type": "scattergl"
        },
        {
         "hovertemplate": "Regulation=PrivateGatheringRestrictionsPartial<br>Date=%{x}<br>num_countries=%{y}<extra></extra>",
         "legendgroup": "PrivateGatheringRestrictionsPartial",
         "line": {
          "color": "#FECB52",
          "dash": "solid"
         },
         "marker": {
          "symbol": "circle"
         },
         "mode": "lines",
         "name": "PrivateGatheringRestrictionsPartial",
         "showlegend": true,
         "x": [
          "2020-04-01",
          "2020-04-02",
          "2020-04-03",
          "2020-04-04",
          "2020-04-05",
          "2020-04-06",
          "2020-04-07",
          "2020-04-08",
          "2020-04-09",
          "2020-04-10",
          "2020-04-11",
          "2020-04-12",
          "2020-04-13",
          "2020-04-14",
          "2020-04-15",
          "2020-04-16",
          "2020-04-17",
          "2020-04-18",
          "2020-04-19",
          "2020-04-20",
          "2020-04-21",
          "2020-04-22",
          "2020-04-23",
          "2020-04-24",
          "2020-04-25",
          "2020-04-26",
          "2020-04-27",
          "2020-04-28",
          "2020-04-29",
          "2020-04-30",
          "2020-05-01"
         ],
         "xaxis": "x",
         "y": [
          1,
          1,
          1,
          1,
          1,
          1,
          1,
          1,
          1,
          1,
          1,
          1,
          1,
          1,
          1,
          1,
          1,
          1,
          1,
          1,
          1,
          1,
          1,
          1,
          1,
          1,
          1,
          1,
          1,
          1,
          1
         ],
         "yaxis": "y",
         "type": "scattergl"
        },
        {
         "hovertemplate": "Regulation=QuarantineForInternationalTravellers<br>Date=%{x}<br>num_countries=%{y}<extra></extra>",
         "legendgroup": "QuarantineForInternationalTravellers",
         "line": {
          "color": "#636efa",
          "dash": "solid"
         },
         "marker": {
          "symbol": "circle"
         },
         "mode": "lines",
         "name": "QuarantineForInternationalTravellers",
         "showlegend": true,
         "x": [
          "2020-04-01",
          "2020-04-02",
          "2020-04-03",
          "2020-04-04",
          "2020-04-05",
          "2020-04-06",
          "2020-04-07",
          "2020-04-08",
          "2020-04-09",
          "2020-04-10",
          "2020-04-11",
          "2020-04-12",
          "2020-04-13",
          "2020-04-14",
          "2020-04-15",
          "2020-04-16",
          "2020-04-17",
          "2020-04-18",
          "2020-04-19",
          "2020-04-20",
          "2020-04-21",
          "2020-04-22",
          "2020-04-23",
          "2020-04-24",
          "2020-04-25",
          "2020-04-26",
          "2020-04-27",
          "2020-04-28",
          "2020-04-29",
          "2020-04-30",
          "2020-05-01"
         ],
         "xaxis": "x",
         "y": [
          14,
          14,
          14,
          15,
          15,
          15,
          15,
          15,
          15,
          15,
          15,
          15,
          15,
          15,
          15,
          15,
          15,
          15,
          15,
          15,
          15,
          15,
          15,
          15,
          15,
          15,
          15,
          15,
          15,
          15,
          15
         ],
         "yaxis": "y",
         "type": "scattergl"
        },
        {
         "hovertemplate": "Regulation=QuarantineForInternationalTravellersPartial<br>Date=%{x}<br>num_countries=%{y}<extra></extra>",
         "legendgroup": "QuarantineForInternationalTravellersPartial",
         "line": {
          "color": "#EF553B",
          "dash": "solid"
         },
         "marker": {
          "symbol": "circle"
         },
         "mode": "lines",
         "name": "QuarantineForInternationalTravellersPartial",
         "showlegend": true,
         "x": [
          "2020-04-01",
          "2020-04-02",
          "2020-04-03",
          "2020-04-04",
          "2020-04-05",
          "2020-04-06",
          "2020-04-07",
          "2020-04-08",
          "2020-04-09",
          "2020-04-10",
          "2020-04-11",
          "2020-04-12",
          "2020-04-13",
          "2020-04-14",
          "2020-04-15",
          "2020-04-16",
          "2020-04-17",
          "2020-04-18",
          "2020-04-19",
          "2020-04-20",
          "2020-04-21",
          "2020-04-22",
          "2020-04-23",
          "2020-04-24",
          "2020-04-25",
          "2020-04-26",
          "2020-04-27",
          "2020-04-28",
          "2020-04-29",
          "2020-04-30",
          "2020-05-01"
         ],
         "xaxis": "x",
         "y": [
          2,
          2,
          2,
          2,
          2,
          2,
          2,
          2,
          2,
          2,
          2,
          2,
          2,
          2,
          2,
          2,
          2,
          2,
          2,
          2,
          2,
          2,
          2,
          2,
          2,
          2,
          2,
          2,
          2,
          2,
          2
         ],
         "yaxis": "y",
         "type": "scattergl"
        },
        {
         "hovertemplate": "Regulation=RegionalStayHomeOrder<br>Date=%{x}<br>num_countries=%{y}<extra></extra>",
         "legendgroup": "RegionalStayHomeOrder",
         "line": {
          "color": "#00cc96",
          "dash": "solid"
         },
         "marker": {
          "symbol": "circle"
         },
         "mode": "lines",
         "name": "RegionalStayHomeOrder",
         "showlegend": true,
         "x": [
          "2020-04-02",
          "2020-04-03",
          "2020-04-04",
          "2020-04-05",
          "2020-04-06",
          "2020-04-07",
          "2020-04-08",
          "2020-04-09",
          "2020-04-10",
          "2020-04-11",
          "2020-04-12",
          "2020-04-13",
          "2020-04-14",
          "2020-04-15",
          "2020-04-16",
          "2020-04-17",
          "2020-04-18",
          "2020-04-19",
          "2020-04-20",
          "2020-04-21",
          "2020-04-22",
          "2020-04-23",
          "2020-04-24",
          "2020-04-25",
          "2020-04-26",
          "2020-04-27",
          "2020-04-28",
          "2020-04-29",
          "2020-04-30",
          "2020-05-01"
         ],
         "xaxis": "x",
         "y": [
          1,
          1,
          1,
          1,
          1,
          1,
          1,
          1,
          1,
          1,
          1,
          1,
          1,
          1,
          1,
          1,
          1,
          1,
          1,
          1,
          1,
          1,
          1,
          1,
          1,
          1,
          1,
          1,
          1,
          1
         ],
         "yaxis": "y",
         "type": "scattergl"
        },
        {
         "hovertemplate": "Regulation=RestaurantsCafes<br>Date=%{x}<br>num_countries=%{y}<extra></extra>",
         "legendgroup": "RestaurantsCafes",
         "line": {
          "color": "#ab63fa",
          "dash": "solid"
         },
         "marker": {
          "symbol": "circle"
         },
         "mode": "lines",
         "name": "RestaurantsCafes",
         "showlegend": true,
         "x": [
          "2020-04-01",
          "2020-04-02",
          "2020-04-03",
          "2020-04-04",
          "2020-04-05",
          "2020-04-06",
          "2020-04-07",
          "2020-04-08",
          "2020-04-09",
          "2020-04-10",
          "2020-04-11",
          "2020-04-12",
          "2020-04-13",
          "2020-04-14",
          "2020-04-15",
          "2020-04-16",
          "2020-04-17",
          "2020-04-18",
          "2020-04-19",
          "2020-04-20",
          "2020-04-21",
          "2020-04-22",
          "2020-04-23",
          "2020-04-24",
          "2020-04-25",
          "2020-04-26",
          "2020-04-27",
          "2020-04-28",
          "2020-04-29",
          "2020-04-30",
          "2020-05-01"
         ],
         "xaxis": "x",
         "y": [
          23,
          23,
          25,
          25,
          25,
          25,
          25,
          25,
          25,
          25,
          25,
          25,
          25,
          25,
          25,
          25,
          25,
          25,
          25,
          25,
          25,
          25,
          24,
          24,
          24,
          24,
          24,
          24,
          24,
          24,
          24
         ],
         "yaxis": "y",
         "type": "scattergl"
        },
        {
         "hovertemplate": "Regulation=RestaurantsCafesPartial<br>Date=%{x}<br>num_countries=%{y}<extra></extra>",
         "legendgroup": "RestaurantsCafesPartial",
         "line": {
          "color": "#FFA15A",
          "dash": "solid"
         },
         "marker": {
          "symbol": "circle"
         },
         "mode": "lines",
         "name": "RestaurantsCafesPartial",
         "showlegend": true,
         "x": [
          "2020-04-01",
          "2020-04-02",
          "2020-04-03",
          "2020-04-04",
          "2020-04-05",
          "2020-04-06",
          "2020-04-07",
          "2020-04-08",
          "2020-04-09",
          "2020-04-10",
          "2020-04-11",
          "2020-04-12",
          "2020-04-13",
          "2020-04-14",
          "2020-04-15",
          "2020-04-16",
          "2020-04-17",
          "2020-04-18",
          "2020-04-19",
          "2020-04-20",
          "2020-04-21",
          "2020-04-22",
          "2020-04-23",
          "2020-04-24",
          "2020-04-25",
          "2020-04-26",
          "2020-04-27",
          "2020-04-28",
          "2020-04-29",
          "2020-04-30",
          "2020-05-01"
         ],
         "xaxis": "x",
         "y": [
          2,
          2,
          2,
          2,
          2,
          2,
          2,
          2,
          2,
          2,
          2,
          2,
          2,
          2,
          2,
          2,
          2,
          2,
          2,
          2,
          2,
          2,
          3,
          3,
          3,
          3,
          3,
          3,
          3,
          3,
          3
         ],
         "yaxis": "y",
         "type": "scattergl"
        },
        {
         "hovertemplate": "Regulation=SocialCircle<br>Date=%{x}<br>num_countries=%{y}<extra></extra>",
         "legendgroup": "SocialCircle",
         "line": {
          "color": "#19d3f3",
          "dash": "solid"
         },
         "marker": {
          "symbol": "circle"
         },
         "mode": "lines",
         "name": "SocialCircle",
         "showlegend": true,
         "x": [
          "2020-04-01",
          "2020-04-02",
          "2020-04-03",
          "2020-04-04",
          "2020-04-05",
          "2020-04-06",
          "2020-04-07",
          "2020-04-08",
          "2020-04-09",
          "2020-04-10",
          "2020-04-11",
          "2020-04-12",
          "2020-04-13",
          "2020-04-14",
          "2020-04-15",
          "2020-04-16",
          "2020-04-17",
          "2020-04-18",
          "2020-04-19",
          "2020-04-20",
          "2020-04-21",
          "2020-04-22",
          "2020-04-23",
          "2020-04-24",
          "2020-04-25",
          "2020-04-26",
          "2020-04-27",
          "2020-04-28",
          "2020-04-29",
          "2020-04-30",
          "2020-05-01"
         ],
         "xaxis": "x",
         "y": [
          1,
          1,
          1,
          1,
          1,
          1,
          1,
          1,
          1,
          1,
          1,
          1,
          1,
          1,
          1,
          1,
          1,
          1,
          1,
          1,
          1,
          1,
          1,
          1,
          1,
          1,
          1,
          1,
          1,
          1,
          1
         ],
         "yaxis": "y",
         "type": "scattergl"
        },
        {
         "hovertemplate": "Regulation=StayHomeGen<br>Date=%{x}<br>num_countries=%{y}<extra></extra>",
         "legendgroup": "StayHomeGen",
         "line": {
          "color": "#FF6692",
          "dash": "solid"
         },
         "marker": {
          "symbol": "circle"
         },
         "mode": "lines",
         "name": "StayHomeGen",
         "showlegend": true,
         "x": [
          "2020-04-01",
          "2020-04-02",
          "2020-04-03",
          "2020-04-04",
          "2020-04-05",
          "2020-04-06",
          "2020-04-07",
          "2020-04-08",
          "2020-04-09",
          "2020-04-10",
          "2020-04-11",
          "2020-04-12",
          "2020-04-13",
          "2020-04-14",
          "2020-04-15",
          "2020-04-16",
          "2020-04-17",
          "2020-04-18",
          "2020-04-19",
          "2020-04-20",
          "2020-04-21",
          "2020-04-22",
          "2020-04-23",
          "2020-04-24",
          "2020-04-25",
          "2020-04-26",
          "2020-04-27",
          "2020-04-28",
          "2020-04-29",
          "2020-04-30",
          "2020-05-01"
         ],
         "xaxis": "x",
         "y": [
          5,
          5,
          5,
          5,
          5,
          5,
          5,
          5,
          5,
          5,
          5,
          5,
          5,
          5,
          5,
          5,
          5,
          5,
          5,
          6,
          6,
          6,
          6,
          6,
          6,
          6,
          6,
          6,
          6,
          6,
          6
         ],
         "yaxis": "y",
         "type": "scattergl"
        },
        {
         "hovertemplate": "Regulation=StayHomeOrder<br>Date=%{x}<br>num_countries=%{y}<extra></extra>",
         "legendgroup": "StayHomeOrder",
         "line": {
          "color": "#B6E880",
          "dash": "solid"
         },
         "marker": {
          "symbol": "circle"
         },
         "mode": "lines",
         "name": "StayHomeOrder",
         "showlegend": true,
         "x": [
          "2020-04-01",
          "2020-04-02",
          "2020-04-03",
          "2020-04-04",
          "2020-04-05",
          "2020-04-06",
          "2020-04-07",
          "2020-04-08",
          "2020-04-09",
          "2020-04-10",
          "2020-04-11",
          "2020-04-12",
          "2020-04-13",
          "2020-04-14",
          "2020-04-15",
          "2020-04-16",
          "2020-04-17",
          "2020-04-18",
          "2020-04-19",
          "2020-04-20",
          "2020-04-21",
          "2020-04-22",
          "2020-04-23",
          "2020-04-24",
          "2020-04-25",
          "2020-04-26",
          "2020-04-27",
          "2020-04-28",
          "2020-04-29",
          "2020-04-30",
          "2020-05-01"
         ],
         "xaxis": "x",
         "y": [
          14,
          14,
          14,
          14,
          14,
          14,
          14,
          14,
          14,
          14,
          14,
          14,
          14,
          14,
          14,
          14,
          14,
          14,
          14,
          12,
          12,
          12,
          12,
          11,
          10,
          10,
          10,
          10,
          10,
          10,
          9
         ],
         "yaxis": "y",
         "type": "scattergl"
        },
        {
         "hovertemplate": "Regulation=StayHomeOrderPartial<br>Date=%{x}<br>num_countries=%{y}<extra></extra>",
         "legendgroup": "StayHomeOrderPartial",
         "line": {
          "color": "#FF97FF",
          "dash": "solid"
         },
         "marker": {
          "symbol": "circle"
         },
         "mode": "lines",
         "name": "StayHomeOrderPartial",
         "showlegend": true,
         "x": [
          "2020-04-01",
          "2020-04-02",
          "2020-04-03",
          "2020-04-04",
          "2020-04-05",
          "2020-04-06",
          "2020-04-07",
          "2020-04-08",
          "2020-04-09",
          "2020-04-10",
          "2020-04-11",
          "2020-04-12",
          "2020-04-13",
          "2020-04-14",
          "2020-04-15",
          "2020-04-16",
          "2020-04-17",
          "2020-04-18",
          "2020-04-19",
          "2020-04-20",
          "2020-04-21",
          "2020-04-22",
          "2020-04-23",
          "2020-04-24",
          "2020-04-25",
          "2020-04-26",
          "2020-04-27",
          "2020-04-28",
          "2020-04-29",
          "2020-04-30",
          "2020-05-01"
         ],
         "xaxis": "x",
         "y": [
          1,
          1,
          1,
          1,
          1,
          1,
          1,
          1,
          1,
          1,
          1,
          1,
          1,
          1,
          1,
          1,
          1,
          1,
          1,
          2,
          2,
          2,
          2,
          3,
          3,
          3,
          3,
          3,
          3,
          3,
          3
         ],
         "yaxis": "y",
         "type": "scattergl"
        },
        {
         "hovertemplate": "Regulation=StayHomeRiskG<br>Date=%{x}<br>num_countries=%{y}<extra></extra>",
         "legendgroup": "StayHomeRiskG",
         "line": {
          "color": "#FECB52",
          "dash": "solid"
         },
         "marker": {
          "symbol": "circle"
         },
         "mode": "lines",
         "name": "StayHomeRiskG",
         "showlegend": true,
         "x": [
          "2020-04-01",
          "2020-04-02",
          "2020-04-03",
          "2020-04-04",
          "2020-04-05",
          "2020-04-06",
          "2020-04-07",
          "2020-04-08",
          "2020-04-09",
          "2020-04-10",
          "2020-04-11",
          "2020-04-12",
          "2020-04-13",
          "2020-04-14",
          "2020-04-15",
          "2020-04-16",
          "2020-04-17",
          "2020-04-18",
          "2020-04-19",
          "2020-04-20",
          "2020-04-21",
          "2020-04-22",
          "2020-04-23",
          "2020-04-24",
          "2020-04-25",
          "2020-04-26",
          "2020-04-27",
          "2020-04-28",
          "2020-04-29",
          "2020-04-30",
          "2020-05-01"
         ],
         "xaxis": "x",
         "y": [
          14,
          14,
          14,
          14,
          14,
          14,
          14,
          14,
          14,
          14,
          14,
          14,
          14,
          14,
          14,
          14,
          14,
          14,
          14,
          14,
          14,
          14,
          14,
          14,
          14,
          14,
          14,
          14,
          14,
          14,
          14
         ],
         "yaxis": "y",
         "type": "scattergl"
        },
        {
         "hovertemplate": "Regulation=Teleworking<br>Date=%{x}<br>num_countries=%{y}<extra></extra>",
         "legendgroup": "Teleworking",
         "line": {
          "color": "#636efa",
          "dash": "solid"
         },
         "marker": {
          "symbol": "circle"
         },
         "mode": "lines",
         "name": "Teleworking",
         "showlegend": true,
         "x": [
          "2020-04-01",
          "2020-04-02",
          "2020-04-03",
          "2020-04-04",
          "2020-04-05",
          "2020-04-06",
          "2020-04-07",
          "2020-04-08",
          "2020-04-09",
          "2020-04-10",
          "2020-04-11",
          "2020-04-12",
          "2020-04-13",
          "2020-04-14",
          "2020-04-15",
          "2020-04-16",
          "2020-04-17",
          "2020-04-18",
          "2020-04-19",
          "2020-04-20",
          "2020-04-21",
          "2020-04-22",
          "2020-04-23",
          "2020-04-24",
          "2020-04-25",
          "2020-04-26",
          "2020-04-27",
          "2020-04-28",
          "2020-04-29",
          "2020-04-30",
          "2020-05-01"
         ],
         "xaxis": "x",
         "y": [
          17,
          17,
          17,
          18,
          18,
          18,
          18,
          18,
          18,
          18,
          18,
          18,
          18,
          18,
          18,
          18,
          18,
          18,
          18,
          18,
          18,
          18,
          18,
          18,
          18,
          18,
          18,
          18,
          18,
          18,
          18
         ],
         "yaxis": "y",
         "type": "scattergl"
        },
        {
         "hovertemplate": "Regulation=TeleworkingPartial<br>Date=%{x}<br>num_countries=%{y}<extra></extra>",
         "legendgroup": "TeleworkingPartial",
         "line": {
          "color": "#EF553B",
          "dash": "solid"
         },
         "marker": {
          "symbol": "circle"
         },
         "mode": "lines",
         "name": "TeleworkingPartial",
         "showlegend": true,
         "x": [
          "2020-04-01",
          "2020-04-02",
          "2020-04-03",
          "2020-04-04",
          "2020-04-05",
          "2020-04-06",
          "2020-04-07",
          "2020-04-08",
          "2020-04-09",
          "2020-04-10",
          "2020-04-11",
          "2020-04-12",
          "2020-04-13",
          "2020-04-14",
          "2020-04-15",
          "2020-04-16",
          "2020-04-17",
          "2020-04-18",
          "2020-04-19",
          "2020-04-20",
          "2020-04-21",
          "2020-04-22",
          "2020-04-23",
          "2020-04-24",
          "2020-04-25",
          "2020-04-26",
          "2020-04-27",
          "2020-04-28",
          "2020-04-29",
          "2020-04-30",
          "2020-05-01"
         ],
         "xaxis": "x",
         "y": [
          1,
          1,
          1,
          1,
          1,
          1,
          1,
          1,
          1,
          2,
          2,
          2,
          2,
          2,
          2,
          2,
          2,
          2,
          2,
          2,
          2,
          2,
          2,
          2,
          2,
          2,
          2,
          2,
          2,
          2,
          2
         ],
         "yaxis": "y",
         "type": "scattergl"
        },
        {
         "hovertemplate": "Regulation=WorkplaceClosures<br>Date=%{x}<br>num_countries=%{y}<extra></extra>",
         "legendgroup": "WorkplaceClosures",
         "line": {
          "color": "#00cc96",
          "dash": "solid"
         },
         "marker": {
          "symbol": "circle"
         },
         "mode": "lines",
         "name": "WorkplaceClosures",
         "showlegend": true,
         "x": [
          "2020-04-01",
          "2020-04-02",
          "2020-04-03",
          "2020-04-04",
          "2020-04-05",
          "2020-04-06",
          "2020-04-07",
          "2020-04-08",
          "2020-04-09",
          "2020-04-10",
          "2020-04-11",
          "2020-04-12",
          "2020-04-13",
          "2020-04-14",
          "2020-04-15",
          "2020-04-16",
          "2020-04-17",
          "2020-04-18",
          "2020-04-19",
          "2020-04-20",
          "2020-04-21",
          "2020-04-22",
          "2020-04-23",
          "2020-04-24",
          "2020-04-25",
          "2020-04-26",
          "2020-04-27",
          "2020-04-28",
          "2020-04-29",
          "2020-04-30",
          "2020-05-01"
         ],
         "xaxis": "x",
         "y": [
          5,
          5,
          5,
          5,
          5,
          5,
          5,
          5,
          5,
          5,
          5,
          5,
          5,
          5,
          4,
          4,
          4,
          4,
          4,
          4,
          4,
          4,
          4,
          4,
          4,
          4,
          4,
          4,
          4,
          4,
          4
         ],
         "yaxis": "y",
         "type": "scattergl"
        },
        {
         "hovertemplate": "Regulation=WorkplaceClosuresPartial<br>Date=%{x}<br>num_countries=%{y}<extra></extra>",
         "legendgroup": "WorkplaceClosuresPartial",
         "line": {
          "color": "#ab63fa",
          "dash": "solid"
         },
         "marker": {
          "symbol": "circle"
         },
         "mode": "lines",
         "name": "WorkplaceClosuresPartial",
         "showlegend": true,
         "x": [
          "2020-04-15",
          "2020-04-16",
          "2020-04-17",
          "2020-04-18",
          "2020-04-19",
          "2020-04-20",
          "2020-04-21",
          "2020-04-22",
          "2020-04-23",
          "2020-04-24",
          "2020-04-25",
          "2020-04-26",
          "2020-04-27",
          "2020-04-28",
          "2020-04-29",
          "2020-04-30",
          "2020-05-01"
         ],
         "xaxis": "x",
         "y": [
          1,
          1,
          1,
          1,
          1,
          1,
          1,
          1,
          1,
          1,
          1,
          1,
          1,
          1,
          1,
          1,
          1
         ],
         "yaxis": "y",
         "type": "scattergl"
        }
       ],
       "layout": {
        "template": {
         "data": {
          "histogram2dcontour": [
           {
            "type": "histogram2dcontour",
            "colorbar": {
             "outlinewidth": 0,
             "ticks": ""
            },
            "colorscale": [
             [
              0.0,
              "#0d0887"
             ],
             [
              0.1111111111111111,
              "#46039f"
             ],
             [
              0.2222222222222222,
              "#7201a8"
             ],
             [
              0.3333333333333333,
              "#9c179e"
             ],
             [
              0.4444444444444444,
              "#bd3786"
             ],
             [
              0.5555555555555556,
              "#d8576b"
             ],
             [
              0.6666666666666666,
              "#ed7953"
             ],
             [
              0.7777777777777778,
              "#fb9f3a"
             ],
             [
              0.8888888888888888,
              "#fdca26"
             ],
             [
              1.0,
              "#f0f921"
             ]
            ]
           }
          ],
          "choropleth": [
           {
            "type": "choropleth",
            "colorbar": {
             "outlinewidth": 0,
             "ticks": ""
            }
           }
          ],
          "histogram2d": [
           {
            "type": "histogram2d",
            "colorbar": {
             "outlinewidth": 0,
             "ticks": ""
            },
            "colorscale": [
             [
              0.0,
              "#0d0887"
             ],
             [
              0.1111111111111111,
              "#46039f"
             ],
             [
              0.2222222222222222,
              "#7201a8"
             ],
             [
              0.3333333333333333,
              "#9c179e"
             ],
             [
              0.4444444444444444,
              "#bd3786"
             ],
             [
              0.5555555555555556,
              "#d8576b"
             ],
             [
              0.6666666666666666,
              "#ed7953"
             ],
             [
              0.7777777777777778,
              "#fb9f3a"
             ],
             [
              0.8888888888888888,
              "#fdca26"
             ],
             [
              1.0,
              "#f0f921"
             ]
            ]
           }
          ],
          "heatmap": [
           {
            "type": "heatmap",
            "colorbar": {
             "outlinewidth": 0,
             "ticks": ""
            },
            "colorscale": [
             [
              0.0,
              "#0d0887"
             ],
             [
              0.1111111111111111,
              "#46039f"
             ],
             [
              0.2222222222222222,
              "#7201a8"
             ],
             [
              0.3333333333333333,
              "#9c179e"
             ],
             [
              0.4444444444444444,
              "#bd3786"
             ],
             [
              0.5555555555555556,
              "#d8576b"
             ],
             [
              0.6666666666666666,
              "#ed7953"
             ],
             [
              0.7777777777777778,
              "#fb9f3a"
             ],
             [
              0.8888888888888888,
              "#fdca26"
             ],
             [
              1.0,
              "#f0f921"
             ]
            ]
           }
          ],
          "heatmapgl": [
           {
            "type": "heatmapgl",
            "colorbar": {
             "outlinewidth": 0,
             "ticks": ""
            },
            "colorscale": [
             [
              0.0,
              "#0d0887"
             ],
             [
              0.1111111111111111,
              "#46039f"
             ],
             [
              0.2222222222222222,
              "#7201a8"
             ],
             [
              0.3333333333333333,
              "#9c179e"
             ],
             [
              0.4444444444444444,
              "#bd3786"
             ],
             [
              0.5555555555555556,
              "#d8576b"
             ],
             [
              0.6666666666666666,
              "#ed7953"
             ],
             [
              0.7777777777777778,
              "#fb9f3a"
             ],
             [
              0.8888888888888888,
              "#fdca26"
             ],
             [
              1.0,
              "#f0f921"
             ]
            ]
           }
          ],
          "contourcarpet": [
           {
            "type": "contourcarpet",
            "colorbar": {
             "outlinewidth": 0,
             "ticks": ""
            }
           }
          ],
          "contour": [
           {
            "type": "contour",
            "colorbar": {
             "outlinewidth": 0,
             "ticks": ""
            },
            "colorscale": [
             [
              0.0,
              "#0d0887"
             ],
             [
              0.1111111111111111,
              "#46039f"
             ],
             [
              0.2222222222222222,
              "#7201a8"
             ],
             [
              0.3333333333333333,
              "#9c179e"
             ],
             [
              0.4444444444444444,
              "#bd3786"
             ],
             [
              0.5555555555555556,
              "#d8576b"
             ],
             [
              0.6666666666666666,
              "#ed7953"
             ],
             [
              0.7777777777777778,
              "#fb9f3a"
             ],
             [
              0.8888888888888888,
              "#fdca26"
             ],
             [
              1.0,
              "#f0f921"
             ]
            ]
           }
          ],
          "surface": [
           {
            "type": "surface",
            "colorbar": {
             "outlinewidth": 0,
             "ticks": ""
            },
            "colorscale": [
             [
              0.0,
              "#0d0887"
             ],
             [
              0.1111111111111111,
              "#46039f"
             ],
             [
              0.2222222222222222,
              "#7201a8"
             ],
             [
              0.3333333333333333,
              "#9c179e"
             ],
             [
              0.4444444444444444,
              "#bd3786"
             ],
             [
              0.5555555555555556,
              "#d8576b"
             ],
             [
              0.6666666666666666,
              "#ed7953"
             ],
             [
              0.7777777777777778,
              "#fb9f3a"
             ],
             [
              0.8888888888888888,
              "#fdca26"
             ],
             [
              1.0,
              "#f0f921"
             ]
            ]
           }
          ],
          "mesh3d": [
           {
            "type": "mesh3d",
            "colorbar": {
             "outlinewidth": 0,
             "ticks": ""
            }
           }
          ],
          "scatter": [
           {
            "fillpattern": {
             "fillmode": "overlay",
             "size": 10,
             "solidity": 0.2
            },
            "type": "scatter"
           }
          ],
          "parcoords": [
           {
            "type": "parcoords",
            "line": {
             "colorbar": {
              "outlinewidth": 0,
              "ticks": ""
             }
            }
           }
          ],
          "scatterpolargl": [
           {
            "type": "scatterpolargl",
            "marker": {
             "colorbar": {
              "outlinewidth": 0,
              "ticks": ""
             }
            }
           }
          ],
          "bar": [
           {
            "error_x": {
             "color": "#2a3f5f"
            },
            "error_y": {
             "color": "#2a3f5f"
            },
            "marker": {
             "line": {
              "color": "#E5ECF6",
              "width": 0.5
             },
             "pattern": {
              "fillmode": "overlay",
              "size": 10,
              "solidity": 0.2
             }
            },
            "type": "bar"
           }
          ],
          "scattergeo": [
           {
            "type": "scattergeo",
            "marker": {
             "colorbar": {
              "outlinewidth": 0,
              "ticks": ""
             }
            }
           }
          ],
          "scatterpolar": [
           {
            "type": "scatterpolar",
            "marker": {
             "colorbar": {
              "outlinewidth": 0,
              "ticks": ""
             }
            }
           }
          ],
          "histogram": [
           {
            "marker": {
             "pattern": {
              "fillmode": "overlay",
              "size": 10,
              "solidity": 0.2
             }
            },
            "type": "histogram"
           }
          ],
          "scattergl": [
           {
            "type": "scattergl",
            "marker": {
             "colorbar": {
              "outlinewidth": 0,
              "ticks": ""
             }
            }
           }
          ],
          "scatter3d": [
           {
            "type": "scatter3d",
            "line": {
             "colorbar": {
              "outlinewidth": 0,
              "ticks": ""
             }
            },
            "marker": {
             "colorbar": {
              "outlinewidth": 0,
              "ticks": ""
             }
            }
           }
          ],
          "scattermapbox": [
           {
            "type": "scattermapbox",
            "marker": {
             "colorbar": {
              "outlinewidth": 0,
              "ticks": ""
             }
            }
           }
          ],
          "scatterternary": [
           {
            "type": "scatterternary",
            "marker": {
             "colorbar": {
              "outlinewidth": 0,
              "ticks": ""
             }
            }
           }
          ],
          "scattercarpet": [
           {
            "type": "scattercarpet",
            "marker": {
             "colorbar": {
              "outlinewidth": 0,
              "ticks": ""
             }
            }
           }
          ],
          "carpet": [
           {
            "aaxis": {
             "endlinecolor": "#2a3f5f",
             "gridcolor": "white",
             "linecolor": "white",
             "minorgridcolor": "white",
             "startlinecolor": "#2a3f5f"
            },
            "baxis": {
             "endlinecolor": "#2a3f5f",
             "gridcolor": "white",
             "linecolor": "white",
             "minorgridcolor": "white",
             "startlinecolor": "#2a3f5f"
            },
            "type": "carpet"
           }
          ],
          "table": [
           {
            "cells": {
             "fill": {
              "color": "#EBF0F8"
             },
             "line": {
              "color": "white"
             }
            },
            "header": {
             "fill": {
              "color": "#C8D4E3"
             },
             "line": {
              "color": "white"
             }
            },
            "type": "table"
           }
          ],
          "barpolar": [
           {
            "marker": {
             "line": {
              "color": "#E5ECF6",
              "width": 0.5
             },
             "pattern": {
              "fillmode": "overlay",
              "size": 10,
              "solidity": 0.2
             }
            },
            "type": "barpolar"
           }
          ],
          "pie": [
           {
            "automargin": true,
            "type": "pie"
           }
          ]
         },
         "layout": {
          "autotypenumbers": "strict",
          "colorway": [
           "#636efa",
           "#EF553B",
           "#00cc96",
           "#ab63fa",
           "#FFA15A",
           "#19d3f3",
           "#FF6692",
           "#B6E880",
           "#FF97FF",
           "#FECB52"
          ],
          "font": {
           "color": "#2a3f5f"
          },
          "hovermode": "closest",
          "hoverlabel": {
           "align": "left"
          },
          "paper_bgcolor": "white",
          "plot_bgcolor": "#E5ECF6",
          "polar": {
           "bgcolor": "#E5ECF6",
           "angularaxis": {
            "gridcolor": "white",
            "linecolor": "white",
            "ticks": ""
           },
           "radialaxis": {
            "gridcolor": "white",
            "linecolor": "white",
            "ticks": ""
           }
          },
          "ternary": {
           "bgcolor": "#E5ECF6",
           "aaxis": {
            "gridcolor": "white",
            "linecolor": "white",
            "ticks": ""
           },
           "baxis": {
            "gridcolor": "white",
            "linecolor": "white",
            "ticks": ""
           },
           "caxis": {
            "gridcolor": "white",
            "linecolor": "white",
            "ticks": ""
           }
          },
          "coloraxis": {
           "colorbar": {
            "outlinewidth": 0,
            "ticks": ""
           }
          },
          "colorscale": {
           "sequential": [
            [
             0.0,
             "#0d0887"
            ],
            [
             0.1111111111111111,
             "#46039f"
            ],
            [
             0.2222222222222222,
             "#7201a8"
            ],
            [
             0.3333333333333333,
             "#9c179e"
            ],
            [
             0.4444444444444444,
             "#bd3786"
            ],
            [
             0.5555555555555556,
             "#d8576b"
            ],
            [
             0.6666666666666666,
             "#ed7953"
            ],
            [
             0.7777777777777778,
             "#fb9f3a"
            ],
            [
             0.8888888888888888,
             "#fdca26"
            ],
            [
             1.0,
             "#f0f921"
            ]
           ],
           "sequentialminus": [
            [
             0.0,
             "#0d0887"
            ],
            [
             0.1111111111111111,
             "#46039f"
            ],
            [
             0.2222222222222222,
             "#7201a8"
            ],
            [
             0.3333333333333333,
             "#9c179e"
            ],
            [
             0.4444444444444444,
             "#bd3786"
            ],
            [
             0.5555555555555556,
             "#d8576b"
            ],
            [
             0.6666666666666666,
             "#ed7953"
            ],
            [
             0.7777777777777778,
             "#fb9f3a"
            ],
            [
             0.8888888888888888,
             "#fdca26"
            ],
            [
             1.0,
             "#f0f921"
            ]
           ],
           "diverging": [
            [
             0,
             "#8e0152"
            ],
            [
             0.1,
             "#c51b7d"
            ],
            [
             0.2,
             "#de77ae"
            ],
            [
             0.3,
             "#f1b6da"
            ],
            [
             0.4,
             "#fde0ef"
            ],
            [
             0.5,
             "#f7f7f7"
            ],
            [
             0.6,
             "#e6f5d0"
            ],
            [
             0.7,
             "#b8e186"
            ],
            [
             0.8,
             "#7fbc41"
            ],
            [
             0.9,
             "#4d9221"
            ],
            [
             1,
             "#276419"
            ]
           ]
          },
          "xaxis": {
           "gridcolor": "white",
           "linecolor": "white",
           "ticks": "",
           "title": {
            "standoff": 15
           },
           "zerolinecolor": "white",
           "automargin": true,
           "zerolinewidth": 2
          },
          "yaxis": {
           "gridcolor": "white",
           "linecolor": "white",
           "ticks": "",
           "title": {
            "standoff": 15
           },
           "zerolinecolor": "white",
           "automargin": true,
           "zerolinewidth": 2
          },
          "scene": {
           "xaxis": {
            "backgroundcolor": "#E5ECF6",
            "gridcolor": "white",
            "linecolor": "white",
            "showbackground": true,
            "ticks": "",
            "zerolinecolor": "white",
            "gridwidth": 2
           },
           "yaxis": {
            "backgroundcolor": "#E5ECF6",
            "gridcolor": "white",
            "linecolor": "white",
            "showbackground": true,
            "ticks": "",
            "zerolinecolor": "white",
            "gridwidth": 2
           },
           "zaxis": {
            "backgroundcolor": "#E5ECF6",
            "gridcolor": "white",
            "linecolor": "white",
            "showbackground": true,
            "ticks": "",
            "zerolinecolor": "white",
            "gridwidth": 2
           }
          },
          "shapedefaults": {
           "line": {
            "color": "#2a3f5f"
           }
          },
          "annotationdefaults": {
           "arrowcolor": "#2a3f5f",
           "arrowhead": 0,
           "arrowwidth": 1
          },
          "geo": {
           "bgcolor": "white",
           "landcolor": "#E5ECF6",
           "subunitcolor": "white",
           "showland": true,
           "showlakes": true,
           "lakecolor": "white"
          },
          "title": {
           "x": 0.05
          },
          "mapbox": {
           "style": "light"
          }
         }
        },
        "xaxis": {
         "anchor": "y",
         "domain": [
          0.0,
          1.0
         ],
         "title": {
          "text": "Date"
         }
        },
        "yaxis": {
         "anchor": "x",
         "domain": [
          0.0,
          1.0
         ],
         "title": {
          "text": "num_countries"
         }
        },
        "legend": {
         "title": {
          "text": "Regulation"
         },
         "tracegroupgap": 0
        },
        "margin": {
         "t": 60
        }
       },
       "config": {
        "plotlyServerURL": "https://plot.ly"
       }
      },
      "text/html": "<div>                            <div id=\"213d15b3-d924-43cd-836c-4898ec7cd468\" class=\"plotly-graph-div\" style=\"height:525px; width:100%;\"></div>            <script type=\"text/javascript\">                require([\"plotly\"], function(Plotly) {                    window.PLOTLYENV=window.PLOTLYENV || {};                                    if (document.getElementById(\"213d15b3-d924-43cd-836c-4898ec7cd468\")) {                    Plotly.newPlot(                        \"213d15b3-d924-43cd-836c-4898ec7cd468\",                        [{\"hovertemplate\":\"Regulation=AdaptationOfWorkplace<br>Date=%{x}<br>num_countries=%{y}<extra></extra>\",\"legendgroup\":\"AdaptationOfWorkplace\",\"line\":{\"color\":\"#636efa\",\"dash\":\"solid\"},\"marker\":{\"symbol\":\"circle\"},\"mode\":\"lines\",\"name\":\"AdaptationOfWorkplace\",\"showlegend\":true,\"x\":[\"2020-04-01\",\"2020-04-02\",\"2020-04-03\",\"2020-04-04\",\"2020-04-05\",\"2020-04-06\",\"2020-04-07\",\"2020-04-08\",\"2020-04-09\",\"2020-04-10\",\"2020-04-11\",\"2020-04-12\",\"2020-04-13\",\"2020-04-14\",\"2020-04-15\",\"2020-04-16\",\"2020-04-17\",\"2020-04-18\",\"2020-04-19\",\"2020-04-20\",\"2020-04-21\",\"2020-04-22\",\"2020-04-23\",\"2020-04-24\",\"2020-04-25\",\"2020-04-26\",\"2020-04-27\",\"2020-04-28\",\"2020-04-29\",\"2020-04-30\",\"2020-05-01\"],\"xaxis\":\"x\",\"y\":[5,6,6,6,6,6,6,6,6,6,6,6,6,5,5,5,5,5,5,5,5,5,5,5,5,5,5,5,5,5,5],\"yaxis\":\"y\",\"type\":\"scattergl\"},{\"hovertemplate\":\"Regulation=AdaptationOfWorkplacePartial<br>Date=%{x}<br>num_countries=%{y}<extra></extra>\",\"legendgroup\":\"AdaptationOfWorkplacePartial\",\"line\":{\"color\":\"#EF553B\",\"dash\":\"solid\"},\"marker\":{\"symbol\":\"circle\"},\"mode\":\"lines\",\"name\":\"AdaptationOfWorkplacePartial\",\"showlegend\":true,\"x\":[\"2020-04-01\",\"2020-04-02\",\"2020-04-03\",\"2020-04-04\",\"2020-04-05\",\"2020-04-06\",\"2020-04-07\",\"2020-04-08\",\"2020-04-09\",\"2020-04-10\",\"2020-04-11\",\"2020-04-12\",\"2020-04-13\",\"2020-04-14\",\"2020-04-15\",\"2020-04-16\",\"2020-04-17\",\"2020-04-18\",\"2020-04-19\",\"2020-04-20\",\"2020-04-21\",\"2020-04-22\",\"2020-04-23\",\"2020-04-24\",\"2020-04-25\",\"2020-04-26\",\"2020-04-27\",\"2020-04-28\",\"2020-04-29\",\"2020-04-30\",\"2020-05-01\"],\"xaxis\":\"x\",\"y\":[2,2,2,2,2,2,2,2,2,2,2,2,2,2,2,2,2,2,2,2,2,2,2,2,2,2,2,2,2,2,2],\"yaxis\":\"y\",\"type\":\"scattergl\"},{\"hovertemplate\":\"Regulation=BanOnAllEvents<br>Date=%{x}<br>num_countries=%{y}<extra></extra>\",\"legendgroup\":\"BanOnAllEvents\",\"line\":{\"color\":\"#00cc96\",\"dash\":\"solid\"},\"marker\":{\"symbol\":\"circle\"},\"mode\":\"lines\",\"name\":\"BanOnAllEvents\",\"showlegend\":true,\"x\":[\"2020-04-01\",\"2020-04-02\",\"2020-04-03\",\"2020-04-04\",\"2020-04-05\",\"2020-04-06\",\"2020-04-07\",\"2020-04-08\",\"2020-04-09\",\"2020-04-10\",\"2020-04-11\",\"2020-04-12\",\"2020-04-13\",\"2020-04-14\",\"2020-04-15\",\"2020-04-16\",\"2020-04-17\",\"2020-04-18\",\"2020-04-19\",\"2020-04-20\",\"2020-04-21\",\"2020-04-22\",\"2020-04-23\",\"2020-04-24\",\"2020-04-25\",\"2020-04-26\",\"2020-04-27\",\"2020-04-28\",\"2020-04-29\",\"2020-04-30\",\"2020-05-01\"],\"xaxis\":\"x\",\"y\":[17,17,17,17,17,17,17,17,17,17,17,17,17,17,17,17,17,17,17,17,17,17,17,17,17,17,17,17,17,17,17],\"yaxis\":\"y\",\"type\":\"scattergl\"},{\"hovertemplate\":\"Regulation=BanOnAllEventsPartial<br>Date=%{x}<br>num_countries=%{y}<extra></extra>\",\"legendgroup\":\"BanOnAllEventsPartial\",\"line\":{\"color\":\"#ab63fa\",\"dash\":\"solid\"},\"marker\":{\"symbol\":\"circle\"},\"mode\":\"lines\",\"name\":\"BanOnAllEventsPartial\",\"showlegend\":true,\"x\":[\"2020-04-01\",\"2020-04-02\",\"2020-04-03\",\"2020-04-04\",\"2020-04-05\",\"2020-04-06\",\"2020-04-07\",\"2020-04-08\",\"2020-04-09\",\"2020-04-10\",\"2020-04-11\",\"2020-04-12\",\"2020-04-13\",\"2020-04-14\",\"2020-04-15\",\"2020-04-16\",\"2020-04-17\",\"2020-04-18\",\"2020-04-19\",\"2020-04-20\",\"2020-04-21\",\"2020-04-22\",\"2020-04-23\",\"2020-04-24\",\"2020-04-25\",\"2020-04-26\",\"2020-04-27\",\"2020-04-28\",\"2020-04-29\",\"2020-04-30\",\"2020-05-01\"],\"xaxis\":\"x\",\"y\":[1,1,1,1,1,1,1,1,1,1,1,1,1,1,1,1,1,1,1,1,1,1,1,1,1,1,1,1,1,1,1],\"yaxis\":\"y\",\"type\":\"scattergl\"},{\"hovertemplate\":\"Regulation=ClosDaycare<br>Date=%{x}<br>num_countries=%{y}<extra></extra>\",\"legendgroup\":\"ClosDaycare\",\"line\":{\"color\":\"#FFA15A\",\"dash\":\"solid\"},\"marker\":{\"symbol\":\"circle\"},\"mode\":\"lines\",\"name\":\"ClosDaycare\",\"showlegend\":true,\"x\":[\"2020-04-01\",\"2020-04-02\",\"2020-04-03\",\"2020-04-04\",\"2020-04-05\",\"2020-04-06\",\"2020-04-07\",\"2020-04-08\",\"2020-04-09\",\"2020-04-10\",\"2020-04-11\",\"2020-04-12\",\"2020-04-13\",\"2020-04-14\",\"2020-04-15\",\"2020-04-16\",\"2020-04-17\",\"2020-04-18\",\"2020-04-19\",\"2020-04-20\",\"2020-04-21\",\"2020-04-22\",\"2020-04-23\",\"2020-04-24\",\"2020-04-25\",\"2020-04-26\",\"2020-04-27\",\"2020-04-28\",\"2020-04-29\",\"2020-04-30\",\"2020-05-01\"],\"xaxis\":\"x\",\"y\":[24,24,24,24,24,24,24,24,24,24,24,24,24,24,24,23,23,23,23,23,22,22,22,22,22,22,21,21,21,21,21],\"yaxis\":\"y\",\"type\":\"scattergl\"},{\"hovertemplate\":\"Regulation=ClosDaycarePartial<br>Date=%{x}<br>num_countries=%{y}<extra></extra>\",\"legendgroup\":\"ClosDaycarePartial\",\"line\":{\"color\":\"#19d3f3\",\"dash\":\"solid\"},\"marker\":{\"symbol\":\"circle\"},\"mode\":\"lines\",\"name\":\"ClosDaycarePartial\",\"showlegend\":true,\"x\":[\"2020-04-27\",\"2020-04-28\",\"2020-04-29\",\"2020-04-30\",\"2020-05-01\"],\"xaxis\":\"x\",\"y\":[1,1,1,1,1],\"yaxis\":\"y\",\"type\":\"scattergl\"},{\"hovertemplate\":\"Regulation=ClosHigh<br>Date=%{x}<br>num_countries=%{y}<extra></extra>\",\"legendgroup\":\"ClosHigh\",\"line\":{\"color\":\"#FF6692\",\"dash\":\"solid\"},\"marker\":{\"symbol\":\"circle\"},\"mode\":\"lines\",\"name\":\"ClosHigh\",\"showlegend\":true,\"x\":[\"2020-04-01\",\"2020-04-02\",\"2020-04-03\",\"2020-04-04\",\"2020-04-05\",\"2020-04-06\",\"2020-04-07\",\"2020-04-08\",\"2020-04-09\",\"2020-04-10\",\"2020-04-11\",\"2020-04-12\",\"2020-04-13\",\"2020-04-14\",\"2020-04-15\",\"2020-04-16\",\"2020-04-17\",\"2020-04-18\",\"2020-04-19\",\"2020-04-20\",\"2020-04-21\",\"2020-04-22\",\"2020-04-23\",\"2020-04-24\",\"2020-04-25\",\"2020-04-26\",\"2020-04-27\",\"2020-04-28\",\"2020-04-29\",\"2020-04-30\",\"2020-05-01\"],\"xaxis\":\"x\",\"y\":[28,28,28,28,28,28,28,28,28,28,28,28,28,28,28,28,28,28,28,28,28,28,28,28,28,28,28,28,28,28,28],\"yaxis\":\"y\",\"type\":\"scattergl\"},{\"hovertemplate\":\"Regulation=ClosHighPartial<br>Date=%{x}<br>num_countries=%{y}<extra></extra>\",\"legendgroup\":\"ClosHighPartial\",\"line\":{\"color\":\"#B6E880\",\"dash\":\"solid\"},\"marker\":{\"symbol\":\"circle\"},\"mode\":\"lines\",\"name\":\"ClosHighPartial\",\"showlegend\":true,\"x\":[\"2020-04-01\",\"2020-04-02\",\"2020-04-03\",\"2020-04-04\",\"2020-04-05\",\"2020-04-06\",\"2020-04-07\",\"2020-04-08\",\"2020-04-09\",\"2020-04-10\",\"2020-04-11\",\"2020-04-12\",\"2020-04-13\",\"2020-04-14\",\"2020-04-15\",\"2020-04-16\",\"2020-04-17\",\"2020-04-18\",\"2020-04-19\",\"2020-04-20\",\"2020-04-21\",\"2020-04-22\",\"2020-04-23\",\"2020-04-24\",\"2020-04-25\",\"2020-04-26\",\"2020-04-27\",\"2020-04-28\",\"2020-04-29\",\"2020-04-30\",\"2020-05-01\"],\"xaxis\":\"x\",\"y\":[1,1,1,1,1,1,1,1,1,1,1,1,1,1,1,1,1,1,1,1,1,1,1,1,1,1,1,1,1,1,1],\"yaxis\":\"y\",\"type\":\"scattergl\"},{\"hovertemplate\":\"Regulation=ClosPrim<br>Date=%{x}<br>num_countries=%{y}<extra></extra>\",\"legendgroup\":\"ClosPrim\",\"line\":{\"color\":\"#FF97FF\",\"dash\":\"solid\"},\"marker\":{\"symbol\":\"circle\"},\"mode\":\"lines\",\"name\":\"ClosPrim\",\"showlegend\":true,\"x\":[\"2020-04-01\",\"2020-04-02\",\"2020-04-03\",\"2020-04-04\",\"2020-04-05\",\"2020-04-06\",\"2020-04-07\",\"2020-04-08\",\"2020-04-09\",\"2020-04-10\",\"2020-04-11\",\"2020-04-12\",\"2020-04-13\",\"2020-04-14\",\"2020-04-15\",\"2020-04-16\",\"2020-04-17\",\"2020-04-18\",\"2020-04-19\",\"2020-04-20\",\"2020-04-21\",\"2020-04-22\",\"2020-04-23\",\"2020-04-24\",\"2020-04-25\",\"2020-04-26\",\"2020-04-27\",\"2020-04-28\",\"2020-04-29\",\"2020-04-30\",\"2020-05-01\"],\"xaxis\":\"x\",\"y\":[25,25,25,25,25,25,25,25,25,25,25,25,25,25,25,24,24,24,24,24,24,24,24,24,24,24,23,23,23,23,23],\"yaxis\":\"y\",\"type\":\"scattergl\"},{\"hovertemplate\":\"Regulation=ClosPrimPartial<br>Date=%{x}<br>num_countries=%{y}<extra></extra>\",\"legendgroup\":\"ClosPrimPartial\",\"line\":{\"color\":\"#FECB52\",\"dash\":\"solid\"},\"marker\":{\"symbol\":\"circle\"},\"mode\":\"lines\",\"name\":\"ClosPrimPartial\",\"showlegend\":true,\"x\":[\"2020-04-01\",\"2020-04-02\",\"2020-04-03\",\"2020-04-04\",\"2020-04-05\",\"2020-04-06\",\"2020-04-07\",\"2020-04-08\",\"2020-04-09\",\"2020-04-10\",\"2020-04-11\",\"2020-04-12\",\"2020-04-13\",\"2020-04-14\",\"2020-04-15\",\"2020-04-16\",\"2020-04-17\",\"2020-04-18\",\"2020-04-19\",\"2020-04-20\",\"2020-04-21\",\"2020-04-22\",\"2020-04-23\",\"2020-04-24\",\"2020-04-25\",\"2020-04-26\",\"2020-04-27\",\"2020-04-28\",\"2020-04-29\",\"2020-04-30\",\"2020-05-01\"],\"xaxis\":\"x\",\"y\":[2,2,2,2,2,2,2,2,2,2,2,2,2,2,2,2,2,2,2,2,2,2,2,2,2,2,2,2,2,2,2],\"yaxis\":\"y\",\"type\":\"scattergl\"},{\"hovertemplate\":\"Regulation=ClosPubAny<br>Date=%{x}<br>num_countries=%{y}<extra></extra>\",\"legendgroup\":\"ClosPubAny\",\"line\":{\"color\":\"#636efa\",\"dash\":\"solid\"},\"marker\":{\"symbol\":\"circle\"},\"mode\":\"lines\",\"name\":\"ClosPubAny\",\"showlegend\":true,\"x\":[\"2020-04-01\",\"2020-04-02\",\"2020-04-03\",\"2020-04-04\",\"2020-04-05\",\"2020-04-06\",\"2020-04-07\",\"2020-04-08\",\"2020-04-09\",\"2020-04-10\",\"2020-04-11\",\"2020-04-12\",\"2020-04-13\",\"2020-04-14\",\"2020-04-15\",\"2020-04-16\",\"2020-04-17\",\"2020-04-18\",\"2020-04-19\",\"2020-04-20\",\"2020-04-21\",\"2020-04-22\",\"2020-04-23\",\"2020-04-24\",\"2020-04-25\",\"2020-04-26\",\"2020-04-27\",\"2020-04-28\",\"2020-04-29\",\"2020-04-30\",\"2020-05-01\"],\"xaxis\":\"x\",\"y\":[15,15,14,14,14,14,14,14,14,14,14,14,14,13,13,13,13,13,13,13,13,13,13,12,12,12,12,12,11,11,11],\"yaxis\":\"y\",\"type\":\"scattergl\"},{\"hovertemplate\":\"Regulation=ClosPubAnyPartial<br>Date=%{x}<br>num_countries=%{y}<extra></extra>\",\"legendgroup\":\"ClosPubAnyPartial\",\"line\":{\"color\":\"#EF553B\",\"dash\":\"solid\"},\"marker\":{\"symbol\":\"circle\"},\"mode\":\"lines\",\"name\":\"ClosPubAnyPartial\",\"showlegend\":true,\"x\":[\"2020-04-01\",\"2020-04-02\",\"2020-04-03\",\"2020-04-04\",\"2020-04-05\",\"2020-04-06\",\"2020-04-07\",\"2020-04-08\",\"2020-04-09\",\"2020-04-10\",\"2020-04-11\",\"2020-04-12\",\"2020-04-13\",\"2020-04-14\",\"2020-04-15\",\"2020-04-16\",\"2020-04-17\",\"2020-04-18\",\"2020-04-19\",\"2020-04-20\",\"2020-04-21\",\"2020-04-22\",\"2020-04-23\",\"2020-04-24\",\"2020-04-25\",\"2020-04-26\",\"2020-04-27\",\"2020-04-28\",\"2020-04-29\",\"2020-04-30\",\"2020-05-01\"],\"xaxis\":\"x\",\"y\":[14,14,15,15,15,15,15,15,15,15,15,15,15,16,16,16,16,16,16,16,16,16,16,17,17,17,17,17,18,18,18],\"yaxis\":\"y\",\"type\":\"scattergl\"},{\"hovertemplate\":\"Regulation=ClosSec<br>Date=%{x}<br>num_countries=%{y}<extra></extra>\",\"legendgroup\":\"ClosSec\",\"line\":{\"color\":\"#00cc96\",\"dash\":\"solid\"},\"marker\":{\"symbol\":\"circle\"},\"mode\":\"lines\",\"name\":\"ClosSec\",\"showlegend\":true,\"x\":[\"2020-04-01\",\"2020-04-02\",\"2020-04-03\",\"2020-04-04\",\"2020-04-05\",\"2020-04-06\",\"2020-04-07\",\"2020-04-08\",\"2020-04-09\",\"2020-04-10\",\"2020-04-11\",\"2020-04-12\",\"2020-04-13\",\"2020-04-14\",\"2020-04-15\",\"2020-04-16\",\"2020-04-17\",\"2020-04-18\",\"2020-04-19\",\"2020-04-20\",\"2020-04-21\",\"2020-04-22\",\"2020-04-23\",\"2020-04-24\",\"2020-04-25\",\"2020-04-26\",\"2020-04-27\",\"2020-04-28\",\"2020-04-29\",\"2020-04-30\",\"2020-05-01\"],\"xaxis\":\"x\",\"y\":[26,26,26,26,26,26,26,26,26,26,26,26,26,26,26,26,26,26,26,26,26,26,26,26,26,26,26,26,26,26,26],\"yaxis\":\"y\",\"type\":\"scattergl\"},{\"hovertemplate\":\"Regulation=ClosSecPartial<br>Date=%{x}<br>num_countries=%{y}<extra></extra>\",\"legendgroup\":\"ClosSecPartial\",\"line\":{\"color\":\"#ab63fa\",\"dash\":\"solid\"},\"marker\":{\"symbol\":\"circle\"},\"mode\":\"lines\",\"name\":\"ClosSecPartial\",\"showlegend\":true,\"x\":[\"2020-04-01\",\"2020-04-02\",\"2020-04-03\",\"2020-04-04\",\"2020-04-05\",\"2020-04-06\",\"2020-04-07\",\"2020-04-08\",\"2020-04-09\",\"2020-04-10\",\"2020-04-11\",\"2020-04-12\",\"2020-04-13\",\"2020-04-14\",\"2020-04-15\",\"2020-04-16\",\"2020-04-17\",\"2020-04-18\",\"2020-04-19\",\"2020-04-20\",\"2020-04-21\",\"2020-04-22\",\"2020-04-23\",\"2020-04-24\",\"2020-04-25\",\"2020-04-26\",\"2020-04-27\",\"2020-04-28\",\"2020-04-29\",\"2020-04-30\",\"2020-05-01\"],\"xaxis\":\"x\",\"y\":[3,3,3,3,3,3,3,3,3,3,3,3,3,3,3,3,3,3,3,3,3,3,3,3,3,3,3,3,3,3,3],\"yaxis\":\"y\",\"type\":\"scattergl\"},{\"hovertemplate\":\"Regulation=ClosureOfPublicTransport<br>Date=%{x}<br>num_countries=%{y}<extra></extra>\",\"legendgroup\":\"ClosureOfPublicTransport\",\"line\":{\"color\":\"#FFA15A\",\"dash\":\"solid\"},\"marker\":{\"symbol\":\"circle\"},\"mode\":\"lines\",\"name\":\"ClosureOfPublicTransport\",\"showlegend\":true,\"x\":[\"2020-04-01\",\"2020-04-02\",\"2020-04-03\",\"2020-04-04\",\"2020-04-05\",\"2020-04-06\",\"2020-04-07\",\"2020-04-08\",\"2020-04-09\",\"2020-04-10\",\"2020-04-11\",\"2020-04-12\",\"2020-04-13\",\"2020-04-14\",\"2020-04-15\",\"2020-04-16\",\"2020-04-17\",\"2020-04-18\",\"2020-04-19\",\"2020-04-20\",\"2020-04-21\",\"2020-04-22\",\"2020-04-23\",\"2020-04-24\",\"2020-04-25\",\"2020-04-26\",\"2020-04-27\",\"2020-04-28\",\"2020-04-29\",\"2020-04-30\"],\"xaxis\":\"x\",\"y\":[2,2,2,2,2,2,2,2,2,2,2,2,2,2,2,2,2,2,2,2,2,2,2,2,2,2,2,1,1,1],\"yaxis\":\"y\",\"type\":\"scattergl\"},{\"hovertemplate\":\"Regulation=ClosureOfPublicTransportPartial<br>Date=%{x}<br>num_countries=%{y}<extra></extra>\",\"legendgroup\":\"ClosureOfPublicTransportPartial\",\"line\":{\"color\":\"#19d3f3\",\"dash\":\"solid\"},\"marker\":{\"symbol\":\"circle\"},\"mode\":\"lines\",\"name\":\"ClosureOfPublicTransportPartial\",\"showlegend\":true,\"x\":[\"2020-04-01\",\"2020-04-02\",\"2020-04-03\",\"2020-04-04\",\"2020-04-05\",\"2020-04-06\",\"2020-04-07\",\"2020-04-08\",\"2020-04-09\",\"2020-04-10\",\"2020-04-11\",\"2020-04-12\",\"2020-04-13\",\"2020-04-14\",\"2020-04-15\",\"2020-04-16\",\"2020-04-17\",\"2020-04-18\",\"2020-04-19\",\"2020-04-20\",\"2020-04-21\",\"2020-04-22\",\"2020-04-23\",\"2020-04-24\",\"2020-04-25\",\"2020-04-26\",\"2020-04-27\",\"2020-04-28\",\"2020-04-29\",\"2020-04-30\",\"2020-05-01\"],\"xaxis\":\"x\",\"y\":[6,6,6,6,6,6,6,6,6,6,6,6,6,6,6,6,6,6,6,6,6,6,6,6,6,6,6,6,6,6,6],\"yaxis\":\"y\",\"type\":\"scattergl\"},{\"hovertemplate\":\"Regulation=EntertainmentVenues<br>Date=%{x}<br>num_countries=%{y}<extra></extra>\",\"legendgroup\":\"EntertainmentVenues\",\"line\":{\"color\":\"#FF6692\",\"dash\":\"solid\"},\"marker\":{\"symbol\":\"circle\"},\"mode\":\"lines\",\"name\":\"EntertainmentVenues\",\"showlegend\":true,\"x\":[\"2020-04-01\",\"2020-04-02\",\"2020-04-03\",\"2020-04-04\",\"2020-04-05\",\"2020-04-06\",\"2020-04-07\",\"2020-04-08\",\"2020-04-09\",\"2020-04-10\",\"2020-04-11\",\"2020-04-12\",\"2020-04-13\",\"2020-04-14\",\"2020-04-15\",\"2020-04-16\",\"2020-04-17\",\"2020-04-18\",\"2020-04-19\",\"2020-04-20\",\"2020-04-21\",\"2020-04-22\",\"2020-04-23\",\"2020-04-24\",\"2020-04-25\",\"2020-04-26\",\"2020-04-27\",\"2020-04-28\",\"2020-04-29\",\"2020-04-30\",\"2020-05-01\"],\"xaxis\":\"x\",\"y\":[28,28,28,28,28,28,28,28,28,28,28,28,28,28,28,28,28,28,28,28,28,28,28,28,28,28,27,27,26,26,25],\"yaxis\":\"y\",\"type\":\"scattergl\"},{\"hovertemplate\":\"Regulation=EntertainmentVenuesPartial<br>Date=%{x}<br>num_countries=%{y}<extra></extra>\",\"legendgroup\":\"EntertainmentVenuesPartial\",\"line\":{\"color\":\"#B6E880\",\"dash\":\"solid\"},\"marker\":{\"symbol\":\"circle\"},\"mode\":\"lines\",\"name\":\"EntertainmentVenuesPartial\",\"showlegend\":true,\"x\":[\"2020-04-01\",\"2020-04-02\",\"2020-04-03\",\"2020-04-04\",\"2020-04-05\",\"2020-04-06\",\"2020-04-07\",\"2020-04-08\",\"2020-04-09\",\"2020-04-10\",\"2020-04-11\",\"2020-04-12\",\"2020-04-13\",\"2020-04-14\",\"2020-04-15\",\"2020-04-16\",\"2020-04-17\",\"2020-04-18\",\"2020-04-19\",\"2020-04-20\",\"2020-04-21\",\"2020-04-22\",\"2020-04-23\",\"2020-04-24\",\"2020-04-25\",\"2020-04-26\",\"2020-04-27\",\"2020-04-28\",\"2020-04-29\",\"2020-04-30\",\"2020-05-01\"],\"xaxis\":\"x\",\"y\":[1,1,1,1,1,1,1,1,1,1,1,1,1,1,1,1,1,1,1,1,1,1,1,1,1,1,2,2,3,3,3],\"yaxis\":\"y\",\"type\":\"scattergl\"},{\"hovertemplate\":\"Regulation=GymsSportsCentres<br>Date=%{x}<br>num_countries=%{y}<extra></extra>\",\"legendgroup\":\"GymsSportsCentres\",\"line\":{\"color\":\"#FF97FF\",\"dash\":\"solid\"},\"marker\":{\"symbol\":\"circle\"},\"mode\":\"lines\",\"name\":\"GymsSportsCentres\",\"showlegend\":true,\"x\":[\"2020-04-01\",\"2020-04-02\",\"2020-04-03\",\"2020-04-04\",\"2020-04-05\",\"2020-04-06\",\"2020-04-07\",\"2020-04-08\",\"2020-04-09\",\"2020-04-10\",\"2020-04-11\",\"2020-04-12\",\"2020-04-13\",\"2020-04-14\",\"2020-04-15\",\"2020-04-16\",\"2020-04-17\",\"2020-04-18\",\"2020-04-19\",\"2020-04-20\",\"2020-04-21\",\"2020-04-22\",\"2020-04-23\",\"2020-04-24\",\"2020-04-25\",\"2020-04-26\",\"2020-04-27\",\"2020-04-28\",\"2020-04-29\",\"2020-04-30\",\"2020-05-01\"],\"xaxis\":\"x\",\"y\":[23,23,23,23,23,23,23,23,23,23,23,23,23,23,23,23,23,23,23,23,23,23,23,22,22,22,21,21,20,20,20],\"yaxis\":\"y\",\"type\":\"scattergl\"},{\"hovertemplate\":\"Regulation=GymsSportsCentresPartial<br>Date=%{x}<br>num_countries=%{y}<extra></extra>\",\"legendgroup\":\"GymsSportsCentresPartial\",\"line\":{\"color\":\"#FECB52\",\"dash\":\"solid\"},\"marker\":{\"symbol\":\"circle\"},\"mode\":\"lines\",\"name\":\"GymsSportsCentresPartial\",\"showlegend\":true,\"x\":[\"2020-04-01\",\"2020-04-02\",\"2020-04-03\",\"2020-04-04\",\"2020-04-05\",\"2020-04-06\",\"2020-04-07\",\"2020-04-08\",\"2020-04-09\",\"2020-04-10\",\"2020-04-11\",\"2020-04-12\",\"2020-04-13\",\"2020-04-14\",\"2020-04-15\",\"2020-04-16\",\"2020-04-17\",\"2020-04-18\",\"2020-04-19\",\"2020-04-20\",\"2020-04-21\",\"2020-04-22\",\"2020-04-23\",\"2020-04-24\",\"2020-04-25\",\"2020-04-26\",\"2020-04-27\",\"2020-04-28\",\"2020-04-29\",\"2020-04-30\",\"2020-05-01\"],\"xaxis\":\"x\",\"y\":[3,3,3,3,3,3,3,3,3,3,3,3,3,3,3,3,3,3,3,3,3,3,3,4,4,4,5,5,6,6,6],\"yaxis\":\"y\",\"type\":\"scattergl\"},{\"hovertemplate\":\"Regulation=HotelsOtherAccommodation<br>Date=%{x}<br>num_countries=%{y}<extra></extra>\",\"legendgroup\":\"HotelsOtherAccommodation\",\"line\":{\"color\":\"#636efa\",\"dash\":\"solid\"},\"marker\":{\"symbol\":\"circle\"},\"mode\":\"lines\",\"name\":\"HotelsOtherAccommodation\",\"showlegend\":true,\"x\":[\"2020-04-01\",\"2020-04-02\",\"2020-04-03\",\"2020-04-04\",\"2020-04-05\",\"2020-04-06\",\"2020-04-07\",\"2020-04-08\",\"2020-04-09\",\"2020-04-10\",\"2020-04-11\",\"2020-04-12\",\"2020-04-13\",\"2020-04-14\",\"2020-04-15\",\"2020-04-16\",\"2020-04-17\",\"2020-04-18\",\"2020-04-19\",\"2020-04-20\",\"2020-04-21\",\"2020-04-22\",\"2020-04-23\",\"2020-04-24\",\"2020-04-25\",\"2020-04-26\",\"2020-04-27\",\"2020-04-28\",\"2020-04-29\",\"2020-04-30\",\"2020-05-01\"],\"xaxis\":\"x\",\"y\":[8,8,8,8,8,8,8,8,8,8,8,8,8,8,8,8,8,8,8,8,8,8,8,8,8,8,8,8,8,8,8],\"yaxis\":\"y\",\"type\":\"scattergl\"},{\"hovertemplate\":\"Regulation=HotelsOtherAccommodationPartial<br>Date=%{x}<br>num_countries=%{y}<extra></extra>\",\"legendgroup\":\"HotelsOtherAccommodationPartial\",\"line\":{\"color\":\"#EF553B\",\"dash\":\"solid\"},\"marker\":{\"symbol\":\"circle\"},\"mode\":\"lines\",\"name\":\"HotelsOtherAccommodationPartial\",\"showlegend\":true,\"x\":[\"2020-04-01\",\"2020-04-02\",\"2020-04-03\",\"2020-04-04\",\"2020-04-05\",\"2020-04-06\",\"2020-04-07\",\"2020-04-08\",\"2020-04-09\",\"2020-04-10\",\"2020-04-11\",\"2020-04-12\",\"2020-04-13\",\"2020-04-14\",\"2020-04-15\",\"2020-04-16\",\"2020-04-17\",\"2020-04-18\",\"2020-04-19\",\"2020-04-20\",\"2020-04-21\",\"2020-04-22\",\"2020-04-23\",\"2020-04-24\",\"2020-04-25\",\"2020-04-26\",\"2020-04-27\",\"2020-04-28\",\"2020-04-29\",\"2020-04-30\",\"2020-05-01\"],\"xaxis\":\"x\",\"y\":[1,1,1,1,1,1,1,1,1,1,1,1,1,1,1,1,1,1,1,1,1,1,1,1,1,1,1,1,1,1,1],\"yaxis\":\"y\",\"type\":\"scattergl\"},{\"hovertemplate\":\"Regulation=IndoorOver100<br>Date=%{x}<br>num_countries=%{y}<extra></extra>\",\"legendgroup\":\"IndoorOver100\",\"line\":{\"color\":\"#00cc96\",\"dash\":\"solid\"},\"marker\":{\"symbol\":\"circle\"},\"mode\":\"lines\",\"name\":\"IndoorOver100\",\"showlegend\":true,\"x\":[\"2020-04-01\",\"2020-04-02\",\"2020-04-03\",\"2020-04-04\",\"2020-04-05\",\"2020-04-06\",\"2020-04-07\",\"2020-04-08\",\"2020-04-09\",\"2020-04-10\",\"2020-04-11\",\"2020-04-12\",\"2020-04-13\",\"2020-04-14\",\"2020-04-15\",\"2020-04-16\",\"2020-04-17\",\"2020-04-18\",\"2020-04-19\",\"2020-04-20\",\"2020-04-21\",\"2020-04-22\",\"2020-04-23\",\"2020-04-24\",\"2020-04-25\",\"2020-04-26\",\"2020-04-27\",\"2020-04-28\",\"2020-04-29\",\"2020-04-30\",\"2020-05-01\"],\"xaxis\":\"x\",\"y\":[2,2,2,2,2,2,2,2,2,2,2,2,2,2,2,2,2,2,2,2,2,2,2,2,2,2,2,2,2,2,2],\"yaxis\":\"y\",\"type\":\"scattergl\"},{\"hovertemplate\":\"Regulation=IndoorOver1000<br>Date=%{x}<br>num_countries=%{y}<extra></extra>\",\"legendgroup\":\"IndoorOver1000\",\"line\":{\"color\":\"#ab63fa\",\"dash\":\"solid\"},\"marker\":{\"symbol\":\"circle\"},\"mode\":\"lines\",\"name\":\"IndoorOver1000\",\"showlegend\":true,\"x\":[\"2020-04-01\",\"2020-04-02\",\"2020-04-03\",\"2020-04-04\",\"2020-04-05\",\"2020-04-06\",\"2020-04-07\",\"2020-04-08\",\"2020-04-09\",\"2020-04-10\",\"2020-04-11\",\"2020-04-12\",\"2020-04-13\",\"2020-04-14\",\"2020-04-15\",\"2020-04-16\",\"2020-04-17\",\"2020-04-18\",\"2020-04-19\",\"2020-04-20\",\"2020-04-21\",\"2020-04-22\",\"2020-04-23\",\"2020-04-24\",\"2020-04-25\",\"2020-04-26\",\"2020-04-27\",\"2020-04-28\",\"2020-04-29\",\"2020-04-30\",\"2020-05-01\"],\"xaxis\":\"x\",\"y\":[1,1,1,1,1,1,1,1,1,1,1,1,1,1,1,1,1,1,1,1,1,1,1,1,1,1,1,1,1,1,1],\"yaxis\":\"y\",\"type\":\"scattergl\"},{\"hovertemplate\":\"Regulation=IndoorOver50<br>Date=%{x}<br>num_countries=%{y}<extra></extra>\",\"legendgroup\":\"IndoorOver50\",\"line\":{\"color\":\"#FFA15A\",\"dash\":\"solid\"},\"marker\":{\"symbol\":\"circle\"},\"mode\":\"lines\",\"name\":\"IndoorOver50\",\"showlegend\":true,\"x\":[\"2020-04-01\",\"2020-04-02\",\"2020-04-03\",\"2020-04-04\",\"2020-04-05\",\"2020-04-06\",\"2020-04-07\",\"2020-04-08\",\"2020-04-09\",\"2020-04-10\",\"2020-04-11\",\"2020-04-12\",\"2020-04-13\",\"2020-04-14\",\"2020-04-15\",\"2020-04-16\",\"2020-04-17\",\"2020-04-18\",\"2020-04-19\",\"2020-04-20\",\"2020-04-21\",\"2020-04-22\",\"2020-04-23\",\"2020-04-24\",\"2020-04-25\",\"2020-04-26\",\"2020-04-27\",\"2020-04-28\",\"2020-04-29\",\"2020-04-30\",\"2020-05-01\"],\"xaxis\":\"x\",\"y\":[2,2,2,2,2,2,2,2,2,2,2,2,2,2,2,2,2,2,2,2,2,2,2,2,2,2,2,2,2,2,2],\"yaxis\":\"y\",\"type\":\"scattergl\"},{\"hovertemplate\":\"Regulation=IndoorOver500<br>Date=%{x}<br>num_countries=%{y}<extra></extra>\",\"legendgroup\":\"IndoorOver500\",\"line\":{\"color\":\"#19d3f3\",\"dash\":\"solid\"},\"marker\":{\"symbol\":\"circle\"},\"mode\":\"lines\",\"name\":\"IndoorOver500\",\"showlegend\":true,\"x\":[\"2020-04-01\",\"2020-04-02\",\"2020-04-03\",\"2020-04-04\",\"2020-04-05\",\"2020-04-06\",\"2020-04-07\",\"2020-04-08\",\"2020-04-09\",\"2020-04-10\",\"2020-04-11\",\"2020-04-12\",\"2020-04-13\",\"2020-04-14\",\"2020-04-15\",\"2020-04-16\",\"2020-04-17\",\"2020-04-18\",\"2020-04-19\",\"2020-04-20\",\"2020-04-21\",\"2020-04-22\",\"2020-04-23\",\"2020-04-24\",\"2020-04-25\",\"2020-04-26\",\"2020-04-27\",\"2020-04-28\",\"2020-04-29\",\"2020-04-30\",\"2020-05-01\"],\"xaxis\":\"x\",\"y\":[1,1,1,1,1,1,1,1,1,1,1,1,1,1,1,1,1,1,1,1,1,1,1,1,1,1,1,1,1,1,1],\"yaxis\":\"y\",\"type\":\"scattergl\"},{\"hovertemplate\":\"Regulation=MassGather50<br>Date=%{x}<br>num_countries=%{y}<extra></extra>\",\"legendgroup\":\"MassGather50\",\"line\":{\"color\":\"#FF6692\",\"dash\":\"solid\"},\"marker\":{\"symbol\":\"circle\"},\"mode\":\"lines\",\"name\":\"MassGather50\",\"showlegend\":true,\"x\":[\"2020-04-01\",\"2020-04-02\",\"2020-04-03\",\"2020-04-04\",\"2020-04-05\",\"2020-04-06\",\"2020-04-07\",\"2020-04-08\",\"2020-04-09\",\"2020-04-10\",\"2020-04-11\",\"2020-04-12\",\"2020-04-13\",\"2020-04-14\",\"2020-04-15\",\"2020-04-16\",\"2020-04-17\",\"2020-04-18\",\"2020-04-19\",\"2020-04-20\",\"2020-04-21\",\"2020-04-22\",\"2020-04-23\",\"2020-04-24\",\"2020-04-25\",\"2020-04-26\",\"2020-04-27\",\"2020-04-28\",\"2020-04-29\",\"2020-04-30\",\"2020-05-01\"],\"xaxis\":\"x\",\"y\":[20,20,20,20,20,20,20,20,20,20,20,20,20,20,20,20,20,20,20,20,20,20,20,20,20,20,20,20,20,20,20],\"yaxis\":\"y\",\"type\":\"scattergl\"},{\"hovertemplate\":\"Regulation=MassGather50Partial<br>Date=%{x}<br>num_countries=%{y}<extra></extra>\",\"legendgroup\":\"MassGather50Partial\",\"line\":{\"color\":\"#B6E880\",\"dash\":\"solid\"},\"marker\":{\"symbol\":\"circle\"},\"mode\":\"lines\",\"name\":\"MassGather50Partial\",\"showlegend\":true,\"x\":[\"2020-04-01\",\"2020-04-02\",\"2020-04-03\",\"2020-04-04\",\"2020-04-05\",\"2020-04-06\",\"2020-04-07\",\"2020-04-08\",\"2020-04-09\",\"2020-04-10\",\"2020-04-11\",\"2020-04-12\",\"2020-04-13\",\"2020-04-14\",\"2020-04-15\",\"2020-04-16\",\"2020-04-17\",\"2020-04-18\",\"2020-04-19\",\"2020-04-20\",\"2020-04-21\",\"2020-04-22\",\"2020-04-23\",\"2020-04-24\",\"2020-04-25\",\"2020-04-26\",\"2020-04-27\",\"2020-04-28\",\"2020-04-29\",\"2020-04-30\",\"2020-05-01\"],\"xaxis\":\"x\",\"y\":[1,1,1,1,1,1,1,1,1,1,1,1,1,1,1,1,1,1,1,1,1,1,1,1,1,1,1,1,1,1,1],\"yaxis\":\"y\",\"type\":\"scattergl\"},{\"hovertemplate\":\"Regulation=MassGatherAll<br>Date=%{x}<br>num_countries=%{y}<extra></extra>\",\"legendgroup\":\"MassGatherAll\",\"line\":{\"color\":\"#FF97FF\",\"dash\":\"solid\"},\"marker\":{\"symbol\":\"circle\"},\"mode\":\"lines\",\"name\":\"MassGatherAll\",\"showlegend\":true,\"x\":[\"2020-04-01\",\"2020-04-02\",\"2020-04-03\",\"2020-04-04\",\"2020-04-05\",\"2020-04-06\",\"2020-04-07\",\"2020-04-08\",\"2020-04-09\",\"2020-04-10\",\"2020-04-11\",\"2020-04-12\",\"2020-04-13\",\"2020-04-14\",\"2020-04-15\",\"2020-04-16\",\"2020-04-17\",\"2020-04-18\",\"2020-04-19\",\"2020-04-20\",\"2020-04-21\",\"2020-04-22\",\"2020-04-23\",\"2020-04-24\",\"2020-04-25\",\"2020-04-26\",\"2020-04-27\",\"2020-04-28\",\"2020-04-29\",\"2020-04-30\",\"2020-05-01\"],\"xaxis\":\"x\",\"y\":[22,22,22,22,22,22,22,22,22,22,22,22,22,22,22,22,22,22,22,22,22,22,22,22,22,22,22,22,22,22,22],\"yaxis\":\"y\",\"type\":\"scattergl\"},{\"hovertemplate\":\"Regulation=MassGatherAllPartial<br>Date=%{x}<br>num_countries=%{y}<extra></extra>\",\"legendgroup\":\"MassGatherAllPartial\",\"line\":{\"color\":\"#FECB52\",\"dash\":\"solid\"},\"marker\":{\"symbol\":\"circle\"},\"mode\":\"lines\",\"name\":\"MassGatherAllPartial\",\"showlegend\":true,\"x\":[\"2020-04-01\",\"2020-04-02\",\"2020-04-03\",\"2020-04-04\",\"2020-04-05\",\"2020-04-06\",\"2020-04-07\",\"2020-04-08\",\"2020-04-09\",\"2020-04-10\",\"2020-04-11\",\"2020-04-12\",\"2020-04-13\",\"2020-04-14\",\"2020-04-15\",\"2020-04-16\",\"2020-04-17\",\"2020-04-18\",\"2020-04-19\",\"2020-04-20\",\"2020-04-21\",\"2020-04-22\",\"2020-04-23\",\"2020-04-24\",\"2020-04-25\",\"2020-04-26\",\"2020-04-27\",\"2020-04-28\",\"2020-04-29\",\"2020-04-30\",\"2020-05-01\"],\"xaxis\":\"x\",\"y\":[3,3,3,3,3,3,3,3,3,3,3,3,3,3,3,3,3,3,3,3,3,3,3,3,3,3,3,3,3,3,3],\"yaxis\":\"y\",\"type\":\"scattergl\"},{\"hovertemplate\":\"Regulation=NonEssentialShops<br>Date=%{x}<br>num_countries=%{y}<extra></extra>\",\"legendgroup\":\"NonEssentialShops\",\"line\":{\"color\":\"#636efa\",\"dash\":\"solid\"},\"marker\":{\"symbol\":\"circle\"},\"mode\":\"lines\",\"name\":\"NonEssentialShops\",\"showlegend\":true,\"x\":[\"2020-04-01\",\"2020-04-02\",\"2020-04-03\",\"2020-04-04\",\"2020-04-05\",\"2020-04-06\",\"2020-04-07\",\"2020-04-08\",\"2020-04-09\",\"2020-04-10\",\"2020-04-11\",\"2020-04-12\",\"2020-04-13\",\"2020-04-14\",\"2020-04-15\",\"2020-04-16\",\"2020-04-17\",\"2020-04-18\",\"2020-04-19\",\"2020-04-20\",\"2020-04-21\",\"2020-04-22\",\"2020-04-23\",\"2020-04-24\",\"2020-04-25\",\"2020-04-26\",\"2020-04-27\",\"2020-04-28\",\"2020-04-29\",\"2020-04-30\",\"2020-05-01\"],\"xaxis\":\"x\",\"y\":[17,17,17,17,17,17,17,17,17,17,17,17,17,15,15,15,15,15,15,14,14,13,12,12,12,12,12,10,10,10,10],\"yaxis\":\"y\",\"type\":\"scattergl\"},{\"hovertemplate\":\"Regulation=NonEssentialShopsPartial<br>Date=%{x}<br>num_countries=%{y}<extra></extra>\",\"legendgroup\":\"NonEssentialShopsPartial\",\"line\":{\"color\":\"#EF553B\",\"dash\":\"solid\"},\"marker\":{\"symbol\":\"circle\"},\"mode\":\"lines\",\"name\":\"NonEssentialShopsPartial\",\"showlegend\":true,\"x\":[\"2020-04-01\",\"2020-04-02\",\"2020-04-03\",\"2020-04-04\",\"2020-04-05\",\"2020-04-06\",\"2020-04-07\",\"2020-04-08\",\"2020-04-09\",\"2020-04-10\",\"2020-04-11\",\"2020-04-12\",\"2020-04-13\",\"2020-04-14\",\"2020-04-15\",\"2020-04-16\",\"2020-04-17\",\"2020-04-18\",\"2020-04-19\",\"2020-04-20\",\"2020-04-21\",\"2020-04-22\",\"2020-04-23\",\"2020-04-24\",\"2020-04-25\",\"2020-04-26\",\"2020-04-27\",\"2020-04-28\",\"2020-04-29\",\"2020-04-30\",\"2020-05-01\"],\"xaxis\":\"x\",\"y\":[4,4,5,5,5,5,5,5,5,5,5,5,5,7,7,7,7,7,7,8,8,9,10,10,10,10,10,10,10,10,10],\"yaxis\":\"y\",\"type\":\"scattergl\"},{\"hovertemplate\":\"Regulation=OutdoorOver100<br>Date=%{x}<br>num_countries=%{y}<extra></extra>\",\"legendgroup\":\"OutdoorOver100\",\"line\":{\"color\":\"#00cc96\",\"dash\":\"solid\"},\"marker\":{\"symbol\":\"circle\"},\"mode\":\"lines\",\"name\":\"OutdoorOver100\",\"showlegend\":true,\"x\":[\"2020-04-01\",\"2020-04-02\",\"2020-04-03\",\"2020-04-04\",\"2020-04-05\",\"2020-04-06\",\"2020-04-07\",\"2020-04-08\",\"2020-04-09\",\"2020-04-10\",\"2020-04-11\",\"2020-04-12\",\"2020-04-13\",\"2020-04-14\",\"2020-04-15\",\"2020-04-16\",\"2020-04-17\",\"2020-04-18\",\"2020-04-19\",\"2020-04-20\",\"2020-04-21\",\"2020-04-22\",\"2020-04-23\",\"2020-04-24\",\"2020-04-25\",\"2020-04-26\",\"2020-04-27\",\"2020-04-28\",\"2020-04-29\",\"2020-04-30\",\"2020-05-01\"],\"xaxis\":\"x\",\"y\":[1,1,1,1,1,1,1,1,1,1,1,1,1,1,1,1,1,1,1,1,1,1,1,1,1,1,1,1,1,1,1],\"yaxis\":\"y\",\"type\":\"scattergl\"},{\"hovertemplate\":\"Regulation=OutdoorOver1000<br>Date=%{x}<br>num_countries=%{y}<extra></extra>\",\"legendgroup\":\"OutdoorOver1000\",\"line\":{\"color\":\"#ab63fa\",\"dash\":\"solid\"},\"marker\":{\"symbol\":\"circle\"},\"mode\":\"lines\",\"name\":\"OutdoorOver1000\",\"showlegend\":true,\"x\":[\"2020-04-01\",\"2020-04-02\",\"2020-04-03\",\"2020-04-04\",\"2020-04-05\",\"2020-04-06\",\"2020-04-07\",\"2020-04-08\",\"2020-04-09\",\"2020-04-10\",\"2020-04-11\",\"2020-04-12\",\"2020-04-13\",\"2020-04-14\",\"2020-04-15\",\"2020-04-16\",\"2020-04-17\",\"2020-04-18\",\"2020-04-19\",\"2020-04-20\",\"2020-04-21\",\"2020-04-22\",\"2020-04-23\",\"2020-04-24\",\"2020-04-25\",\"2020-04-26\",\"2020-04-27\",\"2020-04-28\",\"2020-04-29\",\"2020-04-30\",\"2020-05-01\"],\"xaxis\":\"x\",\"y\":[1,1,1,1,1,1,1,1,1,1,1,1,1,1,1,1,1,1,1,1,1,1,1,1,1,1,1,1,1,1,1],\"yaxis\":\"y\",\"type\":\"scattergl\"},{\"hovertemplate\":\"Regulation=OutdoorOver50<br>Date=%{x}<br>num_countries=%{y}<extra></extra>\",\"legendgroup\":\"OutdoorOver50\",\"line\":{\"color\":\"#FFA15A\",\"dash\":\"solid\"},\"marker\":{\"symbol\":\"circle\"},\"mode\":\"lines\",\"name\":\"OutdoorOver50\",\"showlegend\":true,\"x\":[\"2020-04-01\",\"2020-04-02\",\"2020-04-03\",\"2020-04-04\",\"2020-04-05\",\"2020-04-06\",\"2020-04-07\",\"2020-04-08\",\"2020-04-09\",\"2020-04-10\",\"2020-04-11\",\"2020-04-12\",\"2020-04-13\",\"2020-04-14\",\"2020-04-15\",\"2020-04-16\",\"2020-04-17\",\"2020-04-18\",\"2020-04-19\",\"2020-04-20\",\"2020-04-21\",\"2020-04-22\",\"2020-04-23\",\"2020-04-24\",\"2020-04-25\",\"2020-04-26\",\"2020-04-27\",\"2020-04-28\",\"2020-04-29\",\"2020-04-30\",\"2020-05-01\"],\"xaxis\":\"x\",\"y\":[3,3,3,3,3,3,3,3,3,3,3,3,3,3,3,3,3,3,3,3,2,2,2,2,2,2,2,2,2,2,2],\"yaxis\":\"y\",\"type\":\"scattergl\"},{\"hovertemplate\":\"Regulation=OutdoorOver500<br>Date=%{x}<br>num_countries=%{y}<extra></extra>\",\"legendgroup\":\"OutdoorOver500\",\"line\":{\"color\":\"#19d3f3\",\"dash\":\"solid\"},\"marker\":{\"symbol\":\"circle\"},\"mode\":\"lines\",\"name\":\"OutdoorOver500\",\"showlegend\":true,\"x\":[\"2020-04-01\",\"2020-04-02\",\"2020-04-03\",\"2020-04-04\",\"2020-04-05\",\"2020-04-06\",\"2020-04-07\",\"2020-04-08\",\"2020-04-09\",\"2020-04-10\",\"2020-04-11\",\"2020-04-12\",\"2020-04-13\",\"2020-04-14\",\"2020-04-15\",\"2020-04-16\",\"2020-04-17\",\"2020-04-18\",\"2020-04-19\",\"2020-04-20\",\"2020-04-21\",\"2020-04-22\",\"2020-04-23\",\"2020-04-24\",\"2020-04-25\",\"2020-04-26\",\"2020-04-27\",\"2020-04-28\",\"2020-04-29\",\"2020-04-30\",\"2020-05-01\"],\"xaxis\":\"x\",\"y\":[2,2,2,2,2,2,2,2,2,2,2,2,2,2,2,2,2,2,2,2,3,3,3,3,3,3,3,3,3,3,3],\"yaxis\":\"y\",\"type\":\"scattergl\"},{\"hovertemplate\":\"Regulation=PlaceOfWorship<br>Date=%{x}<br>num_countries=%{y}<extra></extra>\",\"legendgroup\":\"PlaceOfWorship\",\"line\":{\"color\":\"#FF6692\",\"dash\":\"solid\"},\"marker\":{\"symbol\":\"circle\"},\"mode\":\"lines\",\"name\":\"PlaceOfWorship\",\"showlegend\":true,\"x\":[\"2020-04-01\",\"2020-04-02\",\"2020-04-03\",\"2020-04-04\",\"2020-04-05\",\"2020-04-06\",\"2020-04-07\",\"2020-04-08\",\"2020-04-09\",\"2020-04-10\",\"2020-04-11\",\"2020-04-12\",\"2020-04-13\",\"2020-04-14\",\"2020-04-15\",\"2020-04-16\",\"2020-04-17\",\"2020-04-18\",\"2020-04-19\",\"2020-04-20\",\"2020-04-21\",\"2020-04-22\",\"2020-04-23\",\"2020-04-24\",\"2020-04-25\",\"2020-04-26\",\"2020-04-27\",\"2020-04-28\",\"2020-04-29\",\"2020-04-30\",\"2020-05-01\"],\"xaxis\":\"x\",\"y\":[12,12,12,12,12,12,12,12,12,12,12,12,12,12,12,12,12,12,12,12,12,12,12,11,11,11,10,10,10,10,10],\"yaxis\":\"y\",\"type\":\"scattergl\"},{\"hovertemplate\":\"Regulation=PlaceOfWorshipPartial<br>Date=%{x}<br>num_countries=%{y}<extra></extra>\",\"legendgroup\":\"PlaceOfWorshipPartial\",\"line\":{\"color\":\"#B6E880\",\"dash\":\"solid\"},\"marker\":{\"symbol\":\"circle\"},\"mode\":\"lines\",\"name\":\"PlaceOfWorshipPartial\",\"showlegend\":true,\"x\":[\"2020-04-01\",\"2020-04-02\",\"2020-04-03\",\"2020-04-04\",\"2020-04-05\",\"2020-04-06\",\"2020-04-07\",\"2020-04-08\",\"2020-04-09\",\"2020-04-10\",\"2020-04-11\",\"2020-04-12\",\"2020-04-13\",\"2020-04-14\",\"2020-04-15\",\"2020-04-16\",\"2020-04-17\",\"2020-04-18\",\"2020-04-19\",\"2020-04-20\",\"2020-04-21\",\"2020-04-22\",\"2020-04-23\",\"2020-04-24\",\"2020-04-25\",\"2020-04-26\",\"2020-04-27\",\"2020-04-28\",\"2020-04-29\",\"2020-04-30\",\"2020-05-01\"],\"xaxis\":\"x\",\"y\":[2,2,2,2,2,2,2,2,2,2,2,2,2,2,2,2,2,2,3,3,3,3,3,4,4,4,5,5,5,5,5],\"yaxis\":\"y\",\"type\":\"scattergl\"},{\"hovertemplate\":\"Regulation=PrivateGatheringRestrictions<br>Date=%{x}<br>num_countries=%{y}<extra></extra>\",\"legendgroup\":\"PrivateGatheringRestrictions\",\"line\":{\"color\":\"#FF97FF\",\"dash\":\"solid\"},\"marker\":{\"symbol\":\"circle\"},\"mode\":\"lines\",\"name\":\"PrivateGatheringRestrictions\",\"showlegend\":true,\"x\":[\"2020-04-01\",\"2020-04-02\",\"2020-04-03\",\"2020-04-04\",\"2020-04-05\",\"2020-04-06\",\"2020-04-07\",\"2020-04-08\",\"2020-04-09\",\"2020-04-10\",\"2020-04-11\",\"2020-04-12\",\"2020-04-13\",\"2020-04-14\",\"2020-04-15\",\"2020-04-16\",\"2020-04-17\",\"2020-04-18\",\"2020-04-19\",\"2020-04-20\",\"2020-04-21\",\"2020-04-22\",\"2020-04-23\",\"2020-04-24\",\"2020-04-25\",\"2020-04-26\",\"2020-04-27\",\"2020-04-28\",\"2020-04-29\",\"2020-04-30\",\"2020-05-01\"],\"xaxis\":\"x\",\"y\":[16,17,17,17,17,17,17,17,17,17,17,17,17,17,17,17,17,17,17,17,17,17,17,17,17,17,17,17,17,17,16],\"yaxis\":\"y\",\"type\":\"scattergl\"},{\"hovertemplate\":\"Regulation=PrivateGatheringRestrictionsPartial<br>Date=%{x}<br>num_countries=%{y}<extra></extra>\",\"legendgroup\":\"PrivateGatheringRestrictionsPartial\",\"line\":{\"color\":\"#FECB52\",\"dash\":\"solid\"},\"marker\":{\"symbol\":\"circle\"},\"mode\":\"lines\",\"name\":\"PrivateGatheringRestrictionsPartial\",\"showlegend\":true,\"x\":[\"2020-04-01\",\"2020-04-02\",\"2020-04-03\",\"2020-04-04\",\"2020-04-05\",\"2020-04-06\",\"2020-04-07\",\"2020-04-08\",\"2020-04-09\",\"2020-04-10\",\"2020-04-11\",\"2020-04-12\",\"2020-04-13\",\"2020-04-14\",\"2020-04-15\",\"2020-04-16\",\"2020-04-17\",\"2020-04-18\",\"2020-04-19\",\"2020-04-20\",\"2020-04-21\",\"2020-04-22\",\"2020-04-23\",\"2020-04-24\",\"2020-04-25\",\"2020-04-26\",\"2020-04-27\",\"2020-04-28\",\"2020-04-29\",\"2020-04-30\",\"2020-05-01\"],\"xaxis\":\"x\",\"y\":[1,1,1,1,1,1,1,1,1,1,1,1,1,1,1,1,1,1,1,1,1,1,1,1,1,1,1,1,1,1,1],\"yaxis\":\"y\",\"type\":\"scattergl\"},{\"hovertemplate\":\"Regulation=QuarantineForInternationalTravellers<br>Date=%{x}<br>num_countries=%{y}<extra></extra>\",\"legendgroup\":\"QuarantineForInternationalTravellers\",\"line\":{\"color\":\"#636efa\",\"dash\":\"solid\"},\"marker\":{\"symbol\":\"circle\"},\"mode\":\"lines\",\"name\":\"QuarantineForInternationalTravellers\",\"showlegend\":true,\"x\":[\"2020-04-01\",\"2020-04-02\",\"2020-04-03\",\"2020-04-04\",\"2020-04-05\",\"2020-04-06\",\"2020-04-07\",\"2020-04-08\",\"2020-04-09\",\"2020-04-10\",\"2020-04-11\",\"2020-04-12\",\"2020-04-13\",\"2020-04-14\",\"2020-04-15\",\"2020-04-16\",\"2020-04-17\",\"2020-04-18\",\"2020-04-19\",\"2020-04-20\",\"2020-04-21\",\"2020-04-22\",\"2020-04-23\",\"2020-04-24\",\"2020-04-25\",\"2020-04-26\",\"2020-04-27\",\"2020-04-28\",\"2020-04-29\",\"2020-04-30\",\"2020-05-01\"],\"xaxis\":\"x\",\"y\":[14,14,14,15,15,15,15,15,15,15,15,15,15,15,15,15,15,15,15,15,15,15,15,15,15,15,15,15,15,15,15],\"yaxis\":\"y\",\"type\":\"scattergl\"},{\"hovertemplate\":\"Regulation=QuarantineForInternationalTravellersPartial<br>Date=%{x}<br>num_countries=%{y}<extra></extra>\",\"legendgroup\":\"QuarantineForInternationalTravellersPartial\",\"line\":{\"color\":\"#EF553B\",\"dash\":\"solid\"},\"marker\":{\"symbol\":\"circle\"},\"mode\":\"lines\",\"name\":\"QuarantineForInternationalTravellersPartial\",\"showlegend\":true,\"x\":[\"2020-04-01\",\"2020-04-02\",\"2020-04-03\",\"2020-04-04\",\"2020-04-05\",\"2020-04-06\",\"2020-04-07\",\"2020-04-08\",\"2020-04-09\",\"2020-04-10\",\"2020-04-11\",\"2020-04-12\",\"2020-04-13\",\"2020-04-14\",\"2020-04-15\",\"2020-04-16\",\"2020-04-17\",\"2020-04-18\",\"2020-04-19\",\"2020-04-20\",\"2020-04-21\",\"2020-04-22\",\"2020-04-23\",\"2020-04-24\",\"2020-04-25\",\"2020-04-26\",\"2020-04-27\",\"2020-04-28\",\"2020-04-29\",\"2020-04-30\",\"2020-05-01\"],\"xaxis\":\"x\",\"y\":[2,2,2,2,2,2,2,2,2,2,2,2,2,2,2,2,2,2,2,2,2,2,2,2,2,2,2,2,2,2,2],\"yaxis\":\"y\",\"type\":\"scattergl\"},{\"hovertemplate\":\"Regulation=RegionalStayHomeOrder<br>Date=%{x}<br>num_countries=%{y}<extra></extra>\",\"legendgroup\":\"RegionalStayHomeOrder\",\"line\":{\"color\":\"#00cc96\",\"dash\":\"solid\"},\"marker\":{\"symbol\":\"circle\"},\"mode\":\"lines\",\"name\":\"RegionalStayHomeOrder\",\"showlegend\":true,\"x\":[\"2020-04-02\",\"2020-04-03\",\"2020-04-04\",\"2020-04-05\",\"2020-04-06\",\"2020-04-07\",\"2020-04-08\",\"2020-04-09\",\"2020-04-10\",\"2020-04-11\",\"2020-04-12\",\"2020-04-13\",\"2020-04-14\",\"2020-04-15\",\"2020-04-16\",\"2020-04-17\",\"2020-04-18\",\"2020-04-19\",\"2020-04-20\",\"2020-04-21\",\"2020-04-22\",\"2020-04-23\",\"2020-04-24\",\"2020-04-25\",\"2020-04-26\",\"2020-04-27\",\"2020-04-28\",\"2020-04-29\",\"2020-04-30\",\"2020-05-01\"],\"xaxis\":\"x\",\"y\":[1,1,1,1,1,1,1,1,1,1,1,1,1,1,1,1,1,1,1,1,1,1,1,1,1,1,1,1,1,1],\"yaxis\":\"y\",\"type\":\"scattergl\"},{\"hovertemplate\":\"Regulation=RestaurantsCafes<br>Date=%{x}<br>num_countries=%{y}<extra></extra>\",\"legendgroup\":\"RestaurantsCafes\",\"line\":{\"color\":\"#ab63fa\",\"dash\":\"solid\"},\"marker\":{\"symbol\":\"circle\"},\"mode\":\"lines\",\"name\":\"RestaurantsCafes\",\"showlegend\":true,\"x\":[\"2020-04-01\",\"2020-04-02\",\"2020-04-03\",\"2020-04-04\",\"2020-04-05\",\"2020-04-06\",\"2020-04-07\",\"2020-04-08\",\"2020-04-09\",\"2020-04-10\",\"2020-04-11\",\"2020-04-12\",\"2020-04-13\",\"2020-04-14\",\"2020-04-15\",\"2020-04-16\",\"2020-04-17\",\"2020-04-18\",\"2020-04-19\",\"2020-04-20\",\"2020-04-21\",\"2020-04-22\",\"2020-04-23\",\"2020-04-24\",\"2020-04-25\",\"2020-04-26\",\"2020-04-27\",\"2020-04-28\",\"2020-04-29\",\"2020-04-30\",\"2020-05-01\"],\"xaxis\":\"x\",\"y\":[23,23,25,25,25,25,25,25,25,25,25,25,25,25,25,25,25,25,25,25,25,25,24,24,24,24,24,24,24,24,24],\"yaxis\":\"y\",\"type\":\"scattergl\"},{\"hovertemplate\":\"Regulation=RestaurantsCafesPartial<br>Date=%{x}<br>num_countries=%{y}<extra></extra>\",\"legendgroup\":\"RestaurantsCafesPartial\",\"line\":{\"color\":\"#FFA15A\",\"dash\":\"solid\"},\"marker\":{\"symbol\":\"circle\"},\"mode\":\"lines\",\"name\":\"RestaurantsCafesPartial\",\"showlegend\":true,\"x\":[\"2020-04-01\",\"2020-04-02\",\"2020-04-03\",\"2020-04-04\",\"2020-04-05\",\"2020-04-06\",\"2020-04-07\",\"2020-04-08\",\"2020-04-09\",\"2020-04-10\",\"2020-04-11\",\"2020-04-12\",\"2020-04-13\",\"2020-04-14\",\"2020-04-15\",\"2020-04-16\",\"2020-04-17\",\"2020-04-18\",\"2020-04-19\",\"2020-04-20\",\"2020-04-21\",\"2020-04-22\",\"2020-04-23\",\"2020-04-24\",\"2020-04-25\",\"2020-04-26\",\"2020-04-27\",\"2020-04-28\",\"2020-04-29\",\"2020-04-30\",\"2020-05-01\"],\"xaxis\":\"x\",\"y\":[2,2,2,2,2,2,2,2,2,2,2,2,2,2,2,2,2,2,2,2,2,2,3,3,3,3,3,3,3,3,3],\"yaxis\":\"y\",\"type\":\"scattergl\"},{\"hovertemplate\":\"Regulation=SocialCircle<br>Date=%{x}<br>num_countries=%{y}<extra></extra>\",\"legendgroup\":\"SocialCircle\",\"line\":{\"color\":\"#19d3f3\",\"dash\":\"solid\"},\"marker\":{\"symbol\":\"circle\"},\"mode\":\"lines\",\"name\":\"SocialCircle\",\"showlegend\":true,\"x\":[\"2020-04-01\",\"2020-04-02\",\"2020-04-03\",\"2020-04-04\",\"2020-04-05\",\"2020-04-06\",\"2020-04-07\",\"2020-04-08\",\"2020-04-09\",\"2020-04-10\",\"2020-04-11\",\"2020-04-12\",\"2020-04-13\",\"2020-04-14\",\"2020-04-15\",\"2020-04-16\",\"2020-04-17\",\"2020-04-18\",\"2020-04-19\",\"2020-04-20\",\"2020-04-21\",\"2020-04-22\",\"2020-04-23\",\"2020-04-24\",\"2020-04-25\",\"2020-04-26\",\"2020-04-27\",\"2020-04-28\",\"2020-04-29\",\"2020-04-30\",\"2020-05-01\"],\"xaxis\":\"x\",\"y\":[1,1,1,1,1,1,1,1,1,1,1,1,1,1,1,1,1,1,1,1,1,1,1,1,1,1,1,1,1,1,1],\"yaxis\":\"y\",\"type\":\"scattergl\"},{\"hovertemplate\":\"Regulation=StayHomeGen<br>Date=%{x}<br>num_countries=%{y}<extra></extra>\",\"legendgroup\":\"StayHomeGen\",\"line\":{\"color\":\"#FF6692\",\"dash\":\"solid\"},\"marker\":{\"symbol\":\"circle\"},\"mode\":\"lines\",\"name\":\"StayHomeGen\",\"showlegend\":true,\"x\":[\"2020-04-01\",\"2020-04-02\",\"2020-04-03\",\"2020-04-04\",\"2020-04-05\",\"2020-04-06\",\"2020-04-07\",\"2020-04-08\",\"2020-04-09\",\"2020-04-10\",\"2020-04-11\",\"2020-04-12\",\"2020-04-13\",\"2020-04-14\",\"2020-04-15\",\"2020-04-16\",\"2020-04-17\",\"2020-04-18\",\"2020-04-19\",\"2020-04-20\",\"2020-04-21\",\"2020-04-22\",\"2020-04-23\",\"2020-04-24\",\"2020-04-25\",\"2020-04-26\",\"2020-04-27\",\"2020-04-28\",\"2020-04-29\",\"2020-04-30\",\"2020-05-01\"],\"xaxis\":\"x\",\"y\":[5,5,5,5,5,5,5,5,5,5,5,5,5,5,5,5,5,5,5,6,6,6,6,6,6,6,6,6,6,6,6],\"yaxis\":\"y\",\"type\":\"scattergl\"},{\"hovertemplate\":\"Regulation=StayHomeOrder<br>Date=%{x}<br>num_countries=%{y}<extra></extra>\",\"legendgroup\":\"StayHomeOrder\",\"line\":{\"color\":\"#B6E880\",\"dash\":\"solid\"},\"marker\":{\"symbol\":\"circle\"},\"mode\":\"lines\",\"name\":\"StayHomeOrder\",\"showlegend\":true,\"x\":[\"2020-04-01\",\"2020-04-02\",\"2020-04-03\",\"2020-04-04\",\"2020-04-05\",\"2020-04-06\",\"2020-04-07\",\"2020-04-08\",\"2020-04-09\",\"2020-04-10\",\"2020-04-11\",\"2020-04-12\",\"2020-04-13\",\"2020-04-14\",\"2020-04-15\",\"2020-04-16\",\"2020-04-17\",\"2020-04-18\",\"2020-04-19\",\"2020-04-20\",\"2020-04-21\",\"2020-04-22\",\"2020-04-23\",\"2020-04-24\",\"2020-04-25\",\"2020-04-26\",\"2020-04-27\",\"2020-04-28\",\"2020-04-29\",\"2020-04-30\",\"2020-05-01\"],\"xaxis\":\"x\",\"y\":[14,14,14,14,14,14,14,14,14,14,14,14,14,14,14,14,14,14,14,12,12,12,12,11,10,10,10,10,10,10,9],\"yaxis\":\"y\",\"type\":\"scattergl\"},{\"hovertemplate\":\"Regulation=StayHomeOrderPartial<br>Date=%{x}<br>num_countries=%{y}<extra></extra>\",\"legendgroup\":\"StayHomeOrderPartial\",\"line\":{\"color\":\"#FF97FF\",\"dash\":\"solid\"},\"marker\":{\"symbol\":\"circle\"},\"mode\":\"lines\",\"name\":\"StayHomeOrderPartial\",\"showlegend\":true,\"x\":[\"2020-04-01\",\"2020-04-02\",\"2020-04-03\",\"2020-04-04\",\"2020-04-05\",\"2020-04-06\",\"2020-04-07\",\"2020-04-08\",\"2020-04-09\",\"2020-04-10\",\"2020-04-11\",\"2020-04-12\",\"2020-04-13\",\"2020-04-14\",\"2020-04-15\",\"2020-04-16\",\"2020-04-17\",\"2020-04-18\",\"2020-04-19\",\"2020-04-20\",\"2020-04-21\",\"2020-04-22\",\"2020-04-23\",\"2020-04-24\",\"2020-04-25\",\"2020-04-26\",\"2020-04-27\",\"2020-04-28\",\"2020-04-29\",\"2020-04-30\",\"2020-05-01\"],\"xaxis\":\"x\",\"y\":[1,1,1,1,1,1,1,1,1,1,1,1,1,1,1,1,1,1,1,2,2,2,2,3,3,3,3,3,3,3,3],\"yaxis\":\"y\",\"type\":\"scattergl\"},{\"hovertemplate\":\"Regulation=StayHomeRiskG<br>Date=%{x}<br>num_countries=%{y}<extra></extra>\",\"legendgroup\":\"StayHomeRiskG\",\"line\":{\"color\":\"#FECB52\",\"dash\":\"solid\"},\"marker\":{\"symbol\":\"circle\"},\"mode\":\"lines\",\"name\":\"StayHomeRiskG\",\"showlegend\":true,\"x\":[\"2020-04-01\",\"2020-04-02\",\"2020-04-03\",\"2020-04-04\",\"2020-04-05\",\"2020-04-06\",\"2020-04-07\",\"2020-04-08\",\"2020-04-09\",\"2020-04-10\",\"2020-04-11\",\"2020-04-12\",\"2020-04-13\",\"2020-04-14\",\"2020-04-15\",\"2020-04-16\",\"2020-04-17\",\"2020-04-18\",\"2020-04-19\",\"2020-04-20\",\"2020-04-21\",\"2020-04-22\",\"2020-04-23\",\"2020-04-24\",\"2020-04-25\",\"2020-04-26\",\"2020-04-27\",\"2020-04-28\",\"2020-04-29\",\"2020-04-30\",\"2020-05-01\"],\"xaxis\":\"x\",\"y\":[14,14,14,14,14,14,14,14,14,14,14,14,14,14,14,14,14,14,14,14,14,14,14,14,14,14,14,14,14,14,14],\"yaxis\":\"y\",\"type\":\"scattergl\"},{\"hovertemplate\":\"Regulation=Teleworking<br>Date=%{x}<br>num_countries=%{y}<extra></extra>\",\"legendgroup\":\"Teleworking\",\"line\":{\"color\":\"#636efa\",\"dash\":\"solid\"},\"marker\":{\"symbol\":\"circle\"},\"mode\":\"lines\",\"name\":\"Teleworking\",\"showlegend\":true,\"x\":[\"2020-04-01\",\"2020-04-02\",\"2020-04-03\",\"2020-04-04\",\"2020-04-05\",\"2020-04-06\",\"2020-04-07\",\"2020-04-08\",\"2020-04-09\",\"2020-04-10\",\"2020-04-11\",\"2020-04-12\",\"2020-04-13\",\"2020-04-14\",\"2020-04-15\",\"2020-04-16\",\"2020-04-17\",\"2020-04-18\",\"2020-04-19\",\"2020-04-20\",\"2020-04-21\",\"2020-04-22\",\"2020-04-23\",\"2020-04-24\",\"2020-04-25\",\"2020-04-26\",\"2020-04-27\",\"2020-04-28\",\"2020-04-29\",\"2020-04-30\",\"2020-05-01\"],\"xaxis\":\"x\",\"y\":[17,17,17,18,18,18,18,18,18,18,18,18,18,18,18,18,18,18,18,18,18,18,18,18,18,18,18,18,18,18,18],\"yaxis\":\"y\",\"type\":\"scattergl\"},{\"hovertemplate\":\"Regulation=TeleworkingPartial<br>Date=%{x}<br>num_countries=%{y}<extra></extra>\",\"legendgroup\":\"TeleworkingPartial\",\"line\":{\"color\":\"#EF553B\",\"dash\":\"solid\"},\"marker\":{\"symbol\":\"circle\"},\"mode\":\"lines\",\"name\":\"TeleworkingPartial\",\"showlegend\":true,\"x\":[\"2020-04-01\",\"2020-04-02\",\"2020-04-03\",\"2020-04-04\",\"2020-04-05\",\"2020-04-06\",\"2020-04-07\",\"2020-04-08\",\"2020-04-09\",\"2020-04-10\",\"2020-04-11\",\"2020-04-12\",\"2020-04-13\",\"2020-04-14\",\"2020-04-15\",\"2020-04-16\",\"2020-04-17\",\"2020-04-18\",\"2020-04-19\",\"2020-04-20\",\"2020-04-21\",\"2020-04-22\",\"2020-04-23\",\"2020-04-24\",\"2020-04-25\",\"2020-04-26\",\"2020-04-27\",\"2020-04-28\",\"2020-04-29\",\"2020-04-30\",\"2020-05-01\"],\"xaxis\":\"x\",\"y\":[1,1,1,1,1,1,1,1,1,2,2,2,2,2,2,2,2,2,2,2,2,2,2,2,2,2,2,2,2,2,2],\"yaxis\":\"y\",\"type\":\"scattergl\"},{\"hovertemplate\":\"Regulation=WorkplaceClosures<br>Date=%{x}<br>num_countries=%{y}<extra></extra>\",\"legendgroup\":\"WorkplaceClosures\",\"line\":{\"color\":\"#00cc96\",\"dash\":\"solid\"},\"marker\":{\"symbol\":\"circle\"},\"mode\":\"lines\",\"name\":\"WorkplaceClosures\",\"showlegend\":true,\"x\":[\"2020-04-01\",\"2020-04-02\",\"2020-04-03\",\"2020-04-04\",\"2020-04-05\",\"2020-04-06\",\"2020-04-07\",\"2020-04-08\",\"2020-04-09\",\"2020-04-10\",\"2020-04-11\",\"2020-04-12\",\"2020-04-13\",\"2020-04-14\",\"2020-04-15\",\"2020-04-16\",\"2020-04-17\",\"2020-04-18\",\"2020-04-19\",\"2020-04-20\",\"2020-04-21\",\"2020-04-22\",\"2020-04-23\",\"2020-04-24\",\"2020-04-25\",\"2020-04-26\",\"2020-04-27\",\"2020-04-28\",\"2020-04-29\",\"2020-04-30\",\"2020-05-01\"],\"xaxis\":\"x\",\"y\":[5,5,5,5,5,5,5,5,5,5,5,5,5,5,4,4,4,4,4,4,4,4,4,4,4,4,4,4,4,4,4],\"yaxis\":\"y\",\"type\":\"scattergl\"},{\"hovertemplate\":\"Regulation=WorkplaceClosuresPartial<br>Date=%{x}<br>num_countries=%{y}<extra></extra>\",\"legendgroup\":\"WorkplaceClosuresPartial\",\"line\":{\"color\":\"#ab63fa\",\"dash\":\"solid\"},\"marker\":{\"symbol\":\"circle\"},\"mode\":\"lines\",\"name\":\"WorkplaceClosuresPartial\",\"showlegend\":true,\"x\":[\"2020-04-15\",\"2020-04-16\",\"2020-04-17\",\"2020-04-18\",\"2020-04-19\",\"2020-04-20\",\"2020-04-21\",\"2020-04-22\",\"2020-04-23\",\"2020-04-24\",\"2020-04-25\",\"2020-04-26\",\"2020-04-27\",\"2020-04-28\",\"2020-04-29\",\"2020-04-30\",\"2020-05-01\"],\"xaxis\":\"x\",\"y\":[1,1,1,1,1,1,1,1,1,1,1,1,1,1,1,1,1],\"yaxis\":\"y\",\"type\":\"scattergl\"}],                        {\"template\":{\"data\":{\"histogram2dcontour\":[{\"type\":\"histogram2dcontour\",\"colorbar\":{\"outlinewidth\":0,\"ticks\":\"\"},\"colorscale\":[[0.0,\"#0d0887\"],[0.1111111111111111,\"#46039f\"],[0.2222222222222222,\"#7201a8\"],[0.3333333333333333,\"#9c179e\"],[0.4444444444444444,\"#bd3786\"],[0.5555555555555556,\"#d8576b\"],[0.6666666666666666,\"#ed7953\"],[0.7777777777777778,\"#fb9f3a\"],[0.8888888888888888,\"#fdca26\"],[1.0,\"#f0f921\"]]}],\"choropleth\":[{\"type\":\"choropleth\",\"colorbar\":{\"outlinewidth\":0,\"ticks\":\"\"}}],\"histogram2d\":[{\"type\":\"histogram2d\",\"colorbar\":{\"outlinewidth\":0,\"ticks\":\"\"},\"colorscale\":[[0.0,\"#0d0887\"],[0.1111111111111111,\"#46039f\"],[0.2222222222222222,\"#7201a8\"],[0.3333333333333333,\"#9c179e\"],[0.4444444444444444,\"#bd3786\"],[0.5555555555555556,\"#d8576b\"],[0.6666666666666666,\"#ed7953\"],[0.7777777777777778,\"#fb9f3a\"],[0.8888888888888888,\"#fdca26\"],[1.0,\"#f0f921\"]]}],\"heatmap\":[{\"type\":\"heatmap\",\"colorbar\":{\"outlinewidth\":0,\"ticks\":\"\"},\"colorscale\":[[0.0,\"#0d0887\"],[0.1111111111111111,\"#46039f\"],[0.2222222222222222,\"#7201a8\"],[0.3333333333333333,\"#9c179e\"],[0.4444444444444444,\"#bd3786\"],[0.5555555555555556,\"#d8576b\"],[0.6666666666666666,\"#ed7953\"],[0.7777777777777778,\"#fb9f3a\"],[0.8888888888888888,\"#fdca26\"],[1.0,\"#f0f921\"]]}],\"heatmapgl\":[{\"type\":\"heatmapgl\",\"colorbar\":{\"outlinewidth\":0,\"ticks\":\"\"},\"colorscale\":[[0.0,\"#0d0887\"],[0.1111111111111111,\"#46039f\"],[0.2222222222222222,\"#7201a8\"],[0.3333333333333333,\"#9c179e\"],[0.4444444444444444,\"#bd3786\"],[0.5555555555555556,\"#d8576b\"],[0.6666666666666666,\"#ed7953\"],[0.7777777777777778,\"#fb9f3a\"],[0.8888888888888888,\"#fdca26\"],[1.0,\"#f0f921\"]]}],\"contourcarpet\":[{\"type\":\"contourcarpet\",\"colorbar\":{\"outlinewidth\":0,\"ticks\":\"\"}}],\"contour\":[{\"type\":\"contour\",\"colorbar\":{\"outlinewidth\":0,\"ticks\":\"\"},\"colorscale\":[[0.0,\"#0d0887\"],[0.1111111111111111,\"#46039f\"],[0.2222222222222222,\"#7201a8\"],[0.3333333333333333,\"#9c179e\"],[0.4444444444444444,\"#bd3786\"],[0.5555555555555556,\"#d8576b\"],[0.6666666666666666,\"#ed7953\"],[0.7777777777777778,\"#fb9f3a\"],[0.8888888888888888,\"#fdca26\"],[1.0,\"#f0f921\"]]}],\"surface\":[{\"type\":\"surface\",\"colorbar\":{\"outlinewidth\":0,\"ticks\":\"\"},\"colorscale\":[[0.0,\"#0d0887\"],[0.1111111111111111,\"#46039f\"],[0.2222222222222222,\"#7201a8\"],[0.3333333333333333,\"#9c179e\"],[0.4444444444444444,\"#bd3786\"],[0.5555555555555556,\"#d8576b\"],[0.6666666666666666,\"#ed7953\"],[0.7777777777777778,\"#fb9f3a\"],[0.8888888888888888,\"#fdca26\"],[1.0,\"#f0f921\"]]}],\"mesh3d\":[{\"type\":\"mesh3d\",\"colorbar\":{\"outlinewidth\":0,\"ticks\":\"\"}}],\"scatter\":[{\"fillpattern\":{\"fillmode\":\"overlay\",\"size\":10,\"solidity\":0.2},\"type\":\"scatter\"}],\"parcoords\":[{\"type\":\"parcoords\",\"line\":{\"colorbar\":{\"outlinewidth\":0,\"ticks\":\"\"}}}],\"scatterpolargl\":[{\"type\":\"scatterpolargl\",\"marker\":{\"colorbar\":{\"outlinewidth\":0,\"ticks\":\"\"}}}],\"bar\":[{\"error_x\":{\"color\":\"#2a3f5f\"},\"error_y\":{\"color\":\"#2a3f5f\"},\"marker\":{\"line\":{\"color\":\"#E5ECF6\",\"width\":0.5},\"pattern\":{\"fillmode\":\"overlay\",\"size\":10,\"solidity\":0.2}},\"type\":\"bar\"}],\"scattergeo\":[{\"type\":\"scattergeo\",\"marker\":{\"colorbar\":{\"outlinewidth\":0,\"ticks\":\"\"}}}],\"scatterpolar\":[{\"type\":\"scatterpolar\",\"marker\":{\"colorbar\":{\"outlinewidth\":0,\"ticks\":\"\"}}}],\"histogram\":[{\"marker\":{\"pattern\":{\"fillmode\":\"overlay\",\"size\":10,\"solidity\":0.2}},\"type\":\"histogram\"}],\"scattergl\":[{\"type\":\"scattergl\",\"marker\":{\"colorbar\":{\"outlinewidth\":0,\"ticks\":\"\"}}}],\"scatter3d\":[{\"type\":\"scatter3d\",\"line\":{\"colorbar\":{\"outlinewidth\":0,\"ticks\":\"\"}},\"marker\":{\"colorbar\":{\"outlinewidth\":0,\"ticks\":\"\"}}}],\"scattermapbox\":[{\"type\":\"scattermapbox\",\"marker\":{\"colorbar\":{\"outlinewidth\":0,\"ticks\":\"\"}}}],\"scatterternary\":[{\"type\":\"scatterternary\",\"marker\":{\"colorbar\":{\"outlinewidth\":0,\"ticks\":\"\"}}}],\"scattercarpet\":[{\"type\":\"scattercarpet\",\"marker\":{\"colorbar\":{\"outlinewidth\":0,\"ticks\":\"\"}}}],\"carpet\":[{\"aaxis\":{\"endlinecolor\":\"#2a3f5f\",\"gridcolor\":\"white\",\"linecolor\":\"white\",\"minorgridcolor\":\"white\",\"startlinecolor\":\"#2a3f5f\"},\"baxis\":{\"endlinecolor\":\"#2a3f5f\",\"gridcolor\":\"white\",\"linecolor\":\"white\",\"minorgridcolor\":\"white\",\"startlinecolor\":\"#2a3f5f\"},\"type\":\"carpet\"}],\"table\":[{\"cells\":{\"fill\":{\"color\":\"#EBF0F8\"},\"line\":{\"color\":\"white\"}},\"header\":{\"fill\":{\"color\":\"#C8D4E3\"},\"line\":{\"color\":\"white\"}},\"type\":\"table\"}],\"barpolar\":[{\"marker\":{\"line\":{\"color\":\"#E5ECF6\",\"width\":0.5},\"pattern\":{\"fillmode\":\"overlay\",\"size\":10,\"solidity\":0.2}},\"type\":\"barpolar\"}],\"pie\":[{\"automargin\":true,\"type\":\"pie\"}]},\"layout\":{\"autotypenumbers\":\"strict\",\"colorway\":[\"#636efa\",\"#EF553B\",\"#00cc96\",\"#ab63fa\",\"#FFA15A\",\"#19d3f3\",\"#FF6692\",\"#B6E880\",\"#FF97FF\",\"#FECB52\"],\"font\":{\"color\":\"#2a3f5f\"},\"hovermode\":\"closest\",\"hoverlabel\":{\"align\":\"left\"},\"paper_bgcolor\":\"white\",\"plot_bgcolor\":\"#E5ECF6\",\"polar\":{\"bgcolor\":\"#E5ECF6\",\"angularaxis\":{\"gridcolor\":\"white\",\"linecolor\":\"white\",\"ticks\":\"\"},\"radialaxis\":{\"gridcolor\":\"white\",\"linecolor\":\"white\",\"ticks\":\"\"}},\"ternary\":{\"bgcolor\":\"#E5ECF6\",\"aaxis\":{\"gridcolor\":\"white\",\"linecolor\":\"white\",\"ticks\":\"\"},\"baxis\":{\"gridcolor\":\"white\",\"linecolor\":\"white\",\"ticks\":\"\"},\"caxis\":{\"gridcolor\":\"white\",\"linecolor\":\"white\",\"ticks\":\"\"}},\"coloraxis\":{\"colorbar\":{\"outlinewidth\":0,\"ticks\":\"\"}},\"colorscale\":{\"sequential\":[[0.0,\"#0d0887\"],[0.1111111111111111,\"#46039f\"],[0.2222222222222222,\"#7201a8\"],[0.3333333333333333,\"#9c179e\"],[0.4444444444444444,\"#bd3786\"],[0.5555555555555556,\"#d8576b\"],[0.6666666666666666,\"#ed7953\"],[0.7777777777777778,\"#fb9f3a\"],[0.8888888888888888,\"#fdca26\"],[1.0,\"#f0f921\"]],\"sequentialminus\":[[0.0,\"#0d0887\"],[0.1111111111111111,\"#46039f\"],[0.2222222222222222,\"#7201a8\"],[0.3333333333333333,\"#9c179e\"],[0.4444444444444444,\"#bd3786\"],[0.5555555555555556,\"#d8576b\"],[0.6666666666666666,\"#ed7953\"],[0.7777777777777778,\"#fb9f3a\"],[0.8888888888888888,\"#fdca26\"],[1.0,\"#f0f921\"]],\"diverging\":[[0,\"#8e0152\"],[0.1,\"#c51b7d\"],[0.2,\"#de77ae\"],[0.3,\"#f1b6da\"],[0.4,\"#fde0ef\"],[0.5,\"#f7f7f7\"],[0.6,\"#e6f5d0\"],[0.7,\"#b8e186\"],[0.8,\"#7fbc41\"],[0.9,\"#4d9221\"],[1,\"#276419\"]]},\"xaxis\":{\"gridcolor\":\"white\",\"linecolor\":\"white\",\"ticks\":\"\",\"title\":{\"standoff\":15},\"zerolinecolor\":\"white\",\"automargin\":true,\"zerolinewidth\":2},\"yaxis\":{\"gridcolor\":\"white\",\"linecolor\":\"white\",\"ticks\":\"\",\"title\":{\"standoff\":15},\"zerolinecolor\":\"white\",\"automargin\":true,\"zerolinewidth\":2},\"scene\":{\"xaxis\":{\"backgroundcolor\":\"#E5ECF6\",\"gridcolor\":\"white\",\"linecolor\":\"white\",\"showbackground\":true,\"ticks\":\"\",\"zerolinecolor\":\"white\",\"gridwidth\":2},\"yaxis\":{\"backgroundcolor\":\"#E5ECF6\",\"gridcolor\":\"white\",\"linecolor\":\"white\",\"showbackground\":true,\"ticks\":\"\",\"zerolinecolor\":\"white\",\"gridwidth\":2},\"zaxis\":{\"backgroundcolor\":\"#E5ECF6\",\"gridcolor\":\"white\",\"linecolor\":\"white\",\"showbackground\":true,\"ticks\":\"\",\"zerolinecolor\":\"white\",\"gridwidth\":2}},\"shapedefaults\":{\"line\":{\"color\":\"#2a3f5f\"}},\"annotationdefaults\":{\"arrowcolor\":\"#2a3f5f\",\"arrowhead\":0,\"arrowwidth\":1},\"geo\":{\"bgcolor\":\"white\",\"landcolor\":\"#E5ECF6\",\"subunitcolor\":\"white\",\"showland\":true,\"showlakes\":true,\"lakecolor\":\"white\"},\"title\":{\"x\":0.05},\"mapbox\":{\"style\":\"light\"}}},\"xaxis\":{\"anchor\":\"y\",\"domain\":[0.0,1.0],\"title\":{\"text\":\"Date\"}},\"yaxis\":{\"anchor\":\"x\",\"domain\":[0.0,1.0],\"title\":{\"text\":\"num_countries\"}},\"legend\":{\"title\":{\"text\":\"Regulation\"},\"tracegroupgap\":0},\"margin\":{\"t\":60}},                        {\"responsive\": true}                    ).then(function(){\n                            \nvar gd = document.getElementById('213d15b3-d924-43cd-836c-4898ec7cd468');\nvar x = new MutationObserver(function (mutations, observer) {{\n        var display = window.getComputedStyle(gd).display;\n        if (!display || display === 'none') {{\n            console.log([gd, 'removed!']);\n            Plotly.purge(gd);\n            observer.disconnect();\n        }}\n}});\n\n// Listen for the removal of the full notebook cells\nvar notebookContainer = gd.closest('#notebook-container');\nif (notebookContainer) {{\n    x.observe(notebookContainer, {childList: true});\n}}\n\n// Listen for the clearing of the current output cell\nvar outputEl = gd.closest('.output');\nif (outputEl) {{\n    x.observe(outputEl, {childList: true});\n}}\n\n                        })                };                });            </script>        </div>"
     },
     "metadata": {},
     "output_type": "display_data"
    }
   ],
   "source": [
    "fig = px.line(april_reg_df, x=\"Date\", y=\"num_countries\", color='Regulation')\n",
    "fig.show()"
   ],
   "metadata": {
    "collapsed": false,
    "pycharm": {
     "name": "#%%\n"
    }
   }
  },
  {
   "cell_type": "markdown",
   "source": [
    "### Mai Regulations\n",
    "\n",
    "The last month we have to take a look at is Mai."
   ],
   "metadata": {
    "collapsed": false,
    "pycharm": {
     "name": "#%% md\n"
    }
   }
  },
  {
   "cell_type": "code",
   "execution_count": 116,
   "outputs": [
    {
     "name": "stderr",
     "output_type": "stream",
     "text": [
      "<ipython-input-116-d606e63849c2>:11: FutureWarning:\n",
      "\n",
      "Comparison of NaT with datetime.date is deprecated in order to match the standard library behavior.  In a future version these will be considered non-comparable.\n",
      "\n"
     ]
    },
    {
     "name": "stdout",
     "output_type": "stream",
     "text": [
      "        Regulation        Date\n",
      "0      ClosDaycare  2020-05-01\n",
      "1      ClosDaycare  2020-05-02\n",
      "2      ClosDaycare  2020-05-03\n",
      "3      ClosDaycare  2020-05-04\n",
      "4         ClosHigh  2020-05-01\n",
      "...            ...         ...\n",
      "13332  Teleworking  2020-05-28\n",
      "13333  Teleworking  2020-05-29\n",
      "13334  Teleworking  2020-05-30\n",
      "13335  Teleworking  2020-05-31\n",
      "13336  Teleworking  2020-06-01\n",
      "\n",
      "[13337 rows x 2 columns]\n"
     ]
    }
   ],
   "source": [
    "mai_reg_df = pd.DataFrame(columns = [\"Regulation\", \"Date\"])\n",
    "start_date = datetime.date(2020, 5, 1)\n",
    "end_date = datetime.date(2020, 6, 1)\n",
    "delta = datetime.timedelta(days=1)\n",
    "\n",
    "# for all unique regulations so lets itearte through the rows of the dataframe\n",
    "for index, row in regulations_df.iterrows():\n",
    "    start_date = datetime.date(2020, 5, 1)\n",
    "    while start_date <= end_date:\n",
    "        # get timedelta\n",
    "        if start_date >= row[\"date_start\"] and start_date <= row[\"date_end\"]:\n",
    "            regulation = row[\"Response_measure\"]\n",
    "            # add into dataframe\n",
    "            mai_reg_df = mai_reg_df.append({'Regulation' : regulation, 'Date' : start_date}, ignore_index = True)\n",
    "        start_date+=delta\n",
    "\n",
    "print(mai_reg_df)\n",
    "# now lets create a count column and add the occurence of how many countries had that regulation on that day\n",
    "mai_reg_df = mai_reg_df.pivot_table(columns=['Regulation','Date'], aggfunc='size')"
   ],
   "metadata": {
    "collapsed": false,
    "pycharm": {
     "name": "#%%\n"
    }
   }
  },
  {
   "cell_type": "code",
   "execution_count": 117,
   "outputs": [],
   "source": [
    "mai_reg_df = mai_reg_df.reset_index()\n",
    "mai_reg_df.columns = ['Regulation', 'Date', 'num_countries']"
   ],
   "metadata": {
    "collapsed": false,
    "pycharm": {
     "name": "#%%\n"
    }
   }
  },
  {
   "cell_type": "code",
   "execution_count": 118,
   "outputs": [
    {
     "data": {
      "text/plain": "                    Regulation        Date  num_countries\n0        AdaptationOfWorkplace  2020-05-01              5\n1        AdaptationOfWorkplace  2020-05-02              5\n2        AdaptationOfWorkplace  2020-05-03              5\n3        AdaptationOfWorkplace  2020-05-04              5\n4        AdaptationOfWorkplace  2020-05-05              5\n...                        ...         ...            ...\n1869  WorkplaceClosuresPartial  2020-05-28              1\n1870  WorkplaceClosuresPartial  2020-05-29              1\n1871  WorkplaceClosuresPartial  2020-05-30              1\n1872  WorkplaceClosuresPartial  2020-05-31              1\n1873  WorkplaceClosuresPartial  2020-06-01              1\n\n[1874 rows x 3 columns]",
      "text/html": "<div>\n<style scoped>\n    .dataframe tbody tr th:only-of-type {\n        vertical-align: middle;\n    }\n\n    .dataframe tbody tr th {\n        vertical-align: top;\n    }\n\n    .dataframe thead th {\n        text-align: right;\n    }\n</style>\n<table border=\"1\" class=\"dataframe\">\n  <thead>\n    <tr style=\"text-align: right;\">\n      <th></th>\n      <th>Regulation</th>\n      <th>Date</th>\n      <th>num_countries</th>\n    </tr>\n  </thead>\n  <tbody>\n    <tr>\n      <th>0</th>\n      <td>AdaptationOfWorkplace</td>\n      <td>2020-05-01</td>\n      <td>5</td>\n    </tr>\n    <tr>\n      <th>1</th>\n      <td>AdaptationOfWorkplace</td>\n      <td>2020-05-02</td>\n      <td>5</td>\n    </tr>\n    <tr>\n      <th>2</th>\n      <td>AdaptationOfWorkplace</td>\n      <td>2020-05-03</td>\n      <td>5</td>\n    </tr>\n    <tr>\n      <th>3</th>\n      <td>AdaptationOfWorkplace</td>\n      <td>2020-05-04</td>\n      <td>5</td>\n    </tr>\n    <tr>\n      <th>4</th>\n      <td>AdaptationOfWorkplace</td>\n      <td>2020-05-05</td>\n      <td>5</td>\n    </tr>\n    <tr>\n      <th>...</th>\n      <td>...</td>\n      <td>...</td>\n      <td>...</td>\n    </tr>\n    <tr>\n      <th>1869</th>\n      <td>WorkplaceClosuresPartial</td>\n      <td>2020-05-28</td>\n      <td>1</td>\n    </tr>\n    <tr>\n      <th>1870</th>\n      <td>WorkplaceClosuresPartial</td>\n      <td>2020-05-29</td>\n      <td>1</td>\n    </tr>\n    <tr>\n      <th>1871</th>\n      <td>WorkplaceClosuresPartial</td>\n      <td>2020-05-30</td>\n      <td>1</td>\n    </tr>\n    <tr>\n      <th>1872</th>\n      <td>WorkplaceClosuresPartial</td>\n      <td>2020-05-31</td>\n      <td>1</td>\n    </tr>\n    <tr>\n      <th>1873</th>\n      <td>WorkplaceClosuresPartial</td>\n      <td>2020-06-01</td>\n      <td>1</td>\n    </tr>\n  </tbody>\n</table>\n<p>1874 rows × 3 columns</p>\n</div>"
     },
     "execution_count": 118,
     "metadata": {},
     "output_type": "execute_result"
    }
   ],
   "source": [
    "mai_reg_df"
   ],
   "metadata": {
    "collapsed": false,
    "pycharm": {
     "name": "#%%\n"
    }
   }
  },
  {
   "cell_type": "code",
   "execution_count": 119,
   "outputs": [],
   "source": [
    "mai_reg_df = mai_reg_df[mai_reg_df.Regulation != \"MasksVoluntaryAllSpacesPartial\"]\n",
    "mai_reg_df = mai_reg_df[mai_reg_df.Regulation != \"MasksVoluntaryClosedSpacesPartial\"]\n",
    "mai_reg_df = mai_reg_df[mai_reg_df.Regulation != \"MasksMandatoryAllSpacesPartial\"]\n",
    "mai_reg_df = mai_reg_df[mai_reg_df.Regulation != \"MasksMandatoryClosedSpacesPartial\"]\n",
    "mai_reg_df = mai_reg_df[mai_reg_df.Regulation != \"MasksVoluntaryAllSpaces\"]\n",
    "mai_reg_df = mai_reg_df[mai_reg_df.Regulation != \"MasksVoluntaryClosedSpaces\"]\n",
    "mai_reg_df = mai_reg_df[mai_reg_df.Regulation != \"MasksMandatoryAllSpaces\"]\n",
    "mai_reg_df = mai_reg_df[mai_reg_df.Regulation != \"MasksMandatoryClosedSpaces\"]"
   ],
   "metadata": {
    "collapsed": false,
    "pycharm": {
     "name": "#%%\n"
    }
   }
  },
  {
   "cell_type": "code",
   "execution_count": 120,
   "outputs": [
    {
     "data": {
      "application/vnd.plotly.v1+json": {
       "data": [
        {
         "hovertemplate": "Regulation=AdaptationOfWorkplace<br>Date=%{x}<br>num_countries=%{y}<extra></extra>",
         "legendgroup": "AdaptationOfWorkplace",
         "line": {
          "color": "#636efa",
          "dash": "solid"
         },
         "marker": {
          "symbol": "circle"
         },
         "mode": "lines",
         "name": "AdaptationOfWorkplace",
         "showlegend": true,
         "x": [
          "2020-05-01",
          "2020-05-02",
          "2020-05-03",
          "2020-05-04",
          "2020-05-05",
          "2020-05-06",
          "2020-05-07",
          "2020-05-08",
          "2020-05-09",
          "2020-05-10",
          "2020-05-11",
          "2020-05-12",
          "2020-05-13",
          "2020-05-14",
          "2020-05-15",
          "2020-05-16",
          "2020-05-17",
          "2020-05-18",
          "2020-05-19",
          "2020-05-20",
          "2020-05-21",
          "2020-05-22",
          "2020-05-23",
          "2020-05-24",
          "2020-05-25",
          "2020-05-26",
          "2020-05-27",
          "2020-05-28",
          "2020-05-29",
          "2020-05-30",
          "2020-05-31",
          "2020-06-01"
         ],
         "xaxis": "x",
         "y": [
          5,
          5,
          5,
          5,
          5,
          5,
          5,
          5,
          5,
          5,
          5,
          4,
          4,
          4,
          4,
          4,
          4,
          4,
          4,
          4,
          4,
          4,
          4,
          4,
          4,
          4,
          4,
          4,
          4,
          4,
          4,
          4
         ],
         "yaxis": "y",
         "type": "scattergl"
        },
        {
         "hovertemplate": "Regulation=AdaptationOfWorkplacePartial<br>Date=%{x}<br>num_countries=%{y}<extra></extra>",
         "legendgroup": "AdaptationOfWorkplacePartial",
         "line": {
          "color": "#EF553B",
          "dash": "solid"
         },
         "marker": {
          "symbol": "circle"
         },
         "mode": "lines",
         "name": "AdaptationOfWorkplacePartial",
         "showlegend": true,
         "x": [
          "2020-05-01",
          "2020-05-02",
          "2020-05-03",
          "2020-05-04",
          "2020-05-05",
          "2020-05-06",
          "2020-05-07",
          "2020-05-08",
          "2020-05-09",
          "2020-05-10",
          "2020-05-11",
          "2020-05-12",
          "2020-05-13",
          "2020-05-14",
          "2020-05-15",
          "2020-05-16",
          "2020-05-17",
          "2020-05-18",
          "2020-05-19",
          "2020-05-20",
          "2020-05-21",
          "2020-05-22",
          "2020-05-23",
          "2020-05-24",
          "2020-05-25",
          "2020-05-26",
          "2020-05-27",
          "2020-05-28",
          "2020-05-29",
          "2020-05-30",
          "2020-05-31",
          "2020-06-01"
         ],
         "xaxis": "x",
         "y": [
          2,
          2,
          2,
          2,
          2,
          2,
          2,
          2,
          2,
          2,
          2,
          2,
          2,
          2,
          2,
          2,
          2,
          2,
          2,
          2,
          2,
          1,
          1,
          1,
          1,
          1,
          2,
          2,
          1,
          1,
          1,
          1
         ],
         "yaxis": "y",
         "type": "scattergl"
        },
        {
         "hovertemplate": "Regulation=BanOnAllEvents<br>Date=%{x}<br>num_countries=%{y}<extra></extra>",
         "legendgroup": "BanOnAllEvents",
         "line": {
          "color": "#00cc96",
          "dash": "solid"
         },
         "marker": {
          "symbol": "circle"
         },
         "mode": "lines",
         "name": "BanOnAllEvents",
         "showlegend": true,
         "x": [
          "2020-05-01",
          "2020-05-02",
          "2020-05-03",
          "2020-05-04",
          "2020-05-05",
          "2020-05-06",
          "2020-05-07",
          "2020-05-08",
          "2020-05-09",
          "2020-05-10",
          "2020-05-11",
          "2020-05-12",
          "2020-05-13",
          "2020-05-14",
          "2020-05-15",
          "2020-05-16",
          "2020-05-17",
          "2020-05-18",
          "2020-05-19",
          "2020-05-20",
          "2020-05-21",
          "2020-05-22",
          "2020-05-23",
          "2020-05-24",
          "2020-05-25",
          "2020-05-26",
          "2020-05-27",
          "2020-05-28",
          "2020-05-29",
          "2020-05-30",
          "2020-05-31",
          "2020-06-01"
         ],
         "xaxis": "x",
         "y": [
          17,
          17,
          17,
          17,
          16,
          16,
          15,
          15,
          15,
          15,
          14,
          14,
          14,
          14,
          13,
          13,
          13,
          11,
          11,
          11,
          11,
          11,
          11,
          11,
          11,
          11,
          11,
          11,
          11,
          10,
          10,
          8
         ],
         "yaxis": "y",
         "type": "scattergl"
        },
        {
         "hovertemplate": "Regulation=BanOnAllEventsPartial<br>Date=%{x}<br>num_countries=%{y}<extra></extra>",
         "legendgroup": "BanOnAllEventsPartial",
         "line": {
          "color": "#ab63fa",
          "dash": "solid"
         },
         "marker": {
          "symbol": "circle"
         },
         "mode": "lines",
         "name": "BanOnAllEventsPartial",
         "showlegend": true,
         "x": [
          "2020-05-01",
          "2020-05-02",
          "2020-05-03",
          "2020-05-04",
          "2020-05-05",
          "2020-05-06",
          "2020-05-07",
          "2020-05-08",
          "2020-05-09",
          "2020-05-10",
          "2020-05-11",
          "2020-05-12",
          "2020-05-13",
          "2020-05-14",
          "2020-05-15",
          "2020-05-16",
          "2020-05-17",
          "2020-05-18",
          "2020-05-19",
          "2020-05-20",
          "2020-05-21",
          "2020-05-22",
          "2020-05-23",
          "2020-05-24",
          "2020-05-25",
          "2020-05-26",
          "2020-05-27",
          "2020-05-28",
          "2020-05-29",
          "2020-05-30",
          "2020-05-31",
          "2020-06-01"
         ],
         "xaxis": "x",
         "y": [
          1,
          1,
          1,
          1,
          1,
          1,
          1,
          1,
          1,
          1,
          1,
          1,
          1,
          1,
          2,
          2,
          2,
          2,
          2,
          2,
          2,
          2,
          2,
          2,
          2,
          2,
          2,
          2,
          2,
          2,
          2,
          2
         ],
         "yaxis": "y",
         "type": "scattergl"
        },
        {
         "hovertemplate": "Regulation=ClosDaycare<br>Date=%{x}<br>num_countries=%{y}<extra></extra>",
         "legendgroup": "ClosDaycare",
         "line": {
          "color": "#FFA15A",
          "dash": "solid"
         },
         "marker": {
          "symbol": "circle"
         },
         "mode": "lines",
         "name": "ClosDaycare",
         "showlegend": true,
         "x": [
          "2020-05-01",
          "2020-05-02",
          "2020-05-03",
          "2020-05-04",
          "2020-05-05",
          "2020-05-06",
          "2020-05-07",
          "2020-05-08",
          "2020-05-09",
          "2020-05-10",
          "2020-05-11",
          "2020-05-12",
          "2020-05-13",
          "2020-05-14",
          "2020-05-15",
          "2020-05-16",
          "2020-05-17",
          "2020-05-18",
          "2020-05-19",
          "2020-05-20",
          "2020-05-21",
          "2020-05-22",
          "2020-05-23",
          "2020-05-24",
          "2020-05-25",
          "2020-05-26",
          "2020-05-27",
          "2020-05-28",
          "2020-05-29",
          "2020-05-30",
          "2020-05-31",
          "2020-06-01"
         ],
         "xaxis": "x",
         "y": [
          21,
          21,
          21,
          21,
          20,
          20,
          19,
          19,
          19,
          19,
          17,
          15,
          15,
          15,
          14,
          14,
          14,
          13,
          13,
          13,
          13,
          12,
          12,
          12,
          11,
          11,
          11,
          11,
          11,
          11,
          11,
          10
         ],
         "yaxis": "y",
         "type": "scattergl"
        },
        {
         "hovertemplate": "Regulation=ClosDaycarePartial<br>Date=%{x}<br>num_countries=%{y}<extra></extra>",
         "legendgroup": "ClosDaycarePartial",
         "line": {
          "color": "#19d3f3",
          "dash": "solid"
         },
         "marker": {
          "symbol": "circle"
         },
         "mode": "lines",
         "name": "ClosDaycarePartial",
         "showlegend": true,
         "x": [
          "2020-05-01",
          "2020-05-02",
          "2020-05-03",
          "2020-05-04",
          "2020-05-05",
          "2020-05-06",
          "2020-05-07",
          "2020-05-08",
          "2020-05-09",
          "2020-05-10",
          "2020-05-11",
          "2020-05-12",
          "2020-05-13",
          "2020-05-14",
          "2020-05-15",
          "2020-05-16",
          "2020-05-17",
          "2020-05-18",
          "2020-05-19",
          "2020-05-20",
          "2020-05-21",
          "2020-05-22",
          "2020-05-23",
          "2020-05-24",
          "2020-05-25",
          "2020-05-26",
          "2020-05-27",
          "2020-05-28",
          "2020-05-29",
          "2020-05-30",
          "2020-05-31",
          "2020-06-01"
         ],
         "xaxis": "x",
         "y": [
          1,
          1,
          1,
          1,
          1,
          1,
          1,
          1,
          1,
          1,
          2,
          2,
          2,
          2,
          3,
          3,
          3,
          4,
          4,
          4,
          4,
          5,
          5,
          5,
          5,
          5,
          5,
          5,
          5,
          5,
          5,
          4
         ],
         "yaxis": "y",
         "type": "scattergl"
        },
        {
         "hovertemplate": "Regulation=ClosHigh<br>Date=%{x}<br>num_countries=%{y}<extra></extra>",
         "legendgroup": "ClosHigh",
         "line": {
          "color": "#FF6692",
          "dash": "solid"
         },
         "marker": {
          "symbol": "circle"
         },
         "mode": "lines",
         "name": "ClosHigh",
         "showlegend": true,
         "x": [
          "2020-05-01",
          "2020-05-02",
          "2020-05-03",
          "2020-05-04",
          "2020-05-05",
          "2020-05-06",
          "2020-05-07",
          "2020-05-08",
          "2020-05-09",
          "2020-05-10",
          "2020-05-11",
          "2020-05-12",
          "2020-05-13",
          "2020-05-14",
          "2020-05-15",
          "2020-05-16",
          "2020-05-17",
          "2020-05-18",
          "2020-05-19",
          "2020-05-20",
          "2020-05-21",
          "2020-05-22",
          "2020-05-23",
          "2020-05-24",
          "2020-05-25",
          "2020-05-26",
          "2020-05-27",
          "2020-05-28",
          "2020-05-29",
          "2020-05-30",
          "2020-05-31",
          "2020-06-01"
         ],
         "xaxis": "x",
         "y": [
          28,
          28,
          28,
          28,
          27,
          27,
          27,
          27,
          27,
          27,
          26,
          25,
          25,
          25,
          25,
          25,
          25,
          23,
          22,
          22,
          22,
          22,
          22,
          22,
          18,
          18,
          18,
          18,
          18,
          18,
          18,
          17
         ],
         "yaxis": "y",
         "type": "scattergl"
        },
        {
         "hovertemplate": "Regulation=ClosHighPartial<br>Date=%{x}<br>num_countries=%{y}<extra></extra>",
         "legendgroup": "ClosHighPartial",
         "line": {
          "color": "#B6E880",
          "dash": "solid"
         },
         "marker": {
          "symbol": "circle"
         },
         "mode": "lines",
         "name": "ClosHighPartial",
         "showlegend": true,
         "x": [
          "2020-05-01",
          "2020-05-02",
          "2020-05-03",
          "2020-05-04",
          "2020-05-05",
          "2020-05-06",
          "2020-05-07",
          "2020-05-08",
          "2020-05-09",
          "2020-05-10",
          "2020-05-11",
          "2020-05-12",
          "2020-05-13",
          "2020-05-14",
          "2020-05-15",
          "2020-05-16",
          "2020-05-17",
          "2020-05-18",
          "2020-05-19",
          "2020-05-20",
          "2020-05-21",
          "2020-05-22",
          "2020-05-23",
          "2020-05-24",
          "2020-05-25",
          "2020-05-26",
          "2020-05-27",
          "2020-05-28",
          "2020-05-29",
          "2020-05-30",
          "2020-05-31",
          "2020-06-01"
         ],
         "xaxis": "x",
         "y": [
          1,
          1,
          1,
          1,
          1,
          1,
          1,
          1,
          1,
          1,
          2,
          2,
          2,
          2,
          2,
          2,
          2,
          3,
          3,
          3,
          3,
          3,
          3,
          3,
          6,
          6,
          6,
          6,
          6,
          5,
          5,
          5
         ],
         "yaxis": "y",
         "type": "scattergl"
        },
        {
         "hovertemplate": "Regulation=ClosPrim<br>Date=%{x}<br>num_countries=%{y}<extra></extra>",
         "legendgroup": "ClosPrim",
         "line": {
          "color": "#FF97FF",
          "dash": "solid"
         },
         "marker": {
          "symbol": "circle"
         },
         "mode": "lines",
         "name": "ClosPrim",
         "showlegend": true,
         "x": [
          "2020-05-01",
          "2020-05-02",
          "2020-05-03",
          "2020-05-04",
          "2020-05-05",
          "2020-05-06",
          "2020-05-07",
          "2020-05-08",
          "2020-05-09",
          "2020-05-10",
          "2020-05-11",
          "2020-05-12",
          "2020-05-13",
          "2020-05-14",
          "2020-05-15",
          "2020-05-16",
          "2020-05-17",
          "2020-05-18",
          "2020-05-19",
          "2020-05-20",
          "2020-05-21",
          "2020-05-22",
          "2020-05-23",
          "2020-05-24",
          "2020-05-25",
          "2020-05-26",
          "2020-05-27",
          "2020-05-28",
          "2020-05-29",
          "2020-05-30",
          "2020-05-31",
          "2020-06-01"
         ],
         "xaxis": "x",
         "y": [
          23,
          23,
          23,
          23,
          23,
          23,
          23,
          23,
          23,
          23,
          20,
          20,
          20,
          19,
          18,
          18,
          18,
          17,
          17,
          17,
          17,
          16,
          16,
          16,
          13,
          13,
          13,
          13,
          13,
          13,
          13,
          12
         ],
         "yaxis": "y",
         "type": "scattergl"
        },
        {
         "hovertemplate": "Regulation=ClosPrimPartial<br>Date=%{x}<br>num_countries=%{y}<extra></extra>",
         "legendgroup": "ClosPrimPartial",
         "line": {
          "color": "#FECB52",
          "dash": "solid"
         },
         "marker": {
          "symbol": "circle"
         },
         "mode": "lines",
         "name": "ClosPrimPartial",
         "showlegend": true,
         "x": [
          "2020-05-01",
          "2020-05-02",
          "2020-05-03",
          "2020-05-04",
          "2020-05-05",
          "2020-05-06",
          "2020-05-07",
          "2020-05-08",
          "2020-05-09",
          "2020-05-10",
          "2020-05-11",
          "2020-05-12",
          "2020-05-13",
          "2020-05-14",
          "2020-05-15",
          "2020-05-16",
          "2020-05-17",
          "2020-05-18",
          "2020-05-19",
          "2020-05-20",
          "2020-05-21",
          "2020-05-22",
          "2020-05-23",
          "2020-05-24",
          "2020-05-25",
          "2020-05-26",
          "2020-05-27",
          "2020-05-28",
          "2020-05-29",
          "2020-05-30",
          "2020-05-31",
          "2020-06-01"
         ],
         "xaxis": "x",
         "y": [
          2,
          2,
          2,
          2,
          2,
          2,
          2,
          2,
          2,
          2,
          5,
          5,
          5,
          5,
          5,
          5,
          5,
          6,
          5,
          5,
          5,
          5,
          5,
          5,
          7,
          7,
          7,
          7,
          7,
          7,
          7,
          7
         ],
         "yaxis": "y",
         "type": "scattergl"
        },
        {
         "hovertemplate": "Regulation=ClosPubAny<br>Date=%{x}<br>num_countries=%{y}<extra></extra>",
         "legendgroup": "ClosPubAny",
         "line": {
          "color": "#636efa",
          "dash": "solid"
         },
         "marker": {
          "symbol": "circle"
         },
         "mode": "lines",
         "name": "ClosPubAny",
         "showlegend": true,
         "x": [
          "2020-05-01",
          "2020-05-02",
          "2020-05-03",
          "2020-05-04",
          "2020-05-05",
          "2020-05-06",
          "2020-05-07",
          "2020-05-08",
          "2020-05-09",
          "2020-05-10",
          "2020-05-11",
          "2020-05-12",
          "2020-05-13",
          "2020-05-14",
          "2020-05-15",
          "2020-05-16",
          "2020-05-17",
          "2020-05-18",
          "2020-05-19",
          "2020-05-20",
          "2020-05-21",
          "2020-05-22",
          "2020-05-23",
          "2020-05-24",
          "2020-05-25",
          "2020-05-26",
          "2020-05-27",
          "2020-05-28",
          "2020-05-29",
          "2020-05-30",
          "2020-05-31",
          "2020-06-01"
         ],
         "xaxis": "x",
         "y": [
          11,
          12,
          12,
          10,
          10,
          10,
          10,
          10,
          10,
          10,
          10,
          9,
          9,
          8,
          7,
          7,
          6,
          4,
          4,
          4,
          4,
          3,
          3,
          3,
          3,
          3,
          3,
          3,
          3,
          3,
          3,
          1
         ],
         "yaxis": "y",
         "type": "scattergl"
        },
        {
         "hovertemplate": "Regulation=ClosPubAnyPartial<br>Date=%{x}<br>num_countries=%{y}<extra></extra>",
         "legendgroup": "ClosPubAnyPartial",
         "line": {
          "color": "#EF553B",
          "dash": "solid"
         },
         "marker": {
          "symbol": "circle"
         },
         "mode": "lines",
         "name": "ClosPubAnyPartial",
         "showlegend": true,
         "x": [
          "2020-05-01",
          "2020-05-02",
          "2020-05-03",
          "2020-05-04",
          "2020-05-05",
          "2020-05-06",
          "2020-05-07",
          "2020-05-08",
          "2020-05-09",
          "2020-05-10",
          "2020-05-11",
          "2020-05-12",
          "2020-05-13",
          "2020-05-14",
          "2020-05-15",
          "2020-05-16",
          "2020-05-17",
          "2020-05-18",
          "2020-05-19",
          "2020-05-20",
          "2020-05-21",
          "2020-05-22",
          "2020-05-23",
          "2020-05-24",
          "2020-05-25",
          "2020-05-26",
          "2020-05-27",
          "2020-05-28",
          "2020-05-29",
          "2020-05-30",
          "2020-05-31",
          "2020-06-01"
         ],
         "xaxis": "x",
         "y": [
          18,
          17,
          17,
          18,
          18,
          18,
          18,
          18,
          18,
          18,
          18,
          19,
          19,
          20,
          21,
          21,
          22,
          24,
          23,
          23,
          23,
          24,
          24,
          24,
          24,
          24,
          24,
          24,
          24,
          24,
          24,
          24
         ],
         "yaxis": "y",
         "type": "scattergl"
        },
        {
         "hovertemplate": "Regulation=ClosSec<br>Date=%{x}<br>num_countries=%{y}<extra></extra>",
         "legendgroup": "ClosSec",
         "line": {
          "color": "#00cc96",
          "dash": "solid"
         },
         "marker": {
          "symbol": "circle"
         },
         "mode": "lines",
         "name": "ClosSec",
         "showlegend": true,
         "x": [
          "2020-05-01",
          "2020-05-02",
          "2020-05-03",
          "2020-05-04",
          "2020-05-05",
          "2020-05-06",
          "2020-05-07",
          "2020-05-08",
          "2020-05-09",
          "2020-05-10",
          "2020-05-11",
          "2020-05-12",
          "2020-05-13",
          "2020-05-14",
          "2020-05-15",
          "2020-05-16",
          "2020-05-17",
          "2020-05-18",
          "2020-05-19",
          "2020-05-20",
          "2020-05-21",
          "2020-05-22",
          "2020-05-23",
          "2020-05-24",
          "2020-05-25",
          "2020-05-26",
          "2020-05-27",
          "2020-05-28",
          "2020-05-29",
          "2020-05-30",
          "2020-05-31",
          "2020-06-01"
         ],
         "xaxis": "x",
         "y": [
          26,
          26,
          26,
          26,
          25,
          25,
          25,
          25,
          25,
          25,
          23,
          22,
          22,
          21,
          20,
          20,
          20,
          19,
          17,
          17,
          17,
          17,
          17,
          17,
          16,
          16,
          16,
          16,
          16,
          15,
          15,
          14
         ],
         "yaxis": "y",
         "type": "scattergl"
        },
        {
         "hovertemplate": "Regulation=ClosSecPartial<br>Date=%{x}<br>num_countries=%{y}<extra></extra>",
         "legendgroup": "ClosSecPartial",
         "line": {
          "color": "#ab63fa",
          "dash": "solid"
         },
         "marker": {
          "symbol": "circle"
         },
         "mode": "lines",
         "name": "ClosSecPartial",
         "showlegend": true,
         "x": [
          "2020-05-01",
          "2020-05-02",
          "2020-05-03",
          "2020-05-04",
          "2020-05-05",
          "2020-05-06",
          "2020-05-07",
          "2020-05-08",
          "2020-05-09",
          "2020-05-10",
          "2020-05-11",
          "2020-05-12",
          "2020-05-13",
          "2020-05-14",
          "2020-05-15",
          "2020-05-16",
          "2020-05-17",
          "2020-05-18",
          "2020-05-19",
          "2020-05-20",
          "2020-05-21",
          "2020-05-22",
          "2020-05-23",
          "2020-05-24",
          "2020-05-25",
          "2020-05-26",
          "2020-05-27",
          "2020-05-28",
          "2020-05-29",
          "2020-05-30",
          "2020-05-31",
          "2020-06-01"
         ],
         "xaxis": "x",
         "y": [
          3,
          3,
          3,
          3,
          3,
          3,
          3,
          2,
          2,
          2,
          4,
          4,
          4,
          4,
          4,
          4,
          4,
          4,
          4,
          4,
          4,
          3,
          3,
          3,
          4,
          4,
          4,
          4,
          4,
          5,
          5,
          5
         ],
         "yaxis": "y",
         "type": "scattergl"
        },
        {
         "hovertemplate": "Regulation=ClosureOfPublicTransportPartial<br>Date=%{x}<br>num_countries=%{y}<extra></extra>",
         "legendgroup": "ClosureOfPublicTransportPartial",
         "line": {
          "color": "#FFA15A",
          "dash": "solid"
         },
         "marker": {
          "symbol": "circle"
         },
         "mode": "lines",
         "name": "ClosureOfPublicTransportPartial",
         "showlegend": true,
         "x": [
          "2020-05-01",
          "2020-05-02",
          "2020-05-03",
          "2020-05-04",
          "2020-05-05",
          "2020-05-06",
          "2020-05-07",
          "2020-05-08",
          "2020-05-09",
          "2020-05-10",
          "2020-05-11",
          "2020-05-12",
          "2020-05-13",
          "2020-05-14",
          "2020-05-15",
          "2020-05-16",
          "2020-05-17",
          "2020-05-18",
          "2020-05-19",
          "2020-05-20",
          "2020-05-21",
          "2020-05-22",
          "2020-05-23",
          "2020-05-24",
          "2020-05-25",
          "2020-05-26",
          "2020-05-27",
          "2020-05-28",
          "2020-05-29",
          "2020-05-30",
          "2020-05-31",
          "2020-06-01"
         ],
         "xaxis": "x",
         "y": [
          6,
          6,
          6,
          6,
          6,
          6,
          6,
          6,
          6,
          6,
          6,
          6,
          6,
          6,
          6,
          6,
          6,
          6,
          6,
          6,
          6,
          6,
          6,
          6,
          6,
          6,
          6,
          6,
          6,
          6,
          6,
          5
         ],
         "yaxis": "y",
         "type": "scattergl"
        },
        {
         "hovertemplate": "Regulation=EntertainmentVenues<br>Date=%{x}<br>num_countries=%{y}<extra></extra>",
         "legendgroup": "EntertainmentVenues",
         "line": {
          "color": "#19d3f3",
          "dash": "solid"
         },
         "marker": {
          "symbol": "circle"
         },
         "mode": "lines",
         "name": "EntertainmentVenues",
         "showlegend": true,
         "x": [
          "2020-05-01",
          "2020-05-02",
          "2020-05-03",
          "2020-05-04",
          "2020-05-05",
          "2020-05-06",
          "2020-05-07",
          "2020-05-08",
          "2020-05-09",
          "2020-05-10",
          "2020-05-11",
          "2020-05-12",
          "2020-05-13",
          "2020-05-14",
          "2020-05-15",
          "2020-05-16",
          "2020-05-17",
          "2020-05-18",
          "2020-05-19",
          "2020-05-20",
          "2020-05-21",
          "2020-05-22",
          "2020-05-23",
          "2020-05-24",
          "2020-05-25",
          "2020-05-26",
          "2020-05-27",
          "2020-05-28",
          "2020-05-29",
          "2020-05-30",
          "2020-05-31",
          "2020-06-01"
         ],
         "xaxis": "x",
         "y": [
          25,
          25,
          25,
          24,
          23,
          23,
          23,
          23,
          23,
          23,
          21,
          21,
          21,
          20,
          20,
          20,
          19,
          16,
          15,
          15,
          13,
          11,
          11,
          11,
          11,
          11,
          11,
          11,
          11,
          11,
          11,
          8
         ],
         "yaxis": "y",
         "type": "scattergl"
        },
        {
         "hovertemplate": "Regulation=EntertainmentVenuesPartial<br>Date=%{x}<br>num_countries=%{y}<extra></extra>",
         "legendgroup": "EntertainmentVenuesPartial",
         "line": {
          "color": "#FF6692",
          "dash": "solid"
         },
         "marker": {
          "symbol": "circle"
         },
         "mode": "lines",
         "name": "EntertainmentVenuesPartial",
         "showlegend": true,
         "x": [
          "2020-05-01",
          "2020-05-02",
          "2020-05-03",
          "2020-05-04",
          "2020-05-05",
          "2020-05-06",
          "2020-05-07",
          "2020-05-08",
          "2020-05-09",
          "2020-05-10",
          "2020-05-11",
          "2020-05-12",
          "2020-05-13",
          "2020-05-14",
          "2020-05-15",
          "2020-05-16",
          "2020-05-17",
          "2020-05-18",
          "2020-05-19",
          "2020-05-20",
          "2020-05-21",
          "2020-05-22",
          "2020-05-23",
          "2020-05-24",
          "2020-05-25",
          "2020-05-26",
          "2020-05-27",
          "2020-05-28",
          "2020-05-29",
          "2020-05-30",
          "2020-05-31",
          "2020-06-01"
         ],
         "xaxis": "x",
         "y": [
          3,
          3,
          3,
          4,
          5,
          5,
          5,
          5,
          5,
          5,
          7,
          7,
          7,
          8,
          8,
          8,
          9,
          11,
          11,
          11,
          12,
          13,
          13,
          13,
          13,
          12,
          12,
          12,
          11,
          11,
          11,
          11
         ],
         "yaxis": "y",
         "type": "scattergl"
        },
        {
         "hovertemplate": "Regulation=GymsSportsCentres<br>Date=%{x}<br>num_countries=%{y}<extra></extra>",
         "legendgroup": "GymsSportsCentres",
         "line": {
          "color": "#B6E880",
          "dash": "solid"
         },
         "marker": {
          "symbol": "circle"
         },
         "mode": "lines",
         "name": "GymsSportsCentres",
         "showlegend": true,
         "x": [
          "2020-05-01",
          "2020-05-02",
          "2020-05-03",
          "2020-05-04",
          "2020-05-05",
          "2020-05-06",
          "2020-05-07",
          "2020-05-08",
          "2020-05-09",
          "2020-05-10",
          "2020-05-11",
          "2020-05-12",
          "2020-05-13",
          "2020-05-14",
          "2020-05-15",
          "2020-05-16",
          "2020-05-17",
          "2020-05-18",
          "2020-05-19",
          "2020-05-20",
          "2020-05-21",
          "2020-05-22",
          "2020-05-23",
          "2020-05-24",
          "2020-05-25",
          "2020-05-26",
          "2020-05-27",
          "2020-05-28",
          "2020-05-29",
          "2020-05-30",
          "2020-05-31",
          "2020-06-01"
         ],
         "xaxis": "x",
         "y": [
          20,
          20,
          20,
          17,
          17,
          17,
          17,
          17,
          17,
          17,
          17,
          16,
          15,
          15,
          14,
          14,
          14,
          10,
          10,
          10,
          9,
          9,
          9,
          9,
          8,
          8,
          8,
          8,
          8,
          7,
          6,
          6
         ],
         "yaxis": "y",
         "type": "scattergl"
        },
        {
         "hovertemplate": "Regulation=GymsSportsCentresPartial<br>Date=%{x}<br>num_countries=%{y}<extra></extra>",
         "legendgroup": "GymsSportsCentresPartial",
         "line": {
          "color": "#FF97FF",
          "dash": "solid"
         },
         "marker": {
          "symbol": "circle"
         },
         "mode": "lines",
         "name": "GymsSportsCentresPartial",
         "showlegend": true,
         "x": [
          "2020-05-01",
          "2020-05-02",
          "2020-05-03",
          "2020-05-04",
          "2020-05-05",
          "2020-05-06",
          "2020-05-07",
          "2020-05-08",
          "2020-05-09",
          "2020-05-10",
          "2020-05-11",
          "2020-05-12",
          "2020-05-13",
          "2020-05-14",
          "2020-05-15",
          "2020-05-16",
          "2020-05-17",
          "2020-05-18",
          "2020-05-19",
          "2020-05-20",
          "2020-05-21",
          "2020-05-22",
          "2020-05-23",
          "2020-05-24",
          "2020-05-25",
          "2020-05-26",
          "2020-05-27",
          "2020-05-28",
          "2020-05-29",
          "2020-05-30",
          "2020-05-31",
          "2020-06-01"
         ],
         "xaxis": "x",
         "y": [
          6,
          6,
          6,
          9,
          9,
          9,
          9,
          9,
          9,
          9,
          9,
          10,
          10,
          10,
          10,
          10,
          10,
          13,
          13,
          13,
          13,
          13,
          13,
          13,
          14,
          14,
          14,
          14,
          14,
          14,
          15,
          15
         ],
         "yaxis": "y",
         "type": "scattergl"
        },
        {
         "hovertemplate": "Regulation=HotelsOtherAccommodation<br>Date=%{x}<br>num_countries=%{y}<extra></extra>",
         "legendgroup": "HotelsOtherAccommodation",
         "line": {
          "color": "#FECB52",
          "dash": "solid"
         },
         "marker": {
          "symbol": "circle"
         },
         "mode": "lines",
         "name": "HotelsOtherAccommodation",
         "showlegend": true,
         "x": [
          "2020-05-01",
          "2020-05-02",
          "2020-05-03",
          "2020-05-04",
          "2020-05-05",
          "2020-05-06",
          "2020-05-07",
          "2020-05-08",
          "2020-05-09",
          "2020-05-10",
          "2020-05-11",
          "2020-05-12",
          "2020-05-13",
          "2020-05-14",
          "2020-05-15",
          "2020-05-16",
          "2020-05-17",
          "2020-05-18",
          "2020-05-19",
          "2020-05-20",
          "2020-05-21",
          "2020-05-22",
          "2020-05-23",
          "2020-05-24",
          "2020-05-25",
          "2020-05-26",
          "2020-05-27",
          "2020-05-28",
          "2020-05-29",
          "2020-05-30",
          "2020-05-31",
          "2020-06-01"
         ],
         "xaxis": "x",
         "y": [
          8,
          8,
          8,
          7,
          6,
          6,
          6,
          6,
          6,
          6,
          6,
          6,
          6,
          6,
          6,
          5,
          5,
          5,
          5,
          5,
          5,
          4,
          4,
          4,
          3,
          2,
          2,
          2,
          2,
          1,
          1,
          1
         ],
         "yaxis": "y",
         "type": "scattergl"
        },
        {
         "hovertemplate": "Regulation=HotelsOtherAccommodationPartial<br>Date=%{x}<br>num_countries=%{y}<extra></extra>",
         "legendgroup": "HotelsOtherAccommodationPartial",
         "line": {
          "color": "#636efa",
          "dash": "solid"
         },
         "marker": {
          "symbol": "circle"
         },
         "mode": "lines",
         "name": "HotelsOtherAccommodationPartial",
         "showlegend": true,
         "x": [
          "2020-05-01",
          "2020-05-02",
          "2020-05-03",
          "2020-05-04",
          "2020-05-05",
          "2020-05-06",
          "2020-05-07",
          "2020-05-08",
          "2020-05-09",
          "2020-05-10",
          "2020-05-11",
          "2020-05-12",
          "2020-05-13",
          "2020-05-14",
          "2020-05-15",
          "2020-05-16",
          "2020-05-17",
          "2020-05-18",
          "2020-05-19",
          "2020-05-20",
          "2020-05-21",
          "2020-05-22",
          "2020-05-23",
          "2020-05-24",
          "2020-05-25",
          "2020-05-26",
          "2020-05-27",
          "2020-05-28",
          "2020-05-29",
          "2020-05-30",
          "2020-05-31",
          "2020-06-01"
         ],
         "xaxis": "x",
         "y": [
          1,
          1,
          1,
          2,
          2,
          2,
          2,
          2,
          2,
          2,
          2,
          2,
          2,
          2,
          2,
          2,
          2,
          2,
          2,
          2,
          1,
          2,
          2,
          2,
          3,
          3,
          3,
          3,
          3,
          3,
          3,
          3
         ],
         "yaxis": "y",
         "type": "scattergl"
        },
        {
         "hovertemplate": "Regulation=IndoorOver100<br>Date=%{x}<br>num_countries=%{y}<extra></extra>",
         "legendgroup": "IndoorOver100",
         "line": {
          "color": "#EF553B",
          "dash": "solid"
         },
         "marker": {
          "symbol": "circle"
         },
         "mode": "lines",
         "name": "IndoorOver100",
         "showlegend": true,
         "x": [
          "2020-05-01",
          "2020-05-02",
          "2020-05-03",
          "2020-05-04",
          "2020-05-05",
          "2020-05-06",
          "2020-05-07",
          "2020-05-08",
          "2020-05-09",
          "2020-05-10",
          "2020-05-11",
          "2020-05-12",
          "2020-05-13",
          "2020-05-14",
          "2020-05-15",
          "2020-05-16",
          "2020-05-17",
          "2020-05-18",
          "2020-05-19",
          "2020-05-20",
          "2020-05-21",
          "2020-05-22",
          "2020-05-23",
          "2020-05-24",
          "2020-05-25",
          "2020-05-26",
          "2020-05-27",
          "2020-05-28",
          "2020-05-29",
          "2020-05-30",
          "2020-05-31",
          "2020-06-01"
         ],
         "xaxis": "x",
         "y": [
          2,
          2,
          2,
          2,
          2,
          2,
          2,
          2,
          2,
          2,
          2,
          2,
          2,
          2,
          2,
          2,
          2,
          4,
          4,
          4,
          4,
          4,
          4,
          4,
          3,
          3,
          3,
          3,
          3,
          3,
          3,
          2
         ],
         "yaxis": "y",
         "type": "scattergl"
        },
        {
         "hovertemplate": "Regulation=IndoorOver1000<br>Date=%{x}<br>num_countries=%{y}<extra></extra>",
         "legendgroup": "IndoorOver1000",
         "line": {
          "color": "#00cc96",
          "dash": "solid"
         },
         "marker": {
          "symbol": "circle"
         },
         "mode": "lines",
         "name": "IndoorOver1000",
         "showlegend": true,
         "x": [
          "2020-05-01",
          "2020-05-02",
          "2020-05-03",
          "2020-05-04",
          "2020-05-05",
          "2020-05-06",
          "2020-05-07",
          "2020-05-08",
          "2020-05-09",
          "2020-05-10",
          "2020-05-11",
          "2020-05-12",
          "2020-05-13",
          "2020-05-14",
          "2020-05-15",
          "2020-05-16",
          "2020-05-17",
          "2020-05-18",
          "2020-05-19",
          "2020-05-20",
          "2020-05-21",
          "2020-05-22",
          "2020-05-23",
          "2020-05-24",
          "2020-05-25",
          "2020-05-26",
          "2020-05-27",
          "2020-05-28",
          "2020-05-29",
          "2020-05-30",
          "2020-05-31",
          "2020-06-01"
         ],
         "xaxis": "x",
         "y": [
          1,
          1,
          1,
          1,
          1,
          1,
          1,
          1,
          1,
          1,
          1,
          1,
          1,
          1,
          1,
          1,
          1,
          1,
          1,
          1,
          1,
          1,
          1,
          1,
          1,
          1,
          1,
          1,
          1,
          1,
          1,
          1
         ],
         "yaxis": "y",
         "type": "scattergl"
        },
        {
         "hovertemplate": "Regulation=IndoorOver50<br>Date=%{x}<br>num_countries=%{y}<extra></extra>",
         "legendgroup": "IndoorOver50",
         "line": {
          "color": "#ab63fa",
          "dash": "solid"
         },
         "marker": {
          "symbol": "circle"
         },
         "mode": "lines",
         "name": "IndoorOver50",
         "showlegend": true,
         "x": [
          "2020-05-01",
          "2020-05-02",
          "2020-05-03",
          "2020-05-04",
          "2020-05-05",
          "2020-05-06",
          "2020-05-07",
          "2020-05-08",
          "2020-05-09",
          "2020-05-10",
          "2020-05-11",
          "2020-05-12",
          "2020-05-13",
          "2020-05-14",
          "2020-05-15",
          "2020-05-16",
          "2020-05-17",
          "2020-05-18",
          "2020-05-19",
          "2020-05-20",
          "2020-05-21",
          "2020-05-22",
          "2020-05-23",
          "2020-05-24",
          "2020-05-25",
          "2020-05-26",
          "2020-05-27",
          "2020-05-28",
          "2020-05-29",
          "2020-05-30",
          "2020-05-31",
          "2020-06-01"
         ],
         "xaxis": "x",
         "y": [
          2,
          2,
          2,
          2,
          3,
          3,
          4,
          4,
          4,
          4,
          4,
          4,
          4,
          4,
          4,
          4,
          4,
          5,
          5,
          5,
          5,
          5,
          5,
          5,
          5,
          4,
          4,
          4,
          4,
          4,
          4,
          3
         ],
         "yaxis": "y",
         "type": "scattergl"
        },
        {
         "hovertemplate": "Regulation=IndoorOver500<br>Date=%{x}<br>num_countries=%{y}<extra></extra>",
         "legendgroup": "IndoorOver500",
         "line": {
          "color": "#FFA15A",
          "dash": "solid"
         },
         "marker": {
          "symbol": "circle"
         },
         "mode": "lines",
         "name": "IndoorOver500",
         "showlegend": true,
         "x": [
          "2020-05-01",
          "2020-05-02",
          "2020-05-03",
          "2020-05-04",
          "2020-05-05",
          "2020-05-06",
          "2020-05-07",
          "2020-05-08",
          "2020-05-09",
          "2020-05-10",
          "2020-05-11",
          "2020-05-12",
          "2020-05-13",
          "2020-05-14",
          "2020-05-15",
          "2020-05-16",
          "2020-05-17",
          "2020-05-18",
          "2020-05-19",
          "2020-05-20",
          "2020-05-21",
          "2020-05-22",
          "2020-05-23",
          "2020-05-24",
          "2020-05-25",
          "2020-05-26",
          "2020-05-27",
          "2020-05-28",
          "2020-05-29",
          "2020-05-30",
          "2020-05-31",
          "2020-06-01"
         ],
         "xaxis": "x",
         "y": [
          1,
          1,
          1,
          1,
          1,
          1,
          1,
          1,
          1,
          1,
          1,
          1,
          1,
          1,
          1,
          1,
          1,
          1,
          1,
          1,
          1,
          1,
          1,
          1,
          2,
          3,
          3,
          3,
          3,
          3,
          3,
          3
         ],
         "yaxis": "y",
         "type": "scattergl"
        },
        {
         "hovertemplate": "Regulation=MassGather50<br>Date=%{x}<br>num_countries=%{y}<extra></extra>",
         "legendgroup": "MassGather50",
         "line": {
          "color": "#19d3f3",
          "dash": "solid"
         },
         "marker": {
          "symbol": "circle"
         },
         "mode": "lines",
         "name": "MassGather50",
         "showlegend": true,
         "x": [
          "2020-05-01",
          "2020-05-02",
          "2020-05-03",
          "2020-05-04",
          "2020-05-05",
          "2020-05-06",
          "2020-05-07",
          "2020-05-08",
          "2020-05-09",
          "2020-05-10",
          "2020-05-11",
          "2020-05-12",
          "2020-05-13",
          "2020-05-14",
          "2020-05-15",
          "2020-05-16",
          "2020-05-17",
          "2020-05-18",
          "2020-05-19",
          "2020-05-20",
          "2020-05-21",
          "2020-05-22",
          "2020-05-23",
          "2020-05-24",
          "2020-05-25",
          "2020-05-26",
          "2020-05-27",
          "2020-05-28",
          "2020-05-29",
          "2020-05-30",
          "2020-05-31",
          "2020-06-01"
         ],
         "xaxis": "x",
         "y": [
          20,
          20,
          20,
          20,
          20,
          20,
          20,
          20,
          20,
          20,
          18,
          18,
          18,
          18,
          17,
          17,
          17,
          17,
          17,
          17,
          17,
          17,
          17,
          17,
          17,
          16,
          16,
          16,
          16,
          15,
          15,
          12
         ],
         "yaxis": "y",
         "type": "scattergl"
        },
        {
         "hovertemplate": "Regulation=MassGather50Partial<br>Date=%{x}<br>num_countries=%{y}<extra></extra>",
         "legendgroup": "MassGather50Partial",
         "line": {
          "color": "#FF6692",
          "dash": "solid"
         },
         "marker": {
          "symbol": "circle"
         },
         "mode": "lines",
         "name": "MassGather50Partial",
         "showlegend": true,
         "x": [
          "2020-05-01",
          "2020-05-02",
          "2020-05-03",
          "2020-05-04",
          "2020-05-05",
          "2020-05-06",
          "2020-05-07",
          "2020-05-08",
          "2020-05-09",
          "2020-05-10",
          "2020-05-11",
          "2020-05-12",
          "2020-05-13",
          "2020-05-14",
          "2020-05-15",
          "2020-05-16",
          "2020-05-17",
          "2020-05-18",
          "2020-05-19",
          "2020-05-20",
          "2020-05-21",
          "2020-05-22",
          "2020-05-23",
          "2020-05-24",
          "2020-05-25",
          "2020-05-26",
          "2020-05-27",
          "2020-05-28",
          "2020-05-29",
          "2020-05-30",
          "2020-05-31",
          "2020-06-01"
         ],
         "xaxis": "x",
         "y": [
          1,
          1,
          1,
          1,
          1,
          1,
          1,
          1,
          1,
          1,
          2,
          2,
          2,
          2,
          3,
          3,
          3,
          3,
          3,
          3,
          3,
          3,
          3,
          3,
          3,
          3,
          3,
          3,
          3,
          3,
          3,
          3
         ],
         "yaxis": "y",
         "type": "scattergl"
        },
        {
         "hovertemplate": "Regulation=MassGatherAll<br>Date=%{x}<br>num_countries=%{y}<extra></extra>",
         "legendgroup": "MassGatherAll",
         "line": {
          "color": "#B6E880",
          "dash": "solid"
         },
         "marker": {
          "symbol": "circle"
         },
         "mode": "lines",
         "name": "MassGatherAll",
         "showlegend": true,
         "x": [
          "2020-05-01",
          "2020-05-02",
          "2020-05-03",
          "2020-05-04",
          "2020-05-05",
          "2020-05-06",
          "2020-05-07",
          "2020-05-08",
          "2020-05-09",
          "2020-05-10",
          "2020-05-11",
          "2020-05-12",
          "2020-05-13",
          "2020-05-14",
          "2020-05-15",
          "2020-05-16",
          "2020-05-17",
          "2020-05-18",
          "2020-05-19",
          "2020-05-20",
          "2020-05-21",
          "2020-05-22",
          "2020-05-23",
          "2020-05-24",
          "2020-05-25",
          "2020-05-26",
          "2020-05-27",
          "2020-05-28",
          "2020-05-29",
          "2020-05-30",
          "2020-05-31",
          "2020-06-01"
         ],
         "xaxis": "x",
         "y": [
          22,
          22,
          22,
          22,
          22,
          22,
          22,
          22,
          22,
          22,
          21,
          21,
          21,
          21,
          21,
          21,
          21,
          21,
          21,
          21,
          21,
          21,
          21,
          21,
          20,
          20,
          20,
          20,
          20,
          20,
          20,
          19
         ],
         "yaxis": "y",
         "type": "scattergl"
        },
        {
         "hovertemplate": "Regulation=MassGatherAllPartial<br>Date=%{x}<br>num_countries=%{y}<extra></extra>",
         "legendgroup": "MassGatherAllPartial",
         "line": {
          "color": "#FF97FF",
          "dash": "solid"
         },
         "marker": {
          "symbol": "circle"
         },
         "mode": "lines",
         "name": "MassGatherAllPartial",
         "showlegend": true,
         "x": [
          "2020-05-01",
          "2020-05-02",
          "2020-05-03",
          "2020-05-04",
          "2020-05-05",
          "2020-05-06",
          "2020-05-07",
          "2020-05-08",
          "2020-05-09",
          "2020-05-10",
          "2020-05-11",
          "2020-05-12",
          "2020-05-13",
          "2020-05-14",
          "2020-05-15",
          "2020-05-16",
          "2020-05-17",
          "2020-05-18",
          "2020-05-19",
          "2020-05-20",
          "2020-05-21",
          "2020-05-22",
          "2020-05-23",
          "2020-05-24",
          "2020-05-25",
          "2020-05-26",
          "2020-05-27",
          "2020-05-28",
          "2020-05-29",
          "2020-05-30",
          "2020-05-31",
          "2020-06-01"
         ],
         "xaxis": "x",
         "y": [
          3,
          3,
          3,
          3,
          3,
          3,
          3,
          3,
          3,
          3,
          3,
          3,
          3,
          3,
          3,
          3,
          3,
          4,
          4,
          4,
          4,
          4,
          4,
          4,
          5,
          5,
          5,
          5,
          5,
          5,
          5,
          5
         ],
         "yaxis": "y",
         "type": "scattergl"
        },
        {
         "hovertemplate": "Regulation=NonEssentialShops<br>Date=%{x}<br>num_countries=%{y}<extra></extra>",
         "legendgroup": "NonEssentialShops",
         "line": {
          "color": "#FECB52",
          "dash": "solid"
         },
         "marker": {
          "symbol": "circle"
         },
         "mode": "lines",
         "name": "NonEssentialShops",
         "showlegend": true,
         "x": [
          "2020-05-01",
          "2020-05-02",
          "2020-05-03",
          "2020-05-04",
          "2020-05-05",
          "2020-05-06",
          "2020-05-07",
          "2020-05-08",
          "2020-05-09",
          "2020-05-10",
          "2020-05-11",
          "2020-05-12",
          "2020-05-13",
          "2020-05-14",
          "2020-05-15",
          "2020-05-16",
          "2020-05-17",
          "2020-05-18",
          "2020-05-19",
          "2020-05-20",
          "2020-05-21",
          "2020-05-22",
          "2020-05-23",
          "2020-05-24",
          "2020-05-25",
          "2020-05-26",
          "2020-05-27",
          "2020-05-28",
          "2020-05-29",
          "2020-05-30",
          "2020-05-31",
          "2020-06-01"
         ],
         "xaxis": "x",
         "y": [
          10,
          10,
          10,
          10,
          10,
          10,
          10,
          10,
          10,
          10,
          10,
          9,
          9,
          8,
          8,
          8,
          8,
          5,
          5,
          5,
          5,
          3,
          3,
          3,
          3,
          3,
          3,
          3,
          3,
          3,
          3,
          3
         ],
         "yaxis": "y",
         "type": "scattergl"
        },
        {
         "hovertemplate": "Regulation=NonEssentialShopsPartial<br>Date=%{x}<br>num_countries=%{y}<extra></extra>",
         "legendgroup": "NonEssentialShopsPartial",
         "line": {
          "color": "#636efa",
          "dash": "solid"
         },
         "marker": {
          "symbol": "circle"
         },
         "mode": "lines",
         "name": "NonEssentialShopsPartial",
         "showlegend": true,
         "x": [
          "2020-05-01",
          "2020-05-02",
          "2020-05-03",
          "2020-05-04",
          "2020-05-05",
          "2020-05-06",
          "2020-05-07",
          "2020-05-08",
          "2020-05-09",
          "2020-05-10",
          "2020-05-11",
          "2020-05-12",
          "2020-05-13",
          "2020-05-14",
          "2020-05-15",
          "2020-05-16",
          "2020-05-17",
          "2020-05-18",
          "2020-05-19",
          "2020-05-20",
          "2020-05-21",
          "2020-05-22",
          "2020-05-23",
          "2020-05-24",
          "2020-05-25",
          "2020-05-26",
          "2020-05-27",
          "2020-05-28",
          "2020-05-29",
          "2020-05-30",
          "2020-05-31",
          "2020-06-01"
         ],
         "xaxis": "x",
         "y": [
          10,
          9,
          9,
          9,
          9,
          9,
          9,
          9,
          9,
          9,
          8,
          8,
          8,
          9,
          9,
          9,
          9,
          9,
          7,
          6,
          6,
          8,
          8,
          8,
          8,
          7,
          7,
          7,
          7,
          6,
          6,
          6
         ],
         "yaxis": "y",
         "type": "scattergl"
        },
        {
         "hovertemplate": "Regulation=OutdoorOver100<br>Date=%{x}<br>num_countries=%{y}<extra></extra>",
         "legendgroup": "OutdoorOver100",
         "line": {
          "color": "#EF553B",
          "dash": "solid"
         },
         "marker": {
          "symbol": "circle"
         },
         "mode": "lines",
         "name": "OutdoorOver100",
         "showlegend": true,
         "x": [
          "2020-05-01",
          "2020-05-02",
          "2020-05-03",
          "2020-05-04",
          "2020-05-05",
          "2020-05-06",
          "2020-05-07",
          "2020-05-08",
          "2020-05-09",
          "2020-05-10",
          "2020-05-11",
          "2020-05-12",
          "2020-05-13",
          "2020-05-14",
          "2020-05-15",
          "2020-05-16",
          "2020-05-17",
          "2020-05-18",
          "2020-05-19",
          "2020-05-20",
          "2020-05-21",
          "2020-05-22",
          "2020-05-23",
          "2020-05-24",
          "2020-05-25",
          "2020-05-26",
          "2020-05-27",
          "2020-05-28",
          "2020-05-29",
          "2020-05-30",
          "2020-05-31",
          "2020-06-01"
         ],
         "xaxis": "x",
         "y": [
          1,
          1,
          1,
          1,
          1,
          1,
          1,
          1,
          1,
          1,
          1,
          1,
          1,
          1,
          1,
          1,
          1,
          2,
          2,
          2,
          2,
          2,
          2,
          2,
          1,
          1,
          1,
          1,
          1,
          2,
          2,
          2
         ],
         "yaxis": "y",
         "type": "scattergl"
        },
        {
         "hovertemplate": "Regulation=OutdoorOver1000<br>Date=%{x}<br>num_countries=%{y}<extra></extra>",
         "legendgroup": "OutdoorOver1000",
         "line": {
          "color": "#00cc96",
          "dash": "solid"
         },
         "marker": {
          "symbol": "circle"
         },
         "mode": "lines",
         "name": "OutdoorOver1000",
         "showlegend": true,
         "x": [
          "2020-05-01",
          "2020-05-02",
          "2020-05-03",
          "2020-05-04",
          "2020-05-05",
          "2020-05-06",
          "2020-05-07",
          "2020-05-08",
          "2020-05-09",
          "2020-05-10",
          "2020-05-11",
          "2020-05-12",
          "2020-05-13",
          "2020-05-14",
          "2020-05-15",
          "2020-05-16",
          "2020-05-17",
          "2020-05-18",
          "2020-05-19",
          "2020-05-20",
          "2020-05-21",
          "2020-05-22",
          "2020-05-23",
          "2020-05-24",
          "2020-05-25",
          "2020-05-26",
          "2020-05-27",
          "2020-05-28",
          "2020-05-29",
          "2020-05-30",
          "2020-05-31",
          "2020-06-01"
         ],
         "xaxis": "x",
         "y": [
          1,
          1,
          1,
          1,
          1,
          1,
          1,
          1,
          1,
          1,
          1,
          1,
          1,
          1,
          1,
          1,
          1,
          2,
          2,
          2,
          2,
          2,
          2,
          2,
          2,
          2,
          2,
          2,
          2,
          2,
          2,
          2
         ],
         "yaxis": "y",
         "type": "scattergl"
        },
        {
         "hovertemplate": "Regulation=OutdoorOver50<br>Date=%{x}<br>num_countries=%{y}<extra></extra>",
         "legendgroup": "OutdoorOver50",
         "line": {
          "color": "#ab63fa",
          "dash": "solid"
         },
         "marker": {
          "symbol": "circle"
         },
         "mode": "lines",
         "name": "OutdoorOver50",
         "showlegend": true,
         "x": [
          "2020-05-01",
          "2020-05-02",
          "2020-05-03",
          "2020-05-04",
          "2020-05-05",
          "2020-05-06",
          "2020-05-07",
          "2020-05-08",
          "2020-05-09",
          "2020-05-10",
          "2020-05-11",
          "2020-05-12",
          "2020-05-13",
          "2020-05-14",
          "2020-05-15",
          "2020-05-16",
          "2020-05-17",
          "2020-05-18",
          "2020-05-19",
          "2020-05-20",
          "2020-05-21",
          "2020-05-22",
          "2020-05-23",
          "2020-05-24",
          "2020-05-25",
          "2020-05-26",
          "2020-05-27",
          "2020-05-28",
          "2020-05-29",
          "2020-05-30",
          "2020-05-31",
          "2020-06-01"
         ],
         "xaxis": "x",
         "y": [
          2,
          2,
          2,
          2,
          3,
          3,
          4,
          4,
          4,
          4,
          4,
          4,
          4,
          4,
          4,
          4,
          4,
          5,
          5,
          5,
          5,
          5,
          5,
          5,
          5,
          4,
          4,
          4,
          4,
          4,
          4,
          3
         ],
         "yaxis": "y",
         "type": "scattergl"
        },
        {
         "hovertemplate": "Regulation=OutdoorOver500<br>Date=%{x}<br>num_countries=%{y}<extra></extra>",
         "legendgroup": "OutdoorOver500",
         "line": {
          "color": "#FFA15A",
          "dash": "solid"
         },
         "marker": {
          "symbol": "circle"
         },
         "mode": "lines",
         "name": "OutdoorOver500",
         "showlegend": true,
         "x": [
          "2020-05-01",
          "2020-05-02",
          "2020-05-03",
          "2020-05-04",
          "2020-05-05",
          "2020-05-06",
          "2020-05-07",
          "2020-05-08",
          "2020-05-09",
          "2020-05-10",
          "2020-05-11",
          "2020-05-12",
          "2020-05-13",
          "2020-05-14",
          "2020-05-15",
          "2020-05-16",
          "2020-05-17",
          "2020-05-18",
          "2020-05-19",
          "2020-05-20",
          "2020-05-21",
          "2020-05-22",
          "2020-05-23",
          "2020-05-24",
          "2020-05-25",
          "2020-05-26",
          "2020-05-27",
          "2020-05-28",
          "2020-05-29",
          "2020-05-30",
          "2020-05-31",
          "2020-06-01"
         ],
         "xaxis": "x",
         "y": [
          3,
          3,
          3,
          3,
          3,
          3,
          3,
          3,
          3,
          3,
          3,
          3,
          3,
          3,
          3,
          3,
          3,
          3,
          3,
          3,
          3,
          3,
          3,
          3,
          4,
          5,
          5,
          5,
          5,
          5,
          5,
          5
         ],
         "yaxis": "y",
         "type": "scattergl"
        },
        {
         "hovertemplate": "Regulation=PlaceOfWorship<br>Date=%{x}<br>num_countries=%{y}<extra></extra>",
         "legendgroup": "PlaceOfWorship",
         "line": {
          "color": "#19d3f3",
          "dash": "solid"
         },
         "marker": {
          "symbol": "circle"
         },
         "mode": "lines",
         "name": "PlaceOfWorship",
         "showlegend": true,
         "x": [
          "2020-05-01",
          "2020-05-02",
          "2020-05-03",
          "2020-05-04",
          "2020-05-05",
          "2020-05-06",
          "2020-05-07",
          "2020-05-08",
          "2020-05-09",
          "2020-05-10",
          "2020-05-11",
          "2020-05-12",
          "2020-05-13",
          "2020-05-14",
          "2020-05-15",
          "2020-05-16",
          "2020-05-17",
          "2020-05-18",
          "2020-05-19",
          "2020-05-20",
          "2020-05-21",
          "2020-05-22",
          "2020-05-23",
          "2020-05-24",
          "2020-05-25",
          "2020-05-26",
          "2020-05-27",
          "2020-05-28",
          "2020-05-29",
          "2020-05-30",
          "2020-05-31",
          "2020-06-01"
         ],
         "xaxis": "x",
         "y": [
          10,
          10,
          10,
          9,
          9,
          9,
          9,
          9,
          9,
          9,
          8,
          7,
          7,
          7,
          5,
          5,
          5,
          5,
          4,
          4,
          4,
          4,
          4,
          4,
          4,
          4,
          4,
          4,
          4,
          4,
          3,
          2
         ],
         "yaxis": "y",
         "type": "scattergl"
        },
        {
         "hovertemplate": "Regulation=PlaceOfWorshipPartial<br>Date=%{x}<br>num_countries=%{y}<extra></extra>",
         "legendgroup": "PlaceOfWorshipPartial",
         "line": {
          "color": "#FF6692",
          "dash": "solid"
         },
         "marker": {
          "symbol": "circle"
         },
         "mode": "lines",
         "name": "PlaceOfWorshipPartial",
         "showlegend": true,
         "x": [
          "2020-05-01",
          "2020-05-02",
          "2020-05-03",
          "2020-05-04",
          "2020-05-05",
          "2020-05-06",
          "2020-05-07",
          "2020-05-08",
          "2020-05-09",
          "2020-05-10",
          "2020-05-11",
          "2020-05-12",
          "2020-05-13",
          "2020-05-14",
          "2020-05-15",
          "2020-05-16",
          "2020-05-17",
          "2020-05-18",
          "2020-05-19",
          "2020-05-20",
          "2020-05-21",
          "2020-05-22",
          "2020-05-23",
          "2020-05-24",
          "2020-05-25",
          "2020-05-26",
          "2020-05-27",
          "2020-05-28",
          "2020-05-29",
          "2020-05-30",
          "2020-05-31",
          "2020-06-01"
         ],
         "xaxis": "x",
         "y": [
          5,
          5,
          5,
          6,
          6,
          6,
          6,
          6,
          6,
          6,
          6,
          7,
          7,
          7,
          9,
          9,
          9,
          9,
          9,
          9,
          9,
          9,
          9,
          9,
          9,
          9,
          9,
          9,
          9,
          9,
          8,
          8
         ],
         "yaxis": "y",
         "type": "scattergl"
        },
        {
         "hovertemplate": "Regulation=PrivateGatheringRestrictions<br>Date=%{x}<br>num_countries=%{y}<extra></extra>",
         "legendgroup": "PrivateGatheringRestrictions",
         "line": {
          "color": "#B6E880",
          "dash": "solid"
         },
         "marker": {
          "symbol": "circle"
         },
         "mode": "lines",
         "name": "PrivateGatheringRestrictions",
         "showlegend": true,
         "x": [
          "2020-05-01",
          "2020-05-02",
          "2020-05-03",
          "2020-05-04",
          "2020-05-05",
          "2020-05-06",
          "2020-05-07",
          "2020-05-08",
          "2020-05-09",
          "2020-05-10",
          "2020-05-11",
          "2020-05-12",
          "2020-05-13",
          "2020-05-14",
          "2020-05-15",
          "2020-05-16",
          "2020-05-17",
          "2020-05-18",
          "2020-05-19",
          "2020-05-20",
          "2020-05-21",
          "2020-05-22",
          "2020-05-23",
          "2020-05-24",
          "2020-05-25",
          "2020-05-26",
          "2020-05-27",
          "2020-05-28",
          "2020-05-29",
          "2020-05-30",
          "2020-05-31",
          "2020-06-01"
         ],
         "xaxis": "x",
         "y": [
          16,
          16,
          17,
          15,
          15,
          15,
          15,
          15,
          15,
          15,
          15,
          13,
          13,
          13,
          13,
          13,
          13,
          11,
          11,
          11,
          10,
          10,
          10,
          10,
          10,
          10,
          10,
          10,
          10,
          9,
          9,
          9
         ],
         "yaxis": "y",
         "type": "scattergl"
        },
        {
         "hovertemplate": "Regulation=PrivateGatheringRestrictionsPartial<br>Date=%{x}<br>num_countries=%{y}<extra></extra>",
         "legendgroup": "PrivateGatheringRestrictionsPartial",
         "line": {
          "color": "#FF97FF",
          "dash": "solid"
         },
         "marker": {
          "symbol": "circle"
         },
         "mode": "lines",
         "name": "PrivateGatheringRestrictionsPartial",
         "showlegend": true,
         "x": [
          "2020-05-01",
          "2020-05-02",
          "2020-05-03",
          "2020-05-04",
          "2020-05-05",
          "2020-05-06",
          "2020-05-07",
          "2020-05-08",
          "2020-05-09",
          "2020-05-10",
          "2020-05-11",
          "2020-05-12",
          "2020-05-13",
          "2020-05-14",
          "2020-05-15",
          "2020-05-16",
          "2020-05-17",
          "2020-05-18",
          "2020-05-19",
          "2020-05-20",
          "2020-05-21",
          "2020-05-22",
          "2020-05-23",
          "2020-05-24",
          "2020-05-25",
          "2020-05-26",
          "2020-05-27",
          "2020-05-28",
          "2020-05-29",
          "2020-05-30",
          "2020-05-31",
          "2020-06-01"
         ],
         "xaxis": "x",
         "y": [
          1,
          1,
          1,
          1,
          1,
          1,
          1,
          1,
          1,
          1,
          2,
          2,
          2,
          2,
          2,
          2,
          2,
          2,
          2,
          2,
          2,
          2,
          2,
          2,
          3,
          3,
          3,
          3,
          3,
          3,
          3,
          3
         ],
         "yaxis": "y",
         "type": "scattergl"
        },
        {
         "hovertemplate": "Regulation=QuarantineForInternationalTravellers<br>Date=%{x}<br>num_countries=%{y}<extra></extra>",
         "legendgroup": "QuarantineForInternationalTravellers",
         "line": {
          "color": "#FECB52",
          "dash": "solid"
         },
         "marker": {
          "symbol": "circle"
         },
         "mode": "lines",
         "name": "QuarantineForInternationalTravellers",
         "showlegend": true,
         "x": [
          "2020-05-01",
          "2020-05-02",
          "2020-05-03",
          "2020-05-04",
          "2020-05-05",
          "2020-05-06",
          "2020-05-07",
          "2020-05-08",
          "2020-05-09",
          "2020-05-10",
          "2020-05-11",
          "2020-05-12",
          "2020-05-13",
          "2020-05-14",
          "2020-05-15",
          "2020-05-16",
          "2020-05-17",
          "2020-05-18",
          "2020-05-19",
          "2020-05-20",
          "2020-05-21",
          "2020-05-22",
          "2020-05-23",
          "2020-05-24",
          "2020-05-25",
          "2020-05-26",
          "2020-05-27",
          "2020-05-28",
          "2020-05-29",
          "2020-05-30",
          "2020-05-31",
          "2020-06-01"
         ],
         "xaxis": "x",
         "y": [
          15,
          15,
          15,
          15,
          15,
          15,
          15,
          15,
          15,
          15,
          15,
          14,
          14,
          14,
          15,
          15,
          15,
          15,
          15,
          15,
          15,
          15,
          15,
          15,
          15,
          15,
          15,
          15,
          15,
          15,
          15,
          14
         ],
         "yaxis": "y",
         "type": "scattergl"
        },
        {
         "hovertemplate": "Regulation=QuarantineForInternationalTravellersPartial<br>Date=%{x}<br>num_countries=%{y}<extra></extra>",
         "legendgroup": "QuarantineForInternationalTravellersPartial",
         "line": {
          "color": "#636efa",
          "dash": "solid"
         },
         "marker": {
          "symbol": "circle"
         },
         "mode": "lines",
         "name": "QuarantineForInternationalTravellersPartial",
         "showlegend": true,
         "x": [
          "2020-05-01",
          "2020-05-02",
          "2020-05-03",
          "2020-05-04",
          "2020-05-05",
          "2020-05-06",
          "2020-05-07",
          "2020-05-08",
          "2020-05-09",
          "2020-05-10",
          "2020-05-11",
          "2020-05-12",
          "2020-05-13",
          "2020-05-14",
          "2020-05-15",
          "2020-05-16",
          "2020-05-17",
          "2020-05-18",
          "2020-05-19",
          "2020-05-20",
          "2020-05-21",
          "2020-05-22",
          "2020-05-23",
          "2020-05-24",
          "2020-05-25",
          "2020-05-26",
          "2020-05-27",
          "2020-05-28",
          "2020-05-29",
          "2020-05-30",
          "2020-05-31",
          "2020-06-01"
         ],
         "xaxis": "x",
         "y": [
          2,
          2,
          2,
          2,
          2,
          2,
          3,
          3,
          3,
          3,
          4,
          4,
          4,
          4,
          4,
          4,
          4,
          4,
          4,
          4,
          4,
          4,
          4,
          4,
          4,
          4,
          4,
          4,
          4,
          4,
          4,
          4
         ],
         "yaxis": "y",
         "type": "scattergl"
        },
        {
         "hovertemplate": "Regulation=RegionalStayHomeOrder<br>Date=%{x}<br>num_countries=%{y}<extra></extra>",
         "legendgroup": "RegionalStayHomeOrder",
         "line": {
          "color": "#EF553B",
          "dash": "solid"
         },
         "marker": {
          "symbol": "circle"
         },
         "mode": "lines",
         "name": "RegionalStayHomeOrder",
         "showlegend": true,
         "x": [
          "2020-05-01",
          "2020-05-02",
          "2020-05-03"
         ],
         "xaxis": "x",
         "y": [
          1,
          1,
          1
         ],
         "yaxis": "y",
         "type": "scattergl"
        },
        {
         "hovertemplate": "Regulation=RestaurantsCafes<br>Date=%{x}<br>num_countries=%{y}<extra></extra>",
         "legendgroup": "RestaurantsCafes",
         "line": {
          "color": "#00cc96",
          "dash": "solid"
         },
         "marker": {
          "symbol": "circle"
         },
         "mode": "lines",
         "name": "RestaurantsCafes",
         "showlegend": true,
         "x": [
          "2020-05-01",
          "2020-05-02",
          "2020-05-03",
          "2020-05-04",
          "2020-05-05",
          "2020-05-06",
          "2020-05-07",
          "2020-05-08",
          "2020-05-09",
          "2020-05-10",
          "2020-05-11",
          "2020-05-12",
          "2020-05-13",
          "2020-05-14",
          "2020-05-15",
          "2020-05-16",
          "2020-05-17",
          "2020-05-18",
          "2020-05-19",
          "2020-05-20",
          "2020-05-21",
          "2020-05-22",
          "2020-05-23",
          "2020-05-24",
          "2020-05-25",
          "2020-05-26",
          "2020-05-27",
          "2020-05-28",
          "2020-05-29",
          "2020-05-30",
          "2020-05-31",
          "2020-06-01"
         ],
         "xaxis": "x",
         "y": [
          24,
          24,
          24,
          23,
          23,
          23,
          23,
          23,
          23,
          23,
          22,
          21,
          21,
          21,
          20,
          20,
          20,
          16,
          15,
          14,
          13,
          11,
          11,
          11,
          11,
          10,
          10,
          10,
          9,
          9,
          9,
          5
         ],
         "yaxis": "y",
         "type": "scattergl"
        },
        {
         "hovertemplate": "Regulation=RestaurantsCafesPartial<br>Date=%{x}<br>num_countries=%{y}<extra></extra>",
         "legendgroup": "RestaurantsCafesPartial",
         "line": {
          "color": "#ab63fa",
          "dash": "solid"
         },
         "marker": {
          "symbol": "circle"
         },
         "mode": "lines",
         "name": "RestaurantsCafesPartial",
         "showlegend": true,
         "x": [
          "2020-05-01",
          "2020-05-02",
          "2020-05-03",
          "2020-05-04",
          "2020-05-05",
          "2020-05-06",
          "2020-05-07",
          "2020-05-08",
          "2020-05-09",
          "2020-05-10",
          "2020-05-11",
          "2020-05-12",
          "2020-05-13",
          "2020-05-14",
          "2020-05-15",
          "2020-05-16",
          "2020-05-17",
          "2020-05-18",
          "2020-05-19",
          "2020-05-20",
          "2020-05-21",
          "2020-05-22",
          "2020-05-23",
          "2020-05-24",
          "2020-05-25",
          "2020-05-26",
          "2020-05-27",
          "2020-05-28",
          "2020-05-29",
          "2020-05-30",
          "2020-05-31",
          "2020-06-01"
         ],
         "xaxis": "x",
         "y": [
          3,
          3,
          3,
          4,
          4,
          4,
          4,
          4,
          4,
          4,
          5,
          6,
          6,
          6,
          6,
          6,
          6,
          8,
          7,
          8,
          9,
          11,
          11,
          11,
          11,
          11,
          11,
          11,
          12,
          12,
          12,
          12
         ],
         "yaxis": "y",
         "type": "scattergl"
        },
        {
         "hovertemplate": "Regulation=SocialCircle<br>Date=%{x}<br>num_countries=%{y}<extra></extra>",
         "legendgroup": "SocialCircle",
         "line": {
          "color": "#FFA15A",
          "dash": "solid"
         },
         "marker": {
          "symbol": "circle"
         },
         "mode": "lines",
         "name": "SocialCircle",
         "showlegend": true,
         "x": [
          "2020-05-01",
          "2020-05-02",
          "2020-05-03",
          "2020-05-04",
          "2020-05-05",
          "2020-05-06",
          "2020-05-07",
          "2020-05-08",
          "2020-05-09",
          "2020-05-10",
          "2020-05-11",
          "2020-05-12",
          "2020-05-13",
          "2020-05-14",
          "2020-05-15",
          "2020-05-16",
          "2020-05-17",
          "2020-05-18",
          "2020-05-19",
          "2020-05-20",
          "2020-05-21",
          "2020-05-22",
          "2020-05-23",
          "2020-05-24",
          "2020-05-25",
          "2020-05-26",
          "2020-05-27",
          "2020-05-28",
          "2020-05-29",
          "2020-05-30",
          "2020-05-31",
          "2020-06-01"
         ],
         "xaxis": "x",
         "y": [
          1,
          1,
          1,
          1,
          1,
          1,
          1,
          1,
          1,
          1,
          1,
          1,
          1,
          1,
          1,
          1,
          1,
          1,
          1,
          1,
          1,
          1,
          1,
          1,
          1,
          1,
          1,
          1,
          1,
          1,
          1,
          1
         ],
         "yaxis": "y",
         "type": "scattergl"
        },
        {
         "hovertemplate": "Regulation=StayHomeGen<br>Date=%{x}<br>num_countries=%{y}<extra></extra>",
         "legendgroup": "StayHomeGen",
         "line": {
          "color": "#19d3f3",
          "dash": "solid"
         },
         "marker": {
          "symbol": "circle"
         },
         "mode": "lines",
         "name": "StayHomeGen",
         "showlegend": true,
         "x": [
          "2020-05-01",
          "2020-05-02",
          "2020-05-03",
          "2020-05-04",
          "2020-05-05",
          "2020-05-06",
          "2020-05-07",
          "2020-05-08",
          "2020-05-09",
          "2020-05-10",
          "2020-05-11",
          "2020-05-12",
          "2020-05-13",
          "2020-05-14",
          "2020-05-15",
          "2020-05-16",
          "2020-05-17",
          "2020-05-18",
          "2020-05-19",
          "2020-05-20",
          "2020-05-21",
          "2020-05-22",
          "2020-05-23",
          "2020-05-24",
          "2020-05-25",
          "2020-05-26",
          "2020-05-27",
          "2020-05-28",
          "2020-05-29",
          "2020-05-30",
          "2020-05-31",
          "2020-06-01"
         ],
         "xaxis": "x",
         "y": [
          6,
          6,
          6,
          6,
          5,
          4,
          4,
          4,
          4,
          5,
          4,
          4,
          4,
          4,
          4,
          4,
          4,
          4,
          3,
          3,
          3,
          3,
          3,
          3,
          3,
          3,
          3,
          3,
          3,
          3,
          3,
          3
         ],
         "yaxis": "y",
         "type": "scattergl"
        },
        {
         "hovertemplate": "Regulation=StayHomeGenPartial<br>Date=%{x}<br>num_countries=%{y}<extra></extra>",
         "legendgroup": "StayHomeGenPartial",
         "line": {
          "color": "#FF6692",
          "dash": "solid"
         },
         "marker": {
          "symbol": "circle"
         },
         "mode": "lines",
         "name": "StayHomeGenPartial",
         "showlegend": true,
         "x": [
          "2020-05-06",
          "2020-05-07",
          "2020-05-08",
          "2020-05-09",
          "2020-05-10",
          "2020-05-11",
          "2020-05-12",
          "2020-05-13",
          "2020-05-14",
          "2020-05-15",
          "2020-05-16",
          "2020-05-17",
          "2020-05-18",
          "2020-05-19",
          "2020-05-20",
          "2020-05-21",
          "2020-05-22",
          "2020-05-23",
          "2020-05-24",
          "2020-05-25",
          "2020-05-26",
          "2020-05-27",
          "2020-05-28",
          "2020-05-29",
          "2020-05-30",
          "2020-05-31",
          "2020-06-01"
         ],
         "xaxis": "x",
         "y": [
          1,
          1,
          1,
          1,
          1,
          2,
          2,
          2,
          2,
          2,
          2,
          2,
          2,
          2,
          2,
          2,
          2,
          2,
          2,
          2,
          2,
          2,
          2,
          2,
          2,
          2,
          2
         ],
         "yaxis": "y",
         "type": "scattergl"
        },
        {
         "hovertemplate": "Regulation=StayHomeOrder<br>Date=%{x}<br>num_countries=%{y}<extra></extra>",
         "legendgroup": "StayHomeOrder",
         "line": {
          "color": "#B6E880",
          "dash": "solid"
         },
         "marker": {
          "symbol": "circle"
         },
         "mode": "lines",
         "name": "StayHomeOrder",
         "showlegend": true,
         "x": [
          "2020-05-01",
          "2020-05-02",
          "2020-05-03",
          "2020-05-04",
          "2020-05-05",
          "2020-05-06",
          "2020-05-07",
          "2020-05-08",
          "2020-05-09",
          "2020-05-10",
          "2020-05-11",
          "2020-05-12",
          "2020-05-13",
          "2020-05-14",
          "2020-05-15",
          "2020-05-16",
          "2020-05-17",
          "2020-05-18"
         ],
         "xaxis": "x",
         "y": [
          9,
          9,
          8,
          7,
          5,
          5,
          5,
          5,
          5,
          4,
          3,
          2,
          2,
          2,
          2,
          2,
          2,
          1
         ],
         "yaxis": "y",
         "type": "scattergl"
        },
        {
         "hovertemplate": "Regulation=StayHomeOrderPartial<br>Date=%{x}<br>num_countries=%{y}<extra></extra>",
         "legendgroup": "StayHomeOrderPartial",
         "line": {
          "color": "#FF97FF",
          "dash": "solid"
         },
         "marker": {
          "symbol": "circle"
         },
         "mode": "lines",
         "name": "StayHomeOrderPartial",
         "showlegend": true,
         "x": [
          "2020-05-01",
          "2020-05-02",
          "2020-05-03",
          "2020-05-04",
          "2020-05-05",
          "2020-05-06",
          "2020-05-07",
          "2020-05-08",
          "2020-05-09",
          "2020-05-10",
          "2020-05-11",
          "2020-05-12",
          "2020-05-13",
          "2020-05-14",
          "2020-05-15",
          "2020-05-16",
          "2020-05-17",
          "2020-05-18",
          "2020-05-19",
          "2020-05-20",
          "2020-05-21",
          "2020-05-22",
          "2020-05-23",
          "2020-05-24",
          "2020-05-25",
          "2020-05-26",
          "2020-05-27",
          "2020-05-28",
          "2020-05-29",
          "2020-05-30",
          "2020-05-31",
          "2020-06-01"
         ],
         "xaxis": "x",
         "y": [
          3,
          3,
          3,
          4,
          4,
          4,
          4,
          4,
          4,
          4,
          4,
          4,
          4,
          3,
          3,
          3,
          3,
          3,
          3,
          3,
          3,
          2,
          2,
          2,
          2,
          2,
          2,
          2,
          2,
          2,
          2,
          2
         ],
         "yaxis": "y",
         "type": "scattergl"
        },
        {
         "hovertemplate": "Regulation=StayHomeRiskG<br>Date=%{x}<br>num_countries=%{y}<extra></extra>",
         "legendgroup": "StayHomeRiskG",
         "line": {
          "color": "#FECB52",
          "dash": "solid"
         },
         "marker": {
          "symbol": "circle"
         },
         "mode": "lines",
         "name": "StayHomeRiskG",
         "showlegend": true,
         "x": [
          "2020-05-01",
          "2020-05-02",
          "2020-05-03",
          "2020-05-04",
          "2020-05-05",
          "2020-05-06",
          "2020-05-07",
          "2020-05-08",
          "2020-05-09",
          "2020-05-10",
          "2020-05-11",
          "2020-05-12",
          "2020-05-13",
          "2020-05-14",
          "2020-05-15",
          "2020-05-16",
          "2020-05-17",
          "2020-05-18",
          "2020-05-19",
          "2020-05-20",
          "2020-05-21",
          "2020-05-22",
          "2020-05-23",
          "2020-05-24",
          "2020-05-25",
          "2020-05-26",
          "2020-05-27",
          "2020-05-28",
          "2020-05-29",
          "2020-05-30",
          "2020-05-31",
          "2020-06-01"
         ],
         "xaxis": "x",
         "y": [
          14,
          14,
          13,
          13,
          13,
          13,
          13,
          13,
          13,
          13,
          13,
          13,
          13,
          13,
          12,
          12,
          12,
          12,
          12,
          12,
          12,
          12,
          12,
          12,
          12,
          12,
          12,
          12,
          12,
          12,
          12,
          12
         ],
         "yaxis": "y",
         "type": "scattergl"
        },
        {
         "hovertemplate": "Regulation=Teleworking<br>Date=%{x}<br>num_countries=%{y}<extra></extra>",
         "legendgroup": "Teleworking",
         "line": {
          "color": "#636efa",
          "dash": "solid"
         },
         "marker": {
          "symbol": "circle"
         },
         "mode": "lines",
         "name": "Teleworking",
         "showlegend": true,
         "x": [
          "2020-05-01",
          "2020-05-02",
          "2020-05-03",
          "2020-05-04",
          "2020-05-05",
          "2020-05-06",
          "2020-05-07",
          "2020-05-08",
          "2020-05-09",
          "2020-05-10",
          "2020-05-11",
          "2020-05-12",
          "2020-05-13",
          "2020-05-14",
          "2020-05-15",
          "2020-05-16",
          "2020-05-17",
          "2020-05-18",
          "2020-05-19",
          "2020-05-20",
          "2020-05-21",
          "2020-05-22",
          "2020-05-23",
          "2020-05-24",
          "2020-05-25",
          "2020-05-26",
          "2020-05-27",
          "2020-05-28",
          "2020-05-29",
          "2020-05-30",
          "2020-05-31",
          "2020-06-01"
         ],
         "xaxis": "x",
         "y": [
          18,
          18,
          18,
          18,
          18,
          18,
          18,
          18,
          18,
          18,
          17,
          17,
          17,
          17,
          17,
          17,
          17,
          17,
          17,
          17,
          17,
          17,
          17,
          17,
          17,
          17,
          17,
          16,
          16,
          16,
          16,
          14
         ],
         "yaxis": "y",
         "type": "scattergl"
        },
        {
         "hovertemplate": "Regulation=TeleworkingPartial<br>Date=%{x}<br>num_countries=%{y}<extra></extra>",
         "legendgroup": "TeleworkingPartial",
         "line": {
          "color": "#EF553B",
          "dash": "solid"
         },
         "marker": {
          "symbol": "circle"
         },
         "mode": "lines",
         "name": "TeleworkingPartial",
         "showlegend": true,
         "x": [
          "2020-05-01",
          "2020-05-02",
          "2020-05-03",
          "2020-05-04",
          "2020-05-05",
          "2020-05-06",
          "2020-05-07",
          "2020-05-08",
          "2020-05-09",
          "2020-05-10",
          "2020-05-11",
          "2020-05-12",
          "2020-05-13",
          "2020-05-14",
          "2020-05-15",
          "2020-05-16",
          "2020-05-17",
          "2020-05-18",
          "2020-05-19",
          "2020-05-20",
          "2020-05-21",
          "2020-05-22",
          "2020-05-23",
          "2020-05-24",
          "2020-05-25",
          "2020-05-26",
          "2020-05-27",
          "2020-05-28",
          "2020-05-29",
          "2020-05-30",
          "2020-05-31",
          "2020-06-01"
         ],
         "xaxis": "x",
         "y": [
          2,
          2,
          2,
          2,
          2,
          2,
          2,
          2,
          2,
          2,
          2,
          2,
          2,
          2,
          2,
          2,
          2,
          2,
          2,
          2,
          2,
          2,
          2,
          2,
          2,
          2,
          2,
          2,
          2,
          2,
          2,
          2
         ],
         "yaxis": "y",
         "type": "scattergl"
        },
        {
         "hovertemplate": "Regulation=WorkplaceClosures<br>Date=%{x}<br>num_countries=%{y}<extra></extra>",
         "legendgroup": "WorkplaceClosures",
         "line": {
          "color": "#00cc96",
          "dash": "solid"
         },
         "marker": {
          "symbol": "circle"
         },
         "mode": "lines",
         "name": "WorkplaceClosures",
         "showlegend": true,
         "x": [
          "2020-05-01",
          "2020-05-02",
          "2020-05-03",
          "2020-05-04",
          "2020-05-05",
          "2020-05-06",
          "2020-05-07",
          "2020-05-08",
          "2020-05-09",
          "2020-05-10",
          "2020-05-11"
         ],
         "xaxis": "x",
         "y": [
          4,
          4,
          4,
          4,
          3,
          3,
          3,
          3,
          3,
          3,
          1
         ],
         "yaxis": "y",
         "type": "scattergl"
        },
        {
         "hovertemplate": "Regulation=WorkplaceClosuresPartial<br>Date=%{x}<br>num_countries=%{y}<extra></extra>",
         "legendgroup": "WorkplaceClosuresPartial",
         "line": {
          "color": "#ab63fa",
          "dash": "solid"
         },
         "marker": {
          "symbol": "circle"
         },
         "mode": "lines",
         "name": "WorkplaceClosuresPartial",
         "showlegend": true,
         "x": [
          "2020-05-01",
          "2020-05-02",
          "2020-05-03",
          "2020-05-04",
          "2020-05-05",
          "2020-05-06",
          "2020-05-07",
          "2020-05-08",
          "2020-05-09",
          "2020-05-10",
          "2020-05-11",
          "2020-05-12",
          "2020-05-13",
          "2020-05-14",
          "2020-05-15",
          "2020-05-16",
          "2020-05-17",
          "2020-05-18",
          "2020-05-19",
          "2020-05-20",
          "2020-05-21",
          "2020-05-22",
          "2020-05-23",
          "2020-05-24",
          "2020-05-25",
          "2020-05-26",
          "2020-05-27",
          "2020-05-28",
          "2020-05-29",
          "2020-05-30",
          "2020-05-31",
          "2020-06-01"
         ],
         "xaxis": "x",
         "y": [
          1,
          1,
          1,
          1,
          1,
          1,
          1,
          1,
          1,
          1,
          1,
          1,
          1,
          1,
          1,
          1,
          1,
          1,
          1,
          1,
          1,
          1,
          1,
          1,
          1,
          1,
          1,
          1,
          1,
          1,
          1,
          1
         ],
         "yaxis": "y",
         "type": "scattergl"
        }
       ],
       "layout": {
        "template": {
         "data": {
          "histogram2dcontour": [
           {
            "type": "histogram2dcontour",
            "colorbar": {
             "outlinewidth": 0,
             "ticks": ""
            },
            "colorscale": [
             [
              0.0,
              "#0d0887"
             ],
             [
              0.1111111111111111,
              "#46039f"
             ],
             [
              0.2222222222222222,
              "#7201a8"
             ],
             [
              0.3333333333333333,
              "#9c179e"
             ],
             [
              0.4444444444444444,
              "#bd3786"
             ],
             [
              0.5555555555555556,
              "#d8576b"
             ],
             [
              0.6666666666666666,
              "#ed7953"
             ],
             [
              0.7777777777777778,
              "#fb9f3a"
             ],
             [
              0.8888888888888888,
              "#fdca26"
             ],
             [
              1.0,
              "#f0f921"
             ]
            ]
           }
          ],
          "choropleth": [
           {
            "type": "choropleth",
            "colorbar": {
             "outlinewidth": 0,
             "ticks": ""
            }
           }
          ],
          "histogram2d": [
           {
            "type": "histogram2d",
            "colorbar": {
             "outlinewidth": 0,
             "ticks": ""
            },
            "colorscale": [
             [
              0.0,
              "#0d0887"
             ],
             [
              0.1111111111111111,
              "#46039f"
             ],
             [
              0.2222222222222222,
              "#7201a8"
             ],
             [
              0.3333333333333333,
              "#9c179e"
             ],
             [
              0.4444444444444444,
              "#bd3786"
             ],
             [
              0.5555555555555556,
              "#d8576b"
             ],
             [
              0.6666666666666666,
              "#ed7953"
             ],
             [
              0.7777777777777778,
              "#fb9f3a"
             ],
             [
              0.8888888888888888,
              "#fdca26"
             ],
             [
              1.0,
              "#f0f921"
             ]
            ]
           }
          ],
          "heatmap": [
           {
            "type": "heatmap",
            "colorbar": {
             "outlinewidth": 0,
             "ticks": ""
            },
            "colorscale": [
             [
              0.0,
              "#0d0887"
             ],
             [
              0.1111111111111111,
              "#46039f"
             ],
             [
              0.2222222222222222,
              "#7201a8"
             ],
             [
              0.3333333333333333,
              "#9c179e"
             ],
             [
              0.4444444444444444,
              "#bd3786"
             ],
             [
              0.5555555555555556,
              "#d8576b"
             ],
             [
              0.6666666666666666,
              "#ed7953"
             ],
             [
              0.7777777777777778,
              "#fb9f3a"
             ],
             [
              0.8888888888888888,
              "#fdca26"
             ],
             [
              1.0,
              "#f0f921"
             ]
            ]
           }
          ],
          "heatmapgl": [
           {
            "type": "heatmapgl",
            "colorbar": {
             "outlinewidth": 0,
             "ticks": ""
            },
            "colorscale": [
             [
              0.0,
              "#0d0887"
             ],
             [
              0.1111111111111111,
              "#46039f"
             ],
             [
              0.2222222222222222,
              "#7201a8"
             ],
             [
              0.3333333333333333,
              "#9c179e"
             ],
             [
              0.4444444444444444,
              "#bd3786"
             ],
             [
              0.5555555555555556,
              "#d8576b"
             ],
             [
              0.6666666666666666,
              "#ed7953"
             ],
             [
              0.7777777777777778,
              "#fb9f3a"
             ],
             [
              0.8888888888888888,
              "#fdca26"
             ],
             [
              1.0,
              "#f0f921"
             ]
            ]
           }
          ],
          "contourcarpet": [
           {
            "type": "contourcarpet",
            "colorbar": {
             "outlinewidth": 0,
             "ticks": ""
            }
           }
          ],
          "contour": [
           {
            "type": "contour",
            "colorbar": {
             "outlinewidth": 0,
             "ticks": ""
            },
            "colorscale": [
             [
              0.0,
              "#0d0887"
             ],
             [
              0.1111111111111111,
              "#46039f"
             ],
             [
              0.2222222222222222,
              "#7201a8"
             ],
             [
              0.3333333333333333,
              "#9c179e"
             ],
             [
              0.4444444444444444,
              "#bd3786"
             ],
             [
              0.5555555555555556,
              "#d8576b"
             ],
             [
              0.6666666666666666,
              "#ed7953"
             ],
             [
              0.7777777777777778,
              "#fb9f3a"
             ],
             [
              0.8888888888888888,
              "#fdca26"
             ],
             [
              1.0,
              "#f0f921"
             ]
            ]
           }
          ],
          "surface": [
           {
            "type": "surface",
            "colorbar": {
             "outlinewidth": 0,
             "ticks": ""
            },
            "colorscale": [
             [
              0.0,
              "#0d0887"
             ],
             [
              0.1111111111111111,
              "#46039f"
             ],
             [
              0.2222222222222222,
              "#7201a8"
             ],
             [
              0.3333333333333333,
              "#9c179e"
             ],
             [
              0.4444444444444444,
              "#bd3786"
             ],
             [
              0.5555555555555556,
              "#d8576b"
             ],
             [
              0.6666666666666666,
              "#ed7953"
             ],
             [
              0.7777777777777778,
              "#fb9f3a"
             ],
             [
              0.8888888888888888,
              "#fdca26"
             ],
             [
              1.0,
              "#f0f921"
             ]
            ]
           }
          ],
          "mesh3d": [
           {
            "type": "mesh3d",
            "colorbar": {
             "outlinewidth": 0,
             "ticks": ""
            }
           }
          ],
          "scatter": [
           {
            "fillpattern": {
             "fillmode": "overlay",
             "size": 10,
             "solidity": 0.2
            },
            "type": "scatter"
           }
          ],
          "parcoords": [
           {
            "type": "parcoords",
            "line": {
             "colorbar": {
              "outlinewidth": 0,
              "ticks": ""
             }
            }
           }
          ],
          "scatterpolargl": [
           {
            "type": "scatterpolargl",
            "marker": {
             "colorbar": {
              "outlinewidth": 0,
              "ticks": ""
             }
            }
           }
          ],
          "bar": [
           {
            "error_x": {
             "color": "#2a3f5f"
            },
            "error_y": {
             "color": "#2a3f5f"
            },
            "marker": {
             "line": {
              "color": "#E5ECF6",
              "width": 0.5
             },
             "pattern": {
              "fillmode": "overlay",
              "size": 10,
              "solidity": 0.2
             }
            },
            "type": "bar"
           }
          ],
          "scattergeo": [
           {
            "type": "scattergeo",
            "marker": {
             "colorbar": {
              "outlinewidth": 0,
              "ticks": ""
             }
            }
           }
          ],
          "scatterpolar": [
           {
            "type": "scatterpolar",
            "marker": {
             "colorbar": {
              "outlinewidth": 0,
              "ticks": ""
             }
            }
           }
          ],
          "histogram": [
           {
            "marker": {
             "pattern": {
              "fillmode": "overlay",
              "size": 10,
              "solidity": 0.2
             }
            },
            "type": "histogram"
           }
          ],
          "scattergl": [
           {
            "type": "scattergl",
            "marker": {
             "colorbar": {
              "outlinewidth": 0,
              "ticks": ""
             }
            }
           }
          ],
          "scatter3d": [
           {
            "type": "scatter3d",
            "line": {
             "colorbar": {
              "outlinewidth": 0,
              "ticks": ""
             }
            },
            "marker": {
             "colorbar": {
              "outlinewidth": 0,
              "ticks": ""
             }
            }
           }
          ],
          "scattermapbox": [
           {
            "type": "scattermapbox",
            "marker": {
             "colorbar": {
              "outlinewidth": 0,
              "ticks": ""
             }
            }
           }
          ],
          "scatterternary": [
           {
            "type": "scatterternary",
            "marker": {
             "colorbar": {
              "outlinewidth": 0,
              "ticks": ""
             }
            }
           }
          ],
          "scattercarpet": [
           {
            "type": "scattercarpet",
            "marker": {
             "colorbar": {
              "outlinewidth": 0,
              "ticks": ""
             }
            }
           }
          ],
          "carpet": [
           {
            "aaxis": {
             "endlinecolor": "#2a3f5f",
             "gridcolor": "white",
             "linecolor": "white",
             "minorgridcolor": "white",
             "startlinecolor": "#2a3f5f"
            },
            "baxis": {
             "endlinecolor": "#2a3f5f",
             "gridcolor": "white",
             "linecolor": "white",
             "minorgridcolor": "white",
             "startlinecolor": "#2a3f5f"
            },
            "type": "carpet"
           }
          ],
          "table": [
           {
            "cells": {
             "fill": {
              "color": "#EBF0F8"
             },
             "line": {
              "color": "white"
             }
            },
            "header": {
             "fill": {
              "color": "#C8D4E3"
             },
             "line": {
              "color": "white"
             }
            },
            "type": "table"
           }
          ],
          "barpolar": [
           {
            "marker": {
             "line": {
              "color": "#E5ECF6",
              "width": 0.5
             },
             "pattern": {
              "fillmode": "overlay",
              "size": 10,
              "solidity": 0.2
             }
            },
            "type": "barpolar"
           }
          ],
          "pie": [
           {
            "automargin": true,
            "type": "pie"
           }
          ]
         },
         "layout": {
          "autotypenumbers": "strict",
          "colorway": [
           "#636efa",
           "#EF553B",
           "#00cc96",
           "#ab63fa",
           "#FFA15A",
           "#19d3f3",
           "#FF6692",
           "#B6E880",
           "#FF97FF",
           "#FECB52"
          ],
          "font": {
           "color": "#2a3f5f"
          },
          "hovermode": "closest",
          "hoverlabel": {
           "align": "left"
          },
          "paper_bgcolor": "white",
          "plot_bgcolor": "#E5ECF6",
          "polar": {
           "bgcolor": "#E5ECF6",
           "angularaxis": {
            "gridcolor": "white",
            "linecolor": "white",
            "ticks": ""
           },
           "radialaxis": {
            "gridcolor": "white",
            "linecolor": "white",
            "ticks": ""
           }
          },
          "ternary": {
           "bgcolor": "#E5ECF6",
           "aaxis": {
            "gridcolor": "white",
            "linecolor": "white",
            "ticks": ""
           },
           "baxis": {
            "gridcolor": "white",
            "linecolor": "white",
            "ticks": ""
           },
           "caxis": {
            "gridcolor": "white",
            "linecolor": "white",
            "ticks": ""
           }
          },
          "coloraxis": {
           "colorbar": {
            "outlinewidth": 0,
            "ticks": ""
           }
          },
          "colorscale": {
           "sequential": [
            [
             0.0,
             "#0d0887"
            ],
            [
             0.1111111111111111,
             "#46039f"
            ],
            [
             0.2222222222222222,
             "#7201a8"
            ],
            [
             0.3333333333333333,
             "#9c179e"
            ],
            [
             0.4444444444444444,
             "#bd3786"
            ],
            [
             0.5555555555555556,
             "#d8576b"
            ],
            [
             0.6666666666666666,
             "#ed7953"
            ],
            [
             0.7777777777777778,
             "#fb9f3a"
            ],
            [
             0.8888888888888888,
             "#fdca26"
            ],
            [
             1.0,
             "#f0f921"
            ]
           ],
           "sequentialminus": [
            [
             0.0,
             "#0d0887"
            ],
            [
             0.1111111111111111,
             "#46039f"
            ],
            [
             0.2222222222222222,
             "#7201a8"
            ],
            [
             0.3333333333333333,
             "#9c179e"
            ],
            [
             0.4444444444444444,
             "#bd3786"
            ],
            [
             0.5555555555555556,
             "#d8576b"
            ],
            [
             0.6666666666666666,
             "#ed7953"
            ],
            [
             0.7777777777777778,
             "#fb9f3a"
            ],
            [
             0.8888888888888888,
             "#fdca26"
            ],
            [
             1.0,
             "#f0f921"
            ]
           ],
           "diverging": [
            [
             0,
             "#8e0152"
            ],
            [
             0.1,
             "#c51b7d"
            ],
            [
             0.2,
             "#de77ae"
            ],
            [
             0.3,
             "#f1b6da"
            ],
            [
             0.4,
             "#fde0ef"
            ],
            [
             0.5,
             "#f7f7f7"
            ],
            [
             0.6,
             "#e6f5d0"
            ],
            [
             0.7,
             "#b8e186"
            ],
            [
             0.8,
             "#7fbc41"
            ],
            [
             0.9,
             "#4d9221"
            ],
            [
             1,
             "#276419"
            ]
           ]
          },
          "xaxis": {
           "gridcolor": "white",
           "linecolor": "white",
           "ticks": "",
           "title": {
            "standoff": 15
           },
           "zerolinecolor": "white",
           "automargin": true,
           "zerolinewidth": 2
          },
          "yaxis": {
           "gridcolor": "white",
           "linecolor": "white",
           "ticks": "",
           "title": {
            "standoff": 15
           },
           "zerolinecolor": "white",
           "automargin": true,
           "zerolinewidth": 2
          },
          "scene": {
           "xaxis": {
            "backgroundcolor": "#E5ECF6",
            "gridcolor": "white",
            "linecolor": "white",
            "showbackground": true,
            "ticks": "",
            "zerolinecolor": "white",
            "gridwidth": 2
           },
           "yaxis": {
            "backgroundcolor": "#E5ECF6",
            "gridcolor": "white",
            "linecolor": "white",
            "showbackground": true,
            "ticks": "",
            "zerolinecolor": "white",
            "gridwidth": 2
           },
           "zaxis": {
            "backgroundcolor": "#E5ECF6",
            "gridcolor": "white",
            "linecolor": "white",
            "showbackground": true,
            "ticks": "",
            "zerolinecolor": "white",
            "gridwidth": 2
           }
          },
          "shapedefaults": {
           "line": {
            "color": "#2a3f5f"
           }
          },
          "annotationdefaults": {
           "arrowcolor": "#2a3f5f",
           "arrowhead": 0,
           "arrowwidth": 1
          },
          "geo": {
           "bgcolor": "white",
           "landcolor": "#E5ECF6",
           "subunitcolor": "white",
           "showland": true,
           "showlakes": true,
           "lakecolor": "white"
          },
          "title": {
           "x": 0.05
          },
          "mapbox": {
           "style": "light"
          }
         }
        },
        "xaxis": {
         "anchor": "y",
         "domain": [
          0.0,
          1.0
         ],
         "title": {
          "text": "Date"
         }
        },
        "yaxis": {
         "anchor": "x",
         "domain": [
          0.0,
          1.0
         ],
         "title": {
          "text": "num_countries"
         }
        },
        "legend": {
         "title": {
          "text": "Regulation"
         },
         "tracegroupgap": 0
        },
        "margin": {
         "t": 60
        }
       },
       "config": {
        "plotlyServerURL": "https://plot.ly"
       }
      },
      "text/html": "<div>                            <div id=\"a2be9c7b-1f56-48e0-8455-8e30f7d645f7\" class=\"plotly-graph-div\" style=\"height:525px; width:100%;\"></div>            <script type=\"text/javascript\">                require([\"plotly\"], function(Plotly) {                    window.PLOTLYENV=window.PLOTLYENV || {};                                    if (document.getElementById(\"a2be9c7b-1f56-48e0-8455-8e30f7d645f7\")) {                    Plotly.newPlot(                        \"a2be9c7b-1f56-48e0-8455-8e30f7d645f7\",                        [{\"hovertemplate\":\"Regulation=AdaptationOfWorkplace<br>Date=%{x}<br>num_countries=%{y}<extra></extra>\",\"legendgroup\":\"AdaptationOfWorkplace\",\"line\":{\"color\":\"#636efa\",\"dash\":\"solid\"},\"marker\":{\"symbol\":\"circle\"},\"mode\":\"lines\",\"name\":\"AdaptationOfWorkplace\",\"showlegend\":true,\"x\":[\"2020-05-01\",\"2020-05-02\",\"2020-05-03\",\"2020-05-04\",\"2020-05-05\",\"2020-05-06\",\"2020-05-07\",\"2020-05-08\",\"2020-05-09\",\"2020-05-10\",\"2020-05-11\",\"2020-05-12\",\"2020-05-13\",\"2020-05-14\",\"2020-05-15\",\"2020-05-16\",\"2020-05-17\",\"2020-05-18\",\"2020-05-19\",\"2020-05-20\",\"2020-05-21\",\"2020-05-22\",\"2020-05-23\",\"2020-05-24\",\"2020-05-25\",\"2020-05-26\",\"2020-05-27\",\"2020-05-28\",\"2020-05-29\",\"2020-05-30\",\"2020-05-31\",\"2020-06-01\"],\"xaxis\":\"x\",\"y\":[5,5,5,5,5,5,5,5,5,5,5,4,4,4,4,4,4,4,4,4,4,4,4,4,4,4,4,4,4,4,4,4],\"yaxis\":\"y\",\"type\":\"scattergl\"},{\"hovertemplate\":\"Regulation=AdaptationOfWorkplacePartial<br>Date=%{x}<br>num_countries=%{y}<extra></extra>\",\"legendgroup\":\"AdaptationOfWorkplacePartial\",\"line\":{\"color\":\"#EF553B\",\"dash\":\"solid\"},\"marker\":{\"symbol\":\"circle\"},\"mode\":\"lines\",\"name\":\"AdaptationOfWorkplacePartial\",\"showlegend\":true,\"x\":[\"2020-05-01\",\"2020-05-02\",\"2020-05-03\",\"2020-05-04\",\"2020-05-05\",\"2020-05-06\",\"2020-05-07\",\"2020-05-08\",\"2020-05-09\",\"2020-05-10\",\"2020-05-11\",\"2020-05-12\",\"2020-05-13\",\"2020-05-14\",\"2020-05-15\",\"2020-05-16\",\"2020-05-17\",\"2020-05-18\",\"2020-05-19\",\"2020-05-20\",\"2020-05-21\",\"2020-05-22\",\"2020-05-23\",\"2020-05-24\",\"2020-05-25\",\"2020-05-26\",\"2020-05-27\",\"2020-05-28\",\"2020-05-29\",\"2020-05-30\",\"2020-05-31\",\"2020-06-01\"],\"xaxis\":\"x\",\"y\":[2,2,2,2,2,2,2,2,2,2,2,2,2,2,2,2,2,2,2,2,2,1,1,1,1,1,2,2,1,1,1,1],\"yaxis\":\"y\",\"type\":\"scattergl\"},{\"hovertemplate\":\"Regulation=BanOnAllEvents<br>Date=%{x}<br>num_countries=%{y}<extra></extra>\",\"legendgroup\":\"BanOnAllEvents\",\"line\":{\"color\":\"#00cc96\",\"dash\":\"solid\"},\"marker\":{\"symbol\":\"circle\"},\"mode\":\"lines\",\"name\":\"BanOnAllEvents\",\"showlegend\":true,\"x\":[\"2020-05-01\",\"2020-05-02\",\"2020-05-03\",\"2020-05-04\",\"2020-05-05\",\"2020-05-06\",\"2020-05-07\",\"2020-05-08\",\"2020-05-09\",\"2020-05-10\",\"2020-05-11\",\"2020-05-12\",\"2020-05-13\",\"2020-05-14\",\"2020-05-15\",\"2020-05-16\",\"2020-05-17\",\"2020-05-18\",\"2020-05-19\",\"2020-05-20\",\"2020-05-21\",\"2020-05-22\",\"2020-05-23\",\"2020-05-24\",\"2020-05-25\",\"2020-05-26\",\"2020-05-27\",\"2020-05-28\",\"2020-05-29\",\"2020-05-30\",\"2020-05-31\",\"2020-06-01\"],\"xaxis\":\"x\",\"y\":[17,17,17,17,16,16,15,15,15,15,14,14,14,14,13,13,13,11,11,11,11,11,11,11,11,11,11,11,11,10,10,8],\"yaxis\":\"y\",\"type\":\"scattergl\"},{\"hovertemplate\":\"Regulation=BanOnAllEventsPartial<br>Date=%{x}<br>num_countries=%{y}<extra></extra>\",\"legendgroup\":\"BanOnAllEventsPartial\",\"line\":{\"color\":\"#ab63fa\",\"dash\":\"solid\"},\"marker\":{\"symbol\":\"circle\"},\"mode\":\"lines\",\"name\":\"BanOnAllEventsPartial\",\"showlegend\":true,\"x\":[\"2020-05-01\",\"2020-05-02\",\"2020-05-03\",\"2020-05-04\",\"2020-05-05\",\"2020-05-06\",\"2020-05-07\",\"2020-05-08\",\"2020-05-09\",\"2020-05-10\",\"2020-05-11\",\"2020-05-12\",\"2020-05-13\",\"2020-05-14\",\"2020-05-15\",\"2020-05-16\",\"2020-05-17\",\"2020-05-18\",\"2020-05-19\",\"2020-05-20\",\"2020-05-21\",\"2020-05-22\",\"2020-05-23\",\"2020-05-24\",\"2020-05-25\",\"2020-05-26\",\"2020-05-27\",\"2020-05-28\",\"2020-05-29\",\"2020-05-30\",\"2020-05-31\",\"2020-06-01\"],\"xaxis\":\"x\",\"y\":[1,1,1,1,1,1,1,1,1,1,1,1,1,1,2,2,2,2,2,2,2,2,2,2,2,2,2,2,2,2,2,2],\"yaxis\":\"y\",\"type\":\"scattergl\"},{\"hovertemplate\":\"Regulation=ClosDaycare<br>Date=%{x}<br>num_countries=%{y}<extra></extra>\",\"legendgroup\":\"ClosDaycare\",\"line\":{\"color\":\"#FFA15A\",\"dash\":\"solid\"},\"marker\":{\"symbol\":\"circle\"},\"mode\":\"lines\",\"name\":\"ClosDaycare\",\"showlegend\":true,\"x\":[\"2020-05-01\",\"2020-05-02\",\"2020-05-03\",\"2020-05-04\",\"2020-05-05\",\"2020-05-06\",\"2020-05-07\",\"2020-05-08\",\"2020-05-09\",\"2020-05-10\",\"2020-05-11\",\"2020-05-12\",\"2020-05-13\",\"2020-05-14\",\"2020-05-15\",\"2020-05-16\",\"2020-05-17\",\"2020-05-18\",\"2020-05-19\",\"2020-05-20\",\"2020-05-21\",\"2020-05-22\",\"2020-05-23\",\"2020-05-24\",\"2020-05-25\",\"2020-05-26\",\"2020-05-27\",\"2020-05-28\",\"2020-05-29\",\"2020-05-30\",\"2020-05-31\",\"2020-06-01\"],\"xaxis\":\"x\",\"y\":[21,21,21,21,20,20,19,19,19,19,17,15,15,15,14,14,14,13,13,13,13,12,12,12,11,11,11,11,11,11,11,10],\"yaxis\":\"y\",\"type\":\"scattergl\"},{\"hovertemplate\":\"Regulation=ClosDaycarePartial<br>Date=%{x}<br>num_countries=%{y}<extra></extra>\",\"legendgroup\":\"ClosDaycarePartial\",\"line\":{\"color\":\"#19d3f3\",\"dash\":\"solid\"},\"marker\":{\"symbol\":\"circle\"},\"mode\":\"lines\",\"name\":\"ClosDaycarePartial\",\"showlegend\":true,\"x\":[\"2020-05-01\",\"2020-05-02\",\"2020-05-03\",\"2020-05-04\",\"2020-05-05\",\"2020-05-06\",\"2020-05-07\",\"2020-05-08\",\"2020-05-09\",\"2020-05-10\",\"2020-05-11\",\"2020-05-12\",\"2020-05-13\",\"2020-05-14\",\"2020-05-15\",\"2020-05-16\",\"2020-05-17\",\"2020-05-18\",\"2020-05-19\",\"2020-05-20\",\"2020-05-21\",\"2020-05-22\",\"2020-05-23\",\"2020-05-24\",\"2020-05-25\",\"2020-05-26\",\"2020-05-27\",\"2020-05-28\",\"2020-05-29\",\"2020-05-30\",\"2020-05-31\",\"2020-06-01\"],\"xaxis\":\"x\",\"y\":[1,1,1,1,1,1,1,1,1,1,2,2,2,2,3,3,3,4,4,4,4,5,5,5,5,5,5,5,5,5,5,4],\"yaxis\":\"y\",\"type\":\"scattergl\"},{\"hovertemplate\":\"Regulation=ClosHigh<br>Date=%{x}<br>num_countries=%{y}<extra></extra>\",\"legendgroup\":\"ClosHigh\",\"line\":{\"color\":\"#FF6692\",\"dash\":\"solid\"},\"marker\":{\"symbol\":\"circle\"},\"mode\":\"lines\",\"name\":\"ClosHigh\",\"showlegend\":true,\"x\":[\"2020-05-01\",\"2020-05-02\",\"2020-05-03\",\"2020-05-04\",\"2020-05-05\",\"2020-05-06\",\"2020-05-07\",\"2020-05-08\",\"2020-05-09\",\"2020-05-10\",\"2020-05-11\",\"2020-05-12\",\"2020-05-13\",\"2020-05-14\",\"2020-05-15\",\"2020-05-16\",\"2020-05-17\",\"2020-05-18\",\"2020-05-19\",\"2020-05-20\",\"2020-05-21\",\"2020-05-22\",\"2020-05-23\",\"2020-05-24\",\"2020-05-25\",\"2020-05-26\",\"2020-05-27\",\"2020-05-28\",\"2020-05-29\",\"2020-05-30\",\"2020-05-31\",\"2020-06-01\"],\"xaxis\":\"x\",\"y\":[28,28,28,28,27,27,27,27,27,27,26,25,25,25,25,25,25,23,22,22,22,22,22,22,18,18,18,18,18,18,18,17],\"yaxis\":\"y\",\"type\":\"scattergl\"},{\"hovertemplate\":\"Regulation=ClosHighPartial<br>Date=%{x}<br>num_countries=%{y}<extra></extra>\",\"legendgroup\":\"ClosHighPartial\",\"line\":{\"color\":\"#B6E880\",\"dash\":\"solid\"},\"marker\":{\"symbol\":\"circle\"},\"mode\":\"lines\",\"name\":\"ClosHighPartial\",\"showlegend\":true,\"x\":[\"2020-05-01\",\"2020-05-02\",\"2020-05-03\",\"2020-05-04\",\"2020-05-05\",\"2020-05-06\",\"2020-05-07\",\"2020-05-08\",\"2020-05-09\",\"2020-05-10\",\"2020-05-11\",\"2020-05-12\",\"2020-05-13\",\"2020-05-14\",\"2020-05-15\",\"2020-05-16\",\"2020-05-17\",\"2020-05-18\",\"2020-05-19\",\"2020-05-20\",\"2020-05-21\",\"2020-05-22\",\"2020-05-23\",\"2020-05-24\",\"2020-05-25\",\"2020-05-26\",\"2020-05-27\",\"2020-05-28\",\"2020-05-29\",\"2020-05-30\",\"2020-05-31\",\"2020-06-01\"],\"xaxis\":\"x\",\"y\":[1,1,1,1,1,1,1,1,1,1,2,2,2,2,2,2,2,3,3,3,3,3,3,3,6,6,6,6,6,5,5,5],\"yaxis\":\"y\",\"type\":\"scattergl\"},{\"hovertemplate\":\"Regulation=ClosPrim<br>Date=%{x}<br>num_countries=%{y}<extra></extra>\",\"legendgroup\":\"ClosPrim\",\"line\":{\"color\":\"#FF97FF\",\"dash\":\"solid\"},\"marker\":{\"symbol\":\"circle\"},\"mode\":\"lines\",\"name\":\"ClosPrim\",\"showlegend\":true,\"x\":[\"2020-05-01\",\"2020-05-02\",\"2020-05-03\",\"2020-05-04\",\"2020-05-05\",\"2020-05-06\",\"2020-05-07\",\"2020-05-08\",\"2020-05-09\",\"2020-05-10\",\"2020-05-11\",\"2020-05-12\",\"2020-05-13\",\"2020-05-14\",\"2020-05-15\",\"2020-05-16\",\"2020-05-17\",\"2020-05-18\",\"2020-05-19\",\"2020-05-20\",\"2020-05-21\",\"2020-05-22\",\"2020-05-23\",\"2020-05-24\",\"2020-05-25\",\"2020-05-26\",\"2020-05-27\",\"2020-05-28\",\"2020-05-29\",\"2020-05-30\",\"2020-05-31\",\"2020-06-01\"],\"xaxis\":\"x\",\"y\":[23,23,23,23,23,23,23,23,23,23,20,20,20,19,18,18,18,17,17,17,17,16,16,16,13,13,13,13,13,13,13,12],\"yaxis\":\"y\",\"type\":\"scattergl\"},{\"hovertemplate\":\"Regulation=ClosPrimPartial<br>Date=%{x}<br>num_countries=%{y}<extra></extra>\",\"legendgroup\":\"ClosPrimPartial\",\"line\":{\"color\":\"#FECB52\",\"dash\":\"solid\"},\"marker\":{\"symbol\":\"circle\"},\"mode\":\"lines\",\"name\":\"ClosPrimPartial\",\"showlegend\":true,\"x\":[\"2020-05-01\",\"2020-05-02\",\"2020-05-03\",\"2020-05-04\",\"2020-05-05\",\"2020-05-06\",\"2020-05-07\",\"2020-05-08\",\"2020-05-09\",\"2020-05-10\",\"2020-05-11\",\"2020-05-12\",\"2020-05-13\",\"2020-05-14\",\"2020-05-15\",\"2020-05-16\",\"2020-05-17\",\"2020-05-18\",\"2020-05-19\",\"2020-05-20\",\"2020-05-21\",\"2020-05-22\",\"2020-05-23\",\"2020-05-24\",\"2020-05-25\",\"2020-05-26\",\"2020-05-27\",\"2020-05-28\",\"2020-05-29\",\"2020-05-30\",\"2020-05-31\",\"2020-06-01\"],\"xaxis\":\"x\",\"y\":[2,2,2,2,2,2,2,2,2,2,5,5,5,5,5,5,5,6,5,5,5,5,5,5,7,7,7,7,7,7,7,7],\"yaxis\":\"y\",\"type\":\"scattergl\"},{\"hovertemplate\":\"Regulation=ClosPubAny<br>Date=%{x}<br>num_countries=%{y}<extra></extra>\",\"legendgroup\":\"ClosPubAny\",\"line\":{\"color\":\"#636efa\",\"dash\":\"solid\"},\"marker\":{\"symbol\":\"circle\"},\"mode\":\"lines\",\"name\":\"ClosPubAny\",\"showlegend\":true,\"x\":[\"2020-05-01\",\"2020-05-02\",\"2020-05-03\",\"2020-05-04\",\"2020-05-05\",\"2020-05-06\",\"2020-05-07\",\"2020-05-08\",\"2020-05-09\",\"2020-05-10\",\"2020-05-11\",\"2020-05-12\",\"2020-05-13\",\"2020-05-14\",\"2020-05-15\",\"2020-05-16\",\"2020-05-17\",\"2020-05-18\",\"2020-05-19\",\"2020-05-20\",\"2020-05-21\",\"2020-05-22\",\"2020-05-23\",\"2020-05-24\",\"2020-05-25\",\"2020-05-26\",\"2020-05-27\",\"2020-05-28\",\"2020-05-29\",\"2020-05-30\",\"2020-05-31\",\"2020-06-01\"],\"xaxis\":\"x\",\"y\":[11,12,12,10,10,10,10,10,10,10,10,9,9,8,7,7,6,4,4,4,4,3,3,3,3,3,3,3,3,3,3,1],\"yaxis\":\"y\",\"type\":\"scattergl\"},{\"hovertemplate\":\"Regulation=ClosPubAnyPartial<br>Date=%{x}<br>num_countries=%{y}<extra></extra>\",\"legendgroup\":\"ClosPubAnyPartial\",\"line\":{\"color\":\"#EF553B\",\"dash\":\"solid\"},\"marker\":{\"symbol\":\"circle\"},\"mode\":\"lines\",\"name\":\"ClosPubAnyPartial\",\"showlegend\":true,\"x\":[\"2020-05-01\",\"2020-05-02\",\"2020-05-03\",\"2020-05-04\",\"2020-05-05\",\"2020-05-06\",\"2020-05-07\",\"2020-05-08\",\"2020-05-09\",\"2020-05-10\",\"2020-05-11\",\"2020-05-12\",\"2020-05-13\",\"2020-05-14\",\"2020-05-15\",\"2020-05-16\",\"2020-05-17\",\"2020-05-18\",\"2020-05-19\",\"2020-05-20\",\"2020-05-21\",\"2020-05-22\",\"2020-05-23\",\"2020-05-24\",\"2020-05-25\",\"2020-05-26\",\"2020-05-27\",\"2020-05-28\",\"2020-05-29\",\"2020-05-30\",\"2020-05-31\",\"2020-06-01\"],\"xaxis\":\"x\",\"y\":[18,17,17,18,18,18,18,18,18,18,18,19,19,20,21,21,22,24,23,23,23,24,24,24,24,24,24,24,24,24,24,24],\"yaxis\":\"y\",\"type\":\"scattergl\"},{\"hovertemplate\":\"Regulation=ClosSec<br>Date=%{x}<br>num_countries=%{y}<extra></extra>\",\"legendgroup\":\"ClosSec\",\"line\":{\"color\":\"#00cc96\",\"dash\":\"solid\"},\"marker\":{\"symbol\":\"circle\"},\"mode\":\"lines\",\"name\":\"ClosSec\",\"showlegend\":true,\"x\":[\"2020-05-01\",\"2020-05-02\",\"2020-05-03\",\"2020-05-04\",\"2020-05-05\",\"2020-05-06\",\"2020-05-07\",\"2020-05-08\",\"2020-05-09\",\"2020-05-10\",\"2020-05-11\",\"2020-05-12\",\"2020-05-13\",\"2020-05-14\",\"2020-05-15\",\"2020-05-16\",\"2020-05-17\",\"2020-05-18\",\"2020-05-19\",\"2020-05-20\",\"2020-05-21\",\"2020-05-22\",\"2020-05-23\",\"2020-05-24\",\"2020-05-25\",\"2020-05-26\",\"2020-05-27\",\"2020-05-28\",\"2020-05-29\",\"2020-05-30\",\"2020-05-31\",\"2020-06-01\"],\"xaxis\":\"x\",\"y\":[26,26,26,26,25,25,25,25,25,25,23,22,22,21,20,20,20,19,17,17,17,17,17,17,16,16,16,16,16,15,15,14],\"yaxis\":\"y\",\"type\":\"scattergl\"},{\"hovertemplate\":\"Regulation=ClosSecPartial<br>Date=%{x}<br>num_countries=%{y}<extra></extra>\",\"legendgroup\":\"ClosSecPartial\",\"line\":{\"color\":\"#ab63fa\",\"dash\":\"solid\"},\"marker\":{\"symbol\":\"circle\"},\"mode\":\"lines\",\"name\":\"ClosSecPartial\",\"showlegend\":true,\"x\":[\"2020-05-01\",\"2020-05-02\",\"2020-05-03\",\"2020-05-04\",\"2020-05-05\",\"2020-05-06\",\"2020-05-07\",\"2020-05-08\",\"2020-05-09\",\"2020-05-10\",\"2020-05-11\",\"2020-05-12\",\"2020-05-13\",\"2020-05-14\",\"2020-05-15\",\"2020-05-16\",\"2020-05-17\",\"2020-05-18\",\"2020-05-19\",\"2020-05-20\",\"2020-05-21\",\"2020-05-22\",\"2020-05-23\",\"2020-05-24\",\"2020-05-25\",\"2020-05-26\",\"2020-05-27\",\"2020-05-28\",\"2020-05-29\",\"2020-05-30\",\"2020-05-31\",\"2020-06-01\"],\"xaxis\":\"x\",\"y\":[3,3,3,3,3,3,3,2,2,2,4,4,4,4,4,4,4,4,4,4,4,3,3,3,4,4,4,4,4,5,5,5],\"yaxis\":\"y\",\"type\":\"scattergl\"},{\"hovertemplate\":\"Regulation=ClosureOfPublicTransportPartial<br>Date=%{x}<br>num_countries=%{y}<extra></extra>\",\"legendgroup\":\"ClosureOfPublicTransportPartial\",\"line\":{\"color\":\"#FFA15A\",\"dash\":\"solid\"},\"marker\":{\"symbol\":\"circle\"},\"mode\":\"lines\",\"name\":\"ClosureOfPublicTransportPartial\",\"showlegend\":true,\"x\":[\"2020-05-01\",\"2020-05-02\",\"2020-05-03\",\"2020-05-04\",\"2020-05-05\",\"2020-05-06\",\"2020-05-07\",\"2020-05-08\",\"2020-05-09\",\"2020-05-10\",\"2020-05-11\",\"2020-05-12\",\"2020-05-13\",\"2020-05-14\",\"2020-05-15\",\"2020-05-16\",\"2020-05-17\",\"2020-05-18\",\"2020-05-19\",\"2020-05-20\",\"2020-05-21\",\"2020-05-22\",\"2020-05-23\",\"2020-05-24\",\"2020-05-25\",\"2020-05-26\",\"2020-05-27\",\"2020-05-28\",\"2020-05-29\",\"2020-05-30\",\"2020-05-31\",\"2020-06-01\"],\"xaxis\":\"x\",\"y\":[6,6,6,6,6,6,6,6,6,6,6,6,6,6,6,6,6,6,6,6,6,6,6,6,6,6,6,6,6,6,6,5],\"yaxis\":\"y\",\"type\":\"scattergl\"},{\"hovertemplate\":\"Regulation=EntertainmentVenues<br>Date=%{x}<br>num_countries=%{y}<extra></extra>\",\"legendgroup\":\"EntertainmentVenues\",\"line\":{\"color\":\"#19d3f3\",\"dash\":\"solid\"},\"marker\":{\"symbol\":\"circle\"},\"mode\":\"lines\",\"name\":\"EntertainmentVenues\",\"showlegend\":true,\"x\":[\"2020-05-01\",\"2020-05-02\",\"2020-05-03\",\"2020-05-04\",\"2020-05-05\",\"2020-05-06\",\"2020-05-07\",\"2020-05-08\",\"2020-05-09\",\"2020-05-10\",\"2020-05-11\",\"2020-05-12\",\"2020-05-13\",\"2020-05-14\",\"2020-05-15\",\"2020-05-16\",\"2020-05-17\",\"2020-05-18\",\"2020-05-19\",\"2020-05-20\",\"2020-05-21\",\"2020-05-22\",\"2020-05-23\",\"2020-05-24\",\"2020-05-25\",\"2020-05-26\",\"2020-05-27\",\"2020-05-28\",\"2020-05-29\",\"2020-05-30\",\"2020-05-31\",\"2020-06-01\"],\"xaxis\":\"x\",\"y\":[25,25,25,24,23,23,23,23,23,23,21,21,21,20,20,20,19,16,15,15,13,11,11,11,11,11,11,11,11,11,11,8],\"yaxis\":\"y\",\"type\":\"scattergl\"},{\"hovertemplate\":\"Regulation=EntertainmentVenuesPartial<br>Date=%{x}<br>num_countries=%{y}<extra></extra>\",\"legendgroup\":\"EntertainmentVenuesPartial\",\"line\":{\"color\":\"#FF6692\",\"dash\":\"solid\"},\"marker\":{\"symbol\":\"circle\"},\"mode\":\"lines\",\"name\":\"EntertainmentVenuesPartial\",\"showlegend\":true,\"x\":[\"2020-05-01\",\"2020-05-02\",\"2020-05-03\",\"2020-05-04\",\"2020-05-05\",\"2020-05-06\",\"2020-05-07\",\"2020-05-08\",\"2020-05-09\",\"2020-05-10\",\"2020-05-11\",\"2020-05-12\",\"2020-05-13\",\"2020-05-14\",\"2020-05-15\",\"2020-05-16\",\"2020-05-17\",\"2020-05-18\",\"2020-05-19\",\"2020-05-20\",\"2020-05-21\",\"2020-05-22\",\"2020-05-23\",\"2020-05-24\",\"2020-05-25\",\"2020-05-26\",\"2020-05-27\",\"2020-05-28\",\"2020-05-29\",\"2020-05-30\",\"2020-05-31\",\"2020-06-01\"],\"xaxis\":\"x\",\"y\":[3,3,3,4,5,5,5,5,5,5,7,7,7,8,8,8,9,11,11,11,12,13,13,13,13,12,12,12,11,11,11,11],\"yaxis\":\"y\",\"type\":\"scattergl\"},{\"hovertemplate\":\"Regulation=GymsSportsCentres<br>Date=%{x}<br>num_countries=%{y}<extra></extra>\",\"legendgroup\":\"GymsSportsCentres\",\"line\":{\"color\":\"#B6E880\",\"dash\":\"solid\"},\"marker\":{\"symbol\":\"circle\"},\"mode\":\"lines\",\"name\":\"GymsSportsCentres\",\"showlegend\":true,\"x\":[\"2020-05-01\",\"2020-05-02\",\"2020-05-03\",\"2020-05-04\",\"2020-05-05\",\"2020-05-06\",\"2020-05-07\",\"2020-05-08\",\"2020-05-09\",\"2020-05-10\",\"2020-05-11\",\"2020-05-12\",\"2020-05-13\",\"2020-05-14\",\"2020-05-15\",\"2020-05-16\",\"2020-05-17\",\"2020-05-18\",\"2020-05-19\",\"2020-05-20\",\"2020-05-21\",\"2020-05-22\",\"2020-05-23\",\"2020-05-24\",\"2020-05-25\",\"2020-05-26\",\"2020-05-27\",\"2020-05-28\",\"2020-05-29\",\"2020-05-30\",\"2020-05-31\",\"2020-06-01\"],\"xaxis\":\"x\",\"y\":[20,20,20,17,17,17,17,17,17,17,17,16,15,15,14,14,14,10,10,10,9,9,9,9,8,8,8,8,8,7,6,6],\"yaxis\":\"y\",\"type\":\"scattergl\"},{\"hovertemplate\":\"Regulation=GymsSportsCentresPartial<br>Date=%{x}<br>num_countries=%{y}<extra></extra>\",\"legendgroup\":\"GymsSportsCentresPartial\",\"line\":{\"color\":\"#FF97FF\",\"dash\":\"solid\"},\"marker\":{\"symbol\":\"circle\"},\"mode\":\"lines\",\"name\":\"GymsSportsCentresPartial\",\"showlegend\":true,\"x\":[\"2020-05-01\",\"2020-05-02\",\"2020-05-03\",\"2020-05-04\",\"2020-05-05\",\"2020-05-06\",\"2020-05-07\",\"2020-05-08\",\"2020-05-09\",\"2020-05-10\",\"2020-05-11\",\"2020-05-12\",\"2020-05-13\",\"2020-05-14\",\"2020-05-15\",\"2020-05-16\",\"2020-05-17\",\"2020-05-18\",\"2020-05-19\",\"2020-05-20\",\"2020-05-21\",\"2020-05-22\",\"2020-05-23\",\"2020-05-24\",\"2020-05-25\",\"2020-05-26\",\"2020-05-27\",\"2020-05-28\",\"2020-05-29\",\"2020-05-30\",\"2020-05-31\",\"2020-06-01\"],\"xaxis\":\"x\",\"y\":[6,6,6,9,9,9,9,9,9,9,9,10,10,10,10,10,10,13,13,13,13,13,13,13,14,14,14,14,14,14,15,15],\"yaxis\":\"y\",\"type\":\"scattergl\"},{\"hovertemplate\":\"Regulation=HotelsOtherAccommodation<br>Date=%{x}<br>num_countries=%{y}<extra></extra>\",\"legendgroup\":\"HotelsOtherAccommodation\",\"line\":{\"color\":\"#FECB52\",\"dash\":\"solid\"},\"marker\":{\"symbol\":\"circle\"},\"mode\":\"lines\",\"name\":\"HotelsOtherAccommodation\",\"showlegend\":true,\"x\":[\"2020-05-01\",\"2020-05-02\",\"2020-05-03\",\"2020-05-04\",\"2020-05-05\",\"2020-05-06\",\"2020-05-07\",\"2020-05-08\",\"2020-05-09\",\"2020-05-10\",\"2020-05-11\",\"2020-05-12\",\"2020-05-13\",\"2020-05-14\",\"2020-05-15\",\"2020-05-16\",\"2020-05-17\",\"2020-05-18\",\"2020-05-19\",\"2020-05-20\",\"2020-05-21\",\"2020-05-22\",\"2020-05-23\",\"2020-05-24\",\"2020-05-25\",\"2020-05-26\",\"2020-05-27\",\"2020-05-28\",\"2020-05-29\",\"2020-05-30\",\"2020-05-31\",\"2020-06-01\"],\"xaxis\":\"x\",\"y\":[8,8,8,7,6,6,6,6,6,6,6,6,6,6,6,5,5,5,5,5,5,4,4,4,3,2,2,2,2,1,1,1],\"yaxis\":\"y\",\"type\":\"scattergl\"},{\"hovertemplate\":\"Regulation=HotelsOtherAccommodationPartial<br>Date=%{x}<br>num_countries=%{y}<extra></extra>\",\"legendgroup\":\"HotelsOtherAccommodationPartial\",\"line\":{\"color\":\"#636efa\",\"dash\":\"solid\"},\"marker\":{\"symbol\":\"circle\"},\"mode\":\"lines\",\"name\":\"HotelsOtherAccommodationPartial\",\"showlegend\":true,\"x\":[\"2020-05-01\",\"2020-05-02\",\"2020-05-03\",\"2020-05-04\",\"2020-05-05\",\"2020-05-06\",\"2020-05-07\",\"2020-05-08\",\"2020-05-09\",\"2020-05-10\",\"2020-05-11\",\"2020-05-12\",\"2020-05-13\",\"2020-05-14\",\"2020-05-15\",\"2020-05-16\",\"2020-05-17\",\"2020-05-18\",\"2020-05-19\",\"2020-05-20\",\"2020-05-21\",\"2020-05-22\",\"2020-05-23\",\"2020-05-24\",\"2020-05-25\",\"2020-05-26\",\"2020-05-27\",\"2020-05-28\",\"2020-05-29\",\"2020-05-30\",\"2020-05-31\",\"2020-06-01\"],\"xaxis\":\"x\",\"y\":[1,1,1,2,2,2,2,2,2,2,2,2,2,2,2,2,2,2,2,2,1,2,2,2,3,3,3,3,3,3,3,3],\"yaxis\":\"y\",\"type\":\"scattergl\"},{\"hovertemplate\":\"Regulation=IndoorOver100<br>Date=%{x}<br>num_countries=%{y}<extra></extra>\",\"legendgroup\":\"IndoorOver100\",\"line\":{\"color\":\"#EF553B\",\"dash\":\"solid\"},\"marker\":{\"symbol\":\"circle\"},\"mode\":\"lines\",\"name\":\"IndoorOver100\",\"showlegend\":true,\"x\":[\"2020-05-01\",\"2020-05-02\",\"2020-05-03\",\"2020-05-04\",\"2020-05-05\",\"2020-05-06\",\"2020-05-07\",\"2020-05-08\",\"2020-05-09\",\"2020-05-10\",\"2020-05-11\",\"2020-05-12\",\"2020-05-13\",\"2020-05-14\",\"2020-05-15\",\"2020-05-16\",\"2020-05-17\",\"2020-05-18\",\"2020-05-19\",\"2020-05-20\",\"2020-05-21\",\"2020-05-22\",\"2020-05-23\",\"2020-05-24\",\"2020-05-25\",\"2020-05-26\",\"2020-05-27\",\"2020-05-28\",\"2020-05-29\",\"2020-05-30\",\"2020-05-31\",\"2020-06-01\"],\"xaxis\":\"x\",\"y\":[2,2,2,2,2,2,2,2,2,2,2,2,2,2,2,2,2,4,4,4,4,4,4,4,3,3,3,3,3,3,3,2],\"yaxis\":\"y\",\"type\":\"scattergl\"},{\"hovertemplate\":\"Regulation=IndoorOver1000<br>Date=%{x}<br>num_countries=%{y}<extra></extra>\",\"legendgroup\":\"IndoorOver1000\",\"line\":{\"color\":\"#00cc96\",\"dash\":\"solid\"},\"marker\":{\"symbol\":\"circle\"},\"mode\":\"lines\",\"name\":\"IndoorOver1000\",\"showlegend\":true,\"x\":[\"2020-05-01\",\"2020-05-02\",\"2020-05-03\",\"2020-05-04\",\"2020-05-05\",\"2020-05-06\",\"2020-05-07\",\"2020-05-08\",\"2020-05-09\",\"2020-05-10\",\"2020-05-11\",\"2020-05-12\",\"2020-05-13\",\"2020-05-14\",\"2020-05-15\",\"2020-05-16\",\"2020-05-17\",\"2020-05-18\",\"2020-05-19\",\"2020-05-20\",\"2020-05-21\",\"2020-05-22\",\"2020-05-23\",\"2020-05-24\",\"2020-05-25\",\"2020-05-26\",\"2020-05-27\",\"2020-05-28\",\"2020-05-29\",\"2020-05-30\",\"2020-05-31\",\"2020-06-01\"],\"xaxis\":\"x\",\"y\":[1,1,1,1,1,1,1,1,1,1,1,1,1,1,1,1,1,1,1,1,1,1,1,1,1,1,1,1,1,1,1,1],\"yaxis\":\"y\",\"type\":\"scattergl\"},{\"hovertemplate\":\"Regulation=IndoorOver50<br>Date=%{x}<br>num_countries=%{y}<extra></extra>\",\"legendgroup\":\"IndoorOver50\",\"line\":{\"color\":\"#ab63fa\",\"dash\":\"solid\"},\"marker\":{\"symbol\":\"circle\"},\"mode\":\"lines\",\"name\":\"IndoorOver50\",\"showlegend\":true,\"x\":[\"2020-05-01\",\"2020-05-02\",\"2020-05-03\",\"2020-05-04\",\"2020-05-05\",\"2020-05-06\",\"2020-05-07\",\"2020-05-08\",\"2020-05-09\",\"2020-05-10\",\"2020-05-11\",\"2020-05-12\",\"2020-05-13\",\"2020-05-14\",\"2020-05-15\",\"2020-05-16\",\"2020-05-17\",\"2020-05-18\",\"2020-05-19\",\"2020-05-20\",\"2020-05-21\",\"2020-05-22\",\"2020-05-23\",\"2020-05-24\",\"2020-05-25\",\"2020-05-26\",\"2020-05-27\",\"2020-05-28\",\"2020-05-29\",\"2020-05-30\",\"2020-05-31\",\"2020-06-01\"],\"xaxis\":\"x\",\"y\":[2,2,2,2,3,3,4,4,4,4,4,4,4,4,4,4,4,5,5,5,5,5,5,5,5,4,4,4,4,4,4,3],\"yaxis\":\"y\",\"type\":\"scattergl\"},{\"hovertemplate\":\"Regulation=IndoorOver500<br>Date=%{x}<br>num_countries=%{y}<extra></extra>\",\"legendgroup\":\"IndoorOver500\",\"line\":{\"color\":\"#FFA15A\",\"dash\":\"solid\"},\"marker\":{\"symbol\":\"circle\"},\"mode\":\"lines\",\"name\":\"IndoorOver500\",\"showlegend\":true,\"x\":[\"2020-05-01\",\"2020-05-02\",\"2020-05-03\",\"2020-05-04\",\"2020-05-05\",\"2020-05-06\",\"2020-05-07\",\"2020-05-08\",\"2020-05-09\",\"2020-05-10\",\"2020-05-11\",\"2020-05-12\",\"2020-05-13\",\"2020-05-14\",\"2020-05-15\",\"2020-05-16\",\"2020-05-17\",\"2020-05-18\",\"2020-05-19\",\"2020-05-20\",\"2020-05-21\",\"2020-05-22\",\"2020-05-23\",\"2020-05-24\",\"2020-05-25\",\"2020-05-26\",\"2020-05-27\",\"2020-05-28\",\"2020-05-29\",\"2020-05-30\",\"2020-05-31\",\"2020-06-01\"],\"xaxis\":\"x\",\"y\":[1,1,1,1,1,1,1,1,1,1,1,1,1,1,1,1,1,1,1,1,1,1,1,1,2,3,3,3,3,3,3,3],\"yaxis\":\"y\",\"type\":\"scattergl\"},{\"hovertemplate\":\"Regulation=MassGather50<br>Date=%{x}<br>num_countries=%{y}<extra></extra>\",\"legendgroup\":\"MassGather50\",\"line\":{\"color\":\"#19d3f3\",\"dash\":\"solid\"},\"marker\":{\"symbol\":\"circle\"},\"mode\":\"lines\",\"name\":\"MassGather50\",\"showlegend\":true,\"x\":[\"2020-05-01\",\"2020-05-02\",\"2020-05-03\",\"2020-05-04\",\"2020-05-05\",\"2020-05-06\",\"2020-05-07\",\"2020-05-08\",\"2020-05-09\",\"2020-05-10\",\"2020-05-11\",\"2020-05-12\",\"2020-05-13\",\"2020-05-14\",\"2020-05-15\",\"2020-05-16\",\"2020-05-17\",\"2020-05-18\",\"2020-05-19\",\"2020-05-20\",\"2020-05-21\",\"2020-05-22\",\"2020-05-23\",\"2020-05-24\",\"2020-05-25\",\"2020-05-26\",\"2020-05-27\",\"2020-05-28\",\"2020-05-29\",\"2020-05-30\",\"2020-05-31\",\"2020-06-01\"],\"xaxis\":\"x\",\"y\":[20,20,20,20,20,20,20,20,20,20,18,18,18,18,17,17,17,17,17,17,17,17,17,17,17,16,16,16,16,15,15,12],\"yaxis\":\"y\",\"type\":\"scattergl\"},{\"hovertemplate\":\"Regulation=MassGather50Partial<br>Date=%{x}<br>num_countries=%{y}<extra></extra>\",\"legendgroup\":\"MassGather50Partial\",\"line\":{\"color\":\"#FF6692\",\"dash\":\"solid\"},\"marker\":{\"symbol\":\"circle\"},\"mode\":\"lines\",\"name\":\"MassGather50Partial\",\"showlegend\":true,\"x\":[\"2020-05-01\",\"2020-05-02\",\"2020-05-03\",\"2020-05-04\",\"2020-05-05\",\"2020-05-06\",\"2020-05-07\",\"2020-05-08\",\"2020-05-09\",\"2020-05-10\",\"2020-05-11\",\"2020-05-12\",\"2020-05-13\",\"2020-05-14\",\"2020-05-15\",\"2020-05-16\",\"2020-05-17\",\"2020-05-18\",\"2020-05-19\",\"2020-05-20\",\"2020-05-21\",\"2020-05-22\",\"2020-05-23\",\"2020-05-24\",\"2020-05-25\",\"2020-05-26\",\"2020-05-27\",\"2020-05-28\",\"2020-05-29\",\"2020-05-30\",\"2020-05-31\",\"2020-06-01\"],\"xaxis\":\"x\",\"y\":[1,1,1,1,1,1,1,1,1,1,2,2,2,2,3,3,3,3,3,3,3,3,3,3,3,3,3,3,3,3,3,3],\"yaxis\":\"y\",\"type\":\"scattergl\"},{\"hovertemplate\":\"Regulation=MassGatherAll<br>Date=%{x}<br>num_countries=%{y}<extra></extra>\",\"legendgroup\":\"MassGatherAll\",\"line\":{\"color\":\"#B6E880\",\"dash\":\"solid\"},\"marker\":{\"symbol\":\"circle\"},\"mode\":\"lines\",\"name\":\"MassGatherAll\",\"showlegend\":true,\"x\":[\"2020-05-01\",\"2020-05-02\",\"2020-05-03\",\"2020-05-04\",\"2020-05-05\",\"2020-05-06\",\"2020-05-07\",\"2020-05-08\",\"2020-05-09\",\"2020-05-10\",\"2020-05-11\",\"2020-05-12\",\"2020-05-13\",\"2020-05-14\",\"2020-05-15\",\"2020-05-16\",\"2020-05-17\",\"2020-05-18\",\"2020-05-19\",\"2020-05-20\",\"2020-05-21\",\"2020-05-22\",\"2020-05-23\",\"2020-05-24\",\"2020-05-25\",\"2020-05-26\",\"2020-05-27\",\"2020-05-28\",\"2020-05-29\",\"2020-05-30\",\"2020-05-31\",\"2020-06-01\"],\"xaxis\":\"x\",\"y\":[22,22,22,22,22,22,22,22,22,22,21,21,21,21,21,21,21,21,21,21,21,21,21,21,20,20,20,20,20,20,20,19],\"yaxis\":\"y\",\"type\":\"scattergl\"},{\"hovertemplate\":\"Regulation=MassGatherAllPartial<br>Date=%{x}<br>num_countries=%{y}<extra></extra>\",\"legendgroup\":\"MassGatherAllPartial\",\"line\":{\"color\":\"#FF97FF\",\"dash\":\"solid\"},\"marker\":{\"symbol\":\"circle\"},\"mode\":\"lines\",\"name\":\"MassGatherAllPartial\",\"showlegend\":true,\"x\":[\"2020-05-01\",\"2020-05-02\",\"2020-05-03\",\"2020-05-04\",\"2020-05-05\",\"2020-05-06\",\"2020-05-07\",\"2020-05-08\",\"2020-05-09\",\"2020-05-10\",\"2020-05-11\",\"2020-05-12\",\"2020-05-13\",\"2020-05-14\",\"2020-05-15\",\"2020-05-16\",\"2020-05-17\",\"2020-05-18\",\"2020-05-19\",\"2020-05-20\",\"2020-05-21\",\"2020-05-22\",\"2020-05-23\",\"2020-05-24\",\"2020-05-25\",\"2020-05-26\",\"2020-05-27\",\"2020-05-28\",\"2020-05-29\",\"2020-05-30\",\"2020-05-31\",\"2020-06-01\"],\"xaxis\":\"x\",\"y\":[3,3,3,3,3,3,3,3,3,3,3,3,3,3,3,3,3,4,4,4,4,4,4,4,5,5,5,5,5,5,5,5],\"yaxis\":\"y\",\"type\":\"scattergl\"},{\"hovertemplate\":\"Regulation=NonEssentialShops<br>Date=%{x}<br>num_countries=%{y}<extra></extra>\",\"legendgroup\":\"NonEssentialShops\",\"line\":{\"color\":\"#FECB52\",\"dash\":\"solid\"},\"marker\":{\"symbol\":\"circle\"},\"mode\":\"lines\",\"name\":\"NonEssentialShops\",\"showlegend\":true,\"x\":[\"2020-05-01\",\"2020-05-02\",\"2020-05-03\",\"2020-05-04\",\"2020-05-05\",\"2020-05-06\",\"2020-05-07\",\"2020-05-08\",\"2020-05-09\",\"2020-05-10\",\"2020-05-11\",\"2020-05-12\",\"2020-05-13\",\"2020-05-14\",\"2020-05-15\",\"2020-05-16\",\"2020-05-17\",\"2020-05-18\",\"2020-05-19\",\"2020-05-20\",\"2020-05-21\",\"2020-05-22\",\"2020-05-23\",\"2020-05-24\",\"2020-05-25\",\"2020-05-26\",\"2020-05-27\",\"2020-05-28\",\"2020-05-29\",\"2020-05-30\",\"2020-05-31\",\"2020-06-01\"],\"xaxis\":\"x\",\"y\":[10,10,10,10,10,10,10,10,10,10,10,9,9,8,8,8,8,5,5,5,5,3,3,3,3,3,3,3,3,3,3,3],\"yaxis\":\"y\",\"type\":\"scattergl\"},{\"hovertemplate\":\"Regulation=NonEssentialShopsPartial<br>Date=%{x}<br>num_countries=%{y}<extra></extra>\",\"legendgroup\":\"NonEssentialShopsPartial\",\"line\":{\"color\":\"#636efa\",\"dash\":\"solid\"},\"marker\":{\"symbol\":\"circle\"},\"mode\":\"lines\",\"name\":\"NonEssentialShopsPartial\",\"showlegend\":true,\"x\":[\"2020-05-01\",\"2020-05-02\",\"2020-05-03\",\"2020-05-04\",\"2020-05-05\",\"2020-05-06\",\"2020-05-07\",\"2020-05-08\",\"2020-05-09\",\"2020-05-10\",\"2020-05-11\",\"2020-05-12\",\"2020-05-13\",\"2020-05-14\",\"2020-05-15\",\"2020-05-16\",\"2020-05-17\",\"2020-05-18\",\"2020-05-19\",\"2020-05-20\",\"2020-05-21\",\"2020-05-22\",\"2020-05-23\",\"2020-05-24\",\"2020-05-25\",\"2020-05-26\",\"2020-05-27\",\"2020-05-28\",\"2020-05-29\",\"2020-05-30\",\"2020-05-31\",\"2020-06-01\"],\"xaxis\":\"x\",\"y\":[10,9,9,9,9,9,9,9,9,9,8,8,8,9,9,9,9,9,7,6,6,8,8,8,8,7,7,7,7,6,6,6],\"yaxis\":\"y\",\"type\":\"scattergl\"},{\"hovertemplate\":\"Regulation=OutdoorOver100<br>Date=%{x}<br>num_countries=%{y}<extra></extra>\",\"legendgroup\":\"OutdoorOver100\",\"line\":{\"color\":\"#EF553B\",\"dash\":\"solid\"},\"marker\":{\"symbol\":\"circle\"},\"mode\":\"lines\",\"name\":\"OutdoorOver100\",\"showlegend\":true,\"x\":[\"2020-05-01\",\"2020-05-02\",\"2020-05-03\",\"2020-05-04\",\"2020-05-05\",\"2020-05-06\",\"2020-05-07\",\"2020-05-08\",\"2020-05-09\",\"2020-05-10\",\"2020-05-11\",\"2020-05-12\",\"2020-05-13\",\"2020-05-14\",\"2020-05-15\",\"2020-05-16\",\"2020-05-17\",\"2020-05-18\",\"2020-05-19\",\"2020-05-20\",\"2020-05-21\",\"2020-05-22\",\"2020-05-23\",\"2020-05-24\",\"2020-05-25\",\"2020-05-26\",\"2020-05-27\",\"2020-05-28\",\"2020-05-29\",\"2020-05-30\",\"2020-05-31\",\"2020-06-01\"],\"xaxis\":\"x\",\"y\":[1,1,1,1,1,1,1,1,1,1,1,1,1,1,1,1,1,2,2,2,2,2,2,2,1,1,1,1,1,2,2,2],\"yaxis\":\"y\",\"type\":\"scattergl\"},{\"hovertemplate\":\"Regulation=OutdoorOver1000<br>Date=%{x}<br>num_countries=%{y}<extra></extra>\",\"legendgroup\":\"OutdoorOver1000\",\"line\":{\"color\":\"#00cc96\",\"dash\":\"solid\"},\"marker\":{\"symbol\":\"circle\"},\"mode\":\"lines\",\"name\":\"OutdoorOver1000\",\"showlegend\":true,\"x\":[\"2020-05-01\",\"2020-05-02\",\"2020-05-03\",\"2020-05-04\",\"2020-05-05\",\"2020-05-06\",\"2020-05-07\",\"2020-05-08\",\"2020-05-09\",\"2020-05-10\",\"2020-05-11\",\"2020-05-12\",\"2020-05-13\",\"2020-05-14\",\"2020-05-15\",\"2020-05-16\",\"2020-05-17\",\"2020-05-18\",\"2020-05-19\",\"2020-05-20\",\"2020-05-21\",\"2020-05-22\",\"2020-05-23\",\"2020-05-24\",\"2020-05-25\",\"2020-05-26\",\"2020-05-27\",\"2020-05-28\",\"2020-05-29\",\"2020-05-30\",\"2020-05-31\",\"2020-06-01\"],\"xaxis\":\"x\",\"y\":[1,1,1,1,1,1,1,1,1,1,1,1,1,1,1,1,1,2,2,2,2,2,2,2,2,2,2,2,2,2,2,2],\"yaxis\":\"y\",\"type\":\"scattergl\"},{\"hovertemplate\":\"Regulation=OutdoorOver50<br>Date=%{x}<br>num_countries=%{y}<extra></extra>\",\"legendgroup\":\"OutdoorOver50\",\"line\":{\"color\":\"#ab63fa\",\"dash\":\"solid\"},\"marker\":{\"symbol\":\"circle\"},\"mode\":\"lines\",\"name\":\"OutdoorOver50\",\"showlegend\":true,\"x\":[\"2020-05-01\",\"2020-05-02\",\"2020-05-03\",\"2020-05-04\",\"2020-05-05\",\"2020-05-06\",\"2020-05-07\",\"2020-05-08\",\"2020-05-09\",\"2020-05-10\",\"2020-05-11\",\"2020-05-12\",\"2020-05-13\",\"2020-05-14\",\"2020-05-15\",\"2020-05-16\",\"2020-05-17\",\"2020-05-18\",\"2020-05-19\",\"2020-05-20\",\"2020-05-21\",\"2020-05-22\",\"2020-05-23\",\"2020-05-24\",\"2020-05-25\",\"2020-05-26\",\"2020-05-27\",\"2020-05-28\",\"2020-05-29\",\"2020-05-30\",\"2020-05-31\",\"2020-06-01\"],\"xaxis\":\"x\",\"y\":[2,2,2,2,3,3,4,4,4,4,4,4,4,4,4,4,4,5,5,5,5,5,5,5,5,4,4,4,4,4,4,3],\"yaxis\":\"y\",\"type\":\"scattergl\"},{\"hovertemplate\":\"Regulation=OutdoorOver500<br>Date=%{x}<br>num_countries=%{y}<extra></extra>\",\"legendgroup\":\"OutdoorOver500\",\"line\":{\"color\":\"#FFA15A\",\"dash\":\"solid\"},\"marker\":{\"symbol\":\"circle\"},\"mode\":\"lines\",\"name\":\"OutdoorOver500\",\"showlegend\":true,\"x\":[\"2020-05-01\",\"2020-05-02\",\"2020-05-03\",\"2020-05-04\",\"2020-05-05\",\"2020-05-06\",\"2020-05-07\",\"2020-05-08\",\"2020-05-09\",\"2020-05-10\",\"2020-05-11\",\"2020-05-12\",\"2020-05-13\",\"2020-05-14\",\"2020-05-15\",\"2020-05-16\",\"2020-05-17\",\"2020-05-18\",\"2020-05-19\",\"2020-05-20\",\"2020-05-21\",\"2020-05-22\",\"2020-05-23\",\"2020-05-24\",\"2020-05-25\",\"2020-05-26\",\"2020-05-27\",\"2020-05-28\",\"2020-05-29\",\"2020-05-30\",\"2020-05-31\",\"2020-06-01\"],\"xaxis\":\"x\",\"y\":[3,3,3,3,3,3,3,3,3,3,3,3,3,3,3,3,3,3,3,3,3,3,3,3,4,5,5,5,5,5,5,5],\"yaxis\":\"y\",\"type\":\"scattergl\"},{\"hovertemplate\":\"Regulation=PlaceOfWorship<br>Date=%{x}<br>num_countries=%{y}<extra></extra>\",\"legendgroup\":\"PlaceOfWorship\",\"line\":{\"color\":\"#19d3f3\",\"dash\":\"solid\"},\"marker\":{\"symbol\":\"circle\"},\"mode\":\"lines\",\"name\":\"PlaceOfWorship\",\"showlegend\":true,\"x\":[\"2020-05-01\",\"2020-05-02\",\"2020-05-03\",\"2020-05-04\",\"2020-05-05\",\"2020-05-06\",\"2020-05-07\",\"2020-05-08\",\"2020-05-09\",\"2020-05-10\",\"2020-05-11\",\"2020-05-12\",\"2020-05-13\",\"2020-05-14\",\"2020-05-15\",\"2020-05-16\",\"2020-05-17\",\"2020-05-18\",\"2020-05-19\",\"2020-05-20\",\"2020-05-21\",\"2020-05-22\",\"2020-05-23\",\"2020-05-24\",\"2020-05-25\",\"2020-05-26\",\"2020-05-27\",\"2020-05-28\",\"2020-05-29\",\"2020-05-30\",\"2020-05-31\",\"2020-06-01\"],\"xaxis\":\"x\",\"y\":[10,10,10,9,9,9,9,9,9,9,8,7,7,7,5,5,5,5,4,4,4,4,4,4,4,4,4,4,4,4,3,2],\"yaxis\":\"y\",\"type\":\"scattergl\"},{\"hovertemplate\":\"Regulation=PlaceOfWorshipPartial<br>Date=%{x}<br>num_countries=%{y}<extra></extra>\",\"legendgroup\":\"PlaceOfWorshipPartial\",\"line\":{\"color\":\"#FF6692\",\"dash\":\"solid\"},\"marker\":{\"symbol\":\"circle\"},\"mode\":\"lines\",\"name\":\"PlaceOfWorshipPartial\",\"showlegend\":true,\"x\":[\"2020-05-01\",\"2020-05-02\",\"2020-05-03\",\"2020-05-04\",\"2020-05-05\",\"2020-05-06\",\"2020-05-07\",\"2020-05-08\",\"2020-05-09\",\"2020-05-10\",\"2020-05-11\",\"2020-05-12\",\"2020-05-13\",\"2020-05-14\",\"2020-05-15\",\"2020-05-16\",\"2020-05-17\",\"2020-05-18\",\"2020-05-19\",\"2020-05-20\",\"2020-05-21\",\"2020-05-22\",\"2020-05-23\",\"2020-05-24\",\"2020-05-25\",\"2020-05-26\",\"2020-05-27\",\"2020-05-28\",\"2020-05-29\",\"2020-05-30\",\"2020-05-31\",\"2020-06-01\"],\"xaxis\":\"x\",\"y\":[5,5,5,6,6,6,6,6,6,6,6,7,7,7,9,9,9,9,9,9,9,9,9,9,9,9,9,9,9,9,8,8],\"yaxis\":\"y\",\"type\":\"scattergl\"},{\"hovertemplate\":\"Regulation=PrivateGatheringRestrictions<br>Date=%{x}<br>num_countries=%{y}<extra></extra>\",\"legendgroup\":\"PrivateGatheringRestrictions\",\"line\":{\"color\":\"#B6E880\",\"dash\":\"solid\"},\"marker\":{\"symbol\":\"circle\"},\"mode\":\"lines\",\"name\":\"PrivateGatheringRestrictions\",\"showlegend\":true,\"x\":[\"2020-05-01\",\"2020-05-02\",\"2020-05-03\",\"2020-05-04\",\"2020-05-05\",\"2020-05-06\",\"2020-05-07\",\"2020-05-08\",\"2020-05-09\",\"2020-05-10\",\"2020-05-11\",\"2020-05-12\",\"2020-05-13\",\"2020-05-14\",\"2020-05-15\",\"2020-05-16\",\"2020-05-17\",\"2020-05-18\",\"2020-05-19\",\"2020-05-20\",\"2020-05-21\",\"2020-05-22\",\"2020-05-23\",\"2020-05-24\",\"2020-05-25\",\"2020-05-26\",\"2020-05-27\",\"2020-05-28\",\"2020-05-29\",\"2020-05-30\",\"2020-05-31\",\"2020-06-01\"],\"xaxis\":\"x\",\"y\":[16,16,17,15,15,15,15,15,15,15,15,13,13,13,13,13,13,11,11,11,10,10,10,10,10,10,10,10,10,9,9,9],\"yaxis\":\"y\",\"type\":\"scattergl\"},{\"hovertemplate\":\"Regulation=PrivateGatheringRestrictionsPartial<br>Date=%{x}<br>num_countries=%{y}<extra></extra>\",\"legendgroup\":\"PrivateGatheringRestrictionsPartial\",\"line\":{\"color\":\"#FF97FF\",\"dash\":\"solid\"},\"marker\":{\"symbol\":\"circle\"},\"mode\":\"lines\",\"name\":\"PrivateGatheringRestrictionsPartial\",\"showlegend\":true,\"x\":[\"2020-05-01\",\"2020-05-02\",\"2020-05-03\",\"2020-05-04\",\"2020-05-05\",\"2020-05-06\",\"2020-05-07\",\"2020-05-08\",\"2020-05-09\",\"2020-05-10\",\"2020-05-11\",\"2020-05-12\",\"2020-05-13\",\"2020-05-14\",\"2020-05-15\",\"2020-05-16\",\"2020-05-17\",\"2020-05-18\",\"2020-05-19\",\"2020-05-20\",\"2020-05-21\",\"2020-05-22\",\"2020-05-23\",\"2020-05-24\",\"2020-05-25\",\"2020-05-26\",\"2020-05-27\",\"2020-05-28\",\"2020-05-29\",\"2020-05-30\",\"2020-05-31\",\"2020-06-01\"],\"xaxis\":\"x\",\"y\":[1,1,1,1,1,1,1,1,1,1,2,2,2,2,2,2,2,2,2,2,2,2,2,2,3,3,3,3,3,3,3,3],\"yaxis\":\"y\",\"type\":\"scattergl\"},{\"hovertemplate\":\"Regulation=QuarantineForInternationalTravellers<br>Date=%{x}<br>num_countries=%{y}<extra></extra>\",\"legendgroup\":\"QuarantineForInternationalTravellers\",\"line\":{\"color\":\"#FECB52\",\"dash\":\"solid\"},\"marker\":{\"symbol\":\"circle\"},\"mode\":\"lines\",\"name\":\"QuarantineForInternationalTravellers\",\"showlegend\":true,\"x\":[\"2020-05-01\",\"2020-05-02\",\"2020-05-03\",\"2020-05-04\",\"2020-05-05\",\"2020-05-06\",\"2020-05-07\",\"2020-05-08\",\"2020-05-09\",\"2020-05-10\",\"2020-05-11\",\"2020-05-12\",\"2020-05-13\",\"2020-05-14\",\"2020-05-15\",\"2020-05-16\",\"2020-05-17\",\"2020-05-18\",\"2020-05-19\",\"2020-05-20\",\"2020-05-21\",\"2020-05-22\",\"2020-05-23\",\"2020-05-24\",\"2020-05-25\",\"2020-05-26\",\"2020-05-27\",\"2020-05-28\",\"2020-05-29\",\"2020-05-30\",\"2020-05-31\",\"2020-06-01\"],\"xaxis\":\"x\",\"y\":[15,15,15,15,15,15,15,15,15,15,15,14,14,14,15,15,15,15,15,15,15,15,15,15,15,15,15,15,15,15,15,14],\"yaxis\":\"y\",\"type\":\"scattergl\"},{\"hovertemplate\":\"Regulation=QuarantineForInternationalTravellersPartial<br>Date=%{x}<br>num_countries=%{y}<extra></extra>\",\"legendgroup\":\"QuarantineForInternationalTravellersPartial\",\"line\":{\"color\":\"#636efa\",\"dash\":\"solid\"},\"marker\":{\"symbol\":\"circle\"},\"mode\":\"lines\",\"name\":\"QuarantineForInternationalTravellersPartial\",\"showlegend\":true,\"x\":[\"2020-05-01\",\"2020-05-02\",\"2020-05-03\",\"2020-05-04\",\"2020-05-05\",\"2020-05-06\",\"2020-05-07\",\"2020-05-08\",\"2020-05-09\",\"2020-05-10\",\"2020-05-11\",\"2020-05-12\",\"2020-05-13\",\"2020-05-14\",\"2020-05-15\",\"2020-05-16\",\"2020-05-17\",\"2020-05-18\",\"2020-05-19\",\"2020-05-20\",\"2020-05-21\",\"2020-05-22\",\"2020-05-23\",\"2020-05-24\",\"2020-05-25\",\"2020-05-26\",\"2020-05-27\",\"2020-05-28\",\"2020-05-29\",\"2020-05-30\",\"2020-05-31\",\"2020-06-01\"],\"xaxis\":\"x\",\"y\":[2,2,2,2,2,2,3,3,3,3,4,4,4,4,4,4,4,4,4,4,4,4,4,4,4,4,4,4,4,4,4,4],\"yaxis\":\"y\",\"type\":\"scattergl\"},{\"hovertemplate\":\"Regulation=RegionalStayHomeOrder<br>Date=%{x}<br>num_countries=%{y}<extra></extra>\",\"legendgroup\":\"RegionalStayHomeOrder\",\"line\":{\"color\":\"#EF553B\",\"dash\":\"solid\"},\"marker\":{\"symbol\":\"circle\"},\"mode\":\"lines\",\"name\":\"RegionalStayHomeOrder\",\"showlegend\":true,\"x\":[\"2020-05-01\",\"2020-05-02\",\"2020-05-03\"],\"xaxis\":\"x\",\"y\":[1,1,1],\"yaxis\":\"y\",\"type\":\"scattergl\"},{\"hovertemplate\":\"Regulation=RestaurantsCafes<br>Date=%{x}<br>num_countries=%{y}<extra></extra>\",\"legendgroup\":\"RestaurantsCafes\",\"line\":{\"color\":\"#00cc96\",\"dash\":\"solid\"},\"marker\":{\"symbol\":\"circle\"},\"mode\":\"lines\",\"name\":\"RestaurantsCafes\",\"showlegend\":true,\"x\":[\"2020-05-01\",\"2020-05-02\",\"2020-05-03\",\"2020-05-04\",\"2020-05-05\",\"2020-05-06\",\"2020-05-07\",\"2020-05-08\",\"2020-05-09\",\"2020-05-10\",\"2020-05-11\",\"2020-05-12\",\"2020-05-13\",\"2020-05-14\",\"2020-05-15\",\"2020-05-16\",\"2020-05-17\",\"2020-05-18\",\"2020-05-19\",\"2020-05-20\",\"2020-05-21\",\"2020-05-22\",\"2020-05-23\",\"2020-05-24\",\"2020-05-25\",\"2020-05-26\",\"2020-05-27\",\"2020-05-28\",\"2020-05-29\",\"2020-05-30\",\"2020-05-31\",\"2020-06-01\"],\"xaxis\":\"x\",\"y\":[24,24,24,23,23,23,23,23,23,23,22,21,21,21,20,20,20,16,15,14,13,11,11,11,11,10,10,10,9,9,9,5],\"yaxis\":\"y\",\"type\":\"scattergl\"},{\"hovertemplate\":\"Regulation=RestaurantsCafesPartial<br>Date=%{x}<br>num_countries=%{y}<extra></extra>\",\"legendgroup\":\"RestaurantsCafesPartial\",\"line\":{\"color\":\"#ab63fa\",\"dash\":\"solid\"},\"marker\":{\"symbol\":\"circle\"},\"mode\":\"lines\",\"name\":\"RestaurantsCafesPartial\",\"showlegend\":true,\"x\":[\"2020-05-01\",\"2020-05-02\",\"2020-05-03\",\"2020-05-04\",\"2020-05-05\",\"2020-05-06\",\"2020-05-07\",\"2020-05-08\",\"2020-05-09\",\"2020-05-10\",\"2020-05-11\",\"2020-05-12\",\"2020-05-13\",\"2020-05-14\",\"2020-05-15\",\"2020-05-16\",\"2020-05-17\",\"2020-05-18\",\"2020-05-19\",\"2020-05-20\",\"2020-05-21\",\"2020-05-22\",\"2020-05-23\",\"2020-05-24\",\"2020-05-25\",\"2020-05-26\",\"2020-05-27\",\"2020-05-28\",\"2020-05-29\",\"2020-05-30\",\"2020-05-31\",\"2020-06-01\"],\"xaxis\":\"x\",\"y\":[3,3,3,4,4,4,4,4,4,4,5,6,6,6,6,6,6,8,7,8,9,11,11,11,11,11,11,11,12,12,12,12],\"yaxis\":\"y\",\"type\":\"scattergl\"},{\"hovertemplate\":\"Regulation=SocialCircle<br>Date=%{x}<br>num_countries=%{y}<extra></extra>\",\"legendgroup\":\"SocialCircle\",\"line\":{\"color\":\"#FFA15A\",\"dash\":\"solid\"},\"marker\":{\"symbol\":\"circle\"},\"mode\":\"lines\",\"name\":\"SocialCircle\",\"showlegend\":true,\"x\":[\"2020-05-01\",\"2020-05-02\",\"2020-05-03\",\"2020-05-04\",\"2020-05-05\",\"2020-05-06\",\"2020-05-07\",\"2020-05-08\",\"2020-05-09\",\"2020-05-10\",\"2020-05-11\",\"2020-05-12\",\"2020-05-13\",\"2020-05-14\",\"2020-05-15\",\"2020-05-16\",\"2020-05-17\",\"2020-05-18\",\"2020-05-19\",\"2020-05-20\",\"2020-05-21\",\"2020-05-22\",\"2020-05-23\",\"2020-05-24\",\"2020-05-25\",\"2020-05-26\",\"2020-05-27\",\"2020-05-28\",\"2020-05-29\",\"2020-05-30\",\"2020-05-31\",\"2020-06-01\"],\"xaxis\":\"x\",\"y\":[1,1,1,1,1,1,1,1,1,1,1,1,1,1,1,1,1,1,1,1,1,1,1,1,1,1,1,1,1,1,1,1],\"yaxis\":\"y\",\"type\":\"scattergl\"},{\"hovertemplate\":\"Regulation=StayHomeGen<br>Date=%{x}<br>num_countries=%{y}<extra></extra>\",\"legendgroup\":\"StayHomeGen\",\"line\":{\"color\":\"#19d3f3\",\"dash\":\"solid\"},\"marker\":{\"symbol\":\"circle\"},\"mode\":\"lines\",\"name\":\"StayHomeGen\",\"showlegend\":true,\"x\":[\"2020-05-01\",\"2020-05-02\",\"2020-05-03\",\"2020-05-04\",\"2020-05-05\",\"2020-05-06\",\"2020-05-07\",\"2020-05-08\",\"2020-05-09\",\"2020-05-10\",\"2020-05-11\",\"2020-05-12\",\"2020-05-13\",\"2020-05-14\",\"2020-05-15\",\"2020-05-16\",\"2020-05-17\",\"2020-05-18\",\"2020-05-19\",\"2020-05-20\",\"2020-05-21\",\"2020-05-22\",\"2020-05-23\",\"2020-05-24\",\"2020-05-25\",\"2020-05-26\",\"2020-05-27\",\"2020-05-28\",\"2020-05-29\",\"2020-05-30\",\"2020-05-31\",\"2020-06-01\"],\"xaxis\":\"x\",\"y\":[6,6,6,6,5,4,4,4,4,5,4,4,4,4,4,4,4,4,3,3,3,3,3,3,3,3,3,3,3,3,3,3],\"yaxis\":\"y\",\"type\":\"scattergl\"},{\"hovertemplate\":\"Regulation=StayHomeGenPartial<br>Date=%{x}<br>num_countries=%{y}<extra></extra>\",\"legendgroup\":\"StayHomeGenPartial\",\"line\":{\"color\":\"#FF6692\",\"dash\":\"solid\"},\"marker\":{\"symbol\":\"circle\"},\"mode\":\"lines\",\"name\":\"StayHomeGenPartial\",\"showlegend\":true,\"x\":[\"2020-05-06\",\"2020-05-07\",\"2020-05-08\",\"2020-05-09\",\"2020-05-10\",\"2020-05-11\",\"2020-05-12\",\"2020-05-13\",\"2020-05-14\",\"2020-05-15\",\"2020-05-16\",\"2020-05-17\",\"2020-05-18\",\"2020-05-19\",\"2020-05-20\",\"2020-05-21\",\"2020-05-22\",\"2020-05-23\",\"2020-05-24\",\"2020-05-25\",\"2020-05-26\",\"2020-05-27\",\"2020-05-28\",\"2020-05-29\",\"2020-05-30\",\"2020-05-31\",\"2020-06-01\"],\"xaxis\":\"x\",\"y\":[1,1,1,1,1,2,2,2,2,2,2,2,2,2,2,2,2,2,2,2,2,2,2,2,2,2,2],\"yaxis\":\"y\",\"type\":\"scattergl\"},{\"hovertemplate\":\"Regulation=StayHomeOrder<br>Date=%{x}<br>num_countries=%{y}<extra></extra>\",\"legendgroup\":\"StayHomeOrder\",\"line\":{\"color\":\"#B6E880\",\"dash\":\"solid\"},\"marker\":{\"symbol\":\"circle\"},\"mode\":\"lines\",\"name\":\"StayHomeOrder\",\"showlegend\":true,\"x\":[\"2020-05-01\",\"2020-05-02\",\"2020-05-03\",\"2020-05-04\",\"2020-05-05\",\"2020-05-06\",\"2020-05-07\",\"2020-05-08\",\"2020-05-09\",\"2020-05-10\",\"2020-05-11\",\"2020-05-12\",\"2020-05-13\",\"2020-05-14\",\"2020-05-15\",\"2020-05-16\",\"2020-05-17\",\"2020-05-18\"],\"xaxis\":\"x\",\"y\":[9,9,8,7,5,5,5,5,5,4,3,2,2,2,2,2,2,1],\"yaxis\":\"y\",\"type\":\"scattergl\"},{\"hovertemplate\":\"Regulation=StayHomeOrderPartial<br>Date=%{x}<br>num_countries=%{y}<extra></extra>\",\"legendgroup\":\"StayHomeOrderPartial\",\"line\":{\"color\":\"#FF97FF\",\"dash\":\"solid\"},\"marker\":{\"symbol\":\"circle\"},\"mode\":\"lines\",\"name\":\"StayHomeOrderPartial\",\"showlegend\":true,\"x\":[\"2020-05-01\",\"2020-05-02\",\"2020-05-03\",\"2020-05-04\",\"2020-05-05\",\"2020-05-06\",\"2020-05-07\",\"2020-05-08\",\"2020-05-09\",\"2020-05-10\",\"2020-05-11\",\"2020-05-12\",\"2020-05-13\",\"2020-05-14\",\"2020-05-15\",\"2020-05-16\",\"2020-05-17\",\"2020-05-18\",\"2020-05-19\",\"2020-05-20\",\"2020-05-21\",\"2020-05-22\",\"2020-05-23\",\"2020-05-24\",\"2020-05-25\",\"2020-05-26\",\"2020-05-27\",\"2020-05-28\",\"2020-05-29\",\"2020-05-30\",\"2020-05-31\",\"2020-06-01\"],\"xaxis\":\"x\",\"y\":[3,3,3,4,4,4,4,4,4,4,4,4,4,3,3,3,3,3,3,3,3,2,2,2,2,2,2,2,2,2,2,2],\"yaxis\":\"y\",\"type\":\"scattergl\"},{\"hovertemplate\":\"Regulation=StayHomeRiskG<br>Date=%{x}<br>num_countries=%{y}<extra></extra>\",\"legendgroup\":\"StayHomeRiskG\",\"line\":{\"color\":\"#FECB52\",\"dash\":\"solid\"},\"marker\":{\"symbol\":\"circle\"},\"mode\":\"lines\",\"name\":\"StayHomeRiskG\",\"showlegend\":true,\"x\":[\"2020-05-01\",\"2020-05-02\",\"2020-05-03\",\"2020-05-04\",\"2020-05-05\",\"2020-05-06\",\"2020-05-07\",\"2020-05-08\",\"2020-05-09\",\"2020-05-10\",\"2020-05-11\",\"2020-05-12\",\"2020-05-13\",\"2020-05-14\",\"2020-05-15\",\"2020-05-16\",\"2020-05-17\",\"2020-05-18\",\"2020-05-19\",\"2020-05-20\",\"2020-05-21\",\"2020-05-22\",\"2020-05-23\",\"2020-05-24\",\"2020-05-25\",\"2020-05-26\",\"2020-05-27\",\"2020-05-28\",\"2020-05-29\",\"2020-05-30\",\"2020-05-31\",\"2020-06-01\"],\"xaxis\":\"x\",\"y\":[14,14,13,13,13,13,13,13,13,13,13,13,13,13,12,12,12,12,12,12,12,12,12,12,12,12,12,12,12,12,12,12],\"yaxis\":\"y\",\"type\":\"scattergl\"},{\"hovertemplate\":\"Regulation=Teleworking<br>Date=%{x}<br>num_countries=%{y}<extra></extra>\",\"legendgroup\":\"Teleworking\",\"line\":{\"color\":\"#636efa\",\"dash\":\"solid\"},\"marker\":{\"symbol\":\"circle\"},\"mode\":\"lines\",\"name\":\"Teleworking\",\"showlegend\":true,\"x\":[\"2020-05-01\",\"2020-05-02\",\"2020-05-03\",\"2020-05-04\",\"2020-05-05\",\"2020-05-06\",\"2020-05-07\",\"2020-05-08\",\"2020-05-09\",\"2020-05-10\",\"2020-05-11\",\"2020-05-12\",\"2020-05-13\",\"2020-05-14\",\"2020-05-15\",\"2020-05-16\",\"2020-05-17\",\"2020-05-18\",\"2020-05-19\",\"2020-05-20\",\"2020-05-21\",\"2020-05-22\",\"2020-05-23\",\"2020-05-24\",\"2020-05-25\",\"2020-05-26\",\"2020-05-27\",\"2020-05-28\",\"2020-05-29\",\"2020-05-30\",\"2020-05-31\",\"2020-06-01\"],\"xaxis\":\"x\",\"y\":[18,18,18,18,18,18,18,18,18,18,17,17,17,17,17,17,17,17,17,17,17,17,17,17,17,17,17,16,16,16,16,14],\"yaxis\":\"y\",\"type\":\"scattergl\"},{\"hovertemplate\":\"Regulation=TeleworkingPartial<br>Date=%{x}<br>num_countries=%{y}<extra></extra>\",\"legendgroup\":\"TeleworkingPartial\",\"line\":{\"color\":\"#EF553B\",\"dash\":\"solid\"},\"marker\":{\"symbol\":\"circle\"},\"mode\":\"lines\",\"name\":\"TeleworkingPartial\",\"showlegend\":true,\"x\":[\"2020-05-01\",\"2020-05-02\",\"2020-05-03\",\"2020-05-04\",\"2020-05-05\",\"2020-05-06\",\"2020-05-07\",\"2020-05-08\",\"2020-05-09\",\"2020-05-10\",\"2020-05-11\",\"2020-05-12\",\"2020-05-13\",\"2020-05-14\",\"2020-05-15\",\"2020-05-16\",\"2020-05-17\",\"2020-05-18\",\"2020-05-19\",\"2020-05-20\",\"2020-05-21\",\"2020-05-22\",\"2020-05-23\",\"2020-05-24\",\"2020-05-25\",\"2020-05-26\",\"2020-05-27\",\"2020-05-28\",\"2020-05-29\",\"2020-05-30\",\"2020-05-31\",\"2020-06-01\"],\"xaxis\":\"x\",\"y\":[2,2,2,2,2,2,2,2,2,2,2,2,2,2,2,2,2,2,2,2,2,2,2,2,2,2,2,2,2,2,2,2],\"yaxis\":\"y\",\"type\":\"scattergl\"},{\"hovertemplate\":\"Regulation=WorkplaceClosures<br>Date=%{x}<br>num_countries=%{y}<extra></extra>\",\"legendgroup\":\"WorkplaceClosures\",\"line\":{\"color\":\"#00cc96\",\"dash\":\"solid\"},\"marker\":{\"symbol\":\"circle\"},\"mode\":\"lines\",\"name\":\"WorkplaceClosures\",\"showlegend\":true,\"x\":[\"2020-05-01\",\"2020-05-02\",\"2020-05-03\",\"2020-05-04\",\"2020-05-05\",\"2020-05-06\",\"2020-05-07\",\"2020-05-08\",\"2020-05-09\",\"2020-05-10\",\"2020-05-11\"],\"xaxis\":\"x\",\"y\":[4,4,4,4,3,3,3,3,3,3,1],\"yaxis\":\"y\",\"type\":\"scattergl\"},{\"hovertemplate\":\"Regulation=WorkplaceClosuresPartial<br>Date=%{x}<br>num_countries=%{y}<extra></extra>\",\"legendgroup\":\"WorkplaceClosuresPartial\",\"line\":{\"color\":\"#ab63fa\",\"dash\":\"solid\"},\"marker\":{\"symbol\":\"circle\"},\"mode\":\"lines\",\"name\":\"WorkplaceClosuresPartial\",\"showlegend\":true,\"x\":[\"2020-05-01\",\"2020-05-02\",\"2020-05-03\",\"2020-05-04\",\"2020-05-05\",\"2020-05-06\",\"2020-05-07\",\"2020-05-08\",\"2020-05-09\",\"2020-05-10\",\"2020-05-11\",\"2020-05-12\",\"2020-05-13\",\"2020-05-14\",\"2020-05-15\",\"2020-05-16\",\"2020-05-17\",\"2020-05-18\",\"2020-05-19\",\"2020-05-20\",\"2020-05-21\",\"2020-05-22\",\"2020-05-23\",\"2020-05-24\",\"2020-05-25\",\"2020-05-26\",\"2020-05-27\",\"2020-05-28\",\"2020-05-29\",\"2020-05-30\",\"2020-05-31\",\"2020-06-01\"],\"xaxis\":\"x\",\"y\":[1,1,1,1,1,1,1,1,1,1,1,1,1,1,1,1,1,1,1,1,1,1,1,1,1,1,1,1,1,1,1,1],\"yaxis\":\"y\",\"type\":\"scattergl\"}],                        {\"template\":{\"data\":{\"histogram2dcontour\":[{\"type\":\"histogram2dcontour\",\"colorbar\":{\"outlinewidth\":0,\"ticks\":\"\"},\"colorscale\":[[0.0,\"#0d0887\"],[0.1111111111111111,\"#46039f\"],[0.2222222222222222,\"#7201a8\"],[0.3333333333333333,\"#9c179e\"],[0.4444444444444444,\"#bd3786\"],[0.5555555555555556,\"#d8576b\"],[0.6666666666666666,\"#ed7953\"],[0.7777777777777778,\"#fb9f3a\"],[0.8888888888888888,\"#fdca26\"],[1.0,\"#f0f921\"]]}],\"choropleth\":[{\"type\":\"choropleth\",\"colorbar\":{\"outlinewidth\":0,\"ticks\":\"\"}}],\"histogram2d\":[{\"type\":\"histogram2d\",\"colorbar\":{\"outlinewidth\":0,\"ticks\":\"\"},\"colorscale\":[[0.0,\"#0d0887\"],[0.1111111111111111,\"#46039f\"],[0.2222222222222222,\"#7201a8\"],[0.3333333333333333,\"#9c179e\"],[0.4444444444444444,\"#bd3786\"],[0.5555555555555556,\"#d8576b\"],[0.6666666666666666,\"#ed7953\"],[0.7777777777777778,\"#fb9f3a\"],[0.8888888888888888,\"#fdca26\"],[1.0,\"#f0f921\"]]}],\"heatmap\":[{\"type\":\"heatmap\",\"colorbar\":{\"outlinewidth\":0,\"ticks\":\"\"},\"colorscale\":[[0.0,\"#0d0887\"],[0.1111111111111111,\"#46039f\"],[0.2222222222222222,\"#7201a8\"],[0.3333333333333333,\"#9c179e\"],[0.4444444444444444,\"#bd3786\"],[0.5555555555555556,\"#d8576b\"],[0.6666666666666666,\"#ed7953\"],[0.7777777777777778,\"#fb9f3a\"],[0.8888888888888888,\"#fdca26\"],[1.0,\"#f0f921\"]]}],\"heatmapgl\":[{\"type\":\"heatmapgl\",\"colorbar\":{\"outlinewidth\":0,\"ticks\":\"\"},\"colorscale\":[[0.0,\"#0d0887\"],[0.1111111111111111,\"#46039f\"],[0.2222222222222222,\"#7201a8\"],[0.3333333333333333,\"#9c179e\"],[0.4444444444444444,\"#bd3786\"],[0.5555555555555556,\"#d8576b\"],[0.6666666666666666,\"#ed7953\"],[0.7777777777777778,\"#fb9f3a\"],[0.8888888888888888,\"#fdca26\"],[1.0,\"#f0f921\"]]}],\"contourcarpet\":[{\"type\":\"contourcarpet\",\"colorbar\":{\"outlinewidth\":0,\"ticks\":\"\"}}],\"contour\":[{\"type\":\"contour\",\"colorbar\":{\"outlinewidth\":0,\"ticks\":\"\"},\"colorscale\":[[0.0,\"#0d0887\"],[0.1111111111111111,\"#46039f\"],[0.2222222222222222,\"#7201a8\"],[0.3333333333333333,\"#9c179e\"],[0.4444444444444444,\"#bd3786\"],[0.5555555555555556,\"#d8576b\"],[0.6666666666666666,\"#ed7953\"],[0.7777777777777778,\"#fb9f3a\"],[0.8888888888888888,\"#fdca26\"],[1.0,\"#f0f921\"]]}],\"surface\":[{\"type\":\"surface\",\"colorbar\":{\"outlinewidth\":0,\"ticks\":\"\"},\"colorscale\":[[0.0,\"#0d0887\"],[0.1111111111111111,\"#46039f\"],[0.2222222222222222,\"#7201a8\"],[0.3333333333333333,\"#9c179e\"],[0.4444444444444444,\"#bd3786\"],[0.5555555555555556,\"#d8576b\"],[0.6666666666666666,\"#ed7953\"],[0.7777777777777778,\"#fb9f3a\"],[0.8888888888888888,\"#fdca26\"],[1.0,\"#f0f921\"]]}],\"mesh3d\":[{\"type\":\"mesh3d\",\"colorbar\":{\"outlinewidth\":0,\"ticks\":\"\"}}],\"scatter\":[{\"fillpattern\":{\"fillmode\":\"overlay\",\"size\":10,\"solidity\":0.2},\"type\":\"scatter\"}],\"parcoords\":[{\"type\":\"parcoords\",\"line\":{\"colorbar\":{\"outlinewidth\":0,\"ticks\":\"\"}}}],\"scatterpolargl\":[{\"type\":\"scatterpolargl\",\"marker\":{\"colorbar\":{\"outlinewidth\":0,\"ticks\":\"\"}}}],\"bar\":[{\"error_x\":{\"color\":\"#2a3f5f\"},\"error_y\":{\"color\":\"#2a3f5f\"},\"marker\":{\"line\":{\"color\":\"#E5ECF6\",\"width\":0.5},\"pattern\":{\"fillmode\":\"overlay\",\"size\":10,\"solidity\":0.2}},\"type\":\"bar\"}],\"scattergeo\":[{\"type\":\"scattergeo\",\"marker\":{\"colorbar\":{\"outlinewidth\":0,\"ticks\":\"\"}}}],\"scatterpolar\":[{\"type\":\"scatterpolar\",\"marker\":{\"colorbar\":{\"outlinewidth\":0,\"ticks\":\"\"}}}],\"histogram\":[{\"marker\":{\"pattern\":{\"fillmode\":\"overlay\",\"size\":10,\"solidity\":0.2}},\"type\":\"histogram\"}],\"scattergl\":[{\"type\":\"scattergl\",\"marker\":{\"colorbar\":{\"outlinewidth\":0,\"ticks\":\"\"}}}],\"scatter3d\":[{\"type\":\"scatter3d\",\"line\":{\"colorbar\":{\"outlinewidth\":0,\"ticks\":\"\"}},\"marker\":{\"colorbar\":{\"outlinewidth\":0,\"ticks\":\"\"}}}],\"scattermapbox\":[{\"type\":\"scattermapbox\",\"marker\":{\"colorbar\":{\"outlinewidth\":0,\"ticks\":\"\"}}}],\"scatterternary\":[{\"type\":\"scatterternary\",\"marker\":{\"colorbar\":{\"outlinewidth\":0,\"ticks\":\"\"}}}],\"scattercarpet\":[{\"type\":\"scattercarpet\",\"marker\":{\"colorbar\":{\"outlinewidth\":0,\"ticks\":\"\"}}}],\"carpet\":[{\"aaxis\":{\"endlinecolor\":\"#2a3f5f\",\"gridcolor\":\"white\",\"linecolor\":\"white\",\"minorgridcolor\":\"white\",\"startlinecolor\":\"#2a3f5f\"},\"baxis\":{\"endlinecolor\":\"#2a3f5f\",\"gridcolor\":\"white\",\"linecolor\":\"white\",\"minorgridcolor\":\"white\",\"startlinecolor\":\"#2a3f5f\"},\"type\":\"carpet\"}],\"table\":[{\"cells\":{\"fill\":{\"color\":\"#EBF0F8\"},\"line\":{\"color\":\"white\"}},\"header\":{\"fill\":{\"color\":\"#C8D4E3\"},\"line\":{\"color\":\"white\"}},\"type\":\"table\"}],\"barpolar\":[{\"marker\":{\"line\":{\"color\":\"#E5ECF6\",\"width\":0.5},\"pattern\":{\"fillmode\":\"overlay\",\"size\":10,\"solidity\":0.2}},\"type\":\"barpolar\"}],\"pie\":[{\"automargin\":true,\"type\":\"pie\"}]},\"layout\":{\"autotypenumbers\":\"strict\",\"colorway\":[\"#636efa\",\"#EF553B\",\"#00cc96\",\"#ab63fa\",\"#FFA15A\",\"#19d3f3\",\"#FF6692\",\"#B6E880\",\"#FF97FF\",\"#FECB52\"],\"font\":{\"color\":\"#2a3f5f\"},\"hovermode\":\"closest\",\"hoverlabel\":{\"align\":\"left\"},\"paper_bgcolor\":\"white\",\"plot_bgcolor\":\"#E5ECF6\",\"polar\":{\"bgcolor\":\"#E5ECF6\",\"angularaxis\":{\"gridcolor\":\"white\",\"linecolor\":\"white\",\"ticks\":\"\"},\"radialaxis\":{\"gridcolor\":\"white\",\"linecolor\":\"white\",\"ticks\":\"\"}},\"ternary\":{\"bgcolor\":\"#E5ECF6\",\"aaxis\":{\"gridcolor\":\"white\",\"linecolor\":\"white\",\"ticks\":\"\"},\"baxis\":{\"gridcolor\":\"white\",\"linecolor\":\"white\",\"ticks\":\"\"},\"caxis\":{\"gridcolor\":\"white\",\"linecolor\":\"white\",\"ticks\":\"\"}},\"coloraxis\":{\"colorbar\":{\"outlinewidth\":0,\"ticks\":\"\"}},\"colorscale\":{\"sequential\":[[0.0,\"#0d0887\"],[0.1111111111111111,\"#46039f\"],[0.2222222222222222,\"#7201a8\"],[0.3333333333333333,\"#9c179e\"],[0.4444444444444444,\"#bd3786\"],[0.5555555555555556,\"#d8576b\"],[0.6666666666666666,\"#ed7953\"],[0.7777777777777778,\"#fb9f3a\"],[0.8888888888888888,\"#fdca26\"],[1.0,\"#f0f921\"]],\"sequentialminus\":[[0.0,\"#0d0887\"],[0.1111111111111111,\"#46039f\"],[0.2222222222222222,\"#7201a8\"],[0.3333333333333333,\"#9c179e\"],[0.4444444444444444,\"#bd3786\"],[0.5555555555555556,\"#d8576b\"],[0.6666666666666666,\"#ed7953\"],[0.7777777777777778,\"#fb9f3a\"],[0.8888888888888888,\"#fdca26\"],[1.0,\"#f0f921\"]],\"diverging\":[[0,\"#8e0152\"],[0.1,\"#c51b7d\"],[0.2,\"#de77ae\"],[0.3,\"#f1b6da\"],[0.4,\"#fde0ef\"],[0.5,\"#f7f7f7\"],[0.6,\"#e6f5d0\"],[0.7,\"#b8e186\"],[0.8,\"#7fbc41\"],[0.9,\"#4d9221\"],[1,\"#276419\"]]},\"xaxis\":{\"gridcolor\":\"white\",\"linecolor\":\"white\",\"ticks\":\"\",\"title\":{\"standoff\":15},\"zerolinecolor\":\"white\",\"automargin\":true,\"zerolinewidth\":2},\"yaxis\":{\"gridcolor\":\"white\",\"linecolor\":\"white\",\"ticks\":\"\",\"title\":{\"standoff\":15},\"zerolinecolor\":\"white\",\"automargin\":true,\"zerolinewidth\":2},\"scene\":{\"xaxis\":{\"backgroundcolor\":\"#E5ECF6\",\"gridcolor\":\"white\",\"linecolor\":\"white\",\"showbackground\":true,\"ticks\":\"\",\"zerolinecolor\":\"white\",\"gridwidth\":2},\"yaxis\":{\"backgroundcolor\":\"#E5ECF6\",\"gridcolor\":\"white\",\"linecolor\":\"white\",\"showbackground\":true,\"ticks\":\"\",\"zerolinecolor\":\"white\",\"gridwidth\":2},\"zaxis\":{\"backgroundcolor\":\"#E5ECF6\",\"gridcolor\":\"white\",\"linecolor\":\"white\",\"showbackground\":true,\"ticks\":\"\",\"zerolinecolor\":\"white\",\"gridwidth\":2}},\"shapedefaults\":{\"line\":{\"color\":\"#2a3f5f\"}},\"annotationdefaults\":{\"arrowcolor\":\"#2a3f5f\",\"arrowhead\":0,\"arrowwidth\":1},\"geo\":{\"bgcolor\":\"white\",\"landcolor\":\"#E5ECF6\",\"subunitcolor\":\"white\",\"showland\":true,\"showlakes\":true,\"lakecolor\":\"white\"},\"title\":{\"x\":0.05},\"mapbox\":{\"style\":\"light\"}}},\"xaxis\":{\"anchor\":\"y\",\"domain\":[0.0,1.0],\"title\":{\"text\":\"Date\"}},\"yaxis\":{\"anchor\":\"x\",\"domain\":[0.0,1.0],\"title\":{\"text\":\"num_countries\"}},\"legend\":{\"title\":{\"text\":\"Regulation\"},\"tracegroupgap\":0},\"margin\":{\"t\":60}},                        {\"responsive\": true}                    ).then(function(){\n                            \nvar gd = document.getElementById('a2be9c7b-1f56-48e0-8455-8e30f7d645f7');\nvar x = new MutationObserver(function (mutations, observer) {{\n        var display = window.getComputedStyle(gd).display;\n        if (!display || display === 'none') {{\n            console.log([gd, 'removed!']);\n            Plotly.purge(gd);\n            observer.disconnect();\n        }}\n}});\n\n// Listen for the removal of the full notebook cells\nvar notebookContainer = gd.closest('#notebook-container');\nif (notebookContainer) {{\n    x.observe(notebookContainer, {childList: true});\n}}\n\n// Listen for the clearing of the current output cell\nvar outputEl = gd.closest('.output');\nif (outputEl) {{\n    x.observe(outputEl, {childList: true});\n}}\n\n                        })                };                });            </script>        </div>"
     },
     "metadata": {},
     "output_type": "display_data"
    }
   ],
   "source": [
    "fig = px.line(mai_reg_df, x=\"Date\", y=\"num_countries\", color='Regulation')\n",
    "fig.show()"
   ],
   "metadata": {
    "collapsed": false,
    "pycharm": {
     "name": "#%%\n"
    }
   }
  },
  {
   "cell_type": "markdown",
   "source": [
    "## Game Player Count\n",
    "\n",
    "After we took a look at the regulations all over Europe and investigated the number of total Covid 19 infections for each country for every day, we have to take a look into the third and most important aspect to answer our question: The amounts of Players the game is having.\n",
    "\n",
    "Before we dig deeper into the amount of the assumed player growth for league of legends, we wanted to generate an overall understanding of the gaming industry during the peak of covid 19 regulations. Therefore, we looked for a dataset, that includes top games and their player counts from March till Mai of the Year 2020. We have found a DataSet on Kaggle (https://www.kaggle.com/datasets/heyrobin/video-games-stats-2019present).\n",
    "\n",
    "The Dataset consists of the following columns:\n",
    "- Name\n",
    "- Month\n",
    "- average_Monthly_Players\n",
    "- Monthly_Gain_Loss\n",
    "- Monthly_Gain_Loss_percentage\n",
    "- Max_Players_per_Day\n",
    "\n",
    "These are all very important values for our question, if Covid 19 influenced the player count in games such as League of Legends."
   ],
   "metadata": {
    "collapsed": false
   }
  },
  {
   "cell_type": "code",
   "source": [
    "game_player_count_df = pd.read_csv('Game Player Count.csv')"
   ],
   "metadata": {
    "collapsed": false,
    "pycharm": {
     "name": "#%%\n"
    }
   },
   "execution_count": 213,
   "outputs": []
  },
  {
   "cell_type": "code",
   "execution_count": 214,
   "outputs": [
    {
     "data": {
      "text/plain": "   Unnamed: 0             Name           Month Average_Monthly_Players  \\\n0           0         v rising   June 30, 2022                  57,411   \n1           1         v rising    May 30, 2022                  95,620   \n2           2  forza horizon 5   June 30, 2022              23,650,588   \n3           3  forza horizon 5    May 30, 2022              22,650,041   \n4           4  forza horizon 5  April 30, 2022              19,688,504   \n\n  Monthly_Gain_Loss  Monthly_Gain_Loss_percentage Max_Players_per_Day  \n0           -38,209                         -40.0             146,500  \n1            95,620                           0.0             152,330  \n2         1,000,547                           4.0           7,095,176  \n3         2,961,537                          15.0           6,795,012  \n4           983,063                           5.0           5,906,551  ",
      "text/html": "<div>\n<style scoped>\n    .dataframe tbody tr th:only-of-type {\n        vertical-align: middle;\n    }\n\n    .dataframe tbody tr th {\n        vertical-align: top;\n    }\n\n    .dataframe thead th {\n        text-align: right;\n    }\n</style>\n<table border=\"1\" class=\"dataframe\">\n  <thead>\n    <tr style=\"text-align: right;\">\n      <th></th>\n      <th>Unnamed: 0</th>\n      <th>Name</th>\n      <th>Month</th>\n      <th>Average_Monthly_Players</th>\n      <th>Monthly_Gain_Loss</th>\n      <th>Monthly_Gain_Loss_percentage</th>\n      <th>Max_Players_per_Day</th>\n    </tr>\n  </thead>\n  <tbody>\n    <tr>\n      <th>0</th>\n      <td>0</td>\n      <td>v rising</td>\n      <td>June 30, 2022</td>\n      <td>57,411</td>\n      <td>-38,209</td>\n      <td>-40.0</td>\n      <td>146,500</td>\n    </tr>\n    <tr>\n      <th>1</th>\n      <td>1</td>\n      <td>v rising</td>\n      <td>May 30, 2022</td>\n      <td>95,620</td>\n      <td>95,620</td>\n      <td>0.0</td>\n      <td>152,330</td>\n    </tr>\n    <tr>\n      <th>2</th>\n      <td>2</td>\n      <td>forza horizon 5</td>\n      <td>June 30, 2022</td>\n      <td>23,650,588</td>\n      <td>1,000,547</td>\n      <td>4.0</td>\n      <td>7,095,176</td>\n    </tr>\n    <tr>\n      <th>3</th>\n      <td>3</td>\n      <td>forza horizon 5</td>\n      <td>May 30, 2022</td>\n      <td>22,650,041</td>\n      <td>2,961,537</td>\n      <td>15.0</td>\n      <td>6,795,012</td>\n    </tr>\n    <tr>\n      <th>4</th>\n      <td>4</td>\n      <td>forza horizon 5</td>\n      <td>April 30, 2022</td>\n      <td>19,688,504</td>\n      <td>983,063</td>\n      <td>5.0</td>\n      <td>5,906,551</td>\n    </tr>\n  </tbody>\n</table>\n</div>"
     },
     "execution_count": 214,
     "metadata": {},
     "output_type": "execute_result"
    }
   ],
   "source": [
    "game_player_count_df.head()"
   ],
   "metadata": {
    "collapsed": false,
    "pycharm": {
     "name": "#%%\n"
    }
   }
  },
  {
   "cell_type": "markdown",
   "source": [
    "The games that we have represented are the following:"
   ],
   "metadata": {
    "collapsed": false,
    "pycharm": {
     "name": "#%% md\n"
    }
   }
  },
  {
   "cell_type": "code",
   "execution_count": 215,
   "outputs": [
    {
     "data": {
      "text/plain": "array(['v rising', 'forza horizon 5', 'payday 2', 'elden ring',\n       'lost ark', 'splitgate', 'rust', 'yu gi oh master duel',\n       'monster hunter series', 'team fortress 2 2'], dtype=object)"
     },
     "execution_count": 215,
     "metadata": {},
     "output_type": "execute_result"
    }
   ],
   "source": [
    "game_player_count_df.Name.unique()"
   ],
   "metadata": {
    "collapsed": false,
    "pycharm": {
     "name": "#%%\n"
    }
   }
  },
  {
   "cell_type": "code",
   "execution_count": 216,
   "outputs": [
    {
     "data": {
      "text/plain": "     Unnamed: 0               Name              Month Average_Monthly_Players  \\\n0             0           v rising      June 30, 2022                  57,411   \n1             1           v rising       May 30, 2022                  95,620   \n2             2    forza horizon 5      June 30, 2022              23,650,588   \n3             3    forza horizon 5       May 30, 2022              22,650,041   \n4             4    forza horizon 5     April 30, 2022              19,688,504   \n..          ...                ...                ...                     ...   \n226         226  team fortress 2 2       May 30, 2019                 123,369   \n227         227  team fortress 2 2     April 30, 2019                 134,595   \n228         228  team fortress 2 2     March 30, 2019                 143,352   \n229         229  team fortress 2 2  February 28, 2019                 149,453   \n230         230  team fortress 2 2   January 30, 2019                 158,818   \n\n    Monthly_Gain_Loss  Monthly_Gain_Loss_percentage Max_Players_per_Day  \n0             -38,209                        -40.00             146,500  \n1              95,620                          0.00             152,330  \n2           1,000,547                          4.00           7,095,176  \n3           2,961,537                         15.00           6,795,012  \n4             983,063                          5.00           5,906,551  \n..                ...                           ...                 ...  \n226            -3,742                         -8.34              41,123  \n227            -2,918                         -6.11              44,865  \n228            -2,033                         -4.08              47,784  \n229            -3,121                         -5.90              49,818  \n230               -18                          0.00              52,939  \n\n[231 rows x 7 columns]",
      "text/html": "<div>\n<style scoped>\n    .dataframe tbody tr th:only-of-type {\n        vertical-align: middle;\n    }\n\n    .dataframe tbody tr th {\n        vertical-align: top;\n    }\n\n    .dataframe thead th {\n        text-align: right;\n    }\n</style>\n<table border=\"1\" class=\"dataframe\">\n  <thead>\n    <tr style=\"text-align: right;\">\n      <th></th>\n      <th>Unnamed: 0</th>\n      <th>Name</th>\n      <th>Month</th>\n      <th>Average_Monthly_Players</th>\n      <th>Monthly_Gain_Loss</th>\n      <th>Monthly_Gain_Loss_percentage</th>\n      <th>Max_Players_per_Day</th>\n    </tr>\n  </thead>\n  <tbody>\n    <tr>\n      <th>0</th>\n      <td>0</td>\n      <td>v rising</td>\n      <td>June 30, 2022</td>\n      <td>57,411</td>\n      <td>-38,209</td>\n      <td>-40.00</td>\n      <td>146,500</td>\n    </tr>\n    <tr>\n      <th>1</th>\n      <td>1</td>\n      <td>v rising</td>\n      <td>May 30, 2022</td>\n      <td>95,620</td>\n      <td>95,620</td>\n      <td>0.00</td>\n      <td>152,330</td>\n    </tr>\n    <tr>\n      <th>2</th>\n      <td>2</td>\n      <td>forza horizon 5</td>\n      <td>June 30, 2022</td>\n      <td>23,650,588</td>\n      <td>1,000,547</td>\n      <td>4.00</td>\n      <td>7,095,176</td>\n    </tr>\n    <tr>\n      <th>3</th>\n      <td>3</td>\n      <td>forza horizon 5</td>\n      <td>May 30, 2022</td>\n      <td>22,650,041</td>\n      <td>2,961,537</td>\n      <td>15.00</td>\n      <td>6,795,012</td>\n    </tr>\n    <tr>\n      <th>4</th>\n      <td>4</td>\n      <td>forza horizon 5</td>\n      <td>April 30, 2022</td>\n      <td>19,688,504</td>\n      <td>983,063</td>\n      <td>5.00</td>\n      <td>5,906,551</td>\n    </tr>\n    <tr>\n      <th>...</th>\n      <td>...</td>\n      <td>...</td>\n      <td>...</td>\n      <td>...</td>\n      <td>...</td>\n      <td>...</td>\n      <td>...</td>\n    </tr>\n    <tr>\n      <th>226</th>\n      <td>226</td>\n      <td>team fortress 2 2</td>\n      <td>May 30, 2019</td>\n      <td>123,369</td>\n      <td>-3,742</td>\n      <td>-8.34</td>\n      <td>41,123</td>\n    </tr>\n    <tr>\n      <th>227</th>\n      <td>227</td>\n      <td>team fortress 2 2</td>\n      <td>April 30, 2019</td>\n      <td>134,595</td>\n      <td>-2,918</td>\n      <td>-6.11</td>\n      <td>44,865</td>\n    </tr>\n    <tr>\n      <th>228</th>\n      <td>228</td>\n      <td>team fortress 2 2</td>\n      <td>March 30, 2019</td>\n      <td>143,352</td>\n      <td>-2,033</td>\n      <td>-4.08</td>\n      <td>47,784</td>\n    </tr>\n    <tr>\n      <th>229</th>\n      <td>229</td>\n      <td>team fortress 2 2</td>\n      <td>February 28, 2019</td>\n      <td>149,453</td>\n      <td>-3,121</td>\n      <td>-5.90</td>\n      <td>49,818</td>\n    </tr>\n    <tr>\n      <th>230</th>\n      <td>230</td>\n      <td>team fortress 2 2</td>\n      <td>January 30, 2019</td>\n      <td>158,818</td>\n      <td>-18</td>\n      <td>0.00</td>\n      <td>52,939</td>\n    </tr>\n  </tbody>\n</table>\n<p>231 rows × 7 columns</p>\n</div>"
     },
     "execution_count": 216,
     "metadata": {},
     "output_type": "execute_result"
    }
   ],
   "source": [
    "game_player_count_df"
   ],
   "metadata": {
    "collapsed": false,
    "pycharm": {
     "name": "#%%\n"
    }
   }
  },
  {
   "cell_type": "markdown",
   "source": [
    "Here we can see that all in all we have 231 datapoints, with 7 features , which all describe the popularity of 10 Games."
   ],
   "metadata": {
    "collapsed": false,
    "pycharm": {
     "name": "#%% md\n"
    }
   }
  },
  {
   "cell_type": "code",
   "execution_count": 217,
   "outputs": [],
   "source": [
    "game_player_count_df = game_player_count_df.dropna()"
   ],
   "metadata": {
    "collapsed": false,
    "pycharm": {
     "name": "#%%\n"
    }
   }
  },
  {
   "cell_type": "code",
   "execution_count": 218,
   "outputs": [],
   "source": [
    "# some data cleaning needed\n",
    "# replace row 50 error: \"February 28, 20222\"\n",
    "game_player_count_df.loc[50, 'Month'] = \"February 28, 2022\""
   ],
   "metadata": {
    "collapsed": false,
    "pycharm": {
     "name": "#%%\n"
    }
   }
  },
  {
   "cell_type": "code",
   "execution_count": 219,
   "outputs": [
    {
     "name": "stdout",
     "output_type": "stream",
     "text": [
      "Unnamed: 0                                     50\n",
      "Name                                     lost ark\n",
      "Month                           February 28, 2022\n",
      "Average_Monthly_Players                   701,550\n",
      "Monthly_Gain_Loss                         290,184\n",
      "Monthly_Gain_Loss_percentage                 71.0\n",
      "Max_Players_per_Day                     1,403,100\n",
      "Name: 50, dtype: object\n"
     ]
    }
   ],
   "source": [
    "print(game_player_count_df.loc[50])"
   ],
   "metadata": {
    "collapsed": false,
    "pycharm": {
     "name": "#%%\n"
    }
   }
  },
  {
   "cell_type": "code",
   "execution_count": 220,
   "outputs": [],
   "source": [
    "# since they are not float64 we have to convert the column types\n",
    "# for that we have to replace all the commas with a dot\n",
    "game_player_count_df[\"Average_Monthly_Players\"] = game_player_count_df[\"Average_Monthly_Players\"].apply(lambda x: x.replace(',',''))\n",
    "game_player_count_df[\"Max_Players_per_Day\"] = game_player_count_df[\"Max_Players_per_Day\"].apply(lambda x: x.replace(',',''))\n",
    "game_player_count_df[\"Monthly_Gain_Loss\"] = game_player_count_df[\"Monthly_Gain_Loss\"].apply(lambda x: x.replace(',',''))"
   ],
   "metadata": {
    "collapsed": false,
    "pycharm": {
     "name": "#%%\n"
    }
   }
  },
  {
   "cell_type": "code",
   "execution_count": 221,
   "outputs": [
    {
     "data": {
      "text/plain": "     Unnamed: 0               Name              Month Average_Monthly_Players  \\\n0             0           v rising      June 30, 2022                   57411   \n1             1           v rising       May 30, 2022                   95620   \n2             2    forza horizon 5      June 30, 2022                23650588   \n3             3    forza horizon 5       May 30, 2022                22650041   \n4             4    forza horizon 5     April 30, 2022                19688504   \n..          ...                ...                ...                     ...   \n226         226  team fortress 2 2       May 30, 2019                  123369   \n227         227  team fortress 2 2     April 30, 2019                  134595   \n228         228  team fortress 2 2     March 30, 2019                  143352   \n229         229  team fortress 2 2  February 28, 2019                  149453   \n230         230  team fortress 2 2   January 30, 2019                  158818   \n\n    Monthly_Gain_Loss  Monthly_Gain_Loss_percentage Max_Players_per_Day  \n0              -38209                        -40.00              146500  \n1               95620                          0.00              152330  \n2             1000547                          4.00             7095176  \n3             2961537                         15.00             6795012  \n4              983063                          5.00             5906551  \n..                ...                           ...                 ...  \n226             -3742                         -8.34               41123  \n227             -2918                         -6.11               44865  \n228             -2033                         -4.08               47784  \n229             -3121                         -5.90               49818  \n230               -18                          0.00               52939  \n\n[231 rows x 7 columns]",
      "text/html": "<div>\n<style scoped>\n    .dataframe tbody tr th:only-of-type {\n        vertical-align: middle;\n    }\n\n    .dataframe tbody tr th {\n        vertical-align: top;\n    }\n\n    .dataframe thead th {\n        text-align: right;\n    }\n</style>\n<table border=\"1\" class=\"dataframe\">\n  <thead>\n    <tr style=\"text-align: right;\">\n      <th></th>\n      <th>Unnamed: 0</th>\n      <th>Name</th>\n      <th>Month</th>\n      <th>Average_Monthly_Players</th>\n      <th>Monthly_Gain_Loss</th>\n      <th>Monthly_Gain_Loss_percentage</th>\n      <th>Max_Players_per_Day</th>\n    </tr>\n  </thead>\n  <tbody>\n    <tr>\n      <th>0</th>\n      <td>0</td>\n      <td>v rising</td>\n      <td>June 30, 2022</td>\n      <td>57411</td>\n      <td>-38209</td>\n      <td>-40.00</td>\n      <td>146500</td>\n    </tr>\n    <tr>\n      <th>1</th>\n      <td>1</td>\n      <td>v rising</td>\n      <td>May 30, 2022</td>\n      <td>95620</td>\n      <td>95620</td>\n      <td>0.00</td>\n      <td>152330</td>\n    </tr>\n    <tr>\n      <th>2</th>\n      <td>2</td>\n      <td>forza horizon 5</td>\n      <td>June 30, 2022</td>\n      <td>23650588</td>\n      <td>1000547</td>\n      <td>4.00</td>\n      <td>7095176</td>\n    </tr>\n    <tr>\n      <th>3</th>\n      <td>3</td>\n      <td>forza horizon 5</td>\n      <td>May 30, 2022</td>\n      <td>22650041</td>\n      <td>2961537</td>\n      <td>15.00</td>\n      <td>6795012</td>\n    </tr>\n    <tr>\n      <th>4</th>\n      <td>4</td>\n      <td>forza horizon 5</td>\n      <td>April 30, 2022</td>\n      <td>19688504</td>\n      <td>983063</td>\n      <td>5.00</td>\n      <td>5906551</td>\n    </tr>\n    <tr>\n      <th>...</th>\n      <td>...</td>\n      <td>...</td>\n      <td>...</td>\n      <td>...</td>\n      <td>...</td>\n      <td>...</td>\n      <td>...</td>\n    </tr>\n    <tr>\n      <th>226</th>\n      <td>226</td>\n      <td>team fortress 2 2</td>\n      <td>May 30, 2019</td>\n      <td>123369</td>\n      <td>-3742</td>\n      <td>-8.34</td>\n      <td>41123</td>\n    </tr>\n    <tr>\n      <th>227</th>\n      <td>227</td>\n      <td>team fortress 2 2</td>\n      <td>April 30, 2019</td>\n      <td>134595</td>\n      <td>-2918</td>\n      <td>-6.11</td>\n      <td>44865</td>\n    </tr>\n    <tr>\n      <th>228</th>\n      <td>228</td>\n      <td>team fortress 2 2</td>\n      <td>March 30, 2019</td>\n      <td>143352</td>\n      <td>-2033</td>\n      <td>-4.08</td>\n      <td>47784</td>\n    </tr>\n    <tr>\n      <th>229</th>\n      <td>229</td>\n      <td>team fortress 2 2</td>\n      <td>February 28, 2019</td>\n      <td>149453</td>\n      <td>-3121</td>\n      <td>-5.90</td>\n      <td>49818</td>\n    </tr>\n    <tr>\n      <th>230</th>\n      <td>230</td>\n      <td>team fortress 2 2</td>\n      <td>January 30, 2019</td>\n      <td>158818</td>\n      <td>-18</td>\n      <td>0.00</td>\n      <td>52939</td>\n    </tr>\n  </tbody>\n</table>\n<p>231 rows × 7 columns</p>\n</div>"
     },
     "execution_count": 221,
     "metadata": {},
     "output_type": "execute_result"
    }
   ],
   "source": [
    "game_player_count_df"
   ],
   "metadata": {
    "collapsed": false,
    "pycharm": {
     "name": "#%%\n"
    }
   }
  },
  {
   "cell_type": "code",
   "execution_count": 222,
   "outputs": [],
   "source": [
    "game_player_count_df['Average_Monthly_Players'] = pd.to_numeric(game_player_count_df['Average_Monthly_Players'], errors='coerce')\n",
    "game_player_count_df['Monthly_Gain_Loss'] = pd.to_numeric(game_player_count_df['Monthly_Gain_Loss'], errors='coerce')\n",
    "game_player_count_df['Max_Players_per_Day'] = pd.to_numeric(game_player_count_df['Max_Players_per_Day'], errors='coerce')"
   ],
   "metadata": {
    "collapsed": false,
    "pycharm": {
     "name": "#%%\n"
    }
   }
  },
  {
   "cell_type": "code",
   "execution_count": 223,
   "outputs": [
    {
     "data": {
      "text/plain": "     Unnamed: 0               Name              Month  \\\n0             0           v rising      June 30, 2022   \n1             1           v rising       May 30, 2022   \n2             2    forza horizon 5      June 30, 2022   \n3             3    forza horizon 5       May 30, 2022   \n4             4    forza horizon 5     April 30, 2022   \n..          ...                ...                ...   \n226         226  team fortress 2 2       May 30, 2019   \n227         227  team fortress 2 2     April 30, 2019   \n228         228  team fortress 2 2     March 30, 2019   \n229         229  team fortress 2 2  February 28, 2019   \n230         230  team fortress 2 2   January 30, 2019   \n\n     Average_Monthly_Players  Monthly_Gain_Loss  Monthly_Gain_Loss_percentage  \\\n0                      57411             -38209                        -40.00   \n1                      95620              95620                          0.00   \n2                   23650588            1000547                          4.00   \n3                   22650041            2961537                         15.00   \n4                   19688504             983063                          5.00   \n..                       ...                ...                           ...   \n226                   123369              -3742                         -8.34   \n227                   134595              -2918                         -6.11   \n228                   143352              -2033                         -4.08   \n229                   149453              -3121                         -5.90   \n230                   158818                -18                          0.00   \n\n     Max_Players_per_Day  \n0               146500.0  \n1               152330.0  \n2              7095176.0  \n3              6795012.0  \n4              5906551.0  \n..                   ...  \n226              41123.0  \n227              44865.0  \n228              47784.0  \n229              49818.0  \n230              52939.0  \n\n[231 rows x 7 columns]",
      "text/html": "<div>\n<style scoped>\n    .dataframe tbody tr th:only-of-type {\n        vertical-align: middle;\n    }\n\n    .dataframe tbody tr th {\n        vertical-align: top;\n    }\n\n    .dataframe thead th {\n        text-align: right;\n    }\n</style>\n<table border=\"1\" class=\"dataframe\">\n  <thead>\n    <tr style=\"text-align: right;\">\n      <th></th>\n      <th>Unnamed: 0</th>\n      <th>Name</th>\n      <th>Month</th>\n      <th>Average_Monthly_Players</th>\n      <th>Monthly_Gain_Loss</th>\n      <th>Monthly_Gain_Loss_percentage</th>\n      <th>Max_Players_per_Day</th>\n    </tr>\n  </thead>\n  <tbody>\n    <tr>\n      <th>0</th>\n      <td>0</td>\n      <td>v rising</td>\n      <td>June 30, 2022</td>\n      <td>57411</td>\n      <td>-38209</td>\n      <td>-40.00</td>\n      <td>146500.0</td>\n    </tr>\n    <tr>\n      <th>1</th>\n      <td>1</td>\n      <td>v rising</td>\n      <td>May 30, 2022</td>\n      <td>95620</td>\n      <td>95620</td>\n      <td>0.00</td>\n      <td>152330.0</td>\n    </tr>\n    <tr>\n      <th>2</th>\n      <td>2</td>\n      <td>forza horizon 5</td>\n      <td>June 30, 2022</td>\n      <td>23650588</td>\n      <td>1000547</td>\n      <td>4.00</td>\n      <td>7095176.0</td>\n    </tr>\n    <tr>\n      <th>3</th>\n      <td>3</td>\n      <td>forza horizon 5</td>\n      <td>May 30, 2022</td>\n      <td>22650041</td>\n      <td>2961537</td>\n      <td>15.00</td>\n      <td>6795012.0</td>\n    </tr>\n    <tr>\n      <th>4</th>\n      <td>4</td>\n      <td>forza horizon 5</td>\n      <td>April 30, 2022</td>\n      <td>19688504</td>\n      <td>983063</td>\n      <td>5.00</td>\n      <td>5906551.0</td>\n    </tr>\n    <tr>\n      <th>...</th>\n      <td>...</td>\n      <td>...</td>\n      <td>...</td>\n      <td>...</td>\n      <td>...</td>\n      <td>...</td>\n      <td>...</td>\n    </tr>\n    <tr>\n      <th>226</th>\n      <td>226</td>\n      <td>team fortress 2 2</td>\n      <td>May 30, 2019</td>\n      <td>123369</td>\n      <td>-3742</td>\n      <td>-8.34</td>\n      <td>41123.0</td>\n    </tr>\n    <tr>\n      <th>227</th>\n      <td>227</td>\n      <td>team fortress 2 2</td>\n      <td>April 30, 2019</td>\n      <td>134595</td>\n      <td>-2918</td>\n      <td>-6.11</td>\n      <td>44865.0</td>\n    </tr>\n    <tr>\n      <th>228</th>\n      <td>228</td>\n      <td>team fortress 2 2</td>\n      <td>March 30, 2019</td>\n      <td>143352</td>\n      <td>-2033</td>\n      <td>-4.08</td>\n      <td>47784.0</td>\n    </tr>\n    <tr>\n      <th>229</th>\n      <td>229</td>\n      <td>team fortress 2 2</td>\n      <td>February 28, 2019</td>\n      <td>149453</td>\n      <td>-3121</td>\n      <td>-5.90</td>\n      <td>49818.0</td>\n    </tr>\n    <tr>\n      <th>230</th>\n      <td>230</td>\n      <td>team fortress 2 2</td>\n      <td>January 30, 2019</td>\n      <td>158818</td>\n      <td>-18</td>\n      <td>0.00</td>\n      <td>52939.0</td>\n    </tr>\n  </tbody>\n</table>\n<p>231 rows × 7 columns</p>\n</div>"
     },
     "execution_count": 223,
     "metadata": {},
     "output_type": "execute_result"
    }
   ],
   "source": [
    "game_player_count_df"
   ],
   "metadata": {
    "collapsed": false,
    "pycharm": {
     "name": "#%%\n"
    }
   }
  },
  {
   "cell_type": "markdown",
   "source": [
    "Since here again we are working with DateTime values we will convert the Column Month to the Type DateTime."
   ],
   "metadata": {
    "collapsed": false,
    "pycharm": {
     "name": "#%% md\n"
    }
   }
  },
  {
   "cell_type": "code",
   "execution_count": 224,
   "outputs": [],
   "source": [
    "game_player_count_df['Month'] = pd.to_datetime(game_player_count_df['Month'])"
   ],
   "metadata": {
    "collapsed": false,
    "pycharm": {
     "name": "#%%\n"
    }
   }
  },
  {
   "cell_type": "markdown",
   "source": [
    "### Before/After Covid 19\n",
    "\n",
    "To see the actual change of the Player count and all we will also look into the games popularity change before Covdi 19."
   ],
   "metadata": {
    "collapsed": false,
    "pycharm": {
     "name": "#%% md\n"
    }
   }
  },
  {
   "cell_type": "code",
   "execution_count": 225,
   "outputs": [
    {
     "data": {
      "text/plain": "<AxesSubplot:xlabel='Name'>"
     },
     "execution_count": 225,
     "metadata": {},
     "output_type": "execute_result"
    },
    {
     "data": {
      "text/plain": "<Figure size 432x288 with 1 Axes>",
      "image/png": "[encoded data removed]"
     },
     "metadata": {
      "needs_background": "light"
     },
     "output_type": "display_data"
    }
   ],
   "source": [
    "game_player_count_df['Month'].sort_values()\n",
    "gp = game_player_count_df.groupby('Name')['Average_Monthly_Players'].count()\n",
    "gp.plot.bar()"
   ],
   "metadata": {
    "collapsed": false,
    "pycharm": {
     "name": "#%%\n"
    }
   }
  },
  {
   "cell_type": "code",
   "execution_count": 226,
   "outputs": [
    {
     "data": {
      "application/vnd.plotly.v1+json": {
       "data": [
        {
         "hovertemplate": "Name=v rising<br>Month=%{x}<br>Max_Players_per_Day=%{y}<extra></extra>",
         "legendgroup": "v rising",
         "line": {
          "color": "#636efa",
          "dash": "solid"
         },
         "marker": {
          "symbol": "circle"
         },
         "mode": "lines",
         "name": "v rising",
         "orientation": "v",
         "showlegend": true,
         "x": [
          "2022-06-30T00:00:00",
          "2022-05-30T00:00:00"
         ],
         "xaxis": "x",
         "y": [
          146500.0,
          152330.0
         ],
         "yaxis": "y",
         "type": "scatter"
        },
        {
         "hovertemplate": "Name=forza horizon 5<br>Month=%{x}<br>Max_Players_per_Day=%{y}<extra></extra>",
         "legendgroup": "forza horizon 5",
         "line": {
          "color": "#EF553B",
          "dash": "solid"
         },
         "marker": {
          "symbol": "circle"
         },
         "mode": "lines",
         "name": "forza horizon 5",
         "orientation": "v",
         "showlegend": true,
         "x": [
          "2022-06-30T00:00:00",
          "2022-05-30T00:00:00",
          "2022-04-30T00:00:00",
          "2022-03-30T00:00:00",
          "2022-02-20T00:00:00",
          "2022-01-30T00:00:00",
          "2021-12-30T00:00:00"
         ],
         "xaxis": "x",
         "y": [
          7095176.0,
          6795012.0,
          5906551.0,
          4364603.0,
          3647748.0,
          3422953.0,
          3151373.0
         ],
         "yaxis": "y",
         "type": "scatter"
        },
        {
         "hovertemplate": "Name=payday 2<br>Month=%{x}<br>Max_Players_per_Day=%{y}<extra></extra>",
         "legendgroup": "payday 2",
         "line": {
          "color": "#00cc96",
          "dash": "solid"
         },
         "marker": {
          "symbol": "circle"
         },
         "mode": "lines",
         "name": "payday 2",
         "orientation": "v",
         "showlegend": true,
         "x": [
          "2022-06-30T00:00:00",
          "2022-05-30T00:00:00",
          "2022-04-30T00:00:00",
          "2022-03-30T00:00:00",
          "2022-02-28T00:00:00",
          "2022-01-30T00:00:00",
          "2021-12-30T00:00:00",
          "2021-11-30T00:00:00",
          "2021-10-30T00:00:00",
          "2021-09-30T00:00:00",
          "2021-08-30T00:00:00",
          "2021-07-30T00:00:00",
          "2021-06-30T00:00:00",
          "2021-05-30T00:00:00",
          "2021-04-30T00:00:00",
          "2021-03-30T00:00:00",
          "2021-02-28T00:00:00",
          "2021-01-30T00:00:00",
          "2020-12-30T00:00:00",
          "2020-11-30T00:00:00",
          "2020-10-30T00:00:00",
          "2020-09-30T00:00:00",
          "2020-08-30T00:00:00",
          "2020-07-30T00:00:00",
          "2020-06-30T00:00:00",
          "2020-05-30T00:00:00",
          "2020-04-30T00:00:00",
          "2020-03-30T00:00:00",
          "2020-02-20T00:00:00",
          "2020-01-30T00:00:00",
          "2019-12-30T00:00:00",
          "2019-11-30T00:00:00"
         ],
         "xaxis": "x",
         "y": [
          1313353.0,
          1340872.0,
          1326139.0,
          1367154.0,
          1482088.0,
          1396046.0,
          1526290.0,
          1425921.0,
          1370949.0,
          1330891.0,
          1343807.0,
          1292000.0,
          1396500.0,
          1200325.0,
          1238356.0,
          1276007.0,
          1213344.0,
          1164934.0,
          1129986.0,
          1211997.0,
          1260596.0,
          1349327.0,
          1416794.0,
          1487633.0,
          1562015.0,
          1342589.0,
          1208725.0,
          1405869.0,
          1267405.0,
          1493495.0,
          1509407.0,
          1536473.0
         ],
         "yaxis": "y",
         "type": "scatter"
        },
        {
         "hovertemplate": "Name=elden ring<br>Month=%{x}<br>Max_Players_per_Day=%{y}<extra></extra>",
         "legendgroup": "elden ring",
         "line": {
          "color": "#ab63fa",
          "dash": "solid"
         },
         "marker": {
          "symbol": "circle"
         },
         "mode": "lines",
         "name": "elden ring",
         "orientation": "v",
         "showlegend": true,
         "x": [
          "2022-06-30T00:00:00",
          "2022-05-30T00:00:00",
          "2022-04-30T00:00:00",
          "2022-03-30T00:00:00",
          "2022-02-28T00:00:00"
         ],
         "xaxis": "x",
         "y": [
          904334.0,
          958510.0,
          960637.0,
          676956.0,
          584115.0
         ],
         "yaxis": "y",
         "type": "scatter"
        },
        {
         "hovertemplate": "Name=lost ark<br>Month=%{x}<br>Max_Players_per_Day=%{y}<extra></extra>",
         "legendgroup": "lost ark",
         "line": {
          "color": "#FFA15A",
          "dash": "solid"
         },
         "marker": {
          "symbol": "circle"
         },
         "mode": "lines",
         "name": "lost ark",
         "orientation": "v",
         "showlegend": true,
         "x": [
          "2022-06-30T00:00:00",
          "2022-05-30T00:00:00",
          "2022-04-30T00:00:00",
          "2022-03-30T00:00:00",
          "2022-02-28T00:00:00",
          "2022-01-30T00:00:00",
          "2021-12-30T00:00:00",
          "2021-11-30T00:00:00",
          "2021-10-30T00:00:00",
          "2021-09-30T00:00:00",
          "2021-08-30T00:00:00",
          "2021-07-30T00:00:00",
          "2021-06-30T00:00:00",
          "2021-05-30T00:00:00",
          "2021-04-30T00:00:00",
          "2021-03-30T00:00:00",
          "2021-02-28T00:00:00",
          "2021-01-30T00:00:00",
          "2020-12-30T00:00:00",
          "2020-11-30T00:00:00",
          "2020-10-30T00:00:00",
          "2020-09-30T00:00:00",
          "2020-08-30T00:00:00",
          "2020-07-30T00:00:00",
          "2020-06-30T00:00:00",
          "2020-05-30T00:00:00",
          "2020-04-30T00:00:00",
          "2020-03-30T00:00:00",
          "2020-02-20T00:00:00",
          "2020-01-30T00:00:00"
         ],
         "xaxis": "x",
         "y": [
          1440228.0,
          1460422.0,
          1301780.0,
          1501112.0,
          1403100.0,
          822732.0,
          811174.0,
          741660.0,
          920544.0,
          936312.0,
          769810.0,
          895962.0,
          906136.0,
          765054.0,
          911094.0,
          780936.0,
          824048.0,
          878106.0,
          746886.0,
          808262.0,
          894684.0,
          802182.0,
          833830.0,
          887386.0,
          830592.0,
          774758.0,
          887658.0,
          887388.0,
          859682.0,
          939448.0
         ],
         "yaxis": "y",
         "type": "scatter"
        },
        {
         "hovertemplate": "Name=splitgate<br>Month=%{x}<br>Max_Players_per_Day=%{y}<extra></extra>",
         "legendgroup": "splitgate",
         "line": {
          "color": "#19d3f3",
          "dash": "solid"
         },
         "marker": {
          "symbol": "circle"
         },
         "mode": "lines",
         "name": "splitgate",
         "orientation": "v",
         "showlegend": true,
         "x": [
          "2022-06-30T00:00:00",
          "2022-05-30T00:00:00",
          "2022-04-30T00:00:00",
          "2022-03-30T00:00:00",
          "2022-02-28T00:00:00",
          "2022-01-30T00:00:00",
          "2021-12-30T00:00:00",
          "2021-11-30T00:00:00",
          "2021-10-30T00:00:00",
          "2020-09-30T00:00:00",
          "2021-08-30T00:00:00",
          "2021-07-30T00:00:00",
          "2021-06-30T00:00:00",
          "2021-05-30T00:00:00",
          "2021-04-30T00:00:00",
          "2021-03-30T00:00:00",
          "2021-02-20T00:00:00",
          "2021-01-30T00:00:00",
          "2020-12-30T00:00:00",
          "2020-11-30T00:00:00",
          "2020-10-30T00:00:00",
          "2020-09-30T00:00:00",
          "2020-08-30T00:00:00",
          "2020-07-30T00:00:00",
          "2020-06-30T00:00:00",
          "2020-05-30T00:00:00",
          "2020-04-30T00:00:00",
          "2020-03-30T00:00:00",
          "2020-02-20T00:00:00",
          "2020-01-30T00:00:00",
          "2019-12-30T00:00:00",
          "2019-11-30T00:00:00",
          "2019-10-30T00:00:00"
         ],
         "xaxis": "x",
         "y": [
          87565.0,
          82501.0,
          77565.0,
          78014.0,
          79100.0,
          75598.0,
          76218.0,
          75877.0,
          77666.0,
          80068.0,
          79380.0,
          78394.0,
          77053.0,
          78081.0,
          77146.0,
          78430.0,
          79585.0,
          74501.0,
          76881.0,
          80223.0,
          75578.0,
          77195.0,
          76534.0,
          79322.0,
          80979.0,
          78404.0,
          77402.0,
          80757.0,
          79812.0,
          80571.0,
          80320.0,
          82390.0,
          87442.0
         ],
         "yaxis": "y",
         "type": "scatter"
        },
        {
         "hovertemplate": "Name=rust<br>Month=%{x}<br>Max_Players_per_Day=%{y}<extra></extra>",
         "legendgroup": "rust",
         "line": {
          "color": "#FF6692",
          "dash": "solid"
         },
         "marker": {
          "symbol": "circle"
         },
         "mode": "lines",
         "name": "rust",
         "orientation": "v",
         "showlegend": true,
         "x": [
          "2022-06-30T00:00:00",
          "2022-05-30T00:00:00",
          "2022-04-30T00:00:00",
          "2022-03-30T00:00:00",
          "2022-02-28T00:00:00",
          "2022-01-30T00:00:00",
          "2021-12-30T00:00:00",
          "2021-11-30T00:00:00",
          "2021-10-30T00:00:00",
          "2021-09-30T00:00:00",
          "2021-08-30T00:00:00",
          "2021-07-30T00:00:00",
          "2021-06-30T00:00:00",
          "2021-05-30T00:00:00",
          "2021-04-30T00:00:00",
          "2021-03-30T00:00:00",
          "2021-02-28T00:00:00",
          "2021-01-30T00:00:00",
          "2020-12-30T00:00:00",
          "2020-11-30T00:00:00",
          "2020-10-30T00:00:00",
          "2020-09-30T00:00:00",
          "2020-08-30T00:00:00",
          "2020-07-30T00:00:00",
          "2020-06-30T00:00:00",
          "2020-05-30T00:00:00",
          "2020-04-30T00:00:00",
          "2020-03-30T00:00:00",
          "2020-02-20T00:00:00",
          "2020-01-30T00:00:00"
         ],
         "xaxis": "x",
         "y": [
          731120.0,
          764337.0,
          766808.0,
          793681.0,
          781630.0,
          753551.0,
          763720.0,
          748506.0,
          817252.0,
          900513.0,
          793104.0,
          765617.0,
          745588.0,
          752046.0,
          726143.0,
          778393.0,
          680305.0,
          699321.0,
          718147.0,
          686815.0,
          662610.0,
          645136.0,
          686142.0,
          710441.0,
          754807.0,
          788540.0,
          823960.0,
          861151.0,
          751438.0,
          903491.0
         ],
         "yaxis": "y",
         "type": "scatter"
        },
        {
         "hovertemplate": "Name=yu gi oh master duel<br>Month=%{x}<br>Max_Players_per_Day=%{y}<extra></extra>",
         "legendgroup": "yu gi oh master duel",
         "line": {
          "color": "#B6E880",
          "dash": "solid"
         },
         "marker": {
          "symbol": "circle"
         },
         "mode": "lines",
         "name": "yu gi oh master duel",
         "orientation": "v",
         "showlegend": true,
         "x": [
          "2022-06-30T00:00:00",
          "2022-05-30T00:00:00",
          "2022-04-30T00:00:00",
          "2022-03-30T00:00:00",
          "2022-02-28T00:00:00",
          "2022-01-30T00:00:00",
          "2021-12-30T00:00:00",
          "2021-11-30T00:00:00",
          "2021-10-30T00:00:00",
          "2021-09-30T00:00:00",
          "2021-08-30T00:00:00",
          "2021-07-30T00:00:00",
          "2021-06-30T00:00:00",
          "2021-05-30T00:00:00",
          "2021-04-30T00:00:00",
          "2021-03-30T00:00:00",
          "2021-02-28T00:00:00",
          "2021-01-30T00:00:00",
          "2020-12-30T00:00:00",
          "2020-11-30T00:00:00",
          "2020-10-30T00:00:00",
          "2020-09-30T00:00:00",
          "2020-08-30T00:00:00",
          "2020-07-30T00:00:00",
          "2020-06-30T00:00:00",
          "2020-05-30T00:00:00",
          "2020-04-30T00:00:00",
          "2020-03-30T00:00:00",
          "2020-02-20T00:00:00",
          "2020-01-30T00:00:00"
         ],
         "xaxis": "x",
         "y": [
          1115345.0,
          1165407.0,
          1193349.0,
          1213527.0,
          1197339.0,
          1116749.0,
          1151287.0,
          1248074.0,
          1175618.0,
          1285297.0,
          1200776.0,
          1154483.0,
          1120750.0,
          1131627.0,
          1088000.0,
          1176000.0,
          1010800.0,
          1042826.0,
          1074533.0,
          1021763.0,
          980997.0,
          951567.0,
          1020629.0,
          1061555.0,
          1136276.0,
          1193089.0,
          1252744.0,
          1315381.0,
          1130601.0,
          1460299.0
         ],
         "yaxis": "y",
         "type": "scatter"
        },
        {
         "hovertemplate": "Name=monster hunter series<br>Month=%{x}<br>Max_Players_per_Day=%{y}<extra></extra>",
         "legendgroup": "monster hunter series",
         "line": {
          "color": "#FF97FF",
          "dash": "solid"
         },
         "marker": {
          "symbol": "circle"
         },
         "mode": "lines",
         "name": "monster hunter series",
         "orientation": "v",
         "showlegend": true,
         "x": [
          "2022-06-30T00:00:00",
          "2022-05-30T00:00:00",
          "2022-04-30T00:00:00",
          "2022-05-30T00:00:00",
          "2022-02-28T00:00:00",
          "2022-01-30T00:00:00",
          "2021-12-30T00:00:00",
          "2021-11-30T00:00:00",
          "2021-10-30T00:00:00",
          "2021-09-30T00:00:00",
          "2021-08-30T00:00:00",
          "2021-07-30T00:00:00",
          "2021-06-30T00:00:00",
          "2021-05-30T00:00:00",
          "2021-04-30T00:00:00",
          "2021-03-30T00:00:00",
          "2021-02-28T00:00:00",
          "2021-01-30T00:00:00",
          "2020-12-30T00:00:00",
          "2020-11-30T00:00:00"
         ],
         "xaxis": "x",
         "y": [
          129780.0,
          122619.0,
          113296.0,
          107360.0,
          100369.0,
          105059.0,
          100813.0,
          123732.0,
          121306.0,
          118928.0,
          110880.0,
          87205.0,
          119438.0,
          138017.0,
          228667.0,
          233333.0,
          262500.0,
          224000.0,
          297052.0,
          76491.0
         ],
         "yaxis": "y",
         "type": "scatter"
        },
        {
         "hovertemplate": "Name=team fortress 2 2<br>Month=%{x}<br>Max_Players_per_Day=%{y}<extra></extra>",
         "legendgroup": "team fortress 2 2",
         "line": {
          "color": "#FECB52",
          "dash": "solid"
         },
         "marker": {
          "symbol": "circle"
         },
         "mode": "lines",
         "name": "team fortress 2 2",
         "orientation": "v",
         "showlegend": true,
         "x": [
          "2022-06-30T00:00:00",
          "2022-05-30T00:00:00",
          "2022-04-30T00:00:00",
          "2022-03-30T00:00:00",
          "2022-02-28T00:00:00",
          "2022-01-30T00:00:00",
          "2021-12-30T00:00:00",
          "2021-11-30T00:00:00",
          "2021-10-30T00:00:00",
          "2021-09-30T00:00:00",
          "2021-08-30T00:00:00",
          "2021-07-30T00:00:00",
          "2021-06-30T00:00:00",
          "2021-05-30T00:00:00",
          "2021-04-30T00:00:00",
          "2021-03-30T00:00:00",
          "2021-02-28T00:00:00",
          "2021-01-30T00:00:00",
          "2020-12-30T00:00:00",
          "2020-11-30T00:00:00",
          "2020-10-30T00:00:00",
          "2020-09-30T00:00:00",
          "2020-08-30T00:00:00",
          "2020-07-30T00:00:00",
          "2020-06-30T00:00:00",
          "2020-05-30T00:00:00",
          "2020-04-30T00:00:00",
          "2020-03-30T00:00:00",
          "2020-02-28T00:00:00",
          "2020-01-30T00:00:00",
          "2020-12-30T00:00:00",
          "2019-11-30T00:00:00",
          "2019-10-30T00:00:00",
          "2019-09-30T00:00:00",
          "2019-08-30T00:00:00",
          "2019-07-30T00:00:00",
          "2019-06-30T00:00:00",
          "2019-05-30T00:00:00",
          "2019-04-30T00:00:00",
          "2019-03-30T00:00:00",
          "2019-02-28T00:00:00",
          "2019-01-30T00:00:00"
         ],
         "xaxis": "x",
         "y": [
          216774.0,
          200887.0,
          197338.0,
          203404.0,
          183685.0,
          182633.0,
          196110.0,
          195204.0,
          202308.0,
          190612.0,
          197002.0,
          109155.0,
          91114.0,
          102335.0,
          100127.0,
          95021.0,
          88665.0,
          86254.0,
          83539.0,
          70001.0,
          75791.0,
          71315.0,
          68734.0,
          71600.0,
          66772.0,
          68696.0,
          69101.0,
          70156.0,
          62652.0,
          62233.0,
          63386.0,
          52396.0,
          54632.0,
          50468.0,
          47295.0,
          51161.0,
          44787.0,
          41123.0,
          44865.0,
          47784.0,
          49818.0,
          52939.0
         ],
         "yaxis": "y",
         "type": "scatter"
        }
       ],
       "layout": {
        "template": {
         "data": {
          "histogram2dcontour": [
           {
            "type": "histogram2dcontour",
            "colorbar": {
             "outlinewidth": 0,
             "ticks": ""
            },
            "colorscale": [
             [
              0.0,
              "#0d0887"
             ],
             [
              0.1111111111111111,
              "#46039f"
             ],
             [
              0.2222222222222222,
              "#7201a8"
             ],
             [
              0.3333333333333333,
              "#9c179e"
             ],
             [
              0.4444444444444444,
              "#bd3786"
             ],
             [
              0.5555555555555556,
              "#d8576b"
             ],
             [
              0.6666666666666666,
              "#ed7953"
             ],
             [
              0.7777777777777778,
              "#fb9f3a"
             ],
             [
              0.8888888888888888,
              "#fdca26"
             ],
             [
              1.0,
              "#f0f921"
             ]
            ]
           }
          ],
          "choropleth": [
           {
            "type": "choropleth",
            "colorbar": {
             "outlinewidth": 0,
             "ticks": ""
            }
           }
          ],
          "histogram2d": [
           {
            "type": "histogram2d",
            "colorbar": {
             "outlinewidth": 0,
             "ticks": ""
            },
            "colorscale": [
             [
              0.0,
              "#0d0887"
             ],
             [
              0.1111111111111111,
              "#46039f"
             ],
             [
              0.2222222222222222,
              "#7201a8"
             ],
             [
              0.3333333333333333,
              "#9c179e"
             ],
             [
              0.4444444444444444,
              "#bd3786"
             ],
             [
              0.5555555555555556,
              "#d8576b"
             ],
             [
              0.6666666666666666,
              "#ed7953"
             ],
             [
              0.7777777777777778,
              "#fb9f3a"
             ],
             [
              0.8888888888888888,
              "#fdca26"
             ],
             [
              1.0,
              "#f0f921"
             ]
            ]
           }
          ],
          "heatmap": [
           {
            "type": "heatmap",
            "colorbar": {
             "outlinewidth": 0,
             "ticks": ""
            },
            "colorscale": [
             [
              0.0,
              "#0d0887"
             ],
             [
              0.1111111111111111,
              "#46039f"
             ],
             [
              0.2222222222222222,
              "#7201a8"
             ],
             [
              0.3333333333333333,
              "#9c179e"
             ],
             [
              0.4444444444444444,
              "#bd3786"
             ],
             [
              0.5555555555555556,
              "#d8576b"
             ],
             [
              0.6666666666666666,
              "#ed7953"
             ],
             [
              0.7777777777777778,
              "#fb9f3a"
             ],
             [
              0.8888888888888888,
              "#fdca26"
             ],
             [
              1.0,
              "#f0f921"
             ]
            ]
           }
          ],
          "heatmapgl": [
           {
            "type": "heatmapgl",
            "colorbar": {
             "outlinewidth": 0,
             "ticks": ""
            },
            "colorscale": [
             [
              0.0,
              "#0d0887"
             ],
             [
              0.1111111111111111,
              "#46039f"
             ],
             [
              0.2222222222222222,
              "#7201a8"
             ],
             [
              0.3333333333333333,
              "#9c179e"
             ],
             [
              0.4444444444444444,
              "#bd3786"
             ],
             [
              0.5555555555555556,
              "#d8576b"
             ],
             [
              0.6666666666666666,
              "#ed7953"
             ],
             [
              0.7777777777777778,
              "#fb9f3a"
             ],
             [
              0.8888888888888888,
              "#fdca26"
             ],
             [
              1.0,
              "#f0f921"
             ]
            ]
           }
          ],
          "contourcarpet": [
           {
            "type": "contourcarpet",
            "colorbar": {
             "outlinewidth": 0,
             "ticks": ""
            }
           }
          ],
          "contour": [
           {
            "type": "contour",
            "colorbar": {
             "outlinewidth": 0,
             "ticks": ""
            },
            "colorscale": [
             [
              0.0,
              "#0d0887"
             ],
             [
              0.1111111111111111,
              "#46039f"
             ],
             [
              0.2222222222222222,
              "#7201a8"
             ],
             [
              0.3333333333333333,
              "#9c179e"
             ],
             [
              0.4444444444444444,
              "#bd3786"
             ],
             [
              0.5555555555555556,
              "#d8576b"
             ],
             [
              0.6666666666666666,
              "#ed7953"
             ],
             [
              0.7777777777777778,
              "#fb9f3a"
             ],
             [
              0.8888888888888888,
              "#fdca26"
             ],
             [
              1.0,
              "#f0f921"
             ]
            ]
           }
          ],
          "surface": [
           {
            "type": "surface",
            "colorbar": {
             "outlinewidth": 0,
             "ticks": ""
            },
            "colorscale": [
             [
              0.0,
              "#0d0887"
             ],
             [
              0.1111111111111111,
              "#46039f"
             ],
             [
              0.2222222222222222,
              "#7201a8"
             ],
             [
              0.3333333333333333,
              "#9c179e"
             ],
             [
              0.4444444444444444,
              "#bd3786"
             ],
             [
              0.5555555555555556,
              "#d8576b"
             ],
             [
              0.6666666666666666,
              "#ed7953"
             ],
             [
              0.7777777777777778,
              "#fb9f3a"
             ],
             [
              0.8888888888888888,
              "#fdca26"
             ],
             [
              1.0,
              "#f0f921"
             ]
            ]
           }
          ],
          "mesh3d": [
           {
            "type": "mesh3d",
            "colorbar": {
             "outlinewidth": 0,
             "ticks": ""
            }
           }
          ],
          "scatter": [
           {
            "fillpattern": {
             "fillmode": "overlay",
             "size": 10,
             "solidity": 0.2
            },
            "type": "scatter"
           }
          ],
          "parcoords": [
           {
            "type": "parcoords",
            "line": {
             "colorbar": {
              "outlinewidth": 0,
              "ticks": ""
             }
            }
           }
          ],
          "scatterpolargl": [
           {
            "type": "scatterpolargl",
            "marker": {
             "colorbar": {
              "outlinewidth": 0,
              "ticks": ""
             }
            }
           }
          ],
          "bar": [
           {
            "error_x": {
             "color": "#2a3f5f"
            },
            "error_y": {
             "color": "#2a3f5f"
            },
            "marker": {
             "line": {
              "color": "#E5ECF6",
              "width": 0.5
             },
             "pattern": {
              "fillmode": "overlay",
              "size": 10,
              "solidity": 0.2
             }
            },
            "type": "bar"
           }
          ],
          "scattergeo": [
           {
            "type": "scattergeo",
            "marker": {
             "colorbar": {
              "outlinewidth": 0,
              "ticks": ""
             }
            }
           }
          ],
          "scatterpolar": [
           {
            "type": "scatterpolar",
            "marker": {
             "colorbar": {
              "outlinewidth": 0,
              "ticks": ""
             }
            }
           }
          ],
          "histogram": [
           {
            "marker": {
             "pattern": {
              "fillmode": "overlay",
              "size": 10,
              "solidity": 0.2
             }
            },
            "type": "histogram"
           }
          ],
          "scattergl": [
           {
            "type": "scattergl",
            "marker": {
             "colorbar": {
              "outlinewidth": 0,
              "ticks": ""
             }
            }
           }
          ],
          "scatter3d": [
           {
            "type": "scatter3d",
            "line": {
             "colorbar": {
              "outlinewidth": 0,
              "ticks": ""
             }
            },
            "marker": {
             "colorbar": {
              "outlinewidth": 0,
              "ticks": ""
             }
            }
           }
          ],
          "scattermapbox": [
           {
            "type": "scattermapbox",
            "marker": {
             "colorbar": {
              "outlinewidth": 0,
              "ticks": ""
             }
            }
           }
          ],
          "scatterternary": [
           {
            "type": "scatterternary",
            "marker": {
             "colorbar": {
              "outlinewidth": 0,
              "ticks": ""
             }
            }
           }
          ],
          "scattercarpet": [
           {
            "type": "scattercarpet",
            "marker": {
             "colorbar": {
              "outlinewidth": 0,
              "ticks": ""
             }
            }
           }
          ],
          "carpet": [
           {
            "aaxis": {
             "endlinecolor": "#2a3f5f",
             "gridcolor": "white",
             "linecolor": "white",
             "minorgridcolor": "white",
             "startlinecolor": "#2a3f5f"
            },
            "baxis": {
             "endlinecolor": "#2a3f5f",
             "gridcolor": "white",
             "linecolor": "white",
             "minorgridcolor": "white",
             "startlinecolor": "#2a3f5f"
            },
            "type": "carpet"
           }
          ],
          "table": [
           {
            "cells": {
             "fill": {
              "color": "#EBF0F8"
             },
             "line": {
              "color": "white"
             }
            },
            "header": {
             "fill": {
              "color": "#C8D4E3"
             },
             "line": {
              "color": "white"
             }
            },
            "type": "table"
           }
          ],
          "barpolar": [
           {
            "marker": {
             "line": {
              "color": "#E5ECF6",
              "width": 0.5
             },
             "pattern": {
              "fillmode": "overlay",
              "size": 10,
              "solidity": 0.2
             }
            },
            "type": "barpolar"
           }
          ],
          "pie": [
           {
            "automargin": true,
            "type": "pie"
           }
          ]
         },
         "layout": {
          "autotypenumbers": "strict",
          "colorway": [
           "#636efa",
           "#EF553B",
           "#00cc96",
           "#ab63fa",
           "#FFA15A",
           "#19d3f3",
           "#FF6692",
           "#B6E880",
           "#FF97FF",
           "#FECB52"
          ],
          "font": {
           "color": "#2a3f5f"
          },
          "hovermode": "closest",
          "hoverlabel": {
           "align": "left"
          },
          "paper_bgcolor": "white",
          "plot_bgcolor": "#E5ECF6",
          "polar": {
           "bgcolor": "#E5ECF6",
           "angularaxis": {
            "gridcolor": "white",
            "linecolor": "white",
            "ticks": ""
           },
           "radialaxis": {
            "gridcolor": "white",
            "linecolor": "white",
            "ticks": ""
           }
          },
          "ternary": {
           "bgcolor": "#E5ECF6",
           "aaxis": {
            "gridcolor": "white",
            "linecolor": "white",
            "ticks": ""
           },
           "baxis": {
            "gridcolor": "white",
            "linecolor": "white",
            "ticks": ""
           },
           "caxis": {
            "gridcolor": "white",
            "linecolor": "white",
            "ticks": ""
           }
          },
          "coloraxis": {
           "colorbar": {
            "outlinewidth": 0,
            "ticks": ""
           }
          },
          "colorscale": {
           "sequential": [
            [
             0.0,
             "#0d0887"
            ],
            [
             0.1111111111111111,
             "#46039f"
            ],
            [
             0.2222222222222222,
             "#7201a8"
            ],
            [
             0.3333333333333333,
             "#9c179e"
            ],
            [
             0.4444444444444444,
             "#bd3786"
            ],
            [
             0.5555555555555556,
             "#d8576b"
            ],
            [
             0.6666666666666666,
             "#ed7953"
            ],
            [
             0.7777777777777778,
             "#fb9f3a"
            ],
            [
             0.8888888888888888,
             "#fdca26"
            ],
            [
             1.0,
             "#f0f921"
            ]
           ],
           "sequentialminus": [
            [
             0.0,
             "#0d0887"
            ],
            [
             0.1111111111111111,
             "#46039f"
            ],
            [
             0.2222222222222222,
             "#7201a8"
            ],
            [
             0.3333333333333333,
             "#9c179e"
            ],
            [
             0.4444444444444444,
             "#bd3786"
            ],
            [
             0.5555555555555556,
             "#d8576b"
            ],
            [
             0.6666666666666666,
             "#ed7953"
            ],
            [
             0.7777777777777778,
             "#fb9f3a"
            ],
            [
             0.8888888888888888,
             "#fdca26"
            ],
            [
             1.0,
             "#f0f921"
            ]
           ],
           "diverging": [
            [
             0,
             "#8e0152"
            ],
            [
             0.1,
             "#c51b7d"
            ],
            [
             0.2,
             "#de77ae"
            ],
            [
             0.3,
             "#f1b6da"
            ],
            [
             0.4,
             "#fde0ef"
            ],
            [
             0.5,
             "#f7f7f7"
            ],
            [
             0.6,
             "#e6f5d0"
            ],
            [
             0.7,
             "#b8e186"
            ],
            [
             0.8,
             "#7fbc41"
            ],
            [
             0.9,
             "#4d9221"
            ],
            [
             1,
             "#276419"
            ]
           ]
          },
          "xaxis": {
           "gridcolor": "white",
           "linecolor": "white",
           "ticks": "",
           "title": {
            "standoff": 15
           },
           "zerolinecolor": "white",
           "automargin": true,
           "zerolinewidth": 2
          },
          "yaxis": {
           "gridcolor": "white",
           "linecolor": "white",
           "ticks": "",
           "title": {
            "standoff": 15
           },
           "zerolinecolor": "white",
           "automargin": true,
           "zerolinewidth": 2
          },
          "scene": {
           "xaxis": {
            "backgroundcolor": "#E5ECF6",
            "gridcolor": "white",
            "linecolor": "white",
            "showbackground": true,
            "ticks": "",
            "zerolinecolor": "white",
            "gridwidth": 2
           },
           "yaxis": {
            "backgroundcolor": "#E5ECF6",
            "gridcolor": "white",
            "linecolor": "white",
            "showbackground": true,
            "ticks": "",
            "zerolinecolor": "white",
            "gridwidth": 2
           },
           "zaxis": {
            "backgroundcolor": "#E5ECF6",
            "gridcolor": "white",
            "linecolor": "white",
            "showbackground": true,
            "ticks": "",
            "zerolinecolor": "white",
            "gridwidth": 2
           }
          },
          "shapedefaults": {
           "line": {
            "color": "#2a3f5f"
           }
          },
          "annotationdefaults": {
           "arrowcolor": "#2a3f5f",
           "arrowhead": 0,
           "arrowwidth": 1
          },
          "geo": {
           "bgcolor": "white",
           "landcolor": "#E5ECF6",
           "subunitcolor": "white",
           "showland": true,
           "showlakes": true,
           "lakecolor": "white"
          },
          "title": {
           "x": 0.05
          },
          "mapbox": {
           "style": "light"
          }
         }
        },
        "xaxis": {
         "anchor": "y",
         "domain": [
          0.0,
          1.0
         ],
         "title": {
          "text": "Month"
         }
        },
        "yaxis": {
         "anchor": "x",
         "domain": [
          0.0,
          1.0
         ],
         "title": {
          "text": "Max_Players_per_Day"
         }
        },
        "legend": {
         "title": {
          "text": "Name"
         },
         "tracegroupgap": 0
        },
        "margin": {
         "t": 60
        }
       },
       "config": {
        "plotlyServerURL": "https://plot.ly"
       }
      },
      "text/html": "<div>                            <div id=\"b36e6260-7009-4ec0-8c42-4d1abacebad6\" class=\"plotly-graph-div\" style=\"height:525px; width:100%;\"></div>            <script type=\"text/javascript\">                require([\"plotly\"], function(Plotly) {                    window.PLOTLYENV=window.PLOTLYENV || {};                                    if (document.getElementById(\"b36e6260-7009-4ec0-8c42-4d1abacebad6\")) {                    Plotly.newPlot(                        \"b36e6260-7009-4ec0-8c42-4d1abacebad6\",                        [{\"hovertemplate\":\"Name=v rising<br>Month=%{x}<br>Max_Players_per_Day=%{y}<extra></extra>\",\"legendgroup\":\"v rising\",\"line\":{\"color\":\"#636efa\",\"dash\":\"solid\"},\"marker\":{\"symbol\":\"circle\"},\"mode\":\"lines\",\"name\":\"v rising\",\"orientation\":\"v\",\"showlegend\":true,\"x\":[\"2022-06-30T00:00:00\",\"2022-05-30T00:00:00\"],\"xaxis\":\"x\",\"y\":[146500.0,152330.0],\"yaxis\":\"y\",\"type\":\"scatter\"},{\"hovertemplate\":\"Name=forza horizon 5<br>Month=%{x}<br>Max_Players_per_Day=%{y}<extra></extra>\",\"legendgroup\":\"forza horizon 5\",\"line\":{\"color\":\"#EF553B\",\"dash\":\"solid\"},\"marker\":{\"symbol\":\"circle\"},\"mode\":\"lines\",\"name\":\"forza horizon 5\",\"orientation\":\"v\",\"showlegend\":true,\"x\":[\"2022-06-30T00:00:00\",\"2022-05-30T00:00:00\",\"2022-04-30T00:00:00\",\"2022-03-30T00:00:00\",\"2022-02-20T00:00:00\",\"2022-01-30T00:00:00\",\"2021-12-30T00:00:00\"],\"xaxis\":\"x\",\"y\":[7095176.0,6795012.0,5906551.0,4364603.0,3647748.0,3422953.0,3151373.0],\"yaxis\":\"y\",\"type\":\"scatter\"},{\"hovertemplate\":\"Name=payday 2<br>Month=%{x}<br>Max_Players_per_Day=%{y}<extra></extra>\",\"legendgroup\":\"payday 2\",\"line\":{\"color\":\"#00cc96\",\"dash\":\"solid\"},\"marker\":{\"symbol\":\"circle\"},\"mode\":\"lines\",\"name\":\"payday 2\",\"orientation\":\"v\",\"showlegend\":true,\"x\":[\"2022-06-30T00:00:00\",\"2022-05-30T00:00:00\",\"2022-04-30T00:00:00\",\"2022-03-30T00:00:00\",\"2022-02-28T00:00:00\",\"2022-01-30T00:00:00\",\"2021-12-30T00:00:00\",\"2021-11-30T00:00:00\",\"2021-10-30T00:00:00\",\"2021-09-30T00:00:00\",\"2021-08-30T00:00:00\",\"2021-07-30T00:00:00\",\"2021-06-30T00:00:00\",\"2021-05-30T00:00:00\",\"2021-04-30T00:00:00\",\"2021-03-30T00:00:00\",\"2021-02-28T00:00:00\",\"2021-01-30T00:00:00\",\"2020-12-30T00:00:00\",\"2020-11-30T00:00:00\",\"2020-10-30T00:00:00\",\"2020-09-30T00:00:00\",\"2020-08-30T00:00:00\",\"2020-07-30T00:00:00\",\"2020-06-30T00:00:00\",\"2020-05-30T00:00:00\",\"2020-04-30T00:00:00\",\"2020-03-30T00:00:00\",\"2020-02-20T00:00:00\",\"2020-01-30T00:00:00\",\"2019-12-30T00:00:00\",\"2019-11-30T00:00:00\"],\"xaxis\":\"x\",\"y\":[1313353.0,1340872.0,1326139.0,1367154.0,1482088.0,1396046.0,1526290.0,1425921.0,1370949.0,1330891.0,1343807.0,1292000.0,1396500.0,1200325.0,1238356.0,1276007.0,1213344.0,1164934.0,1129986.0,1211997.0,1260596.0,1349327.0,1416794.0,1487633.0,1562015.0,1342589.0,1208725.0,1405869.0,1267405.0,1493495.0,1509407.0,1536473.0],\"yaxis\":\"y\",\"type\":\"scatter\"},{\"hovertemplate\":\"Name=elden ring<br>Month=%{x}<br>Max_Players_per_Day=%{y}<extra></extra>\",\"legendgroup\":\"elden ring\",\"line\":{\"color\":\"#ab63fa\",\"dash\":\"solid\"},\"marker\":{\"symbol\":\"circle\"},\"mode\":\"lines\",\"name\":\"elden ring\",\"orientation\":\"v\",\"showlegend\":true,\"x\":[\"2022-06-30T00:00:00\",\"2022-05-30T00:00:00\",\"2022-04-30T00:00:00\",\"2022-03-30T00:00:00\",\"2022-02-28T00:00:00\"],\"xaxis\":\"x\",\"y\":[904334.0,958510.0,960637.0,676956.0,584115.0],\"yaxis\":\"y\",\"type\":\"scatter\"},{\"hovertemplate\":\"Name=lost ark<br>Month=%{x}<br>Max_Players_per_Day=%{y}<extra></extra>\",\"legendgroup\":\"lost ark\",\"line\":{\"color\":\"#FFA15A\",\"dash\":\"solid\"},\"marker\":{\"symbol\":\"circle\"},\"mode\":\"lines\",\"name\":\"lost ark\",\"orientation\":\"v\",\"showlegend\":true,\"x\":[\"2022-06-30T00:00:00\",\"2022-05-30T00:00:00\",\"2022-04-30T00:00:00\",\"2022-03-30T00:00:00\",\"2022-02-28T00:00:00\",\"2022-01-30T00:00:00\",\"2021-12-30T00:00:00\",\"2021-11-30T00:00:00\",\"2021-10-30T00:00:00\",\"2021-09-30T00:00:00\",\"2021-08-30T00:00:00\",\"2021-07-30T00:00:00\",\"2021-06-30T00:00:00\",\"2021-05-30T00:00:00\",\"2021-04-30T00:00:00\",\"2021-03-30T00:00:00\",\"2021-02-28T00:00:00\",\"2021-01-30T00:00:00\",\"2020-12-30T00:00:00\",\"2020-11-30T00:00:00\",\"2020-10-30T00:00:00\",\"2020-09-30T00:00:00\",\"2020-08-30T00:00:00\",\"2020-07-30T00:00:00\",\"2020-06-30T00:00:00\",\"2020-05-30T00:00:00\",\"2020-04-30T00:00:00\",\"2020-03-30T00:00:00\",\"2020-02-20T00:00:00\",\"2020-01-30T00:00:00\"],\"xaxis\":\"x\",\"y\":[1440228.0,1460422.0,1301780.0,1501112.0,1403100.0,822732.0,811174.0,741660.0,920544.0,936312.0,769810.0,895962.0,906136.0,765054.0,911094.0,780936.0,824048.0,878106.0,746886.0,808262.0,894684.0,802182.0,833830.0,887386.0,830592.0,774758.0,887658.0,887388.0,859682.0,939448.0],\"yaxis\":\"y\",\"type\":\"scatter\"},{\"hovertemplate\":\"Name=splitgate<br>Month=%{x}<br>Max_Players_per_Day=%{y}<extra></extra>\",\"legendgroup\":\"splitgate\",\"line\":{\"color\":\"#19d3f3\",\"dash\":\"solid\"},\"marker\":{\"symbol\":\"circle\"},\"mode\":\"lines\",\"name\":\"splitgate\",\"orientation\":\"v\",\"showlegend\":true,\"x\":[\"2022-06-30T00:00:00\",\"2022-05-30T00:00:00\",\"2022-04-30T00:00:00\",\"2022-03-30T00:00:00\",\"2022-02-28T00:00:00\",\"2022-01-30T00:00:00\",\"2021-12-30T00:00:00\",\"2021-11-30T00:00:00\",\"2021-10-30T00:00:00\",\"2020-09-30T00:00:00\",\"2021-08-30T00:00:00\",\"2021-07-30T00:00:00\",\"2021-06-30T00:00:00\",\"2021-05-30T00:00:00\",\"2021-04-30T00:00:00\",\"2021-03-30T00:00:00\",\"2021-02-20T00:00:00\",\"2021-01-30T00:00:00\",\"2020-12-30T00:00:00\",\"2020-11-30T00:00:00\",\"2020-10-30T00:00:00\",\"2020-09-30T00:00:00\",\"2020-08-30T00:00:00\",\"2020-07-30T00:00:00\",\"2020-06-30T00:00:00\",\"2020-05-30T00:00:00\",\"2020-04-30T00:00:00\",\"2020-03-30T00:00:00\",\"2020-02-20T00:00:00\",\"2020-01-30T00:00:00\",\"2019-12-30T00:00:00\",\"2019-11-30T00:00:00\",\"2019-10-30T00:00:00\"],\"xaxis\":\"x\",\"y\":[87565.0,82501.0,77565.0,78014.0,79100.0,75598.0,76218.0,75877.0,77666.0,80068.0,79380.0,78394.0,77053.0,78081.0,77146.0,78430.0,79585.0,74501.0,76881.0,80223.0,75578.0,77195.0,76534.0,79322.0,80979.0,78404.0,77402.0,80757.0,79812.0,80571.0,80320.0,82390.0,87442.0],\"yaxis\":\"y\",\"type\":\"scatter\"},{\"hovertemplate\":\"Name=rust<br>Month=%{x}<br>Max_Players_per_Day=%{y}<extra></extra>\",\"legendgroup\":\"rust\",\"line\":{\"color\":\"#FF6692\",\"dash\":\"solid\"},\"marker\":{\"symbol\":\"circle\"},\"mode\":\"lines\",\"name\":\"rust\",\"orientation\":\"v\",\"showlegend\":true,\"x\":[\"2022-06-30T00:00:00\",\"2022-05-30T00:00:00\",\"2022-04-30T00:00:00\",\"2022-03-30T00:00:00\",\"2022-02-28T00:00:00\",\"2022-01-30T00:00:00\",\"2021-12-30T00:00:00\",\"2021-11-30T00:00:00\",\"2021-10-30T00:00:00\",\"2021-09-30T00:00:00\",\"2021-08-30T00:00:00\",\"2021-07-30T00:00:00\",\"2021-06-30T00:00:00\",\"2021-05-30T00:00:00\",\"2021-04-30T00:00:00\",\"2021-03-30T00:00:00\",\"2021-02-28T00:00:00\",\"2021-01-30T00:00:00\",\"2020-12-30T00:00:00\",\"2020-11-30T00:00:00\",\"2020-10-30T00:00:00\",\"2020-09-30T00:00:00\",\"2020-08-30T00:00:00\",\"2020-07-30T00:00:00\",\"2020-06-30T00:00:00\",\"2020-05-30T00:00:00\",\"2020-04-30T00:00:00\",\"2020-03-30T00:00:00\",\"2020-02-20T00:00:00\",\"2020-01-30T00:00:00\"],\"xaxis\":\"x\",\"y\":[731120.0,764337.0,766808.0,793681.0,781630.0,753551.0,763720.0,748506.0,817252.0,900513.0,793104.0,765617.0,745588.0,752046.0,726143.0,778393.0,680305.0,699321.0,718147.0,686815.0,662610.0,645136.0,686142.0,710441.0,754807.0,788540.0,823960.0,861151.0,751438.0,903491.0],\"yaxis\":\"y\",\"type\":\"scatter\"},{\"hovertemplate\":\"Name=yu gi oh master duel<br>Month=%{x}<br>Max_Players_per_Day=%{y}<extra></extra>\",\"legendgroup\":\"yu gi oh master duel\",\"line\":{\"color\":\"#B6E880\",\"dash\":\"solid\"},\"marker\":{\"symbol\":\"circle\"},\"mode\":\"lines\",\"name\":\"yu gi oh master duel\",\"orientation\":\"v\",\"showlegend\":true,\"x\":[\"2022-06-30T00:00:00\",\"2022-05-30T00:00:00\",\"2022-04-30T00:00:00\",\"2022-03-30T00:00:00\",\"2022-02-28T00:00:00\",\"2022-01-30T00:00:00\",\"2021-12-30T00:00:00\",\"2021-11-30T00:00:00\",\"2021-10-30T00:00:00\",\"2021-09-30T00:00:00\",\"2021-08-30T00:00:00\",\"2021-07-30T00:00:00\",\"2021-06-30T00:00:00\",\"2021-05-30T00:00:00\",\"2021-04-30T00:00:00\",\"2021-03-30T00:00:00\",\"2021-02-28T00:00:00\",\"2021-01-30T00:00:00\",\"2020-12-30T00:00:00\",\"2020-11-30T00:00:00\",\"2020-10-30T00:00:00\",\"2020-09-30T00:00:00\",\"2020-08-30T00:00:00\",\"2020-07-30T00:00:00\",\"2020-06-30T00:00:00\",\"2020-05-30T00:00:00\",\"2020-04-30T00:00:00\",\"2020-03-30T00:00:00\",\"2020-02-20T00:00:00\",\"2020-01-30T00:00:00\"],\"xaxis\":\"x\",\"y\":[1115345.0,1165407.0,1193349.0,1213527.0,1197339.0,1116749.0,1151287.0,1248074.0,1175618.0,1285297.0,1200776.0,1154483.0,1120750.0,1131627.0,1088000.0,1176000.0,1010800.0,1042826.0,1074533.0,1021763.0,980997.0,951567.0,1020629.0,1061555.0,1136276.0,1193089.0,1252744.0,1315381.0,1130601.0,1460299.0],\"yaxis\":\"y\",\"type\":\"scatter\"},{\"hovertemplate\":\"Name=monster hunter series<br>Month=%{x}<br>Max_Players_per_Day=%{y}<extra></extra>\",\"legendgroup\":\"monster hunter series\",\"line\":{\"color\":\"#FF97FF\",\"dash\":\"solid\"},\"marker\":{\"symbol\":\"circle\"},\"mode\":\"lines\",\"name\":\"monster hunter series\",\"orientation\":\"v\",\"showlegend\":true,\"x\":[\"2022-06-30T00:00:00\",\"2022-05-30T00:00:00\",\"2022-04-30T00:00:00\",\"2022-05-30T00:00:00\",\"2022-02-28T00:00:00\",\"2022-01-30T00:00:00\",\"2021-12-30T00:00:00\",\"2021-11-30T00:00:00\",\"2021-10-30T00:00:00\",\"2021-09-30T00:00:00\",\"2021-08-30T00:00:00\",\"2021-07-30T00:00:00\",\"2021-06-30T00:00:00\",\"2021-05-30T00:00:00\",\"2021-04-30T00:00:00\",\"2021-03-30T00:00:00\",\"2021-02-28T00:00:00\",\"2021-01-30T00:00:00\",\"2020-12-30T00:00:00\",\"2020-11-30T00:00:00\"],\"xaxis\":\"x\",\"y\":[129780.0,122619.0,113296.0,107360.0,100369.0,105059.0,100813.0,123732.0,121306.0,118928.0,110880.0,87205.0,119438.0,138017.0,228667.0,233333.0,262500.0,224000.0,297052.0,76491.0],\"yaxis\":\"y\",\"type\":\"scatter\"},{\"hovertemplate\":\"Name=team fortress 2 2<br>Month=%{x}<br>Max_Players_per_Day=%{y}<extra></extra>\",\"legendgroup\":\"team fortress 2 2\",\"line\":{\"color\":\"#FECB52\",\"dash\":\"solid\"},\"marker\":{\"symbol\":\"circle\"},\"mode\":\"lines\",\"name\":\"team fortress 2 2\",\"orientation\":\"v\",\"showlegend\":true,\"x\":[\"2022-06-30T00:00:00\",\"2022-05-30T00:00:00\",\"2022-04-30T00:00:00\",\"2022-03-30T00:00:00\",\"2022-02-28T00:00:00\",\"2022-01-30T00:00:00\",\"2021-12-30T00:00:00\",\"2021-11-30T00:00:00\",\"2021-10-30T00:00:00\",\"2021-09-30T00:00:00\",\"2021-08-30T00:00:00\",\"2021-07-30T00:00:00\",\"2021-06-30T00:00:00\",\"2021-05-30T00:00:00\",\"2021-04-30T00:00:00\",\"2021-03-30T00:00:00\",\"2021-02-28T00:00:00\",\"2021-01-30T00:00:00\",\"2020-12-30T00:00:00\",\"2020-11-30T00:00:00\",\"2020-10-30T00:00:00\",\"2020-09-30T00:00:00\",\"2020-08-30T00:00:00\",\"2020-07-30T00:00:00\",\"2020-06-30T00:00:00\",\"2020-05-30T00:00:00\",\"2020-04-30T00:00:00\",\"2020-03-30T00:00:00\",\"2020-02-28T00:00:00\",\"2020-01-30T00:00:00\",\"2020-12-30T00:00:00\",\"2019-11-30T00:00:00\",\"2019-10-30T00:00:00\",\"2019-09-30T00:00:00\",\"2019-08-30T00:00:00\",\"2019-07-30T00:00:00\",\"2019-06-30T00:00:00\",\"2019-05-30T00:00:00\",\"2019-04-30T00:00:00\",\"2019-03-30T00:00:00\",\"2019-02-28T00:00:00\",\"2019-01-30T00:00:00\"],\"xaxis\":\"x\",\"y\":[216774.0,200887.0,197338.0,203404.0,183685.0,182633.0,196110.0,195204.0,202308.0,190612.0,197002.0,109155.0,91114.0,102335.0,100127.0,95021.0,88665.0,86254.0,83539.0,70001.0,75791.0,71315.0,68734.0,71600.0,66772.0,68696.0,69101.0,70156.0,62652.0,62233.0,63386.0,52396.0,54632.0,50468.0,47295.0,51161.0,44787.0,41123.0,44865.0,47784.0,49818.0,52939.0],\"yaxis\":\"y\",\"type\":\"scatter\"}],                        {\"template\":{\"data\":{\"histogram2dcontour\":[{\"type\":\"histogram2dcontour\",\"colorbar\":{\"outlinewidth\":0,\"ticks\":\"\"},\"colorscale\":[[0.0,\"#0d0887\"],[0.1111111111111111,\"#46039f\"],[0.2222222222222222,\"#7201a8\"],[0.3333333333333333,\"#9c179e\"],[0.4444444444444444,\"#bd3786\"],[0.5555555555555556,\"#d8576b\"],[0.6666666666666666,\"#ed7953\"],[0.7777777777777778,\"#fb9f3a\"],[0.8888888888888888,\"#fdca26\"],[1.0,\"#f0f921\"]]}],\"choropleth\":[{\"type\":\"choropleth\",\"colorbar\":{\"outlinewidth\":0,\"ticks\":\"\"}}],\"histogram2d\":[{\"type\":\"histogram2d\",\"colorbar\":{\"outlinewidth\":0,\"ticks\":\"\"},\"colorscale\":[[0.0,\"#0d0887\"],[0.1111111111111111,\"#46039f\"],[0.2222222222222222,\"#7201a8\"],[0.3333333333333333,\"#9c179e\"],[0.4444444444444444,\"#bd3786\"],[0.5555555555555556,\"#d8576b\"],[0.6666666666666666,\"#ed7953\"],[0.7777777777777778,\"#fb9f3a\"],[0.8888888888888888,\"#fdca26\"],[1.0,\"#f0f921\"]]}],\"heatmap\":[{\"type\":\"heatmap\",\"colorbar\":{\"outlinewidth\":0,\"ticks\":\"\"},\"colorscale\":[[0.0,\"#0d0887\"],[0.1111111111111111,\"#46039f\"],[0.2222222222222222,\"#7201a8\"],[0.3333333333333333,\"#9c179e\"],[0.4444444444444444,\"#bd3786\"],[0.5555555555555556,\"#d8576b\"],[0.6666666666666666,\"#ed7953\"],[0.7777777777777778,\"#fb9f3a\"],[0.8888888888888888,\"#fdca26\"],[1.0,\"#f0f921\"]]}],\"heatmapgl\":[{\"type\":\"heatmapgl\",\"colorbar\":{\"outlinewidth\":0,\"ticks\":\"\"},\"colorscale\":[[0.0,\"#0d0887\"],[0.1111111111111111,\"#46039f\"],[0.2222222222222222,\"#7201a8\"],[0.3333333333333333,\"#9c179e\"],[0.4444444444444444,\"#bd3786\"],[0.5555555555555556,\"#d8576b\"],[0.6666666666666666,\"#ed7953\"],[0.7777777777777778,\"#fb9f3a\"],[0.8888888888888888,\"#fdca26\"],[1.0,\"#f0f921\"]]}],\"contourcarpet\":[{\"type\":\"contourcarpet\",\"colorbar\":{\"outlinewidth\":0,\"ticks\":\"\"}}],\"contour\":[{\"type\":\"contour\",\"colorbar\":{\"outlinewidth\":0,\"ticks\":\"\"},\"colorscale\":[[0.0,\"#0d0887\"],[0.1111111111111111,\"#46039f\"],[0.2222222222222222,\"#7201a8\"],[0.3333333333333333,\"#9c179e\"],[0.4444444444444444,\"#bd3786\"],[0.5555555555555556,\"#d8576b\"],[0.6666666666666666,\"#ed7953\"],[0.7777777777777778,\"#fb9f3a\"],[0.8888888888888888,\"#fdca26\"],[1.0,\"#f0f921\"]]}],\"surface\":[{\"type\":\"surface\",\"colorbar\":{\"outlinewidth\":0,\"ticks\":\"\"},\"colorscale\":[[0.0,\"#0d0887\"],[0.1111111111111111,\"#46039f\"],[0.2222222222222222,\"#7201a8\"],[0.3333333333333333,\"#9c179e\"],[0.4444444444444444,\"#bd3786\"],[0.5555555555555556,\"#d8576b\"],[0.6666666666666666,\"#ed7953\"],[0.7777777777777778,\"#fb9f3a\"],[0.8888888888888888,\"#fdca26\"],[1.0,\"#f0f921\"]]}],\"mesh3d\":[{\"type\":\"mesh3d\",\"colorbar\":{\"outlinewidth\":0,\"ticks\":\"\"}}],\"scatter\":[{\"fillpattern\":{\"fillmode\":\"overlay\",\"size\":10,\"solidity\":0.2},\"type\":\"scatter\"}],\"parcoords\":[{\"type\":\"parcoords\",\"line\":{\"colorbar\":{\"outlinewidth\":0,\"ticks\":\"\"}}}],\"scatterpolargl\":[{\"type\":\"scatterpolargl\",\"marker\":{\"colorbar\":{\"outlinewidth\":0,\"ticks\":\"\"}}}],\"bar\":[{\"error_x\":{\"color\":\"#2a3f5f\"},\"error_y\":{\"color\":\"#2a3f5f\"},\"marker\":{\"line\":{\"color\":\"#E5ECF6\",\"width\":0.5},\"pattern\":{\"fillmode\":\"overlay\",\"size\":10,\"solidity\":0.2}},\"type\":\"bar\"}],\"scattergeo\":[{\"type\":\"scattergeo\",\"marker\":{\"colorbar\":{\"outlinewidth\":0,\"ticks\":\"\"}}}],\"scatterpolar\":[{\"type\":\"scatterpolar\",\"marker\":{\"colorbar\":{\"outlinewidth\":0,\"ticks\":\"\"}}}],\"histogram\":[{\"marker\":{\"pattern\":{\"fillmode\":\"overlay\",\"size\":10,\"solidity\":0.2}},\"type\":\"histogram\"}],\"scattergl\":[{\"type\":\"scattergl\",\"marker\":{\"colorbar\":{\"outlinewidth\":0,\"ticks\":\"\"}}}],\"scatter3d\":[{\"type\":\"scatter3d\",\"line\":{\"colorbar\":{\"outlinewidth\":0,\"ticks\":\"\"}},\"marker\":{\"colorbar\":{\"outlinewidth\":0,\"ticks\":\"\"}}}],\"scattermapbox\":[{\"type\":\"scattermapbox\",\"marker\":{\"colorbar\":{\"outlinewidth\":0,\"ticks\":\"\"}}}],\"scatterternary\":[{\"type\":\"scatterternary\",\"marker\":{\"colorbar\":{\"outlinewidth\":0,\"ticks\":\"\"}}}],\"scattercarpet\":[{\"type\":\"scattercarpet\",\"marker\":{\"colorbar\":{\"outlinewidth\":0,\"ticks\":\"\"}}}],\"carpet\":[{\"aaxis\":{\"endlinecolor\":\"#2a3f5f\",\"gridcolor\":\"white\",\"linecolor\":\"white\",\"minorgridcolor\":\"white\",\"startlinecolor\":\"#2a3f5f\"},\"baxis\":{\"endlinecolor\":\"#2a3f5f\",\"gridcolor\":\"white\",\"linecolor\":\"white\",\"minorgridcolor\":\"white\",\"startlinecolor\":\"#2a3f5f\"},\"type\":\"carpet\"}],\"table\":[{\"cells\":{\"fill\":{\"color\":\"#EBF0F8\"},\"line\":{\"color\":\"white\"}},\"header\":{\"fill\":{\"color\":\"#C8D4E3\"},\"line\":{\"color\":\"white\"}},\"type\":\"table\"}],\"barpolar\":[{\"marker\":{\"line\":{\"color\":\"#E5ECF6\",\"width\":0.5},\"pattern\":{\"fillmode\":\"overlay\",\"size\":10,\"solidity\":0.2}},\"type\":\"barpolar\"}],\"pie\":[{\"automargin\":true,\"type\":\"pie\"}]},\"layout\":{\"autotypenumbers\":\"strict\",\"colorway\":[\"#636efa\",\"#EF553B\",\"#00cc96\",\"#ab63fa\",\"#FFA15A\",\"#19d3f3\",\"#FF6692\",\"#B6E880\",\"#FF97FF\",\"#FECB52\"],\"font\":{\"color\":\"#2a3f5f\"},\"hovermode\":\"closest\",\"hoverlabel\":{\"align\":\"left\"},\"paper_bgcolor\":\"white\",\"plot_bgcolor\":\"#E5ECF6\",\"polar\":{\"bgcolor\":\"#E5ECF6\",\"angularaxis\":{\"gridcolor\":\"white\",\"linecolor\":\"white\",\"ticks\":\"\"},\"radialaxis\":{\"gridcolor\":\"white\",\"linecolor\":\"white\",\"ticks\":\"\"}},\"ternary\":{\"bgcolor\":\"#E5ECF6\",\"aaxis\":{\"gridcolor\":\"white\",\"linecolor\":\"white\",\"ticks\":\"\"},\"baxis\":{\"gridcolor\":\"white\",\"linecolor\":\"white\",\"ticks\":\"\"},\"caxis\":{\"gridcolor\":\"white\",\"linecolor\":\"white\",\"ticks\":\"\"}},\"coloraxis\":{\"colorbar\":{\"outlinewidth\":0,\"ticks\":\"\"}},\"colorscale\":{\"sequential\":[[0.0,\"#0d0887\"],[0.1111111111111111,\"#46039f\"],[0.2222222222222222,\"#7201a8\"],[0.3333333333333333,\"#9c179e\"],[0.4444444444444444,\"#bd3786\"],[0.5555555555555556,\"#d8576b\"],[0.6666666666666666,\"#ed7953\"],[0.7777777777777778,\"#fb9f3a\"],[0.8888888888888888,\"#fdca26\"],[1.0,\"#f0f921\"]],\"sequentialminus\":[[0.0,\"#0d0887\"],[0.1111111111111111,\"#46039f\"],[0.2222222222222222,\"#7201a8\"],[0.3333333333333333,\"#9c179e\"],[0.4444444444444444,\"#bd3786\"],[0.5555555555555556,\"#d8576b\"],[0.6666666666666666,\"#ed7953\"],[0.7777777777777778,\"#fb9f3a\"],[0.8888888888888888,\"#fdca26\"],[1.0,\"#f0f921\"]],\"diverging\":[[0,\"#8e0152\"],[0.1,\"#c51b7d\"],[0.2,\"#de77ae\"],[0.3,\"#f1b6da\"],[0.4,\"#fde0ef\"],[0.5,\"#f7f7f7\"],[0.6,\"#e6f5d0\"],[0.7,\"#b8e186\"],[0.8,\"#7fbc41\"],[0.9,\"#4d9221\"],[1,\"#276419\"]]},\"xaxis\":{\"gridcolor\":\"white\",\"linecolor\":\"white\",\"ticks\":\"\",\"title\":{\"standoff\":15},\"zerolinecolor\":\"white\",\"automargin\":true,\"zerolinewidth\":2},\"yaxis\":{\"gridcolor\":\"white\",\"linecolor\":\"white\",\"ticks\":\"\",\"title\":{\"standoff\":15},\"zerolinecolor\":\"white\",\"automargin\":true,\"zerolinewidth\":2},\"scene\":{\"xaxis\":{\"backgroundcolor\":\"#E5ECF6\",\"gridcolor\":\"white\",\"linecolor\":\"white\",\"showbackground\":true,\"ticks\":\"\",\"zerolinecolor\":\"white\",\"gridwidth\":2},\"yaxis\":{\"backgroundcolor\":\"#E5ECF6\",\"gridcolor\":\"white\",\"linecolor\":\"white\",\"showbackground\":true,\"ticks\":\"\",\"zerolinecolor\":\"white\",\"gridwidth\":2},\"zaxis\":{\"backgroundcolor\":\"#E5ECF6\",\"gridcolor\":\"white\",\"linecolor\":\"white\",\"showbackground\":true,\"ticks\":\"\",\"zerolinecolor\":\"white\",\"gridwidth\":2}},\"shapedefaults\":{\"line\":{\"color\":\"#2a3f5f\"}},\"annotationdefaults\":{\"arrowcolor\":\"#2a3f5f\",\"arrowhead\":0,\"arrowwidth\":1},\"geo\":{\"bgcolor\":\"white\",\"landcolor\":\"#E5ECF6\",\"subunitcolor\":\"white\",\"showland\":true,\"showlakes\":true,\"lakecolor\":\"white\"},\"title\":{\"x\":0.05},\"mapbox\":{\"style\":\"light\"}}},\"xaxis\":{\"anchor\":\"y\",\"domain\":[0.0,1.0],\"title\":{\"text\":\"Month\"}},\"yaxis\":{\"anchor\":\"x\",\"domain\":[0.0,1.0],\"title\":{\"text\":\"Max_Players_per_Day\"}},\"legend\":{\"title\":{\"text\":\"Name\"},\"tracegroupgap\":0},\"margin\":{\"t\":60}},                        {\"responsive\": true}                    ).then(function(){\n                            \nvar gd = document.getElementById('b36e6260-7009-4ec0-8c42-4d1abacebad6');\nvar x = new MutationObserver(function (mutations, observer) {{\n        var display = window.getComputedStyle(gd).display;\n        if (!display || display === 'none') {{\n            console.log([gd, 'removed!']);\n            Plotly.purge(gd);\n            observer.disconnect();\n        }}\n}});\n\n// Listen for the removal of the full notebook cells\nvar notebookContainer = gd.closest('#notebook-container');\nif (notebookContainer) {{\n    x.observe(notebookContainer, {childList: true});\n}}\n\n// Listen for the clearing of the current output cell\nvar outputEl = gd.closest('.output');\nif (outputEl) {{\n    x.observe(outputEl, {childList: true});\n}}\n\n                        })                };                });            </script>        </div>"
     },
     "metadata": {},
     "output_type": "display_data"
    }
   ],
   "source": [
    "fig = px.line(game_player_count_df, x=\"Month\", y=\"Max_Players_per_Day\", color='Name')\n",
    "fig.show()"
   ],
   "metadata": {
    "collapsed": false,
    "pycharm": {
     "name": "#%%\n"
    }
   }
  },
  {
   "cell_type": "code",
   "execution_count": 227,
   "outputs": [
    {
     "data": {
      "application/vnd.plotly.v1+json": {
       "data": [
        {
         "hovertemplate": "Name=v rising<br>Month=%{x}<br>Monthly_Gain_Loss_percentage=%{y}<extra></extra>",
         "legendgroup": "v rising",
         "line": {
          "color": "#636efa",
          "dash": "solid"
         },
         "marker": {
          "symbol": "circle"
         },
         "mode": "lines",
         "name": "v rising",
         "orientation": "v",
         "showlegend": true,
         "x": [
          "2022-06-30T00:00:00",
          "2022-05-30T00:00:00"
         ],
         "xaxis": "x",
         "y": [
          -40.0,
          0.0
         ],
         "yaxis": "y",
         "type": "scatter"
        },
        {
         "hovertemplate": "Name=forza horizon 5<br>Month=%{x}<br>Monthly_Gain_Loss_percentage=%{y}<extra></extra>",
         "legendgroup": "forza horizon 5",
         "line": {
          "color": "#EF553B",
          "dash": "solid"
         },
         "marker": {
          "symbol": "circle"
         },
         "mode": "lines",
         "name": "forza horizon 5",
         "orientation": "v",
         "showlegend": true,
         "x": [
          "2022-06-30T00:00:00",
          "2022-05-30T00:00:00",
          "2022-04-30T00:00:00",
          "2022-03-30T00:00:00",
          "2022-02-20T00:00:00",
          "2022-01-30T00:00:00",
          "2021-12-30T00:00:00"
         ],
         "xaxis": "x",
         "y": [
          4.0,
          15.0,
          5.0,
          20.0,
          0.0,
          0.0,
          0.0
         ],
         "yaxis": "y",
         "type": "scatter"
        },
        {
         "hovertemplate": "Name=payday 2<br>Month=%{x}<br>Monthly_Gain_Loss_percentage=%{y}<extra></extra>",
         "legendgroup": "payday 2",
         "line": {
          "color": "#00cc96",
          "dash": "solid"
         },
         "marker": {
          "symbol": "circle"
         },
         "mode": "lines",
         "name": "payday 2",
         "orientation": "v",
         "showlegend": true,
         "x": [
          "2022-06-30T00:00:00",
          "2022-05-30T00:00:00",
          "2022-04-30T00:00:00",
          "2022-03-30T00:00:00",
          "2022-02-28T00:00:00",
          "2022-01-30T00:00:00",
          "2021-12-30T00:00:00",
          "2021-11-30T00:00:00",
          "2021-10-30T00:00:00",
          "2021-09-30T00:00:00",
          "2021-08-30T00:00:00",
          "2021-07-30T00:00:00",
          "2021-06-30T00:00:00",
          "2021-05-30T00:00:00",
          "2021-04-30T00:00:00",
          "2021-03-30T00:00:00",
          "2021-02-28T00:00:00",
          "2021-01-30T00:00:00",
          "2020-12-30T00:00:00",
          "2020-11-30T00:00:00",
          "2020-10-30T00:00:00",
          "2020-09-30T00:00:00",
          "2020-08-30T00:00:00",
          "2020-07-30T00:00:00",
          "2020-06-30T00:00:00",
          "2020-05-30T00:00:00",
          "2020-04-30T00:00:00",
          "2020-03-30T00:00:00",
          "2020-02-20T00:00:00",
          "2020-01-30T00:00:00",
          "2019-12-30T00:00:00",
          "2019-11-30T00:00:00"
         ],
         "xaxis": "x",
         "y": [
          -2.0,
          1.0,
          -3.0,
          -7.0,
          6.0,
          -8.0,
          7.0,
          4.0,
          3.0,
          0.0,
          4.0,
          -7.0,
          16.0,
          -3.0,
          -2.0,
          5.0,
          4.0,
          3.0,
          -6.0,
          -3.0,
          -6.0,
          -4.0,
          -4.0,
          -4.0,
          16.0,
          11.0,
          -14.0,
          10.0,
          -15.0,
          -1.0,
          -1.0,
          0.0
         ],
         "yaxis": "y",
         "type": "scatter"
        },
        {
         "hovertemplate": "Name=elden ring<br>Month=%{x}<br>Monthly_Gain_Loss_percentage=%{y}<extra></extra>",
         "legendgroup": "elden ring",
         "line": {
          "color": "#ab63fa",
          "dash": "solid"
         },
         "marker": {
          "symbol": "circle"
         },
         "mode": "lines",
         "name": "elden ring",
         "orientation": "v",
         "showlegend": true,
         "x": [
          "2022-06-30T00:00:00",
          "2022-05-30T00:00:00",
          "2022-04-30T00:00:00",
          "2022-03-30T00:00:00",
          "2022-02-28T00:00:00"
         ],
         "xaxis": "x",
         "y": [
          -6.0,
          0.0,
          10.0,
          16.0,
          0.0
         ],
         "yaxis": "y",
         "type": "scatter"
        },
        {
         "hovertemplate": "Name=lost ark<br>Month=%{x}<br>Monthly_Gain_Loss_percentage=%{y}<extra></extra>",
         "legendgroup": "lost ark",
         "line": {
          "color": "#FFA15A",
          "dash": "solid"
         },
         "marker": {
          "symbol": "circle"
         },
         "mode": "lines",
         "name": "lost ark",
         "orientation": "v",
         "showlegend": true,
         "x": [
          "2022-06-30T00:00:00",
          "2022-05-30T00:00:00",
          "2022-04-30T00:00:00",
          "2022-03-30T00:00:00",
          "2022-02-28T00:00:00",
          "2022-01-30T00:00:00",
          "2021-12-30T00:00:00",
          "2021-11-30T00:00:00",
          "2021-10-30T00:00:00",
          "2021-09-30T00:00:00",
          "2021-08-30T00:00:00",
          "2021-07-30T00:00:00",
          "2021-06-30T00:00:00",
          "2021-05-30T00:00:00",
          "2021-04-30T00:00:00",
          "2021-03-30T00:00:00",
          "2021-02-28T00:00:00",
          "2021-01-30T00:00:00",
          "2020-12-30T00:00:00",
          "2020-11-30T00:00:00",
          "2020-10-30T00:00:00",
          "2020-09-30T00:00:00",
          "2020-08-30T00:00:00",
          "2020-07-30T00:00:00",
          "2020-06-30T00:00:00",
          "2020-05-30T00:00:00",
          "2020-04-30T00:00:00",
          "2020-03-30T00:00:00",
          "2020-02-20T00:00:00",
          "2020-01-30T00:00:00"
         ],
         "xaxis": "x",
         "y": [
          -1.0,
          12.0,
          -13.0,
          7.0,
          71.0,
          1.0,
          9.0,
          -19.0,
          -2.0,
          22.0,
          -14.0,
          -1.0,
          18.0,
          -16.0,
          17.0,
          -5.0,
          -6.0,
          18.0,
          -8.0,
          -10.0,
          12.0,
          -4.0,
          -6.0,
          7.0,
          7.0,
          -13.0,
          0.0,
          3.0,
          -8.0,
          0.0
         ],
         "yaxis": "y",
         "type": "scatter"
        },
        {
         "hovertemplate": "Name=splitgate<br>Month=%{x}<br>Monthly_Gain_Loss_percentage=%{y}<extra></extra>",
         "legendgroup": "splitgate",
         "line": {
          "color": "#19d3f3",
          "dash": "solid"
         },
         "marker": {
          "symbol": "circle"
         },
         "mode": "lines",
         "name": "splitgate",
         "orientation": "v",
         "showlegend": true,
         "x": [
          "2022-06-30T00:00:00",
          "2022-05-30T00:00:00",
          "2022-04-30T00:00:00",
          "2022-03-30T00:00:00",
          "2022-02-28T00:00:00",
          "2022-01-30T00:00:00",
          "2021-12-30T00:00:00",
          "2021-11-30T00:00:00",
          "2021-10-30T00:00:00",
          "2020-09-30T00:00:00",
          "2021-08-30T00:00:00",
          "2021-07-30T00:00:00",
          "2021-06-30T00:00:00",
          "2021-05-30T00:00:00",
          "2021-04-30T00:00:00",
          "2021-03-30T00:00:00",
          "2021-02-20T00:00:00",
          "2021-01-30T00:00:00",
          "2020-12-30T00:00:00",
          "2020-11-30T00:00:00",
          "2020-10-30T00:00:00",
          "2020-09-30T00:00:00",
          "2020-08-30T00:00:00",
          "2020-07-30T00:00:00",
          "2020-06-30T00:00:00",
          "2020-05-30T00:00:00",
          "2020-04-30T00:00:00",
          "2020-03-30T00:00:00",
          "2020-02-20T00:00:00",
          "2020-01-30T00:00:00",
          "2019-12-30T00:00:00",
          "2019-11-30T00:00:00",
          "2019-10-30T00:00:00"
         ],
         "xaxis": "x",
         "y": [
          6.14,
          6.36,
          -0.58,
          -1.37,
          4.63,
          -0.81,
          0.45,
          -2.3,
          -3.0,
          0.87,
          1.26,
          1.74,
          -1.32,
          1.21,
          -1.64,
          -1.45,
          6.82,
          -3.1,
          -4.17,
          6.15,
          -2.1,
          0.86,
          -3.51,
          -2.05,
          3.28,
          1.29,
          -4.15,
          1.18,
          -0.94,
          0.31,
          -2.51,
          -5.78,
          0.0
         ],
         "yaxis": "y",
         "type": "scatter"
        },
        {
         "hovertemplate": "Name=rust<br>Month=%{x}<br>Monthly_Gain_Loss_percentage=%{y}<extra></extra>",
         "legendgroup": "rust",
         "line": {
          "color": "#FF6692",
          "dash": "solid"
         },
         "marker": {
          "symbol": "circle"
         },
         "mode": "lines",
         "name": "rust",
         "orientation": "v",
         "showlegend": true,
         "x": [
          "2022-06-30T00:00:00",
          "2022-05-30T00:00:00",
          "2022-04-30T00:00:00",
          "2022-03-30T00:00:00",
          "2022-02-28T00:00:00",
          "2022-01-30T00:00:00",
          "2021-12-30T00:00:00",
          "2021-11-30T00:00:00",
          "2021-10-30T00:00:00",
          "2021-09-30T00:00:00",
          "2021-08-30T00:00:00",
          "2021-07-30T00:00:00",
          "2021-06-30T00:00:00",
          "2021-05-30T00:00:00",
          "2021-04-30T00:00:00",
          "2021-03-30T00:00:00",
          "2021-02-28T00:00:00",
          "2021-01-30T00:00:00",
          "2020-12-30T00:00:00",
          "2020-11-30T00:00:00",
          "2020-10-30T00:00:00",
          "2020-09-30T00:00:00",
          "2020-08-30T00:00:00",
          "2020-07-30T00:00:00",
          "2020-06-30T00:00:00",
          "2020-05-30T00:00:00",
          "2020-04-30T00:00:00",
          "2020-03-30T00:00:00",
          "2020-02-20T00:00:00",
          "2020-01-30T00:00:00"
         ],
         "xaxis": "x",
         "y": [
          -4.35,
          -0.32,
          -3.39,
          1.54,
          3.73,
          -1.33,
          2.03,
          -8.41,
          -9.25,
          13.54,
          3.59,
          2.69,
          -0.86,
          3.57,
          -6.71,
          14.42,
          -2.72,
          -2.62,
          4.56,
          3.65,
          2.71,
          -5.98,
          -3.42,
          -5.88,
          -4.28,
          -4.3,
          -4.32,
          14.6,
          -16.83,
          0.0
         ],
         "yaxis": "y",
         "type": "scatter"
        },
        {
         "hovertemplate": "Name=yu gi oh master duel<br>Month=%{x}<br>Monthly_Gain_Loss_percentage=%{y}<extra></extra>",
         "legendgroup": "yu gi oh master duel",
         "line": {
          "color": "#B6E880",
          "dash": "solid"
         },
         "marker": {
          "symbol": "circle"
         },
         "mode": "lines",
         "name": "yu gi oh master duel",
         "orientation": "v",
         "showlegend": true,
         "x": [
          "2022-06-30T00:00:00",
          "2022-05-30T00:00:00",
          "2022-04-30T00:00:00",
          "2022-03-30T00:00:00",
          "2022-02-28T00:00:00",
          "2022-01-30T00:00:00",
          "2021-12-30T00:00:00",
          "2021-11-30T00:00:00",
          "2021-10-30T00:00:00",
          "2021-09-30T00:00:00",
          "2021-08-30T00:00:00",
          "2021-07-30T00:00:00",
          "2021-06-30T00:00:00",
          "2021-05-30T00:00:00",
          "2021-04-30T00:00:00",
          "2021-03-30T00:00:00",
          "2021-02-28T00:00:00",
          "2021-01-30T00:00:00",
          "2020-12-30T00:00:00",
          "2020-11-30T00:00:00",
          "2020-10-30T00:00:00",
          "2020-09-30T00:00:00",
          "2020-08-30T00:00:00",
          "2020-07-30T00:00:00",
          "2020-06-30T00:00:00",
          "2020-05-30T00:00:00",
          "2020-04-30T00:00:00",
          "2020-03-30T00:00:00",
          "2020-02-20T00:00:00",
          "2020-01-30T00:00:00"
         ],
         "xaxis": "x",
         "y": [
          -4.0,
          -2.0,
          -2.0,
          1.0,
          7.0,
          -3.0,
          -8.0,
          6.0,
          -9.0,
          7.0,
          4.0,
          3.0,
          -1.0,
          4.0,
          -7.0,
          16.0,
          -3.0,
          -3.0,
          5.0,
          4.0,
          3.0,
          -7.0,
          -4.0,
          -7.0,
          -5.0,
          -5.0,
          -5.0,
          16.0,
          -23.0,
          0.0
         ],
         "yaxis": "y",
         "type": "scatter"
        },
        {
         "hovertemplate": "Name=monster hunter series<br>Month=%{x}<br>Monthly_Gain_Loss_percentage=%{y}<extra></extra>",
         "legendgroup": "monster hunter series",
         "line": {
          "color": "#FF97FF",
          "dash": "solid"
         },
         "marker": {
          "symbol": "circle"
         },
         "mode": "lines",
         "name": "monster hunter series",
         "orientation": "v",
         "showlegend": true,
         "x": [
          "2022-06-30T00:00:00",
          "2022-05-30T00:00:00",
          "2022-04-30T00:00:00",
          "2022-05-30T00:00:00",
          "2022-02-28T00:00:00",
          "2022-01-30T00:00:00",
          "2021-12-30T00:00:00",
          "2021-11-30T00:00:00",
          "2021-10-30T00:00:00",
          "2021-09-30T00:00:00",
          "2021-08-30T00:00:00",
          "2021-07-30T00:00:00",
          "2021-06-30T00:00:00",
          "2021-05-30T00:00:00",
          "2021-04-30T00:00:00",
          "2021-03-30T00:00:00",
          "2021-02-28T00:00:00",
          "2021-01-30T00:00:00",
          "2020-12-30T00:00:00",
          "2020-11-30T00:00:00"
         ],
         "xaxis": "x",
         "y": [
          6.0,
          8.0,
          6.0,
          7.0,
          -4.0,
          4.0,
          -19.0,
          2.0,
          2.0,
          7.0,
          27.0,
          -27.0,
          -13.0,
          -40.0,
          -2.0,
          -11.0,
          17.0,
          -25.0,
          288.0,
          0.0
         ],
         "yaxis": "y",
         "type": "scatter"
        },
        {
         "hovertemplate": "Name=team fortress 2 2<br>Month=%{x}<br>Monthly_Gain_Loss_percentage=%{y}<extra></extra>",
         "legendgroup": "team fortress 2 2",
         "line": {
          "color": "#FECB52",
          "dash": "solid"
         },
         "marker": {
          "symbol": "circle"
         },
         "mode": "lines",
         "name": "team fortress 2 2",
         "orientation": "v",
         "showlegend": true,
         "x": [
          "2022-06-30T00:00:00",
          "2022-05-30T00:00:00",
          "2022-04-30T00:00:00",
          "2022-03-30T00:00:00",
          "2022-02-28T00:00:00",
          "2022-01-30T00:00:00",
          "2021-12-30T00:00:00",
          "2021-11-30T00:00:00",
          "2021-10-30T00:00:00",
          "2021-09-30T00:00:00",
          "2021-08-30T00:00:00",
          "2021-07-30T00:00:00",
          "2021-06-30T00:00:00",
          "2021-05-30T00:00:00",
          "2021-04-30T00:00:00",
          "2021-03-30T00:00:00",
          "2021-02-28T00:00:00",
          "2021-01-30T00:00:00",
          "2020-12-30T00:00:00",
          "2020-11-30T00:00:00",
          "2020-10-30T00:00:00",
          "2020-09-30T00:00:00",
          "2020-08-30T00:00:00",
          "2020-07-30T00:00:00",
          "2020-06-30T00:00:00",
          "2020-05-30T00:00:00",
          "2020-04-30T00:00:00",
          "2020-03-30T00:00:00",
          "2020-02-28T00:00:00",
          "2020-01-30T00:00:00",
          "2020-12-30T00:00:00",
          "2019-11-30T00:00:00",
          "2019-10-30T00:00:00",
          "2019-09-30T00:00:00",
          "2019-08-30T00:00:00",
          "2019-07-30T00:00:00",
          "2019-06-30T00:00:00",
          "2019-05-30T00:00:00",
          "2019-04-30T00:00:00",
          "2019-03-30T00:00:00",
          "2019-02-28T00:00:00",
          "2019-01-30T00:00:00"
         ],
         "xaxis": "x",
         "y": [
          7.91,
          1.8,
          -2.98,
          10.73,
          0.58,
          -6.87,
          0.46,
          -3.51,
          6.14,
          -3.24,
          80.48,
          19.8,
          -10.96,
          2.21,
          5.37,
          7.17,
          2.8,
          3.25,
          19.34,
          -7.64,
          6.28,
          3.76,
          -4.0,
          7.23,
          -2.8,
          -0.59,
          -1.5,
          11.98,
          0.67,
          -1.82,
          20.97,
          -4.09,
          8.25,
          6.71,
          -7.56,
          14.23,
          8.91,
          -8.34,
          -6.11,
          -4.08,
          -5.9,
          0.0
         ],
         "yaxis": "y",
         "type": "scatter"
        }
       ],
       "layout": {
        "template": {
         "data": {
          "histogram2dcontour": [
           {
            "type": "histogram2dcontour",
            "colorbar": {
             "outlinewidth": 0,
             "ticks": ""
            },
            "colorscale": [
             [
              0.0,
              "#0d0887"
             ],
             [
              0.1111111111111111,
              "#46039f"
             ],
             [
              0.2222222222222222,
              "#7201a8"
             ],
             [
              0.3333333333333333,
              "#9c179e"
             ],
             [
              0.4444444444444444,
              "#bd3786"
             ],
             [
              0.5555555555555556,
              "#d8576b"
             ],
             [
              0.6666666666666666,
              "#ed7953"
             ],
             [
              0.7777777777777778,
              "#fb9f3a"
             ],
             [
              0.8888888888888888,
              "#fdca26"
             ],
             [
              1.0,
              "#f0f921"
             ]
            ]
           }
          ],
          "choropleth": [
           {
            "type": "choropleth",
            "colorbar": {
             "outlinewidth": 0,
             "ticks": ""
            }
           }
          ],
          "histogram2d": [
           {
            "type": "histogram2d",
            "colorbar": {
             "outlinewidth": 0,
             "ticks": ""
            },
            "colorscale": [
             [
              0.0,
              "#0d0887"
             ],
             [
              0.1111111111111111,
              "#46039f"
             ],
             [
              0.2222222222222222,
              "#7201a8"
             ],
             [
              0.3333333333333333,
              "#9c179e"
             ],
             [
              0.4444444444444444,
              "#bd3786"
             ],
             [
              0.5555555555555556,
              "#d8576b"
             ],
             [
              0.6666666666666666,
              "#ed7953"
             ],
             [
              0.7777777777777778,
              "#fb9f3a"
             ],
             [
              0.8888888888888888,
              "#fdca26"
             ],
             [
              1.0,
              "#f0f921"
             ]
            ]
           }
          ],
          "heatmap": [
           {
            "type": "heatmap",
            "colorbar": {
             "outlinewidth": 0,
             "ticks": ""
            },
            "colorscale": [
             [
              0.0,
              "#0d0887"
             ],
             [
              0.1111111111111111,
              "#46039f"
             ],
             [
              0.2222222222222222,
              "#7201a8"
             ],
             [
              0.3333333333333333,
              "#9c179e"
             ],
             [
              0.4444444444444444,
              "#bd3786"
             ],
             [
              0.5555555555555556,
              "#d8576b"
             ],
             [
              0.6666666666666666,
              "#ed7953"
             ],
             [
              0.7777777777777778,
              "#fb9f3a"
             ],
             [
              0.8888888888888888,
              "#fdca26"
             ],
             [
              1.0,
              "#f0f921"
             ]
            ]
           }
          ],
          "heatmapgl": [
           {
            "type": "heatmapgl",
            "colorbar": {
             "outlinewidth": 0,
             "ticks": ""
            },
            "colorscale": [
             [
              0.0,
              "#0d0887"
             ],
             [
              0.1111111111111111,
              "#46039f"
             ],
             [
              0.2222222222222222,
              "#7201a8"
             ],
             [
              0.3333333333333333,
              "#9c179e"
             ],
             [
              0.4444444444444444,
              "#bd3786"
             ],
             [
              0.5555555555555556,
              "#d8576b"
             ],
             [
              0.6666666666666666,
              "#ed7953"
             ],
             [
              0.7777777777777778,
              "#fb9f3a"
             ],
             [
              0.8888888888888888,
              "#fdca26"
             ],
             [
              1.0,
              "#f0f921"
             ]
            ]
           }
          ],
          "contourcarpet": [
           {
            "type": "contourcarpet",
            "colorbar": {
             "outlinewidth": 0,
             "ticks": ""
            }
           }
          ],
          "contour": [
           {
            "type": "contour",
            "colorbar": {
             "outlinewidth": 0,
             "ticks": ""
            },
            "colorscale": [
             [
              0.0,
              "#0d0887"
             ],
             [
              0.1111111111111111,
              "#46039f"
             ],
             [
              0.2222222222222222,
              "#7201a8"
             ],
             [
              0.3333333333333333,
              "#9c179e"
             ],
             [
              0.4444444444444444,
              "#bd3786"
             ],
             [
              0.5555555555555556,
              "#d8576b"
             ],
             [
              0.6666666666666666,
              "#ed7953"
             ],
             [
              0.7777777777777778,
              "#fb9f3a"
             ],
             [
              0.8888888888888888,
              "#fdca26"
             ],
             [
              1.0,
              "#f0f921"
             ]
            ]
           }
          ],
          "surface": [
           {
            "type": "surface",
            "colorbar": {
             "outlinewidth": 0,
             "ticks": ""
            },
            "colorscale": [
             [
              0.0,
              "#0d0887"
             ],
             [
              0.1111111111111111,
              "#46039f"
             ],
             [
              0.2222222222222222,
              "#7201a8"
             ],
             [
              0.3333333333333333,
              "#9c179e"
             ],
             [
              0.4444444444444444,
              "#bd3786"
             ],
             [
              0.5555555555555556,
              "#d8576b"
             ],
             [
              0.6666666666666666,
              "#ed7953"
             ],
             [
              0.7777777777777778,
              "#fb9f3a"
             ],
             [
              0.8888888888888888,
              "#fdca26"
             ],
             [
              1.0,
              "#f0f921"
             ]
            ]
           }
          ],
          "mesh3d": [
           {
            "type": "mesh3d",
            "colorbar": {
             "outlinewidth": 0,
             "ticks": ""
            }
           }
          ],
          "scatter": [
           {
            "fillpattern": {
             "fillmode": "overlay",
             "size": 10,
             "solidity": 0.2
            },
            "type": "scatter"
           }
          ],
          "parcoords": [
           {
            "type": "parcoords",
            "line": {
             "colorbar": {
              "outlinewidth": 0,
              "ticks": ""
             }
            }
           }
          ],
          "scatterpolargl": [
           {
            "type": "scatterpolargl",
            "marker": {
             "colorbar": {
              "outlinewidth": 0,
              "ticks": ""
             }
            }
           }
          ],
          "bar": [
           {
            "error_x": {
             "color": "#2a3f5f"
            },
            "error_y": {
             "color": "#2a3f5f"
            },
            "marker": {
             "line": {
              "color": "#E5ECF6",
              "width": 0.5
             },
             "pattern": {
              "fillmode": "overlay",
              "size": 10,
              "solidity": 0.2
             }
            },
            "type": "bar"
           }
          ],
          "scattergeo": [
           {
            "type": "scattergeo",
            "marker": {
             "colorbar": {
              "outlinewidth": 0,
              "ticks": ""
             }
            }
           }
          ],
          "scatterpolar": [
           {
            "type": "scatterpolar",
            "marker": {
             "colorbar": {
              "outlinewidth": 0,
              "ticks": ""
             }
            }
           }
          ],
          "histogram": [
           {
            "marker": {
             "pattern": {
              "fillmode": "overlay",
              "size": 10,
              "solidity": 0.2
             }
            },
            "type": "histogram"
           }
          ],
          "scattergl": [
           {
            "type": "scattergl",
            "marker": {
             "colorbar": {
              "outlinewidth": 0,
              "ticks": ""
             }
            }
           }
          ],
          "scatter3d": [
           {
            "type": "scatter3d",
            "line": {
             "colorbar": {
              "outlinewidth": 0,
              "ticks": ""
             }
            },
            "marker": {
             "colorbar": {
              "outlinewidth": 0,
              "ticks": ""
             }
            }
           }
          ],
          "scattermapbox": [
           {
            "type": "scattermapbox",
            "marker": {
             "colorbar": {
              "outlinewidth": 0,
              "ticks": ""
             }
            }
           }
          ],
          "scatterternary": [
           {
            "type": "scatterternary",
            "marker": {
             "colorbar": {
              "outlinewidth": 0,
              "ticks": ""
             }
            }
           }
          ],
          "scattercarpet": [
           {
            "type": "scattercarpet",
            "marker": {
             "colorbar": {
              "outlinewidth": 0,
              "ticks": ""
             }
            }
           }
          ],
          "carpet": [
           {
            "aaxis": {
             "endlinecolor": "#2a3f5f",
             "gridcolor": "white",
             "linecolor": "white",
             "minorgridcolor": "white",
             "startlinecolor": "#2a3f5f"
            },
            "baxis": {
             "endlinecolor": "#2a3f5f",
             "gridcolor": "white",
             "linecolor": "white",
             "minorgridcolor": "white",
             "startlinecolor": "#2a3f5f"
            },
            "type": "carpet"
           }
          ],
          "table": [
           {
            "cells": {
             "fill": {
              "color": "#EBF0F8"
             },
             "line": {
              "color": "white"
             }
            },
            "header": {
             "fill": {
              "color": "#C8D4E3"
             },
             "line": {
              "color": "white"
             }
            },
            "type": "table"
           }
          ],
          "barpolar": [
           {
            "marker": {
             "line": {
              "color": "#E5ECF6",
              "width": 0.5
             },
             "pattern": {
              "fillmode": "overlay",
              "size": 10,
              "solidity": 0.2
             }
            },
            "type": "barpolar"
           }
          ],
          "pie": [
           {
            "automargin": true,
            "type": "pie"
           }
          ]
         },
         "layout": {
          "autotypenumbers": "strict",
          "colorway": [
           "#636efa",
           "#EF553B",
           "#00cc96",
           "#ab63fa",
           "#FFA15A",
           "#19d3f3",
           "#FF6692",
           "#B6E880",
           "#FF97FF",
           "#FECB52"
          ],
          "font": {
           "color": "#2a3f5f"
          },
          "hovermode": "closest",
          "hoverlabel": {
           "align": "left"
          },
          "paper_bgcolor": "white",
          "plot_bgcolor": "#E5ECF6",
          "polar": {
           "bgcolor": "#E5ECF6",
           "angularaxis": {
            "gridcolor": "white",
            "linecolor": "white",
            "ticks": ""
           },
           "radialaxis": {
            "gridcolor": "white",
            "linecolor": "white",
            "ticks": ""
           }
          },
          "ternary": {
           "bgcolor": "#E5ECF6",
           "aaxis": {
            "gridcolor": "white",
            "linecolor": "white",
            "ticks": ""
           },
           "baxis": {
            "gridcolor": "white",
            "linecolor": "white",
            "ticks": ""
           },
           "caxis": {
            "gridcolor": "white",
            "linecolor": "white",
            "ticks": ""
           }
          },
          "coloraxis": {
           "colorbar": {
            "outlinewidth": 0,
            "ticks": ""
           }
          },
          "colorscale": {
           "sequential": [
            [
             0.0,
             "#0d0887"
            ],
            [
             0.1111111111111111,
             "#46039f"
            ],
            [
             0.2222222222222222,
             "#7201a8"
            ],
            [
             0.3333333333333333,
             "#9c179e"
            ],
            [
             0.4444444444444444,
             "#bd3786"
            ],
            [
             0.5555555555555556,
             "#d8576b"
            ],
            [
             0.6666666666666666,
             "#ed7953"
            ],
            [
             0.7777777777777778,
             "#fb9f3a"
            ],
            [
             0.8888888888888888,
             "#fdca26"
            ],
            [
             1.0,
             "#f0f921"
            ]
           ],
           "sequentialminus": [
            [
             0.0,
             "#0d0887"
            ],
            [
             0.1111111111111111,
             "#46039f"
            ],
            [
             0.2222222222222222,
             "#7201a8"
            ],
            [
             0.3333333333333333,
             "#9c179e"
            ],
            [
             0.4444444444444444,
             "#bd3786"
            ],
            [
             0.5555555555555556,
             "#d8576b"
            ],
            [
             0.6666666666666666,
             "#ed7953"
            ],
            [
             0.7777777777777778,
             "#fb9f3a"
            ],
            [
             0.8888888888888888,
             "#fdca26"
            ],
            [
             1.0,
             "#f0f921"
            ]
           ],
           "diverging": [
            [
             0,
             "#8e0152"
            ],
            [
             0.1,
             "#c51b7d"
            ],
            [
             0.2,
             "#de77ae"
            ],
            [
             0.3,
             "#f1b6da"
            ],
            [
             0.4,
             "#fde0ef"
            ],
            [
             0.5,
             "#f7f7f7"
            ],
            [
             0.6,
             "#e6f5d0"
            ],
            [
             0.7,
             "#b8e186"
            ],
            [
             0.8,
             "#7fbc41"
            ],
            [
             0.9,
             "#4d9221"
            ],
            [
             1,
             "#276419"
            ]
           ]
          },
          "xaxis": {
           "gridcolor": "white",
           "linecolor": "white",
           "ticks": "",
           "title": {
            "standoff": 15
           },
           "zerolinecolor": "white",
           "automargin": true,
           "zerolinewidth": 2
          },
          "yaxis": {
           "gridcolor": "white",
           "linecolor": "white",
           "ticks": "",
           "title": {
            "standoff": 15
           },
           "zerolinecolor": "white",
           "automargin": true,
           "zerolinewidth": 2
          },
          "scene": {
           "xaxis": {
            "backgroundcolor": "#E5ECF6",
            "gridcolor": "white",
            "linecolor": "white",
            "showbackground": true,
            "ticks": "",
            "zerolinecolor": "white",
            "gridwidth": 2
           },
           "yaxis": {
            "backgroundcolor": "#E5ECF6",
            "gridcolor": "white",
            "linecolor": "white",
            "showbackground": true,
            "ticks": "",
            "zerolinecolor": "white",
            "gridwidth": 2
           },
           "zaxis": {
            "backgroundcolor": "#E5ECF6",
            "gridcolor": "white",
            "linecolor": "white",
            "showbackground": true,
            "ticks": "",
            "zerolinecolor": "white",
            "gridwidth": 2
           }
          },
          "shapedefaults": {
           "line": {
            "color": "#2a3f5f"
           }
          },
          "annotationdefaults": {
           "arrowcolor": "#2a3f5f",
           "arrowhead": 0,
           "arrowwidth": 1
          },
          "geo": {
           "bgcolor": "white",
           "landcolor": "#E5ECF6",
           "subunitcolor": "white",
           "showland": true,
           "showlakes": true,
           "lakecolor": "white"
          },
          "title": {
           "x": 0.05
          },
          "mapbox": {
           "style": "light"
          }
         }
        },
        "xaxis": {
         "anchor": "y",
         "domain": [
          0.0,
          1.0
         ],
         "title": {
          "text": "Month"
         }
        },
        "yaxis": {
         "anchor": "x",
         "domain": [
          0.0,
          1.0
         ],
         "title": {
          "text": "Monthly_Gain_Loss_percentage"
         }
        },
        "legend": {
         "title": {
          "text": "Name"
         },
         "tracegroupgap": 0
        },
        "margin": {
         "t": 60
        }
       },
       "config": {
        "plotlyServerURL": "https://plot.ly"
       }
      },
      "text/html": "<div>                            <div id=\"1a2ded72-9994-4f2d-a8ee-9c8791f49d97\" class=\"plotly-graph-div\" style=\"height:525px; width:100%;\"></div>            <script type=\"text/javascript\">                require([\"plotly\"], function(Plotly) {                    window.PLOTLYENV=window.PLOTLYENV || {};                                    if (document.getElementById(\"1a2ded72-9994-4f2d-a8ee-9c8791f49d97\")) {                    Plotly.newPlot(                        \"1a2ded72-9994-4f2d-a8ee-9c8791f49d97\",                        [{\"hovertemplate\":\"Name=v rising<br>Month=%{x}<br>Monthly_Gain_Loss_percentage=%{y}<extra></extra>\",\"legendgroup\":\"v rising\",\"line\":{\"color\":\"#636efa\",\"dash\":\"solid\"},\"marker\":{\"symbol\":\"circle\"},\"mode\":\"lines\",\"name\":\"v rising\",\"orientation\":\"v\",\"showlegend\":true,\"x\":[\"2022-06-30T00:00:00\",\"2022-05-30T00:00:00\"],\"xaxis\":\"x\",\"y\":[-40.0,0.0],\"yaxis\":\"y\",\"type\":\"scatter\"},{\"hovertemplate\":\"Name=forza horizon 5<br>Month=%{x}<br>Monthly_Gain_Loss_percentage=%{y}<extra></extra>\",\"legendgroup\":\"forza horizon 5\",\"line\":{\"color\":\"#EF553B\",\"dash\":\"solid\"},\"marker\":{\"symbol\":\"circle\"},\"mode\":\"lines\",\"name\":\"forza horizon 5\",\"orientation\":\"v\",\"showlegend\":true,\"x\":[\"2022-06-30T00:00:00\",\"2022-05-30T00:00:00\",\"2022-04-30T00:00:00\",\"2022-03-30T00:00:00\",\"2022-02-20T00:00:00\",\"2022-01-30T00:00:00\",\"2021-12-30T00:00:00\"],\"xaxis\":\"x\",\"y\":[4.0,15.0,5.0,20.0,0.0,0.0,0.0],\"yaxis\":\"y\",\"type\":\"scatter\"},{\"hovertemplate\":\"Name=payday 2<br>Month=%{x}<br>Monthly_Gain_Loss_percentage=%{y}<extra></extra>\",\"legendgroup\":\"payday 2\",\"line\":{\"color\":\"#00cc96\",\"dash\":\"solid\"},\"marker\":{\"symbol\":\"circle\"},\"mode\":\"lines\",\"name\":\"payday 2\",\"orientation\":\"v\",\"showlegend\":true,\"x\":[\"2022-06-30T00:00:00\",\"2022-05-30T00:00:00\",\"2022-04-30T00:00:00\",\"2022-03-30T00:00:00\",\"2022-02-28T00:00:00\",\"2022-01-30T00:00:00\",\"2021-12-30T00:00:00\",\"2021-11-30T00:00:00\",\"2021-10-30T00:00:00\",\"2021-09-30T00:00:00\",\"2021-08-30T00:00:00\",\"2021-07-30T00:00:00\",\"2021-06-30T00:00:00\",\"2021-05-30T00:00:00\",\"2021-04-30T00:00:00\",\"2021-03-30T00:00:00\",\"2021-02-28T00:00:00\",\"2021-01-30T00:00:00\",\"2020-12-30T00:00:00\",\"2020-11-30T00:00:00\",\"2020-10-30T00:00:00\",\"2020-09-30T00:00:00\",\"2020-08-30T00:00:00\",\"2020-07-30T00:00:00\",\"2020-06-30T00:00:00\",\"2020-05-30T00:00:00\",\"2020-04-30T00:00:00\",\"2020-03-30T00:00:00\",\"2020-02-20T00:00:00\",\"2020-01-30T00:00:00\",\"2019-12-30T00:00:00\",\"2019-11-30T00:00:00\"],\"xaxis\":\"x\",\"y\":[-2.0,1.0,-3.0,-7.0,6.0,-8.0,7.0,4.0,3.0,0.0,4.0,-7.0,16.0,-3.0,-2.0,5.0,4.0,3.0,-6.0,-3.0,-6.0,-4.0,-4.0,-4.0,16.0,11.0,-14.0,10.0,-15.0,-1.0,-1.0,0.0],\"yaxis\":\"y\",\"type\":\"scatter\"},{\"hovertemplate\":\"Name=elden ring<br>Month=%{x}<br>Monthly_Gain_Loss_percentage=%{y}<extra></extra>\",\"legendgroup\":\"elden ring\",\"line\":{\"color\":\"#ab63fa\",\"dash\":\"solid\"},\"marker\":{\"symbol\":\"circle\"},\"mode\":\"lines\",\"name\":\"elden ring\",\"orientation\":\"v\",\"showlegend\":true,\"x\":[\"2022-06-30T00:00:00\",\"2022-05-30T00:00:00\",\"2022-04-30T00:00:00\",\"2022-03-30T00:00:00\",\"2022-02-28T00:00:00\"],\"xaxis\":\"x\",\"y\":[-6.0,0.0,10.0,16.0,0.0],\"yaxis\":\"y\",\"type\":\"scatter\"},{\"hovertemplate\":\"Name=lost ark<br>Month=%{x}<br>Monthly_Gain_Loss_percentage=%{y}<extra></extra>\",\"legendgroup\":\"lost ark\",\"line\":{\"color\":\"#FFA15A\",\"dash\":\"solid\"},\"marker\":{\"symbol\":\"circle\"},\"mode\":\"lines\",\"name\":\"lost ark\",\"orientation\":\"v\",\"showlegend\":true,\"x\":[\"2022-06-30T00:00:00\",\"2022-05-30T00:00:00\",\"2022-04-30T00:00:00\",\"2022-03-30T00:00:00\",\"2022-02-28T00:00:00\",\"2022-01-30T00:00:00\",\"2021-12-30T00:00:00\",\"2021-11-30T00:00:00\",\"2021-10-30T00:00:00\",\"2021-09-30T00:00:00\",\"2021-08-30T00:00:00\",\"2021-07-30T00:00:00\",\"2021-06-30T00:00:00\",\"2021-05-30T00:00:00\",\"2021-04-30T00:00:00\",\"2021-03-30T00:00:00\",\"2021-02-28T00:00:00\",\"2021-01-30T00:00:00\",\"2020-12-30T00:00:00\",\"2020-11-30T00:00:00\",\"2020-10-30T00:00:00\",\"2020-09-30T00:00:00\",\"2020-08-30T00:00:00\",\"2020-07-30T00:00:00\",\"2020-06-30T00:00:00\",\"2020-05-30T00:00:00\",\"2020-04-30T00:00:00\",\"2020-03-30T00:00:00\",\"2020-02-20T00:00:00\",\"2020-01-30T00:00:00\"],\"xaxis\":\"x\",\"y\":[-1.0,12.0,-13.0,7.0,71.0,1.0,9.0,-19.0,-2.0,22.0,-14.0,-1.0,18.0,-16.0,17.0,-5.0,-6.0,18.0,-8.0,-10.0,12.0,-4.0,-6.0,7.0,7.0,-13.0,0.0,3.0,-8.0,0.0],\"yaxis\":\"y\",\"type\":\"scatter\"},{\"hovertemplate\":\"Name=splitgate<br>Month=%{x}<br>Monthly_Gain_Loss_percentage=%{y}<extra></extra>\",\"legendgroup\":\"splitgate\",\"line\":{\"color\":\"#19d3f3\",\"dash\":\"solid\"},\"marker\":{\"symbol\":\"circle\"},\"mode\":\"lines\",\"name\":\"splitgate\",\"orientation\":\"v\",\"showlegend\":true,\"x\":[\"2022-06-30T00:00:00\",\"2022-05-30T00:00:00\",\"2022-04-30T00:00:00\",\"2022-03-30T00:00:00\",\"2022-02-28T00:00:00\",\"2022-01-30T00:00:00\",\"2021-12-30T00:00:00\",\"2021-11-30T00:00:00\",\"2021-10-30T00:00:00\",\"2020-09-30T00:00:00\",\"2021-08-30T00:00:00\",\"2021-07-30T00:00:00\",\"2021-06-30T00:00:00\",\"2021-05-30T00:00:00\",\"2021-04-30T00:00:00\",\"2021-03-30T00:00:00\",\"2021-02-20T00:00:00\",\"2021-01-30T00:00:00\",\"2020-12-30T00:00:00\",\"2020-11-30T00:00:00\",\"2020-10-30T00:00:00\",\"2020-09-30T00:00:00\",\"2020-08-30T00:00:00\",\"2020-07-30T00:00:00\",\"2020-06-30T00:00:00\",\"2020-05-30T00:00:00\",\"2020-04-30T00:00:00\",\"2020-03-30T00:00:00\",\"2020-02-20T00:00:00\",\"2020-01-30T00:00:00\",\"2019-12-30T00:00:00\",\"2019-11-30T00:00:00\",\"2019-10-30T00:00:00\"],\"xaxis\":\"x\",\"y\":[6.14,6.36,-0.58,-1.37,4.63,-0.81,0.45,-2.3,-3.0,0.87,1.26,1.74,-1.32,1.21,-1.64,-1.45,6.82,-3.1,-4.17,6.15,-2.1,0.86,-3.51,-2.05,3.28,1.29,-4.15,1.18,-0.94,0.31,-2.51,-5.78,0.0],\"yaxis\":\"y\",\"type\":\"scatter\"},{\"hovertemplate\":\"Name=rust<br>Month=%{x}<br>Monthly_Gain_Loss_percentage=%{y}<extra></extra>\",\"legendgroup\":\"rust\",\"line\":{\"color\":\"#FF6692\",\"dash\":\"solid\"},\"marker\":{\"symbol\":\"circle\"},\"mode\":\"lines\",\"name\":\"rust\",\"orientation\":\"v\",\"showlegend\":true,\"x\":[\"2022-06-30T00:00:00\",\"2022-05-30T00:00:00\",\"2022-04-30T00:00:00\",\"2022-03-30T00:00:00\",\"2022-02-28T00:00:00\",\"2022-01-30T00:00:00\",\"2021-12-30T00:00:00\",\"2021-11-30T00:00:00\",\"2021-10-30T00:00:00\",\"2021-09-30T00:00:00\",\"2021-08-30T00:00:00\",\"2021-07-30T00:00:00\",\"2021-06-30T00:00:00\",\"2021-05-30T00:00:00\",\"2021-04-30T00:00:00\",\"2021-03-30T00:00:00\",\"2021-02-28T00:00:00\",\"2021-01-30T00:00:00\",\"2020-12-30T00:00:00\",\"2020-11-30T00:00:00\",\"2020-10-30T00:00:00\",\"2020-09-30T00:00:00\",\"2020-08-30T00:00:00\",\"2020-07-30T00:00:00\",\"2020-06-30T00:00:00\",\"2020-05-30T00:00:00\",\"2020-04-30T00:00:00\",\"2020-03-30T00:00:00\",\"2020-02-20T00:00:00\",\"2020-01-30T00:00:00\"],\"xaxis\":\"x\",\"y\":[-4.35,-0.32,-3.39,1.54,3.73,-1.33,2.03,-8.41,-9.25,13.54,3.59,2.69,-0.86,3.57,-6.71,14.42,-2.72,-2.62,4.56,3.65,2.71,-5.98,-3.42,-5.88,-4.28,-4.3,-4.32,14.6,-16.83,0.0],\"yaxis\":\"y\",\"type\":\"scatter\"},{\"hovertemplate\":\"Name=yu gi oh master duel<br>Month=%{x}<br>Monthly_Gain_Loss_percentage=%{y}<extra></extra>\",\"legendgroup\":\"yu gi oh master duel\",\"line\":{\"color\":\"#B6E880\",\"dash\":\"solid\"},\"marker\":{\"symbol\":\"circle\"},\"mode\":\"lines\",\"name\":\"yu gi oh master duel\",\"orientation\":\"v\",\"showlegend\":true,\"x\":[\"2022-06-30T00:00:00\",\"2022-05-30T00:00:00\",\"2022-04-30T00:00:00\",\"2022-03-30T00:00:00\",\"2022-02-28T00:00:00\",\"2022-01-30T00:00:00\",\"2021-12-30T00:00:00\",\"2021-11-30T00:00:00\",\"2021-10-30T00:00:00\",\"2021-09-30T00:00:00\",\"2021-08-30T00:00:00\",\"2021-07-30T00:00:00\",\"2021-06-30T00:00:00\",\"2021-05-30T00:00:00\",\"2021-04-30T00:00:00\",\"2021-03-30T00:00:00\",\"2021-02-28T00:00:00\",\"2021-01-30T00:00:00\",\"2020-12-30T00:00:00\",\"2020-11-30T00:00:00\",\"2020-10-30T00:00:00\",\"2020-09-30T00:00:00\",\"2020-08-30T00:00:00\",\"2020-07-30T00:00:00\",\"2020-06-30T00:00:00\",\"2020-05-30T00:00:00\",\"2020-04-30T00:00:00\",\"2020-03-30T00:00:00\",\"2020-02-20T00:00:00\",\"2020-01-30T00:00:00\"],\"xaxis\":\"x\",\"y\":[-4.0,-2.0,-2.0,1.0,7.0,-3.0,-8.0,6.0,-9.0,7.0,4.0,3.0,-1.0,4.0,-7.0,16.0,-3.0,-3.0,5.0,4.0,3.0,-7.0,-4.0,-7.0,-5.0,-5.0,-5.0,16.0,-23.0,0.0],\"yaxis\":\"y\",\"type\":\"scatter\"},{\"hovertemplate\":\"Name=monster hunter series<br>Month=%{x}<br>Monthly_Gain_Loss_percentage=%{y}<extra></extra>\",\"legendgroup\":\"monster hunter series\",\"line\":{\"color\":\"#FF97FF\",\"dash\":\"solid\"},\"marker\":{\"symbol\":\"circle\"},\"mode\":\"lines\",\"name\":\"monster hunter series\",\"orientation\":\"v\",\"showlegend\":true,\"x\":[\"2022-06-30T00:00:00\",\"2022-05-30T00:00:00\",\"2022-04-30T00:00:00\",\"2022-05-30T00:00:00\",\"2022-02-28T00:00:00\",\"2022-01-30T00:00:00\",\"2021-12-30T00:00:00\",\"2021-11-30T00:00:00\",\"2021-10-30T00:00:00\",\"2021-09-30T00:00:00\",\"2021-08-30T00:00:00\",\"2021-07-30T00:00:00\",\"2021-06-30T00:00:00\",\"2021-05-30T00:00:00\",\"2021-04-30T00:00:00\",\"2021-03-30T00:00:00\",\"2021-02-28T00:00:00\",\"2021-01-30T00:00:00\",\"2020-12-30T00:00:00\",\"2020-11-30T00:00:00\"],\"xaxis\":\"x\",\"y\":[6.0,8.0,6.0,7.0,-4.0,4.0,-19.0,2.0,2.0,7.0,27.0,-27.0,-13.0,-40.0,-2.0,-11.0,17.0,-25.0,288.0,0.0],\"yaxis\":\"y\",\"type\":\"scatter\"},{\"hovertemplate\":\"Name=team fortress 2 2<br>Month=%{x}<br>Monthly_Gain_Loss_percentage=%{y}<extra></extra>\",\"legendgroup\":\"team fortress 2 2\",\"line\":{\"color\":\"#FECB52\",\"dash\":\"solid\"},\"marker\":{\"symbol\":\"circle\"},\"mode\":\"lines\",\"name\":\"team fortress 2 2\",\"orientation\":\"v\",\"showlegend\":true,\"x\":[\"2022-06-30T00:00:00\",\"2022-05-30T00:00:00\",\"2022-04-30T00:00:00\",\"2022-03-30T00:00:00\",\"2022-02-28T00:00:00\",\"2022-01-30T00:00:00\",\"2021-12-30T00:00:00\",\"2021-11-30T00:00:00\",\"2021-10-30T00:00:00\",\"2021-09-30T00:00:00\",\"2021-08-30T00:00:00\",\"2021-07-30T00:00:00\",\"2021-06-30T00:00:00\",\"2021-05-30T00:00:00\",\"2021-04-30T00:00:00\",\"2021-03-30T00:00:00\",\"2021-02-28T00:00:00\",\"2021-01-30T00:00:00\",\"2020-12-30T00:00:00\",\"2020-11-30T00:00:00\",\"2020-10-30T00:00:00\",\"2020-09-30T00:00:00\",\"2020-08-30T00:00:00\",\"2020-07-30T00:00:00\",\"2020-06-30T00:00:00\",\"2020-05-30T00:00:00\",\"2020-04-30T00:00:00\",\"2020-03-30T00:00:00\",\"2020-02-28T00:00:00\",\"2020-01-30T00:00:00\",\"2020-12-30T00:00:00\",\"2019-11-30T00:00:00\",\"2019-10-30T00:00:00\",\"2019-09-30T00:00:00\",\"2019-08-30T00:00:00\",\"2019-07-30T00:00:00\",\"2019-06-30T00:00:00\",\"2019-05-30T00:00:00\",\"2019-04-30T00:00:00\",\"2019-03-30T00:00:00\",\"2019-02-28T00:00:00\",\"2019-01-30T00:00:00\"],\"xaxis\":\"x\",\"y\":[7.91,1.8,-2.98,10.73,0.58,-6.87,0.46,-3.51,6.14,-3.24,80.48,19.8,-10.96,2.21,5.37,7.17,2.8,3.25,19.34,-7.64,6.28,3.76,-4.0,7.23,-2.8,-0.59,-1.5,11.98,0.67,-1.82,20.97,-4.09,8.25,6.71,-7.56,14.23,8.91,-8.34,-6.11,-4.08,-5.9,0.0],\"yaxis\":\"y\",\"type\":\"scatter\"}],                        {\"template\":{\"data\":{\"histogram2dcontour\":[{\"type\":\"histogram2dcontour\",\"colorbar\":{\"outlinewidth\":0,\"ticks\":\"\"},\"colorscale\":[[0.0,\"#0d0887\"],[0.1111111111111111,\"#46039f\"],[0.2222222222222222,\"#7201a8\"],[0.3333333333333333,\"#9c179e\"],[0.4444444444444444,\"#bd3786\"],[0.5555555555555556,\"#d8576b\"],[0.6666666666666666,\"#ed7953\"],[0.7777777777777778,\"#fb9f3a\"],[0.8888888888888888,\"#fdca26\"],[1.0,\"#f0f921\"]]}],\"choropleth\":[{\"type\":\"choropleth\",\"colorbar\":{\"outlinewidth\":0,\"ticks\":\"\"}}],\"histogram2d\":[{\"type\":\"histogram2d\",\"colorbar\":{\"outlinewidth\":0,\"ticks\":\"\"},\"colorscale\":[[0.0,\"#0d0887\"],[0.1111111111111111,\"#46039f\"],[0.2222222222222222,\"#7201a8\"],[0.3333333333333333,\"#9c179e\"],[0.4444444444444444,\"#bd3786\"],[0.5555555555555556,\"#d8576b\"],[0.6666666666666666,\"#ed7953\"],[0.7777777777777778,\"#fb9f3a\"],[0.8888888888888888,\"#fdca26\"],[1.0,\"#f0f921\"]]}],\"heatmap\":[{\"type\":\"heatmap\",\"colorbar\":{\"outlinewidth\":0,\"ticks\":\"\"},\"colorscale\":[[0.0,\"#0d0887\"],[0.1111111111111111,\"#46039f\"],[0.2222222222222222,\"#7201a8\"],[0.3333333333333333,\"#9c179e\"],[0.4444444444444444,\"#bd3786\"],[0.5555555555555556,\"#d8576b\"],[0.6666666666666666,\"#ed7953\"],[0.7777777777777778,\"#fb9f3a\"],[0.8888888888888888,\"#fdca26\"],[1.0,\"#f0f921\"]]}],\"heatmapgl\":[{\"type\":\"heatmapgl\",\"colorbar\":{\"outlinewidth\":0,\"ticks\":\"\"},\"colorscale\":[[0.0,\"#0d0887\"],[0.1111111111111111,\"#46039f\"],[0.2222222222222222,\"#7201a8\"],[0.3333333333333333,\"#9c179e\"],[0.4444444444444444,\"#bd3786\"],[0.5555555555555556,\"#d8576b\"],[0.6666666666666666,\"#ed7953\"],[0.7777777777777778,\"#fb9f3a\"],[0.8888888888888888,\"#fdca26\"],[1.0,\"#f0f921\"]]}],\"contourcarpet\":[{\"type\":\"contourcarpet\",\"colorbar\":{\"outlinewidth\":0,\"ticks\":\"\"}}],\"contour\":[{\"type\":\"contour\",\"colorbar\":{\"outlinewidth\":0,\"ticks\":\"\"},\"colorscale\":[[0.0,\"#0d0887\"],[0.1111111111111111,\"#46039f\"],[0.2222222222222222,\"#7201a8\"],[0.3333333333333333,\"#9c179e\"],[0.4444444444444444,\"#bd3786\"],[0.5555555555555556,\"#d8576b\"],[0.6666666666666666,\"#ed7953\"],[0.7777777777777778,\"#fb9f3a\"],[0.8888888888888888,\"#fdca26\"],[1.0,\"#f0f921\"]]}],\"surface\":[{\"type\":\"surface\",\"colorbar\":{\"outlinewidth\":0,\"ticks\":\"\"},\"colorscale\":[[0.0,\"#0d0887\"],[0.1111111111111111,\"#46039f\"],[0.2222222222222222,\"#7201a8\"],[0.3333333333333333,\"#9c179e\"],[0.4444444444444444,\"#bd3786\"],[0.5555555555555556,\"#d8576b\"],[0.6666666666666666,\"#ed7953\"],[0.7777777777777778,\"#fb9f3a\"],[0.8888888888888888,\"#fdca26\"],[1.0,\"#f0f921\"]]}],\"mesh3d\":[{\"type\":\"mesh3d\",\"colorbar\":{\"outlinewidth\":0,\"ticks\":\"\"}}],\"scatter\":[{\"fillpattern\":{\"fillmode\":\"overlay\",\"size\":10,\"solidity\":0.2},\"type\":\"scatter\"}],\"parcoords\":[{\"type\":\"parcoords\",\"line\":{\"colorbar\":{\"outlinewidth\":0,\"ticks\":\"\"}}}],\"scatterpolargl\":[{\"type\":\"scatterpolargl\",\"marker\":{\"colorbar\":{\"outlinewidth\":0,\"ticks\":\"\"}}}],\"bar\":[{\"error_x\":{\"color\":\"#2a3f5f\"},\"error_y\":{\"color\":\"#2a3f5f\"},\"marker\":{\"line\":{\"color\":\"#E5ECF6\",\"width\":0.5},\"pattern\":{\"fillmode\":\"overlay\",\"size\":10,\"solidity\":0.2}},\"type\":\"bar\"}],\"scattergeo\":[{\"type\":\"scattergeo\",\"marker\":{\"colorbar\":{\"outlinewidth\":0,\"ticks\":\"\"}}}],\"scatterpolar\":[{\"type\":\"scatterpolar\",\"marker\":{\"colorbar\":{\"outlinewidth\":0,\"ticks\":\"\"}}}],\"histogram\":[{\"marker\":{\"pattern\":{\"fillmode\":\"overlay\",\"size\":10,\"solidity\":0.2}},\"type\":\"histogram\"}],\"scattergl\":[{\"type\":\"scattergl\",\"marker\":{\"colorbar\":{\"outlinewidth\":0,\"ticks\":\"\"}}}],\"scatter3d\":[{\"type\":\"scatter3d\",\"line\":{\"colorbar\":{\"outlinewidth\":0,\"ticks\":\"\"}},\"marker\":{\"colorbar\":{\"outlinewidth\":0,\"ticks\":\"\"}}}],\"scattermapbox\":[{\"type\":\"scattermapbox\",\"marker\":{\"colorbar\":{\"outlinewidth\":0,\"ticks\":\"\"}}}],\"scatterternary\":[{\"type\":\"scatterternary\",\"marker\":{\"colorbar\":{\"outlinewidth\":0,\"ticks\":\"\"}}}],\"scattercarpet\":[{\"type\":\"scattercarpet\",\"marker\":{\"colorbar\":{\"outlinewidth\":0,\"ticks\":\"\"}}}],\"carpet\":[{\"aaxis\":{\"endlinecolor\":\"#2a3f5f\",\"gridcolor\":\"white\",\"linecolor\":\"white\",\"minorgridcolor\":\"white\",\"startlinecolor\":\"#2a3f5f\"},\"baxis\":{\"endlinecolor\":\"#2a3f5f\",\"gridcolor\":\"white\",\"linecolor\":\"white\",\"minorgridcolor\":\"white\",\"startlinecolor\":\"#2a3f5f\"},\"type\":\"carpet\"}],\"table\":[{\"cells\":{\"fill\":{\"color\":\"#EBF0F8\"},\"line\":{\"color\":\"white\"}},\"header\":{\"fill\":{\"color\":\"#C8D4E3\"},\"line\":{\"color\":\"white\"}},\"type\":\"table\"}],\"barpolar\":[{\"marker\":{\"line\":{\"color\":\"#E5ECF6\",\"width\":0.5},\"pattern\":{\"fillmode\":\"overlay\",\"size\":10,\"solidity\":0.2}},\"type\":\"barpolar\"}],\"pie\":[{\"automargin\":true,\"type\":\"pie\"}]},\"layout\":{\"autotypenumbers\":\"strict\",\"colorway\":[\"#636efa\",\"#EF553B\",\"#00cc96\",\"#ab63fa\",\"#FFA15A\",\"#19d3f3\",\"#FF6692\",\"#B6E880\",\"#FF97FF\",\"#FECB52\"],\"font\":{\"color\":\"#2a3f5f\"},\"hovermode\":\"closest\",\"hoverlabel\":{\"align\":\"left\"},\"paper_bgcolor\":\"white\",\"plot_bgcolor\":\"#E5ECF6\",\"polar\":{\"bgcolor\":\"#E5ECF6\",\"angularaxis\":{\"gridcolor\":\"white\",\"linecolor\":\"white\",\"ticks\":\"\"},\"radialaxis\":{\"gridcolor\":\"white\",\"linecolor\":\"white\",\"ticks\":\"\"}},\"ternary\":{\"bgcolor\":\"#E5ECF6\",\"aaxis\":{\"gridcolor\":\"white\",\"linecolor\":\"white\",\"ticks\":\"\"},\"baxis\":{\"gridcolor\":\"white\",\"linecolor\":\"white\",\"ticks\":\"\"},\"caxis\":{\"gridcolor\":\"white\",\"linecolor\":\"white\",\"ticks\":\"\"}},\"coloraxis\":{\"colorbar\":{\"outlinewidth\":0,\"ticks\":\"\"}},\"colorscale\":{\"sequential\":[[0.0,\"#0d0887\"],[0.1111111111111111,\"#46039f\"],[0.2222222222222222,\"#7201a8\"],[0.3333333333333333,\"#9c179e\"],[0.4444444444444444,\"#bd3786\"],[0.5555555555555556,\"#d8576b\"],[0.6666666666666666,\"#ed7953\"],[0.7777777777777778,\"#fb9f3a\"],[0.8888888888888888,\"#fdca26\"],[1.0,\"#f0f921\"]],\"sequentialminus\":[[0.0,\"#0d0887\"],[0.1111111111111111,\"#46039f\"],[0.2222222222222222,\"#7201a8\"],[0.3333333333333333,\"#9c179e\"],[0.4444444444444444,\"#bd3786\"],[0.5555555555555556,\"#d8576b\"],[0.6666666666666666,\"#ed7953\"],[0.7777777777777778,\"#fb9f3a\"],[0.8888888888888888,\"#fdca26\"],[1.0,\"#f0f921\"]],\"diverging\":[[0,\"#8e0152\"],[0.1,\"#c51b7d\"],[0.2,\"#de77ae\"],[0.3,\"#f1b6da\"],[0.4,\"#fde0ef\"],[0.5,\"#f7f7f7\"],[0.6,\"#e6f5d0\"],[0.7,\"#b8e186\"],[0.8,\"#7fbc41\"],[0.9,\"#4d9221\"],[1,\"#276419\"]]},\"xaxis\":{\"gridcolor\":\"white\",\"linecolor\":\"white\",\"ticks\":\"\",\"title\":{\"standoff\":15},\"zerolinecolor\":\"white\",\"automargin\":true,\"zerolinewidth\":2},\"yaxis\":{\"gridcolor\":\"white\",\"linecolor\":\"white\",\"ticks\":\"\",\"title\":{\"standoff\":15},\"zerolinecolor\":\"white\",\"automargin\":true,\"zerolinewidth\":2},\"scene\":{\"xaxis\":{\"backgroundcolor\":\"#E5ECF6\",\"gridcolor\":\"white\",\"linecolor\":\"white\",\"showbackground\":true,\"ticks\":\"\",\"zerolinecolor\":\"white\",\"gridwidth\":2},\"yaxis\":{\"backgroundcolor\":\"#E5ECF6\",\"gridcolor\":\"white\",\"linecolor\":\"white\",\"showbackground\":true,\"ticks\":\"\",\"zerolinecolor\":\"white\",\"gridwidth\":2},\"zaxis\":{\"backgroundcolor\":\"#E5ECF6\",\"gridcolor\":\"white\",\"linecolor\":\"white\",\"showbackground\":true,\"ticks\":\"\",\"zerolinecolor\":\"white\",\"gridwidth\":2}},\"shapedefaults\":{\"line\":{\"color\":\"#2a3f5f\"}},\"annotationdefaults\":{\"arrowcolor\":\"#2a3f5f\",\"arrowhead\":0,\"arrowwidth\":1},\"geo\":{\"bgcolor\":\"white\",\"landcolor\":\"#E5ECF6\",\"subunitcolor\":\"white\",\"showland\":true,\"showlakes\":true,\"lakecolor\":\"white\"},\"title\":{\"x\":0.05},\"mapbox\":{\"style\":\"light\"}}},\"xaxis\":{\"anchor\":\"y\",\"domain\":[0.0,1.0],\"title\":{\"text\":\"Month\"}},\"yaxis\":{\"anchor\":\"x\",\"domain\":[0.0,1.0],\"title\":{\"text\":\"Monthly_Gain_Loss_percentage\"}},\"legend\":{\"title\":{\"text\":\"Name\"},\"tracegroupgap\":0},\"margin\":{\"t\":60}},                        {\"responsive\": true}                    ).then(function(){\n                            \nvar gd = document.getElementById('1a2ded72-9994-4f2d-a8ee-9c8791f49d97');\nvar x = new MutationObserver(function (mutations, observer) {{\n        var display = window.getComputedStyle(gd).display;\n        if (!display || display === 'none') {{\n            console.log([gd, 'removed!']);\n            Plotly.purge(gd);\n            observer.disconnect();\n        }}\n}});\n\n// Listen for the removal of the full notebook cells\nvar notebookContainer = gd.closest('#notebook-container');\nif (notebookContainer) {{\n    x.observe(notebookContainer, {childList: true});\n}}\n\n// Listen for the clearing of the current output cell\nvar outputEl = gd.closest('.output');\nif (outputEl) {{\n    x.observe(outputEl, {childList: true});\n}}\n\n                        })                };                });            </script>        </div>"
     },
     "metadata": {},
     "output_type": "display_data"
    }
   ],
   "source": [
    "fig = px.line(game_player_count_df, x=\"Month\", y=\"Monthly_Gain_Loss_percentage\", color='Name')\n",
    "fig.show()"
   ],
   "metadata": {
    "collapsed": false,
    "pycharm": {
     "name": "#%%\n"
    }
   }
  },
  {
   "cell_type": "code",
   "execution_count": 228,
   "outputs": [
    {
     "data": {
      "application/vnd.plotly.v1+json": {
       "data": [
        {
         "hovertemplate": "Name=v rising<br>Month=%{x}<br>Average_Monthly_Players=%{y}<extra></extra>",
         "legendgroup": "v rising",
         "line": {
          "color": "#636efa",
          "dash": "solid"
         },
         "marker": {
          "symbol": "circle"
         },
         "mode": "lines",
         "name": "v rising",
         "orientation": "v",
         "showlegend": true,
         "x": [
          "2022-06-30T00:00:00",
          "2022-05-30T00:00:00"
         ],
         "xaxis": "x",
         "y": [
          57411,
          95620
         ],
         "yaxis": "y",
         "type": "scatter"
        },
        {
         "hovertemplate": "Name=forza horizon 5<br>Month=%{x}<br>Average_Monthly_Players=%{y}<extra></extra>",
         "legendgroup": "forza horizon 5",
         "line": {
          "color": "#EF553B",
          "dash": "solid"
         },
         "marker": {
          "symbol": "circle"
         },
         "mode": "lines",
         "name": "forza horizon 5",
         "orientation": "v",
         "showlegend": true,
         "x": [
          "2022-06-30T00:00:00",
          "2022-05-30T00:00:00",
          "2022-04-30T00:00:00",
          "2022-03-30T00:00:00",
          "2022-02-20T00:00:00",
          "2022-01-30T00:00:00",
          "2021-12-30T00:00:00"
         ],
         "xaxis": "x",
         "y": [
          23650588,
          22650041,
          19688504,
          18705441,
          15633205,
          14669800,
          13505884
         ],
         "yaxis": "y",
         "type": "scatter"
        },
        {
         "hovertemplate": "Name=payday 2<br>Month=%{x}<br>Average_Monthly_Players=%{y}<extra></extra>",
         "legendgroup": "payday 2",
         "line": {
          "color": "#00cc96",
          "dash": "solid"
         },
         "marker": {
          "symbol": "circle"
         },
         "mode": "lines",
         "name": "payday 2",
         "orientation": "v",
         "showlegend": true,
         "x": [
          "2022-06-30T00:00:00",
          "2022-05-30T00:00:00",
          "2022-04-30T00:00:00",
          "2022-03-30T00:00:00",
          "2022-02-28T00:00:00",
          "2022-01-30T00:00:00",
          "2021-12-30T00:00:00",
          "2021-11-30T00:00:00",
          "2021-10-30T00:00:00",
          "2021-09-30T00:00:00",
          "2021-08-30T00:00:00",
          "2021-07-30T00:00:00",
          "2021-06-30T00:00:00",
          "2021-05-30T00:00:00",
          "2021-04-30T00:00:00",
          "2021-03-30T00:00:00",
          "2021-02-28T00:00:00",
          "2021-01-30T00:00:00",
          "2020-12-30T00:00:00",
          "2020-11-30T00:00:00",
          "2020-10-30T00:00:00",
          "2020-09-30T00:00:00",
          "2020-08-30T00:00:00",
          "2020-07-30T00:00:00",
          "2020-06-30T00:00:00",
          "2020-05-30T00:00:00",
          "2020-04-30T00:00:00",
          "2020-03-30T00:00:00",
          "2020-02-20T00:00:00",
          "2020-01-30T00:00:00",
          "2019-12-30T00:00:00",
          "2019-11-30T00:00:00"
         ],
         "xaxis": "x",
         "y": [
          9850145,
          10056540,
          9946043,
          10253653,
          11115662,
          10470346,
          11447172,
          10694410,
          10282117,
          9981679,
          10078550,
          9690000,
          10473750,
          9002438,
          9287673,
          9570055,
          9100080,
          8737006,
          8474896,
          9089981,
          9454471,
          10119956,
          10625954,
          11157251,
          11715114,
          10069419,
          9065441,
          10544021,
          9505540,
          11201214,
          11320554,
          11523550
         ],
         "yaxis": "y",
         "type": "scatter"
        },
        {
         "hovertemplate": "Name=elden ring<br>Month=%{x}<br>Average_Monthly_Players=%{y}<extra></extra>",
         "legendgroup": "elden ring",
         "line": {
          "color": "#ab63fa",
          "dash": "solid"
         },
         "marker": {
          "symbol": "circle"
         },
         "mode": "lines",
         "name": "elden ring",
         "orientation": "v",
         "showlegend": true,
         "x": [
          "2022-06-30T00:00:00",
          "2022-05-30T00:00:00",
          "2022-04-30T00:00:00",
          "2022-03-30T00:00:00",
          "2022-02-28T00:00:00"
         ],
         "xaxis": "x",
         "y": [
          3014445,
          3195033,
          3202124,
          2901240,
          2503351
         ],
         "yaxis": "y",
         "type": "scatter"
        },
        {
         "hovertemplate": "Name=lost ark<br>Month=%{x}<br>Average_Monthly_Players=%{y}<extra></extra>",
         "legendgroup": "lost ark",
         "line": {
          "color": "#FFA15A",
          "dash": "solid"
         },
         "marker": {
          "symbol": "circle"
         },
         "mode": "lines",
         "name": "lost ark",
         "orientation": "v",
         "showlegend": true,
         "x": [
          "2022-06-30T00:00:00",
          "2022-05-30T00:00:00",
          "2022-04-30T00:00:00",
          "2022-03-30T00:00:00",
          "2022-02-28T00:00:00",
          "2022-01-30T00:00:00",
          "2021-12-30T00:00:00",
          "2021-11-30T00:00:00",
          "2021-10-30T00:00:00",
          "2021-09-30T00:00:00",
          "2021-08-30T00:00:00",
          "2021-07-30T00:00:00",
          "2021-06-30T00:00:00",
          "2021-05-30T00:00:00",
          "2021-04-30T00:00:00",
          "2021-03-30T00:00:00",
          "2021-02-28T00:00:00",
          "2021-01-30T00:00:00",
          "2020-12-30T00:00:00",
          "2020-11-30T00:00:00",
          "2020-10-30T00:00:00",
          "2020-09-30T00:00:00",
          "2020-08-30T00:00:00",
          "2020-07-30T00:00:00",
          "2020-06-30T00:00:00",
          "2020-05-30T00:00:00",
          "2020-04-30T00:00:00",
          "2020-03-30T00:00:00",
          "2020-02-20T00:00:00",
          "2020-01-30T00:00:00"
         ],
         "xaxis": "x",
         "y": [
          720114,
          730211,
          650890,
          750556,
          701550,
          411366,
          405587,
          370830,
          460272,
          468156,
          384905,
          447981,
          453068,
          382527,
          455547,
          390468,
          412024,
          439053,
          373443,
          404131,
          447342,
          401091,
          416915,
          443693,
          415296,
          387379,
          443829,
          443694,
          429841,
          469724
         ],
         "yaxis": "y",
         "type": "scatter"
        },
        {
         "hovertemplate": "Name=splitgate<br>Month=%{x}<br>Average_Monthly_Players=%{y}<extra></extra>",
         "legendgroup": "splitgate",
         "line": {
          "color": "#19d3f3",
          "dash": "solid"
         },
         "marker": {
          "symbol": "circle"
         },
         "mode": "lines",
         "name": "splitgate",
         "orientation": "v",
         "showlegend": true,
         "x": [
          "2022-06-30T00:00:00",
          "2022-05-30T00:00:00",
          "2022-04-30T00:00:00",
          "2022-03-30T00:00:00",
          "2022-02-28T00:00:00",
          "2022-01-30T00:00:00",
          "2021-12-30T00:00:00",
          "2021-11-30T00:00:00",
          "2021-10-30T00:00:00",
          "2020-09-30T00:00:00",
          "2021-08-30T00:00:00",
          "2021-07-30T00:00:00",
          "2021-06-30T00:00:00",
          "2021-05-30T00:00:00",
          "2021-04-30T00:00:00",
          "2021-03-30T00:00:00",
          "2021-02-20T00:00:00",
          "2021-01-30T00:00:00",
          "2020-12-30T00:00:00",
          "2020-11-30T00:00:00",
          "2020-10-30T00:00:00",
          "2020-09-30T00:00:00",
          "2020-08-30T00:00:00",
          "2020-07-30T00:00:00",
          "2020-06-30T00:00:00",
          "2020-05-30T00:00:00",
          "2020-04-30T00:00:00",
          "2020-03-30T00:00:00",
          "2020-02-20T00:00:00",
          "2020-01-30T00:00:00",
          "2019-12-30T00:00:00",
          "2019-11-30T00:00:00",
          "2019-10-30T00:00:00"
         ],
         "xaxis": "x",
         "y": [
          875650,
          825014,
          775650,
          780144,
          791004,
          755978,
          762183,
          758773,
          776657,
          800682,
          793797,
          783941,
          770527,
          780812,
          771463,
          784303,
          795853,
          745007,
          768810,
          802235,
          755775,
          771950,
          765342,
          793218,
          809788,
          784035,
          774020,
          807566,
          798121,
          805711,
          803199,
          823905,
          874418
         ],
         "yaxis": "y",
         "type": "scatter"
        },
        {
         "hovertemplate": "Name=rust<br>Month=%{x}<br>Average_Monthly_Players=%{y}<extra></extra>",
         "legendgroup": "rust",
         "line": {
          "color": "#FF6692",
          "dash": "solid"
         },
         "marker": {
          "symbol": "circle"
         },
         "mode": "lines",
         "name": "rust",
         "orientation": "v",
         "showlegend": true,
         "x": [
          "2022-06-30T00:00:00",
          "2022-05-30T00:00:00",
          "2022-04-30T00:00:00",
          "2022-03-30T00:00:00",
          "2022-02-28T00:00:00",
          "2022-01-30T00:00:00",
          "2021-12-30T00:00:00",
          "2021-11-30T00:00:00",
          "2021-10-30T00:00:00",
          "2021-09-30T00:00:00",
          "2021-08-30T00:00:00",
          "2021-07-30T00:00:00",
          "2021-06-30T00:00:00",
          "2021-05-30T00:00:00",
          "2021-04-30T00:00:00",
          "2021-03-30T00:00:00",
          "2021-02-28T00:00:00",
          "2021-01-30T00:00:00",
          "2020-12-30T00:00:00",
          "2020-11-30T00:00:00",
          "2020-10-30T00:00:00",
          "2020-09-30T00:00:00",
          "2020-08-30T00:00:00",
          "2020-07-30T00:00:00",
          "2020-06-30T00:00:00",
          "2020-05-30T00:00:00",
          "2020-04-30T00:00:00",
          "2020-03-30T00:00:00",
          "2020-02-20T00:00:00",
          "2020-01-30T00:00:00"
         ],
         "xaxis": "x",
         "y": [
          10966805,
          11465058,
          11502114,
          11905221,
          11724445,
          11303267,
          11455797,
          11227588,
          12258780,
          13507695,
          11896554,
          11484261,
          11183823,
          11280694,
          10892144,
          11675894,
          10204582,
          10489817,
          10772199,
          10302224,
          9939150,
          9677040,
          10292125,
          10656615,
          11322100,
          11828098,
          12359395,
          12917258,
          11271563,
          13552367
         ],
         "yaxis": "y",
         "type": "scatter"
        },
        {
         "hovertemplate": "Name=yu gi oh master duel<br>Month=%{x}<br>Average_Monthly_Players=%{y}<extra></extra>",
         "legendgroup": "yu gi oh master duel",
         "line": {
          "color": "#B6E880",
          "dash": "solid"
         },
         "marker": {
          "symbol": "circle"
         },
         "mode": "lines",
         "name": "yu gi oh master duel",
         "orientation": "v",
         "showlegend": true,
         "x": [
          "2022-06-30T00:00:00",
          "2022-05-30T00:00:00",
          "2022-04-30T00:00:00",
          "2022-03-30T00:00:00",
          "2022-02-28T00:00:00",
          "2022-01-30T00:00:00",
          "2021-12-30T00:00:00",
          "2021-11-30T00:00:00",
          "2021-10-30T00:00:00",
          "2021-09-30T00:00:00",
          "2021-08-30T00:00:00",
          "2021-07-30T00:00:00",
          "2021-06-30T00:00:00",
          "2021-05-30T00:00:00",
          "2021-04-30T00:00:00",
          "2021-03-30T00:00:00",
          "2021-02-28T00:00:00",
          "2021-01-30T00:00:00",
          "2020-12-30T00:00:00",
          "2020-11-30T00:00:00",
          "2020-10-30T00:00:00",
          "2020-09-30T00:00:00",
          "2020-08-30T00:00:00",
          "2020-07-30T00:00:00",
          "2020-06-30T00:00:00",
          "2020-05-30T00:00:00",
          "2020-04-30T00:00:00",
          "2020-03-30T00:00:00",
          "2020-02-20T00:00:00",
          "2020-01-30T00:00:00"
         ],
         "xaxis": "x",
         "y": [
          8365088,
          8740556,
          8950114,
          9101456,
          8980041,
          8375615,
          8634655,
          9360557,
          8817134,
          9639724,
          9005819,
          8658625,
          8405624,
          8487200,
          8160000,
          8820000,
          7581000,
          7821198,
          8058994,
          7663226,
          7357479,
          7136754,
          7654721,
          7961660,
          8522068,
          8948171,
          9395580,
          9865359,
          8479511,
          10952246
         ],
         "yaxis": "y",
         "type": "scatter"
        },
        {
         "hovertemplate": "Name=monster hunter series<br>Month=%{x}<br>Average_Monthly_Players=%{y}<extra></extra>",
         "legendgroup": "monster hunter series",
         "line": {
          "color": "#FF97FF",
          "dash": "solid"
         },
         "marker": {
          "symbol": "circle"
         },
         "mode": "lines",
         "name": "monster hunter series",
         "orientation": "v",
         "showlegend": true,
         "x": [
          "2022-06-30T00:00:00",
          "2022-05-30T00:00:00",
          "2022-04-30T00:00:00",
          "2022-05-30T00:00:00",
          "2022-02-28T00:00:00",
          "2022-01-30T00:00:00",
          "2021-12-30T00:00:00",
          "2021-11-30T00:00:00",
          "2021-10-30T00:00:00",
          "2021-09-30T00:00:00",
          "2021-08-30T00:00:00",
          "2021-07-30T00:00:00",
          "2021-06-30T00:00:00",
          "2021-05-30T00:00:00",
          "2021-04-30T00:00:00",
          "2021-03-30T00:00:00",
          "2021-02-28T00:00:00",
          "2021-01-30T00:00:00",
          "2020-12-30T00:00:00",
          "2020-11-30T00:00:00"
         ],
         "xaxis": "x",
         "y": [
          556200,
          525510,
          485554,
          460114,
          430152,
          450253,
          432056,
          530282,
          519884,
          509690,
          475202,
          373737,
          511875,
          591500,
          980000,
          1000000,
          1125000,
          960000,
          1273080,
          327818
         ],
         "yaxis": "y",
         "type": "scatter"
        },
        {
         "hovertemplate": "Name=team fortress 2 2<br>Month=%{x}<br>Average_Monthly_Players=%{y}<extra></extra>",
         "legendgroup": "team fortress 2 2",
         "line": {
          "color": "#FECB52",
          "dash": "solid"
         },
         "marker": {
          "symbol": "circle"
         },
         "mode": "lines",
         "name": "team fortress 2 2",
         "orientation": "v",
         "showlegend": true,
         "x": [
          "2022-06-30T00:00:00",
          "2022-05-30T00:00:00",
          "2022-04-30T00:00:00",
          "2022-03-30T00:00:00",
          "2022-02-28T00:00:00",
          "2022-01-30T00:00:00",
          "2021-12-30T00:00:00",
          "2021-11-30T00:00:00",
          "2021-10-30T00:00:00",
          "2021-09-30T00:00:00",
          "2021-08-30T00:00:00",
          "2021-07-30T00:00:00",
          "2021-06-30T00:00:00",
          "2021-05-30T00:00:00",
          "2021-04-30T00:00:00",
          "2021-03-30T00:00:00",
          "2021-02-28T00:00:00",
          "2021-01-30T00:00:00",
          "2020-12-30T00:00:00",
          "2020-11-30T00:00:00",
          "2020-10-30T00:00:00",
          "2020-09-30T00:00:00",
          "2020-08-30T00:00:00",
          "2020-07-30T00:00:00",
          "2020-06-30T00:00:00",
          "2020-05-30T00:00:00",
          "2020-04-30T00:00:00",
          "2020-03-30T00:00:00",
          "2020-02-28T00:00:00",
          "2020-01-30T00:00:00",
          "2020-12-30T00:00:00",
          "2019-11-30T00:00:00",
          "2019-10-30T00:00:00",
          "2019-09-30T00:00:00",
          "2019-08-30T00:00:00",
          "2019-07-30T00:00:00",
          "2019-06-30T00:00:00",
          "2019-05-30T00:00:00",
          "2019-04-30T00:00:00",
          "2019-03-30T00:00:00",
          "2019-02-28T00:00:00",
          "2019-01-30T00:00:00"
         ],
         "xaxis": "x",
         "y": [
          650321,
          602660,
          592014,
          610211,
          551056,
          547899,
          588330,
          585612,
          606924,
          571836,
          591006,
          327465,
          273342,
          307005,
          300381,
          285063,
          265995,
          258762,
          250617,
          210003,
          227373,
          213946,
          206201,
          214800,
          200316,
          206087,
          207303,
          210468,
          187956,
          186699,
          190158,
          157188,
          163896,
          151404,
          141885,
          153483,
          134360,
          123369,
          134595,
          143352,
          149453,
          158818
         ],
         "yaxis": "y",
         "type": "scatter"
        }
       ],
       "layout": {
        "template": {
         "data": {
          "histogram2dcontour": [
           {
            "type": "histogram2dcontour",
            "colorbar": {
             "outlinewidth": 0,
             "ticks": ""
            },
            "colorscale": [
             [
              0.0,
              "#0d0887"
             ],
             [
              0.1111111111111111,
              "#46039f"
             ],
             [
              0.2222222222222222,
              "#7201a8"
             ],
             [
              0.3333333333333333,
              "#9c179e"
             ],
             [
              0.4444444444444444,
              "#bd3786"
             ],
             [
              0.5555555555555556,
              "#d8576b"
             ],
             [
              0.6666666666666666,
              "#ed7953"
             ],
             [
              0.7777777777777778,
              "#fb9f3a"
             ],
             [
              0.8888888888888888,
              "#fdca26"
             ],
             [
              1.0,
              "#f0f921"
             ]
            ]
           }
          ],
          "choropleth": [
           {
            "type": "choropleth",
            "colorbar": {
             "outlinewidth": 0,
             "ticks": ""
            }
           }
          ],
          "histogram2d": [
           {
            "type": "histogram2d",
            "colorbar": {
             "outlinewidth": 0,
             "ticks": ""
            },
            "colorscale": [
             [
              0.0,
              "#0d0887"
             ],
             [
              0.1111111111111111,
              "#46039f"
             ],
             [
              0.2222222222222222,
              "#7201a8"
             ],
             [
              0.3333333333333333,
              "#9c179e"
             ],
             [
              0.4444444444444444,
              "#bd3786"
             ],
             [
              0.5555555555555556,
              "#d8576b"
             ],
             [
              0.6666666666666666,
              "#ed7953"
             ],
             [
              0.7777777777777778,
              "#fb9f3a"
             ],
             [
              0.8888888888888888,
              "#fdca26"
             ],
             [
              1.0,
              "#f0f921"
             ]
            ]
           }
          ],
          "heatmap": [
           {
            "type": "heatmap",
            "colorbar": {
             "outlinewidth": 0,
             "ticks": ""
            },
            "colorscale": [
             [
              0.0,
              "#0d0887"
             ],
             [
              0.1111111111111111,
              "#46039f"
             ],
             [
              0.2222222222222222,
              "#7201a8"
             ],
             [
              0.3333333333333333,
              "#9c179e"
             ],
             [
              0.4444444444444444,
              "#bd3786"
             ],
             [
              0.5555555555555556,
              "#d8576b"
             ],
             [
              0.6666666666666666,
              "#ed7953"
             ],
             [
              0.7777777777777778,
              "#fb9f3a"
             ],
             [
              0.8888888888888888,
              "#fdca26"
             ],
             [
              1.0,
              "#f0f921"
             ]
            ]
           }
          ],
          "heatmapgl": [
           {
            "type": "heatmapgl",
            "colorbar": {
             "outlinewidth": 0,
             "ticks": ""
            },
            "colorscale": [
             [
              0.0,
              "#0d0887"
             ],
             [
              0.1111111111111111,
              "#46039f"
             ],
             [
              0.2222222222222222,
              "#7201a8"
             ],
             [
              0.3333333333333333,
              "#9c179e"
             ],
             [
              0.4444444444444444,
              "#bd3786"
             ],
             [
              0.5555555555555556,
              "#d8576b"
             ],
             [
              0.6666666666666666,
              "#ed7953"
             ],
             [
              0.7777777777777778,
              "#fb9f3a"
             ],
             [
              0.8888888888888888,
              "#fdca26"
             ],
             [
              1.0,
              "#f0f921"
             ]
            ]
           }
          ],
          "contourcarpet": [
           {
            "type": "contourcarpet",
            "colorbar": {
             "outlinewidth": 0,
             "ticks": ""
            }
           }
          ],
          "contour": [
           {
            "type": "contour",
            "colorbar": {
             "outlinewidth": 0,
             "ticks": ""
            },
            "colorscale": [
             [
              0.0,
              "#0d0887"
             ],
             [
              0.1111111111111111,
              "#46039f"
             ],
             [
              0.2222222222222222,
              "#7201a8"
             ],
             [
              0.3333333333333333,
              "#9c179e"
             ],
             [
              0.4444444444444444,
              "#bd3786"
             ],
             [
              0.5555555555555556,
              "#d8576b"
             ],
             [
              0.6666666666666666,
              "#ed7953"
             ],
             [
              0.7777777777777778,
              "#fb9f3a"
             ],
             [
              0.8888888888888888,
              "#fdca26"
             ],
             [
              1.0,
              "#f0f921"
             ]
            ]
           }
          ],
          "surface": [
           {
            "type": "surface",
            "colorbar": {
             "outlinewidth": 0,
             "ticks": ""
            },
            "colorscale": [
             [
              0.0,
              "#0d0887"
             ],
             [
              0.1111111111111111,
              "#46039f"
             ],
             [
              0.2222222222222222,
              "#7201a8"
             ],
             [
              0.3333333333333333,
              "#9c179e"
             ],
             [
              0.4444444444444444,
              "#bd3786"
             ],
             [
              0.5555555555555556,
              "#d8576b"
             ],
             [
              0.6666666666666666,
              "#ed7953"
             ],
             [
              0.7777777777777778,
              "#fb9f3a"
             ],
             [
              0.8888888888888888,
              "#fdca26"
             ],
             [
              1.0,
              "#f0f921"
             ]
            ]
           }
          ],
          "mesh3d": [
           {
            "type": "mesh3d",
            "colorbar": {
             "outlinewidth": 0,
             "ticks": ""
            }
           }
          ],
          "scatter": [
           {
            "fillpattern": {
             "fillmode": "overlay",
             "size": 10,
             "solidity": 0.2
            },
            "type": "scatter"
           }
          ],
          "parcoords": [
           {
            "type": "parcoords",
            "line": {
             "colorbar": {
              "outlinewidth": 0,
              "ticks": ""
             }
            }
           }
          ],
          "scatterpolargl": [
           {
            "type": "scatterpolargl",
            "marker": {
             "colorbar": {
              "outlinewidth": 0,
              "ticks": ""
             }
            }
           }
          ],
          "bar": [
           {
            "error_x": {
             "color": "#2a3f5f"
            },
            "error_y": {
             "color": "#2a3f5f"
            },
            "marker": {
             "line": {
              "color": "#E5ECF6",
              "width": 0.5
             },
             "pattern": {
              "fillmode": "overlay",
              "size": 10,
              "solidity": 0.2
             }
            },
            "type": "bar"
           }
          ],
          "scattergeo": [
           {
            "type": "scattergeo",
            "marker": {
             "colorbar": {
              "outlinewidth": 0,
              "ticks": ""
             }
            }
           }
          ],
          "scatterpolar": [
           {
            "type": "scatterpolar",
            "marker": {
             "colorbar": {
              "outlinewidth": 0,
              "ticks": ""
             }
            }
           }
          ],
          "histogram": [
           {
            "marker": {
             "pattern": {
              "fillmode": "overlay",
              "size": 10,
              "solidity": 0.2
             }
            },
            "type": "histogram"
           }
          ],
          "scattergl": [
           {
            "type": "scattergl",
            "marker": {
             "colorbar": {
              "outlinewidth": 0,
              "ticks": ""
             }
            }
           }
          ],
          "scatter3d": [
           {
            "type": "scatter3d",
            "line": {
             "colorbar": {
              "outlinewidth": 0,
              "ticks": ""
             }
            },
            "marker": {
             "colorbar": {
              "outlinewidth": 0,
              "ticks": ""
             }
            }
           }
          ],
          "scattermapbox": [
           {
            "type": "scattermapbox",
            "marker": {
             "colorbar": {
              "outlinewidth": 0,
              "ticks": ""
             }
            }
           }
          ],
          "scatterternary": [
           {
            "type": "scatterternary",
            "marker": {
             "colorbar": {
              "outlinewidth": 0,
              "ticks": ""
             }
            }
           }
          ],
          "scattercarpet": [
           {
            "type": "scattercarpet",
            "marker": {
             "colorbar": {
              "outlinewidth": 0,
              "ticks": ""
             }
            }
           }
          ],
          "carpet": [
           {
            "aaxis": {
             "endlinecolor": "#2a3f5f",
             "gridcolor": "white",
             "linecolor": "white",
             "minorgridcolor": "white",
             "startlinecolor": "#2a3f5f"
            },
            "baxis": {
             "endlinecolor": "#2a3f5f",
             "gridcolor": "white",
             "linecolor": "white",
             "minorgridcolor": "white",
             "startlinecolor": "#2a3f5f"
            },
            "type": "carpet"
           }
          ],
          "table": [
           {
            "cells": {
             "fill": {
              "color": "#EBF0F8"
             },
             "line": {
              "color": "white"
             }
            },
            "header": {
             "fill": {
              "color": "#C8D4E3"
             },
             "line": {
              "color": "white"
             }
            },
            "type": "table"
           }
          ],
          "barpolar": [
           {
            "marker": {
             "line": {
              "color": "#E5ECF6",
              "width": 0.5
             },
             "pattern": {
              "fillmode": "overlay",
              "size": 10,
              "solidity": 0.2
             }
            },
            "type": "barpolar"
           }
          ],
          "pie": [
           {
            "automargin": true,
            "type": "pie"
           }
          ]
         },
         "layout": {
          "autotypenumbers": "strict",
          "colorway": [
           "#636efa",
           "#EF553B",
           "#00cc96",
           "#ab63fa",
           "#FFA15A",
           "#19d3f3",
           "#FF6692",
           "#B6E880",
           "#FF97FF",
           "#FECB52"
          ],
          "font": {
           "color": "#2a3f5f"
          },
          "hovermode": "closest",
          "hoverlabel": {
           "align": "left"
          },
          "paper_bgcolor": "white",
          "plot_bgcolor": "#E5ECF6",
          "polar": {
           "bgcolor": "#E5ECF6",
           "angularaxis": {
            "gridcolor": "white",
            "linecolor": "white",
            "ticks": ""
           },
           "radialaxis": {
            "gridcolor": "white",
            "linecolor": "white",
            "ticks": ""
           }
          },
          "ternary": {
           "bgcolor": "#E5ECF6",
           "aaxis": {
            "gridcolor": "white",
            "linecolor": "white",
            "ticks": ""
           },
           "baxis": {
            "gridcolor": "white",
            "linecolor": "white",
            "ticks": ""
           },
           "caxis": {
            "gridcolor": "white",
            "linecolor": "white",
            "ticks": ""
           }
          },
          "coloraxis": {
           "colorbar": {
            "outlinewidth": 0,
            "ticks": ""
           }
          },
          "colorscale": {
           "sequential": [
            [
             0.0,
             "#0d0887"
            ],
            [
             0.1111111111111111,
             "#46039f"
            ],
            [
             0.2222222222222222,
             "#7201a8"
            ],
            [
             0.3333333333333333,
             "#9c179e"
            ],
            [
             0.4444444444444444,
             "#bd3786"
            ],
            [
             0.5555555555555556,
             "#d8576b"
            ],
            [
             0.6666666666666666,
             "#ed7953"
            ],
            [
             0.7777777777777778,
             "#fb9f3a"
            ],
            [
             0.8888888888888888,
             "#fdca26"
            ],
            [
             1.0,
             "#f0f921"
            ]
           ],
           "sequentialminus": [
            [
             0.0,
             "#0d0887"
            ],
            [
             0.1111111111111111,
             "#46039f"
            ],
            [
             0.2222222222222222,
             "#7201a8"
            ],
            [
             0.3333333333333333,
             "#9c179e"
            ],
            [
             0.4444444444444444,
             "#bd3786"
            ],
            [
             0.5555555555555556,
             "#d8576b"
            ],
            [
             0.6666666666666666,
             "#ed7953"
            ],
            [
             0.7777777777777778,
             "#fb9f3a"
            ],
            [
             0.8888888888888888,
             "#fdca26"
            ],
            [
             1.0,
             "#f0f921"
            ]
           ],
           "diverging": [
            [
             0,
             "#8e0152"
            ],
            [
             0.1,
             "#c51b7d"
            ],
            [
             0.2,
             "#de77ae"
            ],
            [
             0.3,
             "#f1b6da"
            ],
            [
             0.4,
             "#fde0ef"
            ],
            [
             0.5,
             "#f7f7f7"
            ],
            [
             0.6,
             "#e6f5d0"
            ],
            [
             0.7,
             "#b8e186"
            ],
            [
             0.8,
             "#7fbc41"
            ],
            [
             0.9,
             "#4d9221"
            ],
            [
             1,
             "#276419"
            ]
           ]
          },
          "xaxis": {
           "gridcolor": "white",
           "linecolor": "white",
           "ticks": "",
           "title": {
            "standoff": 15
           },
           "zerolinecolor": "white",
           "automargin": true,
           "zerolinewidth": 2
          },
          "yaxis": {
           "gridcolor": "white",
           "linecolor": "white",
           "ticks": "",
           "title": {
            "standoff": 15
           },
           "zerolinecolor": "white",
           "automargin": true,
           "zerolinewidth": 2
          },
          "scene": {
           "xaxis": {
            "backgroundcolor": "#E5ECF6",
            "gridcolor": "white",
            "linecolor": "white",
            "showbackground": true,
            "ticks": "",
            "zerolinecolor": "white",
            "gridwidth": 2
           },
           "yaxis": {
            "backgroundcolor": "#E5ECF6",
            "gridcolor": "white",
            "linecolor": "white",
            "showbackground": true,
            "ticks": "",
            "zerolinecolor": "white",
            "gridwidth": 2
           },
           "zaxis": {
            "backgroundcolor": "#E5ECF6",
            "gridcolor": "white",
            "linecolor": "white",
            "showbackground": true,
            "ticks": "",
            "zerolinecolor": "white",
            "gridwidth": 2
           }
          },
          "shapedefaults": {
           "line": {
            "color": "#2a3f5f"
           }
          },
          "annotationdefaults": {
           "arrowcolor": "#2a3f5f",
           "arrowhead": 0,
           "arrowwidth": 1
          },
          "geo": {
           "bgcolor": "white",
           "landcolor": "#E5ECF6",
           "subunitcolor": "white",
           "showland": true,
           "showlakes": true,
           "lakecolor": "white"
          },
          "title": {
           "x": 0.05
          },
          "mapbox": {
           "style": "light"
          }
         }
        },
        "xaxis": {
         "anchor": "y",
         "domain": [
          0.0,
          1.0
         ],
         "title": {
          "text": "Month"
         }
        },
        "yaxis": {
         "anchor": "x",
         "domain": [
          0.0,
          1.0
         ],
         "title": {
          "text": "Average_Monthly_Players"
         }
        },
        "legend": {
         "title": {
          "text": "Name"
         },
         "tracegroupgap": 0
        },
        "margin": {
         "t": 60
        }
       },
       "config": {
        "plotlyServerURL": "https://plot.ly"
       }
      },
      "text/html": "<div>                            <div id=\"c9980807-ed8e-4196-b5f1-da2a89508610\" class=\"plotly-graph-div\" style=\"height:525px; width:100%;\"></div>            <script type=\"text/javascript\">                require([\"plotly\"], function(Plotly) {                    window.PLOTLYENV=window.PLOTLYENV || {};                                    if (document.getElementById(\"c9980807-ed8e-4196-b5f1-da2a89508610\")) {                    Plotly.newPlot(                        \"c9980807-ed8e-4196-b5f1-da2a89508610\",                        [{\"hovertemplate\":\"Name=v rising<br>Month=%{x}<br>Average_Monthly_Players=%{y}<extra></extra>\",\"legendgroup\":\"v rising\",\"line\":{\"color\":\"#636efa\",\"dash\":\"solid\"},\"marker\":{\"symbol\":\"circle\"},\"mode\":\"lines\",\"name\":\"v rising\",\"orientation\":\"v\",\"showlegend\":true,\"x\":[\"2022-06-30T00:00:00\",\"2022-05-30T00:00:00\"],\"xaxis\":\"x\",\"y\":[57411,95620],\"yaxis\":\"y\",\"type\":\"scatter\"},{\"hovertemplate\":\"Name=forza horizon 5<br>Month=%{x}<br>Average_Monthly_Players=%{y}<extra></extra>\",\"legendgroup\":\"forza horizon 5\",\"line\":{\"color\":\"#EF553B\",\"dash\":\"solid\"},\"marker\":{\"symbol\":\"circle\"},\"mode\":\"lines\",\"name\":\"forza horizon 5\",\"orientation\":\"v\",\"showlegend\":true,\"x\":[\"2022-06-30T00:00:00\",\"2022-05-30T00:00:00\",\"2022-04-30T00:00:00\",\"2022-03-30T00:00:00\",\"2022-02-20T00:00:00\",\"2022-01-30T00:00:00\",\"2021-12-30T00:00:00\"],\"xaxis\":\"x\",\"y\":[23650588,22650041,19688504,18705441,15633205,14669800,13505884],\"yaxis\":\"y\",\"type\":\"scatter\"},{\"hovertemplate\":\"Name=payday 2<br>Month=%{x}<br>Average_Monthly_Players=%{y}<extra></extra>\",\"legendgroup\":\"payday 2\",\"line\":{\"color\":\"#00cc96\",\"dash\":\"solid\"},\"marker\":{\"symbol\":\"circle\"},\"mode\":\"lines\",\"name\":\"payday 2\",\"orientation\":\"v\",\"showlegend\":true,\"x\":[\"2022-06-30T00:00:00\",\"2022-05-30T00:00:00\",\"2022-04-30T00:00:00\",\"2022-03-30T00:00:00\",\"2022-02-28T00:00:00\",\"2022-01-30T00:00:00\",\"2021-12-30T00:00:00\",\"2021-11-30T00:00:00\",\"2021-10-30T00:00:00\",\"2021-09-30T00:00:00\",\"2021-08-30T00:00:00\",\"2021-07-30T00:00:00\",\"2021-06-30T00:00:00\",\"2021-05-30T00:00:00\",\"2021-04-30T00:00:00\",\"2021-03-30T00:00:00\",\"2021-02-28T00:00:00\",\"2021-01-30T00:00:00\",\"2020-12-30T00:00:00\",\"2020-11-30T00:00:00\",\"2020-10-30T00:00:00\",\"2020-09-30T00:00:00\",\"2020-08-30T00:00:00\",\"2020-07-30T00:00:00\",\"2020-06-30T00:00:00\",\"2020-05-30T00:00:00\",\"2020-04-30T00:00:00\",\"2020-03-30T00:00:00\",\"2020-02-20T00:00:00\",\"2020-01-30T00:00:00\",\"2019-12-30T00:00:00\",\"2019-11-30T00:00:00\"],\"xaxis\":\"x\",\"y\":[9850145,10056540,9946043,10253653,11115662,10470346,11447172,10694410,10282117,9981679,10078550,9690000,10473750,9002438,9287673,9570055,9100080,8737006,8474896,9089981,9454471,10119956,10625954,11157251,11715114,10069419,9065441,10544021,9505540,11201214,11320554,11523550],\"yaxis\":\"y\",\"type\":\"scatter\"},{\"hovertemplate\":\"Name=elden ring<br>Month=%{x}<br>Average_Monthly_Players=%{y}<extra></extra>\",\"legendgroup\":\"elden ring\",\"line\":{\"color\":\"#ab63fa\",\"dash\":\"solid\"},\"marker\":{\"symbol\":\"circle\"},\"mode\":\"lines\",\"name\":\"elden ring\",\"orientation\":\"v\",\"showlegend\":true,\"x\":[\"2022-06-30T00:00:00\",\"2022-05-30T00:00:00\",\"2022-04-30T00:00:00\",\"2022-03-30T00:00:00\",\"2022-02-28T00:00:00\"],\"xaxis\":\"x\",\"y\":[3014445,3195033,3202124,2901240,2503351],\"yaxis\":\"y\",\"type\":\"scatter\"},{\"hovertemplate\":\"Name=lost ark<br>Month=%{x}<br>Average_Monthly_Players=%{y}<extra></extra>\",\"legendgroup\":\"lost ark\",\"line\":{\"color\":\"#FFA15A\",\"dash\":\"solid\"},\"marker\":{\"symbol\":\"circle\"},\"mode\":\"lines\",\"name\":\"lost ark\",\"orientation\":\"v\",\"showlegend\":true,\"x\":[\"2022-06-30T00:00:00\",\"2022-05-30T00:00:00\",\"2022-04-30T00:00:00\",\"2022-03-30T00:00:00\",\"2022-02-28T00:00:00\",\"2022-01-30T00:00:00\",\"2021-12-30T00:00:00\",\"2021-11-30T00:00:00\",\"2021-10-30T00:00:00\",\"2021-09-30T00:00:00\",\"2021-08-30T00:00:00\",\"2021-07-30T00:00:00\",\"2021-06-30T00:00:00\",\"2021-05-30T00:00:00\",\"2021-04-30T00:00:00\",\"2021-03-30T00:00:00\",\"2021-02-28T00:00:00\",\"2021-01-30T00:00:00\",\"2020-12-30T00:00:00\",\"2020-11-30T00:00:00\",\"2020-10-30T00:00:00\",\"2020-09-30T00:00:00\",\"2020-08-30T00:00:00\",\"2020-07-30T00:00:00\",\"2020-06-30T00:00:00\",\"2020-05-30T00:00:00\",\"2020-04-30T00:00:00\",\"2020-03-30T00:00:00\",\"2020-02-20T00:00:00\",\"2020-01-30T00:00:00\"],\"xaxis\":\"x\",\"y\":[720114,730211,650890,750556,701550,411366,405587,370830,460272,468156,384905,447981,453068,382527,455547,390468,412024,439053,373443,404131,447342,401091,416915,443693,415296,387379,443829,443694,429841,469724],\"yaxis\":\"y\",\"type\":\"scatter\"},{\"hovertemplate\":\"Name=splitgate<br>Month=%{x}<br>Average_Monthly_Players=%{y}<extra></extra>\",\"legendgroup\":\"splitgate\",\"line\":{\"color\":\"#19d3f3\",\"dash\":\"solid\"},\"marker\":{\"symbol\":\"circle\"},\"mode\":\"lines\",\"name\":\"splitgate\",\"orientation\":\"v\",\"showlegend\":true,\"x\":[\"2022-06-30T00:00:00\",\"2022-05-30T00:00:00\",\"2022-04-30T00:00:00\",\"2022-03-30T00:00:00\",\"2022-02-28T00:00:00\",\"2022-01-30T00:00:00\",\"2021-12-30T00:00:00\",\"2021-11-30T00:00:00\",\"2021-10-30T00:00:00\",\"2020-09-30T00:00:00\",\"2021-08-30T00:00:00\",\"2021-07-30T00:00:00\",\"2021-06-30T00:00:00\",\"2021-05-30T00:00:00\",\"2021-04-30T00:00:00\",\"2021-03-30T00:00:00\",\"2021-02-20T00:00:00\",\"2021-01-30T00:00:00\",\"2020-12-30T00:00:00\",\"2020-11-30T00:00:00\",\"2020-10-30T00:00:00\",\"2020-09-30T00:00:00\",\"2020-08-30T00:00:00\",\"2020-07-30T00:00:00\",\"2020-06-30T00:00:00\",\"2020-05-30T00:00:00\",\"2020-04-30T00:00:00\",\"2020-03-30T00:00:00\",\"2020-02-20T00:00:00\",\"2020-01-30T00:00:00\",\"2019-12-30T00:00:00\",\"2019-11-30T00:00:00\",\"2019-10-30T00:00:00\"],\"xaxis\":\"x\",\"y\":[875650,825014,775650,780144,791004,755978,762183,758773,776657,800682,793797,783941,770527,780812,771463,784303,795853,745007,768810,802235,755775,771950,765342,793218,809788,784035,774020,807566,798121,805711,803199,823905,874418],\"yaxis\":\"y\",\"type\":\"scatter\"},{\"hovertemplate\":\"Name=rust<br>Month=%{x}<br>Average_Monthly_Players=%{y}<extra></extra>\",\"legendgroup\":\"rust\",\"line\":{\"color\":\"#FF6692\",\"dash\":\"solid\"},\"marker\":{\"symbol\":\"circle\"},\"mode\":\"lines\",\"name\":\"rust\",\"orientation\":\"v\",\"showlegend\":true,\"x\":[\"2022-06-30T00:00:00\",\"2022-05-30T00:00:00\",\"2022-04-30T00:00:00\",\"2022-03-30T00:00:00\",\"2022-02-28T00:00:00\",\"2022-01-30T00:00:00\",\"2021-12-30T00:00:00\",\"2021-11-30T00:00:00\",\"2021-10-30T00:00:00\",\"2021-09-30T00:00:00\",\"2021-08-30T00:00:00\",\"2021-07-30T00:00:00\",\"2021-06-30T00:00:00\",\"2021-05-30T00:00:00\",\"2021-04-30T00:00:00\",\"2021-03-30T00:00:00\",\"2021-02-28T00:00:00\",\"2021-01-30T00:00:00\",\"2020-12-30T00:00:00\",\"2020-11-30T00:00:00\",\"2020-10-30T00:00:00\",\"2020-09-30T00:00:00\",\"2020-08-30T00:00:00\",\"2020-07-30T00:00:00\",\"2020-06-30T00:00:00\",\"2020-05-30T00:00:00\",\"2020-04-30T00:00:00\",\"2020-03-30T00:00:00\",\"2020-02-20T00:00:00\",\"2020-01-30T00:00:00\"],\"xaxis\":\"x\",\"y\":[10966805,11465058,11502114,11905221,11724445,11303267,11455797,11227588,12258780,13507695,11896554,11484261,11183823,11280694,10892144,11675894,10204582,10489817,10772199,10302224,9939150,9677040,10292125,10656615,11322100,11828098,12359395,12917258,11271563,13552367],\"yaxis\":\"y\",\"type\":\"scatter\"},{\"hovertemplate\":\"Name=yu gi oh master duel<br>Month=%{x}<br>Average_Monthly_Players=%{y}<extra></extra>\",\"legendgroup\":\"yu gi oh master duel\",\"line\":{\"color\":\"#B6E880\",\"dash\":\"solid\"},\"marker\":{\"symbol\":\"circle\"},\"mode\":\"lines\",\"name\":\"yu gi oh master duel\",\"orientation\":\"v\",\"showlegend\":true,\"x\":[\"2022-06-30T00:00:00\",\"2022-05-30T00:00:00\",\"2022-04-30T00:00:00\",\"2022-03-30T00:00:00\",\"2022-02-28T00:00:00\",\"2022-01-30T00:00:00\",\"2021-12-30T00:00:00\",\"2021-11-30T00:00:00\",\"2021-10-30T00:00:00\",\"2021-09-30T00:00:00\",\"2021-08-30T00:00:00\",\"2021-07-30T00:00:00\",\"2021-06-30T00:00:00\",\"2021-05-30T00:00:00\",\"2021-04-30T00:00:00\",\"2021-03-30T00:00:00\",\"2021-02-28T00:00:00\",\"2021-01-30T00:00:00\",\"2020-12-30T00:00:00\",\"2020-11-30T00:00:00\",\"2020-10-30T00:00:00\",\"2020-09-30T00:00:00\",\"2020-08-30T00:00:00\",\"2020-07-30T00:00:00\",\"2020-06-30T00:00:00\",\"2020-05-30T00:00:00\",\"2020-04-30T00:00:00\",\"2020-03-30T00:00:00\",\"2020-02-20T00:00:00\",\"2020-01-30T00:00:00\"],\"xaxis\":\"x\",\"y\":[8365088,8740556,8950114,9101456,8980041,8375615,8634655,9360557,8817134,9639724,9005819,8658625,8405624,8487200,8160000,8820000,7581000,7821198,8058994,7663226,7357479,7136754,7654721,7961660,8522068,8948171,9395580,9865359,8479511,10952246],\"yaxis\":\"y\",\"type\":\"scatter\"},{\"hovertemplate\":\"Name=monster hunter series<br>Month=%{x}<br>Average_Monthly_Players=%{y}<extra></extra>\",\"legendgroup\":\"monster hunter series\",\"line\":{\"color\":\"#FF97FF\",\"dash\":\"solid\"},\"marker\":{\"symbol\":\"circle\"},\"mode\":\"lines\",\"name\":\"monster hunter series\",\"orientation\":\"v\",\"showlegend\":true,\"x\":[\"2022-06-30T00:00:00\",\"2022-05-30T00:00:00\",\"2022-04-30T00:00:00\",\"2022-05-30T00:00:00\",\"2022-02-28T00:00:00\",\"2022-01-30T00:00:00\",\"2021-12-30T00:00:00\",\"2021-11-30T00:00:00\",\"2021-10-30T00:00:00\",\"2021-09-30T00:00:00\",\"2021-08-30T00:00:00\",\"2021-07-30T00:00:00\",\"2021-06-30T00:00:00\",\"2021-05-30T00:00:00\",\"2021-04-30T00:00:00\",\"2021-03-30T00:00:00\",\"2021-02-28T00:00:00\",\"2021-01-30T00:00:00\",\"2020-12-30T00:00:00\",\"2020-11-30T00:00:00\"],\"xaxis\":\"x\",\"y\":[556200,525510,485554,460114,430152,450253,432056,530282,519884,509690,475202,373737,511875,591500,980000,1000000,1125000,960000,1273080,327818],\"yaxis\":\"y\",\"type\":\"scatter\"},{\"hovertemplate\":\"Name=team fortress 2 2<br>Month=%{x}<br>Average_Monthly_Players=%{y}<extra></extra>\",\"legendgroup\":\"team fortress 2 2\",\"line\":{\"color\":\"#FECB52\",\"dash\":\"solid\"},\"marker\":{\"symbol\":\"circle\"},\"mode\":\"lines\",\"name\":\"team fortress 2 2\",\"orientation\":\"v\",\"showlegend\":true,\"x\":[\"2022-06-30T00:00:00\",\"2022-05-30T00:00:00\",\"2022-04-30T00:00:00\",\"2022-03-30T00:00:00\",\"2022-02-28T00:00:00\",\"2022-01-30T00:00:00\",\"2021-12-30T00:00:00\",\"2021-11-30T00:00:00\",\"2021-10-30T00:00:00\",\"2021-09-30T00:00:00\",\"2021-08-30T00:00:00\",\"2021-07-30T00:00:00\",\"2021-06-30T00:00:00\",\"2021-05-30T00:00:00\",\"2021-04-30T00:00:00\",\"2021-03-30T00:00:00\",\"2021-02-28T00:00:00\",\"2021-01-30T00:00:00\",\"2020-12-30T00:00:00\",\"2020-11-30T00:00:00\",\"2020-10-30T00:00:00\",\"2020-09-30T00:00:00\",\"2020-08-30T00:00:00\",\"2020-07-30T00:00:00\",\"2020-06-30T00:00:00\",\"2020-05-30T00:00:00\",\"2020-04-30T00:00:00\",\"2020-03-30T00:00:00\",\"2020-02-28T00:00:00\",\"2020-01-30T00:00:00\",\"2020-12-30T00:00:00\",\"2019-11-30T00:00:00\",\"2019-10-30T00:00:00\",\"2019-09-30T00:00:00\",\"2019-08-30T00:00:00\",\"2019-07-30T00:00:00\",\"2019-06-30T00:00:00\",\"2019-05-30T00:00:00\",\"2019-04-30T00:00:00\",\"2019-03-30T00:00:00\",\"2019-02-28T00:00:00\",\"2019-01-30T00:00:00\"],\"xaxis\":\"x\",\"y\":[650321,602660,592014,610211,551056,547899,588330,585612,606924,571836,591006,327465,273342,307005,300381,285063,265995,258762,250617,210003,227373,213946,206201,214800,200316,206087,207303,210468,187956,186699,190158,157188,163896,151404,141885,153483,134360,123369,134595,143352,149453,158818],\"yaxis\":\"y\",\"type\":\"scatter\"}],                        {\"template\":{\"data\":{\"histogram2dcontour\":[{\"type\":\"histogram2dcontour\",\"colorbar\":{\"outlinewidth\":0,\"ticks\":\"\"},\"colorscale\":[[0.0,\"#0d0887\"],[0.1111111111111111,\"#46039f\"],[0.2222222222222222,\"#7201a8\"],[0.3333333333333333,\"#9c179e\"],[0.4444444444444444,\"#bd3786\"],[0.5555555555555556,\"#d8576b\"],[0.6666666666666666,\"#ed7953\"],[0.7777777777777778,\"#fb9f3a\"],[0.8888888888888888,\"#fdca26\"],[1.0,\"#f0f921\"]]}],\"choropleth\":[{\"type\":\"choropleth\",\"colorbar\":{\"outlinewidth\":0,\"ticks\":\"\"}}],\"histogram2d\":[{\"type\":\"histogram2d\",\"colorbar\":{\"outlinewidth\":0,\"ticks\":\"\"},\"colorscale\":[[0.0,\"#0d0887\"],[0.1111111111111111,\"#46039f\"],[0.2222222222222222,\"#7201a8\"],[0.3333333333333333,\"#9c179e\"],[0.4444444444444444,\"#bd3786\"],[0.5555555555555556,\"#d8576b\"],[0.6666666666666666,\"#ed7953\"],[0.7777777777777778,\"#fb9f3a\"],[0.8888888888888888,\"#fdca26\"],[1.0,\"#f0f921\"]]}],\"heatmap\":[{\"type\":\"heatmap\",\"colorbar\":{\"outlinewidth\":0,\"ticks\":\"\"},\"colorscale\":[[0.0,\"#0d0887\"],[0.1111111111111111,\"#46039f\"],[0.2222222222222222,\"#7201a8\"],[0.3333333333333333,\"#9c179e\"],[0.4444444444444444,\"#bd3786\"],[0.5555555555555556,\"#d8576b\"],[0.6666666666666666,\"#ed7953\"],[0.7777777777777778,\"#fb9f3a\"],[0.8888888888888888,\"#fdca26\"],[1.0,\"#f0f921\"]]}],\"heatmapgl\":[{\"type\":\"heatmapgl\",\"colorbar\":{\"outlinewidth\":0,\"ticks\":\"\"},\"colorscale\":[[0.0,\"#0d0887\"],[0.1111111111111111,\"#46039f\"],[0.2222222222222222,\"#7201a8\"],[0.3333333333333333,\"#9c179e\"],[0.4444444444444444,\"#bd3786\"],[0.5555555555555556,\"#d8576b\"],[0.6666666666666666,\"#ed7953\"],[0.7777777777777778,\"#fb9f3a\"],[0.8888888888888888,\"#fdca26\"],[1.0,\"#f0f921\"]]}],\"contourcarpet\":[{\"type\":\"contourcarpet\",\"colorbar\":{\"outlinewidth\":0,\"ticks\":\"\"}}],\"contour\":[{\"type\":\"contour\",\"colorbar\":{\"outlinewidth\":0,\"ticks\":\"\"},\"colorscale\":[[0.0,\"#0d0887\"],[0.1111111111111111,\"#46039f\"],[0.2222222222222222,\"#7201a8\"],[0.3333333333333333,\"#9c179e\"],[0.4444444444444444,\"#bd3786\"],[0.5555555555555556,\"#d8576b\"],[0.6666666666666666,\"#ed7953\"],[0.7777777777777778,\"#fb9f3a\"],[0.8888888888888888,\"#fdca26\"],[1.0,\"#f0f921\"]]}],\"surface\":[{\"type\":\"surface\",\"colorbar\":{\"outlinewidth\":0,\"ticks\":\"\"},\"colorscale\":[[0.0,\"#0d0887\"],[0.1111111111111111,\"#46039f\"],[0.2222222222222222,\"#7201a8\"],[0.3333333333333333,\"#9c179e\"],[0.4444444444444444,\"#bd3786\"],[0.5555555555555556,\"#d8576b\"],[0.6666666666666666,\"#ed7953\"],[0.7777777777777778,\"#fb9f3a\"],[0.8888888888888888,\"#fdca26\"],[1.0,\"#f0f921\"]]}],\"mesh3d\":[{\"type\":\"mesh3d\",\"colorbar\":{\"outlinewidth\":0,\"ticks\":\"\"}}],\"scatter\":[{\"fillpattern\":{\"fillmode\":\"overlay\",\"size\":10,\"solidity\":0.2},\"type\":\"scatter\"}],\"parcoords\":[{\"type\":\"parcoords\",\"line\":{\"colorbar\":{\"outlinewidth\":0,\"ticks\":\"\"}}}],\"scatterpolargl\":[{\"type\":\"scatterpolargl\",\"marker\":{\"colorbar\":{\"outlinewidth\":0,\"ticks\":\"\"}}}],\"bar\":[{\"error_x\":{\"color\":\"#2a3f5f\"},\"error_y\":{\"color\":\"#2a3f5f\"},\"marker\":{\"line\":{\"color\":\"#E5ECF6\",\"width\":0.5},\"pattern\":{\"fillmode\":\"overlay\",\"size\":10,\"solidity\":0.2}},\"type\":\"bar\"}],\"scattergeo\":[{\"type\":\"scattergeo\",\"marker\":{\"colorbar\":{\"outlinewidth\":0,\"ticks\":\"\"}}}],\"scatterpolar\":[{\"type\":\"scatterpolar\",\"marker\":{\"colorbar\":{\"outlinewidth\":0,\"ticks\":\"\"}}}],\"histogram\":[{\"marker\":{\"pattern\":{\"fillmode\":\"overlay\",\"size\":10,\"solidity\":0.2}},\"type\":\"histogram\"}],\"scattergl\":[{\"type\":\"scattergl\",\"marker\":{\"colorbar\":{\"outlinewidth\":0,\"ticks\":\"\"}}}],\"scatter3d\":[{\"type\":\"scatter3d\",\"line\":{\"colorbar\":{\"outlinewidth\":0,\"ticks\":\"\"}},\"marker\":{\"colorbar\":{\"outlinewidth\":0,\"ticks\":\"\"}}}],\"scattermapbox\":[{\"type\":\"scattermapbox\",\"marker\":{\"colorbar\":{\"outlinewidth\":0,\"ticks\":\"\"}}}],\"scatterternary\":[{\"type\":\"scatterternary\",\"marker\":{\"colorbar\":{\"outlinewidth\":0,\"ticks\":\"\"}}}],\"scattercarpet\":[{\"type\":\"scattercarpet\",\"marker\":{\"colorbar\":{\"outlinewidth\":0,\"ticks\":\"\"}}}],\"carpet\":[{\"aaxis\":{\"endlinecolor\":\"#2a3f5f\",\"gridcolor\":\"white\",\"linecolor\":\"white\",\"minorgridcolor\":\"white\",\"startlinecolor\":\"#2a3f5f\"},\"baxis\":{\"endlinecolor\":\"#2a3f5f\",\"gridcolor\":\"white\",\"linecolor\":\"white\",\"minorgridcolor\":\"white\",\"startlinecolor\":\"#2a3f5f\"},\"type\":\"carpet\"}],\"table\":[{\"cells\":{\"fill\":{\"color\":\"#EBF0F8\"},\"line\":{\"color\":\"white\"}},\"header\":{\"fill\":{\"color\":\"#C8D4E3\"},\"line\":{\"color\":\"white\"}},\"type\":\"table\"}],\"barpolar\":[{\"marker\":{\"line\":{\"color\":\"#E5ECF6\",\"width\":0.5},\"pattern\":{\"fillmode\":\"overlay\",\"size\":10,\"solidity\":0.2}},\"type\":\"barpolar\"}],\"pie\":[{\"automargin\":true,\"type\":\"pie\"}]},\"layout\":{\"autotypenumbers\":\"strict\",\"colorway\":[\"#636efa\",\"#EF553B\",\"#00cc96\",\"#ab63fa\",\"#FFA15A\",\"#19d3f3\",\"#FF6692\",\"#B6E880\",\"#FF97FF\",\"#FECB52\"],\"font\":{\"color\":\"#2a3f5f\"},\"hovermode\":\"closest\",\"hoverlabel\":{\"align\":\"left\"},\"paper_bgcolor\":\"white\",\"plot_bgcolor\":\"#E5ECF6\",\"polar\":{\"bgcolor\":\"#E5ECF6\",\"angularaxis\":{\"gridcolor\":\"white\",\"linecolor\":\"white\",\"ticks\":\"\"},\"radialaxis\":{\"gridcolor\":\"white\",\"linecolor\":\"white\",\"ticks\":\"\"}},\"ternary\":{\"bgcolor\":\"#E5ECF6\",\"aaxis\":{\"gridcolor\":\"white\",\"linecolor\":\"white\",\"ticks\":\"\"},\"baxis\":{\"gridcolor\":\"white\",\"linecolor\":\"white\",\"ticks\":\"\"},\"caxis\":{\"gridcolor\":\"white\",\"linecolor\":\"white\",\"ticks\":\"\"}},\"coloraxis\":{\"colorbar\":{\"outlinewidth\":0,\"ticks\":\"\"}},\"colorscale\":{\"sequential\":[[0.0,\"#0d0887\"],[0.1111111111111111,\"#46039f\"],[0.2222222222222222,\"#7201a8\"],[0.3333333333333333,\"#9c179e\"],[0.4444444444444444,\"#bd3786\"],[0.5555555555555556,\"#d8576b\"],[0.6666666666666666,\"#ed7953\"],[0.7777777777777778,\"#fb9f3a\"],[0.8888888888888888,\"#fdca26\"],[1.0,\"#f0f921\"]],\"sequentialminus\":[[0.0,\"#0d0887\"],[0.1111111111111111,\"#46039f\"],[0.2222222222222222,\"#7201a8\"],[0.3333333333333333,\"#9c179e\"],[0.4444444444444444,\"#bd3786\"],[0.5555555555555556,\"#d8576b\"],[0.6666666666666666,\"#ed7953\"],[0.7777777777777778,\"#fb9f3a\"],[0.8888888888888888,\"#fdca26\"],[1.0,\"#f0f921\"]],\"diverging\":[[0,\"#8e0152\"],[0.1,\"#c51b7d\"],[0.2,\"#de77ae\"],[0.3,\"#f1b6da\"],[0.4,\"#fde0ef\"],[0.5,\"#f7f7f7\"],[0.6,\"#e6f5d0\"],[0.7,\"#b8e186\"],[0.8,\"#7fbc41\"],[0.9,\"#4d9221\"],[1,\"#276419\"]]},\"xaxis\":{\"gridcolor\":\"white\",\"linecolor\":\"white\",\"ticks\":\"\",\"title\":{\"standoff\":15},\"zerolinecolor\":\"white\",\"automargin\":true,\"zerolinewidth\":2},\"yaxis\":{\"gridcolor\":\"white\",\"linecolor\":\"white\",\"ticks\":\"\",\"title\":{\"standoff\":15},\"zerolinecolor\":\"white\",\"automargin\":true,\"zerolinewidth\":2},\"scene\":{\"xaxis\":{\"backgroundcolor\":\"#E5ECF6\",\"gridcolor\":\"white\",\"linecolor\":\"white\",\"showbackground\":true,\"ticks\":\"\",\"zerolinecolor\":\"white\",\"gridwidth\":2},\"yaxis\":{\"backgroundcolor\":\"#E5ECF6\",\"gridcolor\":\"white\",\"linecolor\":\"white\",\"showbackground\":true,\"ticks\":\"\",\"zerolinecolor\":\"white\",\"gridwidth\":2},\"zaxis\":{\"backgroundcolor\":\"#E5ECF6\",\"gridcolor\":\"white\",\"linecolor\":\"white\",\"showbackground\":true,\"ticks\":\"\",\"zerolinecolor\":\"white\",\"gridwidth\":2}},\"shapedefaults\":{\"line\":{\"color\":\"#2a3f5f\"}},\"annotationdefaults\":{\"arrowcolor\":\"#2a3f5f\",\"arrowhead\":0,\"arrowwidth\":1},\"geo\":{\"bgcolor\":\"white\",\"landcolor\":\"#E5ECF6\",\"subunitcolor\":\"white\",\"showland\":true,\"showlakes\":true,\"lakecolor\":\"white\"},\"title\":{\"x\":0.05},\"mapbox\":{\"style\":\"light\"}}},\"xaxis\":{\"anchor\":\"y\",\"domain\":[0.0,1.0],\"title\":{\"text\":\"Month\"}},\"yaxis\":{\"anchor\":\"x\",\"domain\":[0.0,1.0],\"title\":{\"text\":\"Average_Monthly_Players\"}},\"legend\":{\"title\":{\"text\":\"Name\"},\"tracegroupgap\":0},\"margin\":{\"t\":60}},                        {\"responsive\": true}                    ).then(function(){\n                            \nvar gd = document.getElementById('c9980807-ed8e-4196-b5f1-da2a89508610');\nvar x = new MutationObserver(function (mutations, observer) {{\n        var display = window.getComputedStyle(gd).display;\n        if (!display || display === 'none') {{\n            console.log([gd, 'removed!']);\n            Plotly.purge(gd);\n            observer.disconnect();\n        }}\n}});\n\n// Listen for the removal of the full notebook cells\nvar notebookContainer = gd.closest('#notebook-container');\nif (notebookContainer) {{\n    x.observe(notebookContainer, {childList: true});\n}}\n\n// Listen for the clearing of the current output cell\nvar outputEl = gd.closest('.output');\nif (outputEl) {{\n    x.observe(outputEl, {childList: true});\n}}\n\n                        })                };                });            </script>        </div>"
     },
     "metadata": {},
     "output_type": "display_data"
    }
   ],
   "source": [
    "fig = px.line(game_player_count_df, x=\"Month\", y=\"Average_Monthly_Players\", color='Name')\n",
    "fig.show()"
   ],
   "metadata": {
    "collapsed": false,
    "pycharm": {
     "name": "#%%\n"
    }
   }
  },
  {
   "cell_type": "markdown",
   "source": [
    "As one can see:\n",
    "The popularity and therefore the Numbers of Players each Month before or After Covid 19 is only different for a few games or of crucial difference-\n",
    "- Games such as Elden Ring, v rising, monster hunter series and forza horizon 5 were not released yet or no data has been collected so there is no use for that to answer our question\n",
    "\n",
    "Lets take a look at the rest of the games:\n",
    "- Yu Gi Oh Masters always peaks in April (2020 and 2021) and before April 2020, the percentage of monthly avg players was at the lowest of all time that is covered in this dataset. Since the numbers do not vary a lot here we can say that in overall retrospective covid 19 did not impact this game.\n",
    "- Rust has more or less the same development like Yu Gi Oh\n",
    "- Splitgate peaked around the January 2021\n",
    "- Lost ark peaked during February 2022, which means that Covid did not influence the game positively or negatively.\n",
    "\n",
    "In conclusion, we can say that covid19 did not influence the popularity of one of these games significantly. Now the next question would be, if the Regulations during that time have influenced the Loss and Gain in a way ?"
   ],
   "metadata": {
    "collapsed": false,
    "pycharm": {
     "name": "#%% md\n"
    }
   }
  },
  {
   "cell_type": "markdown",
   "source": [
    "### During Covid 19"
   ],
   "metadata": {
    "collapsed": false,
    "pycharm": {
     "name": "#%% md\n"
    }
   }
  },
  {
   "cell_type": "code",
   "execution_count": 229,
   "outputs": [],
   "source": [
    "# next lets sort out the Months and only keep March till Mai 2020\n",
    "game_player_count_df = game_player_count_df[~(game_player_count_df['Month'] > '2020-05-31')]\n",
    "game_player_count_df = game_player_count_df[~(game_player_count_df['Month'] < '2020-02-29')]"
   ],
   "metadata": {
    "collapsed": false,
    "pycharm": {
     "name": "#%%\n"
    }
   }
  },
  {
   "cell_type": "code",
   "execution_count": 230,
   "outputs": [
    {
     "data": {
      "text/plain": "     Unnamed: 0                  Name      Month  Average_Monthly_Players  \\\n34           34              payday 2 2020-05-30                 10069419   \n35           35              payday 2 2020-04-30                  9065441   \n36           36              payday 2 2020-03-30                 10544021   \n71           71              lost ark 2020-05-30                   387379   \n72           72              lost ark 2020-04-30                   443829   \n73           73              lost ark 2020-03-30                   443694   \n101         101             splitgate 2020-05-30                   784035   \n102         102             splitgate 2020-04-30                   774020   \n103         103             splitgate 2020-03-30                   807566   \n134         134                  rust 2020-05-30                 11828098   \n135         135                  rust 2020-04-30                 12359395   \n136         136                  rust 2020-03-30                 12917258   \n164         164  yu gi oh master duel 2020-05-30                  8948171   \n165         165  yu gi oh master duel 2020-04-30                  9395580   \n166         166  yu gi oh master duel 2020-03-30                  9865359   \n214         214     team fortress 2 2 2020-05-30                   206087   \n215         215     team fortress 2 2 2020-04-30                   207303   \n216         216     team fortress 2 2 2020-03-30                   210468   \n\n     Monthly_Gain_Loss  Monthly_Gain_Loss_percentage  Max_Players_per_Day  \n34             1003978                         11.00            1342589.0  \n35            -1478580                        -14.00            1208725.0  \n36             1038481                         10.00            1405869.0  \n71              -56450                        -13.00             774758.0  \n72                 135                          0.00             887658.0  \n73               13853                          3.00             887388.0  \n101              10016                          1.29              78404.0  \n102             -33547                         -4.15              77402.0  \n103               9446                          1.18              80757.0  \n134            -531297                         -4.30             788540.0  \n135            -557863                         -4.32             823960.0  \n136            1645695                         14.60             861151.0  \n164            -447409                         -5.00            1193089.0  \n165            -469779                         -5.00            1252744.0  \n166            1385848                         16.00            1315381.0  \n214               -405                         -0.59              68696.0  \n215              -1054                         -1.50              69101.0  \n216               7503                         11.98              70156.0  ",
      "text/html": "<div>\n<style scoped>\n    .dataframe tbody tr th:only-of-type {\n        vertical-align: middle;\n    }\n\n    .dataframe tbody tr th {\n        vertical-align: top;\n    }\n\n    .dataframe thead th {\n        text-align: right;\n    }\n</style>\n<table border=\"1\" class=\"dataframe\">\n  <thead>\n    <tr style=\"text-align: right;\">\n      <th></th>\n      <th>Unnamed: 0</th>\n      <th>Name</th>\n      <th>Month</th>\n      <th>Average_Monthly_Players</th>\n      <th>Monthly_Gain_Loss</th>\n      <th>Monthly_Gain_Loss_percentage</th>\n      <th>Max_Players_per_Day</th>\n    </tr>\n  </thead>\n  <tbody>\n    <tr>\n      <th>34</th>\n      <td>34</td>\n      <td>payday 2</td>\n      <td>2020-05-30</td>\n      <td>10069419</td>\n      <td>1003978</td>\n      <td>11.00</td>\n      <td>1342589.0</td>\n    </tr>\n    <tr>\n      <th>35</th>\n      <td>35</td>\n      <td>payday 2</td>\n      <td>2020-04-30</td>\n      <td>9065441</td>\n      <td>-1478580</td>\n      <td>-14.00</td>\n      <td>1208725.0</td>\n    </tr>\n    <tr>\n      <th>36</th>\n      <td>36</td>\n      <td>payday 2</td>\n      <td>2020-03-30</td>\n      <td>10544021</td>\n      <td>1038481</td>\n      <td>10.00</td>\n      <td>1405869.0</td>\n    </tr>\n    <tr>\n      <th>71</th>\n      <td>71</td>\n      <td>lost ark</td>\n      <td>2020-05-30</td>\n      <td>387379</td>\n      <td>-56450</td>\n      <td>-13.00</td>\n      <td>774758.0</td>\n    </tr>\n    <tr>\n      <th>72</th>\n      <td>72</td>\n      <td>lost ark</td>\n      <td>2020-04-30</td>\n      <td>443829</td>\n      <td>135</td>\n      <td>0.00</td>\n      <td>887658.0</td>\n    </tr>\n    <tr>\n      <th>73</th>\n      <td>73</td>\n      <td>lost ark</td>\n      <td>2020-03-30</td>\n      <td>443694</td>\n      <td>13853</td>\n      <td>3.00</td>\n      <td>887388.0</td>\n    </tr>\n    <tr>\n      <th>101</th>\n      <td>101</td>\n      <td>splitgate</td>\n      <td>2020-05-30</td>\n      <td>784035</td>\n      <td>10016</td>\n      <td>1.29</td>\n      <td>78404.0</td>\n    </tr>\n    <tr>\n      <th>102</th>\n      <td>102</td>\n      <td>splitgate</td>\n      <td>2020-04-30</td>\n      <td>774020</td>\n      <td>-33547</td>\n      <td>-4.15</td>\n      <td>77402.0</td>\n    </tr>\n    <tr>\n      <th>103</th>\n      <td>103</td>\n      <td>splitgate</td>\n      <td>2020-03-30</td>\n      <td>807566</td>\n      <td>9446</td>\n      <td>1.18</td>\n      <td>80757.0</td>\n    </tr>\n    <tr>\n      <th>134</th>\n      <td>134</td>\n      <td>rust</td>\n      <td>2020-05-30</td>\n      <td>11828098</td>\n      <td>-531297</td>\n      <td>-4.30</td>\n      <td>788540.0</td>\n    </tr>\n    <tr>\n      <th>135</th>\n      <td>135</td>\n      <td>rust</td>\n      <td>2020-04-30</td>\n      <td>12359395</td>\n      <td>-557863</td>\n      <td>-4.32</td>\n      <td>823960.0</td>\n    </tr>\n    <tr>\n      <th>136</th>\n      <td>136</td>\n      <td>rust</td>\n      <td>2020-03-30</td>\n      <td>12917258</td>\n      <td>1645695</td>\n      <td>14.60</td>\n      <td>861151.0</td>\n    </tr>\n    <tr>\n      <th>164</th>\n      <td>164</td>\n      <td>yu gi oh master duel</td>\n      <td>2020-05-30</td>\n      <td>8948171</td>\n      <td>-447409</td>\n      <td>-5.00</td>\n      <td>1193089.0</td>\n    </tr>\n    <tr>\n      <th>165</th>\n      <td>165</td>\n      <td>yu gi oh master duel</td>\n      <td>2020-04-30</td>\n      <td>9395580</td>\n      <td>-469779</td>\n      <td>-5.00</td>\n      <td>1252744.0</td>\n    </tr>\n    <tr>\n      <th>166</th>\n      <td>166</td>\n      <td>yu gi oh master duel</td>\n      <td>2020-03-30</td>\n      <td>9865359</td>\n      <td>1385848</td>\n      <td>16.00</td>\n      <td>1315381.0</td>\n    </tr>\n    <tr>\n      <th>214</th>\n      <td>214</td>\n      <td>team fortress 2 2</td>\n      <td>2020-05-30</td>\n      <td>206087</td>\n      <td>-405</td>\n      <td>-0.59</td>\n      <td>68696.0</td>\n    </tr>\n    <tr>\n      <th>215</th>\n      <td>215</td>\n      <td>team fortress 2 2</td>\n      <td>2020-04-30</td>\n      <td>207303</td>\n      <td>-1054</td>\n      <td>-1.50</td>\n      <td>69101.0</td>\n    </tr>\n    <tr>\n      <th>216</th>\n      <td>216</td>\n      <td>team fortress 2 2</td>\n      <td>2020-03-30</td>\n      <td>210468</td>\n      <td>7503</td>\n      <td>11.98</td>\n      <td>70156.0</td>\n    </tr>\n  </tbody>\n</table>\n</div>"
     },
     "execution_count": 230,
     "metadata": {},
     "output_type": "execute_result"
    }
   ],
   "source": [
    "game_player_count_df"
   ],
   "metadata": {
    "collapsed": false,
    "pycharm": {
     "name": "#%%\n"
    }
   }
  },
  {
   "cell_type": "markdown",
   "source": [
    "\n",
    "To make sure that no duplicates are in the DataSet we checked and removed all of those."
   ],
   "metadata": {
    "collapsed": false
   }
  },
  {
   "cell_type": "code",
   "execution_count": 231,
   "outputs": [
    {
     "name": "stdout",
     "output_type": "stream",
     "text": [
      "34     False\n",
      "35     False\n",
      "36     False\n",
      "71     False\n",
      "72     False\n",
      "73     False\n",
      "101    False\n",
      "102    False\n",
      "103    False\n",
      "134    False\n",
      "135    False\n",
      "136    False\n",
      "164    False\n",
      "165    False\n",
      "166    False\n",
      "214    False\n",
      "215    False\n",
      "216    False\n",
      "dtype: bool\n"
     ]
    }
   ],
   "source": [
    "print(game_player_count_df.duplicated())"
   ],
   "metadata": {
    "collapsed": false,
    "pycharm": {
     "name": "#%%\n"
    }
   }
  },
  {
   "cell_type": "code",
   "execution_count": 232,
   "outputs": [
    {
     "name": "stdout",
     "output_type": "stream",
     "text": [
      "(18, 7)\n"
     ]
    }
   ],
   "source": [
    "game_player_count_df.drop_duplicates(inplace=True)\n",
    "print(game_player_count_df.shape)"
   ],
   "metadata": {
    "collapsed": false,
    "pycharm": {
     "name": "#%%\n"
    }
   }
  },
  {
   "cell_type": "markdown",
   "source": [
    "Even after the Removal of duplicates and NA-Rows, we still have the same amount of Data present.\n",
    "\n",
    "Now that the DataFrame/DataSet we are using is cleaned and checked through , lets take a look at the Correlations of our Columns. To make sure, that we are able to do that , we have to check if all the Columns are really numerical values and no simple objects. If they are not, we have to change that."
   ],
   "metadata": {
    "collapsed": false
   }
  },
  {
   "cell_type": "code",
   "execution_count": 233,
   "outputs": [
    {
     "data": {
      "text/plain": "Unnamed: 0                               int64\nName                                    object\nMonth                           datetime64[ns]\nAverage_Monthly_Players                  int64\nMonthly_Gain_Loss                        int64\nMonthly_Gain_Loss_percentage           float64\nMax_Players_per_Day                    float64\ndtype: object"
     },
     "execution_count": 233,
     "metadata": {},
     "output_type": "execute_result"
    }
   ],
   "source": [
    "game_player_count_df.dtypes"
   ],
   "metadata": {
    "collapsed": false,
    "pycharm": {
     "name": "#%%\n"
    }
   }
  },
  {
   "cell_type": "code",
   "execution_count": 234,
   "outputs": [
    {
     "data": {
      "text/plain": "                              Unnamed: 0  Average_Monthly_Players  \\\nUnnamed: 0                      1.000000                -0.146654   \nAverage_Monthly_Players        -0.146654                 1.000000   \nMonthly_Gain_Loss              -0.015906                 0.182985   \nMonthly_Gain_Loss_percentage    0.139877                 0.180713   \nMax_Players_per_Day            -0.456576                 0.730090   \n\n                              Monthly_Gain_Loss  Monthly_Gain_Loss_percentage  \\\nUnnamed: 0                            -0.015906                      0.139877   \nAverage_Monthly_Players                0.182985                      0.180713   \nMonthly_Gain_Loss                      1.000000                      0.860949   \nMonthly_Gain_Loss_percentage           0.860949                      1.000000   \nMax_Players_per_Day                    0.164873                      0.089805   \n\n                              Max_Players_per_Day  \nUnnamed: 0                              -0.456576  \nAverage_Monthly_Players                  0.730090  \nMonthly_Gain_Loss                        0.164873  \nMonthly_Gain_Loss_percentage             0.089805  \nMax_Players_per_Day                      1.000000  ",
      "text/html": "<div>\n<style scoped>\n    .dataframe tbody tr th:only-of-type {\n        vertical-align: middle;\n    }\n\n    .dataframe tbody tr th {\n        vertical-align: top;\n    }\n\n    .dataframe thead th {\n        text-align: right;\n    }\n</style>\n<table border=\"1\" class=\"dataframe\">\n  <thead>\n    <tr style=\"text-align: right;\">\n      <th></th>\n      <th>Unnamed: 0</th>\n      <th>Average_Monthly_Players</th>\n      <th>Monthly_Gain_Loss</th>\n      <th>Monthly_Gain_Loss_percentage</th>\n      <th>Max_Players_per_Day</th>\n    </tr>\n  </thead>\n  <tbody>\n    <tr>\n      <th>Unnamed: 0</th>\n      <td>1.000000</td>\n      <td>-0.146654</td>\n      <td>-0.015906</td>\n      <td>0.139877</td>\n      <td>-0.456576</td>\n    </tr>\n    <tr>\n      <th>Average_Monthly_Players</th>\n      <td>-0.146654</td>\n      <td>1.000000</td>\n      <td>0.182985</td>\n      <td>0.180713</td>\n      <td>0.730090</td>\n    </tr>\n    <tr>\n      <th>Monthly_Gain_Loss</th>\n      <td>-0.015906</td>\n      <td>0.182985</td>\n      <td>1.000000</td>\n      <td>0.860949</td>\n      <td>0.164873</td>\n    </tr>\n    <tr>\n      <th>Monthly_Gain_Loss_percentage</th>\n      <td>0.139877</td>\n      <td>0.180713</td>\n      <td>0.860949</td>\n      <td>1.000000</td>\n      <td>0.089805</td>\n    </tr>\n    <tr>\n      <th>Max_Players_per_Day</th>\n      <td>-0.456576</td>\n      <td>0.730090</td>\n      <td>0.164873</td>\n      <td>0.089805</td>\n      <td>1.000000</td>\n    </tr>\n  </tbody>\n</table>\n</div>"
     },
     "execution_count": 234,
     "metadata": {},
     "output_type": "execute_result"
    }
   ],
   "source": [
    "game_player_count_df.corr(method ='pearson')"
   ],
   "metadata": {
    "collapsed": false,
    "pycharm": {
     "name": "#%%\n"
    }
   }
  },
  {
   "cell_type": "markdown",
   "source": [
    "In case of interpretation the correlation did not help us at all, since the correlation in our case is just a mathematical correlation."
   ],
   "metadata": {
    "collapsed": false,
    "pycharm": {
     "name": "#%% md\n"
    }
   }
  },
  {
   "cell_type": "code",
   "execution_count": 235,
   "outputs": [
    {
     "data": {
      "application/vnd.plotly.v1+json": {
       "data": [
        {
         "hovertemplate": "Name=payday 2<br>Month=%{x}<br>Monthly_Gain_Loss_percentage=%{y}<extra></extra>",
         "legendgroup": "payday 2",
         "line": {
          "color": "#636efa",
          "dash": "solid"
         },
         "marker": {
          "symbol": "circle"
         },
         "mode": "lines",
         "name": "payday 2",
         "orientation": "v",
         "showlegend": true,
         "x": [
          "2020-05-30T00:00:00",
          "2020-04-30T00:00:00",
          "2020-03-30T00:00:00"
         ],
         "xaxis": "x",
         "y": [
          11.0,
          -14.0,
          10.0
         ],
         "yaxis": "y",
         "type": "scatter"
        },
        {
         "hovertemplate": "Name=lost ark<br>Month=%{x}<br>Monthly_Gain_Loss_percentage=%{y}<extra></extra>",
         "legendgroup": "lost ark",
         "line": {
          "color": "#EF553B",
          "dash": "solid"
         },
         "marker": {
          "symbol": "circle"
         },
         "mode": "lines",
         "name": "lost ark",
         "orientation": "v",
         "showlegend": true,
         "x": [
          "2020-05-30T00:00:00",
          "2020-04-30T00:00:00",
          "2020-03-30T00:00:00"
         ],
         "xaxis": "x",
         "y": [
          -13.0,
          0.0,
          3.0
         ],
         "yaxis": "y",
         "type": "scatter"
        },
        {
         "hovertemplate": "Name=splitgate<br>Month=%{x}<br>Monthly_Gain_Loss_percentage=%{y}<extra></extra>",
         "legendgroup": "splitgate",
         "line": {
          "color": "#00cc96",
          "dash": "solid"
         },
         "marker": {
          "symbol": "circle"
         },
         "mode": "lines",
         "name": "splitgate",
         "orientation": "v",
         "showlegend": true,
         "x": [
          "2020-05-30T00:00:00",
          "2020-04-30T00:00:00",
          "2020-03-30T00:00:00"
         ],
         "xaxis": "x",
         "y": [
          1.29,
          -4.15,
          1.18
         ],
         "yaxis": "y",
         "type": "scatter"
        },
        {
         "hovertemplate": "Name=rust<br>Month=%{x}<br>Monthly_Gain_Loss_percentage=%{y}<extra></extra>",
         "legendgroup": "rust",
         "line": {
          "color": "#ab63fa",
          "dash": "solid"
         },
         "marker": {
          "symbol": "circle"
         },
         "mode": "lines",
         "name": "rust",
         "orientation": "v",
         "showlegend": true,
         "x": [
          "2020-05-30T00:00:00",
          "2020-04-30T00:00:00",
          "2020-03-30T00:00:00"
         ],
         "xaxis": "x",
         "y": [
          -4.3,
          -4.32,
          14.6
         ],
         "yaxis": "y",
         "type": "scatter"
        },
        {
         "hovertemplate": "Name=yu gi oh master duel<br>Month=%{x}<br>Monthly_Gain_Loss_percentage=%{y}<extra></extra>",
         "legendgroup": "yu gi oh master duel",
         "line": {
          "color": "#FFA15A",
          "dash": "solid"
         },
         "marker": {
          "symbol": "circle"
         },
         "mode": "lines",
         "name": "yu gi oh master duel",
         "orientation": "v",
         "showlegend": true,
         "x": [
          "2020-05-30T00:00:00",
          "2020-04-30T00:00:00",
          "2020-03-30T00:00:00"
         ],
         "xaxis": "x",
         "y": [
          -5.0,
          -5.0,
          16.0
         ],
         "yaxis": "y",
         "type": "scatter"
        },
        {
         "hovertemplate": "Name=team fortress 2 2<br>Month=%{x}<br>Monthly_Gain_Loss_percentage=%{y}<extra></extra>",
         "legendgroup": "team fortress 2 2",
         "line": {
          "color": "#19d3f3",
          "dash": "solid"
         },
         "marker": {
          "symbol": "circle"
         },
         "mode": "lines",
         "name": "team fortress 2 2",
         "orientation": "v",
         "showlegend": true,
         "x": [
          "2020-05-30T00:00:00",
          "2020-04-30T00:00:00",
          "2020-03-30T00:00:00"
         ],
         "xaxis": "x",
         "y": [
          -0.59,
          -1.5,
          11.98
         ],
         "yaxis": "y",
         "type": "scatter"
        }
       ],
       "layout": {
        "template": {
         "data": {
          "histogram2dcontour": [
           {
            "type": "histogram2dcontour",
            "colorbar": {
             "outlinewidth": 0,
             "ticks": ""
            },
            "colorscale": [
             [
              0.0,
              "#0d0887"
             ],
             [
              0.1111111111111111,
              "#46039f"
             ],
             [
              0.2222222222222222,
              "#7201a8"
             ],
             [
              0.3333333333333333,
              "#9c179e"
             ],
             [
              0.4444444444444444,
              "#bd3786"
             ],
             [
              0.5555555555555556,
              "#d8576b"
             ],
             [
              0.6666666666666666,
              "#ed7953"
             ],
             [
              0.7777777777777778,
              "#fb9f3a"
             ],
             [
              0.8888888888888888,
              "#fdca26"
             ],
             [
              1.0,
              "#f0f921"
             ]
            ]
           }
          ],
          "choropleth": [
           {
            "type": "choropleth",
            "colorbar": {
             "outlinewidth": 0,
             "ticks": ""
            }
           }
          ],
          "histogram2d": [
           {
            "type": "histogram2d",
            "colorbar": {
             "outlinewidth": 0,
             "ticks": ""
            },
            "colorscale": [
             [
              0.0,
              "#0d0887"
             ],
             [
              0.1111111111111111,
              "#46039f"
             ],
             [
              0.2222222222222222,
              "#7201a8"
             ],
             [
              0.3333333333333333,
              "#9c179e"
             ],
             [
              0.4444444444444444,
              "#bd3786"
             ],
             [
              0.5555555555555556,
              "#d8576b"
             ],
             [
              0.6666666666666666,
              "#ed7953"
             ],
             [
              0.7777777777777778,
              "#fb9f3a"
             ],
             [
              0.8888888888888888,
              "#fdca26"
             ],
             [
              1.0,
              "#f0f921"
             ]
            ]
           }
          ],
          "heatmap": [
           {
            "type": "heatmap",
            "colorbar": {
             "outlinewidth": 0,
             "ticks": ""
            },
            "colorscale": [
             [
              0.0,
              "#0d0887"
             ],
             [
              0.1111111111111111,
              "#46039f"
             ],
             [
              0.2222222222222222,
              "#7201a8"
             ],
             [
              0.3333333333333333,
              "#9c179e"
             ],
             [
              0.4444444444444444,
              "#bd3786"
             ],
             [
              0.5555555555555556,
              "#d8576b"
             ],
             [
              0.6666666666666666,
              "#ed7953"
             ],
             [
              0.7777777777777778,
              "#fb9f3a"
             ],
             [
              0.8888888888888888,
              "#fdca26"
             ],
             [
              1.0,
              "#f0f921"
             ]
            ]
           }
          ],
          "heatmapgl": [
           {
            "type": "heatmapgl",
            "colorbar": {
             "outlinewidth": 0,
             "ticks": ""
            },
            "colorscale": [
             [
              0.0,
              "#0d0887"
             ],
             [
              0.1111111111111111,
              "#46039f"
             ],
             [
              0.2222222222222222,
              "#7201a8"
             ],
             [
              0.3333333333333333,
              "#9c179e"
             ],
             [
              0.4444444444444444,
              "#bd3786"
             ],
             [
              0.5555555555555556,
              "#d8576b"
             ],
             [
              0.6666666666666666,
              "#ed7953"
             ],
             [
              0.7777777777777778,
              "#fb9f3a"
             ],
             [
              0.8888888888888888,
              "#fdca26"
             ],
             [
              1.0,
              "#f0f921"
             ]
            ]
           }
          ],
          "contourcarpet": [
           {
            "type": "contourcarpet",
            "colorbar": {
             "outlinewidth": 0,
             "ticks": ""
            }
           }
          ],
          "contour": [
           {
            "type": "contour",
            "colorbar": {
             "outlinewidth": 0,
             "ticks": ""
            },
            "colorscale": [
             [
              0.0,
              "#0d0887"
             ],
             [
              0.1111111111111111,
              "#46039f"
             ],
             [
              0.2222222222222222,
              "#7201a8"
             ],
             [
              0.3333333333333333,
              "#9c179e"
             ],
             [
              0.4444444444444444,
              "#bd3786"
             ],
             [
              0.5555555555555556,
              "#d8576b"
             ],
             [
              0.6666666666666666,
              "#ed7953"
             ],
             [
              0.7777777777777778,
              "#fb9f3a"
             ],
             [
              0.8888888888888888,
              "#fdca26"
             ],
             [
              1.0,
              "#f0f921"
             ]
            ]
           }
          ],
          "surface": [
           {
            "type": "surface",
            "colorbar": {
             "outlinewidth": 0,
             "ticks": ""
            },
            "colorscale": [
             [
              0.0,
              "#0d0887"
             ],
             [
              0.1111111111111111,
              "#46039f"
             ],
             [
              0.2222222222222222,
              "#7201a8"
             ],
             [
              0.3333333333333333,
              "#9c179e"
             ],
             [
              0.4444444444444444,
              "#bd3786"
             ],
             [
              0.5555555555555556,
              "#d8576b"
             ],
             [
              0.6666666666666666,
              "#ed7953"
             ],
             [
              0.7777777777777778,
              "#fb9f3a"
             ],
             [
              0.8888888888888888,
              "#fdca26"
             ],
             [
              1.0,
              "#f0f921"
             ]
            ]
           }
          ],
          "mesh3d": [
           {
            "type": "mesh3d",
            "colorbar": {
             "outlinewidth": 0,
             "ticks": ""
            }
           }
          ],
          "scatter": [
           {
            "fillpattern": {
             "fillmode": "overlay",
             "size": 10,
             "solidity": 0.2
            },
            "type": "scatter"
           }
          ],
          "parcoords": [
           {
            "type": "parcoords",
            "line": {
             "colorbar": {
              "outlinewidth": 0,
              "ticks": ""
             }
            }
           }
          ],
          "scatterpolargl": [
           {
            "type": "scatterpolargl",
            "marker": {
             "colorbar": {
              "outlinewidth": 0,
              "ticks": ""
             }
            }
           }
          ],
          "bar": [
           {
            "error_x": {
             "color": "#2a3f5f"
            },
            "error_y": {
             "color": "#2a3f5f"
            },
            "marker": {
             "line": {
              "color": "#E5ECF6",
              "width": 0.5
             },
             "pattern": {
              "fillmode": "overlay",
              "size": 10,
              "solidity": 0.2
             }
            },
            "type": "bar"
           }
          ],
          "scattergeo": [
           {
            "type": "scattergeo",
            "marker": {
             "colorbar": {
              "outlinewidth": 0,
              "ticks": ""
             }
            }
           }
          ],
          "scatterpolar": [
           {
            "type": "scatterpolar",
            "marker": {
             "colorbar": {
              "outlinewidth": 0,
              "ticks": ""
             }
            }
           }
          ],
          "histogram": [
           {
            "marker": {
             "pattern": {
              "fillmode": "overlay",
              "size": 10,
              "solidity": 0.2
             }
            },
            "type": "histogram"
           }
          ],
          "scattergl": [
           {
            "type": "scattergl",
            "marker": {
             "colorbar": {
              "outlinewidth": 0,
              "ticks": ""
             }
            }
           }
          ],
          "scatter3d": [
           {
            "type": "scatter3d",
            "line": {
             "colorbar": {
              "outlinewidth": 0,
              "ticks": ""
             }
            },
            "marker": {
             "colorbar": {
              "outlinewidth": 0,
              "ticks": ""
             }
            }
           }
          ],
          "scattermapbox": [
           {
            "type": "scattermapbox",
            "marker": {
             "colorbar": {
              "outlinewidth": 0,
              "ticks": ""
             }
            }
           }
          ],
          "scatterternary": [
           {
            "type": "scatterternary",
            "marker": {
             "colorbar": {
              "outlinewidth": 0,
              "ticks": ""
             }
            }
           }
          ],
          "scattercarpet": [
           {
            "type": "scattercarpet",
            "marker": {
             "colorbar": {
              "outlinewidth": 0,
              "ticks": ""
             }
            }
           }
          ],
          "carpet": [
           {
            "aaxis": {
             "endlinecolor": "#2a3f5f",
             "gridcolor": "white",
             "linecolor": "white",
             "minorgridcolor": "white",
             "startlinecolor": "#2a3f5f"
            },
            "baxis": {
             "endlinecolor": "#2a3f5f",
             "gridcolor": "white",
             "linecolor": "white",
             "minorgridcolor": "white",
             "startlinecolor": "#2a3f5f"
            },
            "type": "carpet"
           }
          ],
          "table": [
           {
            "cells": {
             "fill": {
              "color": "#EBF0F8"
             },
             "line": {
              "color": "white"
             }
            },
            "header": {
             "fill": {
              "color": "#C8D4E3"
             },
             "line": {
              "color": "white"
             }
            },
            "type": "table"
           }
          ],
          "barpolar": [
           {
            "marker": {
             "line": {
              "color": "#E5ECF6",
              "width": 0.5
             },
             "pattern": {
              "fillmode": "overlay",
              "size": 10,
              "solidity": 0.2
             }
            },
            "type": "barpolar"
           }
          ],
          "pie": [
           {
            "automargin": true,
            "type": "pie"
           }
          ]
         },
         "layout": {
          "autotypenumbers": "strict",
          "colorway": [
           "#636efa",
           "#EF553B",
           "#00cc96",
           "#ab63fa",
           "#FFA15A",
           "#19d3f3",
           "#FF6692",
           "#B6E880",
           "#FF97FF",
           "#FECB52"
          ],
          "font": {
           "color": "#2a3f5f"
          },
          "hovermode": "closest",
          "hoverlabel": {
           "align": "left"
          },
          "paper_bgcolor": "white",
          "plot_bgcolor": "#E5ECF6",
          "polar": {
           "bgcolor": "#E5ECF6",
           "angularaxis": {
            "gridcolor": "white",
            "linecolor": "white",
            "ticks": ""
           },
           "radialaxis": {
            "gridcolor": "white",
            "linecolor": "white",
            "ticks": ""
           }
          },
          "ternary": {
           "bgcolor": "#E5ECF6",
           "aaxis": {
            "gridcolor": "white",
            "linecolor": "white",
            "ticks": ""
           },
           "baxis": {
            "gridcolor": "white",
            "linecolor": "white",
            "ticks": ""
           },
           "caxis": {
            "gridcolor": "white",
            "linecolor": "white",
            "ticks": ""
           }
          },
          "coloraxis": {
           "colorbar": {
            "outlinewidth": 0,
            "ticks": ""
           }
          },
          "colorscale": {
           "sequential": [
            [
             0.0,
             "#0d0887"
            ],
            [
             0.1111111111111111,
             "#46039f"
            ],
            [
             0.2222222222222222,
             "#7201a8"
            ],
            [
             0.3333333333333333,
             "#9c179e"
            ],
            [
             0.4444444444444444,
             "#bd3786"
            ],
            [
             0.5555555555555556,
             "#d8576b"
            ],
            [
             0.6666666666666666,
             "#ed7953"
            ],
            [
             0.7777777777777778,
             "#fb9f3a"
            ],
            [
             0.8888888888888888,
             "#fdca26"
            ],
            [
             1.0,
             "#f0f921"
            ]
           ],
           "sequentialminus": [
            [
             0.0,
             "#0d0887"
            ],
            [
             0.1111111111111111,
             "#46039f"
            ],
            [
             0.2222222222222222,
             "#7201a8"
            ],
            [
             0.3333333333333333,
             "#9c179e"
            ],
            [
             0.4444444444444444,
             "#bd3786"
            ],
            [
             0.5555555555555556,
             "#d8576b"
            ],
            [
             0.6666666666666666,
             "#ed7953"
            ],
            [
             0.7777777777777778,
             "#fb9f3a"
            ],
            [
             0.8888888888888888,
             "#fdca26"
            ],
            [
             1.0,
             "#f0f921"
            ]
           ],
           "diverging": [
            [
             0,
             "#8e0152"
            ],
            [
             0.1,
             "#c51b7d"
            ],
            [
             0.2,
             "#de77ae"
            ],
            [
             0.3,
             "#f1b6da"
            ],
            [
             0.4,
             "#fde0ef"
            ],
            [
             0.5,
             "#f7f7f7"
            ],
            [
             0.6,
             "#e6f5d0"
            ],
            [
             0.7,
             "#b8e186"
            ],
            [
             0.8,
             "#7fbc41"
            ],
            [
             0.9,
             "#4d9221"
            ],
            [
             1,
             "#276419"
            ]
           ]
          },
          "xaxis": {
           "gridcolor": "white",
           "linecolor": "white",
           "ticks": "",
           "title": {
            "standoff": 15
           },
           "zerolinecolor": "white",
           "automargin": true,
           "zerolinewidth": 2
          },
          "yaxis": {
           "gridcolor": "white",
           "linecolor": "white",
           "ticks": "",
           "title": {
            "standoff": 15
           },
           "zerolinecolor": "white",
           "automargin": true,
           "zerolinewidth": 2
          },
          "scene": {
           "xaxis": {
            "backgroundcolor": "#E5ECF6",
            "gridcolor": "white",
            "linecolor": "white",
            "showbackground": true,
            "ticks": "",
            "zerolinecolor": "white",
            "gridwidth": 2
           },
           "yaxis": {
            "backgroundcolor": "#E5ECF6",
            "gridcolor": "white",
            "linecolor": "white",
            "showbackground": true,
            "ticks": "",
            "zerolinecolor": "white",
            "gridwidth": 2
           },
           "zaxis": {
            "backgroundcolor": "#E5ECF6",
            "gridcolor": "white",
            "linecolor": "white",
            "showbackground": true,
            "ticks": "",
            "zerolinecolor": "white",
            "gridwidth": 2
           }
          },
          "shapedefaults": {
           "line": {
            "color": "#2a3f5f"
           }
          },
          "annotationdefaults": {
           "arrowcolor": "#2a3f5f",
           "arrowhead": 0,
           "arrowwidth": 1
          },
          "geo": {
           "bgcolor": "white",
           "landcolor": "#E5ECF6",
           "subunitcolor": "white",
           "showland": true,
           "showlakes": true,
           "lakecolor": "white"
          },
          "title": {
           "x": 0.05
          },
          "mapbox": {
           "style": "light"
          }
         }
        },
        "xaxis": {
         "anchor": "y",
         "domain": [
          0.0,
          1.0
         ],
         "title": {
          "text": "Month"
         }
        },
        "yaxis": {
         "anchor": "x",
         "domain": [
          0.0,
          1.0
         ],
         "title": {
          "text": "Monthly_Gain_Loss_percentage"
         }
        },
        "legend": {
         "title": {
          "text": "Name"
         },
         "tracegroupgap": 0
        },
        "margin": {
         "t": 60
        }
       },
       "config": {
        "plotlyServerURL": "https://plot.ly"
       }
      },
      "text/html": "<div>                            <div id=\"b5250d95-b7d5-494e-a181-420f0020e02e\" class=\"plotly-graph-div\" style=\"height:525px; width:100%;\"></div>            <script type=\"text/javascript\">                require([\"plotly\"], function(Plotly) {                    window.PLOTLYENV=window.PLOTLYENV || {};                                    if (document.getElementById(\"b5250d95-b7d5-494e-a181-420f0020e02e\")) {                    Plotly.newPlot(                        \"b5250d95-b7d5-494e-a181-420f0020e02e\",                        [{\"hovertemplate\":\"Name=payday 2<br>Month=%{x}<br>Monthly_Gain_Loss_percentage=%{y}<extra></extra>\",\"legendgroup\":\"payday 2\",\"line\":{\"color\":\"#636efa\",\"dash\":\"solid\"},\"marker\":{\"symbol\":\"circle\"},\"mode\":\"lines\",\"name\":\"payday 2\",\"orientation\":\"v\",\"showlegend\":true,\"x\":[\"2020-05-30T00:00:00\",\"2020-04-30T00:00:00\",\"2020-03-30T00:00:00\"],\"xaxis\":\"x\",\"y\":[11.0,-14.0,10.0],\"yaxis\":\"y\",\"type\":\"scatter\"},{\"hovertemplate\":\"Name=lost ark<br>Month=%{x}<br>Monthly_Gain_Loss_percentage=%{y}<extra></extra>\",\"legendgroup\":\"lost ark\",\"line\":{\"color\":\"#EF553B\",\"dash\":\"solid\"},\"marker\":{\"symbol\":\"circle\"},\"mode\":\"lines\",\"name\":\"lost ark\",\"orientation\":\"v\",\"showlegend\":true,\"x\":[\"2020-05-30T00:00:00\",\"2020-04-30T00:00:00\",\"2020-03-30T00:00:00\"],\"xaxis\":\"x\",\"y\":[-13.0,0.0,3.0],\"yaxis\":\"y\",\"type\":\"scatter\"},{\"hovertemplate\":\"Name=splitgate<br>Month=%{x}<br>Monthly_Gain_Loss_percentage=%{y}<extra></extra>\",\"legendgroup\":\"splitgate\",\"line\":{\"color\":\"#00cc96\",\"dash\":\"solid\"},\"marker\":{\"symbol\":\"circle\"},\"mode\":\"lines\",\"name\":\"splitgate\",\"orientation\":\"v\",\"showlegend\":true,\"x\":[\"2020-05-30T00:00:00\",\"2020-04-30T00:00:00\",\"2020-03-30T00:00:00\"],\"xaxis\":\"x\",\"y\":[1.29,-4.15,1.18],\"yaxis\":\"y\",\"type\":\"scatter\"},{\"hovertemplate\":\"Name=rust<br>Month=%{x}<br>Monthly_Gain_Loss_percentage=%{y}<extra></extra>\",\"legendgroup\":\"rust\",\"line\":{\"color\":\"#ab63fa\",\"dash\":\"solid\"},\"marker\":{\"symbol\":\"circle\"},\"mode\":\"lines\",\"name\":\"rust\",\"orientation\":\"v\",\"showlegend\":true,\"x\":[\"2020-05-30T00:00:00\",\"2020-04-30T00:00:00\",\"2020-03-30T00:00:00\"],\"xaxis\":\"x\",\"y\":[-4.3,-4.32,14.6],\"yaxis\":\"y\",\"type\":\"scatter\"},{\"hovertemplate\":\"Name=yu gi oh master duel<br>Month=%{x}<br>Monthly_Gain_Loss_percentage=%{y}<extra></extra>\",\"legendgroup\":\"yu gi oh master duel\",\"line\":{\"color\":\"#FFA15A\",\"dash\":\"solid\"},\"marker\":{\"symbol\":\"circle\"},\"mode\":\"lines\",\"name\":\"yu gi oh master duel\",\"orientation\":\"v\",\"showlegend\":true,\"x\":[\"2020-05-30T00:00:00\",\"2020-04-30T00:00:00\",\"2020-03-30T00:00:00\"],\"xaxis\":\"x\",\"y\":[-5.0,-5.0,16.0],\"yaxis\":\"y\",\"type\":\"scatter\"},{\"hovertemplate\":\"Name=team fortress 2 2<br>Month=%{x}<br>Monthly_Gain_Loss_percentage=%{y}<extra></extra>\",\"legendgroup\":\"team fortress 2 2\",\"line\":{\"color\":\"#19d3f3\",\"dash\":\"solid\"},\"marker\":{\"symbol\":\"circle\"},\"mode\":\"lines\",\"name\":\"team fortress 2 2\",\"orientation\":\"v\",\"showlegend\":true,\"x\":[\"2020-05-30T00:00:00\",\"2020-04-30T00:00:00\",\"2020-03-30T00:00:00\"],\"xaxis\":\"x\",\"y\":[-0.59,-1.5,11.98],\"yaxis\":\"y\",\"type\":\"scatter\"}],                        {\"template\":{\"data\":{\"histogram2dcontour\":[{\"type\":\"histogram2dcontour\",\"colorbar\":{\"outlinewidth\":0,\"ticks\":\"\"},\"colorscale\":[[0.0,\"#0d0887\"],[0.1111111111111111,\"#46039f\"],[0.2222222222222222,\"#7201a8\"],[0.3333333333333333,\"#9c179e\"],[0.4444444444444444,\"#bd3786\"],[0.5555555555555556,\"#d8576b\"],[0.6666666666666666,\"#ed7953\"],[0.7777777777777778,\"#fb9f3a\"],[0.8888888888888888,\"#fdca26\"],[1.0,\"#f0f921\"]]}],\"choropleth\":[{\"type\":\"choropleth\",\"colorbar\":{\"outlinewidth\":0,\"ticks\":\"\"}}],\"histogram2d\":[{\"type\":\"histogram2d\",\"colorbar\":{\"outlinewidth\":0,\"ticks\":\"\"},\"colorscale\":[[0.0,\"#0d0887\"],[0.1111111111111111,\"#46039f\"],[0.2222222222222222,\"#7201a8\"],[0.3333333333333333,\"#9c179e\"],[0.4444444444444444,\"#bd3786\"],[0.5555555555555556,\"#d8576b\"],[0.6666666666666666,\"#ed7953\"],[0.7777777777777778,\"#fb9f3a\"],[0.8888888888888888,\"#fdca26\"],[1.0,\"#f0f921\"]]}],\"heatmap\":[{\"type\":\"heatmap\",\"colorbar\":{\"outlinewidth\":0,\"ticks\":\"\"},\"colorscale\":[[0.0,\"#0d0887\"],[0.1111111111111111,\"#46039f\"],[0.2222222222222222,\"#7201a8\"],[0.3333333333333333,\"#9c179e\"],[0.4444444444444444,\"#bd3786\"],[0.5555555555555556,\"#d8576b\"],[0.6666666666666666,\"#ed7953\"],[0.7777777777777778,\"#fb9f3a\"],[0.8888888888888888,\"#fdca26\"],[1.0,\"#f0f921\"]]}],\"heatmapgl\":[{\"type\":\"heatmapgl\",\"colorbar\":{\"outlinewidth\":0,\"ticks\":\"\"},\"colorscale\":[[0.0,\"#0d0887\"],[0.1111111111111111,\"#46039f\"],[0.2222222222222222,\"#7201a8\"],[0.3333333333333333,\"#9c179e\"],[0.4444444444444444,\"#bd3786\"],[0.5555555555555556,\"#d8576b\"],[0.6666666666666666,\"#ed7953\"],[0.7777777777777778,\"#fb9f3a\"],[0.8888888888888888,\"#fdca26\"],[1.0,\"#f0f921\"]]}],\"contourcarpet\":[{\"type\":\"contourcarpet\",\"colorbar\":{\"outlinewidth\":0,\"ticks\":\"\"}}],\"contour\":[{\"type\":\"contour\",\"colorbar\":{\"outlinewidth\":0,\"ticks\":\"\"},\"colorscale\":[[0.0,\"#0d0887\"],[0.1111111111111111,\"#46039f\"],[0.2222222222222222,\"#7201a8\"],[0.3333333333333333,\"#9c179e\"],[0.4444444444444444,\"#bd3786\"],[0.5555555555555556,\"#d8576b\"],[0.6666666666666666,\"#ed7953\"],[0.7777777777777778,\"#fb9f3a\"],[0.8888888888888888,\"#fdca26\"],[1.0,\"#f0f921\"]]}],\"surface\":[{\"type\":\"surface\",\"colorbar\":{\"outlinewidth\":0,\"ticks\":\"\"},\"colorscale\":[[0.0,\"#0d0887\"],[0.1111111111111111,\"#46039f\"],[0.2222222222222222,\"#7201a8\"],[0.3333333333333333,\"#9c179e\"],[0.4444444444444444,\"#bd3786\"],[0.5555555555555556,\"#d8576b\"],[0.6666666666666666,\"#ed7953\"],[0.7777777777777778,\"#fb9f3a\"],[0.8888888888888888,\"#fdca26\"],[1.0,\"#f0f921\"]]}],\"mesh3d\":[{\"type\":\"mesh3d\",\"colorbar\":{\"outlinewidth\":0,\"ticks\":\"\"}}],\"scatter\":[{\"fillpattern\":{\"fillmode\":\"overlay\",\"size\":10,\"solidity\":0.2},\"type\":\"scatter\"}],\"parcoords\":[{\"type\":\"parcoords\",\"line\":{\"colorbar\":{\"outlinewidth\":0,\"ticks\":\"\"}}}],\"scatterpolargl\":[{\"type\":\"scatterpolargl\",\"marker\":{\"colorbar\":{\"outlinewidth\":0,\"ticks\":\"\"}}}],\"bar\":[{\"error_x\":{\"color\":\"#2a3f5f\"},\"error_y\":{\"color\":\"#2a3f5f\"},\"marker\":{\"line\":{\"color\":\"#E5ECF6\",\"width\":0.5},\"pattern\":{\"fillmode\":\"overlay\",\"size\":10,\"solidity\":0.2}},\"type\":\"bar\"}],\"scattergeo\":[{\"type\":\"scattergeo\",\"marker\":{\"colorbar\":{\"outlinewidth\":0,\"ticks\":\"\"}}}],\"scatterpolar\":[{\"type\":\"scatterpolar\",\"marker\":{\"colorbar\":{\"outlinewidth\":0,\"ticks\":\"\"}}}],\"histogram\":[{\"marker\":{\"pattern\":{\"fillmode\":\"overlay\",\"size\":10,\"solidity\":0.2}},\"type\":\"histogram\"}],\"scattergl\":[{\"type\":\"scattergl\",\"marker\":{\"colorbar\":{\"outlinewidth\":0,\"ticks\":\"\"}}}],\"scatter3d\":[{\"type\":\"scatter3d\",\"line\":{\"colorbar\":{\"outlinewidth\":0,\"ticks\":\"\"}},\"marker\":{\"colorbar\":{\"outlinewidth\":0,\"ticks\":\"\"}}}],\"scattermapbox\":[{\"type\":\"scattermapbox\",\"marker\":{\"colorbar\":{\"outlinewidth\":0,\"ticks\":\"\"}}}],\"scatterternary\":[{\"type\":\"scatterternary\",\"marker\":{\"colorbar\":{\"outlinewidth\":0,\"ticks\":\"\"}}}],\"scattercarpet\":[{\"type\":\"scattercarpet\",\"marker\":{\"colorbar\":{\"outlinewidth\":0,\"ticks\":\"\"}}}],\"carpet\":[{\"aaxis\":{\"endlinecolor\":\"#2a3f5f\",\"gridcolor\":\"white\",\"linecolor\":\"white\",\"minorgridcolor\":\"white\",\"startlinecolor\":\"#2a3f5f\"},\"baxis\":{\"endlinecolor\":\"#2a3f5f\",\"gridcolor\":\"white\",\"linecolor\":\"white\",\"minorgridcolor\":\"white\",\"startlinecolor\":\"#2a3f5f\"},\"type\":\"carpet\"}],\"table\":[{\"cells\":{\"fill\":{\"color\":\"#EBF0F8\"},\"line\":{\"color\":\"white\"}},\"header\":{\"fill\":{\"color\":\"#C8D4E3\"},\"line\":{\"color\":\"white\"}},\"type\":\"table\"}],\"barpolar\":[{\"marker\":{\"line\":{\"color\":\"#E5ECF6\",\"width\":0.5},\"pattern\":{\"fillmode\":\"overlay\",\"size\":10,\"solidity\":0.2}},\"type\":\"barpolar\"}],\"pie\":[{\"automargin\":true,\"type\":\"pie\"}]},\"layout\":{\"autotypenumbers\":\"strict\",\"colorway\":[\"#636efa\",\"#EF553B\",\"#00cc96\",\"#ab63fa\",\"#FFA15A\",\"#19d3f3\",\"#FF6692\",\"#B6E880\",\"#FF97FF\",\"#FECB52\"],\"font\":{\"color\":\"#2a3f5f\"},\"hovermode\":\"closest\",\"hoverlabel\":{\"align\":\"left\"},\"paper_bgcolor\":\"white\",\"plot_bgcolor\":\"#E5ECF6\",\"polar\":{\"bgcolor\":\"#E5ECF6\",\"angularaxis\":{\"gridcolor\":\"white\",\"linecolor\":\"white\",\"ticks\":\"\"},\"radialaxis\":{\"gridcolor\":\"white\",\"linecolor\":\"white\",\"ticks\":\"\"}},\"ternary\":{\"bgcolor\":\"#E5ECF6\",\"aaxis\":{\"gridcolor\":\"white\",\"linecolor\":\"white\",\"ticks\":\"\"},\"baxis\":{\"gridcolor\":\"white\",\"linecolor\":\"white\",\"ticks\":\"\"},\"caxis\":{\"gridcolor\":\"white\",\"linecolor\":\"white\",\"ticks\":\"\"}},\"coloraxis\":{\"colorbar\":{\"outlinewidth\":0,\"ticks\":\"\"}},\"colorscale\":{\"sequential\":[[0.0,\"#0d0887\"],[0.1111111111111111,\"#46039f\"],[0.2222222222222222,\"#7201a8\"],[0.3333333333333333,\"#9c179e\"],[0.4444444444444444,\"#bd3786\"],[0.5555555555555556,\"#d8576b\"],[0.6666666666666666,\"#ed7953\"],[0.7777777777777778,\"#fb9f3a\"],[0.8888888888888888,\"#fdca26\"],[1.0,\"#f0f921\"]],\"sequentialminus\":[[0.0,\"#0d0887\"],[0.1111111111111111,\"#46039f\"],[0.2222222222222222,\"#7201a8\"],[0.3333333333333333,\"#9c179e\"],[0.4444444444444444,\"#bd3786\"],[0.5555555555555556,\"#d8576b\"],[0.6666666666666666,\"#ed7953\"],[0.7777777777777778,\"#fb9f3a\"],[0.8888888888888888,\"#fdca26\"],[1.0,\"#f0f921\"]],\"diverging\":[[0,\"#8e0152\"],[0.1,\"#c51b7d\"],[0.2,\"#de77ae\"],[0.3,\"#f1b6da\"],[0.4,\"#fde0ef\"],[0.5,\"#f7f7f7\"],[0.6,\"#e6f5d0\"],[0.7,\"#b8e186\"],[0.8,\"#7fbc41\"],[0.9,\"#4d9221\"],[1,\"#276419\"]]},\"xaxis\":{\"gridcolor\":\"white\",\"linecolor\":\"white\",\"ticks\":\"\",\"title\":{\"standoff\":15},\"zerolinecolor\":\"white\",\"automargin\":true,\"zerolinewidth\":2},\"yaxis\":{\"gridcolor\":\"white\",\"linecolor\":\"white\",\"ticks\":\"\",\"title\":{\"standoff\":15},\"zerolinecolor\":\"white\",\"automargin\":true,\"zerolinewidth\":2},\"scene\":{\"xaxis\":{\"backgroundcolor\":\"#E5ECF6\",\"gridcolor\":\"white\",\"linecolor\":\"white\",\"showbackground\":true,\"ticks\":\"\",\"zerolinecolor\":\"white\",\"gridwidth\":2},\"yaxis\":{\"backgroundcolor\":\"#E5ECF6\",\"gridcolor\":\"white\",\"linecolor\":\"white\",\"showbackground\":true,\"ticks\":\"\",\"zerolinecolor\":\"white\",\"gridwidth\":2},\"zaxis\":{\"backgroundcolor\":\"#E5ECF6\",\"gridcolor\":\"white\",\"linecolor\":\"white\",\"showbackground\":true,\"ticks\":\"\",\"zerolinecolor\":\"white\",\"gridwidth\":2}},\"shapedefaults\":{\"line\":{\"color\":\"#2a3f5f\"}},\"annotationdefaults\":{\"arrowcolor\":\"#2a3f5f\",\"arrowhead\":0,\"arrowwidth\":1},\"geo\":{\"bgcolor\":\"white\",\"landcolor\":\"#E5ECF6\",\"subunitcolor\":\"white\",\"showland\":true,\"showlakes\":true,\"lakecolor\":\"white\"},\"title\":{\"x\":0.05},\"mapbox\":{\"style\":\"light\"}}},\"xaxis\":{\"anchor\":\"y\",\"domain\":[0.0,1.0],\"title\":{\"text\":\"Month\"}},\"yaxis\":{\"anchor\":\"x\",\"domain\":[0.0,1.0],\"title\":{\"text\":\"Monthly_Gain_Loss_percentage\"}},\"legend\":{\"title\":{\"text\":\"Name\"},\"tracegroupgap\":0},\"margin\":{\"t\":60}},                        {\"responsive\": true}                    ).then(function(){\n                            \nvar gd = document.getElementById('b5250d95-b7d5-494e-a181-420f0020e02e');\nvar x = new MutationObserver(function (mutations, observer) {{\n        var display = window.getComputedStyle(gd).display;\n        if (!display || display === 'none') {{\n            console.log([gd, 'removed!']);\n            Plotly.purge(gd);\n            observer.disconnect();\n        }}\n}});\n\n// Listen for the removal of the full notebook cells\nvar notebookContainer = gd.closest('#notebook-container');\nif (notebookContainer) {{\n    x.observe(notebookContainer, {childList: true});\n}}\n\n// Listen for the clearing of the current output cell\nvar outputEl = gd.closest('.output');\nif (outputEl) {{\n    x.observe(outputEl, {childList: true});\n}}\n\n                        })                };                });            </script>        </div>"
     },
     "metadata": {},
     "output_type": "display_data"
    }
   ],
   "source": [
    "fig = px.line(game_player_count_df, x=\"Month\", y=\"Monthly_Gain_Loss_percentage\", color='Name')\n",
    "fig.show()"
   ],
   "metadata": {
    "collapsed": false,
    "pycharm": {
     "name": "#%%\n"
    }
   }
  },
  {
   "cell_type": "code",
   "execution_count": 236,
   "outputs": [
    {
     "data": {
      "application/vnd.plotly.v1+json": {
       "data": [
        {
         "hovertemplate": "Name=payday 2<br>Month=%{x}<br>Max_Players_per_Day=%{y}<extra></extra>",
         "legendgroup": "payday 2",
         "line": {
          "color": "#636efa",
          "dash": "solid"
         },
         "marker": {
          "symbol": "circle"
         },
         "mode": "lines",
         "name": "payday 2",
         "orientation": "v",
         "showlegend": true,
         "x": [
          "2020-05-30T00:00:00",
          "2020-04-30T00:00:00",
          "2020-03-30T00:00:00"
         ],
         "xaxis": "x",
         "y": [
          1342589.0,
          1208725.0,
          1405869.0
         ],
         "yaxis": "y",
         "type": "scatter"
        },
        {
         "hovertemplate": "Name=lost ark<br>Month=%{x}<br>Max_Players_per_Day=%{y}<extra></extra>",
         "legendgroup": "lost ark",
         "line": {
          "color": "#EF553B",
          "dash": "solid"
         },
         "marker": {
          "symbol": "circle"
         },
         "mode": "lines",
         "name": "lost ark",
         "orientation": "v",
         "showlegend": true,
         "x": [
          "2020-05-30T00:00:00",
          "2020-04-30T00:00:00",
          "2020-03-30T00:00:00"
         ],
         "xaxis": "x",
         "y": [
          774758.0,
          887658.0,
          887388.0
         ],
         "yaxis": "y",
         "type": "scatter"
        },
        {
         "hovertemplate": "Name=splitgate<br>Month=%{x}<br>Max_Players_per_Day=%{y}<extra></extra>",
         "legendgroup": "splitgate",
         "line": {
          "color": "#00cc96",
          "dash": "solid"
         },
         "marker": {
          "symbol": "circle"
         },
         "mode": "lines",
         "name": "splitgate",
         "orientation": "v",
         "showlegend": true,
         "x": [
          "2020-05-30T00:00:00",
          "2020-04-30T00:00:00",
          "2020-03-30T00:00:00"
         ],
         "xaxis": "x",
         "y": [
          78404.0,
          77402.0,
          80757.0
         ],
         "yaxis": "y",
         "type": "scatter"
        },
        {
         "hovertemplate": "Name=rust<br>Month=%{x}<br>Max_Players_per_Day=%{y}<extra></extra>",
         "legendgroup": "rust",
         "line": {
          "color": "#ab63fa",
          "dash": "solid"
         },
         "marker": {
          "symbol": "circle"
         },
         "mode": "lines",
         "name": "rust",
         "orientation": "v",
         "showlegend": true,
         "x": [
          "2020-05-30T00:00:00",
          "2020-04-30T00:00:00",
          "2020-03-30T00:00:00"
         ],
         "xaxis": "x",
         "y": [
          788540.0,
          823960.0,
          861151.0
         ],
         "yaxis": "y",
         "type": "scatter"
        },
        {
         "hovertemplate": "Name=yu gi oh master duel<br>Month=%{x}<br>Max_Players_per_Day=%{y}<extra></extra>",
         "legendgroup": "yu gi oh master duel",
         "line": {
          "color": "#FFA15A",
          "dash": "solid"
         },
         "marker": {
          "symbol": "circle"
         },
         "mode": "lines",
         "name": "yu gi oh master duel",
         "orientation": "v",
         "showlegend": true,
         "x": [
          "2020-05-30T00:00:00",
          "2020-04-30T00:00:00",
          "2020-03-30T00:00:00"
         ],
         "xaxis": "x",
         "y": [
          1193089.0,
          1252744.0,
          1315381.0
         ],
         "yaxis": "y",
         "type": "scatter"
        },
        {
         "hovertemplate": "Name=team fortress 2 2<br>Month=%{x}<br>Max_Players_per_Day=%{y}<extra></extra>",
         "legendgroup": "team fortress 2 2",
         "line": {
          "color": "#19d3f3",
          "dash": "solid"
         },
         "marker": {
          "symbol": "circle"
         },
         "mode": "lines",
         "name": "team fortress 2 2",
         "orientation": "v",
         "showlegend": true,
         "x": [
          "2020-05-30T00:00:00",
          "2020-04-30T00:00:00",
          "2020-03-30T00:00:00"
         ],
         "xaxis": "x",
         "y": [
          68696.0,
          69101.0,
          70156.0
         ],
         "yaxis": "y",
         "type": "scatter"
        }
       ],
       "layout": {
        "template": {
         "data": {
          "histogram2dcontour": [
           {
            "type": "histogram2dcontour",
            "colorbar": {
             "outlinewidth": 0,
             "ticks": ""
            },
            "colorscale": [
             [
              0.0,
              "#0d0887"
             ],
             [
              0.1111111111111111,
              "#46039f"
             ],
             [
              0.2222222222222222,
              "#7201a8"
             ],
             [
              0.3333333333333333,
              "#9c179e"
             ],
             [
              0.4444444444444444,
              "#bd3786"
             ],
             [
              0.5555555555555556,
              "#d8576b"
             ],
             [
              0.6666666666666666,
              "#ed7953"
             ],
             [
              0.7777777777777778,
              "#fb9f3a"
             ],
             [
              0.8888888888888888,
              "#fdca26"
             ],
             [
              1.0,
              "#f0f921"
             ]
            ]
           }
          ],
          "choropleth": [
           {
            "type": "choropleth",
            "colorbar": {
             "outlinewidth": 0,
             "ticks": ""
            }
           }
          ],
          "histogram2d": [
           {
            "type": "histogram2d",
            "colorbar": {
             "outlinewidth": 0,
             "ticks": ""
            },
            "colorscale": [
             [
              0.0,
              "#0d0887"
             ],
             [
              0.1111111111111111,
              "#46039f"
             ],
             [
              0.2222222222222222,
              "#7201a8"
             ],
             [
              0.3333333333333333,
              "#9c179e"
             ],
             [
              0.4444444444444444,
              "#bd3786"
             ],
             [
              0.5555555555555556,
              "#d8576b"
             ],
             [
              0.6666666666666666,
              "#ed7953"
             ],
             [
              0.7777777777777778,
              "#fb9f3a"
             ],
             [
              0.8888888888888888,
              "#fdca26"
             ],
             [
              1.0,
              "#f0f921"
             ]
            ]
           }
          ],
          "heatmap": [
           {
            "type": "heatmap",
            "colorbar": {
             "outlinewidth": 0,
             "ticks": ""
            },
            "colorscale": [
             [
              0.0,
              "#0d0887"
             ],
             [
              0.1111111111111111,
              "#46039f"
             ],
             [
              0.2222222222222222,
              "#7201a8"
             ],
             [
              0.3333333333333333,
              "#9c179e"
             ],
             [
              0.4444444444444444,
              "#bd3786"
             ],
             [
              0.5555555555555556,
              "#d8576b"
             ],
             [
              0.6666666666666666,
              "#ed7953"
             ],
             [
              0.7777777777777778,
              "#fb9f3a"
             ],
             [
              0.8888888888888888,
              "#fdca26"
             ],
             [
              1.0,
              "#f0f921"
             ]
            ]
           }
          ],
          "heatmapgl": [
           {
            "type": "heatmapgl",
            "colorbar": {
             "outlinewidth": 0,
             "ticks": ""
            },
            "colorscale": [
             [
              0.0,
              "#0d0887"
             ],
             [
              0.1111111111111111,
              "#46039f"
             ],
             [
              0.2222222222222222,
              "#7201a8"
             ],
             [
              0.3333333333333333,
              "#9c179e"
             ],
             [
              0.4444444444444444,
              "#bd3786"
             ],
             [
              0.5555555555555556,
              "#d8576b"
             ],
             [
              0.6666666666666666,
              "#ed7953"
             ],
             [
              0.7777777777777778,
              "#fb9f3a"
             ],
             [
              0.8888888888888888,
              "#fdca26"
             ],
             [
              1.0,
              "#f0f921"
             ]
            ]
           }
          ],
          "contourcarpet": [
           {
            "type": "contourcarpet",
            "colorbar": {
             "outlinewidth": 0,
             "ticks": ""
            }
           }
          ],
          "contour": [
           {
            "type": "contour",
            "colorbar": {
             "outlinewidth": 0,
             "ticks": ""
            },
            "colorscale": [
             [
              0.0,
              "#0d0887"
             ],
             [
              0.1111111111111111,
              "#46039f"
             ],
             [
              0.2222222222222222,
              "#7201a8"
             ],
             [
              0.3333333333333333,
              "#9c179e"
             ],
             [
              0.4444444444444444,
              "#bd3786"
             ],
             [
              0.5555555555555556,
              "#d8576b"
             ],
             [
              0.6666666666666666,
              "#ed7953"
             ],
             [
              0.7777777777777778,
              "#fb9f3a"
             ],
             [
              0.8888888888888888,
              "#fdca26"
             ],
             [
              1.0,
              "#f0f921"
             ]
            ]
           }
          ],
          "surface": [
           {
            "type": "surface",
            "colorbar": {
             "outlinewidth": 0,
             "ticks": ""
            },
            "colorscale": [
             [
              0.0,
              "#0d0887"
             ],
             [
              0.1111111111111111,
              "#46039f"
             ],
             [
              0.2222222222222222,
              "#7201a8"
             ],
             [
              0.3333333333333333,
              "#9c179e"
             ],
             [
              0.4444444444444444,
              "#bd3786"
             ],
             [
              0.5555555555555556,
              "#d8576b"
             ],
             [
              0.6666666666666666,
              "#ed7953"
             ],
             [
              0.7777777777777778,
              "#fb9f3a"
             ],
             [
              0.8888888888888888,
              "#fdca26"
             ],
             [
              1.0,
              "#f0f921"
             ]
            ]
           }
          ],
          "mesh3d": [
           {
            "type": "mesh3d",
            "colorbar": {
             "outlinewidth": 0,
             "ticks": ""
            }
           }
          ],
          "scatter": [
           {
            "fillpattern": {
             "fillmode": "overlay",
             "size": 10,
             "solidity": 0.2
            },
            "type": "scatter"
           }
          ],
          "parcoords": [
           {
            "type": "parcoords",
            "line": {
             "colorbar": {
              "outlinewidth": 0,
              "ticks": ""
             }
            }
           }
          ],
          "scatterpolargl": [
           {
            "type": "scatterpolargl",
            "marker": {
             "colorbar": {
              "outlinewidth": 0,
              "ticks": ""
             }
            }
           }
          ],
          "bar": [
           {
            "error_x": {
             "color": "#2a3f5f"
            },
            "error_y": {
             "color": "#2a3f5f"
            },
            "marker": {
             "line": {
              "color": "#E5ECF6",
              "width": 0.5
             },
             "pattern": {
              "fillmode": "overlay",
              "size": 10,
              "solidity": 0.2
             }
            },
            "type": "bar"
           }
          ],
          "scattergeo": [
           {
            "type": "scattergeo",
            "marker": {
             "colorbar": {
              "outlinewidth": 0,
              "ticks": ""
             }
            }
           }
          ],
          "scatterpolar": [
           {
            "type": "scatterpolar",
            "marker": {
             "colorbar": {
              "outlinewidth": 0,
              "ticks": ""
             }
            }
           }
          ],
          "histogram": [
           {
            "marker": {
             "pattern": {
              "fillmode": "overlay",
              "size": 10,
              "solidity": 0.2
             }
            },
            "type": "histogram"
           }
          ],
          "scattergl": [
           {
            "type": "scattergl",
            "marker": {
             "colorbar": {
              "outlinewidth": 0,
              "ticks": ""
             }
            }
           }
          ],
          "scatter3d": [
           {
            "type": "scatter3d",
            "line": {
             "colorbar": {
              "outlinewidth": 0,
              "ticks": ""
             }
            },
            "marker": {
             "colorbar": {
              "outlinewidth": 0,
              "ticks": ""
             }
            }
           }
          ],
          "scattermapbox": [
           {
            "type": "scattermapbox",
            "marker": {
             "colorbar": {
              "outlinewidth": 0,
              "ticks": ""
             }
            }
           }
          ],
          "scatterternary": [
           {
            "type": "scatterternary",
            "marker": {
             "colorbar": {
              "outlinewidth": 0,
              "ticks": ""
             }
            }
           }
          ],
          "scattercarpet": [
           {
            "type": "scattercarpet",
            "marker": {
             "colorbar": {
              "outlinewidth": 0,
              "ticks": ""
             }
            }
           }
          ],
          "carpet": [
           {
            "aaxis": {
             "endlinecolor": "#2a3f5f",
             "gridcolor": "white",
             "linecolor": "white",
             "minorgridcolor": "white",
             "startlinecolor": "#2a3f5f"
            },
            "baxis": {
             "endlinecolor": "#2a3f5f",
             "gridcolor": "white",
             "linecolor": "white",
             "minorgridcolor": "white",
             "startlinecolor": "#2a3f5f"
            },
            "type": "carpet"
           }
          ],
          "table": [
           {
            "cells": {
             "fill": {
              "color": "#EBF0F8"
             },
             "line": {
              "color": "white"
             }
            },
            "header": {
             "fill": {
              "color": "#C8D4E3"
             },
             "line": {
              "color": "white"
             }
            },
            "type": "table"
           }
          ],
          "barpolar": [
           {
            "marker": {
             "line": {
              "color": "#E5ECF6",
              "width": 0.5
             },
             "pattern": {
              "fillmode": "overlay",
              "size": 10,
              "solidity": 0.2
             }
            },
            "type": "barpolar"
           }
          ],
          "pie": [
           {
            "automargin": true,
            "type": "pie"
           }
          ]
         },
         "layout": {
          "autotypenumbers": "strict",
          "colorway": [
           "#636efa",
           "#EF553B",
           "#00cc96",
           "#ab63fa",
           "#FFA15A",
           "#19d3f3",
           "#FF6692",
           "#B6E880",
           "#FF97FF",
           "#FECB52"
          ],
          "font": {
           "color": "#2a3f5f"
          },
          "hovermode": "closest",
          "hoverlabel": {
           "align": "left"
          },
          "paper_bgcolor": "white",
          "plot_bgcolor": "#E5ECF6",
          "polar": {
           "bgcolor": "#E5ECF6",
           "angularaxis": {
            "gridcolor": "white",
            "linecolor": "white",
            "ticks": ""
           },
           "radialaxis": {
            "gridcolor": "white",
            "linecolor": "white",
            "ticks": ""
           }
          },
          "ternary": {
           "bgcolor": "#E5ECF6",
           "aaxis": {
            "gridcolor": "white",
            "linecolor": "white",
            "ticks": ""
           },
           "baxis": {
            "gridcolor": "white",
            "linecolor": "white",
            "ticks": ""
           },
           "caxis": {
            "gridcolor": "white",
            "linecolor": "white",
            "ticks": ""
           }
          },
          "coloraxis": {
           "colorbar": {
            "outlinewidth": 0,
            "ticks": ""
           }
          },
          "colorscale": {
           "sequential": [
            [
             0.0,
             "#0d0887"
            ],
            [
             0.1111111111111111,
             "#46039f"
            ],
            [
             0.2222222222222222,
             "#7201a8"
            ],
            [
             0.3333333333333333,
             "#9c179e"
            ],
            [
             0.4444444444444444,
             "#bd3786"
            ],
            [
             0.5555555555555556,
             "#d8576b"
            ],
            [
             0.6666666666666666,
             "#ed7953"
            ],
            [
             0.7777777777777778,
             "#fb9f3a"
            ],
            [
             0.8888888888888888,
             "#fdca26"
            ],
            [
             1.0,
             "#f0f921"
            ]
           ],
           "sequentialminus": [
            [
             0.0,
             "#0d0887"
            ],
            [
             0.1111111111111111,
             "#46039f"
            ],
            [
             0.2222222222222222,
             "#7201a8"
            ],
            [
             0.3333333333333333,
             "#9c179e"
            ],
            [
             0.4444444444444444,
             "#bd3786"
            ],
            [
             0.5555555555555556,
             "#d8576b"
            ],
            [
             0.6666666666666666,
             "#ed7953"
            ],
            [
             0.7777777777777778,
             "#fb9f3a"
            ],
            [
             0.8888888888888888,
             "#fdca26"
            ],
            [
             1.0,
             "#f0f921"
            ]
           ],
           "diverging": [
            [
             0,
             "#8e0152"
            ],
            [
             0.1,
             "#c51b7d"
            ],
            [
             0.2,
             "#de77ae"
            ],
            [
             0.3,
             "#f1b6da"
            ],
            [
             0.4,
             "#fde0ef"
            ],
            [
             0.5,
             "#f7f7f7"
            ],
            [
             0.6,
             "#e6f5d0"
            ],
            [
             0.7,
             "#b8e186"
            ],
            [
             0.8,
             "#7fbc41"
            ],
            [
             0.9,
             "#4d9221"
            ],
            [
             1,
             "#276419"
            ]
           ]
          },
          "xaxis": {
           "gridcolor": "white",
           "linecolor": "white",
           "ticks": "",
           "title": {
            "standoff": 15
           },
           "zerolinecolor": "white",
           "automargin": true,
           "zerolinewidth": 2
          },
          "yaxis": {
           "gridcolor": "white",
           "linecolor": "white",
           "ticks": "",
           "title": {
            "standoff": 15
           },
           "zerolinecolor": "white",
           "automargin": true,
           "zerolinewidth": 2
          },
          "scene": {
           "xaxis": {
            "backgroundcolor": "#E5ECF6",
            "gridcolor": "white",
            "linecolor": "white",
            "showbackground": true,
            "ticks": "",
            "zerolinecolor": "white",
            "gridwidth": 2
           },
           "yaxis": {
            "backgroundcolor": "#E5ECF6",
            "gridcolor": "white",
            "linecolor": "white",
            "showbackground": true,
            "ticks": "",
            "zerolinecolor": "white",
            "gridwidth": 2
           },
           "zaxis": {
            "backgroundcolor": "#E5ECF6",
            "gridcolor": "white",
            "linecolor": "white",
            "showbackground": true,
            "ticks": "",
            "zerolinecolor": "white",
            "gridwidth": 2
           }
          },
          "shapedefaults": {
           "line": {
            "color": "#2a3f5f"
           }
          },
          "annotationdefaults": {
           "arrowcolor": "#2a3f5f",
           "arrowhead": 0,
           "arrowwidth": 1
          },
          "geo": {
           "bgcolor": "white",
           "landcolor": "#E5ECF6",
           "subunitcolor": "white",
           "showland": true,
           "showlakes": true,
           "lakecolor": "white"
          },
          "title": {
           "x": 0.05
          },
          "mapbox": {
           "style": "light"
          }
         }
        },
        "xaxis": {
         "anchor": "y",
         "domain": [
          0.0,
          1.0
         ],
         "title": {
          "text": "Month"
         }
        },
        "yaxis": {
         "anchor": "x",
         "domain": [
          0.0,
          1.0
         ],
         "title": {
          "text": "Max_Players_per_Day"
         }
        },
        "legend": {
         "title": {
          "text": "Name"
         },
         "tracegroupgap": 0
        },
        "margin": {
         "t": 60
        }
       },
       "config": {
        "plotlyServerURL": "https://plot.ly"
       }
      },
      "text/html": "<div>                            <div id=\"14b50b03-969a-4571-919d-2727b4576de9\" class=\"plotly-graph-div\" style=\"height:525px; width:100%;\"></div>            <script type=\"text/javascript\">                require([\"plotly\"], function(Plotly) {                    window.PLOTLYENV=window.PLOTLYENV || {};                                    if (document.getElementById(\"14b50b03-969a-4571-919d-2727b4576de9\")) {                    Plotly.newPlot(                        \"14b50b03-969a-4571-919d-2727b4576de9\",                        [{\"hovertemplate\":\"Name=payday 2<br>Month=%{x}<br>Max_Players_per_Day=%{y}<extra></extra>\",\"legendgroup\":\"payday 2\",\"line\":{\"color\":\"#636efa\",\"dash\":\"solid\"},\"marker\":{\"symbol\":\"circle\"},\"mode\":\"lines\",\"name\":\"payday 2\",\"orientation\":\"v\",\"showlegend\":true,\"x\":[\"2020-05-30T00:00:00\",\"2020-04-30T00:00:00\",\"2020-03-30T00:00:00\"],\"xaxis\":\"x\",\"y\":[1342589.0,1208725.0,1405869.0],\"yaxis\":\"y\",\"type\":\"scatter\"},{\"hovertemplate\":\"Name=lost ark<br>Month=%{x}<br>Max_Players_per_Day=%{y}<extra></extra>\",\"legendgroup\":\"lost ark\",\"line\":{\"color\":\"#EF553B\",\"dash\":\"solid\"},\"marker\":{\"symbol\":\"circle\"},\"mode\":\"lines\",\"name\":\"lost ark\",\"orientation\":\"v\",\"showlegend\":true,\"x\":[\"2020-05-30T00:00:00\",\"2020-04-30T00:00:00\",\"2020-03-30T00:00:00\"],\"xaxis\":\"x\",\"y\":[774758.0,887658.0,887388.0],\"yaxis\":\"y\",\"type\":\"scatter\"},{\"hovertemplate\":\"Name=splitgate<br>Month=%{x}<br>Max_Players_per_Day=%{y}<extra></extra>\",\"legendgroup\":\"splitgate\",\"line\":{\"color\":\"#00cc96\",\"dash\":\"solid\"},\"marker\":{\"symbol\":\"circle\"},\"mode\":\"lines\",\"name\":\"splitgate\",\"orientation\":\"v\",\"showlegend\":true,\"x\":[\"2020-05-30T00:00:00\",\"2020-04-30T00:00:00\",\"2020-03-30T00:00:00\"],\"xaxis\":\"x\",\"y\":[78404.0,77402.0,80757.0],\"yaxis\":\"y\",\"type\":\"scatter\"},{\"hovertemplate\":\"Name=rust<br>Month=%{x}<br>Max_Players_per_Day=%{y}<extra></extra>\",\"legendgroup\":\"rust\",\"line\":{\"color\":\"#ab63fa\",\"dash\":\"solid\"},\"marker\":{\"symbol\":\"circle\"},\"mode\":\"lines\",\"name\":\"rust\",\"orientation\":\"v\",\"showlegend\":true,\"x\":[\"2020-05-30T00:00:00\",\"2020-04-30T00:00:00\",\"2020-03-30T00:00:00\"],\"xaxis\":\"x\",\"y\":[788540.0,823960.0,861151.0],\"yaxis\":\"y\",\"type\":\"scatter\"},{\"hovertemplate\":\"Name=yu gi oh master duel<br>Month=%{x}<br>Max_Players_per_Day=%{y}<extra></extra>\",\"legendgroup\":\"yu gi oh master duel\",\"line\":{\"color\":\"#FFA15A\",\"dash\":\"solid\"},\"marker\":{\"symbol\":\"circle\"},\"mode\":\"lines\",\"name\":\"yu gi oh master duel\",\"orientation\":\"v\",\"showlegend\":true,\"x\":[\"2020-05-30T00:00:00\",\"2020-04-30T00:00:00\",\"2020-03-30T00:00:00\"],\"xaxis\":\"x\",\"y\":[1193089.0,1252744.0,1315381.0],\"yaxis\":\"y\",\"type\":\"scatter\"},{\"hovertemplate\":\"Name=team fortress 2 2<br>Month=%{x}<br>Max_Players_per_Day=%{y}<extra></extra>\",\"legendgroup\":\"team fortress 2 2\",\"line\":{\"color\":\"#19d3f3\",\"dash\":\"solid\"},\"marker\":{\"symbol\":\"circle\"},\"mode\":\"lines\",\"name\":\"team fortress 2 2\",\"orientation\":\"v\",\"showlegend\":true,\"x\":[\"2020-05-30T00:00:00\",\"2020-04-30T00:00:00\",\"2020-03-30T00:00:00\"],\"xaxis\":\"x\",\"y\":[68696.0,69101.0,70156.0],\"yaxis\":\"y\",\"type\":\"scatter\"}],                        {\"template\":{\"data\":{\"histogram2dcontour\":[{\"type\":\"histogram2dcontour\",\"colorbar\":{\"outlinewidth\":0,\"ticks\":\"\"},\"colorscale\":[[0.0,\"#0d0887\"],[0.1111111111111111,\"#46039f\"],[0.2222222222222222,\"#7201a8\"],[0.3333333333333333,\"#9c179e\"],[0.4444444444444444,\"#bd3786\"],[0.5555555555555556,\"#d8576b\"],[0.6666666666666666,\"#ed7953\"],[0.7777777777777778,\"#fb9f3a\"],[0.8888888888888888,\"#fdca26\"],[1.0,\"#f0f921\"]]}],\"choropleth\":[{\"type\":\"choropleth\",\"colorbar\":{\"outlinewidth\":0,\"ticks\":\"\"}}],\"histogram2d\":[{\"type\":\"histogram2d\",\"colorbar\":{\"outlinewidth\":0,\"ticks\":\"\"},\"colorscale\":[[0.0,\"#0d0887\"],[0.1111111111111111,\"#46039f\"],[0.2222222222222222,\"#7201a8\"],[0.3333333333333333,\"#9c179e\"],[0.4444444444444444,\"#bd3786\"],[0.5555555555555556,\"#d8576b\"],[0.6666666666666666,\"#ed7953\"],[0.7777777777777778,\"#fb9f3a\"],[0.8888888888888888,\"#fdca26\"],[1.0,\"#f0f921\"]]}],\"heatmap\":[{\"type\":\"heatmap\",\"colorbar\":{\"outlinewidth\":0,\"ticks\":\"\"},\"colorscale\":[[0.0,\"#0d0887\"],[0.1111111111111111,\"#46039f\"],[0.2222222222222222,\"#7201a8\"],[0.3333333333333333,\"#9c179e\"],[0.4444444444444444,\"#bd3786\"],[0.5555555555555556,\"#d8576b\"],[0.6666666666666666,\"#ed7953\"],[0.7777777777777778,\"#fb9f3a\"],[0.8888888888888888,\"#fdca26\"],[1.0,\"#f0f921\"]]}],\"heatmapgl\":[{\"type\":\"heatmapgl\",\"colorbar\":{\"outlinewidth\":0,\"ticks\":\"\"},\"colorscale\":[[0.0,\"#0d0887\"],[0.1111111111111111,\"#46039f\"],[0.2222222222222222,\"#7201a8\"],[0.3333333333333333,\"#9c179e\"],[0.4444444444444444,\"#bd3786\"],[0.5555555555555556,\"#d8576b\"],[0.6666666666666666,\"#ed7953\"],[0.7777777777777778,\"#fb9f3a\"],[0.8888888888888888,\"#fdca26\"],[1.0,\"#f0f921\"]]}],\"contourcarpet\":[{\"type\":\"contourcarpet\",\"colorbar\":{\"outlinewidth\":0,\"ticks\":\"\"}}],\"contour\":[{\"type\":\"contour\",\"colorbar\":{\"outlinewidth\":0,\"ticks\":\"\"},\"colorscale\":[[0.0,\"#0d0887\"],[0.1111111111111111,\"#46039f\"],[0.2222222222222222,\"#7201a8\"],[0.3333333333333333,\"#9c179e\"],[0.4444444444444444,\"#bd3786\"],[0.5555555555555556,\"#d8576b\"],[0.6666666666666666,\"#ed7953\"],[0.7777777777777778,\"#fb9f3a\"],[0.8888888888888888,\"#fdca26\"],[1.0,\"#f0f921\"]]}],\"surface\":[{\"type\":\"surface\",\"colorbar\":{\"outlinewidth\":0,\"ticks\":\"\"},\"colorscale\":[[0.0,\"#0d0887\"],[0.1111111111111111,\"#46039f\"],[0.2222222222222222,\"#7201a8\"],[0.3333333333333333,\"#9c179e\"],[0.4444444444444444,\"#bd3786\"],[0.5555555555555556,\"#d8576b\"],[0.6666666666666666,\"#ed7953\"],[0.7777777777777778,\"#fb9f3a\"],[0.8888888888888888,\"#fdca26\"],[1.0,\"#f0f921\"]]}],\"mesh3d\":[{\"type\":\"mesh3d\",\"colorbar\":{\"outlinewidth\":0,\"ticks\":\"\"}}],\"scatter\":[{\"fillpattern\":{\"fillmode\":\"overlay\",\"size\":10,\"solidity\":0.2},\"type\":\"scatter\"}],\"parcoords\":[{\"type\":\"parcoords\",\"line\":{\"colorbar\":{\"outlinewidth\":0,\"ticks\":\"\"}}}],\"scatterpolargl\":[{\"type\":\"scatterpolargl\",\"marker\":{\"colorbar\":{\"outlinewidth\":0,\"ticks\":\"\"}}}],\"bar\":[{\"error_x\":{\"color\":\"#2a3f5f\"},\"error_y\":{\"color\":\"#2a3f5f\"},\"marker\":{\"line\":{\"color\":\"#E5ECF6\",\"width\":0.5},\"pattern\":{\"fillmode\":\"overlay\",\"size\":10,\"solidity\":0.2}},\"type\":\"bar\"}],\"scattergeo\":[{\"type\":\"scattergeo\",\"marker\":{\"colorbar\":{\"outlinewidth\":0,\"ticks\":\"\"}}}],\"scatterpolar\":[{\"type\":\"scatterpolar\",\"marker\":{\"colorbar\":{\"outlinewidth\":0,\"ticks\":\"\"}}}],\"histogram\":[{\"marker\":{\"pattern\":{\"fillmode\":\"overlay\",\"size\":10,\"solidity\":0.2}},\"type\":\"histogram\"}],\"scattergl\":[{\"type\":\"scattergl\",\"marker\":{\"colorbar\":{\"outlinewidth\":0,\"ticks\":\"\"}}}],\"scatter3d\":[{\"type\":\"scatter3d\",\"line\":{\"colorbar\":{\"outlinewidth\":0,\"ticks\":\"\"}},\"marker\":{\"colorbar\":{\"outlinewidth\":0,\"ticks\":\"\"}}}],\"scattermapbox\":[{\"type\":\"scattermapbox\",\"marker\":{\"colorbar\":{\"outlinewidth\":0,\"ticks\":\"\"}}}],\"scatterternary\":[{\"type\":\"scatterternary\",\"marker\":{\"colorbar\":{\"outlinewidth\":0,\"ticks\":\"\"}}}],\"scattercarpet\":[{\"type\":\"scattercarpet\",\"marker\":{\"colorbar\":{\"outlinewidth\":0,\"ticks\":\"\"}}}],\"carpet\":[{\"aaxis\":{\"endlinecolor\":\"#2a3f5f\",\"gridcolor\":\"white\",\"linecolor\":\"white\",\"minorgridcolor\":\"white\",\"startlinecolor\":\"#2a3f5f\"},\"baxis\":{\"endlinecolor\":\"#2a3f5f\",\"gridcolor\":\"white\",\"linecolor\":\"white\",\"minorgridcolor\":\"white\",\"startlinecolor\":\"#2a3f5f\"},\"type\":\"carpet\"}],\"table\":[{\"cells\":{\"fill\":{\"color\":\"#EBF0F8\"},\"line\":{\"color\":\"white\"}},\"header\":{\"fill\":{\"color\":\"#C8D4E3\"},\"line\":{\"color\":\"white\"}},\"type\":\"table\"}],\"barpolar\":[{\"marker\":{\"line\":{\"color\":\"#E5ECF6\",\"width\":0.5},\"pattern\":{\"fillmode\":\"overlay\",\"size\":10,\"solidity\":0.2}},\"type\":\"barpolar\"}],\"pie\":[{\"automargin\":true,\"type\":\"pie\"}]},\"layout\":{\"autotypenumbers\":\"strict\",\"colorway\":[\"#636efa\",\"#EF553B\",\"#00cc96\",\"#ab63fa\",\"#FFA15A\",\"#19d3f3\",\"#FF6692\",\"#B6E880\",\"#FF97FF\",\"#FECB52\"],\"font\":{\"color\":\"#2a3f5f\"},\"hovermode\":\"closest\",\"hoverlabel\":{\"align\":\"left\"},\"paper_bgcolor\":\"white\",\"plot_bgcolor\":\"#E5ECF6\",\"polar\":{\"bgcolor\":\"#E5ECF6\",\"angularaxis\":{\"gridcolor\":\"white\",\"linecolor\":\"white\",\"ticks\":\"\"},\"radialaxis\":{\"gridcolor\":\"white\",\"linecolor\":\"white\",\"ticks\":\"\"}},\"ternary\":{\"bgcolor\":\"#E5ECF6\",\"aaxis\":{\"gridcolor\":\"white\",\"linecolor\":\"white\",\"ticks\":\"\"},\"baxis\":{\"gridcolor\":\"white\",\"linecolor\":\"white\",\"ticks\":\"\"},\"caxis\":{\"gridcolor\":\"white\",\"linecolor\":\"white\",\"ticks\":\"\"}},\"coloraxis\":{\"colorbar\":{\"outlinewidth\":0,\"ticks\":\"\"}},\"colorscale\":{\"sequential\":[[0.0,\"#0d0887\"],[0.1111111111111111,\"#46039f\"],[0.2222222222222222,\"#7201a8\"],[0.3333333333333333,\"#9c179e\"],[0.4444444444444444,\"#bd3786\"],[0.5555555555555556,\"#d8576b\"],[0.6666666666666666,\"#ed7953\"],[0.7777777777777778,\"#fb9f3a\"],[0.8888888888888888,\"#fdca26\"],[1.0,\"#f0f921\"]],\"sequentialminus\":[[0.0,\"#0d0887\"],[0.1111111111111111,\"#46039f\"],[0.2222222222222222,\"#7201a8\"],[0.3333333333333333,\"#9c179e\"],[0.4444444444444444,\"#bd3786\"],[0.5555555555555556,\"#d8576b\"],[0.6666666666666666,\"#ed7953\"],[0.7777777777777778,\"#fb9f3a\"],[0.8888888888888888,\"#fdca26\"],[1.0,\"#f0f921\"]],\"diverging\":[[0,\"#8e0152\"],[0.1,\"#c51b7d\"],[0.2,\"#de77ae\"],[0.3,\"#f1b6da\"],[0.4,\"#fde0ef\"],[0.5,\"#f7f7f7\"],[0.6,\"#e6f5d0\"],[0.7,\"#b8e186\"],[0.8,\"#7fbc41\"],[0.9,\"#4d9221\"],[1,\"#276419\"]]},\"xaxis\":{\"gridcolor\":\"white\",\"linecolor\":\"white\",\"ticks\":\"\",\"title\":{\"standoff\":15},\"zerolinecolor\":\"white\",\"automargin\":true,\"zerolinewidth\":2},\"yaxis\":{\"gridcolor\":\"white\",\"linecolor\":\"white\",\"ticks\":\"\",\"title\":{\"standoff\":15},\"zerolinecolor\":\"white\",\"automargin\":true,\"zerolinewidth\":2},\"scene\":{\"xaxis\":{\"backgroundcolor\":\"#E5ECF6\",\"gridcolor\":\"white\",\"linecolor\":\"white\",\"showbackground\":true,\"ticks\":\"\",\"zerolinecolor\":\"white\",\"gridwidth\":2},\"yaxis\":{\"backgroundcolor\":\"#E5ECF6\",\"gridcolor\":\"white\",\"linecolor\":\"white\",\"showbackground\":true,\"ticks\":\"\",\"zerolinecolor\":\"white\",\"gridwidth\":2},\"zaxis\":{\"backgroundcolor\":\"#E5ECF6\",\"gridcolor\":\"white\",\"linecolor\":\"white\",\"showbackground\":true,\"ticks\":\"\",\"zerolinecolor\":\"white\",\"gridwidth\":2}},\"shapedefaults\":{\"line\":{\"color\":\"#2a3f5f\"}},\"annotationdefaults\":{\"arrowcolor\":\"#2a3f5f\",\"arrowhead\":0,\"arrowwidth\":1},\"geo\":{\"bgcolor\":\"white\",\"landcolor\":\"#E5ECF6\",\"subunitcolor\":\"white\",\"showland\":true,\"showlakes\":true,\"lakecolor\":\"white\"},\"title\":{\"x\":0.05},\"mapbox\":{\"style\":\"light\"}}},\"xaxis\":{\"anchor\":\"y\",\"domain\":[0.0,1.0],\"title\":{\"text\":\"Month\"}},\"yaxis\":{\"anchor\":\"x\",\"domain\":[0.0,1.0],\"title\":{\"text\":\"Max_Players_per_Day\"}},\"legend\":{\"title\":{\"text\":\"Name\"},\"tracegroupgap\":0},\"margin\":{\"t\":60}},                        {\"responsive\": true}                    ).then(function(){\n                            \nvar gd = document.getElementById('14b50b03-969a-4571-919d-2727b4576de9');\nvar x = new MutationObserver(function (mutations, observer) {{\n        var display = window.getComputedStyle(gd).display;\n        if (!display || display === 'none') {{\n            console.log([gd, 'removed!']);\n            Plotly.purge(gd);\n            observer.disconnect();\n        }}\n}});\n\n// Listen for the removal of the full notebook cells\nvar notebookContainer = gd.closest('#notebook-container');\nif (notebookContainer) {{\n    x.observe(notebookContainer, {childList: true});\n}}\n\n// Listen for the clearing of the current output cell\nvar outputEl = gd.closest('.output');\nif (outputEl) {{\n    x.observe(outputEl, {childList: true});\n}}\n\n                        })                };                });            </script>        </div>"
     },
     "metadata": {},
     "output_type": "display_data"
    }
   ],
   "source": [
    "fig = px.line(game_player_count_df, x=\"Month\", y=\"Max_Players_per_Day\", color='Name')\n",
    "fig.show()"
   ],
   "metadata": {
    "collapsed": false,
    "pycharm": {
     "name": "#%%\n"
    }
   }
  },
  {
   "cell_type": "markdown",
   "source": [
    "Now taking a deeper look at the Numbers from March till Mai of 2020, each game was influenced the following way: ( We will look t one game that would support our thesis and another game that declines it )\n",
    "\n",
    "- Payday 2\n",
    "PayDay 2 had the most players per day at the end of March 2020, in March the top Regulations in Europe were the closing and prohibiting all Entertainment Venues as well as the closing of all typed of Educational Institutions. In April we see a significant drop, since the game has dropped -15% , even though we have seen in the graph that the regulations did not change for april and most of Europe ( half of the Continent ) still closed Venues, banned Events as well as had Gyms and Restaurants closed. Now during Mai we can see that the amoount of Players in the game slightly increases again. This fact is really contradicting to our theory, since in May most of the Countries already opened up Pubs and restaurants as well as started to allow bigger Events and bigger Hang Outs/Festivals and more.\n",
    "\n",
    "So in the Case of PayDay 2 the Regulations on Entertainment and Hobbies, as well as the number of Covid 19 infections, did not influence the growth or loss in players per month. Looking at the Game itself though, one notices that the Popularity of this Game must have increased and or decreased during the Riots and Protests which were being held in the US during Mai 2020, since the game is about a crime spree taking place in Washington DC.\n",
    "\n",
    "- Lost Ark\n",
    "Lost Ark is not a game which could be influenced by any political Situation, since it does not involve real world aspects ( such as League of Legends ). Looking at Lost Ark we can see that the popularity was slightly dropping before and during March 2020, but during April 2020 the max numbers of Players per Day was really consistent. Why could that be ? Since the game is an open world MMO game players have the chance of exploring the world and playing their own stories, especially during April of 2020 this was not possible because all activities were prohibited, restricted or banned, therefore gamers started fleeing more and more into games and kept living in those worlds. In May of 2020, the same month in which regulations started losing up, the avg players per month dropped up to -13% (around 100 000 players)\n",
    "\n",
    "Now we see that not only the regulations influenced the games numbers of players, but also political aspects as well as the genre of game it is , now how is that going to look like for the game we are focused on: League of Legends."
   ],
   "metadata": {
    "collapsed": false,
    "pycharm": {
     "name": "#%% md\n"
    }
   }
  },
  {
   "cell_type": "markdown",
   "source": [
    "## LoL Data"
   ],
   "metadata": {
    "collapsed": false,
    "pycharm": {
     "name": "#%% md\n"
    }
   }
  },
  {
   "cell_type": "markdown",
   "source": [
    "Website with Monthly Player Count:\n",
    "    https://activeplayer.io/league-of-legends/"
   ],
   "metadata": {
    "collapsed": false,
    "pycharm": {
     "name": "#%% md\n"
    }
   }
  },
  {
   "cell_type": "markdown",
   "source": [
    "Tutorial Web Scraping:\n",
    "https://www.edureka.co/blog/web-scraping-with-python/#steps"
   ],
   "metadata": {
    "collapsed": false,
    "pycharm": {
     "name": "#%% md\n"
    }
   }
  },
  {
   "cell_type": "code",
   "execution_count": 119,
   "outputs": [],
   "source": [
    "from bs4 import BeautifulSoup\n",
    "import pandas as pd\n",
    "from urllib.request import Request, urlopen"
   ],
   "metadata": {
    "collapsed": false,
    "pycharm": {
     "name": "#%%\n"
    }
   }
  },
  {
   "cell_type": "code",
   "execution_count": 120,
   "outputs": [],
   "source": [
    "url = \"https://activeplayer.io/league-of-legends/\"\n",
    "request_site = Request(url, headers={\"User-Agent\": \"Mozilla/5.0\"})\n",
    "page = urlopen(request_site).read()\n",
    "soup = BeautifulSoup(page, \"html.parser\")"
   ],
   "metadata": {
    "collapsed": false,
    "pycharm": {
     "name": "#%%\n"
    }
   }
  },
  {
   "cell_type": "code",
   "execution_count": 121,
   "outputs": [],
   "source": [
    "months=[] #list to store month of an entry\n",
    "avg_monthly_players=[] #list to store average monthly players\n",
    "monthly_gain_or_loss=[] #list to store monthly gain/loss\n",
    "peak_players_day = [] #list to store peak players in a day"
   ],
   "metadata": {
    "collapsed": false,
    "pycharm": {
     "name": "#%%\n"
    }
   }
  },
  {
   "cell_type": "code",
   "execution_count": 122,
   "outputs": [],
   "source": [
    "table=soup.find('table', attrs={'id':'table_2'})\n",
    "tbody = table.find('tbody')\n",
    "trs = tbody.find_all('tr')\n",
    "\n",
    "for a in trs:\n",
    "    tds = a.findAll('td')\n",
    "\n",
    "    month=tds[0]\n",
    "    avg_players=tds[1]\n",
    "    gain_or_loss=tds[2]\n",
    "    peak_players=tds[4] #4 because one column of the page is not used\n",
    "    months.append(month.text)\n",
    "    avg_monthly_players.append(avg_players.text)\n",
    "    monthly_gain_or_loss.append(gain_or_loss.text)\n",
    "    peak_players_day.append(peak_players.text)"
   ],
   "metadata": {
    "collapsed": false,
    "pycharm": {
     "name": "#%%\n"
    }
   }
  },
  {
   "cell_type": "code",
   "execution_count": 123,
   "outputs": [
    {
     "name": "stdout",
     "output_type": "stream",
     "text": [
      "['Last 30 Days', 'October 30, 2022', 'September 30, 2022', 'August 30, 2022', 'July 30, 2022', 'June 30, 2022', 'May 30, 2022', 'April 30, 2022', 'March 30, 2022', 'February 28, 2022', 'January 30, 2022', 'December 30, 2021', 'November 30, 2021', 'October 30, 2021', 'September 30, 2021', 'August 30, 2021', 'July 30, 2021', 'June 30, 2021', 'May 30, 2021', 'April 30, 2021', 'March 30, 2021', 'February 28, 2021', 'January 30, 2021', 'December 30, 2020', 'November 30, 2020', 'October 30, 2020', 'September 30, 2020', 'August 30, 2020', 'July 30, 2020', 'June 30, 2020', 'May 30, 2020', 'April 30, 2020', 'March 30, 2020', 'February 28, 2020', 'January 30, 2020', 'December 30, 2020', 'November 30, 2019', 'October 30, 2019', 'September 30, 2019', 'August 30, 2019', 'July 30, 2019', 'June 30, 2019', 'May 30, 2019', 'April 30, 2019', 'March 30, 2019', 'February 28, 2019', 'January 30, 2019', 'November 30, 2018']\n"
     ]
    }
   ],
   "source": [
    "print(months)"
   ],
   "metadata": {
    "collapsed": false,
    "pycharm": {
     "name": "#%%\n"
    }
   }
  },
  {
   "cell_type": "code",
   "execution_count": 124,
   "outputs": [
    {
     "name": "stdout",
     "output_type": "stream",
     "text": [
      "['149,980,576', '150,908,760', '151,102,355', '150,130,018', '149,906,790', '151,281,358', '152,951,432', '152,366,661', '153,312,677', '155,556,231', '153,307,011', '154,981,226', '150,367,689', '149,255,912', '151,297,082', '151,851,490', '153,315,685', '151,636,687', '146,868,113', '143,802,678', '145,603,491', '142,823,579', '140,949,027', '146,507,849', '142,217,348', '118,786,886', '123,707,185', '131,067,188', '134,338,301', '137,710,582', '141,187,161', '154,624,462', '144,947,212', '134,551,212', '131,285,212', '124,937,212', '116,011,924', '107,857,714', '106,287,346', '102,238,039', '109,559,185', '99,852,997', '110,180,381', '115,281,293', '138,633,266', '133,952,160', '135,080,060', '25,301,212']\n"
     ]
    }
   ],
   "source": [
    "print(avg_monthly_players)"
   ],
   "metadata": {
    "collapsed": false,
    "pycharm": {
     "name": "#%%\n"
    }
   }
  },
  {
   "cell_type": "code",
   "execution_count": 125,
   "outputs": [],
   "source": [
    "df = pd.DataFrame({'Month':months,'average monthly players':avg_monthly_players,'monthly gain/loss':monthly_gain_or_loss, 'peak players in a day':peak_players_day})"
   ],
   "metadata": {
    "collapsed": false,
    "pycharm": {
     "name": "#%%\n"
    }
   }
  },
  {
   "cell_type": "code",
   "execution_count": 126,
   "outputs": [
    {
     "data": {
      "text/plain": "                Month average monthly players monthly gain/loss  \\\n0        Last 30 Days             149,980,576          -928,184   \n1    October 30, 2022             150,908,760          -193,595   \n2  September 30, 2022             151,102,355           972,337   \n3     August 30, 2022             150,130,018           223,228   \n4       July 30, 2022             149,906,790        -1,374,568   \n\n  peak players in a day  \n0            13,498,252  \n1            13,581,788  \n2            13,599,212  \n3            13,511,702  \n4            13,491,611  ",
      "text/html": "<div>\n<style scoped>\n    .dataframe tbody tr th:only-of-type {\n        vertical-align: middle;\n    }\n\n    .dataframe tbody tr th {\n        vertical-align: top;\n    }\n\n    .dataframe thead th {\n        text-align: right;\n    }\n</style>\n<table border=\"1\" class=\"dataframe\">\n  <thead>\n    <tr style=\"text-align: right;\">\n      <th></th>\n      <th>Month</th>\n      <th>average monthly players</th>\n      <th>monthly gain/loss</th>\n      <th>peak players in a day</th>\n    </tr>\n  </thead>\n  <tbody>\n    <tr>\n      <th>0</th>\n      <td>Last 30 Days</td>\n      <td>149,980,576</td>\n      <td>-928,184</td>\n      <td>13,498,252</td>\n    </tr>\n    <tr>\n      <th>1</th>\n      <td>October 30, 2022</td>\n      <td>150,908,760</td>\n      <td>-193,595</td>\n      <td>13,581,788</td>\n    </tr>\n    <tr>\n      <th>2</th>\n      <td>September 30, 2022</td>\n      <td>151,102,355</td>\n      <td>972,337</td>\n      <td>13,599,212</td>\n    </tr>\n    <tr>\n      <th>3</th>\n      <td>August 30, 2022</td>\n      <td>150,130,018</td>\n      <td>223,228</td>\n      <td>13,511,702</td>\n    </tr>\n    <tr>\n      <th>4</th>\n      <td>July 30, 2022</td>\n      <td>149,906,790</td>\n      <td>-1,374,568</td>\n      <td>13,491,611</td>\n    </tr>\n  </tbody>\n</table>\n</div>"
     },
     "execution_count": 126,
     "metadata": {},
     "output_type": "execute_result"
    }
   ],
   "source": [
    "df.head()"
   ],
   "metadata": {
    "collapsed": false,
    "pycharm": {
     "name": "#%%\n"
    }
   }
  },
  {
   "cell_type": "code",
   "execution_count": 128,
   "outputs": [
    {
     "data": {
      "text/plain": "                    Month average monthly players monthly gain/loss  \\\ncount                  48                      48                48   \nunique                 47                      48                48   \ntop     December 30, 2020             149,980,576          -928,184   \nfreq                    2                       1                 1   \n\n       peak players in a day  \ncount                     48  \nunique                    48  \ntop               13,498,252  \nfreq                       1  ",
      "text/html": "<div>\n<style scoped>\n    .dataframe tbody tr th:only-of-type {\n        vertical-align: middle;\n    }\n\n    .dataframe tbody tr th {\n        vertical-align: top;\n    }\n\n    .dataframe thead th {\n        text-align: right;\n    }\n</style>\n<table border=\"1\" class=\"dataframe\">\n  <thead>\n    <tr style=\"text-align: right;\">\n      <th></th>\n      <th>Month</th>\n      <th>average monthly players</th>\n      <th>monthly gain/loss</th>\n      <th>peak players in a day</th>\n    </tr>\n  </thead>\n  <tbody>\n    <tr>\n      <th>count</th>\n      <td>48</td>\n      <td>48</td>\n      <td>48</td>\n      <td>48</td>\n    </tr>\n    <tr>\n      <th>unique</th>\n      <td>47</td>\n      <td>48</td>\n      <td>48</td>\n      <td>48</td>\n    </tr>\n    <tr>\n      <th>top</th>\n      <td>December 30, 2020</td>\n      <td>149,980,576</td>\n      <td>-928,184</td>\n      <td>13,498,252</td>\n    </tr>\n    <tr>\n      <th>freq</th>\n      <td>2</td>\n      <td>1</td>\n      <td>1</td>\n      <td>1</td>\n    </tr>\n  </tbody>\n</table>\n</div>"
     },
     "execution_count": 128,
     "metadata": {},
     "output_type": "execute_result"
    }
   ],
   "source": [
    "df.describe()"
   ],
   "metadata": {
    "collapsed": false,
    "pycharm": {
     "name": "#%%\n"
    }
   }
  },
  {
   "cell_type": "code",
   "execution_count": 163,
   "outputs": [
    {
     "data": {
      "text/plain": "                 Month average monthly players monthly gain/loss  \\\n0         Last 30 Days             149,980,576          -928,184   \n1     October 30, 2022             150,908,760          -193,595   \n2   September 30, 2022             151,102,355           972,337   \n3      August 30, 2022             150,130,018           223,228   \n4        July 30, 2022             149,906,790        -1,374,568   \n5        June 30, 2022             151,281,358        -1,670,074   \n6         May 30, 2022             152,951,432           584,771   \n7       April 30, 2022             152,366,661          -946,016   \n8       March 30, 2022             153,312,677        -2,243,554   \n9    February 28, 2022             155,556,231         2,249,220   \n10    January 30, 2022             153,307,011        -1,674,215   \n11   December 30, 2021             154,981,226         4,613,537   \n12   November 30, 2021             150,367,689         1,111,777   \n13    October 30, 2021             149,255,912        -2,041,170   \n14  September 30, 2021             151,297,082          -554,408   \n15     August 30, 2021             151,851,490        -1,464,195   \n16       July 30, 2021             153,315,685         1,678,998   \n17       June 30, 2021             151,636,687         4,768,574   \n18        May 30, 2021             146,868,113         3,065,435   \n19      April 30, 2021             143,802,678        -1,800,813   \n20      March 30, 2021             145,603,491         2,779,912   \n21   February 28, 2021             142,823,579         1,874,552   \n22    January 30, 2021             140,949,027        -5,558,822   \n23   December 30, 2020             146,507,849         4,290,500   \n24   November 30, 2020             142,217,348        23,430,462   \n25    October 30, 2020             118,786,886        -4,920,299   \n26  September 30, 2020             123,707,185        -7,360,004   \n27     August 30, 2020             131,067,188        -3,271,113   \n28       July 30, 2020             134,338,301        -3,372,281   \n29       June 30, 2020             137,710,582        -3,476,578   \n30        May 30, 2020             141,187,161       -13,437,302   \n31      April 30, 2020             154,624,462         9,677,250   \n32      March 30, 2020             144,947,212        10,396,000   \n33   February 28, 2020             134,551,212         3,266,000   \n34    January 30, 2020             131,285,212         6,348,000   \n35   December 30, 2020             124,937,212         8,925,288   \n36   November 30, 2019             116,011,924         8,154,210   \n37    October 30, 2019             107,857,714         1,570,368   \n38  September 30, 2019             106,287,346         4,049,307   \n39     August 30, 2019             102,238,039        -7,321,146   \n40       July 30, 2019             109,559,185         9,706,188   \n41       June 30, 2019              99,852,997       -10,327,384   \n42        May 30, 2019             110,180,381        -5,100,912   \n43      April 30, 2019             115,281,293       -23,351,973   \n44      March 30, 2019             138,633,266         4,681,107   \n45   February 28, 2019             133,952,160        -1,127,900   \n46    January 30, 2019             135,080,060        -7,727,152   \n47   November 30, 2018              25,301,212                     \n\n   peak players in a day  \n0             13,498,252  \n1             13,581,788  \n2             13,599,212  \n3             13,511,702  \n4             13,491,611  \n5             13,615,322  \n6             13,765,629  \n7             13,712,999  \n8             13,798,141  \n9             14,000,061  \n10            13,797,631  \n11            13,948,310  \n12            13,533,092  \n13            13,433,032  \n14            13,616,737  \n15            13,666,634  \n16            13,798,412  \n17            13,647,302  \n18            13,218,130  \n19            12,942,241  \n20            13,104,314  \n21            12,854,122  \n22            12,685,412  \n23            13,185,706  \n24            12,799,561  \n25            10,690,820  \n26             6,232,378  \n27             6,698,512  \n28             7,269,139  \n29             4,871,073  \n30             4,635,438  \n31             5,604,008  \n32             5,184,660  \n33             5,462,500  \n34             4,592,640  \n35             3,985,440  \n36             3,930,798  \n37             3,577,448  \n38             4,049,307  \n39             3,077,473  \n40             3,651,179  \n41             3,230,577  \n42             4,243,958  \n43             4,499,004  \n44             5,666,603  \n45             5,432,547  \n46             3,659,295  \n47                        ",
      "text/html": "<div>\n<style scoped>\n    .dataframe tbody tr th:only-of-type {\n        vertical-align: middle;\n    }\n\n    .dataframe tbody tr th {\n        vertical-align: top;\n    }\n\n    .dataframe thead th {\n        text-align: right;\n    }\n</style>\n<table border=\"1\" class=\"dataframe\">\n  <thead>\n    <tr style=\"text-align: right;\">\n      <th></th>\n      <th>Month</th>\n      <th>average monthly players</th>\n      <th>monthly gain/loss</th>\n      <th>peak players in a day</th>\n    </tr>\n  </thead>\n  <tbody>\n    <tr>\n      <th>0</th>\n      <td>Last 30 Days</td>\n      <td>149,980,576</td>\n      <td>-928,184</td>\n      <td>13,498,252</td>\n    </tr>\n    <tr>\n      <th>1</th>\n      <td>October 30, 2022</td>\n      <td>150,908,760</td>\n      <td>-193,595</td>\n      <td>13,581,788</td>\n    </tr>\n    <tr>\n      <th>2</th>\n      <td>September 30, 2022</td>\n      <td>151,102,355</td>\n      <td>972,337</td>\n      <td>13,599,212</td>\n    </tr>\n    <tr>\n      <th>3</th>\n      <td>August 30, 2022</td>\n      <td>150,130,018</td>\n      <td>223,228</td>\n      <td>13,511,702</td>\n    </tr>\n    <tr>\n      <th>4</th>\n      <td>July 30, 2022</td>\n      <td>149,906,790</td>\n      <td>-1,374,568</td>\n      <td>13,491,611</td>\n    </tr>\n    <tr>\n      <th>5</th>\n      <td>June 30, 2022</td>\n      <td>151,281,358</td>\n      <td>-1,670,074</td>\n      <td>13,615,322</td>\n    </tr>\n    <tr>\n      <th>6</th>\n      <td>May 30, 2022</td>\n      <td>152,951,432</td>\n      <td>584,771</td>\n      <td>13,765,629</td>\n    </tr>\n    <tr>\n      <th>7</th>\n      <td>April 30, 2022</td>\n      <td>152,366,661</td>\n      <td>-946,016</td>\n      <td>13,712,999</td>\n    </tr>\n    <tr>\n      <th>8</th>\n      <td>March 30, 2022</td>\n      <td>153,312,677</td>\n      <td>-2,243,554</td>\n      <td>13,798,141</td>\n    </tr>\n    <tr>\n      <th>9</th>\n      <td>February 28, 2022</td>\n      <td>155,556,231</td>\n      <td>2,249,220</td>\n      <td>14,000,061</td>\n    </tr>\n    <tr>\n      <th>10</th>\n      <td>January 30, 2022</td>\n      <td>153,307,011</td>\n      <td>-1,674,215</td>\n      <td>13,797,631</td>\n    </tr>\n    <tr>\n      <th>11</th>\n      <td>December 30, 2021</td>\n      <td>154,981,226</td>\n      <td>4,613,537</td>\n      <td>13,948,310</td>\n    </tr>\n    <tr>\n      <th>12</th>\n      <td>November 30, 2021</td>\n      <td>150,367,689</td>\n      <td>1,111,777</td>\n      <td>13,533,092</td>\n    </tr>\n    <tr>\n      <th>13</th>\n      <td>October 30, 2021</td>\n      <td>149,255,912</td>\n      <td>-2,041,170</td>\n      <td>13,433,032</td>\n    </tr>\n    <tr>\n      <th>14</th>\n      <td>September 30, 2021</td>\n      <td>151,297,082</td>\n      <td>-554,408</td>\n      <td>13,616,737</td>\n    </tr>\n    <tr>\n      <th>15</th>\n      <td>August 30, 2021</td>\n      <td>151,851,490</td>\n      <td>-1,464,195</td>\n      <td>13,666,634</td>\n    </tr>\n    <tr>\n      <th>16</th>\n      <td>July 30, 2021</td>\n      <td>153,315,685</td>\n      <td>1,678,998</td>\n      <td>13,798,412</td>\n    </tr>\n    <tr>\n      <th>17</th>\n      <td>June 30, 2021</td>\n      <td>151,636,687</td>\n      <td>4,768,574</td>\n      <td>13,647,302</td>\n    </tr>\n    <tr>\n      <th>18</th>\n      <td>May 30, 2021</td>\n      <td>146,868,113</td>\n      <td>3,065,435</td>\n      <td>13,218,130</td>\n    </tr>\n    <tr>\n      <th>19</th>\n      <td>April 30, 2021</td>\n      <td>143,802,678</td>\n      <td>-1,800,813</td>\n      <td>12,942,241</td>\n    </tr>\n    <tr>\n      <th>20</th>\n      <td>March 30, 2021</td>\n      <td>145,603,491</td>\n      <td>2,779,912</td>\n      <td>13,104,314</td>\n    </tr>\n    <tr>\n      <th>21</th>\n      <td>February 28, 2021</td>\n      <td>142,823,579</td>\n      <td>1,874,552</td>\n      <td>12,854,122</td>\n    </tr>\n    <tr>\n      <th>22</th>\n      <td>January 30, 2021</td>\n      <td>140,949,027</td>\n      <td>-5,558,822</td>\n      <td>12,685,412</td>\n    </tr>\n    <tr>\n      <th>23</th>\n      <td>December 30, 2020</td>\n      <td>146,507,849</td>\n      <td>4,290,500</td>\n      <td>13,185,706</td>\n    </tr>\n    <tr>\n      <th>24</th>\n      <td>November 30, 2020</td>\n      <td>142,217,348</td>\n      <td>23,430,462</td>\n      <td>12,799,561</td>\n    </tr>\n    <tr>\n      <th>25</th>\n      <td>October 30, 2020</td>\n      <td>118,786,886</td>\n      <td>-4,920,299</td>\n      <td>10,690,820</td>\n    </tr>\n    <tr>\n      <th>26</th>\n      <td>September 30, 2020</td>\n      <td>123,707,185</td>\n      <td>-7,360,004</td>\n      <td>6,232,378</td>\n    </tr>\n    <tr>\n      <th>27</th>\n      <td>August 30, 2020</td>\n      <td>131,067,188</td>\n      <td>-3,271,113</td>\n      <td>6,698,512</td>\n    </tr>\n    <tr>\n      <th>28</th>\n      <td>July 30, 2020</td>\n      <td>134,338,301</td>\n      <td>-3,372,281</td>\n      <td>7,269,139</td>\n    </tr>\n    <tr>\n      <th>29</th>\n      <td>June 30, 2020</td>\n      <td>137,710,582</td>\n      <td>-3,476,578</td>\n      <td>4,871,073</td>\n    </tr>\n    <tr>\n      <th>30</th>\n      <td>May 30, 2020</td>\n      <td>141,187,161</td>\n      <td>-13,437,302</td>\n      <td>4,635,438</td>\n    </tr>\n    <tr>\n      <th>31</th>\n      <td>April 30, 2020</td>\n      <td>154,624,462</td>\n      <td>9,677,250</td>\n      <td>5,604,008</td>\n    </tr>\n    <tr>\n      <th>32</th>\n      <td>March 30, 2020</td>\n      <td>144,947,212</td>\n      <td>10,396,000</td>\n      <td>5,184,660</td>\n    </tr>\n    <tr>\n      <th>33</th>\n      <td>February 28, 2020</td>\n      <td>134,551,212</td>\n      <td>3,266,000</td>\n      <td>5,462,500</td>\n    </tr>\n    <tr>\n      <th>34</th>\n      <td>January 30, 2020</td>\n      <td>131,285,212</td>\n      <td>6,348,000</td>\n      <td>4,592,640</td>\n    </tr>\n    <tr>\n      <th>35</th>\n      <td>December 30, 2020</td>\n      <td>124,937,212</td>\n      <td>8,925,288</td>\n      <td>3,985,440</td>\n    </tr>\n    <tr>\n      <th>36</th>\n      <td>November 30, 2019</td>\n      <td>116,011,924</td>\n      <td>8,154,210</td>\n      <td>3,930,798</td>\n    </tr>\n    <tr>\n      <th>37</th>\n      <td>October 30, 2019</td>\n      <td>107,857,714</td>\n      <td>1,570,368</td>\n      <td>3,577,448</td>\n    </tr>\n    <tr>\n      <th>38</th>\n      <td>September 30, 2019</td>\n      <td>106,287,346</td>\n      <td>4,049,307</td>\n      <td>4,049,307</td>\n    </tr>\n    <tr>\n      <th>39</th>\n      <td>August 30, 2019</td>\n      <td>102,238,039</td>\n      <td>-7,321,146</td>\n      <td>3,077,473</td>\n    </tr>\n    <tr>\n      <th>40</th>\n      <td>July 30, 2019</td>\n      <td>109,559,185</td>\n      <td>9,706,188</td>\n      <td>3,651,179</td>\n    </tr>\n    <tr>\n      <th>41</th>\n      <td>June 30, 2019</td>\n      <td>99,852,997</td>\n      <td>-10,327,384</td>\n      <td>3,230,577</td>\n    </tr>\n    <tr>\n      <th>42</th>\n      <td>May 30, 2019</td>\n      <td>110,180,381</td>\n      <td>-5,100,912</td>\n      <td>4,243,958</td>\n    </tr>\n    <tr>\n      <th>43</th>\n      <td>April 30, 2019</td>\n      <td>115,281,293</td>\n      <td>-23,351,973</td>\n      <td>4,499,004</td>\n    </tr>\n    <tr>\n      <th>44</th>\n      <td>March 30, 2019</td>\n      <td>138,633,266</td>\n      <td>4,681,107</td>\n      <td>5,666,603</td>\n    </tr>\n    <tr>\n      <th>45</th>\n      <td>February 28, 2019</td>\n      <td>133,952,160</td>\n      <td>-1,127,900</td>\n      <td>5,432,547</td>\n    </tr>\n    <tr>\n      <th>46</th>\n      <td>January 30, 2019</td>\n      <td>135,080,060</td>\n      <td>-7,727,152</td>\n      <td>3,659,295</td>\n    </tr>\n    <tr>\n      <th>47</th>\n      <td>November 30, 2018</td>\n      <td>25,301,212</td>\n      <td></td>\n      <td></td>\n    </tr>\n  </tbody>\n</table>\n</div>"
     },
     "execution_count": 163,
     "metadata": {},
     "output_type": "execute_result"
    }
   ],
   "source": [
    "df"
   ],
   "metadata": {
    "collapsed": false,
    "pycharm": {
     "name": "#%%\n"
    }
   }
  },
  {
   "cell_type": "code",
   "execution_count": 159,
   "outputs": [
    {
     "name": "stdout",
     "output_type": "stream",
     "text": [
      "1\n",
      "October 30, 2022 %Y-%m-%d %H:%M:%S\n"
     ]
    },
    {
     "ename": "TypeError",
     "evalue": "strptime() takes exactly 2 arguments (1 given)",
     "output_type": "error",
     "traceback": [
      "\u001B[1;31m---------------------------------------------------------------------------\u001B[0m",
      "\u001B[1;31mTypeError\u001B[0m                                 Traceback (most recent call last)",
      "Cell \u001B[1;32mIn [159], line 12\u001B[0m\n\u001B[0;32m      9\u001B[0m datem \u001B[38;5;241m=\u001B[39m datetime\u001B[38;5;241m.\u001B[39mdatetime\u001B[38;5;241m.\u001B[39mstrptime(date, \u001B[38;5;124m\"\u001B[39m\u001B[38;5;124m%\u001B[39m\u001B[38;5;124mY-\u001B[39m\u001B[38;5;124m%\u001B[39m\u001B[38;5;124mm-\u001B[39m\u001B[38;5;132;01m%d\u001B[39;00m\u001B[38;5;124m \u001B[39m\u001B[38;5;124m%\u001B[39m\u001B[38;5;124mH:\u001B[39m\u001B[38;5;124m%\u001B[39m\u001B[38;5;124mM:\u001B[39m\u001B[38;5;124m%\u001B[39m\u001B[38;5;124mS\u001B[39m\u001B[38;5;124m\"\u001B[39m)\n\u001B[0;32m     11\u001B[0m \u001B[38;5;28mprint\u001B[39m(df[\u001B[38;5;124m'\u001B[39m\u001B[38;5;124mMonth\u001B[39m\u001B[38;5;124m'\u001B[39m][\u001B[38;5;241m1\u001B[39m],\u001B[38;5;124m\"\u001B[39m\u001B[38;5;124m%\u001B[39m\u001B[38;5;124mY-\u001B[39m\u001B[38;5;124m%\u001B[39m\u001B[38;5;124mm-\u001B[39m\u001B[38;5;132;01m%d\u001B[39;00m\u001B[38;5;124m \u001B[39m\u001B[38;5;124m%\u001B[39m\u001B[38;5;124mH:\u001B[39m\u001B[38;5;124m%\u001B[39m\u001B[38;5;124mM:\u001B[39m\u001B[38;5;124m%\u001B[39m\u001B[38;5;124mS\u001B[39m\u001B[38;5;124m\"\u001B[39m)\n\u001B[1;32m---> 12\u001B[0m \u001B[38;5;28mprint\u001B[39m(\u001B[43mdatetime\u001B[49m\u001B[38;5;241;43m.\u001B[39;49m\u001B[43mdatetime\u001B[49m\u001B[38;5;241;43m.\u001B[39;49m\u001B[43mstrptime\u001B[49m\u001B[43m(\u001B[49m\u001B[43mdf\u001B[49m\u001B[43m[\u001B[49m\u001B[38;5;124;43m'\u001B[39;49m\u001B[38;5;124;43mMonth\u001B[39;49m\u001B[38;5;124;43m'\u001B[39;49m\u001B[43m]\u001B[49m\u001B[43m[\u001B[49m\u001B[38;5;241;43m1\u001B[39;49m\u001B[43m]\u001B[49m\u001B[43m)\u001B[49m)\n",
      "\u001B[1;31mTypeError\u001B[0m: strptime() takes exactly 2 arguments (1 given)"
     ]
    }
   ],
   "source": [
    "import calendar\n",
    "\n",
    "months = {month: index for index, month in enumerate(calendar.month_name) if month}\n",
    "months = months | {'Last':13}\n",
    "print(months.get('January'))\n",
    "# {'Jan': 1, 'Feb': 2, 'Mar': 3, 'Apr': 4, 'May': 5, 'Jun': 6, 'Jul': 7, 'Aug': 8, 'Sep': 9, 'Oct': 10, 'Nov': 11, 'Dec': 12}"
   ],
   "metadata": {
    "collapsed": false,
    "pycharm": {
     "name": "#%%\n"
    }
   }
  },
  {
   "cell_type": "code",
   "execution_count": 165,
   "outputs": [
    {
     "data": {
      "text/plain": "                Month average monthly players monthly gain/loss  \\\n0        Last 30 Days             149,980,576          -928,184   \n1    October 30, 2022             150,908,760          -193,595   \n2  September 30, 2022             151,102,355           972,337   \n3     August 30, 2022             150,130,018           223,228   \n4       July 30, 2022             149,906,790        -1,374,568   \n\n  peak players in a day  Date  Day  Year  \n0            13,498,252    13   30  Days  \n1            13,581,788    10  30,  2022  \n2            13,599,212     9  30,  2022  \n3            13,511,702     8  30,  2022  \n4            13,491,611     7  30,  2022  ",
      "text/html": "<div>\n<style scoped>\n    .dataframe tbody tr th:only-of-type {\n        vertical-align: middle;\n    }\n\n    .dataframe tbody tr th {\n        vertical-align: top;\n    }\n\n    .dataframe thead th {\n        text-align: right;\n    }\n</style>\n<table border=\"1\" class=\"dataframe\">\n  <thead>\n    <tr style=\"text-align: right;\">\n      <th></th>\n      <th>Month</th>\n      <th>average monthly players</th>\n      <th>monthly gain/loss</th>\n      <th>peak players in a day</th>\n      <th>Date</th>\n      <th>Day</th>\n      <th>Year</th>\n    </tr>\n  </thead>\n  <tbody>\n    <tr>\n      <th>0</th>\n      <td>Last 30 Days</td>\n      <td>149,980,576</td>\n      <td>-928,184</td>\n      <td>13,498,252</td>\n      <td>13</td>\n      <td>30</td>\n      <td>Days</td>\n    </tr>\n    <tr>\n      <th>1</th>\n      <td>October 30, 2022</td>\n      <td>150,908,760</td>\n      <td>-193,595</td>\n      <td>13,581,788</td>\n      <td>10</td>\n      <td>30,</td>\n      <td>2022</td>\n    </tr>\n    <tr>\n      <th>2</th>\n      <td>September 30, 2022</td>\n      <td>151,102,355</td>\n      <td>972,337</td>\n      <td>13,599,212</td>\n      <td>9</td>\n      <td>30,</td>\n      <td>2022</td>\n    </tr>\n    <tr>\n      <th>3</th>\n      <td>August 30, 2022</td>\n      <td>150,130,018</td>\n      <td>223,228</td>\n      <td>13,511,702</td>\n      <td>8</td>\n      <td>30,</td>\n      <td>2022</td>\n    </tr>\n    <tr>\n      <th>4</th>\n      <td>July 30, 2022</td>\n      <td>149,906,790</td>\n      <td>-1,374,568</td>\n      <td>13,491,611</td>\n      <td>7</td>\n      <td>30,</td>\n      <td>2022</td>\n    </tr>\n  </tbody>\n</table>\n</div>"
     },
     "execution_count": 165,
     "metadata": {},
     "output_type": "execute_result"
    }
   ],
   "source": [
    "df_date = df.copy()\n",
    "df_date[['Date','Day', 'Year']] = df_date.Month.str.split(expand=True)\n",
    "df_date['Date'] = df_date['Date'].replace(months)\n",
    "df_date.head()"
   ],
   "metadata": {
    "collapsed": false,
    "pycharm": {
     "name": "#%%\n"
    }
   }
  },
  {
   "cell_type": "code",
   "execution_count": 175,
   "outputs": [],
   "source": [
    "month_date = str(df_date.Day[1]) + \" \" + str(df_date.Date[1]) + \" \" +  str(df_date.Year[1])"
   ],
   "metadata": {
    "collapsed": false,
    "pycharm": {
     "name": "#%%\n"
    }
   }
  },
  {
   "cell_type": "code",
   "execution_count": 176,
   "outputs": [
    {
     "name": "stdout",
     "output_type": "stream",
     "text": [
      "30, 10 2022\n"
     ]
    }
   ],
   "source": [
    "print(month_date)"
   ],
   "metadata": {
    "collapsed": false,
    "pycharm": {
     "name": "#%%\n"
    }
   }
  },
  {
   "cell_type": "code",
   "execution_count": 177,
   "outputs": [
    {
     "name": "stdout",
     "output_type": "stream",
     "text": [
      "October 30, 2022 %Y-%m-%d %H:%M:%S\n",
      "2022-10-30 00:00:00\n"
     ]
    }
   ],
   "source": [
    "#date = '2021-05-21 11:22:03'\n",
    "#datem = datetime.datetime.strptime(date, \"%Y-%m-%d %H:%M:%S\")\n",
    "\n",
    "print(df['Month'][1],\"%Y-%m-%d %H:%M:%S\")\n",
    "print(datetime.datetime.strptime(month_date, \"%d, %m %Y\"))"
   ],
   "metadata": {
    "collapsed": false,
    "pycharm": {
     "name": "#%%\n"
    }
   }
  },
  {
   "cell_type": "code",
   "execution_count": null,
   "outputs": [],
   "source": [],
   "metadata": {
    "collapsed": false,
    "pycharm": {
     "name": "#%%\n"
    }
   }
  },
  {
   "cell_type": "markdown",
   "source": [
    "# Overall Conclusion and Answer to our Question"
   ],
   "metadata": {
    "collapsed": false,
    "pycharm": {
     "name": "#%% md\n"
    }
   }
  },
  {
   "cell_type": "code",
   "execution_count": null,
   "outputs": [],
   "source": [],
   "metadata": {
    "collapsed": false,
    "pycharm": {
     "name": "#%%\n"
    }
   }
  }
 ],
 "metadata": {
  "kernelspec": {
   "display_name": "Python 3",
   "language": "python",
   "name": "python3"
  },
  "language_info": {
   "codemirror_mode": {
    "name": "ipython",
    "version": 2
   },
   "file_extension": ".py",
   "mimetype": "text/x-python",
   "name": "python",
   "nbconvert_exporter": "python",
   "pygments_lexer": "ipython2",
   "version": "2.7.6"
  }
 },
 "nbformat": 4,
 "nbformat_minor": 0
}