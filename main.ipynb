{
 "cells": [
  {
   "cell_type": "markdown",
   "source": [
    "# How did the spreading of COVID-19 and the regulations in association with it influence the game market, in particular the game League of Legends, in terms of revenue, monthly player numbers, and popularity in Europe ?"
   ],
   "metadata": {
    "collapsed": false
   }
  },
  {
   "cell_type": "markdown",
   "source": [],
   "metadata": {
    "collapsed": false
   }
  },
  {
   "cell_type": "markdown",
   "source": [
    "As one knows, the spreading of the Coronavirus has lead most of the world into strong quarantine regulations. These regulations made everyone stay at home. Being made to stay at home, people started to take a bigger interest in finding new hobbies, experimenting new fields of interests and deepen there current hobbies.\n",
    "\n",
    "Since leaving your house was an issue, all of these hobbies had to be indoor, therefore one of the booming industries next to the at-home-sports industry was the gaming market. People started to invest more into video games and sharpen their skills.\n",
    "But how much was the gaming industry really impacted by these changes and during which time-period was the boom the strongest? Is it really true that thanks to COVID-19 the industry started rapidly growing again?"
   ],
   "metadata": {
    "collapsed": false
   }
  },
  {
   "cell_type": "markdown",
   "source": [
    "To find an answer to these questions we first had to collect COVID-19 data.\n",
    "The Data we decided to collect was the following:\n",
    "- Data of each month during the first COVID-19 caused quarantine\n",
    "- Number of infections per Month in correlation of population in each European country\n",
    "\n",
    "Therefore we had to find a Data Source , which is able to deliver that data to us. To do so we have researched several APIs, which can be of use. One of these APIs is Coronavirus COVID19 API (https://rapidapi.com/api-sports/api/covid-193).\n",
    "\n",
    "This API provides up-to-date data about Coronavirus outbreak. Including numbers about confirmed cases, deaths and recovered.\n",
    "\n",
    "Of course since COVID is a really recent topics there were other APIs to choose from as well, the problem with these were limited rate limits, country limitations (e.g.: only the US),"
   ],
   "metadata": {
    "collapsed": false,
    "pycharm": {
     "name": "#%% md\n"
    }
   }
  },
  {
   "cell_type": "markdown",
   "source": [
    "## COVID-19 Data\n",
    "\n",
    "Before actually analyzing, visualizing, describing and working with the data we have to collect all the needed data.\n",
    "As previously mentioned we want the data of the first every quarantine, for which the main timespan went from March 2020 til Mai 2020.\n",
    "\n",
    "To get this Data we have to request it from our Coronavirus Tracker API. The results of these requests are going to be in json format, so we have to work with the json library as well."
   ],
   "metadata": {
    "collapsed": false,
    "pycharm": {
     "name": "#%% md\n"
    }
   }
  },
  {
   "cell_type": "code",
   "execution_count": 1,
   "outputs": [],
   "source": [
    "import pandas as pd\n",
    "import requests\n",
    "import json\n",
    "import datetime"
   ],
   "metadata": {
    "collapsed": false,
    "pycharm": {
     "name": "#%%\n"
    }
   }
  },
  {
   "cell_type": "markdown",
   "source": [
    "Since we want each country we are setting up a List, which contains all countries of europe."
   ],
   "metadata": {
    "collapsed": false,
    "pycharm": {
     "name": "#%% md\n"
    }
   }
  },
  {
   "cell_type": "code",
   "execution_count": 2,
   "outputs": [
    {
     "name": "stdout",
     "output_type": "stream",
     "text": [
      "Number of Countries: 50\n"
     ]
    }
   ],
   "source": [
    "# we need the country list\n",
    "# country list is parted in three seperate lists to keep the rate limit low\n",
    "europe_country_list = [\"Albania\", \"Andorra\", \"Armenia\", \"Austria\", \"Azerbaijan\", \"Belarus\", \"Belgium\", \"Bosnia and Herzegovina\", \"Bulgaria\", \"Croatia\", \"Cyprus\", \"Czech Republic\", \"Denmark\", \"Estonia\", \"Finland\", \"France\", \"Georgia\", \"Germany\", \"Greece\", \"Hungary\", \"Iceland\", \"Ireland\", \"Italy\", \"Kazakhstan\", \"Latvia\", \"Liechtenstein\", \"Lithuania\", \"Luxembourg\", \"Macedonia\", \"Malta\", \"Moldova\", \"Monaco\", \"Montenegro\", \"Netherlands\", \"Norway\", \"Poland\",\"Portugal\",\"Romania\", \"Russia\", \"San Marino\", \"Serbia\", \"Slovakia\", \"Slovenia\", \"Spain\", \"Sweden\", \"Switzerland\", \"Turkey\", \"Ukraine\",\"United Kingdom\", \"Vatican City\"]\n",
    "\n",
    "print(f\"Number of Countries: {len(europe_country_list)}\" )"
   ],
   "metadata": {
    "collapsed": false,
    "pycharm": {
     "name": "#%%\n"
    }
   }
  },
  {
   "cell_type": "markdown",
   "source": [
    "In the next step we use this list ot gather the information per month and for each country."
   ],
   "metadata": {
    "collapsed": false,
    "pycharm": {
     "name": "#%% md\n"
    }
   }
  },
  {
   "cell_type": "code",
   "execution_count": 3,
   "outputs": [],
   "source": [
    "url = \"https://covid-193.p.rapidapi.com/history\"\n",
    "\n",
    "headers = {\n",
    "\t\"X-RapidAPI-Key\": \"ba735a5542msh0672a6a248c9225p1ba64djsnfd32c8982360\",\n",
    "\t\"X-RapidAPI-Host\": \"covid-193.p.rapidapi.com\"\n",
    "}\n"
   ],
   "metadata": {
    "collapsed": false,
    "pycharm": {
     "name": "#%%\n"
    }
   }
  },
  {
   "cell_type": "markdown",
   "source": [
    "### March Data"
   ],
   "metadata": {
    "collapsed": false,
    "pycharm": {
     "name": "#%% md\n"
    }
   }
  },
  {
   "cell_type": "code",
   "execution_count": null,
   "outputs": [],
   "source": [
    "# collect the results for each country in that specific timeframe\n",
    "# march\n",
    "start_date = datetime.date(2020, 3, 1)\n",
    "end_date = datetime.date(2020, 4, 1)\n",
    "delta = datetime.timedelta(days=1)\n",
    "\n",
    "for country in europe_country_list:\n",
    "    j = []\n",
    "    while start_date <= end_date:\n",
    "        querystring = {\"country\":f\"{country}\",\"day\":f\"{start_date}\"}\n",
    "        result = requests.request(\"GET\", url, headers=headers, params=querystring)\n",
    "        country_json = result.json()\n",
    "        # put it into the countries json\n",
    "        j.append(country_json)\n",
    "        start_date += delta\n",
    "    # save the json\n",
    "    with open(f\"covid_data/api_data/march/{country}_march.json\", \"w\") as jsonfile:\n",
    "        json.dump(j, jsonfile)\n",
    "    # set start date again\n",
    "    start_date = datetime.date(2020, 3, 1)"
   ],
   "metadata": {
    "collapsed": false,
    "pycharm": {
     "name": "#%%\n",
     "is_executing": true
    }
   }
  },
  {
   "cell_type": "markdown",
   "source": [
    "### April Data"
   ],
   "metadata": {
    "collapsed": false,
    "pycharm": {
     "name": "#%% md\n"
    }
   }
  },
  {
   "cell_type": "code",
   "execution_count": 7,
   "outputs": [],
   "source": [
    "# april\n",
    "start_date = datetime.date(2020, 4, 1)\n",
    "end_date = datetime.date(2020, 5, 1)\n",
    "delta = datetime.timedelta(days=1)\n",
    "\n",
    "for country in europe_country_list:\n",
    "    j = []\n",
    "    while start_date <= end_date:\n",
    "        querystring = {\"country\":f\"{country}\",\"day\":f\"{start_date}\"}\n",
    "        result = requests.request(\"GET\", url, headers=headers, params=querystring)\n",
    "        country_json = result.json()\n",
    "        # put it into the countries json\n",
    "        j.append(country_json)\n",
    "        start_date += delta\n",
    "    # save the json\n",
    "    with open(f\"covid_data/api_data/april/{country}_april.json\", \"w\") as jsonfile:\n",
    "        json.dump(j, jsonfile)\n",
    "    start_date = datetime.date(2020, 4, 1)"
   ],
   "metadata": {
    "collapsed": false,
    "pycharm": {
     "name": "#%%\n"
    }
   }
  },
  {
   "cell_type": "markdown",
   "source": [
    "### Mai Data"
   ],
   "metadata": {
    "collapsed": false,
    "pycharm": {
     "name": "#%% md\n"
    }
   }
  },
  {
   "cell_type": "code",
   "execution_count": null,
   "outputs": [],
   "source": [
    "# mai\n",
    "start_date = datetime.date(2020, 5, 1)\n",
    "end_date = datetime.date(2020, 6, 1)\n",
    "delta = datetime.timedelta(days=1)\n",
    "\n",
    "for country in europe_country_list:\n",
    "    j = []\n",
    "    while start_date <= end_date:\n",
    "        querystring = {\"country\":f\"{country}\",\"day\":f\"{start_date}\"}\n",
    "        result = requests.request(\"GET\", url, headers=headers, params=querystring)\n",
    "        country_json = result.json()\n",
    "        # put it into the countries json\n",
    "        j.append(country_json)\n",
    "        start_date += delta\n",
    "    # save the json\n",
    "    with open(f\"covid_data/api_data/mai/{country}_mai.json\", \"w\") as jsonfile:\n",
    "        json.dump(j, jsonfile)\n",
    "    start_date = datetime.date(2020, 5, 1)"
   ],
   "metadata": {
    "collapsed": false,
    "pycharm": {
     "name": "#%%\n"
    }
   }
  },
  {
   "cell_type": "markdown",
   "source": [
    "## Saving the Data"
   ],
   "metadata": {
    "collapsed": false,
    "pycharm": {
     "name": "#%% md\n"
    }
   }
  },
  {
   "cell_type": "markdown",
   "source": [
    "## Visualizing Data"
   ],
   "metadata": {
    "collapsed": false,
    "pycharm": {
     "name": "#%% md\n"
    }
   }
  },
  {
   "cell_type": "markdown",
   "source": [
    "## Enrichment - Regulations\n",
    "In Big Data it is important that the Data is not only collected, but that is also has some Value. To make Data valuable we have to enrich the data, meaning we bring some context to it. This can be achieved by forming a context as said. In our case this is going to mean that just the total number of cases is not enough. Next to the cases we need the regulations the countries have set during those specific months - Were bars closed? Were the clubs closed? Were people able to meet outside ? and so on.\n",
    "\n",
    "Since these factors are also of great importance.\n",
    "\n",
    "To do so we have found a .csv file which provides us with all the information concerning the countries regulations and how long these regulations were up and therefore had to be followed.\n",
    "This data was found on the following website: https://www.ecdc.europa.eu/en/publications-data/download-data-response-measures-covid-19"
   ],
   "metadata": {
    "collapsed": false,
    "pycharm": {
     "name": "#%% md\n"
    }
   }
  },
  {
   "cell_type": "code",
   "execution_count": null,
   "outputs": [],
   "source": [
    "regulations_df = pd.read_csv(\"covid_data/country_regulations.csv\")\n",
    "regulations_df.head()"
   ],
   "metadata": {
    "collapsed": false,
    "pycharm": {
     "name": "#%%\n"
    }
   }
  },
  {
   "cell_type": "code",
   "execution_count": null,
   "outputs": [],
   "source": [],
   "metadata": {
    "collapsed": false,
    "pycharm": {
     "name": "#%%\n"
    }
   }
  }
 ],
 "metadata": {
  "kernelspec": {
   "display_name": "Python 3",
   "language": "python",
   "name": "python3"
  },
  "language_info": {
   "codemirror_mode": {
    "name": "ipython",
    "version": 2
   },
   "file_extension": ".py",
   "mimetype": "text/x-python",
   "name": "python",
   "nbconvert_exporter": "python",
   "pygments_lexer": "ipython2",
   "version": "2.7.6"
  }
 },
 "nbformat": 4,
 "nbformat_minor": 0
}