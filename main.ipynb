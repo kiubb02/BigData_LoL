{
 "cells": [
  {
   "cell_type": "markdown",
   "source": [
    "# How did the spreading of COVID-19 and the regulations in association with it influence the game market, in particular the game League of Legends, in terms of revenue, monthly player numbers, and popularity in Europe ?"
   ],
   "metadata": {
    "collapsed": false,
    "pycharm": {
     "name": "#%% md\n"
    }
   }
  },
  {
   "cell_type": "markdown",
   "source": [
    "As one knows, the spreading of the Coronavirus has lead most of the world into strong quarantine regulations. These regulations made everyone stay at home. Being made to stay at home, people started to take a bigger interest in finding new hobbies, experimenting new fields of interests and deepen there current hobbies.\n",
    "\n",
    "Since leaving your house was an issue, all of these hobbies had to be indoor, therefore one of the booming industries next to the at-home-sports industry was the gaming market. People started to invest more into video games and sharpen their skills. But how much was the gaming industry really impacted by these changes and during which time-period was the boom the strongest? Is it really true that thanks to COVID-19 the industry started rapidly growing again?"
   ],
   "metadata": {
    "collapsed": false,
    "pycharm": {
     "name": "#%% md\n"
    }
   }
  },
  {
   "cell_type": "markdown",
   "source": [
    "To find an answer to these questions we first had to collect COVID-19 data.\n",
    "The Data we decided to collect was the following:\n",
    "- Data of each month during the first COVID-19 caused quarantine\n",
    "- Number of infections per Month in correlation of population in each European country\n",
    "\n",
    "Therefore we had to find a Data Source , which is able to deliver that data to us. To do so we have researched several APIs, which can be of use. One of these APIs is Coronavirus COVID19 API (https://rapidapi.com/api-sports/api/covid-193).\n",
    "\n",
    "This API provides up-to-date data about Coronavirus outbreak. Including numbers about confirmed cases, deaths and recovered.\n",
    "\n",
    "Of course since COVID is a really recent topics there were other APIs to choose from as well, the problem with these were limited rate limits, country limitations (e.g.: only the US),"
   ],
   "metadata": {
    "collapsed": false,
    "pycharm": {
     "name": "#%% md\n"
    }
   }
  },
  {
   "cell_type": "markdown",
   "source": [
    "# Data Source\n",
    "\n",
    "To answer our question we have to collect data which in our case would be :\n",
    "- covid 19 data (europe centered) from an api\n",
    "- game data (count of players)\n",
    "- league of legends data\n",
    "\n",
    "These three main sources are here to visualize and help us understand if covid 19 had any influence on game popularity.\n",
    "\n",
    "## COVID-19 Data\n",
    "\n",
    "Before actually analyzing, visualizing, describing and working with the data we have to collect all the needed data.\n",
    "As previously mentioned we want the data of the first every quarantine, for which the main timespan went from March 2020 til Mai 2020.\n",
    "\n",
    "To get this Data we have to request it from our Coronavirus Tracker API. The results of these requests are going to be in json format, so we have to work with the json library as well."
   ],
   "metadata": {
    "collapsed": false,
    "pycharm": {
     "name": "#%% md\n"
    }
   }
  },
  {
   "cell_type": "code",
<<<<<<< HEAD
   "execution_count": 12,
=======
   "execution_count": 6,
>>>>>>> a384b7e801700d96abf2b4397a5429b6aab8229d
   "outputs": [],
   "source": [
    "import pandas as pd\n",
    "import requests\n",
    "import json\n",
    "import datetime"
   ],
   "metadata": {
    "collapsed": false,
    "pycharm": {
     "name": "#%%\n"
    }
   }
  },
  {
   "cell_type": "markdown",
   "source": [
    "Since we want each country we are setting up a List, which contains all countries of europe."
   ],
   "metadata": {
    "collapsed": false,
    "pycharm": {
     "name": "#%% md\n"
    }
   }
  },
  {
   "cell_type": "code",
<<<<<<< HEAD
   "execution_count": 13,
=======
   "execution_count": 7,
>>>>>>> a384b7e801700d96abf2b4397a5429b6aab8229d
   "outputs": [
    {
     "name": "stdout",
     "output_type": "stream",
     "text": [
      "Number of Countries: 50\n"
     ]
    }
   ],
   "source": [
    "# we need the country list\n",
    "# country list is parted in three seperate lists to keep the rate limit low\n",
    "europe_country_list = [\"Albania\", \"Andorra\", \"Armenia\", \"Austria\", \"Azerbaijan\", \"Belarus\", \"Belgium\", \"Bosnia and Herzegovina\", \"Bulgaria\", \"Croatia\", \"Cyprus\", \"Czech Republic\", \"Denmark\", \"Estonia\", \"Finland\", \"France\", \"Georgia\", \"Germany\", \"Greece\", \"Hungary\", \"Iceland\", \"Ireland\", \"Italy\", \"Kazakhstan\", \"Latvia\", \"Liechtenstein\", \"Lithuania\", \"Luxembourg\", \"Macedonia\", \"Malta\", \"Moldova\", \"Monaco\", \"Montenegro\", \"Netherlands\", \"Norway\", \"Poland\",\"Portugal\",\"Romania\", \"Russia\", \"San Marino\", \"Serbia\", \"Slovakia\", \"Slovenia\", \"Spain\", \"Sweden\", \"Switzerland\", \"Turkey\", \"Ukraine\",\"United Kingdom\", \"Vatican City\"]\n",
    "\n",
    "print(f\"Number of Countries: {len(europe_country_list)}\" )"
   ],
   "metadata": {
    "collapsed": false,
    "pycharm": {
     "name": "#%%\n"
    }
   }
  },
  {
   "cell_type": "markdown",
   "source": [
    "In the next step we use this list ot gather the information per month and for each country."
   ],
   "metadata": {
    "collapsed": false,
    "pycharm": {
     "name": "#%% md\n"
    }
   }
  },
  {
   "cell_type": "code",
<<<<<<< HEAD
   "execution_count": 14,
=======
   "execution_count": 10,
>>>>>>> a384b7e801700d96abf2b4397a5429b6aab8229d
   "outputs": [],
   "source": [
    "url = \"https://covid-193.p.rapidapi.com/history\"\n",
    "\n",
    "headers = {\n",
    "\t\"X-RapidAPI-Key\": \"ba735a5542msh0672a6a248c9225p1ba64djsnfd32c8982360\",\n",
    "\t\"X-RapidAPI-Host\": \"covid-193.p.rapidapi.com\"\n",
    "}\n"
   ],
   "metadata": {
    "collapsed": false,
    "pycharm": {
     "name": "#%%\n"
    }
   }
  },
  {
   "cell_type": "markdown",
   "source": [
    "### March Data"
   ],
   "metadata": {
    "collapsed": false,
    "pycharm": {
     "name": "#%% md\n"
    }
   }
  },
  {
   "cell_type": "code",
   "execution_count": null,
   "outputs": [],
   "source": [
    "# collect the results for each country in that specific timeframe\n",
    "# march\n",
    "start_date = datetime.date(2020, 3, 1)\n",
    "end_date = datetime.date(2020, 4, 1)\n",
    "delta = datetime.timedelta(days=1)\n",
    "\n",
    "for country in europe_country_list:\n",
    "    j = []\n",
    "    while start_date <= end_date:\n",
    "        querystring = {\"country\":f\"{country}\",\"day\":f\"{start_date}\"}\n",
    "        result = requests.request(\"GET\", url, headers=headers, params=querystring)\n",
    "        country_json = result.json()\n",
    "        # put it into the countries json\n",
    "        j.append(country_json)\n",
    "        start_date += delta\n",
    "    # save the json\n",
    "    with open(f\"covid_data/api_data/march/{country}_march.json\", \"w\") as jsonfile:\n",
    "        json.dump(j, jsonfile)\n",
    "    # set start date again\n",
    "    start_date = datetime.date(2020, 3, 1)"
   ],
   "metadata": {
    "collapsed": false,
    "pycharm": {
     "name": "#%%\n",
     "is_executing": true
    }
   }
  },
  {
   "cell_type": "markdown",
   "source": [
    "### April Data"
   ],
   "metadata": {
    "collapsed": false,
    "pycharm": {
     "name": "#%% md\n"
    }
   }
  },
  {
   "cell_type": "code",
   "execution_count": null,
   "outputs": [],
   "source": [
    "# april\n",
    "start_date = datetime.date(2020, 4, 1)\n",
    "end_date = datetime.date(2020, 5, 1)\n",
    "delta = datetime.timedelta(days=1)\n",
    "\n",
    "for country in europe_country_list:\n",
    "    j = []\n",
    "    while start_date <= end_date:\n",
    "        querystring = {\"country\":f\"{country}\",\"day\":f\"{start_date}\"}\n",
    "        result = requests.request(\"GET\", url, headers=headers, params=querystring)\n",
    "        country_json = result.json()\n",
    "        # put it into the countries json\n",
    "        j.append(country_json)\n",
    "        start_date += delta\n",
    "    # save the json\n",
    "    with open(f\"covid_data/api_data/april/{country}_april.json\", \"w\") as jsonfile:\n",
    "        json.dump(j, jsonfile)\n",
    "    start_date = datetime.date(2020, 4, 1)"
   ],
   "metadata": {
    "collapsed": false,
    "pycharm": {
     "name": "#%%\n",
     "is_executing": true
    }
   }
  },
  {
   "cell_type": "markdown",
   "source": [
    "### Mai Data"
   ],
   "metadata": {
    "collapsed": false,
    "pycharm": {
     "name": "#%% md\n"
    }
   }
  },
  {
   "cell_type": "code",
   "execution_count": null,
   "outputs": [],
   "source": [
    "# mai\n",
    "start_date = datetime.date(2020, 5, 1)\n",
    "end_date = datetime.date(2020, 6, 1)\n",
    "delta = datetime.timedelta(days=1)\n",
    "\n",
    "for country in europe_country_list:\n",
    "    j = []\n",
    "    while start_date <= end_date:\n",
    "        querystring = {\"country\":f\"{country}\",\"day\":f\"{start_date}\"}\n",
    "        result = requests.request(\"GET\", url, headers=headers, params=querystring)\n",
    "        country_json = result.json()\n",
    "        # put it into the countries json\n",
    "        j.append(country_json)\n",
    "        start_date += delta\n",
    "    # save the json\n",
    "    with open(f\"covid_data/api_data/mai/{country}_mai.json\", \"w\") as jsonfile:\n",
    "        json.dump(j, jsonfile)\n",
    "    start_date = datetime.date(2020, 5, 1)"
   ],
   "metadata": {
    "collapsed": false,
    "pycharm": {
     "name": "#%%\n",
     "is_executing": true
    }
   }
  },
  {
   "cell_type": "markdown",
   "source": [
    "Now that all the data has been collected we should also take a look upon what exactly has been collected and what the data consists of. For each country in our Europe List we collected the *History* of each country. When collecting the history one gets the following data for each date passed:\n",
    "- day\n",
    "- number of results\n",
    "- response : continent, country, population, cases, deaths, tests\n",
    "\n",
    "We are most interested in the cases parameter alongside with which regulations where present during that time.\n",
    "When looking at the cases for each date per country we get the following:\n",
    "- new cases\n",
    "- active cases\n",
    "- critical cases\n",
    "- recovered cases\n",
    "- total cases\n",
    "\n",
    "Let's take a look at one example:"
   ],
   "metadata": {
    "collapsed": false,
    "pycharm": {
     "name": "#%% md\n"
    }
   }
  },
  {
   "cell_type": "code",
   "execution_count": null,
   "outputs": [],
   "source": [
    "import json\n",
    "\n",
    "with open('covid_data/api_data/april/Albania_april.json', 'r') as handle:\n",
    "    parsed = json.load(handle)\n",
    "\n",
    "print(json.dumps(parsed, indent=4))"
   ],
   "metadata": {
    "collapsed": false,
    "pycharm": {
     "name": "#%%\n"
    }
   }
  },
  {
   "cell_type": "markdown",
   "source": [
    "As one can also see: for each date given we get multiple statistical responses since the covid data was obviously updated regularly over the day. We will use the latest given values of the day for our inspections. Furthermore we will only use the number of total cases, since the number of new cases has been stated differently per country ( either they say how much in comparison to before or the total number + the new number ).\n",
    "\n",
    "So to make it easier for us we will create 3 Dataframes, in which each dataframe represents one month with countries, dates and the total cases of that date."
   ],
   "metadata": {
    "collapsed": false,
    "pycharm": {
     "name": "#%% md\n"
    }
   }
  },
  {
   "cell_type": "code",
   "execution_count": null,
   "outputs": [],
   "source": [
    "for song in parsed:\n",
    "    # country\n",
    "    print(song['parameters'][\"country\"])\n",
    "    # total numbers\n",
    "    print(song['response'][0][\"cases\"][\"total\"])\n",
    "    # date and time\n",
    "    print(song['response'][0][\"time\"])"
   ],
   "metadata": {
    "collapsed": false,
    "pycharm": {
     "name": "#%%\n"
    }
   }
  },
  {
   "cell_type": "markdown",
   "source": [
    "Now we will do exactly what we did there for each month and all the files available. If there is nothing to catch from that country in terms of total number of cases or an error has occurecd then nothing will be added to the dataframe"
   ],
   "metadata": {
    "collapsed": false,
    "pycharm": {
     "name": "#%% md\n"
    }
   }
  },
  {
   "cell_type": "markdown",
   "source": [
    "### April"
   ],
   "metadata": {
    "collapsed": false,
    "pycharm": {
     "name": "#%% md\n"
    }
   }
  },
  {
   "cell_type": "code",
   "execution_count": null,
   "outputs": [],
   "source": [
    "# empty dataframe\n",
    "april_df = pd.DataFrame(columns = [\"Country\", \"DateTime\", \"Total Cases\"])"
   ],
   "metadata": {
    "collapsed": false,
    "pycharm": {
     "name": "#%%\n"
    }
   }
  },
  {
   "cell_type": "code",
   "execution_count": null,
   "outputs": [],
   "source": [
    "# iterate through the folder, parse each file and add the information into the dataframe\n",
    "import os\n",
    "# assign directory\n",
    "directory = 'covid_data/api_data/april'\n",
    "\n",
    "# iterate over files in\n",
    "# that directory\n",
    "for filename in os.listdir(directory):\n",
    "    f = os.path.join(directory, filename)\n",
    "    with open(f, 'r') as handle:\n",
    "        parsed = json.load(handle)\n",
    "        for info in parsed:\n",
    "            # country\n",
    "            country = info['parameters'][\"country\"]\n",
    "            # total numbers\n",
    "            total_cases = info['response'][0][\"cases\"][\"total\"]\n",
    "            # date and time\n",
    "            date_time = info['response'][0][\"time\"]\n",
    "            # add this into the dataframe\n",
    "            april_df = april_df.append({'Country' : country, 'DateTime' : date_time, 'Total Cases' : total_cases}, ignore_index = True)\n",
    "    print(country)"
   ],
   "metadata": {
    "collapsed": false,
    "pycharm": {
     "name": "#%%\n"
    }
   }
  },
  {
   "cell_type": "markdown",
   "source": [
    "### March"
   ],
   "metadata": {
    "collapsed": false,
    "pycharm": {
     "name": "#%% md\n"
    }
   }
  },
  {
   "cell_type": "code",
   "execution_count": null,
   "outputs": [],
   "source": [
    "# iterate through the folder, parse each file and add the information into the dataframe\n",
    "import os\n",
    "# assign directory\n",
    "directory = 'covid_data/api_data/march'\n",
    "\n",
    "march_df = pd.DataFrame(columns = [\"Country\", \"DateTime\", \"Total Cases\"])\n",
    "\n",
    "# iterate over files in\n",
    "# that directory\n",
    "for filename in os.listdir(directory):\n",
    "    f = os.path.join(directory, filename)\n",
    "    with open(f, 'r') as handle:\n",
    "        parsed = json.load(handle)\n",
    "        for info in parsed:\n",
    "            # country\n",
    "            country = info['parameters'][\"country\"]\n",
    "            # total numbers\n",
    "            total_cases = info['response'][0][\"cases\"][\"total\"]\n",
    "            # date and time\n",
    "            date_time = info['response'][0][\"time\"]\n",
    "            # add this into the dataframe\n",
    "            march_df = march_df.append({'Country' : country, 'DateTime' : date_time, 'Total Cases' : total_cases}, ignore_index = True)\n",
    "    print(country)"
   ],
   "metadata": {
    "collapsed": false,
    "pycharm": {
     "name": "#%%\n"
    }
   }
  },
  {
   "cell_type": "markdown",
   "source": [
    "### Mai"
   ],
   "metadata": {
    "collapsed": false,
    "pycharm": {
     "name": "#%% md\n"
    }
   }
  },
  {
   "cell_type": "code",
   "execution_count": null,
   "outputs": [],
   "source": [
    "# iterate through the folder, parse each file and add the information into the dataframe\n",
    "import os\n",
    "# assign directory\n",
    "directory = 'covid_data/api_data/mai'\n",
    "\n",
    "mai_df = pd.DataFrame(columns = [\"Country\", \"DateTime\", \"Total Cases\"])\n",
    "\n",
    "# iterate over files in\n",
    "# that directory\n",
    "for filename in os.listdir(directory):\n",
    "    f = os.path.join(directory, filename)\n",
    "    with open(f, 'r') as handle:\n",
    "        parsed = json.load(handle)\n",
    "        for info in parsed:\n",
    "            # country\n",
    "            country = info['parameters'][\"country\"]\n",
    "            # total numbers\n",
    "            total_cases = info['response'][0][\"cases\"][\"total\"]\n",
    "            # date and time\n",
    "            date_time = info['response'][0][\"time\"]\n",
    "            # add this into the dataframe\n",
    "            mai_df = mai_df.append({'Country' : country, 'DateTime' : date_time, 'Total Cases' : total_cases}, ignore_index = True)\n",
    "    print(country)"
   ],
   "metadata": {
    "collapsed": false,
    "pycharm": {
     "name": "#%%\n"
    }
   }
  },
  {
   "cell_type": "markdown",
   "source": [
    "## Enrichment - Regulations\n",
    "In Big Data it is important that the Data is not only collected, but that is also has some Value. To make Data valuable we have to enrich the data, meaning we bring some context to it. This can be achieved by forming a context as said. In our case this is going to mean that just the total number of cases is not enough. Next to the cases we need the regulations the countries have set during those specific months - Were bars closed? Were the clubs closed? Were people able to meet outside ? and so on.\n",
    "\n",
    "Since these factors are also of great importance.\n",
    "\n",
    "To do so we have found a .csv file which provides us with all the information concerning the countries regulations and how long these regulations were up and therefore had to be followed.\n",
    "This data was found on the following website: https://www.ecdc.europa.eu/en/publications-data/download-data-response-measures-covid-19"
   ],
   "metadata": {
    "collapsed": false,
    "pycharm": {
     "name": "#%% md\n"
    }
   }
  },
  {
   "cell_type": "code",
   "execution_count": null,
   "outputs": [],
   "source": [
    "regulations_df = pd.read_csv(\"covid_data/country_regulations.csv\")\n",
    "regulations_df.head()"
   ],
   "metadata": {
    "collapsed": false,
    "pycharm": {
     "name": "#%%\n"
    }
   }
  },
  {
   "cell_type": "markdown",
   "source": [
    "As one can see we get the Country the Response measure and the date when the measure started and until when it was present.\n",
    "The Response Measures in this dataframe are:"
   ],
   "metadata": {
    "collapsed": false,
    "pycharm": {
     "name": "#%% md\n"
    }
   }
  },
  {
   "cell_type": "code",
   "execution_count": null,
   "outputs": [],
   "source": [
    "regulations_df.Response_measure.unique()"
   ],
   "metadata": {
    "collapsed": false,
    "pycharm": {
     "name": "#%%\n"
    }
   }
  },
  {
   "cell_type": "markdown",
   "source": [
    "Those regulations mean the following:\n",
    "\n",
    "- StayHomeOrder = Stay-at-home orders for the general population (these are enforced and also referred to as ‘lockdown’)\n",
    "- RegionalStayHomeOrder = Regional stay-at-home orders for the general population at least in one region (these are enforced and also referred to as ‘lockdown’)\n",
    "- StayHomeGen = Stay-at-home recommendations for the general population (which are voluntary or not enforced)\n",
    "- StayHomeRiskG = Stay-at-home recommendations for risk groups or vulnerable populations (such as the elderly, people with underlying health conditions, physically disabled people, etc.)\n",
    "- SocialCircle = Social circle/bubble to limit social contacts e.g. to limited number of households\n",
    "- PrivateGatheringRestrictions = Restrictions on private gatherings\n",
    "- ClosDaycare = Closure of educational institutions: daycare or nursery.\n",
    "- ClosPrim = Closure of educational institutions: primary schools.\n",
    "- ClosSec = Closure of educational institutions: secondary schools.\n",
    "- ClosHigh = Closure of educational institutions: higher education\n",
    "- MassGatherAll = Interventions are in place to limit mass/public gatherings (any interventions on mass gatherings up to 1000 participants included)\n",
    "- BanOnAllEvents = Interventions are in place to limit all indoor/outdoor mass/public gatherings\n",
    "- IndoorOver50 = Interventions are in place to limit indoor mass/public gatherings of over 50 participants\n",
    "- IndoorOver100 = Interventions are in place to limit indoor mass/public gatherings of over 100 participants\n",
    "- IndoorOver500 = Interventions are in place to limit indoor mass/public gatherings of over 500 participants\n",
    "- IndoorOver1000 = Interventions are in place to limit indoor mass/public gatherings of over 1000 participants\n",
    "- OutdoorOver50 = Interventions are in place to limit outdoor mass/public gatherings of over 50 participants\n",
    "- OutdoorOver100 = Interventions are in place to limit outdoor mass/public gatherings of over 100 participants\n",
    "- OutdoorOver500 = Interventions are in place to limit outdoor mass/public gatherings of over 500 participants\n",
    "- OutdoorOver1000 = Interventions are in place to limit outdoor mass/public gatherings of over 1000 participants\n",
    "- ClosPubAny = Closure of public spaces of any kind (including restaurants, entertainment venues, non-essential shops, partial or full closure of public transport, gyms and sport centers, etc).\n",
    "- EntertainmentVenues = Closure of entertainment venues\n",
    "- ClosureOfPublicTransport = Closure of public transport\n",
    "- GymsSportsCentres = Closure of gyms/sports centres\n",
    "- HotelsAccommodation = Closure of hotels/accommodation services\n",
    "- NonEssentialShops = Closures of non-essential shops\n",
    "- PlaceOfWorship = Closure of places of worship\n",
    "- RestaurantsCafes = Closure of restaurants and cafes/bars\n",
    "- MasksVoluntaryAllSpaces = Protective mask use in all public spaces on voluntary basis (general recommendation not enforced)\n",
    "- MasksVoluntaryClosedSpaces = Protective mask use in closed public spaces/transport on voluntary basis (general recommendation not enforced)\n",
    "- MasksMandatoryAllSpaces = Protective mask use in all public spaces on mandatory basis (enforced by law)\n",
    "- MasksMandatoryClosedSpaces = Protective mask use in closed public spaces/transport on mandatory basis (enforced by law)\n",
    "- Teleworking = Teleworking recommendation\n",
    "- AdaptationOfWorkplace = Adaptation of workplaces (e.g. to reduce risk of transmission)\n",
    "- WorkplaceClosures = Closures of workplaces\n",
    "- StayHomeOrderPartial = Stay-at-home orders for the general population (these are enforced and also referred to as ‘lockdown’) – partially relaxed measure\n",
    "- RegionalStayHomeOrderPartial = Regional stay-at-home orders for the general population at least in one region (these are enforced and also referred to as ‘lockdown’) – partially relaxed measure\n",
    "- StayHomeGenPartial = Stay-at-home recommendations for the general population (which are voluntary or not enforced) – partially relaxed measure\n",
    "- StayHomeRiskGPartial = Stay-at-home recommendations for risk groups or vulnerable populations (such as the elderly, people with underlying health conditions, physically disabled people, etc.) – partially relaxed measure\n",
    "- SocialCirclePartial = Social circle/bubble to limit social contacts e.g. to limited number of households – partially relaxed measure\n",
    "- PrivateGatheringRestrictionsPartial = Restrictions on private gatherings – partially relaxed measure\n",
    "- ClosDaycarePartial = Closure of educational institutions: daycare or nursery –partially relaxed measure\n",
    "- ClosPrimPartial = Closure of educational institutions: primary schools – partially relaxed measure\n",
    "- ClosSecPartial = Closure of educational institutions: secondary schools –partially relaxed measure\n",
    "- ClosHighPartial = Closure of educational institutions: higher education – partially relaxed measure\n",
    "- MassGatherAllPartial = Interventions are in place to limit mass/public gatherings (any interventions on mass gatherings up to 1000 participants included) – partially relaxed measure\n",
    "- BanOnAllEventsPartial = Interventions are in place to limit all indoor/outdoor mass/public gatherings – partially relaxed measure\n",
    "- IndoorOver50Partial = Interventions are in place to limit indoor mass/public gatherings of over 50 participants – partially relaxed measure\n",
    "- IndoorOver100Partial = Interventions are in place to limit indoor mass/public gatherings of over 100 participants – partially relaxed measure\n",
    "- IndoorOver500Partial = Interventions are in place to limit indoor mass/public gatherings of over 500 participants – partially relaxed measure\n",
    "- IndoorOver1000Partial = Interventions are in place to limit indoor mass/public gatherings of over 1000 participants – partially relaxed measure\n",
    "- OutdoorOver50Partial = Interventions are in place to limit outdoor mass/public gatherings of over 50 participants – partially relaxed measure\n",
    "- OutdoorOver100Partial = Interventions are in place to limit outdoor mass/public gatherings of over 100 participants – partially relaxed measure\n",
    "- OutdoorOver500Partial = Interventions are in place to limit outdoor mass/public gatherings of over 500 participants – partially relaxed measure\n",
    "- OutdoorOver1000Partial = Interventions are in place to limit outdoor mass/public gatherings of over 1000 participants – partially relaxed measure\n",
    "- ClosPubAnyPartial = Closure of public spaces of any kind (including restaurants, entertainment venues, non-essential shops, partial or full closure of public transport, gyms and sport centers etc) – partially relaxed measure\n",
    "- EntertainmentVenuesPartial = Closure of entertainment venues – partially relaxed measure\n",
    "- ClosureOfPublicTransportPartial = Closure of public transport – partially relaxed measure\n",
    "- GymsSportsCentresPartial = Closure of gyms/sports centres – partially relaxed measure\n",
    "- HotelsAccommodationPartial = Closure of hotels/accommodation services – partially relaxed measure\n",
    "- NonEssentialShopsPartial = Closures of non-essential shops – partially relaxed measure\n",
    "- PlaceOfWorshipPartial = Closure of places of worship – partially relaxed measure\n",
    "- RestaurantsCafesPartial = Closure of restaurants and cafes/bars – partially relaxed measure\n",
    "- MasksVoluntaryAllSpacesPartial = Protective mask use in all public spaces on voluntary basis (general recommendation not enforced) – partially relaxed measure\n",
    "- MasksVoluntaryClosedSpacesPartial = Protective mask use in closed public spaces/transport on voluntary basis (general recommendation not enforced) – partially relaxed measure\n",
    "- MasksMandatoryAllSpacesPartial = Protective mask use in all public spaces on mandatory basis (enforced by law) – partially relaxed measure\n",
    "- MasksMandatoryClosedSpacesPartial = Protective mask use in closed public spaces/transport on mandatory basis (enforced by law) – partially relaxed measure\n",
    "- TeleworkingPartial = Teleworking recommendation or workplace closures – partially relaxed measure\n",
    "- AdaptationOfWorkplacePartial = Adaptation of workplaces (e.g. to reduce risk of transmission) – partially relaxed measure\n",
    "- WorkplaceClosuresPartial = Closures of workplaces – partially relaxed measure"
   ],
   "metadata": {
    "collapsed": false,
    "pycharm": {
     "name": "#%% md\n"
    }
   }
  },
  {
   "cell_type": "markdown",
   "source": [
    "When looking at the country we have 29 countries present in the dataset , and these are the countries we have:"
   ],
   "metadata": {
    "collapsed": false,
    "pycharm": {
     "name": "#%% md\n"
    }
   }
  },
  {
   "cell_type": "code",
   "execution_count": null,
   "outputs": [],
   "source": [
    "regulations_df.Country.unique()"
   ],
   "metadata": {
    "collapsed": false,
    "pycharm": {
     "name": "#%%\n"
    }
   }
  },
  {
   "cell_type": "markdown",
   "source": [
    "We are short of 20 countries in this dataset, which will lead to a slight miss-interpretation."
   ],
   "metadata": {
    "collapsed": false,
    "pycharm": {
     "name": "#%% md\n"
    }
   }
  },
  {
   "cell_type": "markdown",
   "source": [
    "Since we have the covid 19 numbers , as well as the incoming player counts per game seperated through months that are interesting to us we will do the exact same thing here. We will sort out every measure that has started before or after March, April or Mai."
   ],
   "metadata": {
    "collapsed": false,
    "pycharm": {
     "name": "#%% md\n"
    }
   }
  },
  {
   "cell_type": "code",
   "execution_count": null,
   "outputs": [],
   "source": [
    "# create the dataframes out of the csv based on the months in the date , since we only use 2020 data everything that was started in 2021 or any other year will be deleted\n",
    "regulations_df['date_start']= pd.to_datetime(regulations_df['date_start'])\n",
    "regulations_df['date_end']= pd.to_datetime(regulations_df['date_end'])\n",
    "\n",
    "# check for correct types\n",
    "print(\"Data types of columns: \")\n",
    "print(regulations_df.dtypes)\n",
    "\n",
    "# now let's delete all that did not start in 2020 between march and mai\n",
    "# regulations_df = regulations_df[~(regulations_df['date_end'] < '2020-02-29')]\n",
    "regulations_df = regulations_df[~(regulations_df['date_start'] > '2020-05-31')]\n",
    "regulations_df"
   ],
   "metadata": {
    "collapsed": false,
    "pycharm": {
     "name": "#%%\n"
    }
   }
  },
  {
   "cell_type": "markdown",
   "source": [
    "Now we want to take a look at only those regulations, that made people stay at home, spend more time on the pc. Those would include closing Pubs, prohibiting events and so on."
   ],
   "metadata": {
    "collapsed": false,
    "pycharm": {
     "name": "#%% md\n"
    }
   }
  },
  {
   "cell_type": "code",
   "execution_count": null,
   "outputs": [],
   "source": [
    "# removal of all rows that include any kind of mask regulations:\n",
    "# MasksVoluntaryAllSpaces = Protective mask use in all public spaces on voluntary basis (general recommendation not enforced)\n",
    "# MasksVoluntaryClosedSpaces = Protective mask use in closed public spaces/transport on voluntary basis (general recommendation not enforced)\n",
    "# MasksMandatoryAllSpaces = Protective mask use in all public spaces on mandatory basis (enforced by law)\n",
    "# MasksMandatoryClosedSpaces = Protective mask use in closed public spaces/transport on mandatory basis (enforced by law)\n",
    "regulations_df = regulations_df[regulations_df.Response_measure != \"MasksVoluntaryAllSpaces\"]\n",
    "regulations_df = regulations_df[regulations_df.Response_measure != \"MasksVoluntaryClosedSpaces\"]\n",
    "regulations_df = regulations_df[regulations_df.Response_measure != \"MasksMandatoryAllSpaces\"]\n",
    "regulations_df = regulations_df[regulations_df.Response_measure != \"MasksMandatoryClosedSpaces\"]\n",
    "regulations_df"
   ],
   "metadata": {
    "collapsed": false,
    "pycharm": {
     "name": "#%%\n"
    }
   }
  },
  {
   "cell_type": "markdown",
   "source": [
    "We will now take a look at the bans/restrictions and regulations in forms of graphs:"
   ],
   "metadata": {
    "collapsed": false,
    "pycharm": {
     "name": "#%% md\n"
    }
   }
  },
  {
   "cell_type": "code",
   "execution_count": null,
   "outputs": [],
   "source": [
    "# we want to count the occurence per day of a certain regulation\n",
    "# now lets iterate through march\n",
    "march_reg_df = pd.DataFrame(columns = [\"Regulation\", \"Date\"])\n",
    "start_date = datetime.date(2020, 3, 1)\n",
    "end_date = datetime.date(2020, 4, 1)\n",
    "delta = datetime.timedelta(days=1)\n",
    "\n",
    "# for all unique regulations so lets itearte through the rows of the dataframe\n",
    "for index, row in regulations_df.iterrows():\n",
    "    start_date = datetime.date(2020, 3, 1)\n",
    "    while start_date <= end_date:\n",
    "        # get timedelta\n",
    "        if start_date >= row[\"date_start\"] and start_date <= row[\"date_end\"]:\n",
    "            regulation = row[\"Response_measure\"]\n",
    "            # add into dataframe\n",
    "            march_reg_df = march_reg_df.append({'Regulation' : regulation, 'Date' : start_date}, ignore_index = True)\n",
    "        start_date+=delta\n",
    "\n",
    "print(march_reg_df)\n",
    "# now lets create a count column and add the occurence of how many countries had that regulation on that day\n",
    "march_reg_df = march_reg_df.pivot_table(columns=['Regulation','Date'], aggfunc='size')"
   ],
   "metadata": {
    "collapsed": false,
    "pycharm": {
     "name": "#%%\n"
    }
   }
  },
  {
   "cell_type": "markdown",
   "source": [
    "### March Regulations\n",
    "\n",
    "Now we have a dataframe that shows us how many countries had certain regulations on each day. We can now plot all of these."
   ],
   "metadata": {
    "collapsed": false,
    "pycharm": {
     "name": "#%% md\n"
    }
   }
  },
  {
   "cell_type": "code",
   "execution_count": null,
   "outputs": [],
   "source": [
    "march_reg_df"
   ],
   "metadata": {
    "collapsed": false,
    "pycharm": {
     "name": "#%%\n"
    }
   }
  },
  {
   "cell_type": "code",
   "execution_count": null,
   "outputs": [],
   "source": [
    "march_reg_df = march_reg_df.reset_index()"
   ],
   "metadata": {
    "collapsed": false,
    "pycharm": {
     "name": "#%%\n"
    }
   }
  },
  {
   "cell_type": "code",
   "execution_count": null,
   "outputs": [],
   "source": [
    "march_reg_df.columns = ['Regulation', 'Date', 'num_countries']"
   ],
   "metadata": {
    "collapsed": false,
    "pycharm": {
     "name": "#%%\n"
    }
   }
  },
  {
   "cell_type": "code",
   "execution_count": null,
   "outputs": [],
   "source": [
    "march_reg_df"
   ],
   "metadata": {
    "collapsed": false,
    "pycharm": {
     "name": "#%%\n"
    }
   }
  },
  {
   "cell_type": "code",
   "execution_count": null,
   "outputs": [],
   "source": [
    "import matplotlib.pyplot as plt\n",
    "\n",
    "# lets clean the df a bit more\n",
    "# MasksVoluntaryAllSpacesPartial = Protective mask use in all public spaces on voluntary basis (general recommendation not enforced) – partially relaxed measure\n",
    "# MasksVoluntaryClosedSpacesPartial = Protective mask use in closed public spaces/transport on voluntary basis (general recommendation not enforced) – partially relaxed measure\n",
    "# MasksMandatoryAllSpacesPartial = Protective mask use in all public spaces on mandatory basis (enforced by law) – partially relaxed measure\n",
    "# MasksMandatoryClosedSpacesPartial = Protective mask use in closed public spaces/transport on mandatory basis (enforced by law) – partially relaxed measure\n",
    "march_reg_df = march_reg_df[march_reg_df.Regulation != \"MasksVoluntaryAllSpacesPartial\"]\n",
    "march_reg_df = march_reg_df[march_reg_df.Regulation != \"MasksVoluntaryClosedSpacesPartial\"]\n",
    "march_reg_df = march_reg_df[march_reg_df.Regulation != \"MasksMandatoryAllSpacesPartial\"]\n",
    "march_reg_df = march_reg_df[march_reg_df.Regulation != \"MasksMandatoryClosedSpacesPartial\"]\n",
    "march_reg_df = march_reg_df[march_reg_df.Regulation != \"MasksVoluntaryAllSpaces\"]\n",
    "march_reg_df = march_reg_df[march_reg_df.Regulation != \"MasksVoluntaryClosedSpaces\"]\n",
    "march_reg_df = march_reg_df[march_reg_df.Regulation != \"MasksMandatoryAllSpaces\"]\n",
    "march_reg_df = march_reg_df[march_reg_df.Regulation != \"MasksMandatoryClosedSpaces\"]"
   ],
   "metadata": {
    "collapsed": false,
    "pycharm": {
     "name": "#%%\n"
    }
   }
  },
  {
   "cell_type": "code",
   "execution_count": null,
   "outputs": [],
   "source": [
    "import plotly.express as px\n",
    "\n",
    "fig = px.line(march_reg_df, x=\"Date\", y=\"num_countries\", color='Regulation')\n",
    "fig.show()\n"
   ],
   "metadata": {
    "collapsed": false,
    "pycharm": {
     "name": "#%%\n"
    }
   }
  },
  {
   "cell_type": "markdown",
   "source": [
    "### April Regulations\n",
    "\n",
    "Now lets take a look at the regulations present in april."
   ],
   "metadata": {
    "collapsed": false,
    "pycharm": {
     "name": "#%% md\n"
    }
   }
  },
  {
   "cell_type": "code",
   "execution_count": null,
   "outputs": [],
   "source": [
    "april_reg_df = pd.DataFrame(columns = [\"Regulation\", \"Date\"])\n",
    "start_date = datetime.date(2020, 4, 1)\n",
    "end_date = datetime.date(2020, 5, 1)\n",
    "delta = datetime.timedelta(days=1)\n",
    "\n",
    "# for all unique regulations so lets itearte through the rows of the dataframe\n",
    "for index, row in regulations_df.iterrows():\n",
    "    start_date = datetime.date(2020, 4, 1)\n",
    "    while start_date <= end_date:\n",
    "        # get timedelta\n",
    "        if start_date >= row[\"date_start\"] and start_date <= row[\"date_end\"]:\n",
    "            regulation = row[\"Response_measure\"]\n",
    "            # add into dataframe\n",
    "            april_reg_df = april_reg_df.append({'Regulation' : regulation, 'Date' : start_date}, ignore_index = True)\n",
    "        start_date+=delta\n",
    "\n",
    "print(april_reg_df)\n",
    "# now lets create a count column and add the occurence of how many countries had that regulation on that day\n",
    "april_reg_df = april_reg_df.pivot_table(columns=['Regulation','Date'], aggfunc='size')"
   ],
   "metadata": {
    "collapsed": false,
    "pycharm": {
     "name": "#%%\n"
    }
   }
  },
  {
   "cell_type": "code",
   "execution_count": null,
   "outputs": [],
   "source": [
    "april_reg_df = april_reg_df.reset_index()\n",
    "april_reg_df.columns = ['Regulation', 'Date', 'num_countries']"
   ],
   "metadata": {
    "collapsed": false,
    "pycharm": {
     "name": "#%%\n"
    }
   }
  },
  {
   "cell_type": "code",
   "execution_count": null,
   "outputs": [],
   "source": [
    "april_reg_df"
   ],
   "metadata": {
    "collapsed": false,
    "pycharm": {
     "name": "#%%\n"
    }
   }
  },
  {
   "cell_type": "code",
   "execution_count": null,
   "outputs": [],
   "source": [
    "april_reg_df = april_reg_df[april_reg_df.Regulation != \"MasksVoluntaryAllSpacesPartial\"]\n",
    "april_reg_df = april_reg_df[april_reg_df.Regulation != \"MasksVoluntaryClosedSpacesPartial\"]\n",
    "april_reg_df = april_reg_df[april_reg_df.Regulation != \"MasksMandatoryAllSpacesPartial\"]\n",
    "april_reg_df = april_reg_df[april_reg_df.Regulation != \"MasksMandatoryClosedSpacesPartial\"]\n",
    "april_reg_df = april_reg_df[april_reg_df.Regulation != \"MasksVoluntaryAllSpaces\"]\n",
    "april_reg_df = april_reg_df[april_reg_df.Regulation != \"MasksVoluntaryClosedSpaces\"]\n",
    "april_reg_df = april_reg_df[april_reg_df.Regulation != \"MasksMandatoryAllSpaces\"]\n",
    "april_reg_df = april_reg_df[april_reg_df.Regulation != \"MasksMandatoryClosedSpaces\"]"
   ],
   "metadata": {
    "collapsed": false,
    "pycharm": {
     "name": "#%%\n"
    }
   }
  },
  {
   "cell_type": "code",
   "execution_count": null,
   "outputs": [],
   "source": [
    "fig = px.line(april_reg_df, x=\"Date\", y=\"num_countries\", color='Regulation')\n",
    "fig.show()"
   ],
   "metadata": {
    "collapsed": false,
    "pycharm": {
     "name": "#%%\n"
    }
   }
  },
  {
   "cell_type": "markdown",
   "source": [
    "### Mai Regulations\n",
    "\n",
    "The last month we have to take a look at is Mai."
   ],
   "metadata": {
    "collapsed": false,
    "pycharm": {
     "name": "#%% md\n"
    }
   }
  },
  {
   "cell_type": "code",
   "execution_count": null,
   "outputs": [],
   "source": [
    "mai_reg_df = pd.DataFrame(columns = [\"Regulation\", \"Date\"])\n",
    "start_date = datetime.date(2020, 5, 1)\n",
    "end_date = datetime.date(2020, 6, 1)\n",
    "delta = datetime.timedelta(days=1)\n",
    "\n",
    "# for all unique regulations so lets itearte through the rows of the dataframe\n",
    "for index, row in regulations_df.iterrows():\n",
    "    start_date = datetime.date(2020, 5, 1)\n",
    "    while start_date <= end_date:\n",
    "        # get timedelta\n",
    "        if start_date >= row[\"date_start\"] and start_date <= row[\"date_end\"]:\n",
    "            regulation = row[\"Response_measure\"]\n",
    "            # add into dataframe\n",
    "            mai_reg_df = mai_reg_df.append({'Regulation' : regulation, 'Date' : start_date}, ignore_index = True)\n",
    "        start_date+=delta\n",
    "\n",
    "print(mai_reg_df)\n",
    "# now lets create a count column and add the occurence of how many countries had that regulation on that day\n",
    "mai_reg_df = mai_reg_df.pivot_table(columns=['Regulation','Date'], aggfunc='size')"
   ],
   "metadata": {
    "collapsed": false,
    "pycharm": {
     "name": "#%%\n"
    }
   }
  },
  {
   "cell_type": "code",
   "execution_count": null,
   "outputs": [],
   "source": [
    "mai_reg_df = mai_reg_df.reset_index()\n",
    "mai_reg_df.columns = ['Regulation', 'Date', 'num_countries']"
   ],
   "metadata": {
    "collapsed": false,
    "pycharm": {
     "name": "#%%\n"
    }
   }
  },
  {
   "cell_type": "code",
   "execution_count": null,
   "outputs": [],
   "source": [
    "mai_reg_df"
   ],
   "metadata": {
    "collapsed": false,
    "pycharm": {
     "name": "#%%\n"
    }
   }
  },
  {
   "cell_type": "code",
   "execution_count": null,
   "outputs": [],
   "source": [
    "mai_reg_df = mai_reg_df[mai_reg_df.Regulation != \"MasksVoluntaryAllSpacesPartial\"]\n",
    "mai_reg_df = mai_reg_df[mai_reg_df.Regulation != \"MasksVoluntaryClosedSpacesPartial\"]\n",
    "mai_reg_df = mai_reg_df[mai_reg_df.Regulation != \"MasksMandatoryAllSpacesPartial\"]\n",
    "mai_reg_df = mai_reg_df[mai_reg_df.Regulation != \"MasksMandatoryClosedSpacesPartial\"]\n",
    "mai_reg_df = mai_reg_df[mai_reg_df.Regulation != \"MasksVoluntaryAllSpaces\"]\n",
    "mai_reg_df = mai_reg_df[mai_reg_df.Regulation != \"MasksVoluntaryClosedSpaces\"]\n",
    "mai_reg_df = mai_reg_df[mai_reg_df.Regulation != \"MasksMandatoryAllSpaces\"]\n",
    "mai_reg_df = mai_reg_df[mai_reg_df.Regulation != \"MasksMandatoryClosedSpaces\"]"
   ],
   "metadata": {
    "collapsed": false,
    "pycharm": {
     "name": "#%%\n"
    }
   }
  },
  {
   "cell_type": "code",
   "execution_count": null,
   "outputs": [],
   "source": [
    "fig = px.line(mai_reg_df, x=\"Date\", y=\"num_countries\", color='Regulation')\n",
    "fig.show()"
   ],
   "metadata": {
    "collapsed": false,
    "pycharm": {
     "name": "#%%\n"
    }
   }
  },
  {
   "cell_type": "markdown",
   "source": [
    "## Game Player Count\n",
    "\n",
    "After we took a look at the regulations all over Europe and investigated the number of total Covid 19 infections for each country for every day, we have to take a look into the third and most important aspect to answer our question: The amounts of Players the game is having.\n",
    "\n",
    "Before we dig deeper into the amount of the assumed player growth for league of legends, we wanted to generate an overall understanding of the gaming industry during the peak of covid 19 regulations. Therefore, we looked for a dataset, that includes top games and their player counts from March till Mai of the Year 2020. We have found a DataSet on Kaggle (https://www.kaggle.com/datasets/heyrobin/video-games-stats-2019present).\n",
    "\n",
    "The Dataset consists of the following columns:\n",
    "- Name\n",
    "- Month\n",
    "- average_Monthly_Players\n",
    "- Monthly_Gain_Loss\n",
    "- Monthly_Gain_Loss_percentage\n",
    "- Max_Players_per_Day\n",
    "\n",
    "These are all very important values for our question, if Covid 19 influenced the player count in games such as League of Legends."
   ],
   "metadata": {
    "collapsed": false,
    "pycharm": {
     "name": "#%% md\n"
    }
   }
  },
  {
   "cell_type": "code",
   "execution_count": null,
   "outputs": [],
   "source": [
    "game_player_count_df = pd.read_csv('Game Player Count.csv')"
   ],
   "metadata": {
    "collapsed": false,
    "pycharm": {
     "name": "#%%\n"
    }
   }
  },
  {
   "cell_type": "code",
   "execution_count": null,
   "outputs": [],
   "source": [
    "game_player_count_df.head()"
   ],
   "metadata": {
    "collapsed": false,
    "pycharm": {
     "name": "#%%\n"
    }
   }
  },
  {
   "cell_type": "markdown",
   "source": [
    "The games that we have represented are the following:"
   ],
   "metadata": {
    "collapsed": false,
    "pycharm": {
     "name": "#%% md\n"
    }
   }
  },
  {
   "cell_type": "code",
   "execution_count": null,
   "outputs": [],
   "source": [
    "game_player_count_df.Name.unique()"
   ],
   "metadata": {
    "collapsed": false,
    "pycharm": {
     "name": "#%%\n"
    }
   }
  },
  {
   "cell_type": "code",
   "execution_count": null,
   "outputs": [],
   "source": [
    "game_player_count_df"
   ],
   "metadata": {
    "collapsed": false,
    "pycharm": {
     "name": "#%%\n"
    }
   }
  },
  {
   "cell_type": "markdown",
   "source": [
    "Here we can see that all in all we have 231 datapoints, with 7 features , which all describe the popularity of 10 Games."
   ],
   "metadata": {
    "collapsed": false,
    "pycharm": {
     "name": "#%% md\n"
    }
   }
  },
  {
   "cell_type": "code",
   "execution_count": null,
   "outputs": [],
   "source": [
    "game_player_count_df = game_player_count_df.dropna()"
   ],
   "metadata": {
    "collapsed": false,
    "pycharm": {
     "name": "#%%\n"
    }
   }
  },
  {
   "cell_type": "code",
   "execution_count": null,
   "outputs": [],
   "source": [
    "# some data cleaning needed\n",
    "# replace row 50 error: \"February 28, 20222\"\n",
    "game_player_count_df.loc[50, 'Month'] = \"February 28, 2022\""
   ],
   "metadata": {
    "collapsed": false,
    "pycharm": {
     "name": "#%%\n"
    }
   }
  },
  {
   "cell_type": "code",
   "execution_count": null,
   "outputs": [],
   "source": [
    "print(game_player_count_df.loc[50])"
   ],
   "metadata": {
    "collapsed": false,
    "pycharm": {
     "name": "#%%\n"
    }
   }
  },
  {
   "cell_type": "code",
   "execution_count": null,
   "outputs": [],
   "source": [
    "# since they are not float64 we have to convert the column types\n",
    "# for that we have to replace all the commas with a dot\n",
    "game_player_count_df[\"Average_Monthly_Players\"] = game_player_count_df[\"Average_Monthly_Players\"].apply(lambda x: x.replace(',',''))\n",
    "game_player_count_df[\"Max_Players_per_Day\"] = game_player_count_df[\"Max_Players_per_Day\"].apply(lambda x: x.replace(',',''))\n",
    "game_player_count_df[\"Monthly_Gain_Loss\"] = game_player_count_df[\"Monthly_Gain_Loss\"].apply(lambda x: x.replace(',',''))"
   ],
   "metadata": {
    "collapsed": false,
    "pycharm": {
     "name": "#%%\n"
    }
   }
  },
  {
   "cell_type": "code",
   "execution_count": null,
   "outputs": [],
   "source": [
    "game_player_count_df"
   ],
   "metadata": {
    "collapsed": false,
    "pycharm": {
     "name": "#%%\n"
    }
   }
  },
  {
   "cell_type": "code",
   "execution_count": null,
   "outputs": [],
   "source": [
    "game_player_count_df['Average_Monthly_Players'] = pd.to_numeric(game_player_count_df['Average_Monthly_Players'], errors='coerce')\n",
    "game_player_count_df['Monthly_Gain_Loss'] = pd.to_numeric(game_player_count_df['Monthly_Gain_Loss'], errors='coerce')\n",
    "game_player_count_df['Max_Players_per_Day'] = pd.to_numeric(game_player_count_df['Max_Players_per_Day'], errors='coerce')"
   ],
   "metadata": {
    "collapsed": false,
    "pycharm": {
     "name": "#%%\n"
    }
   }
  },
  {
   "cell_type": "code",
   "execution_count": null,
   "outputs": [],
   "source": [
    "game_player_count_df"
   ],
   "metadata": {
    "collapsed": false,
    "pycharm": {
     "name": "#%%\n"
    }
   }
  },
  {
   "cell_type": "markdown",
   "source": [
    "Since here again we are working with DateTime values we will convert the Column Month to the Type DateTime."
   ],
   "metadata": {
    "collapsed": false,
    "pycharm": {
     "name": "#%% md\n"
    }
   }
  },
  {
   "cell_type": "code",
   "execution_count": null,
   "outputs": [],
   "source": [
    "game_player_count_df['Month'] = pd.to_datetime(game_player_count_df['Month'])"
   ],
   "metadata": {
    "collapsed": false,
    "pycharm": {
     "name": "#%%\n"
    }
   }
  },
  {
   "cell_type": "markdown",
   "source": [
    "### Before/After Covid 19\n",
    "\n",
    "To see the actual change of the Player count and all we will also look into the games popularity change before Covdi 19."
   ],
   "metadata": {
    "collapsed": false,
    "pycharm": {
     "name": "#%% md\n"
    }
   }
  },
  {
   "cell_type": "code",
   "execution_count": null,
   "outputs": [],
   "source": [
    "game_player_count_df['Month'].sort_values()\n",
    "gp = game_player_count_df.groupby('Name')['Average_Monthly_Players'].count()\n",
    "gp.plot.bar()"
   ],
   "metadata": {
    "collapsed": false,
    "pycharm": {
     "name": "#%%\n"
    }
   }
  },
  {
   "cell_type": "code",
   "execution_count": null,
   "outputs": [],
   "source": [
    "fig = px.line(game_player_count_df, x=\"Month\", y=\"Max_Players_per_Day\", color='Name')\n",
    "fig.show()"
   ],
   "metadata": {
    "collapsed": false,
    "pycharm": {
     "name": "#%%\n"
    }
   }
  },
  {
   "cell_type": "code",
   "execution_count": null,
   "outputs": [],
   "source": [
    "fig = px.line(game_player_count_df, x=\"Month\", y=\"Monthly_Gain_Loss_percentage\", color='Name')\n",
    "fig.show()"
   ],
   "metadata": {
    "collapsed": false,
    "pycharm": {
     "name": "#%%\n"
    }
   }
  },
  {
   "cell_type": "code",
   "execution_count": null,
   "outputs": [],
   "source": [
    "fig = px.line(game_player_count_df, x=\"Month\", y=\"Average_Monthly_Players\", color='Name')\n",
    "fig.show()"
   ],
   "metadata": {
    "collapsed": false,
    "pycharm": {
     "name": "#%%\n"
    }
   }
  },
  {
   "cell_type": "markdown",
   "source": [
    "As one can see:\n",
    "The popularity and therefore the Numbers of Players each Month before or After Covid 19 is only different for a few games or of crucial difference-\n",
    "- Games such as Elden Ring, v rising, monster hunter series and forza horizon 5 were not released yet or no data has been collected so there is no use for that to answer our question\n",
    "\n",
    "Lets take a look at the rest of the games:\n",
    "- Yu Gi Oh Masters always peaks in April (2020 and 2021) and before April 2020, the percentage of monthly avg players was at the lowest of all time that is covered in this dataset. Since the numbers do not vary a lot here we can say that in overall retrospective covid 19 did not impact this game.\n",
    "- Rust has more or less the same development like Yu Gi Oh\n",
    "- Splitgate peaked around the January 2021\n",
    "- Lost ark peaked during February 2022, which means that Covid did not influence the game positively or negatively.\n",
    "\n",
    "In conclusion, we can say that covid19 did not influence the popularity of one of these games significantly. Now the next question would be, if the Regulations during that time have influenced the Loss and Gain in a way ?"
   ],
   "metadata": {
    "collapsed": false,
    "pycharm": {
     "name": "#%% md\n"
    }
   }
  },
  {
   "cell_type": "markdown",
   "source": [
    "### During Covid 19"
   ],
   "metadata": {
    "collapsed": false,
    "pycharm": {
     "name": "#%% md\n"
    }
   }
  },
  {
   "cell_type": "code",
   "execution_count": null,
   "outputs": [],
   "source": [
    "# next lets sort out the Months and only keep March till Mai 2020\n",
    "game_player_count_df = game_player_count_df[~(game_player_count_df['Month'] > '2020-05-31')]\n",
    "game_player_count_df = game_player_count_df[~(game_player_count_df['Month'] < '2020-02-29')]"
   ],
   "metadata": {
    "collapsed": false,
    "pycharm": {
     "name": "#%%\n"
    }
   }
  },
  {
   "cell_type": "code",
   "execution_count": null,
   "outputs": [],
   "source": [
    "game_player_count_df"
   ],
   "metadata": {
    "collapsed": false,
    "pycharm": {
     "name": "#%%\n"
    }
   }
  },
  {
   "cell_type": "markdown",
   "source": [
    "\n",
    "To make sure that no duplicates are in the DataSet we checked and removed all of those."
   ],
   "metadata": {
    "collapsed": false,
    "pycharm": {
     "name": "#%% md\n"
    }
   }
  },
  {
   "cell_type": "code",
   "execution_count": null,
   "outputs": [],
   "source": [
    "print(game_player_count_df.duplicated())"
   ],
   "metadata": {
    "collapsed": false,
    "pycharm": {
     "name": "#%%\n"
    }
   }
  },
  {
   "cell_type": "code",
   "execution_count": null,
   "outputs": [],
   "source": [
    "game_player_count_df.drop_duplicates(inplace=True)\n",
    "print(game_player_count_df.shape)"
   ],
   "metadata": {
    "collapsed": false,
    "pycharm": {
     "name": "#%%\n"
    }
   }
  },
  {
   "cell_type": "markdown",
   "source": [
    "Even after the Removal of duplicates and NA-Rows, we still have the same amount of Data present.\n",
    "\n",
    "Now that the DataFrame/DataSet we are using is cleaned and checked through , lets take a look at the Correlations of our Columns. To make sure, that we are able to do that , we have to check if all the Columns are really numerical values and no simple objects. If they are not, we have to change that."
   ],
   "metadata": {
    "collapsed": false,
    "pycharm": {
     "name": "#%% md\n"
    }
   }
  },
  {
   "cell_type": "code",
   "execution_count": null,
   "outputs": [],
   "source": [
    "game_player_count_df.dtypes"
   ],
   "metadata": {
    "collapsed": false,
    "pycharm": {
     "name": "#%%\n"
    }
   }
  },
  {
   "cell_type": "code",
   "execution_count": null,
   "outputs": [],
   "source": [
    "game_player_count_df.corr(method ='pearson')"
   ],
   "metadata": {
    "collapsed": false,
    "pycharm": {
     "name": "#%%\n"
    }
   }
  },
  {
   "cell_type": "markdown",
   "source": [
    "In case of interpretation the correlation did not help us at all"
   ],
   "metadata": {
    "collapsed": false,
    "pycharm": {
     "name": "#%% md\n"
    }
   }
  },
  {
   "cell_type": "code",
   "execution_count": null,
   "outputs": [],
   "source": [
    "fig = px.line(game_player_count_df, x=\"Month\", y=\"Monthly_Gain_Loss_percentage\", color='Name')\n",
    "fig.show()"
   ],
   "metadata": {
    "collapsed": false,
    "pycharm": {
     "name": "#%%\n"
    }
   }
  },
  {
   "cell_type": "code",
   "execution_count": null,
   "outputs": [],
   "source": [
    "fig = px.scatter(game_player_count_df, x=\"Month\", y=\"Monthly_Gain_Loss_percentage\", color='Name')\n",
    "fig.show()"
   ],
   "metadata": {
    "collapsed": false,
    "pycharm": {
     "name": "#%%\n"
    }
   }
  },
  {
   "cell_type": "markdown",
   "source": [
    "## LoL Data"
   ],
   "metadata": {
    "collapsed": false,
    "pycharm": {
     "name": "#%% md\n"
    }
   }
  },
  {
   "cell_type": "markdown",
   "source": [
    "Website with Monthly Player Count:\n",
    "    https://activeplayer.io/league-of-legends/"
   ],
   "metadata": {
    "collapsed": false,
    "pycharm": {
     "name": "#%% md\n"
    }
   }
  },
  {
   "cell_type": "markdown",
   "source": [
    "Tutorial Web Scraping:\n",
    "https://www.edureka.co/blog/web-scraping-with-python/#steps"
   ],
   "metadata": {
    "collapsed": false,
    "pycharm": {
     "name": "#%% md\n"
    }
   }
  },
  {
   "cell_type": "code",
   "execution_count": null,
   "outputs": [],
   "source": [
    "from bs4 import BeautifulSoup\n",
    "import pandas as pd\n",
    "from urllib.request import Request, urlopen"
   ],
   "metadata": {
    "collapsed": false,
    "pycharm": {
     "name": "#%%\n"
    }
   }
  },
  {
   "cell_type": "code",
   "execution_count": null,
   "outputs": [],
   "source": [
    "url = \"https://activeplayer.io/league-of-legends/\"\n",
    "request_site = Request(url, headers={\"User-Agent\": \"Mozilla/5.0\"})\n",
    "page = urlopen(request_site).read()\n",
    "soup = BeautifulSoup(page, \"html.parser\")"
   ],
   "metadata": {
    "collapsed": false,
    "pycharm": {
     "name": "#%%\n"
    }
   }
  },
  {
   "cell_type": "code",
   "execution_count": null,
   "outputs": [],
   "source": [
    "months=[] #list to store month of an entry\n",
    "avg_monthly_players=[] #list to store average monthly players\n",
    "monthly_gain_or_loss=[] #list to store monthly gain/loss\n",
    "peak_players_day = [] #list to store peak players in a day"
   ],
   "metadata": {
    "collapsed": false,
    "pycharm": {
     "name": "#%%\n"
    }
   }
  },
  {
   "cell_type": "code",
   "execution_count": null,
   "outputs": [],
   "source": [
    "table=soup.find('table', attrs={'id':'table_2'})\n",
    "tbody = table.find('tbody')\n",
    "trs = tbody.find_all('tr')\n",
    "\n",
    "for a in trs:\n",
    "    tds = a.findAll('td')\n",
    "\n",
    "    month=tds[0]\n",
    "    avg_players=tds[1]\n",
    "    gain_or_loss=tds[2]\n",
    "    peak_players=tds[4] #4 because one column of the page is not used\n",
    "    months.append(month.text)\n",
    "    avg_monthly_players.append(avg_players.text)\n",
    "    monthly_gain_or_loss.append(gain_or_loss.text)\n",
    "    peak_players_day.append(peak_players.text)"
   ],
   "metadata": {
    "collapsed": false,
    "pycharm": {
     "name": "#%%\n"
    }
   }
  },
  {
   "cell_type": "code",
   "execution_count": null,
   "outputs": [],
   "source": [
    "print(months)"
   ],
   "metadata": {
    "collapsed": false,
    "pycharm": {
     "name": "#%%\n"
    }
   }
  },
  {
   "cell_type": "code",
   "execution_count": null,
   "outputs": [],
   "source": [
    "print(avg_monthly_players)"
   ],
   "metadata": {
    "collapsed": false,
    "pycharm": {
     "name": "#%%\n"
    }
   }
  },
  {
   "cell_type": "code",
   "execution_count": null,
   "outputs": [],
   "source": [
    "df = pd.DataFrame({'Month':months,'average monthly players':avg_monthly_players,'monthly gain/loss':monthly_gain_or_loss, 'peak players in a day':peak_players_day})"
   ],
   "metadata": {
    "collapsed": false,
    "pycharm": {
     "name": "#%%\n"
    }
   }
  },
  {
   "cell_type": "code",
   "execution_count": null,
   "outputs": [],
   "source": [
    "df.head()"
   ],
   "metadata": {
    "collapsed": false,
    "pycharm": {
     "name": "#%%\n"
    }
   }
  },
  {
   "cell_type": "code",
   "execution_count": null,
   "outputs": [],
   "source": [
    "df.describe()"
   ],
   "metadata": {
    "collapsed": false,
    "pycharm": {
     "name": "#%%\n"
    }
   }
  },
  {
   "cell_type": "code",
   "execution_count": null,
   "outputs": [],
   "source": [
    "df"
   ],
   "metadata": {
    "collapsed": false,
    "pycharm": {
     "name": "#%%\n"
    }
   }
  },
  {
   "cell_type": "code",
   "execution_count": null,
   "outputs": [],
   "source": [
    "import calendar\n",
    "\n",
    "months = {month: index for index, month in enumerate(calendar.month_name) if month}\n",
    "months = months | {'Last':13}\n",
    "print(months.get('January'))\n",
    "# {'Jan': 1, 'Feb': 2, 'Mar': 3, 'Apr': 4, 'May': 5, 'Jun': 6, 'Jul': 7, 'Aug': 8, 'Sep': 9, 'Oct': 10, 'Nov': 11, 'Dec': 12}"
   ],
   "metadata": {
    "collapsed": false,
    "pycharm": {
     "name": "#%%\n"
    }
   }
  },
  {
   "cell_type": "code",
   "execution_count": null,
   "outputs": [],
   "source": [
    "df_date = df.copy()\n",
    "df_date[['Date','Day', 'Year']] = df_date.Month.str.split(expand=True)\n",
    "df_date['Date'] = df_date['Date'].replace(months)\n",
    "\n",
    "#replace \"Last 30 Days\" to current Month\n",
    "df_date['Date'] = df_date['Date'].replace(13, 11)\n",
    "df_date['Year'] = df_date['Year'].replace(\"Days\", 2022)\n",
    "\n",
    "#remove comma\n",
    "df_date['Day'].replace(',','', regex=True, inplace=True)\n",
    "df_date.head()"
   ],
   "metadata": {
    "collapsed": false,
    "pycharm": {
     "name": "#%%\n"
    }
   }
  },
  {
   "cell_type": "code",
   "execution_count": null,
   "outputs": [],
   "source": [
    "date_column = []\n",
    "for i in range(0,48):\n",
    "    date_column.append(datetime.datetime.strptime(str(df_date.Day[i]) + \" \" + str(df_date.Date[i]) + \" \" +  str(df_date.Year[i]), \"%d %m %Y\"))\n",
    "\n",
    "df_date['datetime'] = date_column\n",
    "df_date.head()"
   ],
   "metadata": {
    "collapsed": false,
    "pycharm": {
     "name": "#%%\n"
    }
   }
  },
  {
   "cell_type": "code",
   "execution_count": null,
   "outputs": [],
   "source": [
    "df_date.drop('Date', axis=1, inplace=True)\n",
    "df_date.drop('Day', axis=1, inplace=True)\n",
    "df_date.drop('Year', axis=1, inplace=True)\n",
    "df_date.head()"
   ],
   "metadata": {
    "collapsed": false,
    "pycharm": {
     "name": "#%%\n"
    }
   }
  },
  {
   "cell_type": "markdown",
   "source": [
    "## InfluxDB\n",
    "### Setting up the InfluxDB client"
   ],
   "metadata": {
    "collapsed": false,
    "pycharm": {
     "name": "#%% md\n"
    }
   }
  },
  {
   "cell_type": "code",
   "execution_count": null,
   "outputs": [],
   "source": [
    "#import the influxdb client\n",
    "import influxdb_client\n",
    "from influxdb_client.client.write_api import SYNCHRONOUS\n",
    "from influxdb import InfluxDBClient"
   ],
   "metadata": {
    "collapsed": false,
    "pycharm": {
     "name": "#%%\n"
    }
   }
  },
  {
   "cell_type": "code",
   "execution_count": null,
   "outputs": [],
   "source": [
    "# name of the bucket you previously defined\n",
    "bucket = \"Covid_Data\"\n",
    "\n",
    "# name of the organization you previously defined\n",
    "org = \"AI_Elite\"\n",
    "\n",
    "# you can access the token in the UI\n",
    "token = \"xKaMOhaUKcR4cl04CUy6KKlSqOgNFewK5zWNMJ-Jcc0inXSX238vsDLcBy5eRZHu4HQPNGA3RQb4Wl-DwTqrmQ==\"\n",
    "\n",
    "# url of running influx service\n",
    "url = \"http://localhost:8086\""
   ],
   "metadata": {
    "collapsed": false,
    "pycharm": {
     "name": "#%%\n"
    }
   }
  },
  {
   "cell_type": "code",
   "execution_count": null,
   "outputs": [],
   "source": [
    "# create client with appropriate values (url, token, org)\n",
    "client = influxdb_client.InfluxDBClient(\n",
    "    url = url,\n",
    "    token = token,\n",
    "    org = org\n",
    ")"
   ],
   "metadata": {
    "collapsed": false,
    "pycharm": {
     "name": "#%%\n"
    }
   }
  },
  {
   "cell_type": "markdown",
   "source": [
    "### Writing Data"
   ],
   "metadata": {
    "collapsed": false,
    "pycharm": {
     "name": "#%% md\n"
    }
   }
  },
  {
   "cell_type": "code",
   "execution_count": null,
   "outputs": [],
   "source": [
    "# instantiate a write client with\n",
    "write_api = client.write_api(write_options = SYNCHRONOUS)"
   ],
   "metadata": {
    "collapsed": false,
    "pycharm": {
     "name": "#%%\n"
    }
   }
  },
  {
   "cell_type": "code",
   "execution_count": null,
   "outputs": [],
   "source": [
    "# create a data point\n",
    "p = influxdb_client.Point(\"demo_measurement\").tag(\"location\", \"Vienna\").field(\"temperature\", 15.3)\n",
    "\n",
    "# write it to the bucket\n",
    "write_api.write(bucket=bucket, org=org, record=p)"
   ],
   "metadata": {
    "collapsed": false,
    "pycharm": {
     "name": "#%%\n"
    }
   }
  },
  {
   "cell_type": "code",
   "execution_count": 214,
   "outputs": [
    {
     "data": {
      "text/plain": "   Unnamed: 0             Name           Month Average_Monthly_Players  \\\n0           0         v rising   June 30, 2022                  57,411   \n1           1         v rising    May 30, 2022                  95,620   \n2           2  forza horizon 5   June 30, 2022              23,650,588   \n3           3  forza horizon 5    May 30, 2022              22,650,041   \n4           4  forza horizon 5  April 30, 2022              19,688,504   \n\n  Monthly_Gain_Loss  Monthly_Gain_Loss_percentage Max_Players_per_Day  \n0           -38,209                         -40.0             146,500  \n1            95,620                           0.0             152,330  \n2         1,000,547                           4.0           7,095,176  \n3         2,961,537                          15.0           6,795,012  \n4           983,063                           5.0           5,906,551  ",
      "text/html": "<div>\n<style scoped>\n    .dataframe tbody tr th:only-of-type {\n        vertical-align: middle;\n    }\n\n    .dataframe tbody tr th {\n        vertical-align: top;\n    }\n\n    .dataframe thead th {\n        text-align: right;\n    }\n</style>\n<table border=\"1\" class=\"dataframe\">\n  <thead>\n    <tr style=\"text-align: right;\">\n      <th></th>\n      <th>Unnamed: 0</th>\n      <th>Name</th>\n      <th>Month</th>\n      <th>Average_Monthly_Players</th>\n      <th>Monthly_Gain_Loss</th>\n      <th>Monthly_Gain_Loss_percentage</th>\n      <th>Max_Players_per_Day</th>\n    </tr>\n  </thead>\n  <tbody>\n    <tr>\n      <th>0</th>\n      <td>0</td>\n      <td>v rising</td>\n      <td>June 30, 2022</td>\n      <td>57,411</td>\n      <td>-38,209</td>\n      <td>-40.0</td>\n      <td>146,500</td>\n    </tr>\n    <tr>\n      <th>1</th>\n      <td>1</td>\n      <td>v rising</td>\n      <td>May 30, 2022</td>\n      <td>95,620</td>\n      <td>95,620</td>\n      <td>0.0</td>\n      <td>152,330</td>\n    </tr>\n    <tr>\n      <th>2</th>\n      <td>2</td>\n      <td>forza horizon 5</td>\n      <td>June 30, 2022</td>\n      <td>23,650,588</td>\n      <td>1,000,547</td>\n      <td>4.0</td>\n      <td>7,095,176</td>\n    </tr>\n    <tr>\n      <th>3</th>\n      <td>3</td>\n      <td>forza horizon 5</td>\n      <td>May 30, 2022</td>\n      <td>22,650,041</td>\n      <td>2,961,537</td>\n      <td>15.0</td>\n      <td>6,795,012</td>\n    </tr>\n    <tr>\n      <th>4</th>\n      <td>4</td>\n      <td>forza horizon 5</td>\n      <td>April 30, 2022</td>\n      <td>19,688,504</td>\n      <td>983,063</td>\n      <td>5.0</td>\n      <td>5,906,551</td>\n    </tr>\n  </tbody>\n</table>\n</div>"
     },
     "execution_count": 214,
     "metadata": {},
     "output_type": "execute_result"
    }
   ],
   "source": [
    "game_player_count_df.head()"
   ],
   "metadata": {
    "collapsed": false,
    "pycharm": {
     "name": "#%%\n"
    }
   }
  },
  {
   "cell_type": "markdown",
   "source": [
    "The games that we have represented are the following:"
   ],
   "metadata": {
    "collapsed": false,
    "pycharm": {
     "name": "#%% md\n"
    }
   }
  },
  {
   "cell_type": "code",
   "execution_count": 215,
   "outputs": [
    {
     "data": {
      "text/plain": "array(['v rising', 'forza horizon 5', 'payday 2', 'elden ring',\n       'lost ark', 'splitgate', 'rust', 'yu gi oh master duel',\n       'monster hunter series', 'team fortress 2 2'], dtype=object)"
     },
     "execution_count": 215,
     "metadata": {},
     "output_type": "execute_result"
    }
   ],
   "source": [
    "game_player_count_df.Name.unique()"
   ],
   "metadata": {
    "collapsed": false,
    "pycharm": {
     "name": "#%%\n"
    }
   }
  },
  {
   "cell_type": "code",
   "execution_count": 216,
   "outputs": [
    {
     "data": {
      "text/plain": "     Unnamed: 0               Name              Month Average_Monthly_Players  \\\n0             0           v rising      June 30, 2022                  57,411   \n1             1           v rising       May 30, 2022                  95,620   \n2             2    forza horizon 5      June 30, 2022              23,650,588   \n3             3    forza horizon 5       May 30, 2022              22,650,041   \n4             4    forza horizon 5     April 30, 2022              19,688,504   \n..          ...                ...                ...                     ...   \n226         226  team fortress 2 2       May 30, 2019                 123,369   \n227         227  team fortress 2 2     April 30, 2019                 134,595   \n228         228  team fortress 2 2     March 30, 2019                 143,352   \n229         229  team fortress 2 2  February 28, 2019                 149,453   \n230         230  team fortress 2 2   January 30, 2019                 158,818   \n\n    Monthly_Gain_Loss  Monthly_Gain_Loss_percentage Max_Players_per_Day  \n0             -38,209                        -40.00             146,500  \n1              95,620                          0.00             152,330  \n2           1,000,547                          4.00           7,095,176  \n3           2,961,537                         15.00           6,795,012  \n4             983,063                          5.00           5,906,551  \n..                ...                           ...                 ...  \n226            -3,742                         -8.34              41,123  \n227            -2,918                         -6.11              44,865  \n228            -2,033                         -4.08              47,784  \n229            -3,121                         -5.90              49,818  \n230               -18                          0.00              52,939  \n\n[231 rows x 7 columns]",
      "text/html": "<div>\n<style scoped>\n    .dataframe tbody tr th:only-of-type {\n        vertical-align: middle;\n    }\n\n    .dataframe tbody tr th {\n        vertical-align: top;\n    }\n\n    .dataframe thead th {\n        text-align: right;\n    }\n</style>\n<table border=\"1\" class=\"dataframe\">\n  <thead>\n    <tr style=\"text-align: right;\">\n      <th></th>\n      <th>Unnamed: 0</th>\n      <th>Name</th>\n      <th>Month</th>\n      <th>Average_Monthly_Players</th>\n      <th>Monthly_Gain_Loss</th>\n      <th>Monthly_Gain_Loss_percentage</th>\n      <th>Max_Players_per_Day</th>\n    </tr>\n  </thead>\n  <tbody>\n    <tr>\n      <th>0</th>\n      <td>0</td>\n      <td>v rising</td>\n      <td>June 30, 2022</td>\n      <td>57,411</td>\n      <td>-38,209</td>\n      <td>-40.00</td>\n      <td>146,500</td>\n    </tr>\n    <tr>\n      <th>1</th>\n      <td>1</td>\n      <td>v rising</td>\n      <td>May 30, 2022</td>\n      <td>95,620</td>\n      <td>95,620</td>\n      <td>0.00</td>\n      <td>152,330</td>\n    </tr>\n    <tr>\n      <th>2</th>\n      <td>2</td>\n      <td>forza horizon 5</td>\n      <td>June 30, 2022</td>\n      <td>23,650,588</td>\n      <td>1,000,547</td>\n      <td>4.00</td>\n      <td>7,095,176</td>\n    </tr>\n    <tr>\n      <th>3</th>\n      <td>3</td>\n      <td>forza horizon 5</td>\n      <td>May 30, 2022</td>\n      <td>22,650,041</td>\n      <td>2,961,537</td>\n      <td>15.00</td>\n      <td>6,795,012</td>\n    </tr>\n    <tr>\n      <th>4</th>\n      <td>4</td>\n      <td>forza horizon 5</td>\n      <td>April 30, 2022</td>\n      <td>19,688,504</td>\n      <td>983,063</td>\n      <td>5.00</td>\n      <td>5,906,551</td>\n    </tr>\n    <tr>\n      <th>...</th>\n      <td>...</td>\n      <td>...</td>\n      <td>...</td>\n      <td>...</td>\n      <td>...</td>\n      <td>...</td>\n      <td>...</td>\n    </tr>\n    <tr>\n      <th>226</th>\n      <td>226</td>\n      <td>team fortress 2 2</td>\n      <td>May 30, 2019</td>\n      <td>123,369</td>\n      <td>-3,742</td>\n      <td>-8.34</td>\n      <td>41,123</td>\n    </tr>\n    <tr>\n      <th>227</th>\n      <td>227</td>\n      <td>team fortress 2 2</td>\n      <td>April 30, 2019</td>\n      <td>134,595</td>\n      <td>-2,918</td>\n      <td>-6.11</td>\n      <td>44,865</td>\n    </tr>\n    <tr>\n      <th>228</th>\n      <td>228</td>\n      <td>team fortress 2 2</td>\n      <td>March 30, 2019</td>\n      <td>143,352</td>\n      <td>-2,033</td>\n      <td>-4.08</td>\n      <td>47,784</td>\n    </tr>\n    <tr>\n      <th>229</th>\n      <td>229</td>\n      <td>team fortress 2 2</td>\n      <td>February 28, 2019</td>\n      <td>149,453</td>\n      <td>-3,121</td>\n      <td>-5.90</td>\n      <td>49,818</td>\n    </tr>\n    <tr>\n      <th>230</th>\n      <td>230</td>\n      <td>team fortress 2 2</td>\n      <td>January 30, 2019</td>\n      <td>158,818</td>\n      <td>-18</td>\n      <td>0.00</td>\n      <td>52,939</td>\n    </tr>\n  </tbody>\n</table>\n<p>231 rows × 7 columns</p>\n</div>"
     },
     "execution_count": 216,
     "metadata": {},
     "output_type": "execute_result"
    }
   ],
   "source": [
    "game_player_count_df"
   ],
   "metadata": {
    "collapsed": false,
    "pycharm": {
     "name": "#%%\n"
    }
   }
  },
  {
   "cell_type": "markdown",
   "source": [
    "Here we can see that all in all we have 231 datapoints, with 7 features , which all describe the popularity of 10 Games."
   ],
   "metadata": {
    "collapsed": false,
    "pycharm": {
     "name": "#%% md\n"
    }
   }
  },
  {
   "cell_type": "code",
   "execution_count": 217,
   "outputs": [],
   "source": [
    "game_player_count_df = game_player_count_df.dropna()"
   ],
   "metadata": {
    "collapsed": false,
    "pycharm": {
     "name": "#%%\n"
    }
   }
  },
  {
   "cell_type": "code",
   "execution_count": 218,
   "outputs": [],
   "source": [
    "# some data cleaning needed\n",
    "# replace row 50 error: \"February 28, 20222\"\n",
    "game_player_count_df.loc[50, 'Month'] = \"February 28, 2022\""
   ],
   "metadata": {
    "collapsed": false,
    "pycharm": {
     "name": "#%%\n"
    }
   }
  },
  {
   "cell_type": "code",
   "execution_count": 219,
   "outputs": [
    {
     "name": "stdout",
     "output_type": "stream",
     "text": [
      "Unnamed: 0                                     50\n",
      "Name                                     lost ark\n",
      "Month                           February 28, 2022\n",
      "Average_Monthly_Players                   701,550\n",
      "Monthly_Gain_Loss                         290,184\n",
      "Monthly_Gain_Loss_percentage                 71.0\n",
      "Max_Players_per_Day                     1,403,100\n",
      "Name: 50, dtype: object\n"
     ]
    }
   ],
   "source": [
    "print(game_player_count_df.loc[50])"
   ],
   "metadata": {
    "collapsed": false,
    "pycharm": {
     "name": "#%%\n"
    }
   }
  },
  {
   "cell_type": "code",
   "execution_count": 220,
   "outputs": [],
   "source": [
    "# since they are not float64 we have to convert the column types\n",
    "# for that we have to replace all the commas with a dot\n",
    "game_player_count_df[\"Average_Monthly_Players\"] = game_player_count_df[\"Average_Monthly_Players\"].apply(lambda x: x.replace(',',''))\n",
    "game_player_count_df[\"Max_Players_per_Day\"] = game_player_count_df[\"Max_Players_per_Day\"].apply(lambda x: x.replace(',',''))\n",
    "game_player_count_df[\"Monthly_Gain_Loss\"] = game_player_count_df[\"Monthly_Gain_Loss\"].apply(lambda x: x.replace(',',''))"
   ],
   "metadata": {
    "collapsed": false,
    "pycharm": {
     "name": "#%%\n"
    }
   }
  },
  {
   "cell_type": "code",
   "execution_count": 221,
   "outputs": [
    {
     "data": {
      "text/plain": "     Unnamed: 0               Name              Month Average_Monthly_Players  \\\n0             0           v rising      June 30, 2022                   57411   \n1             1           v rising       May 30, 2022                   95620   \n2             2    forza horizon 5      June 30, 2022                23650588   \n3             3    forza horizon 5       May 30, 2022                22650041   \n4             4    forza horizon 5     April 30, 2022                19688504   \n..          ...                ...                ...                     ...   \n226         226  team fortress 2 2       May 30, 2019                  123369   \n227         227  team fortress 2 2     April 30, 2019                  134595   \n228         228  team fortress 2 2     March 30, 2019                  143352   \n229         229  team fortress 2 2  February 28, 2019                  149453   \n230         230  team fortress 2 2   January 30, 2019                  158818   \n\n    Monthly_Gain_Loss  Monthly_Gain_Loss_percentage Max_Players_per_Day  \n0              -38209                        -40.00              146500  \n1               95620                          0.00              152330  \n2             1000547                          4.00             7095176  \n3             2961537                         15.00             6795012  \n4              983063                          5.00             5906551  \n..                ...                           ...                 ...  \n226             -3742                         -8.34               41123  \n227             -2918                         -6.11               44865  \n228             -2033                         -4.08               47784  \n229             -3121                         -5.90               49818  \n230               -18                          0.00               52939  \n\n[231 rows x 7 columns]",
      "text/html": "<div>\n<style scoped>\n    .dataframe tbody tr th:only-of-type {\n        vertical-align: middle;\n    }\n\n    .dataframe tbody tr th {\n        vertical-align: top;\n    }\n\n    .dataframe thead th {\n        text-align: right;\n    }\n</style>\n<table border=\"1\" class=\"dataframe\">\n  <thead>\n    <tr style=\"text-align: right;\">\n      <th></th>\n      <th>Unnamed: 0</th>\n      <th>Name</th>\n      <th>Month</th>\n      <th>Average_Monthly_Players</th>\n      <th>Monthly_Gain_Loss</th>\n      <th>Monthly_Gain_Loss_percentage</th>\n      <th>Max_Players_per_Day</th>\n    </tr>\n  </thead>\n  <tbody>\n    <tr>\n      <th>0</th>\n      <td>0</td>\n      <td>v rising</td>\n      <td>June 30, 2022</td>\n      <td>57411</td>\n      <td>-38209</td>\n      <td>-40.00</td>\n      <td>146500</td>\n    </tr>\n    <tr>\n      <th>1</th>\n      <td>1</td>\n      <td>v rising</td>\n      <td>May 30, 2022</td>\n      <td>95620</td>\n      <td>95620</td>\n      <td>0.00</td>\n      <td>152330</td>\n    </tr>\n    <tr>\n      <th>2</th>\n      <td>2</td>\n      <td>forza horizon 5</td>\n      <td>June 30, 2022</td>\n      <td>23650588</td>\n      <td>1000547</td>\n      <td>4.00</td>\n      <td>7095176</td>\n    </tr>\n    <tr>\n      <th>3</th>\n      <td>3</td>\n      <td>forza horizon 5</td>\n      <td>May 30, 2022</td>\n      <td>22650041</td>\n      <td>2961537</td>\n      <td>15.00</td>\n      <td>6795012</td>\n    </tr>\n    <tr>\n      <th>4</th>\n      <td>4</td>\n      <td>forza horizon 5</td>\n      <td>April 30, 2022</td>\n      <td>19688504</td>\n      <td>983063</td>\n      <td>5.00</td>\n      <td>5906551</td>\n    </tr>\n    <tr>\n      <th>...</th>\n      <td>...</td>\n      <td>...</td>\n      <td>...</td>\n      <td>...</td>\n      <td>...</td>\n      <td>...</td>\n      <td>...</td>\n    </tr>\n    <tr>\n      <th>226</th>\n      <td>226</td>\n      <td>team fortress 2 2</td>\n      <td>May 30, 2019</td>\n      <td>123369</td>\n      <td>-3742</td>\n      <td>-8.34</td>\n      <td>41123</td>\n    </tr>\n    <tr>\n      <th>227</th>\n      <td>227</td>\n      <td>team fortress 2 2</td>\n      <td>April 30, 2019</td>\n      <td>134595</td>\n      <td>-2918</td>\n      <td>-6.11</td>\n      <td>44865</td>\n    </tr>\n    <tr>\n      <th>228</th>\n      <td>228</td>\n      <td>team fortress 2 2</td>\n      <td>March 30, 2019</td>\n      <td>143352</td>\n      <td>-2033</td>\n      <td>-4.08</td>\n      <td>47784</td>\n    </tr>\n    <tr>\n      <th>229</th>\n      <td>229</td>\n      <td>team fortress 2 2</td>\n      <td>February 28, 2019</td>\n      <td>149453</td>\n      <td>-3121</td>\n      <td>-5.90</td>\n      <td>49818</td>\n    </tr>\n    <tr>\n      <th>230</th>\n      <td>230</td>\n      <td>team fortress 2 2</td>\n      <td>January 30, 2019</td>\n      <td>158818</td>\n      <td>-18</td>\n      <td>0.00</td>\n      <td>52939</td>\n    </tr>\n  </tbody>\n</table>\n<p>231 rows × 7 columns</p>\n</div>"
     },
     "execution_count": 221,
     "metadata": {},
     "output_type": "execute_result"
    }
   ],
   "source": [
    "game_player_count_df"
   ],
   "metadata": {
    "collapsed": false,
    "pycharm": {
     "name": "#%%\n"
    }
   }
  },
  {
   "cell_type": "code",
   "execution_count": 222,
   "outputs": [],
   "source": [
    "game_player_count_df['Average_Monthly_Players'] = pd.to_numeric(game_player_count_df['Average_Monthly_Players'], errors='coerce')\n",
    "game_player_count_df['Monthly_Gain_Loss'] = pd.to_numeric(game_player_count_df['Monthly_Gain_Loss'], errors='coerce')\n",
    "game_player_count_df['Max_Players_per_Day'] = pd.to_numeric(game_player_count_df['Max_Players_per_Day'], errors='coerce')"
   ],
   "metadata": {
    "collapsed": false,
    "pycharm": {
     "name": "#%%\n"
    }
   }
  },
  {
   "cell_type": "code",
   "execution_count": 223,
   "outputs": [
    {
     "data": {
      "text/plain": "     Unnamed: 0               Name              Month  \\\n0             0           v rising      June 30, 2022   \n1             1           v rising       May 30, 2022   \n2             2    forza horizon 5      June 30, 2022   \n3             3    forza horizon 5       May 30, 2022   \n4             4    forza horizon 5     April 30, 2022   \n..          ...                ...                ...   \n226         226  team fortress 2 2       May 30, 2019   \n227         227  team fortress 2 2     April 30, 2019   \n228         228  team fortress 2 2     March 30, 2019   \n229         229  team fortress 2 2  February 28, 2019   \n230         230  team fortress 2 2   January 30, 2019   \n\n     Average_Monthly_Players  Monthly_Gain_Loss  Monthly_Gain_Loss_percentage  \\\n0                      57411             -38209                        -40.00   \n1                      95620              95620                          0.00   \n2                   23650588            1000547                          4.00   \n3                   22650041            2961537                         15.00   \n4                   19688504             983063                          5.00   \n..                       ...                ...                           ...   \n226                   123369              -3742                         -8.34   \n227                   134595              -2918                         -6.11   \n228                   143352              -2033                         -4.08   \n229                   149453              -3121                         -5.90   \n230                   158818                -18                          0.00   \n\n     Max_Players_per_Day  \n0               146500.0  \n1               152330.0  \n2              7095176.0  \n3              6795012.0  \n4              5906551.0  \n..                   ...  \n226              41123.0  \n227              44865.0  \n228              47784.0  \n229              49818.0  \n230              52939.0  \n\n[231 rows x 7 columns]",
      "text/html": "<div>\n<style scoped>\n    .dataframe tbody tr th:only-of-type {\n        vertical-align: middle;\n    }\n\n    .dataframe tbody tr th {\n        vertical-align: top;\n    }\n\n    .dataframe thead th {\n        text-align: right;\n    }\n</style>\n<table border=\"1\" class=\"dataframe\">\n  <thead>\n    <tr style=\"text-align: right;\">\n      <th></th>\n      <th>Unnamed: 0</th>\n      <th>Name</th>\n      <th>Month</th>\n      <th>Average_Monthly_Players</th>\n      <th>Monthly_Gain_Loss</th>\n      <th>Monthly_Gain_Loss_percentage</th>\n      <th>Max_Players_per_Day</th>\n    </tr>\n  </thead>\n  <tbody>\n    <tr>\n      <th>0</th>\n      <td>0</td>\n      <td>v rising</td>\n      <td>June 30, 2022</td>\n      <td>57411</td>\n      <td>-38209</td>\n      <td>-40.00</td>\n      <td>146500.0</td>\n    </tr>\n    <tr>\n      <th>1</th>\n      <td>1</td>\n      <td>v rising</td>\n      <td>May 30, 2022</td>\n      <td>95620</td>\n      <td>95620</td>\n      <td>0.00</td>\n      <td>152330.0</td>\n    </tr>\n    <tr>\n      <th>2</th>\n      <td>2</td>\n      <td>forza horizon 5</td>\n      <td>June 30, 2022</td>\n      <td>23650588</td>\n      <td>1000547</td>\n      <td>4.00</td>\n      <td>7095176.0</td>\n    </tr>\n    <tr>\n      <th>3</th>\n      <td>3</td>\n      <td>forza horizon 5</td>\n      <td>May 30, 2022</td>\n      <td>22650041</td>\n      <td>2961537</td>\n      <td>15.00</td>\n      <td>6795012.0</td>\n    </tr>\n    <tr>\n      <th>4</th>\n      <td>4</td>\n      <td>forza horizon 5</td>\n      <td>April 30, 2022</td>\n      <td>19688504</td>\n      <td>983063</td>\n      <td>5.00</td>\n      <td>5906551.0</td>\n    </tr>\n    <tr>\n      <th>...</th>\n      <td>...</td>\n      <td>...</td>\n      <td>...</td>\n      <td>...</td>\n      <td>...</td>\n      <td>...</td>\n      <td>...</td>\n    </tr>\n    <tr>\n      <th>226</th>\n      <td>226</td>\n      <td>team fortress 2 2</td>\n      <td>May 30, 2019</td>\n      <td>123369</td>\n      <td>-3742</td>\n      <td>-8.34</td>\n      <td>41123.0</td>\n    </tr>\n    <tr>\n      <th>227</th>\n      <td>227</td>\n      <td>team fortress 2 2</td>\n      <td>April 30, 2019</td>\n      <td>134595</td>\n      <td>-2918</td>\n      <td>-6.11</td>\n      <td>44865.0</td>\n    </tr>\n    <tr>\n      <th>228</th>\n      <td>228</td>\n      <td>team fortress 2 2</td>\n      <td>March 30, 2019</td>\n      <td>143352</td>\n      <td>-2033</td>\n      <td>-4.08</td>\n      <td>47784.0</td>\n    </tr>\n    <tr>\n      <th>229</th>\n      <td>229</td>\n      <td>team fortress 2 2</td>\n      <td>February 28, 2019</td>\n      <td>149453</td>\n      <td>-3121</td>\n      <td>-5.90</td>\n      <td>49818.0</td>\n    </tr>\n    <tr>\n      <th>230</th>\n      <td>230</td>\n      <td>team fortress 2 2</td>\n      <td>January 30, 2019</td>\n      <td>158818</td>\n      <td>-18</td>\n      <td>0.00</td>\n      <td>52939.0</td>\n    </tr>\n  </tbody>\n</table>\n<p>231 rows × 7 columns</p>\n</div>"
     },
     "execution_count": 223,
     "metadata": {},
     "output_type": "execute_result"
    }
   ],
   "source": [
    "game_player_count_df"
   ],
   "metadata": {
    "collapsed": false,
    "pycharm": {
     "name": "#%%\n"
    }
   }
  },
  {
   "cell_type": "markdown",
   "source": [
    "Since here again we are working with DateTime values we will convert the Column Month to the Type DateTime."
   ],
   "metadata": {
    "collapsed": false,
    "pycharm": {
     "name": "#%% md\n"
    }
   }
  },
  {
   "cell_type": "code",
   "execution_count": 224,
   "outputs": [],
   "source": [
    "game_player_count_df['Month'] = pd.to_datetime(game_player_count_df['Month'])"
   ],
   "metadata": {
    "collapsed": false,
    "pycharm": {
     "name": "#%%\n"
    }
   }
  },
  {
   "cell_type": "markdown",
   "source": [
    "### Before/After Covid 19\n",
    "\n",
    "To see the actual change of the Player count and all we will also look into the games popularity change before Covdi 19."
   ],
   "metadata": {
    "collapsed": false,
    "pycharm": {
     "name": "#%% md\n"
    }
   }
  },
  {
   "cell_type": "code",
   "execution_count": 225,
   "outputs": [
    {
     "data": {
      "text/plain": "<AxesSubplot:xlabel='Name'>"
     },
     "execution_count": 225,
     "metadata": {},
     "output_type": "execute_result"
    },
    {
     "data": {
      "text/plain": "<Figure size 432x288 with 1 Axes>",
      "image/png": "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\n"
     },
     "metadata": {
      "needs_background": "light"
     },
     "output_type": "display_data"
    }
   ],
   "source": [
    "game_player_count_df['Month'].sort_values()\n",
    "gp = game_player_count_df.groupby('Name')['Average_Monthly_Players'].count()\n",
    "gp.plot.bar()"
   ],
   "metadata": {
    "collapsed": false,
    "pycharm": {
     "name": "#%%\n"
    }
   }
  },
  {
   "cell_type": "code",
   "execution_count": 226,
   "outputs": [
    {
     "data": {
      "application/vnd.plotly.v1+json": {
       "data": [
        {
         "hovertemplate": "Name=v rising<br>Month=%{x}<br>Max_Players_per_Day=%{y}<extra></extra>",
         "legendgroup": "v rising",
         "line": {
          "color": "#636efa",
          "dash": "solid"
         },
         "marker": {
          "symbol": "circle"
         },
         "mode": "lines",
         "name": "v rising",
         "orientation": "v",
         "showlegend": true,
         "x": [
          "2022-06-30T00:00:00",
          "2022-05-30T00:00:00"
         ],
         "xaxis": "x",
         "y": [
          146500.0,
          152330.0
         ],
         "yaxis": "y",
         "type": "scatter"
        },
        {
         "hovertemplate": "Name=forza horizon 5<br>Month=%{x}<br>Max_Players_per_Day=%{y}<extra></extra>",
         "legendgroup": "forza horizon 5",
         "line": {
          "color": "#EF553B",
          "dash": "solid"
         },
         "marker": {
          "symbol": "circle"
         },
         "mode": "lines",
         "name": "forza horizon 5",
         "orientation": "v",
         "showlegend": true,
         "x": [
          "2022-06-30T00:00:00",
          "2022-05-30T00:00:00",
          "2022-04-30T00:00:00",
          "2022-03-30T00:00:00",
          "2022-02-20T00:00:00",
          "2022-01-30T00:00:00",
          "2021-12-30T00:00:00"
         ],
         "xaxis": "x",
         "y": [
          7095176.0,
          6795012.0,
          5906551.0,
          4364603.0,
          3647748.0,
          3422953.0,
          3151373.0
         ],
         "yaxis": "y",
         "type": "scatter"
        },
        {
         "hovertemplate": "Name=payday 2<br>Month=%{x}<br>Max_Players_per_Day=%{y}<extra></extra>",
         "legendgroup": "payday 2",
         "line": {
          "color": "#00cc96",
          "dash": "solid"
         },
         "marker": {
          "symbol": "circle"
         },
         "mode": "lines",
         "name": "payday 2",
         "orientation": "v",
         "showlegend": true,
         "x": [
          "2022-06-30T00:00:00",
          "2022-05-30T00:00:00",
          "2022-04-30T00:00:00",
          "2022-03-30T00:00:00",
          "2022-02-28T00:00:00",
          "2022-01-30T00:00:00",
          "2021-12-30T00:00:00",
          "2021-11-30T00:00:00",
          "2021-10-30T00:00:00",
          "2021-09-30T00:00:00",
          "2021-08-30T00:00:00",
          "2021-07-30T00:00:00",
          "2021-06-30T00:00:00",
          "2021-05-30T00:00:00",
          "2021-04-30T00:00:00",
          "2021-03-30T00:00:00",
          "2021-02-28T00:00:00",
          "2021-01-30T00:00:00",
          "2020-12-30T00:00:00",
          "2020-11-30T00:00:00",
          "2020-10-30T00:00:00",
          "2020-09-30T00:00:00",
          "2020-08-30T00:00:00",
          "2020-07-30T00:00:00",
          "2020-06-30T00:00:00",
          "2020-05-30T00:00:00",
          "2020-04-30T00:00:00",
          "2020-03-30T00:00:00",
          "2020-02-20T00:00:00",
          "2020-01-30T00:00:00",
          "2019-12-30T00:00:00",
          "2019-11-30T00:00:00"
         ],
         "xaxis": "x",
         "y": [
          1313353.0,
          1340872.0,
          1326139.0,
          1367154.0,
          1482088.0,
          1396046.0,
          1526290.0,
          1425921.0,
          1370949.0,
          1330891.0,
          1343807.0,
          1292000.0,
          1396500.0,
          1200325.0,
          1238356.0,
          1276007.0,
          1213344.0,
          1164934.0,
          1129986.0,
          1211997.0,
          1260596.0,
          1349327.0,
          1416794.0,
          1487633.0,
          1562015.0,
          1342589.0,
          1208725.0,
          1405869.0,
          1267405.0,
          1493495.0,
          1509407.0,
          1536473.0
         ],
         "yaxis": "y",
         "type": "scatter"
        },
        {
         "hovertemplate": "Name=elden ring<br>Month=%{x}<br>Max_Players_per_Day=%{y}<extra></extra>",
         "legendgroup": "elden ring",
         "line": {
          "color": "#ab63fa",
          "dash": "solid"
         },
         "marker": {
          "symbol": "circle"
         },
         "mode": "lines",
         "name": "elden ring",
         "orientation": "v",
         "showlegend": true,
         "x": [
          "2022-06-30T00:00:00",
          "2022-05-30T00:00:00",
          "2022-04-30T00:00:00",
          "2022-03-30T00:00:00",
          "2022-02-28T00:00:00"
         ],
         "xaxis": "x",
         "y": [
          904334.0,
          958510.0,
          960637.0,
          676956.0,
          584115.0
         ],
         "yaxis": "y",
         "type": "scatter"
        },
        {
         "hovertemplate": "Name=lost ark<br>Month=%{x}<br>Max_Players_per_Day=%{y}<extra></extra>",
         "legendgroup": "lost ark",
         "line": {
          "color": "#FFA15A",
          "dash": "solid"
         },
         "marker": {
          "symbol": "circle"
         },
         "mode": "lines",
         "name": "lost ark",
         "orientation": "v",
         "showlegend": true,
         "x": [
          "2022-06-30T00:00:00",
          "2022-05-30T00:00:00",
          "2022-04-30T00:00:00",
          "2022-03-30T00:00:00",
          "2022-02-28T00:00:00",
          "2022-01-30T00:00:00",
          "2021-12-30T00:00:00",
          "2021-11-30T00:00:00",
          "2021-10-30T00:00:00",
          "2021-09-30T00:00:00",
          "2021-08-30T00:00:00",
          "2021-07-30T00:00:00",
          "2021-06-30T00:00:00",
          "2021-05-30T00:00:00",
          "2021-04-30T00:00:00",
          "2021-03-30T00:00:00",
          "2021-02-28T00:00:00",
          "2021-01-30T00:00:00",
          "2020-12-30T00:00:00",
          "2020-11-30T00:00:00",
          "2020-10-30T00:00:00",
          "2020-09-30T00:00:00",
          "2020-08-30T00:00:00",
          "2020-07-30T00:00:00",
          "2020-06-30T00:00:00",
          "2020-05-30T00:00:00",
          "2020-04-30T00:00:00",
          "2020-03-30T00:00:00",
          "2020-02-20T00:00:00",
          "2020-01-30T00:00:00"
         ],
         "xaxis": "x",
         "y": [
          1440228.0,
          1460422.0,
          1301780.0,
          1501112.0,
          1403100.0,
          822732.0,
          811174.0,
          741660.0,
          920544.0,
          936312.0,
          769810.0,
          895962.0,
          906136.0,
          765054.0,
          911094.0,
          780936.0,
          824048.0,
          878106.0,
          746886.0,
          808262.0,
          894684.0,
          802182.0,
          833830.0,
          887386.0,
          830592.0,
          774758.0,
          887658.0,
          887388.0,
          859682.0,
          939448.0
         ],
         "yaxis": "y",
         "type": "scatter"
        },
        {
         "hovertemplate": "Name=splitgate<br>Month=%{x}<br>Max_Players_per_Day=%{y}<extra></extra>",
         "legendgroup": "splitgate",
         "line": {
          "color": "#19d3f3",
          "dash": "solid"
         },
         "marker": {
          "symbol": "circle"
         },
         "mode": "lines",
         "name": "splitgate",
         "orientation": "v",
         "showlegend": true,
         "x": [
          "2022-06-30T00:00:00",
          "2022-05-30T00:00:00",
          "2022-04-30T00:00:00",
          "2022-03-30T00:00:00",
          "2022-02-28T00:00:00",
          "2022-01-30T00:00:00",
          "2021-12-30T00:00:00",
          "2021-11-30T00:00:00",
          "2021-10-30T00:00:00",
          "2020-09-30T00:00:00",
          "2021-08-30T00:00:00",
          "2021-07-30T00:00:00",
          "2021-06-30T00:00:00",
          "2021-05-30T00:00:00",
          "2021-04-30T00:00:00",
          "2021-03-30T00:00:00",
          "2021-02-20T00:00:00",
          "2021-01-30T00:00:00",
          "2020-12-30T00:00:00",
          "2020-11-30T00:00:00",
          "2020-10-30T00:00:00",
          "2020-09-30T00:00:00",
          "2020-08-30T00:00:00",
          "2020-07-30T00:00:00",
          "2020-06-30T00:00:00",
          "2020-05-30T00:00:00",
          "2020-04-30T00:00:00",
          "2020-03-30T00:00:00",
          "2020-02-20T00:00:00",
          "2020-01-30T00:00:00",
          "2019-12-30T00:00:00",
          "2019-11-30T00:00:00",
          "2019-10-30T00:00:00"
         ],
         "xaxis": "x",
         "y": [
          87565.0,
          82501.0,
          77565.0,
          78014.0,
          79100.0,
          75598.0,
          76218.0,
          75877.0,
          77666.0,
          80068.0,
          79380.0,
          78394.0,
          77053.0,
          78081.0,
          77146.0,
          78430.0,
          79585.0,
          74501.0,
          76881.0,
          80223.0,
          75578.0,
          77195.0,
          76534.0,
          79322.0,
          80979.0,
          78404.0,
          77402.0,
          80757.0,
          79812.0,
          80571.0,
          80320.0,
          82390.0,
          87442.0
         ],
         "yaxis": "y",
         "type": "scatter"
        },
        {
         "hovertemplate": "Name=rust<br>Month=%{x}<br>Max_Players_per_Day=%{y}<extra></extra>",
         "legendgroup": "rust",
         "line": {
          "color": "#FF6692",
          "dash": "solid"
         },
         "marker": {
          "symbol": "circle"
         },
         "mode": "lines",
         "name": "rust",
         "orientation": "v",
         "showlegend": true,
         "x": [
          "2022-06-30T00:00:00",
          "2022-05-30T00:00:00",
          "2022-04-30T00:00:00",
          "2022-03-30T00:00:00",
          "2022-02-28T00:00:00",
          "2022-01-30T00:00:00",
          "2021-12-30T00:00:00",
          "2021-11-30T00:00:00",
          "2021-10-30T00:00:00",
          "2021-09-30T00:00:00",
          "2021-08-30T00:00:00",
          "2021-07-30T00:00:00",
          "2021-06-30T00:00:00",
          "2021-05-30T00:00:00",
          "2021-04-30T00:00:00",
          "2021-03-30T00:00:00",
          "2021-02-28T00:00:00",
          "2021-01-30T00:00:00",
          "2020-12-30T00:00:00",
          "2020-11-30T00:00:00",
          "2020-10-30T00:00:00",
          "2020-09-30T00:00:00",
          "2020-08-30T00:00:00",
          "2020-07-30T00:00:00",
          "2020-06-30T00:00:00",
          "2020-05-30T00:00:00",
          "2020-04-30T00:00:00",
          "2020-03-30T00:00:00",
          "2020-02-20T00:00:00",
          "2020-01-30T00:00:00"
         ],
         "xaxis": "x",
         "y": [
          731120.0,
          764337.0,
          766808.0,
          793681.0,
          781630.0,
          753551.0,
          763720.0,
          748506.0,
          817252.0,
          900513.0,
          793104.0,
          765617.0,
          745588.0,
          752046.0,
          726143.0,
          778393.0,
          680305.0,
          699321.0,
          718147.0,
          686815.0,
          662610.0,
          645136.0,
          686142.0,
          710441.0,
          754807.0,
          788540.0,
          823960.0,
          861151.0,
          751438.0,
          903491.0
         ],
         "yaxis": "y",
         "type": "scatter"
        },
        {
         "hovertemplate": "Name=yu gi oh master duel<br>Month=%{x}<br>Max_Players_per_Day=%{y}<extra></extra>",
         "legendgroup": "yu gi oh master duel",
         "line": {
          "color": "#B6E880",
          "dash": "solid"
         },
         "marker": {
          "symbol": "circle"
         },
         "mode": "lines",
         "name": "yu gi oh master duel",
         "orientation": "v",
         "showlegend": true,
         "x": [
          "2022-06-30T00:00:00",
          "2022-05-30T00:00:00",
          "2022-04-30T00:00:00",
          "2022-03-30T00:00:00",
          "2022-02-28T00:00:00",
          "2022-01-30T00:00:00",
          "2021-12-30T00:00:00",
          "2021-11-30T00:00:00",
          "2021-10-30T00:00:00",
          "2021-09-30T00:00:00",
          "2021-08-30T00:00:00",
          "2021-07-30T00:00:00",
          "2021-06-30T00:00:00",
          "2021-05-30T00:00:00",
          "2021-04-30T00:00:00",
          "2021-03-30T00:00:00",
          "2021-02-28T00:00:00",
          "2021-01-30T00:00:00",
          "2020-12-30T00:00:00",
          "2020-11-30T00:00:00",
          "2020-10-30T00:00:00",
          "2020-09-30T00:00:00",
          "2020-08-30T00:00:00",
          "2020-07-30T00:00:00",
          "2020-06-30T00:00:00",
          "2020-05-30T00:00:00",
          "2020-04-30T00:00:00",
          "2020-03-30T00:00:00",
          "2020-02-20T00:00:00",
          "2020-01-30T00:00:00"
         ],
         "xaxis": "x",
         "y": [
          1115345.0,
          1165407.0,
          1193349.0,
          1213527.0,
          1197339.0,
          1116749.0,
          1151287.0,
          1248074.0,
          1175618.0,
          1285297.0,
          1200776.0,
          1154483.0,
          1120750.0,
          1131627.0,
          1088000.0,
          1176000.0,
          1010800.0,
          1042826.0,
          1074533.0,
          1021763.0,
          980997.0,
          951567.0,
          1020629.0,
          1061555.0,
          1136276.0,
          1193089.0,
          1252744.0,
          1315381.0,
          1130601.0,
          1460299.0
         ],
         "yaxis": "y",
         "type": "scatter"
        },
        {
         "hovertemplate": "Name=monster hunter series<br>Month=%{x}<br>Max_Players_per_Day=%{y}<extra></extra>",
         "legendgroup": "monster hunter series",
         "line": {
          "color": "#FF97FF",
          "dash": "solid"
         },
         "marker": {
          "symbol": "circle"
         },
         "mode": "lines",
         "name": "monster hunter series",
         "orientation": "v",
         "showlegend": true,
         "x": [
          "2022-06-30T00:00:00",
          "2022-05-30T00:00:00",
          "2022-04-30T00:00:00",
          "2022-05-30T00:00:00",
          "2022-02-28T00:00:00",
          "2022-01-30T00:00:00",
          "2021-12-30T00:00:00",
          "2021-11-30T00:00:00",
          "2021-10-30T00:00:00",
          "2021-09-30T00:00:00",
          "2021-08-30T00:00:00",
          "2021-07-30T00:00:00",
          "2021-06-30T00:00:00",
          "2021-05-30T00:00:00",
          "2021-04-30T00:00:00",
          "2021-03-30T00:00:00",
          "2021-02-28T00:00:00",
          "2021-01-30T00:00:00",
          "2020-12-30T00:00:00",
          "2020-11-30T00:00:00"
         ],
         "xaxis": "x",
         "y": [
          129780.0,
          122619.0,
          113296.0,
          107360.0,
          100369.0,
          105059.0,
          100813.0,
          123732.0,
          121306.0,
          118928.0,
          110880.0,
          87205.0,
          119438.0,
          138017.0,
          228667.0,
          233333.0,
          262500.0,
          224000.0,
          297052.0,
          76491.0
         ],
         "yaxis": "y",
         "type": "scatter"
        },
        {
         "hovertemplate": "Name=team fortress 2 2<br>Month=%{x}<br>Max_Players_per_Day=%{y}<extra></extra>",
         "legendgroup": "team fortress 2 2",
         "line": {
          "color": "#FECB52",
          "dash": "solid"
         },
         "marker": {
          "symbol": "circle"
         },
         "mode": "lines",
         "name": "team fortress 2 2",
         "orientation": "v",
         "showlegend": true,
         "x": [
          "2022-06-30T00:00:00",
          "2022-05-30T00:00:00",
          "2022-04-30T00:00:00",
          "2022-03-30T00:00:00",
          "2022-02-28T00:00:00",
          "2022-01-30T00:00:00",
          "2021-12-30T00:00:00",
          "2021-11-30T00:00:00",
          "2021-10-30T00:00:00",
          "2021-09-30T00:00:00",
          "2021-08-30T00:00:00",
          "2021-07-30T00:00:00",
          "2021-06-30T00:00:00",
          "2021-05-30T00:00:00",
          "2021-04-30T00:00:00",
          "2021-03-30T00:00:00",
          "2021-02-28T00:00:00",
          "2021-01-30T00:00:00",
          "2020-12-30T00:00:00",
          "2020-11-30T00:00:00",
          "2020-10-30T00:00:00",
          "2020-09-30T00:00:00",
          "2020-08-30T00:00:00",
          "2020-07-30T00:00:00",
          "2020-06-30T00:00:00",
          "2020-05-30T00:00:00",
          "2020-04-30T00:00:00",
          "2020-03-30T00:00:00",
          "2020-02-28T00:00:00",
          "2020-01-30T00:00:00",
          "2020-12-30T00:00:00",
          "2019-11-30T00:00:00",
          "2019-10-30T00:00:00",
          "2019-09-30T00:00:00",
          "2019-08-30T00:00:00",
          "2019-07-30T00:00:00",
          "2019-06-30T00:00:00",
          "2019-05-30T00:00:00",
          "2019-04-30T00:00:00",
          "2019-03-30T00:00:00",
          "2019-02-28T00:00:00",
          "2019-01-30T00:00:00"
         ],
         "xaxis": "x",
         "y": [
          216774.0,
          200887.0,
          197338.0,
          203404.0,
          183685.0,
          182633.0,
          196110.0,
          195204.0,
          202308.0,
          190612.0,
          197002.0,
          109155.0,
          91114.0,
          102335.0,
          100127.0,
          95021.0,
          88665.0,
          86254.0,
          83539.0,
          70001.0,
          75791.0,
          71315.0,
          68734.0,
          71600.0,
          66772.0,
          68696.0,
          69101.0,
          70156.0,
          62652.0,
          62233.0,
          63386.0,
          52396.0,
          54632.0,
          50468.0,
          47295.0,
          51161.0,
          44787.0,
          41123.0,
          44865.0,
          47784.0,
          49818.0,
          52939.0
         ],
         "yaxis": "y",
         "type": "scatter"
        }
       ],
       "layout": {
        "template": {
         "data": {
          "histogram2dcontour": [
           {
            "type": "histogram2dcontour",
            "colorbar": {
             "outlinewidth": 0,
             "ticks": ""
            },
            "colorscale": [
             [
              0.0,
              "#0d0887"
             ],
             [
              0.1111111111111111,
              "#46039f"
             ],
             [
              0.2222222222222222,
              "#7201a8"
             ],
             [
              0.3333333333333333,
              "#9c179e"
             ],
             [
              0.4444444444444444,
              "#bd3786"
             ],
             [
              0.5555555555555556,
              "#d8576b"
             ],
             [
              0.6666666666666666,
              "#ed7953"
             ],
             [
              0.7777777777777778,
              "#fb9f3a"
             ],
             [
              0.8888888888888888,
              "#fdca26"
             ],
             [
              1.0,
              "#f0f921"
             ]
            ]
           }
          ],
          "choropleth": [
           {
            "type": "choropleth",
            "colorbar": {
             "outlinewidth": 0,
             "ticks": ""
            }
           }
          ],
          "histogram2d": [
           {
            "type": "histogram2d",
            "colorbar": {
             "outlinewidth": 0,
             "ticks": ""
            },
            "colorscale": [
             [
              0.0,
              "#0d0887"
             ],
             [
              0.1111111111111111,
              "#46039f"
             ],
             [
              0.2222222222222222,
              "#7201a8"
             ],
             [
              0.3333333333333333,
              "#9c179e"
             ],
             [
              0.4444444444444444,
              "#bd3786"
             ],
             [
              0.5555555555555556,
              "#d8576b"
             ],
             [
              0.6666666666666666,
              "#ed7953"
             ],
             [
              0.7777777777777778,
              "#fb9f3a"
             ],
             [
              0.8888888888888888,
              "#fdca26"
             ],
             [
              1.0,
              "#f0f921"
             ]
            ]
           }
          ],
          "heatmap": [
           {
            "type": "heatmap",
            "colorbar": {
             "outlinewidth": 0,
             "ticks": ""
            },
            "colorscale": [
             [
              0.0,
              "#0d0887"
             ],
             [
              0.1111111111111111,
              "#46039f"
             ],
             [
              0.2222222222222222,
              "#7201a8"
             ],
             [
              0.3333333333333333,
              "#9c179e"
             ],
             [
              0.4444444444444444,
              "#bd3786"
             ],
             [
              0.5555555555555556,
              "#d8576b"
             ],
             [
              0.6666666666666666,
              "#ed7953"
             ],
             [
              0.7777777777777778,
              "#fb9f3a"
             ],
             [
              0.8888888888888888,
              "#fdca26"
             ],
             [
              1.0,
              "#f0f921"
             ]
            ]
           }
          ],
          "heatmapgl": [
           {
            "type": "heatmapgl",
            "colorbar": {
             "outlinewidth": 0,
             "ticks": ""
            },
            "colorscale": [
             [
              0.0,
              "#0d0887"
             ],
             [
              0.1111111111111111,
              "#46039f"
             ],
             [
              0.2222222222222222,
              "#7201a8"
             ],
             [
              0.3333333333333333,
              "#9c179e"
             ],
             [
              0.4444444444444444,
              "#bd3786"
             ],
             [
              0.5555555555555556,
              "#d8576b"
             ],
             [
              0.6666666666666666,
              "#ed7953"
             ],
             [
              0.7777777777777778,
              "#fb9f3a"
             ],
             [
              0.8888888888888888,
              "#fdca26"
             ],
             [
              1.0,
              "#f0f921"
             ]
            ]
           }
          ],
          "contourcarpet": [
           {
            "type": "contourcarpet",
            "colorbar": {
             "outlinewidth": 0,
             "ticks": ""
            }
           }
          ],
          "contour": [
           {
            "type": "contour",
            "colorbar": {
             "outlinewidth": 0,
             "ticks": ""
            },
            "colorscale": [
             [
              0.0,
              "#0d0887"
             ],
             [
              0.1111111111111111,
              "#46039f"
             ],
             [
              0.2222222222222222,
              "#7201a8"
             ],
             [
              0.3333333333333333,
              "#9c179e"
             ],
             [
              0.4444444444444444,
              "#bd3786"
             ],
             [
              0.5555555555555556,
              "#d8576b"
             ],
             [
              0.6666666666666666,
              "#ed7953"
             ],
             [
              0.7777777777777778,
              "#fb9f3a"
             ],
             [
              0.8888888888888888,
              "#fdca26"
             ],
             [
              1.0,
              "#f0f921"
             ]
            ]
           }
          ],
          "surface": [
           {
            "type": "surface",
            "colorbar": {
             "outlinewidth": 0,
             "ticks": ""
            },
            "colorscale": [
             [
              0.0,
              "#0d0887"
             ],
             [
              0.1111111111111111,
              "#46039f"
             ],
             [
              0.2222222222222222,
              "#7201a8"
             ],
             [
              0.3333333333333333,
              "#9c179e"
             ],
             [
              0.4444444444444444,
              "#bd3786"
             ],
             [
              0.5555555555555556,
              "#d8576b"
             ],
             [
              0.6666666666666666,
              "#ed7953"
             ],
             [
              0.7777777777777778,
              "#fb9f3a"
             ],
             [
              0.8888888888888888,
              "#fdca26"
             ],
             [
              1.0,
              "#f0f921"
             ]
            ]
           }
          ],
          "mesh3d": [
           {
            "type": "mesh3d",
            "colorbar": {
             "outlinewidth": 0,
             "ticks": ""
            }
           }
          ],
          "scatter": [
           {
            "fillpattern": {
             "fillmode": "overlay",
             "size": 10,
             "solidity": 0.2
            },
            "type": "scatter"
           }
          ],
          "parcoords": [
           {
            "type": "parcoords",
            "line": {
             "colorbar": {
              "outlinewidth": 0,
              "ticks": ""
             }
            }
           }
          ],
          "scatterpolargl": [
           {
            "type": "scatterpolargl",
            "marker": {
             "colorbar": {
              "outlinewidth": 0,
              "ticks": ""
             }
            }
           }
          ],
          "bar": [
           {
            "error_x": {
             "color": "#2a3f5f"
            },
            "error_y": {
             "color": "#2a3f5f"
            },
            "marker": {
             "line": {
              "color": "#E5ECF6",
              "width": 0.5
             },
             "pattern": {
              "fillmode": "overlay",
              "size": 10,
              "solidity": 0.2
             }
            },
            "type": "bar"
           }
          ],
          "scattergeo": [
           {
            "type": "scattergeo",
            "marker": {
             "colorbar": {
              "outlinewidth": 0,
              "ticks": ""
             }
            }
           }
          ],
          "scatterpolar": [
           {
            "type": "scatterpolar",
            "marker": {
             "colorbar": {
              "outlinewidth": 0,
              "ticks": ""
             }
            }
           }
          ],
          "histogram": [
           {
            "marker": {
             "pattern": {
              "fillmode": "overlay",
              "size": 10,
              "solidity": 0.2
             }
            },
            "type": "histogram"
           }
          ],
          "scattergl": [
           {
            "type": "scattergl",
            "marker": {
             "colorbar": {
              "outlinewidth": 0,
              "ticks": ""
             }
            }
           }
          ],
          "scatter3d": [
           {
            "type": "scatter3d",
            "line": {
             "colorbar": {
              "outlinewidth": 0,
              "ticks": ""
             }
            },
            "marker": {
             "colorbar": {
              "outlinewidth": 0,
              "ticks": ""
             }
            }
           }
          ],
          "scattermapbox": [
           {
            "type": "scattermapbox",
            "marker": {
             "colorbar": {
              "outlinewidth": 0,
              "ticks": ""
             }
            }
           }
          ],
          "scatterternary": [
           {
            "type": "scatterternary",
            "marker": {
             "colorbar": {
              "outlinewidth": 0,
              "ticks": ""
             }
            }
           }
          ],
          "scattercarpet": [
           {
            "type": "scattercarpet",
            "marker": {
             "colorbar": {
              "outlinewidth": 0,
              "ticks": ""
             }
            }
           }
          ],
          "carpet": [
           {
            "aaxis": {
             "endlinecolor": "#2a3f5f",
             "gridcolor": "white",
             "linecolor": "white",
             "minorgridcolor": "white",
             "startlinecolor": "#2a3f5f"
            },
            "baxis": {
             "endlinecolor": "#2a3f5f",
             "gridcolor": "white",
             "linecolor": "white",
             "minorgridcolor": "white",
             "startlinecolor": "#2a3f5f"
            },
            "type": "carpet"
           }
          ],
          "table": [
           {
            "cells": {
             "fill": {
              "color": "#EBF0F8"
             },
             "line": {
              "color": "white"
             }
            },
            "header": {
             "fill": {
              "color": "#C8D4E3"
             },
             "line": {
              "color": "white"
             }
            },
            "type": "table"
           }
          ],
          "barpolar": [
           {
            "marker": {
             "line": {
              "color": "#E5ECF6",
              "width": 0.5
             },
             "pattern": {
              "fillmode": "overlay",
              "size": 10,
              "solidity": 0.2
             }
            },
            "type": "barpolar"
           }
          ],
          "pie": [
           {
            "automargin": true,
            "type": "pie"
           }
          ]
         },
         "layout": {
          "autotypenumbers": "strict",
          "colorway": [
           "#636efa",
           "#EF553B",
           "#00cc96",
           "#ab63fa",
           "#FFA15A",
           "#19d3f3",
           "#FF6692",
           "#B6E880",
           "#FF97FF",
           "#FECB52"
          ],
          "font": {
           "color": "#2a3f5f"
          },
          "hovermode": "closest",
          "hoverlabel": {
           "align": "left"
          },
          "paper_bgcolor": "white",
          "plot_bgcolor": "#E5ECF6",
          "polar": {
           "bgcolor": "#E5ECF6",
           "angularaxis": {
            "gridcolor": "white",
            "linecolor": "white",
            "ticks": ""
           },
           "radialaxis": {
            "gridcolor": "white",
            "linecolor": "white",
            "ticks": ""
           }
          },
          "ternary": {
           "bgcolor": "#E5ECF6",
           "aaxis": {
            "gridcolor": "white",
            "linecolor": "white",
            "ticks": ""
           },
           "baxis": {
            "gridcolor": "white",
            "linecolor": "white",
            "ticks": ""
           },
           "caxis": {
            "gridcolor": "white",
            "linecolor": "white",
            "ticks": ""
           }
          },
          "coloraxis": {
           "colorbar": {
            "outlinewidth": 0,
            "ticks": ""
           }
          },
          "colorscale": {
           "sequential": [
            [
             0.0,
             "#0d0887"
            ],
            [
             0.1111111111111111,
             "#46039f"
            ],
            [
             0.2222222222222222,
             "#7201a8"
            ],
            [
             0.3333333333333333,
             "#9c179e"
            ],
            [
             0.4444444444444444,
             "#bd3786"
            ],
            [
             0.5555555555555556,
             "#d8576b"
            ],
            [
             0.6666666666666666,
             "#ed7953"
            ],
            [
             0.7777777777777778,
             "#fb9f3a"
            ],
            [
             0.8888888888888888,
             "#fdca26"
            ],
            [
             1.0,
             "#f0f921"
            ]
           ],
           "sequentialminus": [
            [
             0.0,
             "#0d0887"
            ],
            [
             0.1111111111111111,
             "#46039f"
            ],
            [
             0.2222222222222222,
             "#7201a8"
            ],
            [
             0.3333333333333333,
             "#9c179e"
            ],
            [
             0.4444444444444444,
             "#bd3786"
            ],
            [
             0.5555555555555556,
             "#d8576b"
            ],
            [
             0.6666666666666666,
             "#ed7953"
            ],
            [
             0.7777777777777778,
             "#fb9f3a"
            ],
            [
             0.8888888888888888,
             "#fdca26"
            ],
            [
             1.0,
             "#f0f921"
            ]
           ],
           "diverging": [
            [
             0,
             "#8e0152"
            ],
            [
             0.1,
             "#c51b7d"
            ],
            [
             0.2,
             "#de77ae"
            ],
            [
             0.3,
             "#f1b6da"
            ],
            [
             0.4,
             "#fde0ef"
            ],
            [
             0.5,
             "#f7f7f7"
            ],
            [
             0.6,
             "#e6f5d0"
            ],
            [
             0.7,
             "#b8e186"
            ],
            [
             0.8,
             "#7fbc41"
            ],
            [
             0.9,
             "#4d9221"
            ],
            [
             1,
             "#276419"
            ]
           ]
          },
          "xaxis": {
           "gridcolor": "white",
           "linecolor": "white",
           "ticks": "",
           "title": {
            "standoff": 15
           },
           "zerolinecolor": "white",
           "automargin": true,
           "zerolinewidth": 2
          },
          "yaxis": {
           "gridcolor": "white",
           "linecolor": "white",
           "ticks": "",
           "title": {
            "standoff": 15
           },
           "zerolinecolor": "white",
           "automargin": true,
           "zerolinewidth": 2
          },
          "scene": {
           "xaxis": {
            "backgroundcolor": "#E5ECF6",
            "gridcolor": "white",
            "linecolor": "white",
            "showbackground": true,
            "ticks": "",
            "zerolinecolor": "white",
            "gridwidth": 2
           },
           "yaxis": {
            "backgroundcolor": "#E5ECF6",
            "gridcolor": "white",
            "linecolor": "white",
            "showbackground": true,
            "ticks": "",
            "zerolinecolor": "white",
            "gridwidth": 2
           },
           "zaxis": {
            "backgroundcolor": "#E5ECF6",
            "gridcolor": "white",
            "linecolor": "white",
            "showbackground": true,
            "ticks": "",
            "zerolinecolor": "white",
            "gridwidth": 2
           }
          },
          "shapedefaults": {
           "line": {
            "color": "#2a3f5f"
           }
          },
          "annotationdefaults": {
           "arrowcolor": "#2a3f5f",
           "arrowhead": 0,
           "arrowwidth": 1
          },
          "geo": {
           "bgcolor": "white",
           "landcolor": "#E5ECF6",
           "subunitcolor": "white",
           "showland": true,
           "showlakes": true,
           "lakecolor": "white"
          },
          "title": {
           "x": 0.05
          },
          "mapbox": {
           "style": "light"
          }
         }
        },
        "xaxis": {
         "anchor": "y",
         "domain": [
          0.0,
          1.0
         ],
         "title": {
          "text": "Month"
         }
        },
        "yaxis": {
         "anchor": "x",
         "domain": [
          0.0,
          1.0
         ],
         "title": {
          "text": "Max_Players_per_Day"
         }
        },
        "legend": {
         "title": {
          "text": "Name"
         },
         "tracegroupgap": 0
        },
        "margin": {
         "t": 60
        }
       },
       "config": {
        "plotlyServerURL": "https://plot.ly"
       }
      },
      "text/html": "<div>                            <div id=\"b36e6260-7009-4ec0-8c42-4d1abacebad6\" class=\"plotly-graph-div\" style=\"height:525px; width:100%;\"></div>            <script type=\"text/javascript\">                require([\"plotly\"], function(Plotly) {                    window.PLOTLYENV=window.PLOTLYENV || {};                                    if (document.getElementById(\"b36e6260-7009-4ec0-8c42-4d1abacebad6\")) {                    Plotly.newPlot(                        \"b36e6260-7009-4ec0-8c42-4d1abacebad6\",                        [{\"hovertemplate\":\"Name=v rising<br>Month=%{x}<br>Max_Players_per_Day=%{y}<extra></extra>\",\"legendgroup\":\"v rising\",\"line\":{\"color\":\"#636efa\",\"dash\":\"solid\"},\"marker\":{\"symbol\":\"circle\"},\"mode\":\"lines\",\"name\":\"v rising\",\"orientation\":\"v\",\"showlegend\":true,\"x\":[\"2022-06-30T00:00:00\",\"2022-05-30T00:00:00\"],\"xaxis\":\"x\",\"y\":[146500.0,152330.0],\"yaxis\":\"y\",\"type\":\"scatter\"},{\"hovertemplate\":\"Name=forza horizon 5<br>Month=%{x}<br>Max_Players_per_Day=%{y}<extra></extra>\",\"legendgroup\":\"forza horizon 5\",\"line\":{\"color\":\"#EF553B\",\"dash\":\"solid\"},\"marker\":{\"symbol\":\"circle\"},\"mode\":\"lines\",\"name\":\"forza horizon 5\",\"orientation\":\"v\",\"showlegend\":true,\"x\":[\"2022-06-30T00:00:00\",\"2022-05-30T00:00:00\",\"2022-04-30T00:00:00\",\"2022-03-30T00:00:00\",\"2022-02-20T00:00:00\",\"2022-01-30T00:00:00\",\"2021-12-30T00:00:00\"],\"xaxis\":\"x\",\"y\":[7095176.0,6795012.0,5906551.0,4364603.0,3647748.0,3422953.0,3151373.0],\"yaxis\":\"y\",\"type\":\"scatter\"},{\"hovertemplate\":\"Name=payday 2<br>Month=%{x}<br>Max_Players_per_Day=%{y}<extra></extra>\",\"legendgroup\":\"payday 2\",\"line\":{\"color\":\"#00cc96\",\"dash\":\"solid\"},\"marker\":{\"symbol\":\"circle\"},\"mode\":\"lines\",\"name\":\"payday 2\",\"orientation\":\"v\",\"showlegend\":true,\"x\":[\"2022-06-30T00:00:00\",\"2022-05-30T00:00:00\",\"2022-04-30T00:00:00\",\"2022-03-30T00:00:00\",\"2022-02-28T00:00:00\",\"2022-01-30T00:00:00\",\"2021-12-30T00:00:00\",\"2021-11-30T00:00:00\",\"2021-10-30T00:00:00\",\"2021-09-30T00:00:00\",\"2021-08-30T00:00:00\",\"2021-07-30T00:00:00\",\"2021-06-30T00:00:00\",\"2021-05-30T00:00:00\",\"2021-04-30T00:00:00\",\"2021-03-30T00:00:00\",\"2021-02-28T00:00:00\",\"2021-01-30T00:00:00\",\"2020-12-30T00:00:00\",\"2020-11-30T00:00:00\",\"2020-10-30T00:00:00\",\"2020-09-30T00:00:00\",\"2020-08-30T00:00:00\",\"2020-07-30T00:00:00\",\"2020-06-30T00:00:00\",\"2020-05-30T00:00:00\",\"2020-04-30T00:00:00\",\"2020-03-30T00:00:00\",\"2020-02-20T00:00:00\",\"2020-01-30T00:00:00\",\"2019-12-30T00:00:00\",\"2019-11-30T00:00:00\"],\"xaxis\":\"x\",\"y\":[1313353.0,1340872.0,1326139.0,1367154.0,1482088.0,1396046.0,1526290.0,1425921.0,1370949.0,1330891.0,1343807.0,1292000.0,1396500.0,1200325.0,1238356.0,1276007.0,1213344.0,1164934.0,1129986.0,1211997.0,1260596.0,1349327.0,1416794.0,1487633.0,1562015.0,1342589.0,1208725.0,1405869.0,1267405.0,1493495.0,1509407.0,1536473.0],\"yaxis\":\"y\",\"type\":\"scatter\"},{\"hovertemplate\":\"Name=elden ring<br>Month=%{x}<br>Max_Players_per_Day=%{y}<extra></extra>\",\"legendgroup\":\"elden ring\",\"line\":{\"color\":\"#ab63fa\",\"dash\":\"solid\"},\"marker\":{\"symbol\":\"circle\"},\"mode\":\"lines\",\"name\":\"elden ring\",\"orientation\":\"v\",\"showlegend\":true,\"x\":[\"2022-06-30T00:00:00\",\"2022-05-30T00:00:00\",\"2022-04-30T00:00:00\",\"2022-03-30T00:00:00\",\"2022-02-28T00:00:00\"],\"xaxis\":\"x\",\"y\":[904334.0,958510.0,960637.0,676956.0,584115.0],\"yaxis\":\"y\",\"type\":\"scatter\"},{\"hovertemplate\":\"Name=lost ark<br>Month=%{x}<br>Max_Players_per_Day=%{y}<extra></extra>\",\"legendgroup\":\"lost ark\",\"line\":{\"color\":\"#FFA15A\",\"dash\":\"solid\"},\"marker\":{\"symbol\":\"circle\"},\"mode\":\"lines\",\"name\":\"lost ark\",\"orientation\":\"v\",\"showlegend\":true,\"x\":[\"2022-06-30T00:00:00\",\"2022-05-30T00:00:00\",\"2022-04-30T00:00:00\",\"2022-03-30T00:00:00\",\"2022-02-28T00:00:00\",\"2022-01-30T00:00:00\",\"2021-12-30T00:00:00\",\"2021-11-30T00:00:00\",\"2021-10-30T00:00:00\",\"2021-09-30T00:00:00\",\"2021-08-30T00:00:00\",\"2021-07-30T00:00:00\",\"2021-06-30T00:00:00\",\"2021-05-30T00:00:00\",\"2021-04-30T00:00:00\",\"2021-03-30T00:00:00\",\"2021-02-28T00:00:00\",\"2021-01-30T00:00:00\",\"2020-12-30T00:00:00\",\"2020-11-30T00:00:00\",\"2020-10-30T00:00:00\",\"2020-09-30T00:00:00\",\"2020-08-30T00:00:00\",\"2020-07-30T00:00:00\",\"2020-06-30T00:00:00\",\"2020-05-30T00:00:00\",\"2020-04-30T00:00:00\",\"2020-03-30T00:00:00\",\"2020-02-20T00:00:00\",\"2020-01-30T00:00:00\"],\"xaxis\":\"x\",\"y\":[1440228.0,1460422.0,1301780.0,1501112.0,1403100.0,822732.0,811174.0,741660.0,920544.0,936312.0,769810.0,895962.0,906136.0,765054.0,911094.0,780936.0,824048.0,878106.0,746886.0,808262.0,894684.0,802182.0,833830.0,887386.0,830592.0,774758.0,887658.0,887388.0,859682.0,939448.0],\"yaxis\":\"y\",\"type\":\"scatter\"},{\"hovertemplate\":\"Name=splitgate<br>Month=%{x}<br>Max_Players_per_Day=%{y}<extra></extra>\",\"legendgroup\":\"splitgate\",\"line\":{\"color\":\"#19d3f3\",\"dash\":\"solid\"},\"marker\":{\"symbol\":\"circle\"},\"mode\":\"lines\",\"name\":\"splitgate\",\"orientation\":\"v\",\"showlegend\":true,\"x\":[\"2022-06-30T00:00:00\",\"2022-05-30T00:00:00\",\"2022-04-30T00:00:00\",\"2022-03-30T00:00:00\",\"2022-02-28T00:00:00\",\"2022-01-30T00:00:00\",\"2021-12-30T00:00:00\",\"2021-11-30T00:00:00\",\"2021-10-30T00:00:00\",\"2020-09-30T00:00:00\",\"2021-08-30T00:00:00\",\"2021-07-30T00:00:00\",\"2021-06-30T00:00:00\",\"2021-05-30T00:00:00\",\"2021-04-30T00:00:00\",\"2021-03-30T00:00:00\",\"2021-02-20T00:00:00\",\"2021-01-30T00:00:00\",\"2020-12-30T00:00:00\",\"2020-11-30T00:00:00\",\"2020-10-30T00:00:00\",\"2020-09-30T00:00:00\",\"2020-08-30T00:00:00\",\"2020-07-30T00:00:00\",\"2020-06-30T00:00:00\",\"2020-05-30T00:00:00\",\"2020-04-30T00:00:00\",\"2020-03-30T00:00:00\",\"2020-02-20T00:00:00\",\"2020-01-30T00:00:00\",\"2019-12-30T00:00:00\",\"2019-11-30T00:00:00\",\"2019-10-30T00:00:00\"],\"xaxis\":\"x\",\"y\":[87565.0,82501.0,77565.0,78014.0,79100.0,75598.0,76218.0,75877.0,77666.0,80068.0,79380.0,78394.0,77053.0,78081.0,77146.0,78430.0,79585.0,74501.0,76881.0,80223.0,75578.0,77195.0,76534.0,79322.0,80979.0,78404.0,77402.0,80757.0,79812.0,80571.0,80320.0,82390.0,87442.0],\"yaxis\":\"y\",\"type\":\"scatter\"},{\"hovertemplate\":\"Name=rust<br>Month=%{x}<br>Max_Players_per_Day=%{y}<extra></extra>\",\"legendgroup\":\"rust\",\"line\":{\"color\":\"#FF6692\",\"dash\":\"solid\"},\"marker\":{\"symbol\":\"circle\"},\"mode\":\"lines\",\"name\":\"rust\",\"orientation\":\"v\",\"showlegend\":true,\"x\":[\"2022-06-30T00:00:00\",\"2022-05-30T00:00:00\",\"2022-04-30T00:00:00\",\"2022-03-30T00:00:00\",\"2022-02-28T00:00:00\",\"2022-01-30T00:00:00\",\"2021-12-30T00:00:00\",\"2021-11-30T00:00:00\",\"2021-10-30T00:00:00\",\"2021-09-30T00:00:00\",\"2021-08-30T00:00:00\",\"2021-07-30T00:00:00\",\"2021-06-30T00:00:00\",\"2021-05-30T00:00:00\",\"2021-04-30T00:00:00\",\"2021-03-30T00:00:00\",\"2021-02-28T00:00:00\",\"2021-01-30T00:00:00\",\"2020-12-30T00:00:00\",\"2020-11-30T00:00:00\",\"2020-10-30T00:00:00\",\"2020-09-30T00:00:00\",\"2020-08-30T00:00:00\",\"2020-07-30T00:00:00\",\"2020-06-30T00:00:00\",\"2020-05-30T00:00:00\",\"2020-04-30T00:00:00\",\"2020-03-30T00:00:00\",\"2020-02-20T00:00:00\",\"2020-01-30T00:00:00\"],\"xaxis\":\"x\",\"y\":[731120.0,764337.0,766808.0,793681.0,781630.0,753551.0,763720.0,748506.0,817252.0,900513.0,793104.0,765617.0,745588.0,752046.0,726143.0,778393.0,680305.0,699321.0,718147.0,686815.0,662610.0,645136.0,686142.0,710441.0,754807.0,788540.0,823960.0,861151.0,751438.0,903491.0],\"yaxis\":\"y\",\"type\":\"scatter\"},{\"hovertemplate\":\"Name=yu gi oh master duel<br>Month=%{x}<br>Max_Players_per_Day=%{y}<extra></extra>\",\"legendgroup\":\"yu gi oh master duel\",\"line\":{\"color\":\"#B6E880\",\"dash\":\"solid\"},\"marker\":{\"symbol\":\"circle\"},\"mode\":\"lines\",\"name\":\"yu gi oh master duel\",\"orientation\":\"v\",\"showlegend\":true,\"x\":[\"2022-06-30T00:00:00\",\"2022-05-30T00:00:00\",\"2022-04-30T00:00:00\",\"2022-03-30T00:00:00\",\"2022-02-28T00:00:00\",\"2022-01-30T00:00:00\",\"2021-12-30T00:00:00\",\"2021-11-30T00:00:00\",\"2021-10-30T00:00:00\",\"2021-09-30T00:00:00\",\"2021-08-30T00:00:00\",\"2021-07-30T00:00:00\",\"2021-06-30T00:00:00\",\"2021-05-30T00:00:00\",\"2021-04-30T00:00:00\",\"2021-03-30T00:00:00\",\"2021-02-28T00:00:00\",\"2021-01-30T00:00:00\",\"2020-12-30T00:00:00\",\"2020-11-30T00:00:00\",\"2020-10-30T00:00:00\",\"2020-09-30T00:00:00\",\"2020-08-30T00:00:00\",\"2020-07-30T00:00:00\",\"2020-06-30T00:00:00\",\"2020-05-30T00:00:00\",\"2020-04-30T00:00:00\",\"2020-03-30T00:00:00\",\"2020-02-20T00:00:00\",\"2020-01-30T00:00:00\"],\"xaxis\":\"x\",\"y\":[1115345.0,1165407.0,1193349.0,1213527.0,1197339.0,1116749.0,1151287.0,1248074.0,1175618.0,1285297.0,1200776.0,1154483.0,1120750.0,1131627.0,1088000.0,1176000.0,1010800.0,1042826.0,1074533.0,1021763.0,980997.0,951567.0,1020629.0,1061555.0,1136276.0,1193089.0,1252744.0,1315381.0,1130601.0,1460299.0],\"yaxis\":\"y\",\"type\":\"scatter\"},{\"hovertemplate\":\"Name=monster hunter series<br>Month=%{x}<br>Max_Players_per_Day=%{y}<extra></extra>\",\"legendgroup\":\"monster hunter series\",\"line\":{\"color\":\"#FF97FF\",\"dash\":\"solid\"},\"marker\":{\"symbol\":\"circle\"},\"mode\":\"lines\",\"name\":\"monster hunter series\",\"orientation\":\"v\",\"showlegend\":true,\"x\":[\"2022-06-30T00:00:00\",\"2022-05-30T00:00:00\",\"2022-04-30T00:00:00\",\"2022-05-30T00:00:00\",\"2022-02-28T00:00:00\",\"2022-01-30T00:00:00\",\"2021-12-30T00:00:00\",\"2021-11-30T00:00:00\",\"2021-10-30T00:00:00\",\"2021-09-30T00:00:00\",\"2021-08-30T00:00:00\",\"2021-07-30T00:00:00\",\"2021-06-30T00:00:00\",\"2021-05-30T00:00:00\",\"2021-04-30T00:00:00\",\"2021-03-30T00:00:00\",\"2021-02-28T00:00:00\",\"2021-01-30T00:00:00\",\"2020-12-30T00:00:00\",\"2020-11-30T00:00:00\"],\"xaxis\":\"x\",\"y\":[129780.0,122619.0,113296.0,107360.0,100369.0,105059.0,100813.0,123732.0,121306.0,118928.0,110880.0,87205.0,119438.0,138017.0,228667.0,233333.0,262500.0,224000.0,297052.0,76491.0],\"yaxis\":\"y\",\"type\":\"scatter\"},{\"hovertemplate\":\"Name=team fortress 2 2<br>Month=%{x}<br>Max_Players_per_Day=%{y}<extra></extra>\",\"legendgroup\":\"team fortress 2 2\",\"line\":{\"color\":\"#FECB52\",\"dash\":\"solid\"},\"marker\":{\"symbol\":\"circle\"},\"mode\":\"lines\",\"name\":\"team fortress 2 2\",\"orientation\":\"v\",\"showlegend\":true,\"x\":[\"2022-06-30T00:00:00\",\"2022-05-30T00:00:00\",\"2022-04-30T00:00:00\",\"2022-03-30T00:00:00\",\"2022-02-28T00:00:00\",\"2022-01-30T00:00:00\",\"2021-12-30T00:00:00\",\"2021-11-30T00:00:00\",\"2021-10-30T00:00:00\",\"2021-09-30T00:00:00\",\"2021-08-30T00:00:00\",\"2021-07-30T00:00:00\",\"2021-06-30T00:00:00\",\"2021-05-30T00:00:00\",\"2021-04-30T00:00:00\",\"2021-03-30T00:00:00\",\"2021-02-28T00:00:00\",\"2021-01-30T00:00:00\",\"2020-12-30T00:00:00\",\"2020-11-30T00:00:00\",\"2020-10-30T00:00:00\",\"2020-09-30T00:00:00\",\"2020-08-30T00:00:00\",\"2020-07-30T00:00:00\",\"2020-06-30T00:00:00\",\"2020-05-30T00:00:00\",\"2020-04-30T00:00:00\",\"2020-03-30T00:00:00\",\"2020-02-28T00:00:00\",\"2020-01-30T00:00:00\",\"2020-12-30T00:00:00\",\"2019-11-30T00:00:00\",\"2019-10-30T00:00:00\",\"2019-09-30T00:00:00\",\"2019-08-30T00:00:00\",\"2019-07-30T00:00:00\",\"2019-06-30T00:00:00\",\"2019-05-30T00:00:00\",\"2019-04-30T00:00:00\",\"2019-03-30T00:00:00\",\"2019-02-28T00:00:00\",\"2019-01-30T00:00:00\"],\"xaxis\":\"x\",\"y\":[216774.0,200887.0,197338.0,203404.0,183685.0,182633.0,196110.0,195204.0,202308.0,190612.0,197002.0,109155.0,91114.0,102335.0,100127.0,95021.0,88665.0,86254.0,83539.0,70001.0,75791.0,71315.0,68734.0,71600.0,66772.0,68696.0,69101.0,70156.0,62652.0,62233.0,63386.0,52396.0,54632.0,50468.0,47295.0,51161.0,44787.0,41123.0,44865.0,47784.0,49818.0,52939.0],\"yaxis\":\"y\",\"type\":\"scatter\"}],                        {\"template\":{\"data\":{\"histogram2dcontour\":[{\"type\":\"histogram2dcontour\",\"colorbar\":{\"outlinewidth\":0,\"ticks\":\"\"},\"colorscale\":[[0.0,\"#0d0887\"],[0.1111111111111111,\"#46039f\"],[0.2222222222222222,\"#7201a8\"],[0.3333333333333333,\"#9c179e\"],[0.4444444444444444,\"#bd3786\"],[0.5555555555555556,\"#d8576b\"],[0.6666666666666666,\"#ed7953\"],[0.7777777777777778,\"#fb9f3a\"],[0.8888888888888888,\"#fdca26\"],[1.0,\"#f0f921\"]]}],\"choropleth\":[{\"type\":\"choropleth\",\"colorbar\":{\"outlinewidth\":0,\"ticks\":\"\"}}],\"histogram2d\":[{\"type\":\"histogram2d\",\"colorbar\":{\"outlinewidth\":0,\"ticks\":\"\"},\"colorscale\":[[0.0,\"#0d0887\"],[0.1111111111111111,\"#46039f\"],[0.2222222222222222,\"#7201a8\"],[0.3333333333333333,\"#9c179e\"],[0.4444444444444444,\"#bd3786\"],[0.5555555555555556,\"#d8576b\"],[0.6666666666666666,\"#ed7953\"],[0.7777777777777778,\"#fb9f3a\"],[0.8888888888888888,\"#fdca26\"],[1.0,\"#f0f921\"]]}],\"heatmap\":[{\"type\":\"heatmap\",\"colorbar\":{\"outlinewidth\":0,\"ticks\":\"\"},\"colorscale\":[[0.0,\"#0d0887\"],[0.1111111111111111,\"#46039f\"],[0.2222222222222222,\"#7201a8\"],[0.3333333333333333,\"#9c179e\"],[0.4444444444444444,\"#bd3786\"],[0.5555555555555556,\"#d8576b\"],[0.6666666666666666,\"#ed7953\"],[0.7777777777777778,\"#fb9f3a\"],[0.8888888888888888,\"#fdca26\"],[1.0,\"#f0f921\"]]}],\"heatmapgl\":[{\"type\":\"heatmapgl\",\"colorbar\":{\"outlinewidth\":0,\"ticks\":\"\"},\"colorscale\":[[0.0,\"#0d0887\"],[0.1111111111111111,\"#46039f\"],[0.2222222222222222,\"#7201a8\"],[0.3333333333333333,\"#9c179e\"],[0.4444444444444444,\"#bd3786\"],[0.5555555555555556,\"#d8576b\"],[0.6666666666666666,\"#ed7953\"],[0.7777777777777778,\"#fb9f3a\"],[0.8888888888888888,\"#fdca26\"],[1.0,\"#f0f921\"]]}],\"contourcarpet\":[{\"type\":\"contourcarpet\",\"colorbar\":{\"outlinewidth\":0,\"ticks\":\"\"}}],\"contour\":[{\"type\":\"contour\",\"colorbar\":{\"outlinewidth\":0,\"ticks\":\"\"},\"colorscale\":[[0.0,\"#0d0887\"],[0.1111111111111111,\"#46039f\"],[0.2222222222222222,\"#7201a8\"],[0.3333333333333333,\"#9c179e\"],[0.4444444444444444,\"#bd3786\"],[0.5555555555555556,\"#d8576b\"],[0.6666666666666666,\"#ed7953\"],[0.7777777777777778,\"#fb9f3a\"],[0.8888888888888888,\"#fdca26\"],[1.0,\"#f0f921\"]]}],\"surface\":[{\"type\":\"surface\",\"colorbar\":{\"outlinewidth\":0,\"ticks\":\"\"},\"colorscale\":[[0.0,\"#0d0887\"],[0.1111111111111111,\"#46039f\"],[0.2222222222222222,\"#7201a8\"],[0.3333333333333333,\"#9c179e\"],[0.4444444444444444,\"#bd3786\"],[0.5555555555555556,\"#d8576b\"],[0.6666666666666666,\"#ed7953\"],[0.7777777777777778,\"#fb9f3a\"],[0.8888888888888888,\"#fdca26\"],[1.0,\"#f0f921\"]]}],\"mesh3d\":[{\"type\":\"mesh3d\",\"colorbar\":{\"outlinewidth\":0,\"ticks\":\"\"}}],\"scatter\":[{\"fillpattern\":{\"fillmode\":\"overlay\",\"size\":10,\"solidity\":0.2},\"type\":\"scatter\"}],\"parcoords\":[{\"type\":\"parcoords\",\"line\":{\"colorbar\":{\"outlinewidth\":0,\"ticks\":\"\"}}}],\"scatterpolargl\":[{\"type\":\"scatterpolargl\",\"marker\":{\"colorbar\":{\"outlinewidth\":0,\"ticks\":\"\"}}}],\"bar\":[{\"error_x\":{\"color\":\"#2a3f5f\"},\"error_y\":{\"color\":\"#2a3f5f\"},\"marker\":{\"line\":{\"color\":\"#E5ECF6\",\"width\":0.5},\"pattern\":{\"fillmode\":\"overlay\",\"size\":10,\"solidity\":0.2}},\"type\":\"bar\"}],\"scattergeo\":[{\"type\":\"scattergeo\",\"marker\":{\"colorbar\":{\"outlinewidth\":0,\"ticks\":\"\"}}}],\"scatterpolar\":[{\"type\":\"scatterpolar\",\"marker\":{\"colorbar\":{\"outlinewidth\":0,\"ticks\":\"\"}}}],\"histogram\":[{\"marker\":{\"pattern\":{\"fillmode\":\"overlay\",\"size\":10,\"solidity\":0.2}},\"type\":\"histogram\"}],\"scattergl\":[{\"type\":\"scattergl\",\"marker\":{\"colorbar\":{\"outlinewidth\":0,\"ticks\":\"\"}}}],\"scatter3d\":[{\"type\":\"scatter3d\",\"line\":{\"colorbar\":{\"outlinewidth\":0,\"ticks\":\"\"}},\"marker\":{\"colorbar\":{\"outlinewidth\":0,\"ticks\":\"\"}}}],\"scattermapbox\":[{\"type\":\"scattermapbox\",\"marker\":{\"colorbar\":{\"outlinewidth\":0,\"ticks\":\"\"}}}],\"scatterternary\":[{\"type\":\"scatterternary\",\"marker\":{\"colorbar\":{\"outlinewidth\":0,\"ticks\":\"\"}}}],\"scattercarpet\":[{\"type\":\"scattercarpet\",\"marker\":{\"colorbar\":{\"outlinewidth\":0,\"ticks\":\"\"}}}],\"carpet\":[{\"aaxis\":{\"endlinecolor\":\"#2a3f5f\",\"gridcolor\":\"white\",\"linecolor\":\"white\",\"minorgridcolor\":\"white\",\"startlinecolor\":\"#2a3f5f\"},\"baxis\":{\"endlinecolor\":\"#2a3f5f\",\"gridcolor\":\"white\",\"linecolor\":\"white\",\"minorgridcolor\":\"white\",\"startlinecolor\":\"#2a3f5f\"},\"type\":\"carpet\"}],\"table\":[{\"cells\":{\"fill\":{\"color\":\"#EBF0F8\"},\"line\":{\"color\":\"white\"}},\"header\":{\"fill\":{\"color\":\"#C8D4E3\"},\"line\":{\"color\":\"white\"}},\"type\":\"table\"}],\"barpolar\":[{\"marker\":{\"line\":{\"color\":\"#E5ECF6\",\"width\":0.5},\"pattern\":{\"fillmode\":\"overlay\",\"size\":10,\"solidity\":0.2}},\"type\":\"barpolar\"}],\"pie\":[{\"automargin\":true,\"type\":\"pie\"}]},\"layout\":{\"autotypenumbers\":\"strict\",\"colorway\":[\"#636efa\",\"#EF553B\",\"#00cc96\",\"#ab63fa\",\"#FFA15A\",\"#19d3f3\",\"#FF6692\",\"#B6E880\",\"#FF97FF\",\"#FECB52\"],\"font\":{\"color\":\"#2a3f5f\"},\"hovermode\":\"closest\",\"hoverlabel\":{\"align\":\"left\"},\"paper_bgcolor\":\"white\",\"plot_bgcolor\":\"#E5ECF6\",\"polar\":{\"bgcolor\":\"#E5ECF6\",\"angularaxis\":{\"gridcolor\":\"white\",\"linecolor\":\"white\",\"ticks\":\"\"},\"radialaxis\":{\"gridcolor\":\"white\",\"linecolor\":\"white\",\"ticks\":\"\"}},\"ternary\":{\"bgcolor\":\"#E5ECF6\",\"aaxis\":{\"gridcolor\":\"white\",\"linecolor\":\"white\",\"ticks\":\"\"},\"baxis\":{\"gridcolor\":\"white\",\"linecolor\":\"white\",\"ticks\":\"\"},\"caxis\":{\"gridcolor\":\"white\",\"linecolor\":\"white\",\"ticks\":\"\"}},\"coloraxis\":{\"colorbar\":{\"outlinewidth\":0,\"ticks\":\"\"}},\"colorscale\":{\"sequential\":[[0.0,\"#0d0887\"],[0.1111111111111111,\"#46039f\"],[0.2222222222222222,\"#7201a8\"],[0.3333333333333333,\"#9c179e\"],[0.4444444444444444,\"#bd3786\"],[0.5555555555555556,\"#d8576b\"],[0.6666666666666666,\"#ed7953\"],[0.7777777777777778,\"#fb9f3a\"],[0.8888888888888888,\"#fdca26\"],[1.0,\"#f0f921\"]],\"sequentialminus\":[[0.0,\"#0d0887\"],[0.1111111111111111,\"#46039f\"],[0.2222222222222222,\"#7201a8\"],[0.3333333333333333,\"#9c179e\"],[0.4444444444444444,\"#bd3786\"],[0.5555555555555556,\"#d8576b\"],[0.6666666666666666,\"#ed7953\"],[0.7777777777777778,\"#fb9f3a\"],[0.8888888888888888,\"#fdca26\"],[1.0,\"#f0f921\"]],\"diverging\":[[0,\"#8e0152\"],[0.1,\"#c51b7d\"],[0.2,\"#de77ae\"],[0.3,\"#f1b6da\"],[0.4,\"#fde0ef\"],[0.5,\"#f7f7f7\"],[0.6,\"#e6f5d0\"],[0.7,\"#b8e186\"],[0.8,\"#7fbc41\"],[0.9,\"#4d9221\"],[1,\"#276419\"]]},\"xaxis\":{\"gridcolor\":\"white\",\"linecolor\":\"white\",\"ticks\":\"\",\"title\":{\"standoff\":15},\"zerolinecolor\":\"white\",\"automargin\":true,\"zerolinewidth\":2},\"yaxis\":{\"gridcolor\":\"white\",\"linecolor\":\"white\",\"ticks\":\"\",\"title\":{\"standoff\":15},\"zerolinecolor\":\"white\",\"automargin\":true,\"zerolinewidth\":2},\"scene\":{\"xaxis\":{\"backgroundcolor\":\"#E5ECF6\",\"gridcolor\":\"white\",\"linecolor\":\"white\",\"showbackground\":true,\"ticks\":\"\",\"zerolinecolor\":\"white\",\"gridwidth\":2},\"yaxis\":{\"backgroundcolor\":\"#E5ECF6\",\"gridcolor\":\"white\",\"linecolor\":\"white\",\"showbackground\":true,\"ticks\":\"\",\"zerolinecolor\":\"white\",\"gridwidth\":2},\"zaxis\":{\"backgroundcolor\":\"#E5ECF6\",\"gridcolor\":\"white\",\"linecolor\":\"white\",\"showbackground\":true,\"ticks\":\"\",\"zerolinecolor\":\"white\",\"gridwidth\":2}},\"shapedefaults\":{\"line\":{\"color\":\"#2a3f5f\"}},\"annotationdefaults\":{\"arrowcolor\":\"#2a3f5f\",\"arrowhead\":0,\"arrowwidth\":1},\"geo\":{\"bgcolor\":\"white\",\"landcolor\":\"#E5ECF6\",\"subunitcolor\":\"white\",\"showland\":true,\"showlakes\":true,\"lakecolor\":\"white\"},\"title\":{\"x\":0.05},\"mapbox\":{\"style\":\"light\"}}},\"xaxis\":{\"anchor\":\"y\",\"domain\":[0.0,1.0],\"title\":{\"text\":\"Month\"}},\"yaxis\":{\"anchor\":\"x\",\"domain\":[0.0,1.0],\"title\":{\"text\":\"Max_Players_per_Day\"}},\"legend\":{\"title\":{\"text\":\"Name\"},\"tracegroupgap\":0},\"margin\":{\"t\":60}},                        {\"responsive\": true}                    ).then(function(){\n                            \nvar gd = document.getElementById('b36e6260-7009-4ec0-8c42-4d1abacebad6');\nvar x = new MutationObserver(function (mutations, observer) {{\n        var display = window.getComputedStyle(gd).display;\n        if (!display || display === 'none') {{\n            console.log([gd, 'removed!']);\n            Plotly.purge(gd);\n            observer.disconnect();\n        }}\n}});\n\n// Listen for the removal of the full notebook cells\nvar notebookContainer = gd.closest('#notebook-container');\nif (notebookContainer) {{\n    x.observe(notebookContainer, {childList: true});\n}}\n\n// Listen for the clearing of the current output cell\nvar outputEl = gd.closest('.output');\nif (outputEl) {{\n    x.observe(outputEl, {childList: true});\n}}\n\n                        })                };                });            </script>        </div>"
     },
     "metadata": {},
     "output_type": "display_data"
    }
   ],
   "source": [
    "fig = px.line(game_player_count_df, x=\"Month\", y=\"Max_Players_per_Day\", color='Name')\n",
    "fig.show()"
   ],
   "metadata": {
    "collapsed": false,
    "pycharm": {
     "name": "#%%\n"
    }
   }
  },
  {
   "cell_type": "code",
   "execution_count": 227,
   "outputs": [
    {
     "data": {
      "application/vnd.plotly.v1+json": {
       "data": [
        {
         "hovertemplate": "Name=v rising<br>Month=%{x}<br>Monthly_Gain_Loss_percentage=%{y}<extra></extra>",
         "legendgroup": "v rising",
         "line": {
          "color": "#636efa",
          "dash": "solid"
         },
         "marker": {
          "symbol": "circle"
         },
         "mode": "lines",
         "name": "v rising",
         "orientation": "v",
         "showlegend": true,
         "x": [
          "2022-06-30T00:00:00",
          "2022-05-30T00:00:00"
         ],
         "xaxis": "x",
         "y": [
          -40.0,
          0.0
         ],
         "yaxis": "y",
         "type": "scatter"
        },
        {
         "hovertemplate": "Name=forza horizon 5<br>Month=%{x}<br>Monthly_Gain_Loss_percentage=%{y}<extra></extra>",
         "legendgroup": "forza horizon 5",
         "line": {
          "color": "#EF553B",
          "dash": "solid"
         },
         "marker": {
          "symbol": "circle"
         },
         "mode": "lines",
         "name": "forza horizon 5",
         "orientation": "v",
         "showlegend": true,
         "x": [
          "2022-06-30T00:00:00",
          "2022-05-30T00:00:00",
          "2022-04-30T00:00:00",
          "2022-03-30T00:00:00",
          "2022-02-20T00:00:00",
          "2022-01-30T00:00:00",
          "2021-12-30T00:00:00"
         ],
         "xaxis": "x",
         "y": [
          4.0,
          15.0,
          5.0,
          20.0,
          0.0,
          0.0,
          0.0
         ],
         "yaxis": "y",
         "type": "scatter"
        },
        {
         "hovertemplate": "Name=payday 2<br>Month=%{x}<br>Monthly_Gain_Loss_percentage=%{y}<extra></extra>",
         "legendgroup": "payday 2",
         "line": {
          "color": "#00cc96",
          "dash": "solid"
         },
         "marker": {
          "symbol": "circle"
         },
         "mode": "lines",
         "name": "payday 2",
         "orientation": "v",
         "showlegend": true,
         "x": [
          "2022-06-30T00:00:00",
          "2022-05-30T00:00:00",
          "2022-04-30T00:00:00",
          "2022-03-30T00:00:00",
          "2022-02-28T00:00:00",
          "2022-01-30T00:00:00",
          "2021-12-30T00:00:00",
          "2021-11-30T00:00:00",
          "2021-10-30T00:00:00",
          "2021-09-30T00:00:00",
          "2021-08-30T00:00:00",
          "2021-07-30T00:00:00",
          "2021-06-30T00:00:00",
          "2021-05-30T00:00:00",
          "2021-04-30T00:00:00",
          "2021-03-30T00:00:00",
          "2021-02-28T00:00:00",
          "2021-01-30T00:00:00",
          "2020-12-30T00:00:00",
          "2020-11-30T00:00:00",
          "2020-10-30T00:00:00",
          "2020-09-30T00:00:00",
          "2020-08-30T00:00:00",
          "2020-07-30T00:00:00",
          "2020-06-30T00:00:00",
          "2020-05-30T00:00:00",
          "2020-04-30T00:00:00",
          "2020-03-30T00:00:00",
          "2020-02-20T00:00:00",
          "2020-01-30T00:00:00",
          "2019-12-30T00:00:00",
          "2019-11-30T00:00:00"
         ],
         "xaxis": "x",
         "y": [
          -2.0,
          1.0,
          -3.0,
          -7.0,
          6.0,
          -8.0,
          7.0,
          4.0,
          3.0,
          0.0,
          4.0,
          -7.0,
          16.0,
          -3.0,
          -2.0,
          5.0,
          4.0,
          3.0,
          -6.0,
          -3.0,
          -6.0,
          -4.0,
          -4.0,
          -4.0,
          16.0,
          11.0,
          -14.0,
          10.0,
          -15.0,
          -1.0,
          -1.0,
          0.0
         ],
         "yaxis": "y",
         "type": "scatter"
        },
        {
         "hovertemplate": "Name=elden ring<br>Month=%{x}<br>Monthly_Gain_Loss_percentage=%{y}<extra></extra>",
         "legendgroup": "elden ring",
         "line": {
          "color": "#ab63fa",
          "dash": "solid"
         },
         "marker": {
          "symbol": "circle"
         },
         "mode": "lines",
         "name": "elden ring",
         "orientation": "v",
         "showlegend": true,
         "x": [
          "2022-06-30T00:00:00",
          "2022-05-30T00:00:00",
          "2022-04-30T00:00:00",
          "2022-03-30T00:00:00",
          "2022-02-28T00:00:00"
         ],
         "xaxis": "x",
         "y": [
          -6.0,
          0.0,
          10.0,
          16.0,
          0.0
         ],
         "yaxis": "y",
         "type": "scatter"
        },
        {
         "hovertemplate": "Name=lost ark<br>Month=%{x}<br>Monthly_Gain_Loss_percentage=%{y}<extra></extra>",
         "legendgroup": "lost ark",
         "line": {
          "color": "#FFA15A",
          "dash": "solid"
         },
         "marker": {
          "symbol": "circle"
         },
         "mode": "lines",
         "name": "lost ark",
         "orientation": "v",
         "showlegend": true,
         "x": [
          "2022-06-30T00:00:00",
          "2022-05-30T00:00:00",
          "2022-04-30T00:00:00",
          "2022-03-30T00:00:00",
          "2022-02-28T00:00:00",
          "2022-01-30T00:00:00",
          "2021-12-30T00:00:00",
          "2021-11-30T00:00:00",
          "2021-10-30T00:00:00",
          "2021-09-30T00:00:00",
          "2021-08-30T00:00:00",
          "2021-07-30T00:00:00",
          "2021-06-30T00:00:00",
          "2021-05-30T00:00:00",
          "2021-04-30T00:00:00",
          "2021-03-30T00:00:00",
          "2021-02-28T00:00:00",
          "2021-01-30T00:00:00",
          "2020-12-30T00:00:00",
          "2020-11-30T00:00:00",
          "2020-10-30T00:00:00",
          "2020-09-30T00:00:00",
          "2020-08-30T00:00:00",
          "2020-07-30T00:00:00",
          "2020-06-30T00:00:00",
          "2020-05-30T00:00:00",
          "2020-04-30T00:00:00",
          "2020-03-30T00:00:00",
          "2020-02-20T00:00:00",
          "2020-01-30T00:00:00"
         ],
         "xaxis": "x",
         "y": [
          -1.0,
          12.0,
          -13.0,
          7.0,
          71.0,
          1.0,
          9.0,
          -19.0,
          -2.0,
          22.0,
          -14.0,
          -1.0,
          18.0,
          -16.0,
          17.0,
          -5.0,
          -6.0,
          18.0,
          -8.0,
          -10.0,
          12.0,
          -4.0,
          -6.0,
          7.0,
          7.0,
          -13.0,
          0.0,
          3.0,
          -8.0,
          0.0
         ],
         "yaxis": "y",
         "type": "scatter"
        },
        {
         "hovertemplate": "Name=splitgate<br>Month=%{x}<br>Monthly_Gain_Loss_percentage=%{y}<extra></extra>",
         "legendgroup": "splitgate",
         "line": {
          "color": "#19d3f3",
          "dash": "solid"
         },
         "marker": {
          "symbol": "circle"
         },
         "mode": "lines",
         "name": "splitgate",
         "orientation": "v",
         "showlegend": true,
         "x": [
          "2022-06-30T00:00:00",
          "2022-05-30T00:00:00",
          "2022-04-30T00:00:00",
          "2022-03-30T00:00:00",
          "2022-02-28T00:00:00",
          "2022-01-30T00:00:00",
          "2021-12-30T00:00:00",
          "2021-11-30T00:00:00",
          "2021-10-30T00:00:00",
          "2020-09-30T00:00:00",
          "2021-08-30T00:00:00",
          "2021-07-30T00:00:00",
          "2021-06-30T00:00:00",
          "2021-05-30T00:00:00",
          "2021-04-30T00:00:00",
          "2021-03-30T00:00:00",
          "2021-02-20T00:00:00",
          "2021-01-30T00:00:00",
          "2020-12-30T00:00:00",
          "2020-11-30T00:00:00",
          "2020-10-30T00:00:00",
          "2020-09-30T00:00:00",
          "2020-08-30T00:00:00",
          "2020-07-30T00:00:00",
          "2020-06-30T00:00:00",
          "2020-05-30T00:00:00",
          "2020-04-30T00:00:00",
          "2020-03-30T00:00:00",
          "2020-02-20T00:00:00",
          "2020-01-30T00:00:00",
          "2019-12-30T00:00:00",
          "2019-11-30T00:00:00",
          "2019-10-30T00:00:00"
         ],
         "xaxis": "x",
         "y": [
          6.14,
          6.36,
          -0.58,
          -1.37,
          4.63,
          -0.81,
          0.45,
          -2.3,
          -3.0,
          0.87,
          1.26,
          1.74,
          -1.32,
          1.21,
          -1.64,
          -1.45,
          6.82,
          -3.1,
          -4.17,
          6.15,
          -2.1,
          0.86,
          -3.51,
          -2.05,
          3.28,
          1.29,
          -4.15,
          1.18,
          -0.94,
          0.31,
          -2.51,
          -5.78,
          0.0
         ],
         "yaxis": "y",
         "type": "scatter"
        },
        {
         "hovertemplate": "Name=rust<br>Month=%{x}<br>Monthly_Gain_Loss_percentage=%{y}<extra></extra>",
         "legendgroup": "rust",
         "line": {
          "color": "#FF6692",
          "dash": "solid"
         },
         "marker": {
          "symbol": "circle"
         },
         "mode": "lines",
         "name": "rust",
         "orientation": "v",
         "showlegend": true,
         "x": [
          "2022-06-30T00:00:00",
          "2022-05-30T00:00:00",
          "2022-04-30T00:00:00",
          "2022-03-30T00:00:00",
          "2022-02-28T00:00:00",
          "2022-01-30T00:00:00",
          "2021-12-30T00:00:00",
          "2021-11-30T00:00:00",
          "2021-10-30T00:00:00",
          "2021-09-30T00:00:00",
          "2021-08-30T00:00:00",
          "2021-07-30T00:00:00",
          "2021-06-30T00:00:00",
          "2021-05-30T00:00:00",
          "2021-04-30T00:00:00",
          "2021-03-30T00:00:00",
          "2021-02-28T00:00:00",
          "2021-01-30T00:00:00",
          "2020-12-30T00:00:00",
          "2020-11-30T00:00:00",
          "2020-10-30T00:00:00",
          "2020-09-30T00:00:00",
          "2020-08-30T00:00:00",
          "2020-07-30T00:00:00",
          "2020-06-30T00:00:00",
          "2020-05-30T00:00:00",
          "2020-04-30T00:00:00",
          "2020-03-30T00:00:00",
          "2020-02-20T00:00:00",
          "2020-01-30T00:00:00"
         ],
         "xaxis": "x",
         "y": [
          -4.35,
          -0.32,
          -3.39,
          1.54,
          3.73,
          -1.33,
          2.03,
          -8.41,
          -9.25,
          13.54,
          3.59,
          2.69,
          -0.86,
          3.57,
          -6.71,
          14.42,
          -2.72,
          -2.62,
          4.56,
          3.65,
          2.71,
          -5.98,
          -3.42,
          -5.88,
          -4.28,
          -4.3,
          -4.32,
          14.6,
          -16.83,
          0.0
         ],
         "yaxis": "y",
         "type": "scatter"
        },
        {
         "hovertemplate": "Name=yu gi oh master duel<br>Month=%{x}<br>Monthly_Gain_Loss_percentage=%{y}<extra></extra>",
         "legendgroup": "yu gi oh master duel",
         "line": {
          "color": "#B6E880",
          "dash": "solid"
         },
         "marker": {
          "symbol": "circle"
         },
         "mode": "lines",
         "name": "yu gi oh master duel",
         "orientation": "v",
         "showlegend": true,
         "x": [
          "2022-06-30T00:00:00",
          "2022-05-30T00:00:00",
          "2022-04-30T00:00:00",
          "2022-03-30T00:00:00",
          "2022-02-28T00:00:00",
          "2022-01-30T00:00:00",
          "2021-12-30T00:00:00",
          "2021-11-30T00:00:00",
          "2021-10-30T00:00:00",
          "2021-09-30T00:00:00",
          "2021-08-30T00:00:00",
          "2021-07-30T00:00:00",
          "2021-06-30T00:00:00",
          "2021-05-30T00:00:00",
          "2021-04-30T00:00:00",
          "2021-03-30T00:00:00",
          "2021-02-28T00:00:00",
          "2021-01-30T00:00:00",
          "2020-12-30T00:00:00",
          "2020-11-30T00:00:00",
          "2020-10-30T00:00:00",
          "2020-09-30T00:00:00",
          "2020-08-30T00:00:00",
          "2020-07-30T00:00:00",
          "2020-06-30T00:00:00",
          "2020-05-30T00:00:00",
          "2020-04-30T00:00:00",
          "2020-03-30T00:00:00",
          "2020-02-20T00:00:00",
          "2020-01-30T00:00:00"
         ],
         "xaxis": "x",
         "y": [
          -4.0,
          -2.0,
          -2.0,
          1.0,
          7.0,
          -3.0,
          -8.0,
          6.0,
          -9.0,
          7.0,
          4.0,
          3.0,
          -1.0,
          4.0,
          -7.0,
          16.0,
          -3.0,
          -3.0,
          5.0,
          4.0,
          3.0,
          -7.0,
          -4.0,
          -7.0,
          -5.0,
          -5.0,
          -5.0,
          16.0,
          -23.0,
          0.0
         ],
         "yaxis": "y",
         "type": "scatter"
        },
        {
         "hovertemplate": "Name=monster hunter series<br>Month=%{x}<br>Monthly_Gain_Loss_percentage=%{y}<extra></extra>",
         "legendgroup": "monster hunter series",
         "line": {
          "color": "#FF97FF",
          "dash": "solid"
         },
         "marker": {
          "symbol": "circle"
         },
         "mode": "lines",
         "name": "monster hunter series",
         "orientation": "v",
         "showlegend": true,
         "x": [
          "2022-06-30T00:00:00",
          "2022-05-30T00:00:00",
          "2022-04-30T00:00:00",
          "2022-05-30T00:00:00",
          "2022-02-28T00:00:00",
          "2022-01-30T00:00:00",
          "2021-12-30T00:00:00",
          "2021-11-30T00:00:00",
          "2021-10-30T00:00:00",
          "2021-09-30T00:00:00",
          "2021-08-30T00:00:00",
          "2021-07-30T00:00:00",
          "2021-06-30T00:00:00",
          "2021-05-30T00:00:00",
          "2021-04-30T00:00:00",
          "2021-03-30T00:00:00",
          "2021-02-28T00:00:00",
          "2021-01-30T00:00:00",
          "2020-12-30T00:00:00",
          "2020-11-30T00:00:00"
         ],
         "xaxis": "x",
         "y": [
          6.0,
          8.0,
          6.0,
          7.0,
          -4.0,
          4.0,
          -19.0,
          2.0,
          2.0,
          7.0,
          27.0,
          -27.0,
          -13.0,
          -40.0,
          -2.0,
          -11.0,
          17.0,
          -25.0,
          288.0,
          0.0
         ],
         "yaxis": "y",
         "type": "scatter"
        },
        {
         "hovertemplate": "Name=team fortress 2 2<br>Month=%{x}<br>Monthly_Gain_Loss_percentage=%{y}<extra></extra>",
         "legendgroup": "team fortress 2 2",
         "line": {
          "color": "#FECB52",
          "dash": "solid"
         },
         "marker": {
          "symbol": "circle"
         },
         "mode": "lines",
         "name": "team fortress 2 2",
         "orientation": "v",
         "showlegend": true,
         "x": [
          "2022-06-30T00:00:00",
          "2022-05-30T00:00:00",
          "2022-04-30T00:00:00",
          "2022-03-30T00:00:00",
          "2022-02-28T00:00:00",
          "2022-01-30T00:00:00",
          "2021-12-30T00:00:00",
          "2021-11-30T00:00:00",
          "2021-10-30T00:00:00",
          "2021-09-30T00:00:00",
          "2021-08-30T00:00:00",
          "2021-07-30T00:00:00",
          "2021-06-30T00:00:00",
          "2021-05-30T00:00:00",
          "2021-04-30T00:00:00",
          "2021-03-30T00:00:00",
          "2021-02-28T00:00:00",
          "2021-01-30T00:00:00",
          "2020-12-30T00:00:00",
          "2020-11-30T00:00:00",
          "2020-10-30T00:00:00",
          "2020-09-30T00:00:00",
          "2020-08-30T00:00:00",
          "2020-07-30T00:00:00",
          "2020-06-30T00:00:00",
          "2020-05-30T00:00:00",
          "2020-04-30T00:00:00",
          "2020-03-30T00:00:00",
          "2020-02-28T00:00:00",
          "2020-01-30T00:00:00",
          "2020-12-30T00:00:00",
          "2019-11-30T00:00:00",
          "2019-10-30T00:00:00",
          "2019-09-30T00:00:00",
          "2019-08-30T00:00:00",
          "2019-07-30T00:00:00",
          "2019-06-30T00:00:00",
          "2019-05-30T00:00:00",
          "2019-04-30T00:00:00",
          "2019-03-30T00:00:00",
          "2019-02-28T00:00:00",
          "2019-01-30T00:00:00"
         ],
         "xaxis": "x",
         "y": [
          7.91,
          1.8,
          -2.98,
          10.73,
          0.58,
          -6.87,
          0.46,
          -3.51,
          6.14,
          -3.24,
          80.48,
          19.8,
          -10.96,
          2.21,
          5.37,
          7.17,
          2.8,
          3.25,
          19.34,
          -7.64,
          6.28,
          3.76,
          -4.0,
          7.23,
          -2.8,
          -0.59,
          -1.5,
          11.98,
          0.67,
          -1.82,
          20.97,
          -4.09,
          8.25,
          6.71,
          -7.56,
          14.23,
          8.91,
          -8.34,
          -6.11,
          -4.08,
          -5.9,
          0.0
         ],
         "yaxis": "y",
         "type": "scatter"
        }
       ],
       "layout": {
        "template": {
         "data": {
          "histogram2dcontour": [
           {
            "type": "histogram2dcontour",
            "colorbar": {
             "outlinewidth": 0,
             "ticks": ""
            },
            "colorscale": [
             [
              0.0,
              "#0d0887"
             ],
             [
              0.1111111111111111,
              "#46039f"
             ],
             [
              0.2222222222222222,
              "#7201a8"
             ],
             [
              0.3333333333333333,
              "#9c179e"
             ],
             [
              0.4444444444444444,
              "#bd3786"
             ],
             [
              0.5555555555555556,
              "#d8576b"
             ],
             [
              0.6666666666666666,
              "#ed7953"
             ],
             [
              0.7777777777777778,
              "#fb9f3a"
             ],
             [
              0.8888888888888888,
              "#fdca26"
             ],
             [
              1.0,
              "#f0f921"
             ]
            ]
           }
          ],
          "choropleth": [
           {
            "type": "choropleth",
            "colorbar": {
             "outlinewidth": 0,
             "ticks": ""
            }
           }
          ],
          "histogram2d": [
           {
            "type": "histogram2d",
            "colorbar": {
             "outlinewidth": 0,
             "ticks": ""
            },
            "colorscale": [
             [
              0.0,
              "#0d0887"
             ],
             [
              0.1111111111111111,
              "#46039f"
             ],
             [
              0.2222222222222222,
              "#7201a8"
             ],
             [
              0.3333333333333333,
              "#9c179e"
             ],
             [
              0.4444444444444444,
              "#bd3786"
             ],
             [
              0.5555555555555556,
              "#d8576b"
             ],
             [
              0.6666666666666666,
              "#ed7953"
             ],
             [
              0.7777777777777778,
              "#fb9f3a"
             ],
             [
              0.8888888888888888,
              "#fdca26"
             ],
             [
              1.0,
              "#f0f921"
             ]
            ]
           }
          ],
          "heatmap": [
           {
            "type": "heatmap",
            "colorbar": {
             "outlinewidth": 0,
             "ticks": ""
            },
            "colorscale": [
             [
              0.0,
              "#0d0887"
             ],
             [
              0.1111111111111111,
              "#46039f"
             ],
             [
              0.2222222222222222,
              "#7201a8"
             ],
             [
              0.3333333333333333,
              "#9c179e"
             ],
             [
              0.4444444444444444,
              "#bd3786"
             ],
             [
              0.5555555555555556,
              "#d8576b"
             ],
             [
              0.6666666666666666,
              "#ed7953"
             ],
             [
              0.7777777777777778,
              "#fb9f3a"
             ],
             [
              0.8888888888888888,
              "#fdca26"
             ],
             [
              1.0,
              "#f0f921"
             ]
            ]
           }
          ],
          "heatmapgl": [
           {
            "type": "heatmapgl",
            "colorbar": {
             "outlinewidth": 0,
             "ticks": ""
            },
            "colorscale": [
             [
              0.0,
              "#0d0887"
             ],
             [
              0.1111111111111111,
              "#46039f"
             ],
             [
              0.2222222222222222,
              "#7201a8"
             ],
             [
              0.3333333333333333,
              "#9c179e"
             ],
             [
              0.4444444444444444,
              "#bd3786"
             ],
             [
              0.5555555555555556,
              "#d8576b"
             ],
             [
              0.6666666666666666,
              "#ed7953"
             ],
             [
              0.7777777777777778,
              "#fb9f3a"
             ],
             [
              0.8888888888888888,
              "#fdca26"
             ],
             [
              1.0,
              "#f0f921"
             ]
            ]
           }
          ],
          "contourcarpet": [
           {
            "type": "contourcarpet",
            "colorbar": {
             "outlinewidth": 0,
             "ticks": ""
            }
           }
          ],
          "contour": [
           {
            "type": "contour",
            "colorbar": {
             "outlinewidth": 0,
             "ticks": ""
            },
            "colorscale": [
             [
              0.0,
              "#0d0887"
             ],
             [
              0.1111111111111111,
              "#46039f"
             ],
             [
              0.2222222222222222,
              "#7201a8"
             ],
             [
              0.3333333333333333,
              "#9c179e"
             ],
             [
              0.4444444444444444,
              "#bd3786"
             ],
             [
              0.5555555555555556,
              "#d8576b"
             ],
             [
              0.6666666666666666,
              "#ed7953"
             ],
             [
              0.7777777777777778,
              "#fb9f3a"
             ],
             [
              0.8888888888888888,
              "#fdca26"
             ],
             [
              1.0,
              "#f0f921"
             ]
            ]
           }
          ],
          "surface": [
           {
            "type": "surface",
            "colorbar": {
             "outlinewidth": 0,
             "ticks": ""
            },
            "colorscale": [
             [
              0.0,
              "#0d0887"
             ],
             [
              0.1111111111111111,
              "#46039f"
             ],
             [
              0.2222222222222222,
              "#7201a8"
             ],
             [
              0.3333333333333333,
              "#9c179e"
             ],
             [
              0.4444444444444444,
              "#bd3786"
             ],
             [
              0.5555555555555556,
              "#d8576b"
             ],
             [
              0.6666666666666666,
              "#ed7953"
             ],
             [
              0.7777777777777778,
              "#fb9f3a"
             ],
             [
              0.8888888888888888,
              "#fdca26"
             ],
             [
              1.0,
              "#f0f921"
             ]
            ]
           }
          ],
          "mesh3d": [
           {
            "type": "mesh3d",
            "colorbar": {
             "outlinewidth": 0,
             "ticks": ""
            }
           }
          ],
          "scatter": [
           {
            "fillpattern": {
             "fillmode": "overlay",
             "size": 10,
             "solidity": 0.2
            },
            "type": "scatter"
           }
          ],
          "parcoords": [
           {
            "type": "parcoords",
            "line": {
             "colorbar": {
              "outlinewidth": 0,
              "ticks": ""
             }
            }
           }
          ],
          "scatterpolargl": [
           {
            "type": "scatterpolargl",
            "marker": {
             "colorbar": {
              "outlinewidth": 0,
              "ticks": ""
             }
            }
           }
          ],
          "bar": [
           {
            "error_x": {
             "color": "#2a3f5f"
            },
            "error_y": {
             "color": "#2a3f5f"
            },
            "marker": {
             "line": {
              "color": "#E5ECF6",
              "width": 0.5
             },
             "pattern": {
              "fillmode": "overlay",
              "size": 10,
              "solidity": 0.2
             }
            },
            "type": "bar"
           }
          ],
          "scattergeo": [
           {
            "type": "scattergeo",
            "marker": {
             "colorbar": {
              "outlinewidth": 0,
              "ticks": ""
             }
            }
           }
          ],
          "scatterpolar": [
           {
            "type": "scatterpolar",
            "marker": {
             "colorbar": {
              "outlinewidth": 0,
              "ticks": ""
             }
            }
           }
          ],
          "histogram": [
           {
            "marker": {
             "pattern": {
              "fillmode": "overlay",
              "size": 10,
              "solidity": 0.2
             }
            },
            "type": "histogram"
           }
          ],
          "scattergl": [
           {
            "type": "scattergl",
            "marker": {
             "colorbar": {
              "outlinewidth": 0,
              "ticks": ""
             }
            }
           }
          ],
          "scatter3d": [
           {
            "type": "scatter3d",
            "line": {
             "colorbar": {
              "outlinewidth": 0,
              "ticks": ""
             }
            },
            "marker": {
             "colorbar": {
              "outlinewidth": 0,
              "ticks": ""
             }
            }
           }
          ],
          "scattermapbox": [
           {
            "type": "scattermapbox",
            "marker": {
             "colorbar": {
              "outlinewidth": 0,
              "ticks": ""
             }
            }
           }
          ],
          "scatterternary": [
           {
            "type": "scatterternary",
            "marker": {
             "colorbar": {
              "outlinewidth": 0,
              "ticks": ""
             }
            }
           }
          ],
          "scattercarpet": [
           {
            "type": "scattercarpet",
            "marker": {
             "colorbar": {
              "outlinewidth": 0,
              "ticks": ""
             }
            }
           }
          ],
          "carpet": [
           {
            "aaxis": {
             "endlinecolor": "#2a3f5f",
             "gridcolor": "white",
             "linecolor": "white",
             "minorgridcolor": "white",
             "startlinecolor": "#2a3f5f"
            },
            "baxis": {
             "endlinecolor": "#2a3f5f",
             "gridcolor": "white",
             "linecolor": "white",
             "minorgridcolor": "white",
             "startlinecolor": "#2a3f5f"
            },
            "type": "carpet"
           }
          ],
          "table": [
           {
            "cells": {
             "fill": {
              "color": "#EBF0F8"
             },
             "line": {
              "color": "white"
             }
            },
            "header": {
             "fill": {
              "color": "#C8D4E3"
             },
             "line": {
              "color": "white"
             }
            },
            "type": "table"
           }
          ],
          "barpolar": [
           {
            "marker": {
             "line": {
              "color": "#E5ECF6",
              "width": 0.5
             },
             "pattern": {
              "fillmode": "overlay",
              "size": 10,
              "solidity": 0.2
             }
            },
            "type": "barpolar"
           }
          ],
          "pie": [
           {
            "automargin": true,
            "type": "pie"
           }
          ]
         },
         "layout": {
          "autotypenumbers": "strict",
          "colorway": [
           "#636efa",
           "#EF553B",
           "#00cc96",
           "#ab63fa",
           "#FFA15A",
           "#19d3f3",
           "#FF6692",
           "#B6E880",
           "#FF97FF",
           "#FECB52"
          ],
          "font": {
           "color": "#2a3f5f"
          },
          "hovermode": "closest",
          "hoverlabel": {
           "align": "left"
          },
          "paper_bgcolor": "white",
          "plot_bgcolor": "#E5ECF6",
          "polar": {
           "bgcolor": "#E5ECF6",
           "angularaxis": {
            "gridcolor": "white",
            "linecolor": "white",
            "ticks": ""
           },
           "radialaxis": {
            "gridcolor": "white",
            "linecolor": "white",
            "ticks": ""
           }
          },
          "ternary": {
           "bgcolor": "#E5ECF6",
           "aaxis": {
            "gridcolor": "white",
            "linecolor": "white",
            "ticks": ""
           },
           "baxis": {
            "gridcolor": "white",
            "linecolor": "white",
            "ticks": ""
           },
           "caxis": {
            "gridcolor": "white",
            "linecolor": "white",
            "ticks": ""
           }
          },
          "coloraxis": {
           "colorbar": {
            "outlinewidth": 0,
            "ticks": ""
           }
          },
          "colorscale": {
           "sequential": [
            [
             0.0,
             "#0d0887"
            ],
            [
             0.1111111111111111,
             "#46039f"
            ],
            [
             0.2222222222222222,
             "#7201a8"
            ],
            [
             0.3333333333333333,
             "#9c179e"
            ],
            [
             0.4444444444444444,
             "#bd3786"
            ],
            [
             0.5555555555555556,
             "#d8576b"
            ],
            [
             0.6666666666666666,
             "#ed7953"
            ],
            [
             0.7777777777777778,
             "#fb9f3a"
            ],
            [
             0.8888888888888888,
             "#fdca26"
            ],
            [
             1.0,
             "#f0f921"
            ]
           ],
           "sequentialminus": [
            [
             0.0,
             "#0d0887"
            ],
            [
             0.1111111111111111,
             "#46039f"
            ],
            [
             0.2222222222222222,
             "#7201a8"
            ],
            [
             0.3333333333333333,
             "#9c179e"
            ],
            [
             0.4444444444444444,
             "#bd3786"
            ],
            [
             0.5555555555555556,
             "#d8576b"
            ],
            [
             0.6666666666666666,
             "#ed7953"
            ],
            [
             0.7777777777777778,
             "#fb9f3a"
            ],
            [
             0.8888888888888888,
             "#fdca26"
            ],
            [
             1.0,
             "#f0f921"
            ]
           ],
           "diverging": [
            [
             0,
             "#8e0152"
            ],
            [
             0.1,
             "#c51b7d"
            ],
            [
             0.2,
             "#de77ae"
            ],
            [
             0.3,
             "#f1b6da"
            ],
            [
             0.4,
             "#fde0ef"
            ],
            [
             0.5,
             "#f7f7f7"
            ],
            [
             0.6,
             "#e6f5d0"
            ],
            [
             0.7,
             "#b8e186"
            ],
            [
             0.8,
             "#7fbc41"
            ],
            [
             0.9,
             "#4d9221"
            ],
            [
             1,
             "#276419"
            ]
           ]
          },
          "xaxis": {
           "gridcolor": "white",
           "linecolor": "white",
           "ticks": "",
           "title": {
            "standoff": 15
           },
           "zerolinecolor": "white",
           "automargin": true,
           "zerolinewidth": 2
          },
          "yaxis": {
           "gridcolor": "white",
           "linecolor": "white",
           "ticks": "",
           "title": {
            "standoff": 15
           },
           "zerolinecolor": "white",
           "automargin": true,
           "zerolinewidth": 2
          },
          "scene": {
           "xaxis": {
            "backgroundcolor": "#E5ECF6",
            "gridcolor": "white",
            "linecolor": "white",
            "showbackground": true,
            "ticks": "",
            "zerolinecolor": "white",
            "gridwidth": 2
           },
           "yaxis": {
            "backgroundcolor": "#E5ECF6",
            "gridcolor": "white",
            "linecolor": "white",
            "showbackground": true,
            "ticks": "",
            "zerolinecolor": "white",
            "gridwidth": 2
           },
           "zaxis": {
            "backgroundcolor": "#E5ECF6",
            "gridcolor": "white",
            "linecolor": "white",
            "showbackground": true,
            "ticks": "",
            "zerolinecolor": "white",
            "gridwidth": 2
           }
          },
          "shapedefaults": {
           "line": {
            "color": "#2a3f5f"
           }
          },
          "annotationdefaults": {
           "arrowcolor": "#2a3f5f",
           "arrowhead": 0,
           "arrowwidth": 1
          },
          "geo": {
           "bgcolor": "white",
           "landcolor": "#E5ECF6",
           "subunitcolor": "white",
           "showland": true,
           "showlakes": true,
           "lakecolor": "white"
          },
          "title": {
           "x": 0.05
          },
          "mapbox": {
           "style": "light"
          }
         }
        },
        "xaxis": {
         "anchor": "y",
         "domain": [
          0.0,
          1.0
         ],
         "title": {
          "text": "Month"
         }
        },
        "yaxis": {
         "anchor": "x",
         "domain": [
          0.0,
          1.0
         ],
         "title": {
          "text": "Monthly_Gain_Loss_percentage"
         }
        },
        "legend": {
         "title": {
          "text": "Name"
         },
         "tracegroupgap": 0
        },
        "margin": {
         "t": 60
        }
       },
       "config": {
        "plotlyServerURL": "https://plot.ly"
       }
      },
      "text/html": "<div>                            <div id=\"1a2ded72-9994-4f2d-a8ee-9c8791f49d97\" class=\"plotly-graph-div\" style=\"height:525px; width:100%;\"></div>            <script type=\"text/javascript\">                require([\"plotly\"], function(Plotly) {                    window.PLOTLYENV=window.PLOTLYENV || {};                                    if (document.getElementById(\"1a2ded72-9994-4f2d-a8ee-9c8791f49d97\")) {                    Plotly.newPlot(                        \"1a2ded72-9994-4f2d-a8ee-9c8791f49d97\",                        [{\"hovertemplate\":\"Name=v rising<br>Month=%{x}<br>Monthly_Gain_Loss_percentage=%{y}<extra></extra>\",\"legendgroup\":\"v rising\",\"line\":{\"color\":\"#636efa\",\"dash\":\"solid\"},\"marker\":{\"symbol\":\"circle\"},\"mode\":\"lines\",\"name\":\"v rising\",\"orientation\":\"v\",\"showlegend\":true,\"x\":[\"2022-06-30T00:00:00\",\"2022-05-30T00:00:00\"],\"xaxis\":\"x\",\"y\":[-40.0,0.0],\"yaxis\":\"y\",\"type\":\"scatter\"},{\"hovertemplate\":\"Name=forza horizon 5<br>Month=%{x}<br>Monthly_Gain_Loss_percentage=%{y}<extra></extra>\",\"legendgroup\":\"forza horizon 5\",\"line\":{\"color\":\"#EF553B\",\"dash\":\"solid\"},\"marker\":{\"symbol\":\"circle\"},\"mode\":\"lines\",\"name\":\"forza horizon 5\",\"orientation\":\"v\",\"showlegend\":true,\"x\":[\"2022-06-30T00:00:00\",\"2022-05-30T00:00:00\",\"2022-04-30T00:00:00\",\"2022-03-30T00:00:00\",\"2022-02-20T00:00:00\",\"2022-01-30T00:00:00\",\"2021-12-30T00:00:00\"],\"xaxis\":\"x\",\"y\":[4.0,15.0,5.0,20.0,0.0,0.0,0.0],\"yaxis\":\"y\",\"type\":\"scatter\"},{\"hovertemplate\":\"Name=payday 2<br>Month=%{x}<br>Monthly_Gain_Loss_percentage=%{y}<extra></extra>\",\"legendgroup\":\"payday 2\",\"line\":{\"color\":\"#00cc96\",\"dash\":\"solid\"},\"marker\":{\"symbol\":\"circle\"},\"mode\":\"lines\",\"name\":\"payday 2\",\"orientation\":\"v\",\"showlegend\":true,\"x\":[\"2022-06-30T00:00:00\",\"2022-05-30T00:00:00\",\"2022-04-30T00:00:00\",\"2022-03-30T00:00:00\",\"2022-02-28T00:00:00\",\"2022-01-30T00:00:00\",\"2021-12-30T00:00:00\",\"2021-11-30T00:00:00\",\"2021-10-30T00:00:00\",\"2021-09-30T00:00:00\",\"2021-08-30T00:00:00\",\"2021-07-30T00:00:00\",\"2021-06-30T00:00:00\",\"2021-05-30T00:00:00\",\"2021-04-30T00:00:00\",\"2021-03-30T00:00:00\",\"2021-02-28T00:00:00\",\"2021-01-30T00:00:00\",\"2020-12-30T00:00:00\",\"2020-11-30T00:00:00\",\"2020-10-30T00:00:00\",\"2020-09-30T00:00:00\",\"2020-08-30T00:00:00\",\"2020-07-30T00:00:00\",\"2020-06-30T00:00:00\",\"2020-05-30T00:00:00\",\"2020-04-30T00:00:00\",\"2020-03-30T00:00:00\",\"2020-02-20T00:00:00\",\"2020-01-30T00:00:00\",\"2019-12-30T00:00:00\",\"2019-11-30T00:00:00\"],\"xaxis\":\"x\",\"y\":[-2.0,1.0,-3.0,-7.0,6.0,-8.0,7.0,4.0,3.0,0.0,4.0,-7.0,16.0,-3.0,-2.0,5.0,4.0,3.0,-6.0,-3.0,-6.0,-4.0,-4.0,-4.0,16.0,11.0,-14.0,10.0,-15.0,-1.0,-1.0,0.0],\"yaxis\":\"y\",\"type\":\"scatter\"},{\"hovertemplate\":\"Name=elden ring<br>Month=%{x}<br>Monthly_Gain_Loss_percentage=%{y}<extra></extra>\",\"legendgroup\":\"elden ring\",\"line\":{\"color\":\"#ab63fa\",\"dash\":\"solid\"},\"marker\":{\"symbol\":\"circle\"},\"mode\":\"lines\",\"name\":\"elden ring\",\"orientation\":\"v\",\"showlegend\":true,\"x\":[\"2022-06-30T00:00:00\",\"2022-05-30T00:00:00\",\"2022-04-30T00:00:00\",\"2022-03-30T00:00:00\",\"2022-02-28T00:00:00\"],\"xaxis\":\"x\",\"y\":[-6.0,0.0,10.0,16.0,0.0],\"yaxis\":\"y\",\"type\":\"scatter\"},{\"hovertemplate\":\"Name=lost ark<br>Month=%{x}<br>Monthly_Gain_Loss_percentage=%{y}<extra></extra>\",\"legendgroup\":\"lost ark\",\"line\":{\"color\":\"#FFA15A\",\"dash\":\"solid\"},\"marker\":{\"symbol\":\"circle\"},\"mode\":\"lines\",\"name\":\"lost ark\",\"orientation\":\"v\",\"showlegend\":true,\"x\":[\"2022-06-30T00:00:00\",\"2022-05-30T00:00:00\",\"2022-04-30T00:00:00\",\"2022-03-30T00:00:00\",\"2022-02-28T00:00:00\",\"2022-01-30T00:00:00\",\"2021-12-30T00:00:00\",\"2021-11-30T00:00:00\",\"2021-10-30T00:00:00\",\"2021-09-30T00:00:00\",\"2021-08-30T00:00:00\",\"2021-07-30T00:00:00\",\"2021-06-30T00:00:00\",\"2021-05-30T00:00:00\",\"2021-04-30T00:00:00\",\"2021-03-30T00:00:00\",\"2021-02-28T00:00:00\",\"2021-01-30T00:00:00\",\"2020-12-30T00:00:00\",\"2020-11-30T00:00:00\",\"2020-10-30T00:00:00\",\"2020-09-30T00:00:00\",\"2020-08-30T00:00:00\",\"2020-07-30T00:00:00\",\"2020-06-30T00:00:00\",\"2020-05-30T00:00:00\",\"2020-04-30T00:00:00\",\"2020-03-30T00:00:00\",\"2020-02-20T00:00:00\",\"2020-01-30T00:00:00\"],\"xaxis\":\"x\",\"y\":[-1.0,12.0,-13.0,7.0,71.0,1.0,9.0,-19.0,-2.0,22.0,-14.0,-1.0,18.0,-16.0,17.0,-5.0,-6.0,18.0,-8.0,-10.0,12.0,-4.0,-6.0,7.0,7.0,-13.0,0.0,3.0,-8.0,0.0],\"yaxis\":\"y\",\"type\":\"scatter\"},{\"hovertemplate\":\"Name=splitgate<br>Month=%{x}<br>Monthly_Gain_Loss_percentage=%{y}<extra></extra>\",\"legendgroup\":\"splitgate\",\"line\":{\"color\":\"#19d3f3\",\"dash\":\"solid\"},\"marker\":{\"symbol\":\"circle\"},\"mode\":\"lines\",\"name\":\"splitgate\",\"orientation\":\"v\",\"showlegend\":true,\"x\":[\"2022-06-30T00:00:00\",\"2022-05-30T00:00:00\",\"2022-04-30T00:00:00\",\"2022-03-30T00:00:00\",\"2022-02-28T00:00:00\",\"2022-01-30T00:00:00\",\"2021-12-30T00:00:00\",\"2021-11-30T00:00:00\",\"2021-10-30T00:00:00\",\"2020-09-30T00:00:00\",\"2021-08-30T00:00:00\",\"2021-07-30T00:00:00\",\"2021-06-30T00:00:00\",\"2021-05-30T00:00:00\",\"2021-04-30T00:00:00\",\"2021-03-30T00:00:00\",\"2021-02-20T00:00:00\",\"2021-01-30T00:00:00\",\"2020-12-30T00:00:00\",\"2020-11-30T00:00:00\",\"2020-10-30T00:00:00\",\"2020-09-30T00:00:00\",\"2020-08-30T00:00:00\",\"2020-07-30T00:00:00\",\"2020-06-30T00:00:00\",\"2020-05-30T00:00:00\",\"2020-04-30T00:00:00\",\"2020-03-30T00:00:00\",\"2020-02-20T00:00:00\",\"2020-01-30T00:00:00\",\"2019-12-30T00:00:00\",\"2019-11-30T00:00:00\",\"2019-10-30T00:00:00\"],\"xaxis\":\"x\",\"y\":[6.14,6.36,-0.58,-1.37,4.63,-0.81,0.45,-2.3,-3.0,0.87,1.26,1.74,-1.32,1.21,-1.64,-1.45,6.82,-3.1,-4.17,6.15,-2.1,0.86,-3.51,-2.05,3.28,1.29,-4.15,1.18,-0.94,0.31,-2.51,-5.78,0.0],\"yaxis\":\"y\",\"type\":\"scatter\"},{\"hovertemplate\":\"Name=rust<br>Month=%{x}<br>Monthly_Gain_Loss_percentage=%{y}<extra></extra>\",\"legendgroup\":\"rust\",\"line\":{\"color\":\"#FF6692\",\"dash\":\"solid\"},\"marker\":{\"symbol\":\"circle\"},\"mode\":\"lines\",\"name\":\"rust\",\"orientation\":\"v\",\"showlegend\":true,\"x\":[\"2022-06-30T00:00:00\",\"2022-05-30T00:00:00\",\"2022-04-30T00:00:00\",\"2022-03-30T00:00:00\",\"2022-02-28T00:00:00\",\"2022-01-30T00:00:00\",\"2021-12-30T00:00:00\",\"2021-11-30T00:00:00\",\"2021-10-30T00:00:00\",\"2021-09-30T00:00:00\",\"2021-08-30T00:00:00\",\"2021-07-30T00:00:00\",\"2021-06-30T00:00:00\",\"2021-05-30T00:00:00\",\"2021-04-30T00:00:00\",\"2021-03-30T00:00:00\",\"2021-02-28T00:00:00\",\"2021-01-30T00:00:00\",\"2020-12-30T00:00:00\",\"2020-11-30T00:00:00\",\"2020-10-30T00:00:00\",\"2020-09-30T00:00:00\",\"2020-08-30T00:00:00\",\"2020-07-30T00:00:00\",\"2020-06-30T00:00:00\",\"2020-05-30T00:00:00\",\"2020-04-30T00:00:00\",\"2020-03-30T00:00:00\",\"2020-02-20T00:00:00\",\"2020-01-30T00:00:00\"],\"xaxis\":\"x\",\"y\":[-4.35,-0.32,-3.39,1.54,3.73,-1.33,2.03,-8.41,-9.25,13.54,3.59,2.69,-0.86,3.57,-6.71,14.42,-2.72,-2.62,4.56,3.65,2.71,-5.98,-3.42,-5.88,-4.28,-4.3,-4.32,14.6,-16.83,0.0],\"yaxis\":\"y\",\"type\":\"scatter\"},{\"hovertemplate\":\"Name=yu gi oh master duel<br>Month=%{x}<br>Monthly_Gain_Loss_percentage=%{y}<extra></extra>\",\"legendgroup\":\"yu gi oh master duel\",\"line\":{\"color\":\"#B6E880\",\"dash\":\"solid\"},\"marker\":{\"symbol\":\"circle\"},\"mode\":\"lines\",\"name\":\"yu gi oh master duel\",\"orientation\":\"v\",\"showlegend\":true,\"x\":[\"2022-06-30T00:00:00\",\"2022-05-30T00:00:00\",\"2022-04-30T00:00:00\",\"2022-03-30T00:00:00\",\"2022-02-28T00:00:00\",\"2022-01-30T00:00:00\",\"2021-12-30T00:00:00\",\"2021-11-30T00:00:00\",\"2021-10-30T00:00:00\",\"2021-09-30T00:00:00\",\"2021-08-30T00:00:00\",\"2021-07-30T00:00:00\",\"2021-06-30T00:00:00\",\"2021-05-30T00:00:00\",\"2021-04-30T00:00:00\",\"2021-03-30T00:00:00\",\"2021-02-28T00:00:00\",\"2021-01-30T00:00:00\",\"2020-12-30T00:00:00\",\"2020-11-30T00:00:00\",\"2020-10-30T00:00:00\",\"2020-09-30T00:00:00\",\"2020-08-30T00:00:00\",\"2020-07-30T00:00:00\",\"2020-06-30T00:00:00\",\"2020-05-30T00:00:00\",\"2020-04-30T00:00:00\",\"2020-03-30T00:00:00\",\"2020-02-20T00:00:00\",\"2020-01-30T00:00:00\"],\"xaxis\":\"x\",\"y\":[-4.0,-2.0,-2.0,1.0,7.0,-3.0,-8.0,6.0,-9.0,7.0,4.0,3.0,-1.0,4.0,-7.0,16.0,-3.0,-3.0,5.0,4.0,3.0,-7.0,-4.0,-7.0,-5.0,-5.0,-5.0,16.0,-23.0,0.0],\"yaxis\":\"y\",\"type\":\"scatter\"},{\"hovertemplate\":\"Name=monster hunter series<br>Month=%{x}<br>Monthly_Gain_Loss_percentage=%{y}<extra></extra>\",\"legendgroup\":\"monster hunter series\",\"line\":{\"color\":\"#FF97FF\",\"dash\":\"solid\"},\"marker\":{\"symbol\":\"circle\"},\"mode\":\"lines\",\"name\":\"monster hunter series\",\"orientation\":\"v\",\"showlegend\":true,\"x\":[\"2022-06-30T00:00:00\",\"2022-05-30T00:00:00\",\"2022-04-30T00:00:00\",\"2022-05-30T00:00:00\",\"2022-02-28T00:00:00\",\"2022-01-30T00:00:00\",\"2021-12-30T00:00:00\",\"2021-11-30T00:00:00\",\"2021-10-30T00:00:00\",\"2021-09-30T00:00:00\",\"2021-08-30T00:00:00\",\"2021-07-30T00:00:00\",\"2021-06-30T00:00:00\",\"2021-05-30T00:00:00\",\"2021-04-30T00:00:00\",\"2021-03-30T00:00:00\",\"2021-02-28T00:00:00\",\"2021-01-30T00:00:00\",\"2020-12-30T00:00:00\",\"2020-11-30T00:00:00\"],\"xaxis\":\"x\",\"y\":[6.0,8.0,6.0,7.0,-4.0,4.0,-19.0,2.0,2.0,7.0,27.0,-27.0,-13.0,-40.0,-2.0,-11.0,17.0,-25.0,288.0,0.0],\"yaxis\":\"y\",\"type\":\"scatter\"},{\"hovertemplate\":\"Name=team fortress 2 2<br>Month=%{x}<br>Monthly_Gain_Loss_percentage=%{y}<extra></extra>\",\"legendgroup\":\"team fortress 2 2\",\"line\":{\"color\":\"#FECB52\",\"dash\":\"solid\"},\"marker\":{\"symbol\":\"circle\"},\"mode\":\"lines\",\"name\":\"team fortress 2 2\",\"orientation\":\"v\",\"showlegend\":true,\"x\":[\"2022-06-30T00:00:00\",\"2022-05-30T00:00:00\",\"2022-04-30T00:00:00\",\"2022-03-30T00:00:00\",\"2022-02-28T00:00:00\",\"2022-01-30T00:00:00\",\"2021-12-30T00:00:00\",\"2021-11-30T00:00:00\",\"2021-10-30T00:00:00\",\"2021-09-30T00:00:00\",\"2021-08-30T00:00:00\",\"2021-07-30T00:00:00\",\"2021-06-30T00:00:00\",\"2021-05-30T00:00:00\",\"2021-04-30T00:00:00\",\"2021-03-30T00:00:00\",\"2021-02-28T00:00:00\",\"2021-01-30T00:00:00\",\"2020-12-30T00:00:00\",\"2020-11-30T00:00:00\",\"2020-10-30T00:00:00\",\"2020-09-30T00:00:00\",\"2020-08-30T00:00:00\",\"2020-07-30T00:00:00\",\"2020-06-30T00:00:00\",\"2020-05-30T00:00:00\",\"2020-04-30T00:00:00\",\"2020-03-30T00:00:00\",\"2020-02-28T00:00:00\",\"2020-01-30T00:00:00\",\"2020-12-30T00:00:00\",\"2019-11-30T00:00:00\",\"2019-10-30T00:00:00\",\"2019-09-30T00:00:00\",\"2019-08-30T00:00:00\",\"2019-07-30T00:00:00\",\"2019-06-30T00:00:00\",\"2019-05-30T00:00:00\",\"2019-04-30T00:00:00\",\"2019-03-30T00:00:00\",\"2019-02-28T00:00:00\",\"2019-01-30T00:00:00\"],\"xaxis\":\"x\",\"y\":[7.91,1.8,-2.98,10.73,0.58,-6.87,0.46,-3.51,6.14,-3.24,80.48,19.8,-10.96,2.21,5.37,7.17,2.8,3.25,19.34,-7.64,6.28,3.76,-4.0,7.23,-2.8,-0.59,-1.5,11.98,0.67,-1.82,20.97,-4.09,8.25,6.71,-7.56,14.23,8.91,-8.34,-6.11,-4.08,-5.9,0.0],\"yaxis\":\"y\",\"type\":\"scatter\"}],                        {\"template\":{\"data\":{\"histogram2dcontour\":[{\"type\":\"histogram2dcontour\",\"colorbar\":{\"outlinewidth\":0,\"ticks\":\"\"},\"colorscale\":[[0.0,\"#0d0887\"],[0.1111111111111111,\"#46039f\"],[0.2222222222222222,\"#7201a8\"],[0.3333333333333333,\"#9c179e\"],[0.4444444444444444,\"#bd3786\"],[0.5555555555555556,\"#d8576b\"],[0.6666666666666666,\"#ed7953\"],[0.7777777777777778,\"#fb9f3a\"],[0.8888888888888888,\"#fdca26\"],[1.0,\"#f0f921\"]]}],\"choropleth\":[{\"type\":\"choropleth\",\"colorbar\":{\"outlinewidth\":0,\"ticks\":\"\"}}],\"histogram2d\":[{\"type\":\"histogram2d\",\"colorbar\":{\"outlinewidth\":0,\"ticks\":\"\"},\"colorscale\":[[0.0,\"#0d0887\"],[0.1111111111111111,\"#46039f\"],[0.2222222222222222,\"#7201a8\"],[0.3333333333333333,\"#9c179e\"],[0.4444444444444444,\"#bd3786\"],[0.5555555555555556,\"#d8576b\"],[0.6666666666666666,\"#ed7953\"],[0.7777777777777778,\"#fb9f3a\"],[0.8888888888888888,\"#fdca26\"],[1.0,\"#f0f921\"]]}],\"heatmap\":[{\"type\":\"heatmap\",\"colorbar\":{\"outlinewidth\":0,\"ticks\":\"\"},\"colorscale\":[[0.0,\"#0d0887\"],[0.1111111111111111,\"#46039f\"],[0.2222222222222222,\"#7201a8\"],[0.3333333333333333,\"#9c179e\"],[0.4444444444444444,\"#bd3786\"],[0.5555555555555556,\"#d8576b\"],[0.6666666666666666,\"#ed7953\"],[0.7777777777777778,\"#fb9f3a\"],[0.8888888888888888,\"#fdca26\"],[1.0,\"#f0f921\"]]}],\"heatmapgl\":[{\"type\":\"heatmapgl\",\"colorbar\":{\"outlinewidth\":0,\"ticks\":\"\"},\"colorscale\":[[0.0,\"#0d0887\"],[0.1111111111111111,\"#46039f\"],[0.2222222222222222,\"#7201a8\"],[0.3333333333333333,\"#9c179e\"],[0.4444444444444444,\"#bd3786\"],[0.5555555555555556,\"#d8576b\"],[0.6666666666666666,\"#ed7953\"],[0.7777777777777778,\"#fb9f3a\"],[0.8888888888888888,\"#fdca26\"],[1.0,\"#f0f921\"]]}],\"contourcarpet\":[{\"type\":\"contourcarpet\",\"colorbar\":{\"outlinewidth\":0,\"ticks\":\"\"}}],\"contour\":[{\"type\":\"contour\",\"colorbar\":{\"outlinewidth\":0,\"ticks\":\"\"},\"colorscale\":[[0.0,\"#0d0887\"],[0.1111111111111111,\"#46039f\"],[0.2222222222222222,\"#7201a8\"],[0.3333333333333333,\"#9c179e\"],[0.4444444444444444,\"#bd3786\"],[0.5555555555555556,\"#d8576b\"],[0.6666666666666666,\"#ed7953\"],[0.7777777777777778,\"#fb9f3a\"],[0.8888888888888888,\"#fdca26\"],[1.0,\"#f0f921\"]]}],\"surface\":[{\"type\":\"surface\",\"colorbar\":{\"outlinewidth\":0,\"ticks\":\"\"},\"colorscale\":[[0.0,\"#0d0887\"],[0.1111111111111111,\"#46039f\"],[0.2222222222222222,\"#7201a8\"],[0.3333333333333333,\"#9c179e\"],[0.4444444444444444,\"#bd3786\"],[0.5555555555555556,\"#d8576b\"],[0.6666666666666666,\"#ed7953\"],[0.7777777777777778,\"#fb9f3a\"],[0.8888888888888888,\"#fdca26\"],[1.0,\"#f0f921\"]]}],\"mesh3d\":[{\"type\":\"mesh3d\",\"colorbar\":{\"outlinewidth\":0,\"ticks\":\"\"}}],\"scatter\":[{\"fillpattern\":{\"fillmode\":\"overlay\",\"size\":10,\"solidity\":0.2},\"type\":\"scatter\"}],\"parcoords\":[{\"type\":\"parcoords\",\"line\":{\"colorbar\":{\"outlinewidth\":0,\"ticks\":\"\"}}}],\"scatterpolargl\":[{\"type\":\"scatterpolargl\",\"marker\":{\"colorbar\":{\"outlinewidth\":0,\"ticks\":\"\"}}}],\"bar\":[{\"error_x\":{\"color\":\"#2a3f5f\"},\"error_y\":{\"color\":\"#2a3f5f\"},\"marker\":{\"line\":{\"color\":\"#E5ECF6\",\"width\":0.5},\"pattern\":{\"fillmode\":\"overlay\",\"size\":10,\"solidity\":0.2}},\"type\":\"bar\"}],\"scattergeo\":[{\"type\":\"scattergeo\",\"marker\":{\"colorbar\":{\"outlinewidth\":0,\"ticks\":\"\"}}}],\"scatterpolar\":[{\"type\":\"scatterpolar\",\"marker\":{\"colorbar\":{\"outlinewidth\":0,\"ticks\":\"\"}}}],\"histogram\":[{\"marker\":{\"pattern\":{\"fillmode\":\"overlay\",\"size\":10,\"solidity\":0.2}},\"type\":\"histogram\"}],\"scattergl\":[{\"type\":\"scattergl\",\"marker\":{\"colorbar\":{\"outlinewidth\":0,\"ticks\":\"\"}}}],\"scatter3d\":[{\"type\":\"scatter3d\",\"line\":{\"colorbar\":{\"outlinewidth\":0,\"ticks\":\"\"}},\"marker\":{\"colorbar\":{\"outlinewidth\":0,\"ticks\":\"\"}}}],\"scattermapbox\":[{\"type\":\"scattermapbox\",\"marker\":{\"colorbar\":{\"outlinewidth\":0,\"ticks\":\"\"}}}],\"scatterternary\":[{\"type\":\"scatterternary\",\"marker\":{\"colorbar\":{\"outlinewidth\":0,\"ticks\":\"\"}}}],\"scattercarpet\":[{\"type\":\"scattercarpet\",\"marker\":{\"colorbar\":{\"outlinewidth\":0,\"ticks\":\"\"}}}],\"carpet\":[{\"aaxis\":{\"endlinecolor\":\"#2a3f5f\",\"gridcolor\":\"white\",\"linecolor\":\"white\",\"minorgridcolor\":\"white\",\"startlinecolor\":\"#2a3f5f\"},\"baxis\":{\"endlinecolor\":\"#2a3f5f\",\"gridcolor\":\"white\",\"linecolor\":\"white\",\"minorgridcolor\":\"white\",\"startlinecolor\":\"#2a3f5f\"},\"type\":\"carpet\"}],\"table\":[{\"cells\":{\"fill\":{\"color\":\"#EBF0F8\"},\"line\":{\"color\":\"white\"}},\"header\":{\"fill\":{\"color\":\"#C8D4E3\"},\"line\":{\"color\":\"white\"}},\"type\":\"table\"}],\"barpolar\":[{\"marker\":{\"line\":{\"color\":\"#E5ECF6\",\"width\":0.5},\"pattern\":{\"fillmode\":\"overlay\",\"size\":10,\"solidity\":0.2}},\"type\":\"barpolar\"}],\"pie\":[{\"automargin\":true,\"type\":\"pie\"}]},\"layout\":{\"autotypenumbers\":\"strict\",\"colorway\":[\"#636efa\",\"#EF553B\",\"#00cc96\",\"#ab63fa\",\"#FFA15A\",\"#19d3f3\",\"#FF6692\",\"#B6E880\",\"#FF97FF\",\"#FECB52\"],\"font\":{\"color\":\"#2a3f5f\"},\"hovermode\":\"closest\",\"hoverlabel\":{\"align\":\"left\"},\"paper_bgcolor\":\"white\",\"plot_bgcolor\":\"#E5ECF6\",\"polar\":{\"bgcolor\":\"#E5ECF6\",\"angularaxis\":{\"gridcolor\":\"white\",\"linecolor\":\"white\",\"ticks\":\"\"},\"radialaxis\":{\"gridcolor\":\"white\",\"linecolor\":\"white\",\"ticks\":\"\"}},\"ternary\":{\"bgcolor\":\"#E5ECF6\",\"aaxis\":{\"gridcolor\":\"white\",\"linecolor\":\"white\",\"ticks\":\"\"},\"baxis\":{\"gridcolor\":\"white\",\"linecolor\":\"white\",\"ticks\":\"\"},\"caxis\":{\"gridcolor\":\"white\",\"linecolor\":\"white\",\"ticks\":\"\"}},\"coloraxis\":{\"colorbar\":{\"outlinewidth\":0,\"ticks\":\"\"}},\"colorscale\":{\"sequential\":[[0.0,\"#0d0887\"],[0.1111111111111111,\"#46039f\"],[0.2222222222222222,\"#7201a8\"],[0.3333333333333333,\"#9c179e\"],[0.4444444444444444,\"#bd3786\"],[0.5555555555555556,\"#d8576b\"],[0.6666666666666666,\"#ed7953\"],[0.7777777777777778,\"#fb9f3a\"],[0.8888888888888888,\"#fdca26\"],[1.0,\"#f0f921\"]],\"sequentialminus\":[[0.0,\"#0d0887\"],[0.1111111111111111,\"#46039f\"],[0.2222222222222222,\"#7201a8\"],[0.3333333333333333,\"#9c179e\"],[0.4444444444444444,\"#bd3786\"],[0.5555555555555556,\"#d8576b\"],[0.6666666666666666,\"#ed7953\"],[0.7777777777777778,\"#fb9f3a\"],[0.8888888888888888,\"#fdca26\"],[1.0,\"#f0f921\"]],\"diverging\":[[0,\"#8e0152\"],[0.1,\"#c51b7d\"],[0.2,\"#de77ae\"],[0.3,\"#f1b6da\"],[0.4,\"#fde0ef\"],[0.5,\"#f7f7f7\"],[0.6,\"#e6f5d0\"],[0.7,\"#b8e186\"],[0.8,\"#7fbc41\"],[0.9,\"#4d9221\"],[1,\"#276419\"]]},\"xaxis\":{\"gridcolor\":\"white\",\"linecolor\":\"white\",\"ticks\":\"\",\"title\":{\"standoff\":15},\"zerolinecolor\":\"white\",\"automargin\":true,\"zerolinewidth\":2},\"yaxis\":{\"gridcolor\":\"white\",\"linecolor\":\"white\",\"ticks\":\"\",\"title\":{\"standoff\":15},\"zerolinecolor\":\"white\",\"automargin\":true,\"zerolinewidth\":2},\"scene\":{\"xaxis\":{\"backgroundcolor\":\"#E5ECF6\",\"gridcolor\":\"white\",\"linecolor\":\"white\",\"showbackground\":true,\"ticks\":\"\",\"zerolinecolor\":\"white\",\"gridwidth\":2},\"yaxis\":{\"backgroundcolor\":\"#E5ECF6\",\"gridcolor\":\"white\",\"linecolor\":\"white\",\"showbackground\":true,\"ticks\":\"\",\"zerolinecolor\":\"white\",\"gridwidth\":2},\"zaxis\":{\"backgroundcolor\":\"#E5ECF6\",\"gridcolor\":\"white\",\"linecolor\":\"white\",\"showbackground\":true,\"ticks\":\"\",\"zerolinecolor\":\"white\",\"gridwidth\":2}},\"shapedefaults\":{\"line\":{\"color\":\"#2a3f5f\"}},\"annotationdefaults\":{\"arrowcolor\":\"#2a3f5f\",\"arrowhead\":0,\"arrowwidth\":1},\"geo\":{\"bgcolor\":\"white\",\"landcolor\":\"#E5ECF6\",\"subunitcolor\":\"white\",\"showland\":true,\"showlakes\":true,\"lakecolor\":\"white\"},\"title\":{\"x\":0.05},\"mapbox\":{\"style\":\"light\"}}},\"xaxis\":{\"anchor\":\"y\",\"domain\":[0.0,1.0],\"title\":{\"text\":\"Month\"}},\"yaxis\":{\"anchor\":\"x\",\"domain\":[0.0,1.0],\"title\":{\"text\":\"Monthly_Gain_Loss_percentage\"}},\"legend\":{\"title\":{\"text\":\"Name\"},\"tracegroupgap\":0},\"margin\":{\"t\":60}},                        {\"responsive\": true}                    ).then(function(){\n                            \nvar gd = document.getElementById('1a2ded72-9994-4f2d-a8ee-9c8791f49d97');\nvar x = new MutationObserver(function (mutations, observer) {{\n        var display = window.getComputedStyle(gd).display;\n        if (!display || display === 'none') {{\n            console.log([gd, 'removed!']);\n            Plotly.purge(gd);\n            observer.disconnect();\n        }}\n}});\n\n// Listen for the removal of the full notebook cells\nvar notebookContainer = gd.closest('#notebook-container');\nif (notebookContainer) {{\n    x.observe(notebookContainer, {childList: true});\n}}\n\n// Listen for the clearing of the current output cell\nvar outputEl = gd.closest('.output');\nif (outputEl) {{\n    x.observe(outputEl, {childList: true});\n}}\n\n                        })                };                });            </script>        </div>"
     },
     "metadata": {},
     "output_type": "display_data"
    }
   ],
   "source": [
    "fig = px.line(game_player_count_df, x=\"Month\", y=\"Monthly_Gain_Loss_percentage\", color='Name')\n",
    "fig.show()"
   ],
   "metadata": {
    "collapsed": false,
    "pycharm": {
     "name": "#%%\n"
    }
   }
  },
  {
   "cell_type": "code",
   "execution_count": 228,
   "outputs": [
    {
     "data": {
      "application/vnd.plotly.v1+json": {
       "data": [
        {
         "hovertemplate": "Name=v rising<br>Month=%{x}<br>Average_Monthly_Players=%{y}<extra></extra>",
         "legendgroup": "v rising",
         "line": {
          "color": "#636efa",
          "dash": "solid"
         },
         "marker": {
          "symbol": "circle"
         },
         "mode": "lines",
         "name": "v rising",
         "orientation": "v",
         "showlegend": true,
         "x": [
          "2022-06-30T00:00:00",
          "2022-05-30T00:00:00"
         ],
         "xaxis": "x",
         "y": [
          57411,
          95620
         ],
         "yaxis": "y",
         "type": "scatter"
        },
        {
         "hovertemplate": "Name=forza horizon 5<br>Month=%{x}<br>Average_Monthly_Players=%{y}<extra></extra>",
         "legendgroup": "forza horizon 5",
         "line": {
          "color": "#EF553B",
          "dash": "solid"
         },
         "marker": {
          "symbol": "circle"
         },
         "mode": "lines",
         "name": "forza horizon 5",
         "orientation": "v",
         "showlegend": true,
         "x": [
          "2022-06-30T00:00:00",
          "2022-05-30T00:00:00",
          "2022-04-30T00:00:00",
          "2022-03-30T00:00:00",
          "2022-02-20T00:00:00",
          "2022-01-30T00:00:00",
          "2021-12-30T00:00:00"
         ],
         "xaxis": "x",
         "y": [
          23650588,
          22650041,
          19688504,
          18705441,
          15633205,
          14669800,
          13505884
         ],
         "yaxis": "y",
         "type": "scatter"
        },
        {
         "hovertemplate": "Name=payday 2<br>Month=%{x}<br>Average_Monthly_Players=%{y}<extra></extra>",
         "legendgroup": "payday 2",
         "line": {
          "color": "#00cc96",
          "dash": "solid"
         },
         "marker": {
          "symbol": "circle"
         },
         "mode": "lines",
         "name": "payday 2",
         "orientation": "v",
         "showlegend": true,
         "x": [
          "2022-06-30T00:00:00",
          "2022-05-30T00:00:00",
          "2022-04-30T00:00:00",
          "2022-03-30T00:00:00",
          "2022-02-28T00:00:00",
          "2022-01-30T00:00:00",
          "2021-12-30T00:00:00",
          "2021-11-30T00:00:00",
          "2021-10-30T00:00:00",
          "2021-09-30T00:00:00",
          "2021-08-30T00:00:00",
          "2021-07-30T00:00:00",
          "2021-06-30T00:00:00",
          "2021-05-30T00:00:00",
          "2021-04-30T00:00:00",
          "2021-03-30T00:00:00",
          "2021-02-28T00:00:00",
          "2021-01-30T00:00:00",
          "2020-12-30T00:00:00",
          "2020-11-30T00:00:00",
          "2020-10-30T00:00:00",
          "2020-09-30T00:00:00",
          "2020-08-30T00:00:00",
          "2020-07-30T00:00:00",
          "2020-06-30T00:00:00",
          "2020-05-30T00:00:00",
          "2020-04-30T00:00:00",
          "2020-03-30T00:00:00",
          "2020-02-20T00:00:00",
          "2020-01-30T00:00:00",
          "2019-12-30T00:00:00",
          "2019-11-30T00:00:00"
         ],
         "xaxis": "x",
         "y": [
          9850145,
          10056540,
          9946043,
          10253653,
          11115662,
          10470346,
          11447172,
          10694410,
          10282117,
          9981679,
          10078550,
          9690000,
          10473750,
          9002438,
          9287673,
          9570055,
          9100080,
          8737006,
          8474896,
          9089981,
          9454471,
          10119956,
          10625954,
          11157251,
          11715114,
          10069419,
          9065441,
          10544021,
          9505540,
          11201214,
          11320554,
          11523550
         ],
         "yaxis": "y",
         "type": "scatter"
        },
        {
         "hovertemplate": "Name=elden ring<br>Month=%{x}<br>Average_Monthly_Players=%{y}<extra></extra>",
         "legendgroup": "elden ring",
         "line": {
          "color": "#ab63fa",
          "dash": "solid"
         },
         "marker": {
          "symbol": "circle"
         },
         "mode": "lines",
         "name": "elden ring",
         "orientation": "v",
         "showlegend": true,
         "x": [
          "2022-06-30T00:00:00",
          "2022-05-30T00:00:00",
          "2022-04-30T00:00:00",
          "2022-03-30T00:00:00",
          "2022-02-28T00:00:00"
         ],
         "xaxis": "x",
         "y": [
          3014445,
          3195033,
          3202124,
          2901240,
          2503351
         ],
         "yaxis": "y",
         "type": "scatter"
        },
        {
         "hovertemplate": "Name=lost ark<br>Month=%{x}<br>Average_Monthly_Players=%{y}<extra></extra>",
         "legendgroup": "lost ark",
         "line": {
          "color": "#FFA15A",
          "dash": "solid"
         },
         "marker": {
          "symbol": "circle"
         },
         "mode": "lines",
         "name": "lost ark",
         "orientation": "v",
         "showlegend": true,
         "x": [
          "2022-06-30T00:00:00",
          "2022-05-30T00:00:00",
          "2022-04-30T00:00:00",
          "2022-03-30T00:00:00",
          "2022-02-28T00:00:00",
          "2022-01-30T00:00:00",
          "2021-12-30T00:00:00",
          "2021-11-30T00:00:00",
          "2021-10-30T00:00:00",
          "2021-09-30T00:00:00",
          "2021-08-30T00:00:00",
          "2021-07-30T00:00:00",
          "2021-06-30T00:00:00",
          "2021-05-30T00:00:00",
          "2021-04-30T00:00:00",
          "2021-03-30T00:00:00",
          "2021-02-28T00:00:00",
          "2021-01-30T00:00:00",
          "2020-12-30T00:00:00",
          "2020-11-30T00:00:00",
          "2020-10-30T00:00:00",
          "2020-09-30T00:00:00",
          "2020-08-30T00:00:00",
          "2020-07-30T00:00:00",
          "2020-06-30T00:00:00",
          "2020-05-30T00:00:00",
          "2020-04-30T00:00:00",
          "2020-03-30T00:00:00",
          "2020-02-20T00:00:00",
          "2020-01-30T00:00:00"
         ],
         "xaxis": "x",
         "y": [
          720114,
          730211,
          650890,
          750556,
          701550,
          411366,
          405587,
          370830,
          460272,
          468156,
          384905,
          447981,
          453068,
          382527,
          455547,
          390468,
          412024,
          439053,
          373443,
          404131,
          447342,
          401091,
          416915,
          443693,
          415296,
          387379,
          443829,
          443694,
          429841,
          469724
         ],
         "yaxis": "y",
         "type": "scatter"
        },
        {
         "hovertemplate": "Name=splitgate<br>Month=%{x}<br>Average_Monthly_Players=%{y}<extra></extra>",
         "legendgroup": "splitgate",
         "line": {
          "color": "#19d3f3",
          "dash": "solid"
         },
         "marker": {
          "symbol": "circle"
         },
         "mode": "lines",
         "name": "splitgate",
         "orientation": "v",
         "showlegend": true,
         "x": [
          "2022-06-30T00:00:00",
          "2022-05-30T00:00:00",
          "2022-04-30T00:00:00",
          "2022-03-30T00:00:00",
          "2022-02-28T00:00:00",
          "2022-01-30T00:00:00",
          "2021-12-30T00:00:00",
          "2021-11-30T00:00:00",
          "2021-10-30T00:00:00",
          "2020-09-30T00:00:00",
          "2021-08-30T00:00:00",
          "2021-07-30T00:00:00",
          "2021-06-30T00:00:00",
          "2021-05-30T00:00:00",
          "2021-04-30T00:00:00",
          "2021-03-30T00:00:00",
          "2021-02-20T00:00:00",
          "2021-01-30T00:00:00",
          "2020-12-30T00:00:00",
          "2020-11-30T00:00:00",
          "2020-10-30T00:00:00",
          "2020-09-30T00:00:00",
          "2020-08-30T00:00:00",
          "2020-07-30T00:00:00",
          "2020-06-30T00:00:00",
          "2020-05-30T00:00:00",
          "2020-04-30T00:00:00",
          "2020-03-30T00:00:00",
          "2020-02-20T00:00:00",
          "2020-01-30T00:00:00",
          "2019-12-30T00:00:00",
          "2019-11-30T00:00:00",
          "2019-10-30T00:00:00"
         ],
         "xaxis": "x",
         "y": [
          875650,
          825014,
          775650,
          780144,
          791004,
          755978,
          762183,
          758773,
          776657,
          800682,
          793797,
          783941,
          770527,
          780812,
          771463,
          784303,
          795853,
          745007,
          768810,
          802235,
          755775,
          771950,
          765342,
          793218,
          809788,
          784035,
          774020,
          807566,
          798121,
          805711,
          803199,
          823905,
          874418
         ],
         "yaxis": "y",
         "type": "scatter"
        },
        {
         "hovertemplate": "Name=rust<br>Month=%{x}<br>Average_Monthly_Players=%{y}<extra></extra>",
         "legendgroup": "rust",
         "line": {
          "color": "#FF6692",
          "dash": "solid"
         },
         "marker": {
          "symbol": "circle"
         },
         "mode": "lines",
         "name": "rust",
         "orientation": "v",
         "showlegend": true,
         "x": [
          "2022-06-30T00:00:00",
          "2022-05-30T00:00:00",
          "2022-04-30T00:00:00",
          "2022-03-30T00:00:00",
          "2022-02-28T00:00:00",
          "2022-01-30T00:00:00",
          "2021-12-30T00:00:00",
          "2021-11-30T00:00:00",
          "2021-10-30T00:00:00",
          "2021-09-30T00:00:00",
          "2021-08-30T00:00:00",
          "2021-07-30T00:00:00",
          "2021-06-30T00:00:00",
          "2021-05-30T00:00:00",
          "2021-04-30T00:00:00",
          "2021-03-30T00:00:00",
          "2021-02-28T00:00:00",
          "2021-01-30T00:00:00",
          "2020-12-30T00:00:00",
          "2020-11-30T00:00:00",
          "2020-10-30T00:00:00",
          "2020-09-30T00:00:00",
          "2020-08-30T00:00:00",
          "2020-07-30T00:00:00",
          "2020-06-30T00:00:00",
          "2020-05-30T00:00:00",
          "2020-04-30T00:00:00",
          "2020-03-30T00:00:00",
          "2020-02-20T00:00:00",
          "2020-01-30T00:00:00"
         ],
         "xaxis": "x",
         "y": [
          10966805,
          11465058,
          11502114,
          11905221,
          11724445,
          11303267,
          11455797,
          11227588,
          12258780,
          13507695,
          11896554,
          11484261,
          11183823,
          11280694,
          10892144,
          11675894,
          10204582,
          10489817,
          10772199,
          10302224,
          9939150,
          9677040,
          10292125,
          10656615,
          11322100,
          11828098,
          12359395,
          12917258,
          11271563,
          13552367
         ],
         "yaxis": "y",
         "type": "scatter"
        },
        {
         "hovertemplate": "Name=yu gi oh master duel<br>Month=%{x}<br>Average_Monthly_Players=%{y}<extra></extra>",
         "legendgroup": "yu gi oh master duel",
         "line": {
          "color": "#B6E880",
          "dash": "solid"
         },
         "marker": {
          "symbol": "circle"
         },
         "mode": "lines",
         "name": "yu gi oh master duel",
         "orientation": "v",
         "showlegend": true,
         "x": [
          "2022-06-30T00:00:00",
          "2022-05-30T00:00:00",
          "2022-04-30T00:00:00",
          "2022-03-30T00:00:00",
          "2022-02-28T00:00:00",
          "2022-01-30T00:00:00",
          "2021-12-30T00:00:00",
          "2021-11-30T00:00:00",
          "2021-10-30T00:00:00",
          "2021-09-30T00:00:00",
          "2021-08-30T00:00:00",
          "2021-07-30T00:00:00",
          "2021-06-30T00:00:00",
          "2021-05-30T00:00:00",
          "2021-04-30T00:00:00",
          "2021-03-30T00:00:00",
          "2021-02-28T00:00:00",
          "2021-01-30T00:00:00",
          "2020-12-30T00:00:00",
          "2020-11-30T00:00:00",
          "2020-10-30T00:00:00",
          "2020-09-30T00:00:00",
          "2020-08-30T00:00:00",
          "2020-07-30T00:00:00",
          "2020-06-30T00:00:00",
          "2020-05-30T00:00:00",
          "2020-04-30T00:00:00",
          "2020-03-30T00:00:00",
          "2020-02-20T00:00:00",
          "2020-01-30T00:00:00"
         ],
         "xaxis": "x",
         "y": [
          8365088,
          8740556,
          8950114,
          9101456,
          8980041,
          8375615,
          8634655,
          9360557,
          8817134,
          9639724,
          9005819,
          8658625,
          8405624,
          8487200,
          8160000,
          8820000,
          7581000,
          7821198,
          8058994,
          7663226,
          7357479,
          7136754,
          7654721,
          7961660,
          8522068,
          8948171,
          9395580,
          9865359,
          8479511,
          10952246
         ],
         "yaxis": "y",
         "type": "scatter"
        },
        {
         "hovertemplate": "Name=monster hunter series<br>Month=%{x}<br>Average_Monthly_Players=%{y}<extra></extra>",
         "legendgroup": "monster hunter series",
         "line": {
          "color": "#FF97FF",
          "dash": "solid"
         },
         "marker": {
          "symbol": "circle"
         },
         "mode": "lines",
         "name": "monster hunter series",
         "orientation": "v",
         "showlegend": true,
         "x": [
          "2022-06-30T00:00:00",
          "2022-05-30T00:00:00",
          "2022-04-30T00:00:00",
          "2022-05-30T00:00:00",
          "2022-02-28T00:00:00",
          "2022-01-30T00:00:00",
          "2021-12-30T00:00:00",
          "2021-11-30T00:00:00",
          "2021-10-30T00:00:00",
          "2021-09-30T00:00:00",
          "2021-08-30T00:00:00",
          "2021-07-30T00:00:00",
          "2021-06-30T00:00:00",
          "2021-05-30T00:00:00",
          "2021-04-30T00:00:00",
          "2021-03-30T00:00:00",
          "2021-02-28T00:00:00",
          "2021-01-30T00:00:00",
          "2020-12-30T00:00:00",
          "2020-11-30T00:00:00"
         ],
         "xaxis": "x",
         "y": [
          556200,
          525510,
          485554,
          460114,
          430152,
          450253,
          432056,
          530282,
          519884,
          509690,
          475202,
          373737,
          511875,
          591500,
          980000,
          1000000,
          1125000,
          960000,
          1273080,
          327818
         ],
         "yaxis": "y",
         "type": "scatter"
        },
        {
         "hovertemplate": "Name=team fortress 2 2<br>Month=%{x}<br>Average_Monthly_Players=%{y}<extra></extra>",
         "legendgroup": "team fortress 2 2",
         "line": {
          "color": "#FECB52",
          "dash": "solid"
         },
         "marker": {
          "symbol": "circle"
         },
         "mode": "lines",
         "name": "team fortress 2 2",
         "orientation": "v",
         "showlegend": true,
         "x": [
          "2022-06-30T00:00:00",
          "2022-05-30T00:00:00",
          "2022-04-30T00:00:00",
          "2022-03-30T00:00:00",
          "2022-02-28T00:00:00",
          "2022-01-30T00:00:00",
          "2021-12-30T00:00:00",
          "2021-11-30T00:00:00",
          "2021-10-30T00:00:00",
          "2021-09-30T00:00:00",
          "2021-08-30T00:00:00",
          "2021-07-30T00:00:00",
          "2021-06-30T00:00:00",
          "2021-05-30T00:00:00",
          "2021-04-30T00:00:00",
          "2021-03-30T00:00:00",
          "2021-02-28T00:00:00",
          "2021-01-30T00:00:00",
          "2020-12-30T00:00:00",
          "2020-11-30T00:00:00",
          "2020-10-30T00:00:00",
          "2020-09-30T00:00:00",
          "2020-08-30T00:00:00",
          "2020-07-30T00:00:00",
          "2020-06-30T00:00:00",
          "2020-05-30T00:00:00",
          "2020-04-30T00:00:00",
          "2020-03-30T00:00:00",
          "2020-02-28T00:00:00",
          "2020-01-30T00:00:00",
          "2020-12-30T00:00:00",
          "2019-11-30T00:00:00",
          "2019-10-30T00:00:00",
          "2019-09-30T00:00:00",
          "2019-08-30T00:00:00",
          "2019-07-30T00:00:00",
          "2019-06-30T00:00:00",
          "2019-05-30T00:00:00",
          "2019-04-30T00:00:00",
          "2019-03-30T00:00:00",
          "2019-02-28T00:00:00",
          "2019-01-30T00:00:00"
         ],
         "xaxis": "x",
         "y": [
          650321,
          602660,
          592014,
          610211,
          551056,
          547899,
          588330,
          585612,
          606924,
          571836,
          591006,
          327465,
          273342,
          307005,
          300381,
          285063,
          265995,
          258762,
          250617,
          210003,
          227373,
          213946,
          206201,
          214800,
          200316,
          206087,
          207303,
          210468,
          187956,
          186699,
          190158,
          157188,
          163896,
          151404,
          141885,
          153483,
          134360,
          123369,
          134595,
          143352,
          149453,
          158818
         ],
         "yaxis": "y",
         "type": "scatter"
        }
       ],
       "layout": {
        "template": {
         "data": {
          "histogram2dcontour": [
           {
            "type": "histogram2dcontour",
            "colorbar": {
             "outlinewidth": 0,
             "ticks": ""
            },
            "colorscale": [
             [
              0.0,
              "#0d0887"
             ],
             [
              0.1111111111111111,
              "#46039f"
             ],
             [
              0.2222222222222222,
              "#7201a8"
             ],
             [
              0.3333333333333333,
              "#9c179e"
             ],
             [
              0.4444444444444444,
              "#bd3786"
             ],
             [
              0.5555555555555556,
              "#d8576b"
             ],
             [
              0.6666666666666666,
              "#ed7953"
             ],
             [
              0.7777777777777778,
              "#fb9f3a"
             ],
             [
              0.8888888888888888,
              "#fdca26"
             ],
             [
              1.0,
              "#f0f921"
             ]
            ]
           }
          ],
          "choropleth": [
           {
            "type": "choropleth",
            "colorbar": {
             "outlinewidth": 0,
             "ticks": ""
            }
           }
          ],
          "histogram2d": [
           {
            "type": "histogram2d",
            "colorbar": {
             "outlinewidth": 0,
             "ticks": ""
            },
            "colorscale": [
             [
              0.0,
              "#0d0887"
             ],
             [
              0.1111111111111111,
              "#46039f"
             ],
             [
              0.2222222222222222,
              "#7201a8"
             ],
             [
              0.3333333333333333,
              "#9c179e"
             ],
             [
              0.4444444444444444,
              "#bd3786"
             ],
             [
              0.5555555555555556,
              "#d8576b"
             ],
             [
              0.6666666666666666,
              "#ed7953"
             ],
             [
              0.7777777777777778,
              "#fb9f3a"
             ],
             [
              0.8888888888888888,
              "#fdca26"
             ],
             [
              1.0,
              "#f0f921"
             ]
            ]
           }
          ],
          "heatmap": [
           {
            "type": "heatmap",
            "colorbar": {
             "outlinewidth": 0,
             "ticks": ""
            },
            "colorscale": [
             [
              0.0,
              "#0d0887"
             ],
             [
              0.1111111111111111,
              "#46039f"
             ],
             [
              0.2222222222222222,
              "#7201a8"
             ],
             [
              0.3333333333333333,
              "#9c179e"
             ],
             [
              0.4444444444444444,
              "#bd3786"
             ],
             [
              0.5555555555555556,
              "#d8576b"
             ],
             [
              0.6666666666666666,
              "#ed7953"
             ],
             [
              0.7777777777777778,
              "#fb9f3a"
             ],
             [
              0.8888888888888888,
              "#fdca26"
             ],
             [
              1.0,
              "#f0f921"
             ]
            ]
           }
          ],
          "heatmapgl": [
           {
            "type": "heatmapgl",
            "colorbar": {
             "outlinewidth": 0,
             "ticks": ""
            },
            "colorscale": [
             [
              0.0,
              "#0d0887"
             ],
             [
              0.1111111111111111,
              "#46039f"
             ],
             [
              0.2222222222222222,
              "#7201a8"
             ],
             [
              0.3333333333333333,
              "#9c179e"
             ],
             [
              0.4444444444444444,
              "#bd3786"
             ],
             [
              0.5555555555555556,
              "#d8576b"
             ],
             [
              0.6666666666666666,
              "#ed7953"
             ],
             [
              0.7777777777777778,
              "#fb9f3a"
             ],
             [
              0.8888888888888888,
              "#fdca26"
             ],
             [
              1.0,
              "#f0f921"
             ]
            ]
           }
          ],
          "contourcarpet": [
           {
            "type": "contourcarpet",
            "colorbar": {
             "outlinewidth": 0,
             "ticks": ""
            }
           }
          ],
          "contour": [
           {
            "type": "contour",
            "colorbar": {
             "outlinewidth": 0,
             "ticks": ""
            },
            "colorscale": [
             [
              0.0,
              "#0d0887"
             ],
             [
              0.1111111111111111,
              "#46039f"
             ],
             [
              0.2222222222222222,
              "#7201a8"
             ],
             [
              0.3333333333333333,
              "#9c179e"
             ],
             [
              0.4444444444444444,
              "#bd3786"
             ],
             [
              0.5555555555555556,
              "#d8576b"
             ],
             [
              0.6666666666666666,
              "#ed7953"
             ],
             [
              0.7777777777777778,
              "#fb9f3a"
             ],
             [
              0.8888888888888888,
              "#fdca26"
             ],
             [
              1.0,
              "#f0f921"
             ]
            ]
           }
          ],
          "surface": [
           {
            "type": "surface",
            "colorbar": {
             "outlinewidth": 0,
             "ticks": ""
            },
            "colorscale": [
             [
              0.0,
              "#0d0887"
             ],
             [
              0.1111111111111111,
              "#46039f"
             ],
             [
              0.2222222222222222,
              "#7201a8"
             ],
             [
              0.3333333333333333,
              "#9c179e"
             ],
             [
              0.4444444444444444,
              "#bd3786"
             ],
             [
              0.5555555555555556,
              "#d8576b"
             ],
             [
              0.6666666666666666,
              "#ed7953"
             ],
             [
              0.7777777777777778,
              "#fb9f3a"
             ],
             [
              0.8888888888888888,
              "#fdca26"
             ],
             [
              1.0,
              "#f0f921"
             ]
            ]
           }
          ],
          "mesh3d": [
           {
            "type": "mesh3d",
            "colorbar": {
             "outlinewidth": 0,
             "ticks": ""
            }
           }
          ],
          "scatter": [
           {
            "fillpattern": {
             "fillmode": "overlay",
             "size": 10,
             "solidity": 0.2
            },
            "type": "scatter"
           }
          ],
          "parcoords": [
           {
            "type": "parcoords",
            "line": {
             "colorbar": {
              "outlinewidth": 0,
              "ticks": ""
             }
            }
           }
          ],
          "scatterpolargl": [
           {
            "type": "scatterpolargl",
            "marker": {
             "colorbar": {
              "outlinewidth": 0,
              "ticks": ""
             }
            }
           }
          ],
          "bar": [
           {
            "error_x": {
             "color": "#2a3f5f"
            },
            "error_y": {
             "color": "#2a3f5f"
            },
            "marker": {
             "line": {
              "color": "#E5ECF6",
              "width": 0.5
             },
             "pattern": {
              "fillmode": "overlay",
              "size": 10,
              "solidity": 0.2
             }
            },
            "type": "bar"
           }
          ],
          "scattergeo": [
           {
            "type": "scattergeo",
            "marker": {
             "colorbar": {
              "outlinewidth": 0,
              "ticks": ""
             }
            }
           }
          ],
          "scatterpolar": [
           {
            "type": "scatterpolar",
            "marker": {
             "colorbar": {
              "outlinewidth": 0,
              "ticks": ""
             }
            }
           }
          ],
          "histogram": [
           {
            "marker": {
             "pattern": {
              "fillmode": "overlay",
              "size": 10,
              "solidity": 0.2
             }
            },
            "type": "histogram"
           }
          ],
          "scattergl": [
           {
            "type": "scattergl",
            "marker": {
             "colorbar": {
              "outlinewidth": 0,
              "ticks": ""
             }
            }
           }
          ],
          "scatter3d": [
           {
            "type": "scatter3d",
            "line": {
             "colorbar": {
              "outlinewidth": 0,
              "ticks": ""
             }
            },
            "marker": {
             "colorbar": {
              "outlinewidth": 0,
              "ticks": ""
             }
            }
           }
          ],
          "scattermapbox": [
           {
            "type": "scattermapbox",
            "marker": {
             "colorbar": {
              "outlinewidth": 0,
              "ticks": ""
             }
            }
           }
          ],
          "scatterternary": [
           {
            "type": "scatterternary",
            "marker": {
             "colorbar": {
              "outlinewidth": 0,
              "ticks": ""
             }
            }
           }
          ],
          "scattercarpet": [
           {
            "type": "scattercarpet",
            "marker": {
             "colorbar": {
              "outlinewidth": 0,
              "ticks": ""
             }
            }
           }
          ],
          "carpet": [
           {
            "aaxis": {
             "endlinecolor": "#2a3f5f",
             "gridcolor": "white",
             "linecolor": "white",
             "minorgridcolor": "white",
             "startlinecolor": "#2a3f5f"
            },
            "baxis": {
             "endlinecolor": "#2a3f5f",
             "gridcolor": "white",
             "linecolor": "white",
             "minorgridcolor": "white",
             "startlinecolor": "#2a3f5f"
            },
            "type": "carpet"
           }
          ],
          "table": [
           {
            "cells": {
             "fill": {
              "color": "#EBF0F8"
             },
             "line": {
              "color": "white"
             }
            },
            "header": {
             "fill": {
              "color": "#C8D4E3"
             },
             "line": {
              "color": "white"
             }
            },
            "type": "table"
           }
          ],
          "barpolar": [
           {
            "marker": {
             "line": {
              "color": "#E5ECF6",
              "width": 0.5
             },
             "pattern": {
              "fillmode": "overlay",
              "size": 10,
              "solidity": 0.2
             }
            },
            "type": "barpolar"
           }
          ],
          "pie": [
           {
            "automargin": true,
            "type": "pie"
           }
          ]
         },
         "layout": {
          "autotypenumbers": "strict",
          "colorway": [
           "#636efa",
           "#EF553B",
           "#00cc96",
           "#ab63fa",
           "#FFA15A",
           "#19d3f3",
           "#FF6692",
           "#B6E880",
           "#FF97FF",
           "#FECB52"
          ],
          "font": {
           "color": "#2a3f5f"
          },
          "hovermode": "closest",
          "hoverlabel": {
           "align": "left"
          },
          "paper_bgcolor": "white",
          "plot_bgcolor": "#E5ECF6",
          "polar": {
           "bgcolor": "#E5ECF6",
           "angularaxis": {
            "gridcolor": "white",
            "linecolor": "white",
            "ticks": ""
           },
           "radialaxis": {
            "gridcolor": "white",
            "linecolor": "white",
            "ticks": ""
           }
          },
          "ternary": {
           "bgcolor": "#E5ECF6",
           "aaxis": {
            "gridcolor": "white",
            "linecolor": "white",
            "ticks": ""
           },
           "baxis": {
            "gridcolor": "white",
            "linecolor": "white",
            "ticks": ""
           },
           "caxis": {
            "gridcolor": "white",
            "linecolor": "white",
            "ticks": ""
           }
          },
          "coloraxis": {
           "colorbar": {
            "outlinewidth": 0,
            "ticks": ""
           }
          },
          "colorscale": {
           "sequential": [
            [
             0.0,
             "#0d0887"
            ],
            [
             0.1111111111111111,
             "#46039f"
            ],
            [
             0.2222222222222222,
             "#7201a8"
            ],
            [
             0.3333333333333333,
             "#9c179e"
            ],
            [
             0.4444444444444444,
             "#bd3786"
            ],
            [
             0.5555555555555556,
             "#d8576b"
            ],
            [
             0.6666666666666666,
             "#ed7953"
            ],
            [
             0.7777777777777778,
             "#fb9f3a"
            ],
            [
             0.8888888888888888,
             "#fdca26"
            ],
            [
             1.0,
             "#f0f921"
            ]
           ],
           "sequentialminus": [
            [
             0.0,
             "#0d0887"
            ],
            [
             0.1111111111111111,
             "#46039f"
            ],
            [
             0.2222222222222222,
             "#7201a8"
            ],
            [
             0.3333333333333333,
             "#9c179e"
            ],
            [
             0.4444444444444444,
             "#bd3786"
            ],
            [
             0.5555555555555556,
             "#d8576b"
            ],
            [
             0.6666666666666666,
             "#ed7953"
            ],
            [
             0.7777777777777778,
             "#fb9f3a"
            ],
            [
             0.8888888888888888,
             "#fdca26"
            ],
            [
             1.0,
             "#f0f921"
            ]
           ],
           "diverging": [
            [
             0,
             "#8e0152"
            ],
            [
             0.1,
             "#c51b7d"
            ],
            [
             0.2,
             "#de77ae"
            ],
            [
             0.3,
             "#f1b6da"
            ],
            [
             0.4,
             "#fde0ef"
            ],
            [
             0.5,
             "#f7f7f7"
            ],
            [
             0.6,
             "#e6f5d0"
            ],
            [
             0.7,
             "#b8e186"
            ],
            [
             0.8,
             "#7fbc41"
            ],
            [
             0.9,
             "#4d9221"
            ],
            [
             1,
             "#276419"
            ]
           ]
          },
          "xaxis": {
           "gridcolor": "white",
           "linecolor": "white",
           "ticks": "",
           "title": {
            "standoff": 15
           },
           "zerolinecolor": "white",
           "automargin": true,
           "zerolinewidth": 2
          },
          "yaxis": {
           "gridcolor": "white",
           "linecolor": "white",
           "ticks": "",
           "title": {
            "standoff": 15
           },
           "zerolinecolor": "white",
           "automargin": true,
           "zerolinewidth": 2
          },
          "scene": {
           "xaxis": {
            "backgroundcolor": "#E5ECF6",
            "gridcolor": "white",
            "linecolor": "white",
            "showbackground": true,
            "ticks": "",
            "zerolinecolor": "white",
            "gridwidth": 2
           },
           "yaxis": {
            "backgroundcolor": "#E5ECF6",
            "gridcolor": "white",
            "linecolor": "white",
            "showbackground": true,
            "ticks": "",
            "zerolinecolor": "white",
            "gridwidth": 2
           },
           "zaxis": {
            "backgroundcolor": "#E5ECF6",
            "gridcolor": "white",
            "linecolor": "white",
            "showbackground": true,
            "ticks": "",
            "zerolinecolor": "white",
            "gridwidth": 2
           }
          },
          "shapedefaults": {
           "line": {
            "color": "#2a3f5f"
           }
          },
          "annotationdefaults": {
           "arrowcolor": "#2a3f5f",
           "arrowhead": 0,
           "arrowwidth": 1
          },
          "geo": {
           "bgcolor": "white",
           "landcolor": "#E5ECF6",
           "subunitcolor": "white",
           "showland": true,
           "showlakes": true,
           "lakecolor": "white"
          },
          "title": {
           "x": 0.05
          },
          "mapbox": {
           "style": "light"
          }
         }
        },
        "xaxis": {
         "anchor": "y",
         "domain": [
          0.0,
          1.0
         ],
         "title": {
          "text": "Month"
         }
        },
        "yaxis": {
         "anchor": "x",
         "domain": [
          0.0,
          1.0
         ],
         "title": {
          "text": "Average_Monthly_Players"
         }
        },
        "legend": {
         "title": {
          "text": "Name"
         },
         "tracegroupgap": 0
        },
        "margin": {
         "t": 60
        }
       },
       "config": {
        "plotlyServerURL": "https://plot.ly"
       }
      },
      "text/html": "<div>                            <div id=\"c9980807-ed8e-4196-b5f1-da2a89508610\" class=\"plotly-graph-div\" style=\"height:525px; width:100%;\"></div>            <script type=\"text/javascript\">                require([\"plotly\"], function(Plotly) {                    window.PLOTLYENV=window.PLOTLYENV || {};                                    if (document.getElementById(\"c9980807-ed8e-4196-b5f1-da2a89508610\")) {                    Plotly.newPlot(                        \"c9980807-ed8e-4196-b5f1-da2a89508610\",                        [{\"hovertemplate\":\"Name=v rising<br>Month=%{x}<br>Average_Monthly_Players=%{y}<extra></extra>\",\"legendgroup\":\"v rising\",\"line\":{\"color\":\"#636efa\",\"dash\":\"solid\"},\"marker\":{\"symbol\":\"circle\"},\"mode\":\"lines\",\"name\":\"v rising\",\"orientation\":\"v\",\"showlegend\":true,\"x\":[\"2022-06-30T00:00:00\",\"2022-05-30T00:00:00\"],\"xaxis\":\"x\",\"y\":[57411,95620],\"yaxis\":\"y\",\"type\":\"scatter\"},{\"hovertemplate\":\"Name=forza horizon 5<br>Month=%{x}<br>Average_Monthly_Players=%{y}<extra></extra>\",\"legendgroup\":\"forza horizon 5\",\"line\":{\"color\":\"#EF553B\",\"dash\":\"solid\"},\"marker\":{\"symbol\":\"circle\"},\"mode\":\"lines\",\"name\":\"forza horizon 5\",\"orientation\":\"v\",\"showlegend\":true,\"x\":[\"2022-06-30T00:00:00\",\"2022-05-30T00:00:00\",\"2022-04-30T00:00:00\",\"2022-03-30T00:00:00\",\"2022-02-20T00:00:00\",\"2022-01-30T00:00:00\",\"2021-12-30T00:00:00\"],\"xaxis\":\"x\",\"y\":[23650588,22650041,19688504,18705441,15633205,14669800,13505884],\"yaxis\":\"y\",\"type\":\"scatter\"},{\"hovertemplate\":\"Name=payday 2<br>Month=%{x}<br>Average_Monthly_Players=%{y}<extra></extra>\",\"legendgroup\":\"payday 2\",\"line\":{\"color\":\"#00cc96\",\"dash\":\"solid\"},\"marker\":{\"symbol\":\"circle\"},\"mode\":\"lines\",\"name\":\"payday 2\",\"orientation\":\"v\",\"showlegend\":true,\"x\":[\"2022-06-30T00:00:00\",\"2022-05-30T00:00:00\",\"2022-04-30T00:00:00\",\"2022-03-30T00:00:00\",\"2022-02-28T00:00:00\",\"2022-01-30T00:00:00\",\"2021-12-30T00:00:00\",\"2021-11-30T00:00:00\",\"2021-10-30T00:00:00\",\"2021-09-30T00:00:00\",\"2021-08-30T00:00:00\",\"2021-07-30T00:00:00\",\"2021-06-30T00:00:00\",\"2021-05-30T00:00:00\",\"2021-04-30T00:00:00\",\"2021-03-30T00:00:00\",\"2021-02-28T00:00:00\",\"2021-01-30T00:00:00\",\"2020-12-30T00:00:00\",\"2020-11-30T00:00:00\",\"2020-10-30T00:00:00\",\"2020-09-30T00:00:00\",\"2020-08-30T00:00:00\",\"2020-07-30T00:00:00\",\"2020-06-30T00:00:00\",\"2020-05-30T00:00:00\",\"2020-04-30T00:00:00\",\"2020-03-30T00:00:00\",\"2020-02-20T00:00:00\",\"2020-01-30T00:00:00\",\"2019-12-30T00:00:00\",\"2019-11-30T00:00:00\"],\"xaxis\":\"x\",\"y\":[9850145,10056540,9946043,10253653,11115662,10470346,11447172,10694410,10282117,9981679,10078550,9690000,10473750,9002438,9287673,9570055,9100080,8737006,8474896,9089981,9454471,10119956,10625954,11157251,11715114,10069419,9065441,10544021,9505540,11201214,11320554,11523550],\"yaxis\":\"y\",\"type\":\"scatter\"},{\"hovertemplate\":\"Name=elden ring<br>Month=%{x}<br>Average_Monthly_Players=%{y}<extra></extra>\",\"legendgroup\":\"elden ring\",\"line\":{\"color\":\"#ab63fa\",\"dash\":\"solid\"},\"marker\":{\"symbol\":\"circle\"},\"mode\":\"lines\",\"name\":\"elden ring\",\"orientation\":\"v\",\"showlegend\":true,\"x\":[\"2022-06-30T00:00:00\",\"2022-05-30T00:00:00\",\"2022-04-30T00:00:00\",\"2022-03-30T00:00:00\",\"2022-02-28T00:00:00\"],\"xaxis\":\"x\",\"y\":[3014445,3195033,3202124,2901240,2503351],\"yaxis\":\"y\",\"type\":\"scatter\"},{\"hovertemplate\":\"Name=lost ark<br>Month=%{x}<br>Average_Monthly_Players=%{y}<extra></extra>\",\"legendgroup\":\"lost ark\",\"line\":{\"color\":\"#FFA15A\",\"dash\":\"solid\"},\"marker\":{\"symbol\":\"circle\"},\"mode\":\"lines\",\"name\":\"lost ark\",\"orientation\":\"v\",\"showlegend\":true,\"x\":[\"2022-06-30T00:00:00\",\"2022-05-30T00:00:00\",\"2022-04-30T00:00:00\",\"2022-03-30T00:00:00\",\"2022-02-28T00:00:00\",\"2022-01-30T00:00:00\",\"2021-12-30T00:00:00\",\"2021-11-30T00:00:00\",\"2021-10-30T00:00:00\",\"2021-09-30T00:00:00\",\"2021-08-30T00:00:00\",\"2021-07-30T00:00:00\",\"2021-06-30T00:00:00\",\"2021-05-30T00:00:00\",\"2021-04-30T00:00:00\",\"2021-03-30T00:00:00\",\"2021-02-28T00:00:00\",\"2021-01-30T00:00:00\",\"2020-12-30T00:00:00\",\"2020-11-30T00:00:00\",\"2020-10-30T00:00:00\",\"2020-09-30T00:00:00\",\"2020-08-30T00:00:00\",\"2020-07-30T00:00:00\",\"2020-06-30T00:00:00\",\"2020-05-30T00:00:00\",\"2020-04-30T00:00:00\",\"2020-03-30T00:00:00\",\"2020-02-20T00:00:00\",\"2020-01-30T00:00:00\"],\"xaxis\":\"x\",\"y\":[720114,730211,650890,750556,701550,411366,405587,370830,460272,468156,384905,447981,453068,382527,455547,390468,412024,439053,373443,404131,447342,401091,416915,443693,415296,387379,443829,443694,429841,469724],\"yaxis\":\"y\",\"type\":\"scatter\"},{\"hovertemplate\":\"Name=splitgate<br>Month=%{x}<br>Average_Monthly_Players=%{y}<extra></extra>\",\"legendgroup\":\"splitgate\",\"line\":{\"color\":\"#19d3f3\",\"dash\":\"solid\"},\"marker\":{\"symbol\":\"circle\"},\"mode\":\"lines\",\"name\":\"splitgate\",\"orientation\":\"v\",\"showlegend\":true,\"x\":[\"2022-06-30T00:00:00\",\"2022-05-30T00:00:00\",\"2022-04-30T00:00:00\",\"2022-03-30T00:00:00\",\"2022-02-28T00:00:00\",\"2022-01-30T00:00:00\",\"2021-12-30T00:00:00\",\"2021-11-30T00:00:00\",\"2021-10-30T00:00:00\",\"2020-09-30T00:00:00\",\"2021-08-30T00:00:00\",\"2021-07-30T00:00:00\",\"2021-06-30T00:00:00\",\"2021-05-30T00:00:00\",\"2021-04-30T00:00:00\",\"2021-03-30T00:00:00\",\"2021-02-20T00:00:00\",\"2021-01-30T00:00:00\",\"2020-12-30T00:00:00\",\"2020-11-30T00:00:00\",\"2020-10-30T00:00:00\",\"2020-09-30T00:00:00\",\"2020-08-30T00:00:00\",\"2020-07-30T00:00:00\",\"2020-06-30T00:00:00\",\"2020-05-30T00:00:00\",\"2020-04-30T00:00:00\",\"2020-03-30T00:00:00\",\"2020-02-20T00:00:00\",\"2020-01-30T00:00:00\",\"2019-12-30T00:00:00\",\"2019-11-30T00:00:00\",\"2019-10-30T00:00:00\"],\"xaxis\":\"x\",\"y\":[875650,825014,775650,780144,791004,755978,762183,758773,776657,800682,793797,783941,770527,780812,771463,784303,795853,745007,768810,802235,755775,771950,765342,793218,809788,784035,774020,807566,798121,805711,803199,823905,874418],\"yaxis\":\"y\",\"type\":\"scatter\"},{\"hovertemplate\":\"Name=rust<br>Month=%{x}<br>Average_Monthly_Players=%{y}<extra></extra>\",\"legendgroup\":\"rust\",\"line\":{\"color\":\"#FF6692\",\"dash\":\"solid\"},\"marker\":{\"symbol\":\"circle\"},\"mode\":\"lines\",\"name\":\"rust\",\"orientation\":\"v\",\"showlegend\":true,\"x\":[\"2022-06-30T00:00:00\",\"2022-05-30T00:00:00\",\"2022-04-30T00:00:00\",\"2022-03-30T00:00:00\",\"2022-02-28T00:00:00\",\"2022-01-30T00:00:00\",\"2021-12-30T00:00:00\",\"2021-11-30T00:00:00\",\"2021-10-30T00:00:00\",\"2021-09-30T00:00:00\",\"2021-08-30T00:00:00\",\"2021-07-30T00:00:00\",\"2021-06-30T00:00:00\",\"2021-05-30T00:00:00\",\"2021-04-30T00:00:00\",\"2021-03-30T00:00:00\",\"2021-02-28T00:00:00\",\"2021-01-30T00:00:00\",\"2020-12-30T00:00:00\",\"2020-11-30T00:00:00\",\"2020-10-30T00:00:00\",\"2020-09-30T00:00:00\",\"2020-08-30T00:00:00\",\"2020-07-30T00:00:00\",\"2020-06-30T00:00:00\",\"2020-05-30T00:00:00\",\"2020-04-30T00:00:00\",\"2020-03-30T00:00:00\",\"2020-02-20T00:00:00\",\"2020-01-30T00:00:00\"],\"xaxis\":\"x\",\"y\":[10966805,11465058,11502114,11905221,11724445,11303267,11455797,11227588,12258780,13507695,11896554,11484261,11183823,11280694,10892144,11675894,10204582,10489817,10772199,10302224,9939150,9677040,10292125,10656615,11322100,11828098,12359395,12917258,11271563,13552367],\"yaxis\":\"y\",\"type\":\"scatter\"},{\"hovertemplate\":\"Name=yu gi oh master duel<br>Month=%{x}<br>Average_Monthly_Players=%{y}<extra></extra>\",\"legendgroup\":\"yu gi oh master duel\",\"line\":{\"color\":\"#B6E880\",\"dash\":\"solid\"},\"marker\":{\"symbol\":\"circle\"},\"mode\":\"lines\",\"name\":\"yu gi oh master duel\",\"orientation\":\"v\",\"showlegend\":true,\"x\":[\"2022-06-30T00:00:00\",\"2022-05-30T00:00:00\",\"2022-04-30T00:00:00\",\"2022-03-30T00:00:00\",\"2022-02-28T00:00:00\",\"2022-01-30T00:00:00\",\"2021-12-30T00:00:00\",\"2021-11-30T00:00:00\",\"2021-10-30T00:00:00\",\"2021-09-30T00:00:00\",\"2021-08-30T00:00:00\",\"2021-07-30T00:00:00\",\"2021-06-30T00:00:00\",\"2021-05-30T00:00:00\",\"2021-04-30T00:00:00\",\"2021-03-30T00:00:00\",\"2021-02-28T00:00:00\",\"2021-01-30T00:00:00\",\"2020-12-30T00:00:00\",\"2020-11-30T00:00:00\",\"2020-10-30T00:00:00\",\"2020-09-30T00:00:00\",\"2020-08-30T00:00:00\",\"2020-07-30T00:00:00\",\"2020-06-30T00:00:00\",\"2020-05-30T00:00:00\",\"2020-04-30T00:00:00\",\"2020-03-30T00:00:00\",\"2020-02-20T00:00:00\",\"2020-01-30T00:00:00\"],\"xaxis\":\"x\",\"y\":[8365088,8740556,8950114,9101456,8980041,8375615,8634655,9360557,8817134,9639724,9005819,8658625,8405624,8487200,8160000,8820000,7581000,7821198,8058994,7663226,7357479,7136754,7654721,7961660,8522068,8948171,9395580,9865359,8479511,10952246],\"yaxis\":\"y\",\"type\":\"scatter\"},{\"hovertemplate\":\"Name=monster hunter series<br>Month=%{x}<br>Average_Monthly_Players=%{y}<extra></extra>\",\"legendgroup\":\"monster hunter series\",\"line\":{\"color\":\"#FF97FF\",\"dash\":\"solid\"},\"marker\":{\"symbol\":\"circle\"},\"mode\":\"lines\",\"name\":\"monster hunter series\",\"orientation\":\"v\",\"showlegend\":true,\"x\":[\"2022-06-30T00:00:00\",\"2022-05-30T00:00:00\",\"2022-04-30T00:00:00\",\"2022-05-30T00:00:00\",\"2022-02-28T00:00:00\",\"2022-01-30T00:00:00\",\"2021-12-30T00:00:00\",\"2021-11-30T00:00:00\",\"2021-10-30T00:00:00\",\"2021-09-30T00:00:00\",\"2021-08-30T00:00:00\",\"2021-07-30T00:00:00\",\"2021-06-30T00:00:00\",\"2021-05-30T00:00:00\",\"2021-04-30T00:00:00\",\"2021-03-30T00:00:00\",\"2021-02-28T00:00:00\",\"2021-01-30T00:00:00\",\"2020-12-30T00:00:00\",\"2020-11-30T00:00:00\"],\"xaxis\":\"x\",\"y\":[556200,525510,485554,460114,430152,450253,432056,530282,519884,509690,475202,373737,511875,591500,980000,1000000,1125000,960000,1273080,327818],\"yaxis\":\"y\",\"type\":\"scatter\"},{\"hovertemplate\":\"Name=team fortress 2 2<br>Month=%{x}<br>Average_Monthly_Players=%{y}<extra></extra>\",\"legendgroup\":\"team fortress 2 2\",\"line\":{\"color\":\"#FECB52\",\"dash\":\"solid\"},\"marker\":{\"symbol\":\"circle\"},\"mode\":\"lines\",\"name\":\"team fortress 2 2\",\"orientation\":\"v\",\"showlegend\":true,\"x\":[\"2022-06-30T00:00:00\",\"2022-05-30T00:00:00\",\"2022-04-30T00:00:00\",\"2022-03-30T00:00:00\",\"2022-02-28T00:00:00\",\"2022-01-30T00:00:00\",\"2021-12-30T00:00:00\",\"2021-11-30T00:00:00\",\"2021-10-30T00:00:00\",\"2021-09-30T00:00:00\",\"2021-08-30T00:00:00\",\"2021-07-30T00:00:00\",\"2021-06-30T00:00:00\",\"2021-05-30T00:00:00\",\"2021-04-30T00:00:00\",\"2021-03-30T00:00:00\",\"2021-02-28T00:00:00\",\"2021-01-30T00:00:00\",\"2020-12-30T00:00:00\",\"2020-11-30T00:00:00\",\"2020-10-30T00:00:00\",\"2020-09-30T00:00:00\",\"2020-08-30T00:00:00\",\"2020-07-30T00:00:00\",\"2020-06-30T00:00:00\",\"2020-05-30T00:00:00\",\"2020-04-30T00:00:00\",\"2020-03-30T00:00:00\",\"2020-02-28T00:00:00\",\"2020-01-30T00:00:00\",\"2020-12-30T00:00:00\",\"2019-11-30T00:00:00\",\"2019-10-30T00:00:00\",\"2019-09-30T00:00:00\",\"2019-08-30T00:00:00\",\"2019-07-30T00:00:00\",\"2019-06-30T00:00:00\",\"2019-05-30T00:00:00\",\"2019-04-30T00:00:00\",\"2019-03-30T00:00:00\",\"2019-02-28T00:00:00\",\"2019-01-30T00:00:00\"],\"xaxis\":\"x\",\"y\":[650321,602660,592014,610211,551056,547899,588330,585612,606924,571836,591006,327465,273342,307005,300381,285063,265995,258762,250617,210003,227373,213946,206201,214800,200316,206087,207303,210468,187956,186699,190158,157188,163896,151404,141885,153483,134360,123369,134595,143352,149453,158818],\"yaxis\":\"y\",\"type\":\"scatter\"}],                        {\"template\":{\"data\":{\"histogram2dcontour\":[{\"type\":\"histogram2dcontour\",\"colorbar\":{\"outlinewidth\":0,\"ticks\":\"\"},\"colorscale\":[[0.0,\"#0d0887\"],[0.1111111111111111,\"#46039f\"],[0.2222222222222222,\"#7201a8\"],[0.3333333333333333,\"#9c179e\"],[0.4444444444444444,\"#bd3786\"],[0.5555555555555556,\"#d8576b\"],[0.6666666666666666,\"#ed7953\"],[0.7777777777777778,\"#fb9f3a\"],[0.8888888888888888,\"#fdca26\"],[1.0,\"#f0f921\"]]}],\"choropleth\":[{\"type\":\"choropleth\",\"colorbar\":{\"outlinewidth\":0,\"ticks\":\"\"}}],\"histogram2d\":[{\"type\":\"histogram2d\",\"colorbar\":{\"outlinewidth\":0,\"ticks\":\"\"},\"colorscale\":[[0.0,\"#0d0887\"],[0.1111111111111111,\"#46039f\"],[0.2222222222222222,\"#7201a8\"],[0.3333333333333333,\"#9c179e\"],[0.4444444444444444,\"#bd3786\"],[0.5555555555555556,\"#d8576b\"],[0.6666666666666666,\"#ed7953\"],[0.7777777777777778,\"#fb9f3a\"],[0.8888888888888888,\"#fdca26\"],[1.0,\"#f0f921\"]]}],\"heatmap\":[{\"type\":\"heatmap\",\"colorbar\":{\"outlinewidth\":0,\"ticks\":\"\"},\"colorscale\":[[0.0,\"#0d0887\"],[0.1111111111111111,\"#46039f\"],[0.2222222222222222,\"#7201a8\"],[0.3333333333333333,\"#9c179e\"],[0.4444444444444444,\"#bd3786\"],[0.5555555555555556,\"#d8576b\"],[0.6666666666666666,\"#ed7953\"],[0.7777777777777778,\"#fb9f3a\"],[0.8888888888888888,\"#fdca26\"],[1.0,\"#f0f921\"]]}],\"heatmapgl\":[{\"type\":\"heatmapgl\",\"colorbar\":{\"outlinewidth\":0,\"ticks\":\"\"},\"colorscale\":[[0.0,\"#0d0887\"],[0.1111111111111111,\"#46039f\"],[0.2222222222222222,\"#7201a8\"],[0.3333333333333333,\"#9c179e\"],[0.4444444444444444,\"#bd3786\"],[0.5555555555555556,\"#d8576b\"],[0.6666666666666666,\"#ed7953\"],[0.7777777777777778,\"#fb9f3a\"],[0.8888888888888888,\"#fdca26\"],[1.0,\"#f0f921\"]]}],\"contourcarpet\":[{\"type\":\"contourcarpet\",\"colorbar\":{\"outlinewidth\":0,\"ticks\":\"\"}}],\"contour\":[{\"type\":\"contour\",\"colorbar\":{\"outlinewidth\":0,\"ticks\":\"\"},\"colorscale\":[[0.0,\"#0d0887\"],[0.1111111111111111,\"#46039f\"],[0.2222222222222222,\"#7201a8\"],[0.3333333333333333,\"#9c179e\"],[0.4444444444444444,\"#bd3786\"],[0.5555555555555556,\"#d8576b\"],[0.6666666666666666,\"#ed7953\"],[0.7777777777777778,\"#fb9f3a\"],[0.8888888888888888,\"#fdca26\"],[1.0,\"#f0f921\"]]}],\"surface\":[{\"type\":\"surface\",\"colorbar\":{\"outlinewidth\":0,\"ticks\":\"\"},\"colorscale\":[[0.0,\"#0d0887\"],[0.1111111111111111,\"#46039f\"],[0.2222222222222222,\"#7201a8\"],[0.3333333333333333,\"#9c179e\"],[0.4444444444444444,\"#bd3786\"],[0.5555555555555556,\"#d8576b\"],[0.6666666666666666,\"#ed7953\"],[0.7777777777777778,\"#fb9f3a\"],[0.8888888888888888,\"#fdca26\"],[1.0,\"#f0f921\"]]}],\"mesh3d\":[{\"type\":\"mesh3d\",\"colorbar\":{\"outlinewidth\":0,\"ticks\":\"\"}}],\"scatter\":[{\"fillpattern\":{\"fillmode\":\"overlay\",\"size\":10,\"solidity\":0.2},\"type\":\"scatter\"}],\"parcoords\":[{\"type\":\"parcoords\",\"line\":{\"colorbar\":{\"outlinewidth\":0,\"ticks\":\"\"}}}],\"scatterpolargl\":[{\"type\":\"scatterpolargl\",\"marker\":{\"colorbar\":{\"outlinewidth\":0,\"ticks\":\"\"}}}],\"bar\":[{\"error_x\":{\"color\":\"#2a3f5f\"},\"error_y\":{\"color\":\"#2a3f5f\"},\"marker\":{\"line\":{\"color\":\"#E5ECF6\",\"width\":0.5},\"pattern\":{\"fillmode\":\"overlay\",\"size\":10,\"solidity\":0.2}},\"type\":\"bar\"}],\"scattergeo\":[{\"type\":\"scattergeo\",\"marker\":{\"colorbar\":{\"outlinewidth\":0,\"ticks\":\"\"}}}],\"scatterpolar\":[{\"type\":\"scatterpolar\",\"marker\":{\"colorbar\":{\"outlinewidth\":0,\"ticks\":\"\"}}}],\"histogram\":[{\"marker\":{\"pattern\":{\"fillmode\":\"overlay\",\"size\":10,\"solidity\":0.2}},\"type\":\"histogram\"}],\"scattergl\":[{\"type\":\"scattergl\",\"marker\":{\"colorbar\":{\"outlinewidth\":0,\"ticks\":\"\"}}}],\"scatter3d\":[{\"type\":\"scatter3d\",\"line\":{\"colorbar\":{\"outlinewidth\":0,\"ticks\":\"\"}},\"marker\":{\"colorbar\":{\"outlinewidth\":0,\"ticks\":\"\"}}}],\"scattermapbox\":[{\"type\":\"scattermapbox\",\"marker\":{\"colorbar\":{\"outlinewidth\":0,\"ticks\":\"\"}}}],\"scatterternary\":[{\"type\":\"scatterternary\",\"marker\":{\"colorbar\":{\"outlinewidth\":0,\"ticks\":\"\"}}}],\"scattercarpet\":[{\"type\":\"scattercarpet\",\"marker\":{\"colorbar\":{\"outlinewidth\":0,\"ticks\":\"\"}}}],\"carpet\":[{\"aaxis\":{\"endlinecolor\":\"#2a3f5f\",\"gridcolor\":\"white\",\"linecolor\":\"white\",\"minorgridcolor\":\"white\",\"startlinecolor\":\"#2a3f5f\"},\"baxis\":{\"endlinecolor\":\"#2a3f5f\",\"gridcolor\":\"white\",\"linecolor\":\"white\",\"minorgridcolor\":\"white\",\"startlinecolor\":\"#2a3f5f\"},\"type\":\"carpet\"}],\"table\":[{\"cells\":{\"fill\":{\"color\":\"#EBF0F8\"},\"line\":{\"color\":\"white\"}},\"header\":{\"fill\":{\"color\":\"#C8D4E3\"},\"line\":{\"color\":\"white\"}},\"type\":\"table\"}],\"barpolar\":[{\"marker\":{\"line\":{\"color\":\"#E5ECF6\",\"width\":0.5},\"pattern\":{\"fillmode\":\"overlay\",\"size\":10,\"solidity\":0.2}},\"type\":\"barpolar\"}],\"pie\":[{\"automargin\":true,\"type\":\"pie\"}]},\"layout\":{\"autotypenumbers\":\"strict\",\"colorway\":[\"#636efa\",\"#EF553B\",\"#00cc96\",\"#ab63fa\",\"#FFA15A\",\"#19d3f3\",\"#FF6692\",\"#B6E880\",\"#FF97FF\",\"#FECB52\"],\"font\":{\"color\":\"#2a3f5f\"},\"hovermode\":\"closest\",\"hoverlabel\":{\"align\":\"left\"},\"paper_bgcolor\":\"white\",\"plot_bgcolor\":\"#E5ECF6\",\"polar\":{\"bgcolor\":\"#E5ECF6\",\"angularaxis\":{\"gridcolor\":\"white\",\"linecolor\":\"white\",\"ticks\":\"\"},\"radialaxis\":{\"gridcolor\":\"white\",\"linecolor\":\"white\",\"ticks\":\"\"}},\"ternary\":{\"bgcolor\":\"#E5ECF6\",\"aaxis\":{\"gridcolor\":\"white\",\"linecolor\":\"white\",\"ticks\":\"\"},\"baxis\":{\"gridcolor\":\"white\",\"linecolor\":\"white\",\"ticks\":\"\"},\"caxis\":{\"gridcolor\":\"white\",\"linecolor\":\"white\",\"ticks\":\"\"}},\"coloraxis\":{\"colorbar\":{\"outlinewidth\":0,\"ticks\":\"\"}},\"colorscale\":{\"sequential\":[[0.0,\"#0d0887\"],[0.1111111111111111,\"#46039f\"],[0.2222222222222222,\"#7201a8\"],[0.3333333333333333,\"#9c179e\"],[0.4444444444444444,\"#bd3786\"],[0.5555555555555556,\"#d8576b\"],[0.6666666666666666,\"#ed7953\"],[0.7777777777777778,\"#fb9f3a\"],[0.8888888888888888,\"#fdca26\"],[1.0,\"#f0f921\"]],\"sequentialminus\":[[0.0,\"#0d0887\"],[0.1111111111111111,\"#46039f\"],[0.2222222222222222,\"#7201a8\"],[0.3333333333333333,\"#9c179e\"],[0.4444444444444444,\"#bd3786\"],[0.5555555555555556,\"#d8576b\"],[0.6666666666666666,\"#ed7953\"],[0.7777777777777778,\"#fb9f3a\"],[0.8888888888888888,\"#fdca26\"],[1.0,\"#f0f921\"]],\"diverging\":[[0,\"#8e0152\"],[0.1,\"#c51b7d\"],[0.2,\"#de77ae\"],[0.3,\"#f1b6da\"],[0.4,\"#fde0ef\"],[0.5,\"#f7f7f7\"],[0.6,\"#e6f5d0\"],[0.7,\"#b8e186\"],[0.8,\"#7fbc41\"],[0.9,\"#4d9221\"],[1,\"#276419\"]]},\"xaxis\":{\"gridcolor\":\"white\",\"linecolor\":\"white\",\"ticks\":\"\",\"title\":{\"standoff\":15},\"zerolinecolor\":\"white\",\"automargin\":true,\"zerolinewidth\":2},\"yaxis\":{\"gridcolor\":\"white\",\"linecolor\":\"white\",\"ticks\":\"\",\"title\":{\"standoff\":15},\"zerolinecolor\":\"white\",\"automargin\":true,\"zerolinewidth\":2},\"scene\":{\"xaxis\":{\"backgroundcolor\":\"#E5ECF6\",\"gridcolor\":\"white\",\"linecolor\":\"white\",\"showbackground\":true,\"ticks\":\"\",\"zerolinecolor\":\"white\",\"gridwidth\":2},\"yaxis\":{\"backgroundcolor\":\"#E5ECF6\",\"gridcolor\":\"white\",\"linecolor\":\"white\",\"showbackground\":true,\"ticks\":\"\",\"zerolinecolor\":\"white\",\"gridwidth\":2},\"zaxis\":{\"backgroundcolor\":\"#E5ECF6\",\"gridcolor\":\"white\",\"linecolor\":\"white\",\"showbackground\":true,\"ticks\":\"\",\"zerolinecolor\":\"white\",\"gridwidth\":2}},\"shapedefaults\":{\"line\":{\"color\":\"#2a3f5f\"}},\"annotationdefaults\":{\"arrowcolor\":\"#2a3f5f\",\"arrowhead\":0,\"arrowwidth\":1},\"geo\":{\"bgcolor\":\"white\",\"landcolor\":\"#E5ECF6\",\"subunitcolor\":\"white\",\"showland\":true,\"showlakes\":true,\"lakecolor\":\"white\"},\"title\":{\"x\":0.05},\"mapbox\":{\"style\":\"light\"}}},\"xaxis\":{\"anchor\":\"y\",\"domain\":[0.0,1.0],\"title\":{\"text\":\"Month\"}},\"yaxis\":{\"anchor\":\"x\",\"domain\":[0.0,1.0],\"title\":{\"text\":\"Average_Monthly_Players\"}},\"legend\":{\"title\":{\"text\":\"Name\"},\"tracegroupgap\":0},\"margin\":{\"t\":60}},                        {\"responsive\": true}                    ).then(function(){\n                            \nvar gd = document.getElementById('c9980807-ed8e-4196-b5f1-da2a89508610');\nvar x = new MutationObserver(function (mutations, observer) {{\n        var display = window.getComputedStyle(gd).display;\n        if (!display || display === 'none') {{\n            console.log([gd, 'removed!']);\n            Plotly.purge(gd);\n            observer.disconnect();\n        }}\n}});\n\n// Listen for the removal of the full notebook cells\nvar notebookContainer = gd.closest('#notebook-container');\nif (notebookContainer) {{\n    x.observe(notebookContainer, {childList: true});\n}}\n\n// Listen for the clearing of the current output cell\nvar outputEl = gd.closest('.output');\nif (outputEl) {{\n    x.observe(outputEl, {childList: true});\n}}\n\n                        })                };                });            </script>        </div>"
     },
     "metadata": {},
     "output_type": "display_data"
    }
   ],
   "source": [
    "fig = px.line(game_player_count_df, x=\"Month\", y=\"Average_Monthly_Players\", color='Name')\n",
    "fig.show()"
   ],
   "metadata": {
    "collapsed": false,
    "pycharm": {
     "name": "#%%\n"
    }
   }
  },
  {
   "cell_type": "markdown",
   "source": [
    "As one can see:\n",
    "The popularity and therefore the Numbers of Players each Month before or After Covid 19 is only different for a few games or of crucial difference-\n",
    "- Games such as Elden Ring, v rising, monster hunter series and forza horizon 5 were not released yet or no data has been collected so there is no use for that to answer our question\n",
    "\n",
    "Lets take a look at the rest of the games:\n",
    "- Yu Gi Oh Masters always peaks in April (2020 and 2021) and before April 2020, the percentage of monthly avg players was at the lowest of all time that is covered in this dataset. Since the numbers do not vary a lot here we can say that in overall retrospective covid 19 did not impact this game.\n",
    "- Rust has more or less the same development like Yu Gi Oh\n",
    "- Splitgate peaked around the January 2021\n",
    "- Lost ark peaked during February 2022, which means that Covid did not influence the game positively or negatively.\n",
    "\n",
    "In conclusion, we can say that covid19 did not influence the popularity of one of these games significantly. Now the next question would be, if the Regulations during that time have influenced the Loss and Gain in a way ?"
   ],
   "metadata": {
    "collapsed": false,
    "pycharm": {
     "name": "#%% md\n"
    }
   }
  },
  {
   "cell_type": "markdown",
   "source": [
    "### During Covid 19"
   ],
   "metadata": {
    "collapsed": false,
    "pycharm": {
     "name": "#%% md\n"
    }
   }
  },
  {
   "cell_type": "code",
   "execution_count": 229,
   "outputs": [],
   "source": [
    "# next lets sort out the Months and only keep March till Mai 2020\n",
    "game_player_count_df = game_player_count_df[~(game_player_count_df['Month'] > '2020-05-31')]\n",
    "game_player_count_df = game_player_count_df[~(game_player_count_df['Month'] < '2020-02-29')]"
   ],
   "metadata": {
    "collapsed": false,
    "pycharm": {
     "name": "#%%\n"
    }
   }
  },
  {
   "cell_type": "code",
   "execution_count": 230,
   "outputs": [
    {
     "data": {
      "text/plain": "     Unnamed: 0                  Name      Month  Average_Monthly_Players  \\\n34           34              payday 2 2020-05-30                 10069419   \n35           35              payday 2 2020-04-30                  9065441   \n36           36              payday 2 2020-03-30                 10544021   \n71           71              lost ark 2020-05-30                   387379   \n72           72              lost ark 2020-04-30                   443829   \n73           73              lost ark 2020-03-30                   443694   \n101         101             splitgate 2020-05-30                   784035   \n102         102             splitgate 2020-04-30                   774020   \n103         103             splitgate 2020-03-30                   807566   \n134         134                  rust 2020-05-30                 11828098   \n135         135                  rust 2020-04-30                 12359395   \n136         136                  rust 2020-03-30                 12917258   \n164         164  yu gi oh master duel 2020-05-30                  8948171   \n165         165  yu gi oh master duel 2020-04-30                  9395580   \n166         166  yu gi oh master duel 2020-03-30                  9865359   \n214         214     team fortress 2 2 2020-05-30                   206087   \n215         215     team fortress 2 2 2020-04-30                   207303   \n216         216     team fortress 2 2 2020-03-30                   210468   \n\n     Monthly_Gain_Loss  Monthly_Gain_Loss_percentage  Max_Players_per_Day  \n34             1003978                         11.00            1342589.0  \n35            -1478580                        -14.00            1208725.0  \n36             1038481                         10.00            1405869.0  \n71              -56450                        -13.00             774758.0  \n72                 135                          0.00             887658.0  \n73               13853                          3.00             887388.0  \n101              10016                          1.29              78404.0  \n102             -33547                         -4.15              77402.0  \n103               9446                          1.18              80757.0  \n134            -531297                         -4.30             788540.0  \n135            -557863                         -4.32             823960.0  \n136            1645695                         14.60             861151.0  \n164            -447409                         -5.00            1193089.0  \n165            -469779                         -5.00            1252744.0  \n166            1385848                         16.00            1315381.0  \n214               -405                         -0.59              68696.0  \n215              -1054                         -1.50              69101.0  \n216               7503                         11.98              70156.0  ",
      "text/html": "<div>\n<style scoped>\n    .dataframe tbody tr th:only-of-type {\n        vertical-align: middle;\n    }\n\n    .dataframe tbody tr th {\n        vertical-align: top;\n    }\n\n    .dataframe thead th {\n        text-align: right;\n    }\n</style>\n<table border=\"1\" class=\"dataframe\">\n  <thead>\n    <tr style=\"text-align: right;\">\n      <th></th>\n      <th>Unnamed: 0</th>\n      <th>Name</th>\n      <th>Month</th>\n      <th>Average_Monthly_Players</th>\n      <th>Monthly_Gain_Loss</th>\n      <th>Monthly_Gain_Loss_percentage</th>\n      <th>Max_Players_per_Day</th>\n    </tr>\n  </thead>\n  <tbody>\n    <tr>\n      <th>34</th>\n      <td>34</td>\n      <td>payday 2</td>\n      <td>2020-05-30</td>\n      <td>10069419</td>\n      <td>1003978</td>\n      <td>11.00</td>\n      <td>1342589.0</td>\n    </tr>\n    <tr>\n      <th>35</th>\n      <td>35</td>\n      <td>payday 2</td>\n      <td>2020-04-30</td>\n      <td>9065441</td>\n      <td>-1478580</td>\n      <td>-14.00</td>\n      <td>1208725.0</td>\n    </tr>\n    <tr>\n      <th>36</th>\n      <td>36</td>\n      <td>payday 2</td>\n      <td>2020-03-30</td>\n      <td>10544021</td>\n      <td>1038481</td>\n      <td>10.00</td>\n      <td>1405869.0</td>\n    </tr>\n    <tr>\n      <th>71</th>\n      <td>71</td>\n      <td>lost ark</td>\n      <td>2020-05-30</td>\n      <td>387379</td>\n      <td>-56450</td>\n      <td>-13.00</td>\n      <td>774758.0</td>\n    </tr>\n    <tr>\n      <th>72</th>\n      <td>72</td>\n      <td>lost ark</td>\n      <td>2020-04-30</td>\n      <td>443829</td>\n      <td>135</td>\n      <td>0.00</td>\n      <td>887658.0</td>\n    </tr>\n    <tr>\n      <th>73</th>\n      <td>73</td>\n      <td>lost ark</td>\n      <td>2020-03-30</td>\n      <td>443694</td>\n      <td>13853</td>\n      <td>3.00</td>\n      <td>887388.0</td>\n    </tr>\n    <tr>\n      <th>101</th>\n      <td>101</td>\n      <td>splitgate</td>\n      <td>2020-05-30</td>\n      <td>784035</td>\n      <td>10016</td>\n      <td>1.29</td>\n      <td>78404.0</td>\n    </tr>\n    <tr>\n      <th>102</th>\n      <td>102</td>\n      <td>splitgate</td>\n      <td>2020-04-30</td>\n      <td>774020</td>\n      <td>-33547</td>\n      <td>-4.15</td>\n      <td>77402.0</td>\n    </tr>\n    <tr>\n      <th>103</th>\n      <td>103</td>\n      <td>splitgate</td>\n      <td>2020-03-30</td>\n      <td>807566</td>\n      <td>9446</td>\n      <td>1.18</td>\n      <td>80757.0</td>\n    </tr>\n    <tr>\n      <th>134</th>\n      <td>134</td>\n      <td>rust</td>\n      <td>2020-05-30</td>\n      <td>11828098</td>\n      <td>-531297</td>\n      <td>-4.30</td>\n      <td>788540.0</td>\n    </tr>\n    <tr>\n      <th>135</th>\n      <td>135</td>\n      <td>rust</td>\n      <td>2020-04-30</td>\n      <td>12359395</td>\n      <td>-557863</td>\n      <td>-4.32</td>\n      <td>823960.0</td>\n    </tr>\n    <tr>\n      <th>136</th>\n      <td>136</td>\n      <td>rust</td>\n      <td>2020-03-30</td>\n      <td>12917258</td>\n      <td>1645695</td>\n      <td>14.60</td>\n      <td>861151.0</td>\n    </tr>\n    <tr>\n      <th>164</th>\n      <td>164</td>\n      <td>yu gi oh master duel</td>\n      <td>2020-05-30</td>\n      <td>8948171</td>\n      <td>-447409</td>\n      <td>-5.00</td>\n      <td>1193089.0</td>\n    </tr>\n    <tr>\n      <th>165</th>\n      <td>165</td>\n      <td>yu gi oh master duel</td>\n      <td>2020-04-30</td>\n      <td>9395580</td>\n      <td>-469779</td>\n      <td>-5.00</td>\n      <td>1252744.0</td>\n    </tr>\n    <tr>\n      <th>166</th>\n      <td>166</td>\n      <td>yu gi oh master duel</td>\n      <td>2020-03-30</td>\n      <td>9865359</td>\n      <td>1385848</td>\n      <td>16.00</td>\n      <td>1315381.0</td>\n    </tr>\n    <tr>\n      <th>214</th>\n      <td>214</td>\n      <td>team fortress 2 2</td>\n      <td>2020-05-30</td>\n      <td>206087</td>\n      <td>-405</td>\n      <td>-0.59</td>\n      <td>68696.0</td>\n    </tr>\n    <tr>\n      <th>215</th>\n      <td>215</td>\n      <td>team fortress 2 2</td>\n      <td>2020-04-30</td>\n      <td>207303</td>\n      <td>-1054</td>\n      <td>-1.50</td>\n      <td>69101.0</td>\n    </tr>\n    <tr>\n      <th>216</th>\n      <td>216</td>\n      <td>team fortress 2 2</td>\n      <td>2020-03-30</td>\n      <td>210468</td>\n      <td>7503</td>\n      <td>11.98</td>\n      <td>70156.0</td>\n    </tr>\n  </tbody>\n</table>\n</div>"
     },
     "execution_count": 230,
     "metadata": {},
     "output_type": "execute_result"
    }
   ],
   "source": [
    "game_player_count_df"
   ],
   "metadata": {
    "collapsed": false,
    "pycharm": {
     "name": "#%%\n"
    }
   }
  },
  {
   "cell_type": "markdown",
   "source": [
    "\n",
    "To make sure that no duplicates are in the DataSet we checked and removed all of those."
   ],
   "metadata": {
    "collapsed": false
   }
  },
  {
   "cell_type": "code",
   "execution_count": 231,
   "outputs": [
    {
     "name": "stdout",
     "output_type": "stream",
     "text": [
      "34     False\n",
      "35     False\n",
      "36     False\n",
      "71     False\n",
      "72     False\n",
      "73     False\n",
      "101    False\n",
      "102    False\n",
      "103    False\n",
      "134    False\n",
      "135    False\n",
      "136    False\n",
      "164    False\n",
      "165    False\n",
      "166    False\n",
      "214    False\n",
      "215    False\n",
      "216    False\n",
      "dtype: bool\n"
     ]
    }
   ],
   "source": [
    "print(game_player_count_df.duplicated())"
   ],
   "metadata": {
    "collapsed": false,
    "pycharm": {
     "name": "#%%\n"
    }
   }
  },
  {
   "cell_type": "code",
   "execution_count": 232,
   "outputs": [
    {
     "name": "stdout",
     "output_type": "stream",
     "text": [
      "(18, 7)\n"
     ]
    }
   ],
   "source": [
    "game_player_count_df.drop_duplicates(inplace=True)\n",
    "print(game_player_count_df.shape)"
   ],
   "metadata": {
    "collapsed": false,
    "pycharm": {
     "name": "#%%\n"
    }
   }
  },
  {
   "cell_type": "markdown",
   "source": [
    "Even after the Removal of duplicates and NA-Rows, we still have the same amount of Data present.\n",
    "\n",
    "Now that the DataFrame/DataSet we are using is cleaned and checked through , lets take a look at the Correlations of our Columns. To make sure, that we are able to do that , we have to check if all the Columns are really numerical values and no simple objects. If they are not, we have to change that."
   ],
   "metadata": {
    "collapsed": false
   }
  },
  {
   "cell_type": "code",
   "execution_count": 233,
   "outputs": [
    {
     "data": {
      "text/plain": "Unnamed: 0                               int64\nName                                    object\nMonth                           datetime64[ns]\nAverage_Monthly_Players                  int64\nMonthly_Gain_Loss                        int64\nMonthly_Gain_Loss_percentage           float64\nMax_Players_per_Day                    float64\ndtype: object"
     },
     "execution_count": 233,
     "metadata": {},
     "output_type": "execute_result"
    }
   ],
   "source": [
    "game_player_count_df.dtypes"
   ],
   "metadata": {
    "collapsed": false,
    "pycharm": {
     "name": "#%%\n"
    }
   }
  },
  {
   "cell_type": "code",
   "execution_count": 234,
   "outputs": [
    {
     "data": {
      "text/plain": "                              Unnamed: 0  Average_Monthly_Players  \\\nUnnamed: 0                      1.000000                -0.146654   \nAverage_Monthly_Players        -0.146654                 1.000000   \nMonthly_Gain_Loss              -0.015906                 0.182985   \nMonthly_Gain_Loss_percentage    0.139877                 0.180713   \nMax_Players_per_Day            -0.456576                 0.730090   \n\n                              Monthly_Gain_Loss  Monthly_Gain_Loss_percentage  \\\nUnnamed: 0                            -0.015906                      0.139877   \nAverage_Monthly_Players                0.182985                      0.180713   \nMonthly_Gain_Loss                      1.000000                      0.860949   \nMonthly_Gain_Loss_percentage           0.860949                      1.000000   \nMax_Players_per_Day                    0.164873                      0.089805   \n\n                              Max_Players_per_Day  \nUnnamed: 0                              -0.456576  \nAverage_Monthly_Players                  0.730090  \nMonthly_Gain_Loss                        0.164873  \nMonthly_Gain_Loss_percentage             0.089805  \nMax_Players_per_Day                      1.000000  ",
      "text/html": "<div>\n<style scoped>\n    .dataframe tbody tr th:only-of-type {\n        vertical-align: middle;\n    }\n\n    .dataframe tbody tr th {\n        vertical-align: top;\n    }\n\n    .dataframe thead th {\n        text-align: right;\n    }\n</style>\n<table border=\"1\" class=\"dataframe\">\n  <thead>\n    <tr style=\"text-align: right;\">\n      <th></th>\n      <th>Unnamed: 0</th>\n      <th>Average_Monthly_Players</th>\n      <th>Monthly_Gain_Loss</th>\n      <th>Monthly_Gain_Loss_percentage</th>\n      <th>Max_Players_per_Day</th>\n    </tr>\n  </thead>\n  <tbody>\n    <tr>\n      <th>Unnamed: 0</th>\n      <td>1.000000</td>\n      <td>-0.146654</td>\n      <td>-0.015906</td>\n      <td>0.139877</td>\n      <td>-0.456576</td>\n    </tr>\n    <tr>\n      <th>Average_Monthly_Players</th>\n      <td>-0.146654</td>\n      <td>1.000000</td>\n      <td>0.182985</td>\n      <td>0.180713</td>\n      <td>0.730090</td>\n    </tr>\n    <tr>\n      <th>Monthly_Gain_Loss</th>\n      <td>-0.015906</td>\n      <td>0.182985</td>\n      <td>1.000000</td>\n      <td>0.860949</td>\n      <td>0.164873</td>\n    </tr>\n    <tr>\n      <th>Monthly_Gain_Loss_percentage</th>\n      <td>0.139877</td>\n      <td>0.180713</td>\n      <td>0.860949</td>\n      <td>1.000000</td>\n      <td>0.089805</td>\n    </tr>\n    <tr>\n      <th>Max_Players_per_Day</th>\n      <td>-0.456576</td>\n      <td>0.730090</td>\n      <td>0.164873</td>\n      <td>0.089805</td>\n      <td>1.000000</td>\n    </tr>\n  </tbody>\n</table>\n</div>"
     },
     "execution_count": 234,
     "metadata": {},
     "output_type": "execute_result"
    }
   ],
   "source": [
    "game_player_count_df.corr(method ='pearson')"
   ],
   "metadata": {
    "collapsed": false,
    "pycharm": {
     "name": "#%%\n"
    }
   }
  },
  {
   "cell_type": "markdown",
   "source": [
    "In case of interpretation the correlation did not help us at all, since the correlation in our case is just a mathematical correlation."
   ],
   "metadata": {
    "collapsed": false,
    "pycharm": {
     "name": "#%% md\n"
    }
   }
  },
  {
   "cell_type": "code",
   "execution_count": null,
   "outputs": [],
   "source": [
    "fig = px.line(game_player_count_df, x=\"Month\", y=\"Monthly_Gain_Loss_percentage\", color='Name')\n",
    "fig.show()"
   ],
   "metadata": {
    "collapsed": false,
    "pycharm": {
     "name": "#%%\n"
    }
   }
  },
  {
   "cell_type": "code",
   "execution_count": null,
   "outputs": [],
   "source": [
    "fig = px.line(game_player_count_df, x=\"Month\", y=\"Max_Players_per_Day\", color='Name')\n",
    "fig.show()"
   ],
   "metadata": {
    "collapsed": false,
    "pycharm": {
     "name": "#%%\n"
    }
   }
  },
  {
   "cell_type": "markdown",
   "source": [
    "Now taking a deeper look at the Numbers from March till Mai of 2020, each game was influenced the following way: ( We will look t one game that would support our thesis and another game that declines it )\n",
    "\n",
    "- Payday 2\n",
    "PayDay 2 had the most players per day at the end of March 2020, in March the top Regulations in Europe were the closing and prohibiting all Entertainment Venues as well as the closing of all typed of Educational Institutions. In April we see a significant drop, since the game has dropped -15% , even though we have seen in the graph that the regulations did not change for april and most of Europe ( half of the Continent ) still closed Venues, banned Events as well as had Gyms and Restaurants closed. Now during Mai we can see that the amoount of Players in the game slightly increases again. This fact is really contradicting to our theory, since in May most of the Countries already opened up Pubs and restaurants as well as started to allow bigger Events and bigger Hang Outs/Festivals and more.\n",
    "\n",
    "So in the Case of PayDay 2 the Regulations on Entertainment and Hobbies, as well as the number of Covid 19 infections, did not influence the growth or loss in players per month. Looking at the Game itself though, one notices that the Popularity of this Game must have increased and or decreased during the Riots and Protests which were being held in the US during Mai 2020, since the game is about a crime spree taking place in Washington DC.\n",
    "\n",
    "- Lost Ark\n",
    "Lost Ark is not a game which could be influenced by any political Situation, since it does not involve real world aspects ( such as League of Legends ). Looking at Lost Ark we can see that the popularity was slightly dropping before and during March 2020, but during April 2020 the max numbers of Players per Day was really consistent. Why could that be ? Since the game is an open world MMO game players have the chance of exploring the world and playing their own stories, especially during April of 2020 this was not possible because all activities were prohibited, restricted or banned, therefore gamers started fleeing more and more into games and kept living in those worlds. In May of 2020, the same month in which regulations started losing up, the avg players per month dropped up to -13% (around 100 000 players)\n",
    "\n",
    "Now we see that not only the regulations influenced the games numbers of players, but also political aspects as well as the genre of game it is , now how is that going to look like for the game we are focused on: League of Legends."
   ],
   "metadata": {
    "collapsed": false,
    "pycharm": {
     "name": "#%% md\n"
    }
   }
  },
  {
   "cell_type": "markdown",
   "source": [
    "## LoL Data"
   ],
   "metadata": {
    "collapsed": false,
    "pycharm": {
     "name": "#%% md\n"
    }
   }
  },
  {
   "cell_type": "markdown",
   "source": [
    "Website with Monthly Player Count:\n",
    "    https://activeplayer.io/league-of-legends/"
   ],
   "metadata": {
    "collapsed": false,
    "pycharm": {
     "name": "#%% md\n"
    }
   }
  },
  {
   "cell_type": "markdown",
   "source": [
    "Tutorial Web Scraping:\n",
    "https://www.edureka.co/blog/web-scraping-with-python/#steps"
   ],
   "metadata": {
    "collapsed": false,
    "pycharm": {
     "name": "#%% md\n"
    }
   }
  },
  {
   "cell_type": "code",
   "execution_count": null,
   "outputs": [],
   "source": [
    "from bs4 import BeautifulSoup\n",
    "import pandas as pd\n",
    "from urllib.request import Request, urlopen"
   ],
   "metadata": {
    "collapsed": false,
    "pycharm": {
     "name": "#%%\n"
    }
   }
  },
  {
   "cell_type": "code",
   "execution_count": null,
   "outputs": [],
   "source": [
    "url = \"https://activeplayer.io/league-of-legends/\"\n",
    "request_site = Request(url, headers={\"User-Agent\": \"Mozilla/5.0\"})\n",
    "page = urlopen(request_site).read()\n",
    "soup = BeautifulSoup(page, \"html.parser\")"
   ],
   "metadata": {
    "collapsed": false,
    "pycharm": {
     "name": "#%%\n"
    }
   }
  },
  {
   "cell_type": "code",
   "execution_count": null,
   "outputs": [],
   "source": [
    "months=[] #list to store month of an entry\n",
    "avg_monthly_players=[] #list to store average monthly players\n",
    "monthly_gain_or_loss=[] #list to store monthly gain/loss\n",
    "peak_players_day = [] #list to store peak players in a day"
   ],
   "metadata": {
    "collapsed": false,
    "pycharm": {
     "name": "#%%\n"
    }
   }
  },
  {
   "cell_type": "code",
   "execution_count": null,
   "outputs": [],
   "source": [
    "table=soup.find('table', attrs={'id':'table_2'})\n",
    "tbody = table.find('tbody')\n",
    "trs = tbody.find_all('tr')\n",
    "\n",
    "for a in trs:\n",
    "    tds = a.findAll('td')\n",
    "\n",
    "    month=tds[0]\n",
    "    avg_players=tds[1]\n",
    "    gain_or_loss=tds[2]\n",
    "    peak_players=tds[4] #4 because one column of the page is not used\n",
    "    months.append(month.text)\n",
    "    avg_monthly_players.append(avg_players.text)\n",
    "    monthly_gain_or_loss.append(gain_or_loss.text)\n",
    "    peak_players_day.append(peak_players.text)"
   ],
   "metadata": {
    "collapsed": false,
    "pycharm": {
     "name": "#%%\n"
    }
   }
  },
  {
   "cell_type": "code",
   "execution_count": null,
   "outputs": [],
   "source": [
    "print(months)"
   ],
   "metadata": {
    "collapsed": false,
    "pycharm": {
     "name": "#%%\n"
    }
   }
  },
  {
   "cell_type": "code",
   "execution_count": null,
   "outputs": [],
   "source": [
    "print(avg_monthly_players)"
   ],
   "metadata": {
    "collapsed": false,
    "pycharm": {
     "name": "#%%\n"
    }
   }
  },
  {
   "cell_type": "code",
   "execution_count": null,
   "outputs": [],
   "source": [
    "df = pd.DataFrame({'Month':months,'average monthly players':avg_monthly_players,'monthly gain/loss':monthly_gain_or_loss, 'peak players in a day':peak_players_day})"
   ],
   "metadata": {
    "collapsed": false,
    "pycharm": {
     "name": "#%%\n"
    }
   }
  },
  {
   "cell_type": "code",
   "execution_count": null,
   "outputs": [],
   "source": [
    "df.head()"
   ],
   "metadata": {
    "collapsed": false,
    "pycharm": {
     "name": "#%%\n"
    }
   }
  },
  {
   "cell_type": "code",
   "execution_count": null,
   "outputs": [],
   "source": [
    "df.describe()"
   ],
   "metadata": {
    "collapsed": false,
    "pycharm": {
     "name": "#%%\n"
    }
   }
  },
  {
   "cell_type": "code",
   "execution_count": null,
   "outputs": [],
   "source": [
    "df"
   ],
   "metadata": {
    "collapsed": false,
    "pycharm": {
     "name": "#%%\n"
    }
   }
  },
  {
   "cell_type": "code",
   "execution_count": null,
   "outputs": [],
   "source": [
    "import calendar\n",
    "\n",
    "months = {month: index for index, month in enumerate(calendar.month_name) if month}\n",
    "months = months | {'Last':13}\n",
    "print(months.get('January'))\n",
    "# {'Jan': 1, 'Feb': 2, 'Mar': 3, 'Apr': 4, 'May': 5, 'Jun': 6, 'Jul': 7, 'Aug': 8, 'Sep': 9, 'Oct': 10, 'Nov': 11, 'Dec': 12}"
   ],
   "metadata": {
    "collapsed": false,
    "pycharm": {
     "name": "#%%\n"
    }
   }
  },
  {
   "cell_type": "code",
   "execution_count": null,
   "outputs": [],
   "source": [
    "df_date = df.copy()\n",
    "df_date[['Date','Day', 'Year']] = df_date.Month.str.split(expand=True)\n",
    "df_date['Date'] = df_date['Date'].replace(months)\n",
    "\n",
    "#replace \"Last 30 Days\" to current Month\n",
    "df_date['Date'] = df_date['Date'].replace(13, 11)\n",
    "df_date['Year'] = df_date['Year'].replace(\"Days\", 2022)\n",
    "\n",
    "#remove comma\n",
    "df_date['Day'].replace(',','', regex=True, inplace=True)\n",
    "df_date.head()"
   ],
   "metadata": {
    "collapsed": false,
    "pycharm": {
     "name": "#%%\n"
    }
   }
  },
  {
   "cell_type": "code",
   "execution_count": null,
   "outputs": [],
   "source": [
    "date_column = []\n",
    "for i in range(0,48):\n",
    "    date_column.append(datetime.datetime.strptime(str(df_date.Day[i]) + \" \" + str(df_date.Date[i]) + \" \" +  str(df_date.Year[i]), \"%d %m %Y\"))\n",
    "\n",
    "df_date['datetime'] = date_column\n",
    "df_date.head()"
   ],
   "metadata": {
    "collapsed": false,
    "pycharm": {
     "name": "#%%\n"
    }
   }
  },
  {
   "cell_type": "code",
   "execution_count": null,
   "outputs": [],
   "source": [
    "df_date.drop('Date', axis=1, inplace=True)\n",
    "df_date.drop('Day', axis=1, inplace=True)\n",
    "df_date.drop('Year', axis=1, inplace=True)\n",
    "df_date.head()"
   ],
   "metadata": {
    "collapsed": false,
    "pycharm": {
     "name": "#%%\n"
    }
   }
  },
  {
   "cell_type": "markdown",
   "source": [
    "## InfluxDB\n",
    "### Setting up the InfluxDB client"
   ],
   "metadata": {
    "collapsed": false,
    "pycharm": {
     "name": "#%% md\n"
    }
   }
  },
  {
   "cell_type": "code",
   "execution_count": null,
   "outputs": [],
   "source": [
    "#import the influxdb client\n",
    "import influxdb_client\n",
    "from influxdb_client.client.write_api import SYNCHRONOUS\n",
    "from influxdb import InfluxDBClient"
   ],
   "metadata": {
    "collapsed": false,
    "pycharm": {
     "name": "#%%\n"
    }
   }
  },
  {
   "cell_type": "code",
   "execution_count": null,
   "outputs": [],
   "source": [
    "# name of the bucket you previously defined\n",
    "bucket = \"Covid_Data\"\n",
    "\n",
    "# name of the organization you previously defined\n",
    "org = \"AI_Elite\"\n",
    "\n",
    "# you can access the token in the UI\n",
    "token = \"xKaMOhaUKcR4cl04CUy6KKlSqOgNFewK5zWNMJ-Jcc0inXSX238vsDLcBy5eRZHu4HQPNGA3RQb4Wl-DwTqrmQ==\"\n",
    "\n",
    "# url of running influx service\n",
    "url = \"http://localhost:8086\""
   ],
   "metadata": {
    "collapsed": false,
    "pycharm": {
     "name": "#%%\n"
    }
   }
  },
  {
   "cell_type": "code",
   "execution_count": null,
   "outputs": [],
   "source": [
    "# create client with appropriate values (url, token, org)\n",
    "client = influxdb_client.InfluxDBClient(\n",
    "    url = url,\n",
    "    token = token,\n",
    "    org = org\n",
    ")"
   ],
   "metadata": {
    "collapsed": false,
    "pycharm": {
     "name": "#%%\n"
    }
   }
  },
  {
   "cell_type": "markdown",
   "source": [
    "### Writing Data"
   ],
   "metadata": {
    "collapsed": false,
    "pycharm": {
     "name": "#%% md\n"
    }
   }
  },
  {
   "cell_type": "code",
   "execution_count": null,
   "outputs": [],
   "source": [
    "# instantiate a write client with\n",
    "write_api = client.write_api(write_options = SYNCHRONOUS)"
   ],
   "metadata": {
    "collapsed": false,
    "pycharm": {
     "name": "#%%\n"
    }
   }
  },
  {
   "cell_type": "markdown",
   "source": [
    "# Overall Conclusion and Answer to our Question"
   ],
   "metadata": {
    "collapsed": false,
    "pycharm": {
     "name": "#%% md\n"
    }
   }
  },
  {
   "cell_type": "code",
   "execution_count": null,
   "outputs": [],
   "source": [
    "# create a data point\n",
    "p = influxdb_client.Point(\"demo_measurement\").tag(\"location\", \"Vienna\").field(\"temperature\", 15.3)\n",
    "\n",
    "# write it to the bucket\n",
    "write_api.write(bucket=bucket, org=org, record=p)"
   ],
   "metadata": {
    "collapsed": false,
    "pycharm": {
     "name": "#%%\n"
    }
   }
  }
 ],
 "metadata": {
  "kernelspec": {
   "display_name": "Python 3",
   "language": "python",
   "name": "python3"
  },
  "language_info": {
   "codemirror_mode": {
    "name": "ipython",
    "version": 2
   },
   "file_extension": ".py",
   "mimetype": "text/x-python",
   "name": "python",
   "nbconvert_exporter": "python",
   "pygments_lexer": "ipython2",
   "version": "2.7.6"
  }
 },
 "nbformat": 4,
 "nbformat_minor": 0
}